{
 "cells": [
  {
   "cell_type": "markdown",
   "metadata": {},
   "source": [
    "checking the distribution of fact/facts and how many different ways you can write it, and whether its meaningful to add them to the collocation analysis; plots below.\n",
    "\n",
    "fix/streamline this later"
   ]
  },
  {
   "cell_type": "code",
   "execution_count": 1,
   "metadata": {},
   "outputs": [
    {
     "name": "stdout",
     "output_type": "stream",
     "text": [
      "\n",
      "Variant Summary:\n",
      "--------------------------------------------------\n",
      "\n",
      "Variant: ſact\n",
      "Total occurrences: 9\n",
      "\n",
      "Variant: ſacts\n",
      "Total occurrences: 2\n",
      "\n",
      "Variant: ſacſ\n",
      "Total occurrences: 156\n",
      "\n",
      "Yearly Distribution:\n",
      "--------------------------------------------------\n",
      "1668: ſacſ: 1\n",
      "1784: ſacſ: 1\n",
      "1796: ſact: 1\n",
      "1809: ſacts: 1\n",
      "1810: ſacſ: 10\n",
      "1817: ſacſ: 1\n",
      "1821: ſacſ: 1\n",
      "1830: ſacſ: 2\n",
      "1834: ſacſ: 5\n",
      "1835: ſact: 1\n",
      "1836: ſacſ: 6\n",
      "1837: ſacſ: 2\n",
      "1838: ſacſ: 1\n",
      "1839: ſacſ: 3\n",
      "1841: ſacſ: 9\n",
      "1842: ſacſ: 8\n",
      "1846: ſacſ: 18\n",
      "1848: ſacſ: 18\n",
      "1849: ſacſ: 9\n",
      "1851: ſacſ: 3\n",
      "1852: ſacſ: 3\n",
      "1853: ſacſ: 14\n",
      "1855: ſacſ: 1\n",
      "1857: ſacſ: 2\n",
      "1858: ſacſ: 6\n",
      "1859: ſacſ: 1\n",
      "1860: ſacſ: 1\n",
      "1861: ſacſ: 4, ſact: 1\n",
      "1862: ſacſ: 3\n",
      "1866: ſacſ: 3\n",
      "1867: ſacſ: 9\n",
      "1868: ſact: 2\n",
      "1869: ſacſ: 4\n",
      "1871: ſacſ: 23\n",
      "1873: ſacſ: 14\n",
      "1874: ſacſ: 39\n",
      "1875: ſacſ: 12, ſact: 1\n",
      "1876: ſacſ: 24\n",
      "1877: ſacſ: 15, ſact: 1\n",
      "1879: ſacſ: 15\n",
      "1881: ſacſ: 17, ſact: 1\n",
      "1882: ſacſ: 23\n",
      "1883: ſacts: 1, ſacſ: 3\n",
      "1887: ſacſ: 4\n",
      "1888: ſacſ: 14\n",
      "1891: ſacſ: 1\n",
      "1892: ſacſ: 1\n",
      "1893: ſacſ: 26\n",
      "1894: ſacſ: 9, ſact: 1\n",
      "1895: ſacſ: 33\n",
      "1897: ſacſ: 15\n",
      "1898: ſacſ: 5\n",
      "1899: ſacſ: 5\n",
      "1900: ſacſ: 1\n",
      "1901: ſacſ: 8\n",
      "1902: ſacſ: 1\n",
      "1903: ſacſ: 22\n",
      "1904: ſacſ: 3\n",
      "1905: ſacſ: 4\n",
      "1906: ſacſ: 11\n",
      "1908: ſacſ: 3\n",
      "1909: ſacſ: 5\n",
      "1912: ſacſ: 2\n",
      "1913: ſacſ: 6\n",
      "1914: ſacſ: 20\n",
      "1916: ſacſ: 2\n",
      "1919: ſacſ: 1\n",
      "1920: ſacſ: 1\n",
      "1921: ſacſ: 1\n",
      "1924: ſacſ: 14\n",
      "1925: ſacſ: 14\n",
      "1926: ſacſ: 9\n",
      "1927: ſacſ: 2\n",
      "1928: ſacſ: 77\n",
      "1929: ſacſ: 2\n",
      "1930: ſacſ: 8\n",
      "1931: ſacſ: 2\n",
      "1932: ſacſ: 26\n",
      "1933: ſacſ: 1\n",
      "1934: ſacſ: 12\n",
      "1935: ſacſ: 22\n",
      "1936: ſacſ: 16\n",
      "1937: ſacſ: 12\n",
      "1939: ſacſ: 1\n",
      "1940: ſacſ: 3\n",
      "1941: ſacſ: 6\n",
      "1944: ſacſ: 6\n",
      "1948: ſacſ: 1\n",
      "1949: ſacſ: 20\n",
      "1950: ſacſ: 7\n",
      "1951: ſacſ: 9\n",
      "1952: ſacſ: 8\n"
     ]
    }
   ],
   "source": [
    "import os\n",
    "import re\n",
    "from collections import defaultdict\n",
    "from nltk.tokenize import word_tokenize\n",
    "\n",
    "def extract_year(filename):\n",
    "    \"\"\"Extract year from the filename.\"\"\"\n",
    "    match = re.search(r'rst[bla]?_(\\d{4})', filename)\n",
    "    return int(match.group(1)) if match else None\n",
    "\n",
    "def find_fact_variants_with_tokens(directories, start_year=1665, end_year=1958):\n",
    "    \"\"\"Find occurrences of long-s variants in tokenized text.\"\"\"\n",
    "    findings = {}\n",
    "    yearly_counts = defaultdict(lambda: defaultdict(int))\n",
    "    \n",
    "    # Patterns to match against tokenized text\n",
    "    patterns = {\n",
    "        'ſact': re.compile(r'^ſact(?:\\'s)?$', re.IGNORECASE),\n",
    "        'ſacts': re.compile(r'^ſacts(?:\\')?$', re.IGNORECASE),\n",
    "        'ſacſ': re.compile(r'^ſacſ(?:\\'s)?$', re.IGNORECASE),  # Include the 'ſacſ' pattern\n",
    "    }\n",
    "    \n",
    "    for directory in directories:\n",
    "        if not os.path.exists(directory):\n",
    "            print(f\"Warning: Directory not found: {directory}\")\n",
    "            continue\n",
    "        \n",
    "        for filename in os.listdir(directory):\n",
    "            if not filename.endswith('.txt'):\n",
    "                continue\n",
    "                \n",
    "            year = extract_year(filename)\n",
    "            if not year or year < start_year or year > end_year:\n",
    "                continue\n",
    "                \n",
    "            file_path = os.path.join(directory, filename)\n",
    "            try:\n",
    "                with open(file_path, 'r', encoding='utf-8') as file:\n",
    "                    text = file.read()\n",
    "                    tokens = word_tokenize(text)  # Tokenize the text\n",
    "                    \n",
    "                    for variant, pattern in patterns.items():\n",
    "                        matches = [token for token in tokens if pattern.match(token)]\n",
    "                        if matches:\n",
    "                            if variant not in findings:\n",
    "                                findings[variant] = []\n",
    "                            findings[variant].append((year, filename))\n",
    "                            yearly_counts[year][variant] += len(matches)\n",
    "                            \n",
    "            except Exception as e:\n",
    "                print(f\"Error processing {file_path}: {str(e)}\")\n",
    "    \n",
    "    return findings, yearly_counts\n",
    "\n",
    "def main():\n",
    "    text_directories = [\n",
    "        r\"D:\\Fact_fiction_corpus\\texts\\royal society\\txt_rstb\",\n",
    "        r\"D:\\Fact_fiction_corpus\\texts\\royal society\\txt_rstl\",\n",
    "        r\"D:\\Fact_fiction_corpus\\texts\\royal society\\txt_rsta\"\n",
    "    ]\n",
    "    \n",
    "    findings, yearly_counts = find_fact_variants_with_tokens(text_directories)\n",
    "    \n",
    "    if not findings:\n",
    "        print(\"No long-s variants found.\")\n",
    "        return\n",
    "        \n",
    "    print(\"\\nVariant Summary:\")\n",
    "    print(\"-\" * 50)\n",
    "    for variant in sorted(findings.keys()):\n",
    "        print(f\"\\nVariant: {variant}\")\n",
    "        print(f\"Total occurrences: {len(findings[variant])}\")\n",
    "    \n",
    "    print(\"\\nYearly Distribution:\")\n",
    "    print(\"-\" * 50)\n",
    "    for year in sorted(yearly_counts.keys()):\n",
    "        counts = yearly_counts[year]\n",
    "        variants_str = \", \".join(f\"{v}: {c}\" for v, c in counts.items())\n",
    "        print(f\"{year}: {variants_str}\")\n",
    "\n",
    "if __name__ == \"__main__\":\n",
    "    main()\n"
   ]
  },
  {
   "cell_type": "code",
   "execution_count": 3,
   "metadata": {},
   "outputs": [
    {
     "name": "stdout",
     "output_type": "stream",
     "text": [
      "\n",
      "Findings by Category:\n",
      "============================================================\n",
      "\n",
      "FACT VARIANTS:\n",
      "------------------------------------------------------------\n",
      "\n",
      "Total occurrences of fact: 18978\n",
      "\n",
      "Distribution by pattern:\n",
      "  fact(?:\\'s)?$: 18969 occurrences\n",
      "  ^ſact(?:\\'s)?$: 9 occurrences\n",
      "\n",
      "FACTS VARIANTS:\n",
      "------------------------------------------------------------\n",
      "\n",
      "Total occurrences of facts: 6441\n",
      "\n",
      "Distribution by pattern:\n",
      "  ^facts(?:\\')?$: 5619 occurrences\n",
      "  ^ſacſ(?:\\')?$: 816 occurrences\n",
      "  ^facſ(?:\\')?$: 4 occurrences\n",
      "  ^ſacts(?:\\')?$: 2 occurrences\n",
      "\n",
      "Yearly Distribution:\n",
      "============================================================\n",
      "1665: fact: 4, facts: 0\n",
      "1666: fact: 0, facts: 1\n",
      "1668: fact: 0, facts: 3\n",
      "1670: fact: 1, facts: 0\n",
      "1671: fact: 1, facts: 0\n",
      "1673: fact: 5, facts: 0\n",
      "1675: fact: 3, facts: 0\n",
      "1677: fact: 1, facts: 0\n",
      "1684: fact: 4, facts: 0\n",
      "1685: fact: 5, facts: 0\n",
      "1686: fact: 3, facts: 1\n",
      "1694: fact: 4, facts: 0\n",
      "1695: fact: 3, facts: 0\n",
      "1698: fact: 1, facts: 0\n",
      "1699: fact: 4, facts: 0\n",
      "1700: fact: 1, facts: 0\n",
      "1702: fact: 2, facts: 0\n",
      "1706: fact: 1, facts: 0\n",
      "1708: fact: 7, facts: 1\n",
      "1710: fact: 1, facts: 0\n",
      "1713: fact: 1, facts: 0\n",
      "1714: fact: 3, facts: 0\n",
      "1717: fact: 2, facts: 1\n",
      "1720: fact: 0, facts: 1\n",
      "1722: fact: 1, facts: 1\n",
      "1726: fact: 0, facts: 1\n",
      "1731: fact: 2, facts: 0\n",
      "1733: fact: 2, facts: 0\n",
      "1735: fact: 3, facts: 1\n",
      "1737: fact: 3, facts: 0\n",
      "1739: fact: 2, facts: 0\n",
      "1742: fact: 3, facts: 6\n",
      "1744: fact: 1, facts: 3\n",
      "1746: fact: 5, facts: 5\n",
      "1748: fact: 3, facts: 2\n",
      "1749: fact: 6, facts: 7\n",
      "1751: fact: 4, facts: 13\n",
      "1753: fact: 9, facts: 6\n",
      "1755: fact: 6, facts: 9\n",
      "1757: fact: 8, facts: 12\n",
      "1759: fact: 9, facts: 16\n",
      "1761: fact: 6, facts: 6\n",
      "1763: fact: 3, facts: 3\n",
      "1764: fact: 3, facts: 2\n",
      "1765: fact: 4, facts: 4\n",
      "1767: fact: 9, facts: 4\n",
      "1768: fact: 4, facts: 3\n",
      "1769: fact: 8, facts: 1\n",
      "1770: fact: 7, facts: 2\n",
      "1771: fact: 6, facts: 1\n",
      "1772: fact: 5, facts: 5\n",
      "1773: fact: 5, facts: 3\n",
      "1774: fact: 6, facts: 2\n",
      "1775: fact: 18, facts: 26\n",
      "1776: fact: 9, facts: 7\n",
      "1777: fact: 16, facts: 6\n",
      "1778: fact: 15, facts: 19\n",
      "1779: fact: 8, facts: 8\n",
      "1780: fact: 6, facts: 7\n",
      "1781: fact: 4, facts: 2\n",
      "1782: fact: 2, facts: 1\n",
      "1783: fact: 10, facts: 2\n",
      "1784: fact: 2, facts: 2\n",
      "1785: fact: 2, facts: 2\n",
      "1786: fact: 2, facts: 1\n",
      "1787: fact: 3, facts: 6\n",
      "1788: fact: 4, facts: 2\n",
      "1789: fact: 0, facts: 2\n",
      "1790: fact: 2, facts: 1\n",
      "1791: fact: 1, facts: 3\n",
      "1792: fact: 33, facts: 20\n",
      "1793: fact: 11, facts: 5\n",
      "1794: fact: 24, facts: 10\n",
      "1795: fact: 24, facts: 21\n",
      "1796: fact: 14, facts: 11\n",
      "1797: fact: 37, facts: 30\n",
      "1798: fact: 19, facts: 12\n",
      "1799: fact: 23, facts: 10\n",
      "1800: fact: 19, facts: 23\n",
      "1801: fact: 21, facts: 15\n",
      "1802: fact: 36, facts: 19\n",
      "1803: fact: 33, facts: 33\n",
      "1804: fact: 52, facts: 25\n",
      "1805: fact: 30, facts: 27\n",
      "1806: fact: 10, facts: 30\n",
      "1807: fact: 15, facts: 34\n",
      "1808: fact: 22, facts: 55\n",
      "1809: fact: 28, facts: 24\n",
      "1810: fact: 17, facts: 38\n",
      "1811: fact: 29, facts: 21\n",
      "1812: fact: 28, facts: 23\n",
      "1813: fact: 21, facts: 18\n",
      "1814: fact: 30, facts: 38\n",
      "1815: fact: 28, facts: 27\n",
      "1816: fact: 15, facts: 12\n",
      "1817: fact: 17, facts: 15\n",
      "1818: fact: 38, facts: 16\n",
      "1819: fact: 36, facts: 14\n",
      "1820: fact: 30, facts: 11\n",
      "1821: fact: 36, facts: 18\n",
      "1822: fact: 35, facts: 20\n",
      "1823: fact: 19, facts: 23\n",
      "1824: fact: 34, facts: 35\n",
      "1825: fact: 46, facts: 26\n",
      "1826: fact: 50, facts: 31\n",
      "1827: fact: 16, facts: 25\n",
      "1828: fact: 17, facts: 13\n",
      "1829: fact: 28, facts: 34\n",
      "1830: fact: 21, facts: 19\n",
      "1831: fact: 33, facts: 26\n",
      "1832: fact: 78, facts: 28\n",
      "1833: fact: 83, facts: 87\n",
      "1834: fact: 77, facts: 70\n",
      "1835: fact: 81, facts: 31\n",
      "1836: fact: 77, facts: 78\n",
      "1837: fact: 53, facts: 61\n",
      "1838: fact: 59, facts: 34\n",
      "1839: fact: 71, facts: 39\n",
      "1840: fact: 133, facts: 83\n",
      "1841: fact: 40, facts: 47\n",
      "1842: fact: 41, facts: 35\n",
      "1843: fact: 37, facts: 20\n",
      "1844: fact: 33, facts: 25\n",
      "1845: fact: 50, facts: 26\n",
      "1846: fact: 87, facts: 64\n",
      "1847: fact: 52, facts: 23\n",
      "1848: fact: 48, facts: 42\n",
      "1849: fact: 75, facts: 26\n",
      "1850: fact: 145, facts: 107\n",
      "1851: fact: 142, facts: 61\n",
      "1852: fact: 124, facts: 38\n",
      "1853: fact: 162, facts: 59\n",
      "1854: fact: 54, facts: 16\n",
      "1855: fact: 61, facts: 21\n",
      "1856: fact: 98, facts: 21\n",
      "1857: fact: 161, facts: 36\n",
      "1858: fact: 252, facts: 74\n",
      "1859: fact: 170, facts: 64\n",
      "1860: fact: 99, facts: 37\n",
      "1861: fact: 169, facts: 34\n",
      "1862: fact: 184, facts: 48\n",
      "1863: fact: 94, facts: 24\n",
      "1864: fact: 124, facts: 31\n",
      "1865: fact: 97, facts: 21\n",
      "1866: fact: 140, facts: 54\n",
      "1867: fact: 96, facts: 35\n",
      "1868: fact: 99, facts: 38\n",
      "1869: fact: 133, facts: 33\n",
      "1870: fact: 69, facts: 21\n",
      "1871: fact: 162, facts: 54\n",
      "1872: fact: 55, facts: 26\n",
      "1873: fact: 137, facts: 65\n",
      "1874: fact: 145, facts: 85\n",
      "1875: fact: 156, facts: 54\n",
      "1876: fact: 155, facts: 70\n",
      "1877: fact: 176, facts: 90\n",
      "1879: fact: 197, facts: 46\n",
      "1880: fact: 243, facts: 80\n",
      "1881: fact: 118, facts: 41\n",
      "1882: fact: 288, facts: 113\n",
      "1883: fact: 193, facts: 33\n",
      "1884: fact: 90, facts: 30\n",
      "1885: fact: 114, facts: 16\n",
      "1886: fact: 132, facts: 21\n",
      "1887: fact: 201, facts: 51\n",
      "1888: fact: 116, facts: 52\n",
      "1889: fact: 100, facts: 34\n",
      "1890: fact: 48, facts: 30\n",
      "1891: fact: 189, facts: 61\n",
      "1892: fact: 200, facts: 73\n",
      "1893: fact: 277, facts: 118\n",
      "1894: fact: 398, facts: 126\n",
      "1895: fact: 306, facts: 89\n",
      "1896: fact: 213, facts: 43\n",
      "1897: fact: 268, facts: 88\n",
      "1898: fact: 260, facts: 59\n",
      "1899: fact: 171, facts: 28\n",
      "1900: fact: 333, facts: 91\n",
      "1901: fact: 234, facts: 37\n",
      "1902: fact: 110, facts: 8\n",
      "1903: fact: 227, facts: 75\n",
      "1904: fact: 245, facts: 107\n",
      "1905: fact: 159, facts: 32\n",
      "1906: fact: 334, facts: 79\n",
      "1908: fact: 275, facts: 52\n",
      "1909: fact: 214, facts: 54\n",
      "1911: fact: 170, facts: 24\n",
      "1912: fact: 152, facts: 29\n",
      "1913: fact: 138, facts: 31\n",
      "1914: fact: 366, facts: 94\n",
      "1915: fact: 166, facts: 44\n",
      "1916: fact: 190, facts: 34\n",
      "1918: fact: 168, facts: 37\n",
      "1919: fact: 69, facts: 10\n",
      "1920: fact: 278, facts: 39\n",
      "1921: fact: 173, facts: 39\n",
      "1922: fact: 72, facts: 8\n",
      "1923: fact: 193, facts: 28\n",
      "1924: fact: 97, facts: 34\n",
      "1925: fact: 109, facts: 39\n",
      "1926: fact: 122, facts: 18\n",
      "1927: fact: 158, facts: 27\n",
      "1928: fact: 135, facts: 93\n",
      "1929: fact: 172, facts: 50\n",
      "1930: fact: 180, facts: 37\n",
      "1931: fact: 167, facts: 49\n",
      "1932: fact: 336, facts: 108\n",
      "1933: fact: 78, facts: 7\n",
      "1934: fact: 302, facts: 81\n",
      "1935: fact: 188, facts: 53\n",
      "1936: fact: 133, facts: 30\n",
      "1937: fact: 246, facts: 60\n",
      "1938: fact: 157, facts: 25\n",
      "1939: fact: 139, facts: 34\n",
      "1940: fact: 102, facts: 8\n",
      "1941: fact: 39, facts: 9\n",
      "1942: fact: 45, facts: 7\n",
      "1943: fact: 7, facts: 0\n",
      "1944: fact: 49, facts: 7\n",
      "1945: fact: 23, facts: 0\n",
      "1946: fact: 62, facts: 8\n",
      "1947: fact: 182, facts: 28\n",
      "1948: fact: 156, facts: 15\n",
      "1949: fact: 124, facts: 39\n",
      "1950: fact: 201, facts: 37\n",
      "1951: fact: 201, facts: 39\n",
      "1952: fact: 219, facts: 22\n",
      "1953: fact: 160, facts: 17\n",
      "1954: fact: 98, facts: 10\n"
     ]
    }
   ],
   "source": [
    "import os\n",
    "import re\n",
    "from collections import defaultdict\n",
    "from nltk.tokenize import word_tokenize\n",
    "\n",
    "def extract_year(filename):\n",
    "    \"\"\"Extract year from the filename.\"\"\"\n",
    "    match = re.search(r'rst[bla]?_(\\d{4})', filename)\n",
    "    return int(match.group(1)) if match else None\n",
    "\n",
    "def find_fact_variants_with_tokens(directories, start_year=1665, end_year=1958):\n",
    "    \"\"\"Find occurrences of 'fact' variants in tokenized text.\"\"\"\n",
    "    findings = {\n",
    "        'fact': [],\n",
    "        'facts': []\n",
    "    }\n",
    "    \n",
    "    yearly_counts = defaultdict(lambda: {'fact': 0, 'facts': 0})\n",
    "    \n",
    "    # Patterns for matching tokenized text\n",
    "    patterns = {\n",
    "        'fact': [\n",
    "            re.compile(r'fact(?:\\'s)?$', re.IGNORECASE),\n",
    "            re.compile(r'^ſact(?:\\'s)?$', re.IGNORECASE)  # Include the long-s variant 'ſact'\n",
    "        ],\n",
    "        'facts': [\n",
    "            re.compile(r'^facts(?:\\')?$', re.IGNORECASE),\n",
    "            re.compile(r'^facſ(?:\\')?$', re.IGNORECASE),\n",
    "            re.compile(r'^facſs(?:\\')?$', re.IGNORECASE),\n",
    "            re.compile(r'^ſacts(?:\\')?$', re.IGNORECASE),  # Include 'ſacts' in facts category but not in the analysis\n",
    "            re.compile(r'^ſacſ(?:\\')?$', re.IGNORECASE),\n",
    "            re.compile(r'^ſacſs(?:\\')?$', re.IGNORECASE)\n",
    "        ]\n",
    "    }\n",
    "    \n",
    "    for directory in directories:\n",
    "        if not os.path.exists(directory):\n",
    "            print(f\"Warning: Directory not found: {directory}\")\n",
    "            continue\n",
    "        \n",
    "        for filename in os.listdir(directory):\n",
    "            if not filename.endswith('.txt'):\n",
    "                continue\n",
    "                \n",
    "            year = extract_year(filename)\n",
    "            if not year or year < start_year or year > end_year:\n",
    "                continue\n",
    "                \n",
    "            file_path = os.path.join(directory, filename)\n",
    "            try:\n",
    "                with open(file_path, 'r', encoding='utf-8') as file:\n",
    "                    text = file.read()\n",
    "                    tokens = word_tokenize(text)  # Tokenize the text\n",
    "                    \n",
    "                    for category in ['fact', 'facts']:\n",
    "                        for pattern in patterns[category]:\n",
    "                            matches = [token for token in tokens if pattern.match(token)]\n",
    "                            if matches:\n",
    "                                findings[category].append((year, filename, len(matches), pattern.pattern))\n",
    "                                yearly_counts[year][category] += len(matches)\n",
    "                    \n",
    "            except Exception as e:\n",
    "                print(f\"Error processing {file_path}: {str(e)}\")\n",
    "    \n",
    "    return findings, yearly_counts\n",
    "\n",
    "def main():\n",
    "    text_directories = [\n",
    "        r\"D:\\Fact_fiction_corpus\\texts\\royal society\\txt_rstb\",\n",
    "        r\"D:\\Fact_fiction_corpus\\texts\\royal society\\txt_rstl\",\n",
    "        r\"D:\\Fact_fiction_corpus\\texts\\royal society\\txt_rsta\"\n",
    "    ]\n",
    "    \n",
    "    findings, yearly_counts = find_fact_variants_with_tokens(text_directories)\n",
    "    \n",
    "    print(\"\\nFindings by Category:\")\n",
    "    print(\"=\" * 60)\n",
    "    \n",
    "    for category in ['fact', 'facts']:\n",
    "        print(f\"\\n{category.upper()} VARIANTS:\")\n",
    "        print(\"-\" * 60)\n",
    "        \n",
    "        if not findings[category]:\n",
    "            print(f\"No {category} variants found.\")\n",
    "            continue\n",
    "            \n",
    "        sorted_findings = sorted(findings[category], key=lambda x: (x[0], x[1]))\n",
    "        total_occurrences = sum(item[2] for item in sorted_findings)\n",
    "        \n",
    "        pattern_counts = defaultdict(int)\n",
    "        for _, _, count, pattern in sorted_findings:\n",
    "            pattern_counts[pattern] += count\n",
    "        \n",
    "        print(f\"\\nTotal occurrences of {category}: {total_occurrences}\")\n",
    "        print(\"\\nDistribution by pattern:\")\n",
    "        for pattern, count in pattern_counts.items():\n",
    "            print(f\"  {pattern}: {count} occurrences\")\n",
    "    \n",
    "    print(\"\\nYearly Distribution:\")\n",
    "    print(\"=\" * 60)\n",
    "    for year in sorted(yearly_counts.keys()):\n",
    "        counts = yearly_counts[year]\n",
    "        print(f\"{year}: fact: {counts['fact']}, facts: {counts['facts']}\")\n",
    "\n",
    "if __name__ == \"__main__\":\n",
    "    main()\n"
   ]
  },
  {
   "cell_type": "markdown",
   "metadata": {},
   "source": [
    "some plots for the paper etc."
   ]
  },
  {
   "cell_type": "code",
   "execution_count": 4,
   "metadata": {},
   "outputs": [
    {
     "name": "stderr",
     "output_type": "stream",
     "text": [
      "100%|██████████| 18194/18194 [05:28<00:00, 55.44it/s]  \n"
     ]
    },
    {
     "data": {
      "application/vnd.plotly.v1+json": {
       "config": {
        "plotlyServerURL": "https://plot.ly"
       },
       "data": [
        {
         "hovertemplate": "%{y:,} tokens<extra></extra>",
         "marker": {
          "color": "green"
         },
         "name": "RSTL (1665-1886)",
         "type": "bar",
         "x": [
          1665,
          1666,
          1667,
          1668,
          1669,
          1670,
          1671,
          1672,
          1673,
          1674,
          1675,
          1676,
          1677,
          1678,
          1679,
          1680,
          1681,
          1682,
          1683,
          1684,
          1685,
          1686,
          1687,
          1688,
          1689,
          1690,
          1691,
          1692,
          1693,
          1694,
          1695,
          1696,
          1697,
          1698,
          1699,
          1700,
          1701,
          1702,
          1703,
          1704,
          1705,
          1706,
          1707,
          1708,
          1709,
          1710,
          1711,
          1712,
          1713,
          1714,
          1715,
          1716,
          1717,
          1718,
          1719,
          1720,
          1721,
          1722,
          1723,
          1724,
          1725,
          1726,
          1727,
          1728,
          1729,
          1730,
          1731,
          1732,
          1733,
          1734,
          1735,
          1736,
          1737,
          1738,
          1739,
          1740,
          1741,
          1742,
          1743,
          1744,
          1745,
          1746,
          1747,
          1748,
          1749,
          1750,
          1751,
          1752,
          1753,
          1754,
          1755,
          1756,
          1757,
          1758,
          1759,
          1760,
          1761,
          1762,
          1763,
          1764,
          1765,
          1766,
          1767,
          1768,
          1769,
          1770,
          1771,
          1772,
          1773,
          1774,
          1775,
          1776,
          1777,
          1778,
          1779,
          1780,
          1781,
          1782,
          1783,
          1784,
          1785,
          1786,
          1787,
          1788,
          1789,
          1790,
          1791,
          1792,
          1793,
          1794,
          1795,
          1796,
          1797,
          1798,
          1799,
          1800,
          1801,
          1802,
          1803,
          1804,
          1805,
          1806,
          1807,
          1808,
          1809,
          1810,
          1811,
          1812,
          1813,
          1814,
          1815,
          1816,
          1817,
          1818,
          1819,
          1820,
          1821,
          1822,
          1823,
          1824,
          1825,
          1826,
          1827,
          1828,
          1829,
          1830,
          1831,
          1832,
          1833,
          1834,
          1835,
          1836,
          1837,
          1838,
          1839,
          1840,
          1841,
          1842,
          1843,
          1844,
          1845,
          1846,
          1847,
          1848,
          1849,
          1850,
          1851,
          1852,
          1853,
          1854,
          1855,
          1856,
          1857,
          1858,
          1859,
          1860,
          1861,
          1862,
          1863,
          1864,
          1865,
          1866,
          1867,
          1868,
          1869,
          1870,
          1871,
          1872,
          1873,
          1874,
          1875,
          1876,
          1877,
          1878,
          1879,
          1880,
          1881,
          1882,
          1883,
          1884,
          1885,
          1886
         ],
         "y": [
          1365860,
          1284133,
          1297054,
          1432956,
          1287154,
          1159637,
          982154,
          825876,
          683118,
          730184,
          753061,
          785752,
          865023,
          729121,
          729121,
          729121,
          729121,
          729121,
          729121,
          740426,
          684413,
          810243,
          588836,
          588836,
          776137,
          956058,
          1222913,
          1222913,
          1427759,
          1247468,
          1415460,
          1112147,
          1233403,
          1233403,
          1223985,
          1044064,
          1004171,
          1004171,
          799325,
          909036,
          845899,
          845899,
          724643,
          928124,
          750241,
          750241,
          616504,
          616504,
          771834,
          662123,
          606396,
          606396,
          697878,
          625408,
          625408,
          783462,
          690237,
          844267,
          688937,
          841966,
          687606,
          820211,
          728729,
          772889,
          772889,
          911473,
          911473,
          757443,
          970894,
          817865,
          1070046,
          937441,
          1222561,
          1047390,
          1268594,
          1234146,
          1234146,
          1428285,
          1214834,
          1516244,
          1264063,
          1573271,
          1288151,
          1588388,
          1367184,
          1441116,
          1441116,
          1461648,
          1461648,
          1339080,
          1486582,
          1292523,
          1393902,
          1263333,
          1375073,
          1211174,
          1381253,
          1385926,
          1540501,
          1519474,
          1525626,
          1578078,
          1642193,
          1723227,
          1942896,
          1953114,
          1958527,
          1958579,
          1974468,
          2012983,
          2030432,
          2041620,
          2061419,
          1980208,
          1799459,
          1737490,
          1796934,
          1733384,
          1729518,
          1621260,
          1683659,
          1707417,
          1698485,
          1711527,
          1766748,
          1769472,
          1777137,
          1784799,
          1808204,
          1901238,
          1824884,
          1743767,
          1722450,
          1651441,
          1570934,
          1611318,
          1482916,
          1458304,
          1409350,
          1329911,
          1382834,
          1417169,
          1382540,
          1390932,
          1432137,
          1430530,
          1436643,
          1449402,
          1466424,
          1538195,
          1510426,
          1574886,
          1896604,
          1914103,
          1919995,
          1992956,
          2059698,
          2108992,
          2211155,
          2440247,
          2607564,
          2587076,
          2492524,
          2607760,
          2672018,
          2687215,
          2855391,
          2838933,
          2758010,
          2526172,
          2360665,
          2330047,
          2338299,
          2222907,
          2134132,
          2171803,
          2271898,
          2540059,
          2731329,
          2900989,
          2903326,
          2954098,
          3098577,
          3449371,
          3835341,
          4057056,
          3926178,
          3940518,
          4200127,
          4217703,
          4546122,
          4775215,
          4781820,
          4681937,
          4543267,
          4506862,
          4556258,
          4506594,
          4169820,
          4203771,
          4161030,
          4148156,
          4056011,
          4086277,
          3691023,
          3938846,
          4109142,
          4178430,
          4652545,
          4758644,
          4619936,
          4635808,
          4628814,
          4210378,
          4210378,
          3489443,
          2945304,
          2458688,
          1691157,
          1193179,
          859760,
          407778
         ]
        },
        {
         "hovertemplate": "%{y:,} tokens<extra></extra>",
         "marker": {
          "color": "blue"
         },
         "name": "RSTB (1887-1948)",
         "type": "bar",
         "x": [
          1878,
          1879,
          1880,
          1881,
          1882,
          1883,
          1884,
          1885,
          1886,
          1887,
          1888,
          1889,
          1890,
          1891,
          1892,
          1893,
          1894,
          1895,
          1896,
          1897,
          1898,
          1899,
          1900,
          1901,
          1902,
          1903,
          1904,
          1905,
          1906,
          1907,
          1908,
          1909,
          1910,
          1911,
          1912,
          1913,
          1914,
          1915,
          1916,
          1917,
          1918,
          1919,
          1920,
          1921,
          1922,
          1923,
          1924,
          1925,
          1926,
          1927,
          1928,
          1929,
          1930,
          1931,
          1932,
          1933,
          1934,
          1935,
          1936,
          1937,
          1938,
          1939,
          1940,
          1941,
          1942,
          1943,
          1944,
          1945,
          1946,
          1947,
          1948
         ],
         "y": [
          297408,
          601607,
          794485,
          907003,
          1233908,
          1463553,
          1904373,
          2439589,
          2891071,
          3096450,
          3071578,
          3085913,
          3033395,
          3148542,
          3099719,
          2870074,
          2578032,
          2256967,
          2013711,
          2086187,
          1813651,
          1715646,
          1859573,
          1631908,
          1571505,
          1769010,
          1820263,
          2112681,
          2162403,
          2162669,
          2162669,
          2164546,
          1880259,
          2158675,
          2204344,
          2006839,
          2059632,
          1762426,
          1749885,
          1708314,
          1956008,
          1964754,
          2227756,
          2233029,
          2438632,
          2982556,
          2729732,
          3047333,
          3146047,
          3163226,
          3446975,
          3412927,
          3358381,
          3165204,
          2806053,
          2374586,
          2374586,
          1939918,
          1595797,
          1575109,
          1332035,
          1264711,
          1244671,
          1491333,
          1716250,
          2013382,
          2178123,
          2218146,
          2218146,
          1985105,
          1696736
         ]
        },
        {
         "hovertemplate": "%{y:,} tokens<extra></extra>",
         "marker": {
          "color": "red"
         },
         "name": "RSTA (1887-1948)",
         "type": "bar",
         "x": [
          1878,
          1879,
          1880,
          1881,
          1882,
          1883,
          1884,
          1885,
          1886,
          1887,
          1888,
          1889,
          1890,
          1891,
          1892,
          1893,
          1894,
          1895,
          1896,
          1897,
          1898,
          1899,
          1900,
          1901,
          1902,
          1903,
          1904,
          1905,
          1906,
          1907,
          1908,
          1909,
          1910,
          1911,
          1912,
          1913,
          1914,
          1915,
          1916,
          1917,
          1918,
          1919,
          1920,
          1921,
          1922,
          1923,
          1924,
          1925,
          1926,
          1927,
          1928,
          1929,
          1930,
          1931,
          1932,
          1933,
          1934,
          1935,
          1936,
          1937,
          1938,
          1939,
          1940,
          1941,
          1942,
          1943,
          1944,
          1945,
          1946,
          1947,
          1948
         ],
         "y": [
          258144,
          279420,
          325108,
          325108,
          620346,
          989704,
          1502142,
          1972316,
          2412675,
          2766191,
          2891430,
          3106828,
          3316829,
          3865092,
          4131568,
          4233764,
          4261664,
          4229880,
          4024373,
          4159316,
          3775933,
          4088074,
          4045825,
          3497562,
          3143444,
          2907445,
          2587748,
          2590156,
          2577071,
          2325489,
          2325489,
          1987188,
          2064436,
          2299035,
          2299943,
          2250107,
          2217408,
          1963131,
          1741364,
          1699632,
          1933397,
          1942197,
          1884714,
          1885740,
          1677236,
          1730721,
          1799510,
          2121363,
          2445351,
          2509606,
          2432433,
          2459959,
          2438438,
          2378569,
          2402170,
          2186602,
          1952490,
          1509573,
          1248123,
          1073732,
          1035795,
          1194242,
          1184531,
          1315867,
          1623475,
          2004118,
          2282324,
          2435501,
          2372963,
          2287954,
          2169299
         ]
        }
       ],
       "layout": {
        "barmode": "stack",
        "font": {
         "family": "Arial, sans-serif"
        },
        "height": 600,
        "legend": {
         "font": {
          "size": 14,
          "weight": "bold"
         },
         "orientation": "h",
         "x": 0.5,
         "xanchor": "center",
         "y": 1.02,
         "yanchor": "bottom"
        },
        "margin": {
         "b": 50,
         "l": 50,
         "r": 50,
         "t": 100
        },
        "plot_bgcolor": "rgba(240,240,240,0.5)",
        "template": {
         "data": {
          "bar": [
           {
            "error_x": {
             "color": "#2a3f5f"
            },
            "error_y": {
             "color": "#2a3f5f"
            },
            "marker": {
             "line": {
              "color": "white",
              "width": 0.5
             },
             "pattern": {
              "fillmode": "overlay",
              "size": 10,
              "solidity": 0.2
             }
            },
            "type": "bar"
           }
          ],
          "barpolar": [
           {
            "marker": {
             "line": {
              "color": "white",
              "width": 0.5
             },
             "pattern": {
              "fillmode": "overlay",
              "size": 10,
              "solidity": 0.2
             }
            },
            "type": "barpolar"
           }
          ],
          "carpet": [
           {
            "aaxis": {
             "endlinecolor": "#2a3f5f",
             "gridcolor": "#C8D4E3",
             "linecolor": "#C8D4E3",
             "minorgridcolor": "#C8D4E3",
             "startlinecolor": "#2a3f5f"
            },
            "baxis": {
             "endlinecolor": "#2a3f5f",
             "gridcolor": "#C8D4E3",
             "linecolor": "#C8D4E3",
             "minorgridcolor": "#C8D4E3",
             "startlinecolor": "#2a3f5f"
            },
            "type": "carpet"
           }
          ],
          "choropleth": [
           {
            "colorbar": {
             "outlinewidth": 0,
             "ticks": ""
            },
            "type": "choropleth"
           }
          ],
          "contour": [
           {
            "colorbar": {
             "outlinewidth": 0,
             "ticks": ""
            },
            "colorscale": [
             [
              0,
              "#0d0887"
             ],
             [
              0.1111111111111111,
              "#46039f"
             ],
             [
              0.2222222222222222,
              "#7201a8"
             ],
             [
              0.3333333333333333,
              "#9c179e"
             ],
             [
              0.4444444444444444,
              "#bd3786"
             ],
             [
              0.5555555555555556,
              "#d8576b"
             ],
             [
              0.6666666666666666,
              "#ed7953"
             ],
             [
              0.7777777777777778,
              "#fb9f3a"
             ],
             [
              0.8888888888888888,
              "#fdca26"
             ],
             [
              1,
              "#f0f921"
             ]
            ],
            "type": "contour"
           }
          ],
          "contourcarpet": [
           {
            "colorbar": {
             "outlinewidth": 0,
             "ticks": ""
            },
            "type": "contourcarpet"
           }
          ],
          "heatmap": [
           {
            "colorbar": {
             "outlinewidth": 0,
             "ticks": ""
            },
            "colorscale": [
             [
              0,
              "#0d0887"
             ],
             [
              0.1111111111111111,
              "#46039f"
             ],
             [
              0.2222222222222222,
              "#7201a8"
             ],
             [
              0.3333333333333333,
              "#9c179e"
             ],
             [
              0.4444444444444444,
              "#bd3786"
             ],
             [
              0.5555555555555556,
              "#d8576b"
             ],
             [
              0.6666666666666666,
              "#ed7953"
             ],
             [
              0.7777777777777778,
              "#fb9f3a"
             ],
             [
              0.8888888888888888,
              "#fdca26"
             ],
             [
              1,
              "#f0f921"
             ]
            ],
            "type": "heatmap"
           }
          ],
          "heatmapgl": [
           {
            "colorbar": {
             "outlinewidth": 0,
             "ticks": ""
            },
            "colorscale": [
             [
              0,
              "#0d0887"
             ],
             [
              0.1111111111111111,
              "#46039f"
             ],
             [
              0.2222222222222222,
              "#7201a8"
             ],
             [
              0.3333333333333333,
              "#9c179e"
             ],
             [
              0.4444444444444444,
              "#bd3786"
             ],
             [
              0.5555555555555556,
              "#d8576b"
             ],
             [
              0.6666666666666666,
              "#ed7953"
             ],
             [
              0.7777777777777778,
              "#fb9f3a"
             ],
             [
              0.8888888888888888,
              "#fdca26"
             ],
             [
              1,
              "#f0f921"
             ]
            ],
            "type": "heatmapgl"
           }
          ],
          "histogram": [
           {
            "marker": {
             "pattern": {
              "fillmode": "overlay",
              "size": 10,
              "solidity": 0.2
             }
            },
            "type": "histogram"
           }
          ],
          "histogram2d": [
           {
            "colorbar": {
             "outlinewidth": 0,
             "ticks": ""
            },
            "colorscale": [
             [
              0,
              "#0d0887"
             ],
             [
              0.1111111111111111,
              "#46039f"
             ],
             [
              0.2222222222222222,
              "#7201a8"
             ],
             [
              0.3333333333333333,
              "#9c179e"
             ],
             [
              0.4444444444444444,
              "#bd3786"
             ],
             [
              0.5555555555555556,
              "#d8576b"
             ],
             [
              0.6666666666666666,
              "#ed7953"
             ],
             [
              0.7777777777777778,
              "#fb9f3a"
             ],
             [
              0.8888888888888888,
              "#fdca26"
             ],
             [
              1,
              "#f0f921"
             ]
            ],
            "type": "histogram2d"
           }
          ],
          "histogram2dcontour": [
           {
            "colorbar": {
             "outlinewidth": 0,
             "ticks": ""
            },
            "colorscale": [
             [
              0,
              "#0d0887"
             ],
             [
              0.1111111111111111,
              "#46039f"
             ],
             [
              0.2222222222222222,
              "#7201a8"
             ],
             [
              0.3333333333333333,
              "#9c179e"
             ],
             [
              0.4444444444444444,
              "#bd3786"
             ],
             [
              0.5555555555555556,
              "#d8576b"
             ],
             [
              0.6666666666666666,
              "#ed7953"
             ],
             [
              0.7777777777777778,
              "#fb9f3a"
             ],
             [
              0.8888888888888888,
              "#fdca26"
             ],
             [
              1,
              "#f0f921"
             ]
            ],
            "type": "histogram2dcontour"
           }
          ],
          "mesh3d": [
           {
            "colorbar": {
             "outlinewidth": 0,
             "ticks": ""
            },
            "type": "mesh3d"
           }
          ],
          "parcoords": [
           {
            "line": {
             "colorbar": {
              "outlinewidth": 0,
              "ticks": ""
             }
            },
            "type": "parcoords"
           }
          ],
          "pie": [
           {
            "automargin": true,
            "type": "pie"
           }
          ],
          "scatter": [
           {
            "fillpattern": {
             "fillmode": "overlay",
             "size": 10,
             "solidity": 0.2
            },
            "type": "scatter"
           }
          ],
          "scatter3d": [
           {
            "line": {
             "colorbar": {
              "outlinewidth": 0,
              "ticks": ""
             }
            },
            "marker": {
             "colorbar": {
              "outlinewidth": 0,
              "ticks": ""
             }
            },
            "type": "scatter3d"
           }
          ],
          "scattercarpet": [
           {
            "marker": {
             "colorbar": {
              "outlinewidth": 0,
              "ticks": ""
             }
            },
            "type": "scattercarpet"
           }
          ],
          "scattergeo": [
           {
            "marker": {
             "colorbar": {
              "outlinewidth": 0,
              "ticks": ""
             }
            },
            "type": "scattergeo"
           }
          ],
          "scattergl": [
           {
            "marker": {
             "colorbar": {
              "outlinewidth": 0,
              "ticks": ""
             }
            },
            "type": "scattergl"
           }
          ],
          "scattermapbox": [
           {
            "marker": {
             "colorbar": {
              "outlinewidth": 0,
              "ticks": ""
             }
            },
            "type": "scattermapbox"
           }
          ],
          "scatterpolar": [
           {
            "marker": {
             "colorbar": {
              "outlinewidth": 0,
              "ticks": ""
             }
            },
            "type": "scatterpolar"
           }
          ],
          "scatterpolargl": [
           {
            "marker": {
             "colorbar": {
              "outlinewidth": 0,
              "ticks": ""
             }
            },
            "type": "scatterpolargl"
           }
          ],
          "scatterternary": [
           {
            "marker": {
             "colorbar": {
              "outlinewidth": 0,
              "ticks": ""
             }
            },
            "type": "scatterternary"
           }
          ],
          "surface": [
           {
            "colorbar": {
             "outlinewidth": 0,
             "ticks": ""
            },
            "colorscale": [
             [
              0,
              "#0d0887"
             ],
             [
              0.1111111111111111,
              "#46039f"
             ],
             [
              0.2222222222222222,
              "#7201a8"
             ],
             [
              0.3333333333333333,
              "#9c179e"
             ],
             [
              0.4444444444444444,
              "#bd3786"
             ],
             [
              0.5555555555555556,
              "#d8576b"
             ],
             [
              0.6666666666666666,
              "#ed7953"
             ],
             [
              0.7777777777777778,
              "#fb9f3a"
             ],
             [
              0.8888888888888888,
              "#fdca26"
             ],
             [
              1,
              "#f0f921"
             ]
            ],
            "type": "surface"
           }
          ],
          "table": [
           {
            "cells": {
             "fill": {
              "color": "#EBF0F8"
             },
             "line": {
              "color": "white"
             }
            },
            "header": {
             "fill": {
              "color": "#C8D4E3"
             },
             "line": {
              "color": "white"
             }
            },
            "type": "table"
           }
          ]
         },
         "layout": {
          "annotationdefaults": {
           "arrowcolor": "#2a3f5f",
           "arrowhead": 0,
           "arrowwidth": 1
          },
          "autotypenumbers": "strict",
          "coloraxis": {
           "colorbar": {
            "outlinewidth": 0,
            "ticks": ""
           }
          },
          "colorscale": {
           "diverging": [
            [
             0,
             "#8e0152"
            ],
            [
             0.1,
             "#c51b7d"
            ],
            [
             0.2,
             "#de77ae"
            ],
            [
             0.3,
             "#f1b6da"
            ],
            [
             0.4,
             "#fde0ef"
            ],
            [
             0.5,
             "#f7f7f7"
            ],
            [
             0.6,
             "#e6f5d0"
            ],
            [
             0.7,
             "#b8e186"
            ],
            [
             0.8,
             "#7fbc41"
            ],
            [
             0.9,
             "#4d9221"
            ],
            [
             1,
             "#276419"
            ]
           ],
           "sequential": [
            [
             0,
             "#0d0887"
            ],
            [
             0.1111111111111111,
             "#46039f"
            ],
            [
             0.2222222222222222,
             "#7201a8"
            ],
            [
             0.3333333333333333,
             "#9c179e"
            ],
            [
             0.4444444444444444,
             "#bd3786"
            ],
            [
             0.5555555555555556,
             "#d8576b"
            ],
            [
             0.6666666666666666,
             "#ed7953"
            ],
            [
             0.7777777777777778,
             "#fb9f3a"
            ],
            [
             0.8888888888888888,
             "#fdca26"
            ],
            [
             1,
             "#f0f921"
            ]
           ],
           "sequentialminus": [
            [
             0,
             "#0d0887"
            ],
            [
             0.1111111111111111,
             "#46039f"
            ],
            [
             0.2222222222222222,
             "#7201a8"
            ],
            [
             0.3333333333333333,
             "#9c179e"
            ],
            [
             0.4444444444444444,
             "#bd3786"
            ],
            [
             0.5555555555555556,
             "#d8576b"
            ],
            [
             0.6666666666666666,
             "#ed7953"
            ],
            [
             0.7777777777777778,
             "#fb9f3a"
            ],
            [
             0.8888888888888888,
             "#fdca26"
            ],
            [
             1,
             "#f0f921"
            ]
           ]
          },
          "colorway": [
           "#636efa",
           "#EF553B",
           "#00cc96",
           "#ab63fa",
           "#FFA15A",
           "#19d3f3",
           "#FF6692",
           "#B6E880",
           "#FF97FF",
           "#FECB52"
          ],
          "font": {
           "color": "#2a3f5f"
          },
          "geo": {
           "bgcolor": "white",
           "lakecolor": "white",
           "landcolor": "white",
           "showlakes": true,
           "showland": true,
           "subunitcolor": "#C8D4E3"
          },
          "hoverlabel": {
           "align": "left"
          },
          "hovermode": "closest",
          "mapbox": {
           "style": "light"
          },
          "paper_bgcolor": "white",
          "plot_bgcolor": "white",
          "polar": {
           "angularaxis": {
            "gridcolor": "#EBF0F8",
            "linecolor": "#EBF0F8",
            "ticks": ""
           },
           "bgcolor": "white",
           "radialaxis": {
            "gridcolor": "#EBF0F8",
            "linecolor": "#EBF0F8",
            "ticks": ""
           }
          },
          "scene": {
           "xaxis": {
            "backgroundcolor": "white",
            "gridcolor": "#DFE8F3",
            "gridwidth": 2,
            "linecolor": "#EBF0F8",
            "showbackground": true,
            "ticks": "",
            "zerolinecolor": "#EBF0F8"
           },
           "yaxis": {
            "backgroundcolor": "white",
            "gridcolor": "#DFE8F3",
            "gridwidth": 2,
            "linecolor": "#EBF0F8",
            "showbackground": true,
            "ticks": "",
            "zerolinecolor": "#EBF0F8"
           },
           "zaxis": {
            "backgroundcolor": "white",
            "gridcolor": "#DFE8F3",
            "gridwidth": 2,
            "linecolor": "#EBF0F8",
            "showbackground": true,
            "ticks": "",
            "zerolinecolor": "#EBF0F8"
           }
          },
          "shapedefaults": {
           "line": {
            "color": "#2a3f5f"
           }
          },
          "ternary": {
           "aaxis": {
            "gridcolor": "#DFE8F3",
            "linecolor": "#A2B1C6",
            "ticks": ""
           },
           "baxis": {
            "gridcolor": "#DFE8F3",
            "linecolor": "#A2B1C6",
            "ticks": ""
           },
           "bgcolor": "white",
           "caxis": {
            "gridcolor": "#DFE8F3",
            "linecolor": "#A2B1C6",
            "ticks": ""
           }
          },
          "title": {
           "x": 0.05
          },
          "xaxis": {
           "automargin": true,
           "gridcolor": "#EBF0F8",
           "linecolor": "#EBF0F8",
           "ticks": "",
           "title": {
            "standoff": 15
           },
           "zerolinecolor": "#EBF0F8",
           "zerolinewidth": 2
          },
          "yaxis": {
           "automargin": true,
           "gridcolor": "#EBF0F8",
           "linecolor": "#EBF0F8",
           "ticks": "",
           "title": {
            "standoff": 15
           },
           "zerolinecolor": "#EBF0F8",
           "zerolinewidth": 2
          }
         }
        },
        "title": {
         "text": "<b>Total Tokens per 10-Year Window by Royal Society Publication Type (1665-1958)<b>"
        },
        "width": 1200,
        "xaxis": {
         "range": [
          1665,
          1948
         ],
         "tickfont": {
          "size": 12
         },
         "tickvals": [
          1665,
          1675,
          1685,
          1695,
          1705,
          1715,
          1725,
          1735,
          1745,
          1755,
          1765,
          1775,
          1785,
          1795,
          1805,
          1815,
          1825,
          1835,
          1845,
          1855,
          1865,
          1875,
          1885,
          1895,
          1905,
          1915,
          1925,
          1935,
          1945
         ],
         "title": {
          "text": "<b>Window Start Year<b>"
         }
        },
        "yaxis": {
         "tickfont": {
          "size": 12
         },
         "tickformat": "~s",
         "tickvals": [
          1000000,
          2000000,
          3000000,
          4000000,
          5000000,
          6000000,
          7000000
         ],
         "title": {
          "font": {
           "size": 14
          },
          "text": "<b>Total Tokens<b>"
         }
        }
       }
      }
     },
     "metadata": {},
     "output_type": "display_data"
    }
   ],
   "source": [
    "import pandas as pd\n",
    "import plotly.graph_objects as go\n",
    "from collections import defaultdict\n",
    "import os\n",
    "import re\n",
    "from tqdm import tqdm\n",
    "from nltk.tokenize import word_tokenize\n",
    "\n",
    "def count_tokens_in_file(file_path):\n",
    "    with open(file_path, 'r', encoding='utf-8') as f:\n",
    "        text = f.read()\n",
    "    return len(word_tokenize(text))\n",
    "\n",
    "def count_tokens_in_10_year_windows(text_dirs, start_year, end_year):\n",
    "    def extract_year_from_filename(filename):\n",
    "        match = re.search(r'rst[bla]?_?(\\d{4})', filename)\n",
    "        return int(match.group(1)) if match else None\n",
    "    \n",
    "    token_counts = {\n",
    "        'rsta': defaultdict(int),\n",
    "        'rstb': defaultdict(int),\n",
    "        'rstl': defaultdict(int)\n",
    "    }\n",
    "    \n",
    "    file_paths = []\n",
    "    for dir in text_dirs:\n",
    "        for f in os.listdir(dir):\n",
    "            if f.endswith('.txt'):\n",
    "                file_paths.append(os.path.join(dir, f))\n",
    "    \n",
    "    for file_path in tqdm(file_paths):\n",
    "        year = extract_year_from_filename(os.path.basename(file_path))\n",
    "        pub_type = os.path.basename(os.path.dirname(file_path))[-4:]\n",
    "        \n",
    "        if year and start_year <= year <= end_year:\n",
    "            token_count = count_tokens_in_file(file_path)\n",
    "            token_counts[pub_type][year] += token_count\n",
    "    \n",
    "    tokens_per_window = {\n",
    "        'rsta': defaultdict(int),\n",
    "        'rstb': defaultdict(int),\n",
    "        'rstl': defaultdict(int)\n",
    "    }\n",
    "    \n",
    "    for pub_type in ['rsta', 'rstb', 'rstl']:\n",
    "        if pub_type in ['rsta', 'rstb']:\n",
    "            start_year_filter = 1887\n",
    "        else:\n",
    "            start_year_filter = 1665\n",
    "        \n",
    "        for year in range(start_year, end_year - 9):\n",
    "            window_start = year\n",
    "            window_end = year + 9\n",
    "            total_tokens = sum(\n",
    "                token_counts[pub_type].get(y, 0) \n",
    "                for y in range(window_start, window_end + 1)\n",
    "                if (pub_type != 'rstl' and y >= 1887) or (pub_type == 'rstl' and y <= 1886)\n",
    "            )\n",
    "            tokens_per_window[pub_type][window_start] = total_tokens\n",
    "    \n",
    "    return tokens_per_window\n",
    "\n",
    "text_dirs = [\n",
    "    r\"D:\\Fact_fiction_corpus\\texts\\royal society\\txt_rstb\",\n",
    "    r\"D:\\Fact_fiction_corpus\\texts\\royal society\\txt_rstl\", \n",
    "    r\"D:\\Fact_fiction_corpus\\texts\\royal society\\txt_rsta\"\n",
    "]\n",
    "\n",
    "historical_token_counts = count_tokens_in_10_year_windows(\n",
    "    text_dirs,\n",
    "    start_year=1665,\n",
    "    end_year=1958\n",
    ")\n",
    "\n",
    "publication_types = {\n",
    "    'rsta': {'color': 'red', 'name': 'RSTA', 'order': 3},\n",
    "    'rstb': {'color': 'blue', 'name': 'RSTB', 'order': 2},\n",
    "    'rstl': {'color': 'green', 'name': 'RSTL', 'order': 1}\n",
    "}\n",
    "\n",
    "fig = go.Figure()\n",
    "\n",
    "all_windows = sorted(set().union(\n",
    "    historical_token_counts['rsta'].keys(),\n",
    "    historical_token_counts['rstb'].keys(),\n",
    "    historical_token_counts['rstl'].keys()\n",
    "))\n",
    "\n",
    "sorted_pub_types = sorted(publication_types.items(), key=lambda x: x[1]['order'])\n",
    "\n",
    "for pub_type, details in sorted_pub_types:\n",
    "    windows = [year for year in all_windows if historical_token_counts[pub_type].get(year, 0) > 0]\n",
    "    counts = [historical_token_counts[pub_type].get(year, 0) for year in windows]\n",
    "    \n",
    "    if windows:\n",
    "        first_year = windows[0]\n",
    "        last_year = windows[-1]\n",
    "        \n",
    "        if pub_type in ['rsta', 'rstb']:\n",
    "            first_year = max(first_year, 1887)\n",
    "        \n",
    "        fig.add_trace(go.Bar(\n",
    "            x=windows,\n",
    "            y=counts,\n",
    "            name=f'{details[\"name\"]} ({first_year}-{last_year})',\n",
    "            marker_color=details['color'],\n",
    "            hovertemplate='%{y:,} tokens<extra></extra>'\n",
    "        ))\n",
    "\n",
    "fig.update_xaxes(\n",
    "    range=[1665, 1948],\n",
    "    tickvals=list(range(1665, 1948, 10)), #year window starts\n",
    "    tickfont=dict(size=12),\n",
    "    title_font=dict(size=14),\n",
    "    title_text='<b>Window Start Year<b>'\n",
    ")\n",
    "\n",
    "fig.update_layout(\n",
    "    title='<b>Total Tokens per 10-Year Window by Royal Society Publication Type (1665-1958)<b>',\n",
    "    xaxis_title='<b>Window Start Year<b>',\n",
    "    yaxis_title='<b>Total Tokens<b>',\n",
    "    barmode='stack',\n",
    "    template='plotly_white',\n",
    "    width=1200,\n",
    "    height=600,\n",
    "    font=dict(family='Arial, sans-serif'),\n",
    "    legend=dict(\n",
    "        orientation='h',\n",
    "        yanchor='bottom',\n",
    "        y=1.02,\n",
    "        xanchor='center',\n",
    "        x=0.5,\n",
    "        font=dict(size=14, weight='bold')\n",
    "    ),\n",
    "    plot_bgcolor='rgba(240,240,240,0.5)',\n",
    "    margin=dict(t=100, b=50, l=50, r=50)\n",
    ")\n",
    "\n",
    "fig.update_yaxes(\n",
    "    tickformat=\"~s\",\n",
    "    tickfont=dict(size=12),\n",
    "    title_font=dict(size=14),\n",
    "    tickvals=[1_000_000, 2_000_000, 3_000_000, 4_000_000, 5_000_000, 6_000_000, 7_000_000],\n",
    ")\n",
    "\n",
    "fig.show()\n",
    "fig.write_html(\"C:/Users/Igiba/Documents/fact_fiction_project/extra_plots/royal_society_token_counts_cumulative_bar_plot.html\")\n"
   ]
  },
  {
   "cell_type": "code",
   "execution_count": 5,
   "metadata": {},
   "outputs": [
    {
     "name": "stdout",
     "output_type": "stream",
     "text": [
      "\n",
      "Processing files:\n",
      "--------------------------------------------------\n"
     ]
    },
    {
     "name": "stderr",
     "output_type": "stream",
     "text": [
      "Processing txt_rstb: 100%|██████████| 5284/5284 [01:17<00:00, 67.96it/s]\n"
     ]
    },
    {
     "name": "stdout",
     "output_type": "stream",
     "text": [
      "txt_rstb:\n",
      "  - Files processed: 628\n",
      "  - Token count: 15,719,527\n"
     ]
    },
    {
     "name": "stderr",
     "output_type": "stream",
     "text": [
      "Processing txt_rstl: 100%|██████████| 8520/8520 [03:23<00:00, 41.86it/s] \n"
     ]
    },
    {
     "name": "stdout",
     "output_type": "stream",
     "text": [
      "txt_rstl:\n",
      "  - Files processed: 8520\n",
      "  - Token count: 42,079,421\n"
     ]
    },
    {
     "name": "stderr",
     "output_type": "stream",
     "text": [
      "Processing txt_rsta: 100%|██████████| 4390/4390 [01:38<00:00, 44.70it/s]   "
     ]
    },
    {
     "name": "stdout",
     "output_type": "stream",
     "text": [
      "txt_rsta:\n",
      "  - Files processed: 864\n",
      "  - Token count: 16,772,168\n"
     ]
    },
    {
     "name": "stderr",
     "output_type": "stream",
     "text": [
      "\n"
     ]
    },
    {
     "data": {
      "application/vnd.plotly.v1+json": {
       "config": {
        "plotlyServerURL": "https://plot.ly"
       },
       "data": [
        {
         "hovertemplate": "<b>%{label}</b><br>Token count: %{value:,}<br>Percentage: %{percent}<br><extra></extra>",
         "labels": [
          "RSTB (15,719,527 tokens)",
          "RSTL (42,079,421 tokens)",
          "RSTA (16,772,168 tokens)"
         ],
         "marker": {
          "colors": [
           "blue",
           "green",
           "red"
          ]
         },
         "textinfo": "label+percent",
         "type": "pie",
         "values": [
          15719527,
          42079421,
          16772168
         ]
        }
       ],
       "layout": {
        "font": {
         "family": "Arial, sans-serif"
        },
        "height": 600,
        "margin": {
         "b": 50,
         "l": 50,
         "r": 50,
         "t": 100
        },
        "showlegend": true,
        "template": {
         "data": {
          "bar": [
           {
            "error_x": {
             "color": "#2a3f5f"
            },
            "error_y": {
             "color": "#2a3f5f"
            },
            "marker": {
             "line": {
              "color": "white",
              "width": 0.5
             },
             "pattern": {
              "fillmode": "overlay",
              "size": 10,
              "solidity": 0.2
             }
            },
            "type": "bar"
           }
          ],
          "barpolar": [
           {
            "marker": {
             "line": {
              "color": "white",
              "width": 0.5
             },
             "pattern": {
              "fillmode": "overlay",
              "size": 10,
              "solidity": 0.2
             }
            },
            "type": "barpolar"
           }
          ],
          "carpet": [
           {
            "aaxis": {
             "endlinecolor": "#2a3f5f",
             "gridcolor": "#C8D4E3",
             "linecolor": "#C8D4E3",
             "minorgridcolor": "#C8D4E3",
             "startlinecolor": "#2a3f5f"
            },
            "baxis": {
             "endlinecolor": "#2a3f5f",
             "gridcolor": "#C8D4E3",
             "linecolor": "#C8D4E3",
             "minorgridcolor": "#C8D4E3",
             "startlinecolor": "#2a3f5f"
            },
            "type": "carpet"
           }
          ],
          "choropleth": [
           {
            "colorbar": {
             "outlinewidth": 0,
             "ticks": ""
            },
            "type": "choropleth"
           }
          ],
          "contour": [
           {
            "colorbar": {
             "outlinewidth": 0,
             "ticks": ""
            },
            "colorscale": [
             [
              0,
              "#0d0887"
             ],
             [
              0.1111111111111111,
              "#46039f"
             ],
             [
              0.2222222222222222,
              "#7201a8"
             ],
             [
              0.3333333333333333,
              "#9c179e"
             ],
             [
              0.4444444444444444,
              "#bd3786"
             ],
             [
              0.5555555555555556,
              "#d8576b"
             ],
             [
              0.6666666666666666,
              "#ed7953"
             ],
             [
              0.7777777777777778,
              "#fb9f3a"
             ],
             [
              0.8888888888888888,
              "#fdca26"
             ],
             [
              1,
              "#f0f921"
             ]
            ],
            "type": "contour"
           }
          ],
          "contourcarpet": [
           {
            "colorbar": {
             "outlinewidth": 0,
             "ticks": ""
            },
            "type": "contourcarpet"
           }
          ],
          "heatmap": [
           {
            "colorbar": {
             "outlinewidth": 0,
             "ticks": ""
            },
            "colorscale": [
             [
              0,
              "#0d0887"
             ],
             [
              0.1111111111111111,
              "#46039f"
             ],
             [
              0.2222222222222222,
              "#7201a8"
             ],
             [
              0.3333333333333333,
              "#9c179e"
             ],
             [
              0.4444444444444444,
              "#bd3786"
             ],
             [
              0.5555555555555556,
              "#d8576b"
             ],
             [
              0.6666666666666666,
              "#ed7953"
             ],
             [
              0.7777777777777778,
              "#fb9f3a"
             ],
             [
              0.8888888888888888,
              "#fdca26"
             ],
             [
              1,
              "#f0f921"
             ]
            ],
            "type": "heatmap"
           }
          ],
          "heatmapgl": [
           {
            "colorbar": {
             "outlinewidth": 0,
             "ticks": ""
            },
            "colorscale": [
             [
              0,
              "#0d0887"
             ],
             [
              0.1111111111111111,
              "#46039f"
             ],
             [
              0.2222222222222222,
              "#7201a8"
             ],
             [
              0.3333333333333333,
              "#9c179e"
             ],
             [
              0.4444444444444444,
              "#bd3786"
             ],
             [
              0.5555555555555556,
              "#d8576b"
             ],
             [
              0.6666666666666666,
              "#ed7953"
             ],
             [
              0.7777777777777778,
              "#fb9f3a"
             ],
             [
              0.8888888888888888,
              "#fdca26"
             ],
             [
              1,
              "#f0f921"
             ]
            ],
            "type": "heatmapgl"
           }
          ],
          "histogram": [
           {
            "marker": {
             "pattern": {
              "fillmode": "overlay",
              "size": 10,
              "solidity": 0.2
             }
            },
            "type": "histogram"
           }
          ],
          "histogram2d": [
           {
            "colorbar": {
             "outlinewidth": 0,
             "ticks": ""
            },
            "colorscale": [
             [
              0,
              "#0d0887"
             ],
             [
              0.1111111111111111,
              "#46039f"
             ],
             [
              0.2222222222222222,
              "#7201a8"
             ],
             [
              0.3333333333333333,
              "#9c179e"
             ],
             [
              0.4444444444444444,
              "#bd3786"
             ],
             [
              0.5555555555555556,
              "#d8576b"
             ],
             [
              0.6666666666666666,
              "#ed7953"
             ],
             [
              0.7777777777777778,
              "#fb9f3a"
             ],
             [
              0.8888888888888888,
              "#fdca26"
             ],
             [
              1,
              "#f0f921"
             ]
            ],
            "type": "histogram2d"
           }
          ],
          "histogram2dcontour": [
           {
            "colorbar": {
             "outlinewidth": 0,
             "ticks": ""
            },
            "colorscale": [
             [
              0,
              "#0d0887"
             ],
             [
              0.1111111111111111,
              "#46039f"
             ],
             [
              0.2222222222222222,
              "#7201a8"
             ],
             [
              0.3333333333333333,
              "#9c179e"
             ],
             [
              0.4444444444444444,
              "#bd3786"
             ],
             [
              0.5555555555555556,
              "#d8576b"
             ],
             [
              0.6666666666666666,
              "#ed7953"
             ],
             [
              0.7777777777777778,
              "#fb9f3a"
             ],
             [
              0.8888888888888888,
              "#fdca26"
             ],
             [
              1,
              "#f0f921"
             ]
            ],
            "type": "histogram2dcontour"
           }
          ],
          "mesh3d": [
           {
            "colorbar": {
             "outlinewidth": 0,
             "ticks": ""
            },
            "type": "mesh3d"
           }
          ],
          "parcoords": [
           {
            "line": {
             "colorbar": {
              "outlinewidth": 0,
              "ticks": ""
             }
            },
            "type": "parcoords"
           }
          ],
          "pie": [
           {
            "automargin": true,
            "type": "pie"
           }
          ],
          "scatter": [
           {
            "fillpattern": {
             "fillmode": "overlay",
             "size": 10,
             "solidity": 0.2
            },
            "type": "scatter"
           }
          ],
          "scatter3d": [
           {
            "line": {
             "colorbar": {
              "outlinewidth": 0,
              "ticks": ""
             }
            },
            "marker": {
             "colorbar": {
              "outlinewidth": 0,
              "ticks": ""
             }
            },
            "type": "scatter3d"
           }
          ],
          "scattercarpet": [
           {
            "marker": {
             "colorbar": {
              "outlinewidth": 0,
              "ticks": ""
             }
            },
            "type": "scattercarpet"
           }
          ],
          "scattergeo": [
           {
            "marker": {
             "colorbar": {
              "outlinewidth": 0,
              "ticks": ""
             }
            },
            "type": "scattergeo"
           }
          ],
          "scattergl": [
           {
            "marker": {
             "colorbar": {
              "outlinewidth": 0,
              "ticks": ""
             }
            },
            "type": "scattergl"
           }
          ],
          "scattermapbox": [
           {
            "marker": {
             "colorbar": {
              "outlinewidth": 0,
              "ticks": ""
             }
            },
            "type": "scattermapbox"
           }
          ],
          "scatterpolar": [
           {
            "marker": {
             "colorbar": {
              "outlinewidth": 0,
              "ticks": ""
             }
            },
            "type": "scatterpolar"
           }
          ],
          "scatterpolargl": [
           {
            "marker": {
             "colorbar": {
              "outlinewidth": 0,
              "ticks": ""
             }
            },
            "type": "scatterpolargl"
           }
          ],
          "scatterternary": [
           {
            "marker": {
             "colorbar": {
              "outlinewidth": 0,
              "ticks": ""
             }
            },
            "type": "scatterternary"
           }
          ],
          "surface": [
           {
            "colorbar": {
             "outlinewidth": 0,
             "ticks": ""
            },
            "colorscale": [
             [
              0,
              "#0d0887"
             ],
             [
              0.1111111111111111,
              "#46039f"
             ],
             [
              0.2222222222222222,
              "#7201a8"
             ],
             [
              0.3333333333333333,
              "#9c179e"
             ],
             [
              0.4444444444444444,
              "#bd3786"
             ],
             [
              0.5555555555555556,
              "#d8576b"
             ],
             [
              0.6666666666666666,
              "#ed7953"
             ],
             [
              0.7777777777777778,
              "#fb9f3a"
             ],
             [
              0.8888888888888888,
              "#fdca26"
             ],
             [
              1,
              "#f0f921"
             ]
            ],
            "type": "surface"
           }
          ],
          "table": [
           {
            "cells": {
             "fill": {
              "color": "#EBF0F8"
             },
             "line": {
              "color": "white"
             }
            },
            "header": {
             "fill": {
              "color": "#C8D4E3"
             },
             "line": {
              "color": "white"
             }
            },
            "type": "table"
           }
          ]
         },
         "layout": {
          "annotationdefaults": {
           "arrowcolor": "#2a3f5f",
           "arrowhead": 0,
           "arrowwidth": 1
          },
          "autotypenumbers": "strict",
          "coloraxis": {
           "colorbar": {
            "outlinewidth": 0,
            "ticks": ""
           }
          },
          "colorscale": {
           "diverging": [
            [
             0,
             "#8e0152"
            ],
            [
             0.1,
             "#c51b7d"
            ],
            [
             0.2,
             "#de77ae"
            ],
            [
             0.3,
             "#f1b6da"
            ],
            [
             0.4,
             "#fde0ef"
            ],
            [
             0.5,
             "#f7f7f7"
            ],
            [
             0.6,
             "#e6f5d0"
            ],
            [
             0.7,
             "#b8e186"
            ],
            [
             0.8,
             "#7fbc41"
            ],
            [
             0.9,
             "#4d9221"
            ],
            [
             1,
             "#276419"
            ]
           ],
           "sequential": [
            [
             0,
             "#0d0887"
            ],
            [
             0.1111111111111111,
             "#46039f"
            ],
            [
             0.2222222222222222,
             "#7201a8"
            ],
            [
             0.3333333333333333,
             "#9c179e"
            ],
            [
             0.4444444444444444,
             "#bd3786"
            ],
            [
             0.5555555555555556,
             "#d8576b"
            ],
            [
             0.6666666666666666,
             "#ed7953"
            ],
            [
             0.7777777777777778,
             "#fb9f3a"
            ],
            [
             0.8888888888888888,
             "#fdca26"
            ],
            [
             1,
             "#f0f921"
            ]
           ],
           "sequentialminus": [
            [
             0,
             "#0d0887"
            ],
            [
             0.1111111111111111,
             "#46039f"
            ],
            [
             0.2222222222222222,
             "#7201a8"
            ],
            [
             0.3333333333333333,
             "#9c179e"
            ],
            [
             0.4444444444444444,
             "#bd3786"
            ],
            [
             0.5555555555555556,
             "#d8576b"
            ],
            [
             0.6666666666666666,
             "#ed7953"
            ],
            [
             0.7777777777777778,
             "#fb9f3a"
            ],
            [
             0.8888888888888888,
             "#fdca26"
            ],
            [
             1,
             "#f0f921"
            ]
           ]
          },
          "colorway": [
           "#636efa",
           "#EF553B",
           "#00cc96",
           "#ab63fa",
           "#FFA15A",
           "#19d3f3",
           "#FF6692",
           "#B6E880",
           "#FF97FF",
           "#FECB52"
          ],
          "font": {
           "color": "#2a3f5f"
          },
          "geo": {
           "bgcolor": "white",
           "lakecolor": "white",
           "landcolor": "white",
           "showlakes": true,
           "showland": true,
           "subunitcolor": "#C8D4E3"
          },
          "hoverlabel": {
           "align": "left"
          },
          "hovermode": "closest",
          "mapbox": {
           "style": "light"
          },
          "paper_bgcolor": "white",
          "plot_bgcolor": "white",
          "polar": {
           "angularaxis": {
            "gridcolor": "#EBF0F8",
            "linecolor": "#EBF0F8",
            "ticks": ""
           },
           "bgcolor": "white",
           "radialaxis": {
            "gridcolor": "#EBF0F8",
            "linecolor": "#EBF0F8",
            "ticks": ""
           }
          },
          "scene": {
           "xaxis": {
            "backgroundcolor": "white",
            "gridcolor": "#DFE8F3",
            "gridwidth": 2,
            "linecolor": "#EBF0F8",
            "showbackground": true,
            "ticks": "",
            "zerolinecolor": "#EBF0F8"
           },
           "yaxis": {
            "backgroundcolor": "white",
            "gridcolor": "#DFE8F3",
            "gridwidth": 2,
            "linecolor": "#EBF0F8",
            "showbackground": true,
            "ticks": "",
            "zerolinecolor": "#EBF0F8"
           },
           "zaxis": {
            "backgroundcolor": "white",
            "gridcolor": "#DFE8F3",
            "gridwidth": 2,
            "linecolor": "#EBF0F8",
            "showbackground": true,
            "ticks": "",
            "zerolinecolor": "#EBF0F8"
           }
          },
          "shapedefaults": {
           "line": {
            "color": "#2a3f5f"
           }
          },
          "ternary": {
           "aaxis": {
            "gridcolor": "#DFE8F3",
            "linecolor": "#A2B1C6",
            "ticks": ""
           },
           "baxis": {
            "gridcolor": "#DFE8F3",
            "linecolor": "#A2B1C6",
            "ticks": ""
           },
           "bgcolor": "white",
           "caxis": {
            "gridcolor": "#DFE8F3",
            "linecolor": "#A2B1C6",
            "ticks": ""
           }
          },
          "title": {
           "x": 0.05
          },
          "xaxis": {
           "automargin": true,
           "gridcolor": "#EBF0F8",
           "linecolor": "#EBF0F8",
           "ticks": "",
           "title": {
            "standoff": 15
           },
           "zerolinecolor": "#EBF0F8",
           "zerolinewidth": 2
          },
          "yaxis": {
           "automargin": true,
           "gridcolor": "#EBF0F8",
           "linecolor": "#EBF0F8",
           "ticks": "",
           "title": {
            "standoff": 15
           },
           "zerolinecolor": "#EBF0F8",
           "zerolinewidth": 2
          }
         }
        },
        "title": {
         "text": "<b>Token Distribution Across Royal Society Publication Types (1665-1958)<br>Total Tokens: 74,571,116 (from 10,012 files)</b>",
         "x": 0.5,
         "xanchor": "center",
         "y": 0.95,
         "yanchor": "top"
        },
        "width": 1200
       }
      }
     },
     "metadata": {},
     "output_type": "display_data"
    },
    {
     "name": "stdout",
     "output_type": "stream",
     "text": [
      "\n",
      "Final Summary:\n",
      "--------------------------------------------------\n",
      "RSTB (15,719,527 tokens)\n",
      "  - Files: 628\n",
      "  - Tokens: 15,719,527\n",
      "RSTL (42,079,421 tokens)\n",
      "  - Files: 8520\n",
      "  - Tokens: 42,079,421\n",
      "RSTA (16,772,168 tokens)\n",
      "  - Files: 864\n",
      "  - Tokens: 16,772,168\n",
      "--------------------------------------------------\n",
      "Total files processed: 10,012\n",
      "Total tokens across all directories: 74,571,116\n",
      "\n",
      "Interactive pie chart has been saved to: C:/Users/Igiba/Documents/fact_fiction_project/extra_plots/royal_society_token_distribution_pie_1665_1958.html\n"
     ]
    }
   ],
   "source": [
    "import os\n",
    "import re\n",
    "import plotly.graph_objects as go\n",
    "from nltk.tokenize import word_tokenize\n",
    "from tqdm import tqdm\n",
    "\n",
    "def extract_year_from_filename(filename):\n",
    "    \"\"\"Extract the year from the filename.\"\"\"\n",
    "    match = re.search(r'rst[bla]?_?(\\d{4})', filename)\n",
    "    return int(match.group(1)) if match else None\n",
    "\n",
    "def count_tokens_in_file(file_path):\n",
    "    \"\"\"Count tokens in a single file.\"\"\"\n",
    "    with open(file_path, 'r', encoding='utf-8') as f:\n",
    "        text = f.read()\n",
    "    tokens = word_tokenize(text.lower())\n",
    "    return len(tokens)  # Count all tokens without filtering\n",
    "\n",
    "def count_tokens_in_directory(directory, start_year, end_year):\n",
    "    \"\"\"Count tokens in all files within a directory, filtered by year range.\"\"\"\n",
    "    total_tokens = 0\n",
    "    file_count = 0\n",
    "    \n",
    "    # Get list of all txt files\n",
    "    files = [f for f in os.listdir(directory) if f.endswith('.txt')]\n",
    "    \n",
    "    # Use tqdm for progress bar\n",
    "    for file in tqdm(files, desc=f\"Processing {os.path.basename(directory)}\"):\n",
    "        file_path = os.path.join(directory, file)\n",
    "        \n",
    "        # Extract year from filename and check if it's within the range\n",
    "        year = extract_year_from_filename(file)\n",
    "        if year is None or not (start_year <= year <= end_year):\n",
    "            continue  # Skip files outside the year range\n",
    "        \n",
    "        try:\n",
    "            token_count = count_tokens_in_file(file_path)\n",
    "            total_tokens += token_count\n",
    "            file_count += 1\n",
    "        except Exception as e:\n",
    "            print(f\"Error reading {file_path}: {e}\")\n",
    "    \n",
    "    return total_tokens, file_count\n",
    "\n",
    "# Directories\n",
    "text_dirs = [\n",
    "    r\"D:\\Fact_fiction_corpus\\texts\\royal society\\txt_rstb\",\n",
    "    r\"D:\\Fact_fiction_corpus\\texts\\royal society\\txt_rstl\",\n",
    "    r\"D:\\Fact_fiction_corpus\\texts\\royal society\\txt_rsta\"\n",
    "]\n",
    "\n",
    "# Publication types with consistent colors\n",
    "publication_types = {\n",
    "    'txt_rsta': {'color': 'red', 'name': 'RSTA'},\n",
    "    'txt_rstb': {'color': 'blue', 'name': 'RSTB'},\n",
    "    'txt_rstl': {'color': 'green', 'name': 'RSTL'}\n",
    "}\n",
    "\n",
    "# Year range to filter by\n",
    "start_year = 1665\n",
    "end_year = 1958\n",
    "\n",
    "# Get counts and labels\n",
    "counts = []\n",
    "file_counts = []\n",
    "labels = []\n",
    "colors = []\n",
    "\n",
    "print(\"\\nProcessing files:\")\n",
    "print(\"-\" * 50)\n",
    "\n",
    "for directory in text_dirs:\n",
    "    token_count, file_count = count_tokens_in_directory(directory, start_year, end_year)\n",
    "    counts.append(token_count)\n",
    "    file_counts.append(file_count)\n",
    "    dir_name = os.path.basename(directory)\n",
    "    pub_info = publication_types[dir_name]\n",
    "    labels.append(f\"{pub_info['name']} ({token_count:,} tokens)\")\n",
    "    colors.append(pub_info['color'])\n",
    "    print(f\"{dir_name}:\")\n",
    "    print(f\"  - Files processed: {file_count}\")\n",
    "    print(f\"  - Token count: {token_count:,}\")\n",
    "\n",
    "# Calculate total token count\n",
    "total_tokens = sum(counts)\n",
    "total_files = sum(file_counts)\n",
    "\n",
    "# Create interactive pie chart with Plotly\n",
    "fig = go.Figure(data=[go.Pie(\n",
    "    labels=labels,\n",
    "    values=counts,\n",
    "    marker=dict(colors=colors),\n",
    "    textinfo='label+percent',\n",
    "    hovertemplate=\"<b>%{label}</b><br>\" +\n",
    "                  \"Token count: %{value:,}<br>\" +\n",
    "                  \"Percentage: %{percent}<br>\" +\n",
    "                  \"<extra></extra>\"\n",
    ")])\n",
    "\n",
    "# Update layout\n",
    "fig.update_layout(\n",
    "    title={\n",
    "        'text': f'<b>Token Distribution Across Royal Society Publication Types (1665-1958)<br>Total Tokens: {total_tokens:,} (from {total_files:,} files)</b>',\n",
    "        'y':0.95,\n",
    "        'x':0.5,\n",
    "        'xanchor': 'center',\n",
    "        'yanchor': 'top'\n",
    "    },\n",
    "    showlegend=True,\n",
    "    width=1200,\n",
    "    height=600,\n",
    "    template='plotly_white',\n",
    "    font=dict(family='Arial, sans-serif'),\n",
    "    margin=dict(t=100, b=50, l=50, r=50)\n",
    ")\n",
    "\n",
    "# Save as interactive HTML\n",
    "output_path = r\"C:/Users/Igiba/Documents/fact_fiction_project/extra_plots/royal_society_token_distribution_pie_1665_1958.html\"\n",
    "fig.write_html(output_path)\n",
    "fig.show()\n",
    "\n",
    "print(\"\\nFinal Summary:\")\n",
    "print(\"-\" * 50)\n",
    "for label, count, file_count in zip(labels, counts, file_counts):\n",
    "    print(f\"{label}\")\n",
    "    print(f\"  - Files: {file_count}\")\n",
    "    print(f\"  - Tokens: {count:,}\")\n",
    "print(\"-\" * 50)\n",
    "print(f\"Total files processed: {total_files:,}\")\n",
    "print(f\"Total tokens across all directories: {total_tokens:,}\")\n",
    "print(f\"\\nInteractive pie chart has been saved to: {output_path}\")\n"
   ]
  }
 ],
 "metadata": {
  "kernelspec": {
   "display_name": "3.9.10",
   "language": "python",
   "name": "python3"
  },
  "language_info": {
   "codemirror_mode": {
    "name": "ipython",
    "version": 3
   },
   "file_extension": ".py",
   "mimetype": "text/x-python",
   "name": "python",
   "nbconvert_exporter": "python",
   "pygments_lexer": "ipython3",
   "version": "3.9.10"
  }
 },
 "nbformat": 4,
 "nbformat_minor": 2
}
