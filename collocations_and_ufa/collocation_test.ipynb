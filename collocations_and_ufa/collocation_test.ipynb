{
 "cells": [
  {
   "cell_type": "markdown",
   "metadata": {},
   "source": [
    "\n",
    "\n",
    "- final file has some duplicate values, fix them (fixed in analysis)\n",
    "(154\tbehaviour\t12789\t4.59\t5\t1175\t0.12 and\n",
    "155\tbehaviour\t12789\t4.59\t5\t1175\t0.12)\n",
    "\n",
    "\n",
    "C5-NC5 indicates that the MI-score with the cut-off point three was used as the association measure (IN SCRIPT); the collocates were identified in the span of three words to the left (L3) and three words to the right (R3) of the node and the frequency threshold was five for both the collocate (C5) and the collocation (NC5). (frequency threshold exists)\n",
    "\n",
    "Generally, the smaller the span, the greater the focus of the analysis on the most immediate lexico-grammatical patterns; a larger span captures looser associations.\n",
    "\n",
    "TO DO\n",
    "- make the freq threshold vary based on the amount of data for each year gap!!! (right now its 5 always) (make it scale up) (differently per gap, based on how many characters per year)\n",
    "\n",
    "500k words = 5 freq treshold for 1665 to 1958\n",
    "for every 100k words it adds 1\n",
    "\n",
    "500k words or less = 5 freq treshold for 2000 to 2024\n",
    "for every 500k words it adds 1\n",
    "\n",
    "- rerun with 3l3r (done)\n",
    "- avoid lemmatization but tokenize (list of fact words) (fact/facts) (done)\n",
    "- include as a side if its from rstl rstb or rsta\n",
    "- split into two periods to avoid the gap"
   ]
  },
  {
   "cell_type": "markdown",
   "metadata": {},
   "source": [
    "TESTING CONTEXTS"
   ]
  },
  {
   "cell_type": "code",
   "execution_count": 1,
   "metadata": {},
   "outputs": [
    {
     "name": "stderr",
     "output_type": "stream",
     "text": [
      "C:\\Users\\Igiba\\AppData\\Local\\Temp\\ipykernel_16472\\1228309350.py:7: FutureWarning: The behavior of DataFrame concatenation with empty or all-NA entries is deprecated. In a future version, this will no longer exclude empty or all-NA columns when determining the result dtypes. To retain the old behavior, exclude the relevant entries before the concat operation.\n",
      "  combined_data = pd.concat([pd.read_csv(f) for f in csv_files], ignore_index=True)\n"
     ]
    },
    {
     "name": "stdout",
     "output_type": "stream",
     "text": [
      "['matter' 'truth' 'certainty' ... 'fitness' 'affect' 'society']\n",
      "The keyword 'lsw' is found in the following document(s):\n",
      "collocate_results_combined_fact_10_window/csv_ver\\collocates_2013-2022.csv\n",
      "collocate_results_combined_fact_10_window/csv_ver\\collocates_2014-2023.csv\n",
      "collocate_results_combined_fact_10_window/csv_ver\\collocates_2015-2024.csv\n"
     ]
    }
   ],
   "source": [
    "import os\n",
    "import pandas as pd\n",
    "\n",
    "folder_path = \"collocate_results_combined_fact_10_window/csv_ver\"\n",
    "\n",
    "csv_files = [os.path.join(folder_path, f) for f in os.listdir(folder_path) if f.endswith('.csv')]\n",
    "combined_data = pd.concat([pd.read_csv(f) for f in csv_files], ignore_index=True)\n",
    "\n",
    "unique_words = combined_data['Word'].unique()\n",
    "print(unique_words)\n",
    "\n",
    "keyword = \"lsw\"\n",
    "keyword_docs = []\n",
    "\n",
    "for f in csv_files:\n",
    "    df = pd.read_csv(f)\n",
    "    if keyword in df['Word'].values:\n",
    "        keyword_docs.append(f)\n",
    "\n",
    "if keyword_docs:\n",
    "    print(f\"The keyword '{keyword}' is found in the following document(s):\")\n",
    "    for doc in keyword_docs:\n",
    "        print(doc)\n",
    "else:\n",
    "    print(f\"The keyword '{keyword}' is not found in any document.\")"
   ]
  },
  {
   "cell_type": "code",
   "execution_count": 2,
   "metadata": {},
   "outputs": [
    {
     "name": "stderr",
     "output_type": "stream",
     "text": [
      "[nltk_data] Downloading package punkt_tab to\n",
      "[nltk_data]     C:\\Users\\Igiba\\AppData\\Roaming\\nltk_data...\n",
      "[nltk_data]   Package punkt_tab is already up-to-date!\n",
      "[nltk_data] Downloading package stopwords to\n",
      "[nltk_data]     C:\\Users\\Igiba\\AppData\\Roaming\\nltk_data...\n",
      "[nltk_data]   Package stopwords is already up-to-date!\n"
     ]
    }
   ],
   "source": [
    "#non-text version\n",
    "import pandas as pd\n",
    "import nltk\n",
    "from nltk.collocations import BigramCollocationFinder\n",
    "from nltk.metrics import BigramAssocMeasures\n",
    "from nltk.corpus import stopwords\n",
    "from nltk.tokenize import word_tokenize\n",
    "import string\n",
    "import csv\n",
    "import os\n",
    "import re\n",
    "from collections import defaultdict\n",
    "from concurrent.futures import ProcessPoolExecutor, as_completed\n",
    "from tqdm.notebook import tqdm\n",
    "import traceback\n",
    "\n",
    "nltk.download('punkt_tab')\n",
    "nltk.download('stopwords')\n",
    "\n",
    "def extract_year_from_filename(filename):\n",
    "    match = re.search(r'rst[bla]?_?(\\d{4})', filename)\n",
    "    return int(match.group(1)) if match else None\n",
    "\n",
    "def process_file(file_path):\n",
    "    try:\n",
    "        year = extract_year_from_filename(os.path.basename(file_path))\n",
    "        if not year:\n",
    "            return None\n",
    "        with open(file_path, 'r', encoding='utf-8') as file:\n",
    "            text = file.read()\n",
    "        text = text.replace('ſ', 's').replace('Å¿', 's').replace('obseryed', 'observed').replace('thab', 'that')\n",
    "        return year, text\n",
    "    except Exception as e:\n",
    "        print(f\"Error processing file {file_path}: {str(e)}\")\n",
    "        return None\n",
    "\n",
    "def process_tokens(text):\n",
    "    tokens = word_tokenize(text.lower())\n",
    "    # Removed lemmatization - now just filtering tokens\n",
    "    return [token for token in tokens \n",
    "            if token.isalpha() and len(token) > 1 and token not in string.punctuation]\n",
    "\n",
    "def process_window(window_data, word_of_interest, freq_filter, collocate_window):\n",
    "    try:\n",
    "        window_start, window_end, window_texts = window_data\n",
    "        all_tokens = [token for text in window_texts for token in process_tokens(text)]\n",
    "        \n",
    "        total_tokens = len(all_tokens)\n",
    "        total_texts = len(window_texts)\n",
    "        \n",
    "        finder = BigramCollocationFinder.from_words(all_tokens)\n",
    "        finder.apply_freq_filter(freq_filter)\n",
    "        \n",
    "        collocations = finder.score_ngrams(BigramAssocMeasures().pmi)\n",
    "        \n",
    "        collocate_stats = []\n",
    "        collocate_contexts = defaultdict(list)\n",
    "\n",
    "        word_of_interest_lower = word_of_interest.lower()\n",
    "        word_of_interest_freq = sum(finder.word_fd[word] for word in finder.word_fd if word.lower() == word_of_interest_lower)\n",
    "\n",
    "        for bigram, pmi in collocations:\n",
    "            if word_of_interest_lower in (word.lower() for word in bigram):\n",
    "                other_word = bigram[0] if bigram[1].lower() == word_of_interest_lower else bigram[1]\n",
    "                observed_freq = finder.ngram_fd[bigram]\n",
    "                word_freq = finder.word_fd[other_word]\n",
    "                expected_freq = (word_of_interest_freq * word_freq) / total_tokens\n",
    "                num_texts = sum(1 for text in window_texts if other_word.lower() in text.lower().split())\n",
    "                \n",
    "                if num_texts > 1:\n",
    "                    collocate_stats.append({\n",
    "                        'word': other_word,\n",
    "                        'total_corpus': word_freq,\n",
    "                        'expected_freq': expected_freq,\n",
    "                        'observed_freq': observed_freq,\n",
    "                        'num_texts': num_texts,\n",
    "                        'pmi': pmi\n",
    "                    })\n",
    "                    \n",
    "                    for text in window_texts:\n",
    "                        words = text.split()\n",
    "                        for i, word in enumerate(words):\n",
    "                            if word.lower() == word_of_interest_lower and other_word.lower() in [w.lower() for w in words[max(0, i-collocate_window):i+collocate_window+1]]:\n",
    "                                context = ' '.join(words[max(0, i-collocate_window):i+collocate_window+1])\n",
    "                                collocate_contexts[other_word].append((f\"Years {window_start}-{window_end}: {context}\", other_word))\n",
    "        \n",
    "        collocate_stats.sort(key=lambda x: x['pmi'], reverse=True)\n",
    "        top_collocates = collocate_stats\n",
    "        \n",
    "        filtered_contexts = [context for collocate in top_collocates for context in collocate_contexts.get(collocate['word'], [])]\n",
    "        \n",
    "        return f\"{window_start}-{window_end}\", {\n",
    "            'collocates': top_collocates,\n",
    "            'total_tokens': total_tokens,\n",
    "            'total_texts': total_texts,\n",
    "            'contexts': filtered_contexts\n",
    "        }\n",
    "    except Exception as e:\n",
    "        print(f\"Error processing window {window_start}-{window_end}: {str(e)}\")\n",
    "        traceback.print_exc()\n",
    "        return None"
   ]
  },
  {
   "cell_type": "code",
   "execution_count": 2,
   "metadata": {},
   "outputs": [
    {
     "name": "stdout",
     "output_type": "stream",
     "text": [
      "Starting text processing...\n"
     ]
    },
    {
     "ename": "FileNotFoundError",
     "evalue": "[WinError 3] The system cannot find the path specified: 'D:\\\\Fact_fiction_corpus\\\\texts\\\\royal society\\\\txt_rstb'",
     "output_type": "error",
     "traceback": [
      "\u001b[1;31m---------------------------------------------------------------------------\u001b[0m",
      "\u001b[1;31mFileNotFoundError\u001b[0m                         Traceback (most recent call last)",
      "Cell \u001b[1;32mIn[2], line 98\u001b[0m\n\u001b[0;32m     94\u001b[0m             writer\u001b[38;5;241m.\u001b[39mwriterows(data[\u001b[38;5;124m'\u001b[39m\u001b[38;5;124mcontexts\u001b[39m\u001b[38;5;124m'\u001b[39m])\n\u001b[0;32m     96\u001b[0m     \u001b[38;5;28mprint\u001b[39m(\u001b[38;5;124mf\u001b[39m\u001b[38;5;124m\"\u001b[39m\u001b[38;5;124mCollocate analysis completed. Results saved in the \u001b[39m\u001b[38;5;124m'\u001b[39m\u001b[38;5;132;01m{\u001b[39;00moutput_dir\u001b[38;5;132;01m}\u001b[39;00m\u001b[38;5;124m'\u001b[39m\u001b[38;5;124m directory.\u001b[39m\u001b[38;5;124m\"\u001b[39m)\n\u001b[1;32m---> 98\u001b[0m \u001b[43manalyze_collocates\u001b[49m\u001b[43m(\u001b[49m\u001b[43m[\u001b[49m\u001b[38;5;124;43mr\u001b[39;49m\u001b[38;5;124;43m\"\u001b[39;49m\u001b[38;5;124;43mD:\u001b[39;49m\u001b[38;5;124;43m\\\u001b[39;49m\u001b[38;5;124;43mFact_fiction_corpus\u001b[39;49m\u001b[38;5;124;43m\\\u001b[39;49m\u001b[38;5;124;43mtexts\u001b[39;49m\u001b[38;5;124;43m\\\u001b[39;49m\u001b[38;5;124;43mroyal society\u001b[39;49m\u001b[38;5;124;43m\\\u001b[39;49m\u001b[38;5;124;43mtxt_rstb\u001b[39;49m\u001b[38;5;124;43m\"\u001b[39;49m\u001b[43m,\u001b[49m\u001b[43m \u001b[49m\n\u001b[0;32m     99\u001b[0m \u001b[43m                     \u001b[49m\u001b[38;5;124;43mr\u001b[39;49m\u001b[38;5;124;43m\"\u001b[39;49m\u001b[38;5;124;43mD:\u001b[39;49m\u001b[38;5;124;43m\\\u001b[39;49m\u001b[38;5;124;43mFact_fiction_corpus\u001b[39;49m\u001b[38;5;124;43m\\\u001b[39;49m\u001b[38;5;124;43mtexts\u001b[39;49m\u001b[38;5;124;43m\\\u001b[39;49m\u001b[38;5;124;43mroyal society\u001b[39;49m\u001b[38;5;124;43m\\\u001b[39;49m\u001b[38;5;124;43mtxt_rstl\u001b[39;49m\u001b[38;5;124;43m\"\u001b[39;49m\u001b[43m,\u001b[49m\u001b[43m \u001b[49m\n\u001b[0;32m    100\u001b[0m \u001b[43m                     \u001b[49m\u001b[38;5;124;43mr\u001b[39;49m\u001b[38;5;124;43m\"\u001b[39;49m\u001b[38;5;124;43mD:\u001b[39;49m\u001b[38;5;124;43m\\\u001b[39;49m\u001b[38;5;124;43mFact_fiction_corpus\u001b[39;49m\u001b[38;5;124;43m\\\u001b[39;49m\u001b[38;5;124;43mtexts\u001b[39;49m\u001b[38;5;124;43m\\\u001b[39;49m\u001b[38;5;124;43mroyal society\u001b[39;49m\u001b[38;5;124;43m\\\u001b[39;49m\u001b[38;5;124;43mtxt_rsta\u001b[39;49m\u001b[38;5;124;43m\"\u001b[39;49m\u001b[43m]\u001b[49m\u001b[43m,\u001b[49m\u001b[43m \u001b[49m\n\u001b[0;32m    101\u001b[0m \u001b[43m                   \u001b[49m\u001b[38;5;124;43m\"\u001b[39;49m\u001b[38;5;124;43mcollocate_results_combined_fact_10_window_3LR\u001b[39;49m\u001b[38;5;124;43m\"\u001b[39;49m\u001b[43m,\u001b[49m\u001b[43m \u001b[49m\u001b[38;5;124;43m\"\u001b[39;49m\u001b[38;5;124;43mfact\u001b[39;49m\u001b[38;5;124;43m\"\u001b[39;49m\u001b[43m)\u001b[49m\n",
      "Cell \u001b[1;32mIn[2], line 34\u001b[0m, in \u001b[0;36manalyze_collocates\u001b[1;34m(text_dirs, output_dir, word_of_interest, window_size, collocate_window, freq_filter)\u001b[0m\n\u001b[0;32m     31\u001b[0m     \u001b[38;5;28;01mreturn\u001b[39;00m texts_by_year\n\u001b[0;32m     33\u001b[0m \u001b[38;5;28mprint\u001b[39m(\u001b[38;5;124m\"\u001b[39m\u001b[38;5;124mStarting text processing...\u001b[39m\u001b[38;5;124m\"\u001b[39m)\n\u001b[1;32m---> 34\u001b[0m texts_by_year \u001b[38;5;241m=\u001b[39m \u001b[43mread_texts_by_year\u001b[49m\u001b[43m(\u001b[49m\u001b[43mtext_dirs\u001b[49m\u001b[43m)\u001b[49m\n\u001b[0;32m     36\u001b[0m all_years \u001b[38;5;241m=\u001b[39m \u001b[38;5;28msorted\u001b[39m(texts_by_year\u001b[38;5;241m.\u001b[39mkeys())\n\u001b[0;32m     37\u001b[0m start_year, end_year \u001b[38;5;241m=\u001b[39m \u001b[38;5;28mmin\u001b[39m(all_years), \u001b[38;5;28mmax\u001b[39m(all_years)\n",
      "Cell \u001b[1;32mIn[2], line 22\u001b[0m, in \u001b[0;36manalyze_collocates.<locals>.read_texts_by_year\u001b[1;34m(directories)\u001b[0m\n\u001b[0;32m     20\u001b[0m \u001b[38;5;28;01mdef\u001b[39;00m \u001b[38;5;21mread_texts_by_year\u001b[39m(directories):\n\u001b[0;32m     21\u001b[0m     texts_by_year \u001b[38;5;241m=\u001b[39m defaultdict(\u001b[38;5;28mlist\u001b[39m)\n\u001b[1;32m---> 22\u001b[0m     file_paths \u001b[38;5;241m=\u001b[39m [os\u001b[38;5;241m.\u001b[39mpath\u001b[38;5;241m.\u001b[39mjoin(\u001b[38;5;28mdir\u001b[39m, f) \u001b[38;5;28;01mfor\u001b[39;00m \u001b[38;5;28mdir\u001b[39m \u001b[38;5;129;01min\u001b[39;00m directories \u001b[38;5;28;01mfor\u001b[39;00m f \u001b[38;5;129;01min\u001b[39;00m os\u001b[38;5;241m.\u001b[39mlistdir(\u001b[38;5;28mdir\u001b[39m) \u001b[38;5;28;01mif\u001b[39;00m f\u001b[38;5;241m.\u001b[39mendswith(\u001b[38;5;124m'\u001b[39m\u001b[38;5;124m.txt\u001b[39m\u001b[38;5;124m'\u001b[39m)]\n\u001b[0;32m     24\u001b[0m     \u001b[38;5;28mprint\u001b[39m(\u001b[38;5;124m\"\u001b[39m\u001b[38;5;124mReading files...\u001b[39m\u001b[38;5;124m\"\u001b[39m)\n\u001b[0;32m     25\u001b[0m     \u001b[38;5;28;01mfor\u001b[39;00m file_path \u001b[38;5;129;01min\u001b[39;00m tqdm(file_paths):\n",
      "Cell \u001b[1;32mIn[2], line 22\u001b[0m, in \u001b[0;36m<listcomp>\u001b[1;34m(.0)\u001b[0m\n\u001b[0;32m     20\u001b[0m \u001b[38;5;28;01mdef\u001b[39;00m \u001b[38;5;21mread_texts_by_year\u001b[39m(directories):\n\u001b[0;32m     21\u001b[0m     texts_by_year \u001b[38;5;241m=\u001b[39m defaultdict(\u001b[38;5;28mlist\u001b[39m)\n\u001b[1;32m---> 22\u001b[0m     file_paths \u001b[38;5;241m=\u001b[39m [os\u001b[38;5;241m.\u001b[39mpath\u001b[38;5;241m.\u001b[39mjoin(\u001b[38;5;28mdir\u001b[39m, f) \u001b[38;5;28;01mfor\u001b[39;00m \u001b[38;5;28mdir\u001b[39m \u001b[38;5;129;01min\u001b[39;00m directories \u001b[38;5;28;01mfor\u001b[39;00m f \u001b[38;5;129;01min\u001b[39;00m \u001b[43mos\u001b[49m\u001b[38;5;241;43m.\u001b[39;49m\u001b[43mlistdir\u001b[49m\u001b[43m(\u001b[49m\u001b[38;5;28;43mdir\u001b[39;49m\u001b[43m)\u001b[49m \u001b[38;5;28;01mif\u001b[39;00m f\u001b[38;5;241m.\u001b[39mendswith(\u001b[38;5;124m'\u001b[39m\u001b[38;5;124m.txt\u001b[39m\u001b[38;5;124m'\u001b[39m)]\n\u001b[0;32m     24\u001b[0m     \u001b[38;5;28mprint\u001b[39m(\u001b[38;5;124m\"\u001b[39m\u001b[38;5;124mReading files...\u001b[39m\u001b[38;5;124m\"\u001b[39m)\n\u001b[0;32m     25\u001b[0m     \u001b[38;5;28;01mfor\u001b[39;00m file_path \u001b[38;5;129;01min\u001b[39;00m tqdm(file_paths):\n",
      "\u001b[1;31mFileNotFoundError\u001b[0m: [WinError 3] The system cannot find the path specified: 'D:\\\\Fact_fiction_corpus\\\\texts\\\\royal society\\\\txt_rstb'"
     ]
    }
   ],
   "source": [
    "#txt file creating version\n",
    "import pandas as pd\n",
    "import nltk\n",
    "from nltk.collocations import BigramCollocationFinder\n",
    "from nltk.metrics import BigramAssocMeasures\n",
    "from nltk.corpus import stopwords\n",
    "from nltk.tokenize import word_tokenize\n",
    "from nltk.stem import WordNetLemmatizer\n",
    "import string\n",
    "import csv\n",
    "import os\n",
    "import re\n",
    "from collections import defaultdict\n",
    "from concurrent.futures import ProcessPoolExecutor, as_completed\n",
    "from tqdm.notebook import tqdm\n",
    "import traceback\n",
    "\n",
    "\n",
    "def analyze_collocates(text_dirs, output_dir, word_of_interest, window_size=10, collocate_window=3, freq_filter=5):\n",
    "    def read_texts_by_year(directories):\n",
    "        texts_by_year = defaultdict(list)\n",
    "        file_paths = [os.path.join(dir, f) for dir in directories for f in os.listdir(dir) if f.endswith('.txt')]\n",
    "        \n",
    "        print(\"Reading files...\")\n",
    "        for file_path in tqdm(file_paths):\n",
    "            result = process_file(file_path)\n",
    "            if result:\n",
    "                year, text = result\n",
    "                texts_by_year[year].append(text)\n",
    "        \n",
    "        return texts_by_year\n",
    "\n",
    "    print(\"Starting text processing...\")\n",
    "    texts_by_year = read_texts_by_year(text_dirs)\n",
    "    \n",
    "    all_years = sorted(texts_by_year.keys())\n",
    "    start_year, end_year = min(all_years), max(all_years)\n",
    "\n",
    "    window_data = [\n",
    "        (window_start, window_start + window_size - 1, \n",
    "         [text for year in range(window_start, window_start + window_size) for text in texts_by_year.get(year, [])])\n",
    "        for window_start in range(start_year, end_year - window_size + 2)\n",
    "    ]\n",
    "\n",
    "    collocates_by_window = {}\n",
    "    print(\"Processing windows...\")\n",
    "    for data in tqdm(window_data):\n",
    "        result = process_window(data, word_of_interest, freq_filter, collocate_window)\n",
    "        if result:\n",
    "            window, window_result = result\n",
    "            collocates_by_window[window] = window_result\n",
    "\n",
    "    os.makedirs(output_dir, exist_ok=True)\n",
    "    print(\"Saving results to CSV and TXT files...\")\n",
    "\n",
    "    for window, data in collocates_by_window.items():\n",
    "        # Save CSV file\n",
    "        csv_filename = os.path.join(output_dir, f'collocates_{window}.csv')\n",
    "        with open(csv_filename, 'w', newline='', encoding='utf-8') as csvfile:\n",
    "            writer = csv.writer(csvfile)\n",
    "            writer.writerow(['No.', 'Word', 'Total no. in window corpus', 'Expected collocate frequency',\n",
    "                             'Observed collocate frequency', 'In no. of texts', 'Mutual Information value'])\n",
    "            \n",
    "            for i, collocate in enumerate(data['collocates'], 1):\n",
    "                writer.writerow([\n",
    "                    i,\n",
    "                    collocate['word'],\n",
    "                    collocate['total_corpus'],\n",
    "                    f\"{collocate['expected_freq']:.2f}\",\n",
    "                    collocate['observed_freq'],\n",
    "                    collocate['num_texts'],\n",
    "                    f\"{collocate['pmi']:.2f}\"\n",
    "                ])\n",
    "\n",
    "        txt_filename = os.path.join(output_dir, f'collocates_txt_{window}.txt')\n",
    "        with open(txt_filename, 'w', encoding='utf-8') as txtfile:\n",
    "            txtfile.write(\"https://example.com/collocation-analysis\")\n",
    "            txtfile.write(f\"There are {data['total_tokens']} different words in your collocation database for \\\"{word_of_interest}\\\". \")\n",
    "            txtfile.write(f\"(Your query returned {sum(c['observed_freq'] for c in data['collocates'])} matches in {data['total_texts']} different texts)\\n\")\n",
    "            txtfile.write(\"__________________\\n\\n\")\n",
    "            \n",
    "            txtfile.write(\"No.\\tWord\\tTotal no. in whole corpus\\tExpected collocate frequency\\t\")\n",
    "            txtfile.write(\"Observed collocate frequency\\tIn no. of texts\\tMutual information value\\n\\n\")\n",
    "            \n",
    "            for i, collocate in enumerate(data['collocates'], 1):\n",
    "                txtfile.write(f\"{i}\\t{collocate['word']}\\t{collocate['total_corpus']}\\t\")\n",
    "                txtfile.write(f\"{collocate['expected_freq']:.2f}\\t{collocate['observed_freq']}\\t\")\n",
    "                txtfile.write(f\"{collocate['num_texts']}\\t{collocate['pmi']:.2f}\\n\")\n",
    "\n",
    "        context_file = os.path.join(output_dir, f'collocate_contexts_{window}.csv')\n",
    "        with open(context_file, 'w', newline='', encoding='utf-8') as csvfile:\n",
    "            writer = csv.writer(csvfile)\n",
    "            writer.writerow(['Context', 'Collocate'])\n",
    "            writer.writerows(data['contexts'])\n",
    "\n",
    "    print(f\"Collocate analysis completed. Results saved in the '{output_dir}' directory.\")\n",
    "\n",
    "analyze_collocates([r\"D:\\Fact_fiction_corpus\\texts\\royal society\\txt_rstb\", \n",
    "                     r\"D:\\Fact_fiction_corpus\\texts\\royal society\\txt_rstl\", \n",
    "                     r\"D:\\Fact_fiction_corpus\\texts\\royal society\\txt_rsta\"], \n",
    "                   \"collocate_results_combined_new_3R3L_custom_freqfilter_FACT\", \"fact\")\n",
    "\n",
    "analyze_collocates([r\"D:\\Fact_fiction_corpus\\texts\\royal society\\txt_rstb\", \n",
    "                     r\"D:\\Fact_fiction_corpus\\texts\\royal society\\txt_rstl\", \n",
    "                     r\"D:\\Fact_fiction_corpus\\texts\\royal society\\txt_rsta\"], \n",
    "                   \"collocate_results_combined_new_3R3L_custom_freqfilter_FACTS\", \"facts\")"
   ]
  },
  {
   "cell_type": "markdown",
   "metadata": {},
   "source": [
    "---\n",
    "extra stuff\n",
    "---"
   ]
  },
  {
   "cell_type": "code",
   "execution_count": 42,
   "metadata": {},
   "outputs": [
    {
     "data": {
      "text/plain": [
       "0"
      ]
     },
     "execution_count": 42,
     "metadata": {},
     "output_type": "execute_result"
    }
   ],
   "source": [
    "#so my pc turns off eventually\n",
    "import os\n",
    "import time\n",
    "\n",
    "time.sleep(100)\n",
    "os.system(\"shutdown /s /t 1\")"
   ]
  },
  {
   "cell_type": "code",
   "execution_count": 1,
   "metadata": {},
   "outputs": [
    {
     "name": "stdout",
     "output_type": "stream",
     "text": [
      "Detected delimiter: ,\n"
     ]
    }
   ],
   "source": [
    "#checking delimiter type\n",
    "import re\n",
    "from collections import defaultdict\n",
    "\n",
    "def get_file_delimiter(file, check_lines=2):\n",
    "    delimiters = [',', '\\t', ';', '|', ':']\n",
    "    results = defaultdict(int)\n",
    "\n",
    "    with open(file, 'r') as f:\n",
    "        for i, line in enumerate(f):\n",
    "            if i > check_lines:\n",
    "                break\n",
    "            for delimiter in delimiters:\n",
    "                # Use re.split to split based on the delimiter\n",
    "                fields = re.split(re.escape(delimiter), line)\n",
    "                if len(fields) > 1:\n",
    "                    results[delimiter] += 1\n",
    "\n",
    "    # Get the delimiter with the maximum count\n",
    "    best_delimiter = max(results, key=results.get)\n",
    "    return best_delimiter\n",
    "\n",
    "# Example usage:\n",
    "file_path = 'collocate_results_combined_fact2/collocates_2015-2019.csv'\n",
    "delimiter = get_file_delimiter(file_path)\n",
    "print(f\"Detected delimiter: {delimiter}\")\n"
   ]
  },
  {
   "cell_type": "code",
   "execution_count": 3,
   "metadata": {},
   "outputs": [
    {
     "name": "stdout",
     "output_type": "stream",
     "text": [
      "Counting files in year windows...\n"
     ]
    },
    {
     "name": "stderr",
     "output_type": "stream",
     "text": [
      "100%|██████████| 18194/18194 [00:00<00:00, 184788.91it/s]\n"
     ]
    },
    {
     "data": {
      "application/vnd.plotly.v1+json": {
       "config": {
        "plotlyServerURL": "https://plot.ly"
       },
       "data": [
        {
         "hoverinfo": "text",
         "marker": {
          "color": [
           "blue",
           "blue",
           "red",
           "blue",
           "blue",
           "blue",
           "blue",
           "blue",
           "blue",
           "blue",
           "blue",
           "blue",
           "blue",
           "red",
           "red",
           "red",
           "red",
           "red",
           "orange",
           "blue",
           "blue",
           "blue",
           "red",
           "red",
           "red",
           "red",
           "red",
           "red",
           "orange",
           "blue",
           "blue",
           "red",
           "red",
           "blue",
           "blue",
           "blue",
           "red",
           "blue",
           "red",
           "blue",
           "red",
           "blue",
           "red",
           "blue",
           "red",
           "blue",
           "red",
           "red",
           "blue",
           "blue",
           "red",
           "red",
           "blue",
           "red",
           "red",
           "blue",
           "red",
           "blue",
           "red",
           "blue",
           "red",
           "blue",
           "blue",
           "red",
           "blue",
           "red",
           "blue",
           "red",
           "blue",
           "red",
           "blue",
           "red",
           "blue",
           "red",
           "blue",
           "red",
           "red",
           "blue",
           "red",
           "blue",
           "red",
           "blue",
           "red",
           "blue",
           "blue",
           "red",
           "blue",
           "red",
           "blue",
           "red",
           "blue",
           "red",
           "blue",
           "red",
           "blue",
           "red",
           "blue",
           "red",
           "blue",
           "blue",
           "blue",
           "blue",
           "blue",
           "blue",
           "blue",
           "blue",
           "blue",
           "blue",
           "blue",
           "blue",
           "blue",
           "blue",
           "blue",
           "blue",
           "blue",
           "blue",
           "blue",
           "blue",
           "blue",
           "blue",
           "blue",
           "blue",
           "blue",
           "blue",
           "blue",
           "blue",
           "blue",
           "blue",
           "blue",
           "blue",
           "blue",
           "blue",
           "blue",
           "blue",
           "blue",
           "blue",
           "blue",
           "blue",
           "blue",
           "blue",
           "blue",
           "blue",
           "blue",
           "blue",
           "blue",
           "blue",
           "blue",
           "blue",
           "blue",
           "blue",
           "blue",
           "blue",
           "blue",
           "blue",
           "blue",
           "blue",
           "blue",
           "blue",
           "blue",
           "blue",
           "blue",
           "blue",
           "blue",
           "blue",
           "blue",
           "blue",
           "blue",
           "blue",
           "blue",
           "blue",
           "blue",
           "blue",
           "blue",
           "blue",
           "blue",
           "blue",
           "blue",
           "blue",
           "blue",
           "blue",
           "orange",
           "orange",
           "orange",
           "orange",
           "blue",
           "blue",
           "blue",
           "blue",
           "blue",
           "blue",
           "blue",
           "blue",
           "blue",
           "blue",
           "blue",
           "blue",
           "blue",
           "blue",
           "blue",
           "blue",
           "blue",
           "blue",
           "blue",
           "blue",
           "blue",
           "blue",
           "blue",
           "blue",
           "blue",
           "blue",
           "blue",
           "blue",
           "blue",
           "red",
           "blue",
           "blue",
           "blue",
           "blue",
           "blue",
           "blue",
           "blue",
           "blue",
           "blue",
           "blue",
           "blue",
           "orange",
           "blue",
           "orange",
           "blue",
           "blue",
           "blue",
           "blue",
           "blue",
           "blue",
           "blue",
           "blue",
           "blue",
           "blue",
           "blue",
           "blue",
           "blue",
           "blue",
           "red",
           "blue",
           "blue",
           "red",
           "orange",
           "blue",
           "orange",
           "blue",
           "blue",
           "blue",
           "red",
           "blue",
           "orange",
           "orange",
           "orange",
           "orange",
           "orange",
           "orange",
           "orange",
           "orange",
           "orange",
           "orange",
           "orange",
           "orange",
           "blue",
           "blue",
           "blue",
           "blue",
           "blue",
           "blue",
           "blue",
           "blue",
           "blue",
           "blue",
           "orange",
           "orange",
           "orange",
           "orange",
           "orange",
           "orange",
           "orange",
           "orange",
           "orange",
           "blue",
           "blue",
           "blue",
           "blue",
           "blue",
           "red",
           "red",
           "red",
           "red",
           "red",
           "orange",
           "red",
           "red",
           "red",
           "red",
           "orange",
           "orange",
           "red",
           "red",
           "red",
           "orange",
           "red",
           "orange",
           "red",
           "orange",
           "orange",
           "orange",
           "orange",
           "red",
           "orange",
           "orange",
           "red",
           "red",
           "red",
           "red",
           "red",
           "orange",
           "orange",
           "orange",
           "red",
           "orange",
           "orange",
           "red",
           "orange",
           "orange",
           "orange",
           "orange",
           "orange",
           "orange",
           "orange",
           "blue",
           "blue",
           "blue",
           "blue",
           "blue",
           "blue",
           "blue",
           "blue",
           "blue",
           "blue",
           "blue",
           "blue",
           "blue",
           "blue",
           "blue",
           "blue",
           "blue",
           "blue",
           "blue",
           "blue",
           "blue",
           "blue",
           "blue",
           "blue",
           "blue"
          ],
          "line": {
           "color": "black",
           "width": 1
          },
          "size": 10
         },
         "mode": "markers+lines",
         "text": [
          "Year: 1665<br>Count: 158",
          "Year: 1666<br>Count: 231",
          "Year: 1667<br>Count: 0",
          "Year: 1668<br>Count: 303",
          "Year: 1669<br>Count: 372",
          "Year: 1670<br>Count: 288",
          "Year: 1671<br>Count: 291",
          "Year: 1672<br>Count: 361",
          "Year: 1673<br>Count: 354",
          "Year: 1674<br>Count: 342",
          "Year: 1675<br>Count: 334",
          "Year: 1676<br>Count: 317",
          "Year: 1677<br>Count: 326",
          "Year: 1678<br>Count: 0",
          "Year: 1679<br>Count: 0",
          "Year: 1680<br>Count: 0",
          "Year: 1681<br>Count: 0",
          "Year: 1682<br>Count: 0",
          "Year: 1683<br>Count: 61",
          "Year: 1684<br>Count: 154",
          "Year: 1685<br>Count: 261",
          "Year: 1686<br>Count: 374",
          "Year: 1687<br>Count: 0",
          "Year: 1688<br>Count: 0",
          "Year: 1689<br>Count: 0",
          "Year: 1690<br>Count: 0",
          "Year: 1691<br>Count: 0",
          "Year: 1692<br>Count: 0",
          "Year: 1693<br>Count: 93",
          "Year: 1694<br>Count: 147",
          "Year: 1695<br>Count: 303",
          "Year: 1696<br>Count: 0",
          "Year: 1697<br>Count: 0",
          "Year: 1698<br>Count: 318",
          "Year: 1699<br>Count: 350",
          "Year: 1700<br>Count: 319",
          "Year: 1701<br>Count: 0",
          "Year: 1702<br>Count: 397",
          "Year: 1703<br>Count: 0",
          "Year: 1704<br>Count: 319",
          "Year: 1705<br>Count: 0",
          "Year: 1706<br>Count: 262",
          "Year: 1707<br>Count: 0",
          "Year: 1708<br>Count: 262",
          "Year: 1709<br>Count: 0",
          "Year: 1710<br>Count: 221",
          "Year: 1711<br>Count: 0",
          "Year: 1712<br>Count: 0",
          "Year: 1713<br>Count: 116",
          "Year: 1714<br>Count: 189",
          "Year: 1715<br>Count: 0",
          "Year: 1716<br>Count: 0",
          "Year: 1717<br>Count: 195",
          "Year: 1718<br>Count: 0",
          "Year: 1719<br>Count: 0",
          "Year: 1720<br>Count: 144",
          "Year: 1721<br>Count: 0",
          "Year: 1722<br>Count: 164",
          "Year: 1723<br>Count: 0",
          "Year: 1724<br>Count: 245",
          "Year: 1725<br>Count: 0",
          "Year: 1726<br>Count: 242",
          "Year: 1727<br>Count: 210",
          "Year: 1728<br>Count: 0",
          "Year: 1729<br>Count: 197",
          "Year: 1730<br>Count: 0",
          "Year: 1731<br>Count: 216",
          "Year: 1732<br>Count: 0",
          "Year: 1733<br>Count: 216",
          "Year: 1734<br>Count: 0",
          "Year: 1735<br>Count: 239",
          "Year: 1736<br>Count: 0",
          "Year: 1737<br>Count: 247",
          "Year: 1738<br>Count: 0",
          "Year: 1739<br>Count: 358",
          "Year: 1740<br>Count: 0",
          "Year: 1741<br>Count: 0",
          "Year: 1742<br>Count: 289",
          "Year: 1743<br>Count: 0",
          "Year: 1744<br>Count: 226",
          "Year: 1745<br>Count: 0",
          "Year: 1746<br>Count: 355",
          "Year: 1747<br>Count: 0",
          "Year: 1748<br>Count: 324",
          "Year: 1749<br>Count: 385",
          "Year: 1750<br>Count: 0",
          "Year: 1751<br>Count: 357",
          "Year: 1752<br>Count: 0",
          "Year: 1753<br>Count: 389",
          "Year: 1754<br>Count: 0",
          "Year: 1755<br>Count: 331",
          "Year: 1756<br>Count: 0",
          "Year: 1757<br>Count: 348",
          "Year: 1758<br>Count: 0",
          "Year: 1759<br>Count: 328",
          "Year: 1760<br>Count: 0",
          "Year: 1761<br>Count: 320",
          "Year: 1762<br>Count: 0",
          "Year: 1763<br>Count: 260",
          "Year: 1764<br>Count: 230",
          "Year: 1765<br>Count: 266",
          "Year: 1766<br>Count: 198",
          "Year: 1767<br>Count: 251",
          "Year: 1768<br>Count: 245",
          "Year: 1769<br>Count: 256",
          "Year: 1770<br>Count: 275",
          "Year: 1771<br>Count: 290",
          "Year: 1772<br>Count: 274",
          "Year: 1773<br>Count: 264",
          "Year: 1774<br>Count: 246",
          "Year: 1775<br>Count: 242",
          "Year: 1776<br>Count: 229",
          "Year: 1777<br>Count: 232",
          "Year: 1778<br>Count: 242",
          "Year: 1779<br>Count: 230",
          "Year: 1780<br>Count: 214",
          "Year: 1781<br>Count: 228",
          "Year: 1782<br>Count: 220",
          "Year: 1783<br>Count: 197",
          "Year: 1784<br>Count: 199",
          "Year: 1785<br>Count: 192",
          "Year: 1786<br>Count: 162",
          "Year: 1787<br>Count: 173",
          "Year: 1788<br>Count: 175",
          "Year: 1789<br>Count: 158",
          "Year: 1790<br>Count: 159",
          "Year: 1791<br>Count: 156",
          "Year: 1792<br>Count: 139",
          "Year: 1793<br>Count: 129",
          "Year: 1794<br>Count: 135",
          "Year: 1795<br>Count: 129",
          "Year: 1796<br>Count: 126",
          "Year: 1797<br>Count: 125",
          "Year: 1798<br>Count: 130",
          "Year: 1799<br>Count: 118",
          "Year: 1800<br>Count: 116",
          "Year: 1801<br>Count: 118",
          "Year: 1802<br>Count: 115",
          "Year: 1803<br>Count: 107",
          "Year: 1804<br>Count: 106",
          "Year: 1805<br>Count: 111",
          "Year: 1806<br>Count: 111",
          "Year: 1807<br>Count: 107",
          "Year: 1808<br>Count: 113",
          "Year: 1809<br>Count: 124",
          "Year: 1810<br>Count: 117",
          "Year: 1811<br>Count: 112",
          "Year: 1812<br>Count: 119",
          "Year: 1813<br>Count: 131",
          "Year: 1814<br>Count: 135",
          "Year: 1815<br>Count: 142",
          "Year: 1816<br>Count: 149",
          "Year: 1817<br>Count: 154",
          "Year: 1818<br>Count: 147",
          "Year: 1819<br>Count: 138",
          "Year: 1820<br>Count: 137",
          "Year: 1821<br>Count: 140",
          "Year: 1822<br>Count: 147",
          "Year: 1823<br>Count: 152",
          "Year: 1824<br>Count: 156",
          "Year: 1825<br>Count: 159",
          "Year: 1826<br>Count: 177",
          "Year: 1827<br>Count: 168",
          "Year: 1828<br>Count: 159",
          "Year: 1829<br>Count: 163",
          "Year: 1830<br>Count: 163",
          "Year: 1831<br>Count: 144",
          "Year: 1832<br>Count: 145",
          "Year: 1833<br>Count: 152",
          "Year: 1834<br>Count: 151",
          "Year: 1835<br>Count: 146",
          "Year: 1836<br>Count: 145",
          "Year: 1837<br>Count: 142",
          "Year: 1838<br>Count: 133",
          "Year: 1839<br>Count: 126",
          "Year: 1840<br>Count: 130",
          "Year: 1841<br>Count: 126",
          "Year: 1842<br>Count: 118",
          "Year: 1843<br>Count: 113",
          "Year: 1844<br>Count: 101",
          "Year: 1845<br>Count: 92",
          "Year: 1846<br>Count: 97",
          "Year: 1847<br>Count: 96",
          "Year: 1848<br>Count: 97",
          "Year: 1849<br>Count: 109",
          "Year: 1850<br>Count: 131",
          "Year: 1851<br>Count: 137",
          "Year: 1852<br>Count: 144",
          "Year: 1853<br>Count: 145",
          "Year: 1854<br>Count: 136",
          "Year: 1855<br>Count: 114",
          "Year: 1856<br>Count: 112",
          "Year: 1857<br>Count: 127",
          "Year: 1858<br>Count: 145",
          "Year: 1859<br>Count: 165",
          "Year: 1860<br>Count: 175",
          "Year: 1861<br>Count: 172",
          "Year: 1862<br>Count: 178",
          "Year: 1863<br>Count: 171",
          "Year: 1864<br>Count: 155",
          "Year: 1865<br>Count: 145",
          "Year: 1866<br>Count: 141",
          "Year: 1867<br>Count: 119",
          "Year: 1868<br>Count: 119",
          "Year: 1869<br>Count: 133",
          "Year: 1870<br>Count: 140",
          "Year: 1871<br>Count: 136",
          "Year: 1872<br>Count: 132",
          "Year: 1873<br>Count: 120",
          "Year: 1874<br>Count: 111",
          "Year: 1875<br>Count: 109",
          "Year: 1876<br>Count: 114",
          "Year: 1877<br>Count: 114",
          "Year: 1878<br>Count: 0",
          "Year: 1879<br>Count: 148",
          "Year: 1880<br>Count: 152",
          "Year: 1881<br>Count: 144",
          "Year: 1882<br>Count: 154",
          "Year: 1883<br>Count: 184",
          "Year: 1884<br>Count: 129",
          "Year: 1885<br>Count: 120",
          "Year: 1886<br>Count: 122",
          "Year: 1887<br>Count: 127",
          "Year: 1888<br>Count: 121",
          "Year: 1889<br>Count: 109",
          "Year: 1890<br>Count: 99",
          "Year: 1891<br>Count: 100",
          "Year: 1892<br>Count: 94",
          "Year: 1893<br>Count: 102",
          "Year: 1894<br>Count: 135",
          "Year: 1895<br>Count: 168",
          "Year: 1896<br>Count: 168",
          "Year: 1897<br>Count: 178",
          "Year: 1898<br>Count: 168",
          "Year: 1899<br>Count: 143",
          "Year: 1900<br>Count: 145",
          "Year: 1901<br>Count: 158",
          "Year: 1902<br>Count: 139",
          "Year: 1903<br>Count: 146",
          "Year: 1904<br>Count: 161",
          "Year: 1905<br>Count: 146",
          "Year: 1906<br>Count: 146",
          "Year: 1907<br>Count: 0",
          "Year: 1908<br>Count: 135",
          "Year: 1909<br>Count: 129",
          "Year: 1910<br>Count: 0",
          "Year: 1911<br>Count: 83",
          "Year: 1912<br>Count: 106",
          "Year: 1913<br>Count: 89",
          "Year: 1914<br>Count: 106",
          "Year: 1915<br>Count: 129",
          "Year: 1916<br>Count: 133",
          "Year: 1917<br>Count: 0",
          "Year: 1918<br>Count: 112",
          "Year: 1919<br>Count: 77",
          "Year: 1920<br>Count: 75",
          "Year: 1921<br>Count: 73",
          "Year: 1922<br>Count: 83",
          "Year: 1923<br>Count: 79",
          "Year: 1924<br>Count: 88",
          "Year: 1925<br>Count: 75",
          "Year: 1926<br>Count: 73",
          "Year: 1927<br>Count: 82",
          "Year: 1928<br>Count: 83",
          "Year: 1929<br>Count: 83",
          "Year: 1930<br>Count: 96",
          "Year: 1931<br>Count: 108",
          "Year: 1932<br>Count: 121",
          "Year: 1933<br>Count: 114",
          "Year: 1934<br>Count: 138",
          "Year: 1935<br>Count: 151",
          "Year: 1936<br>Count: 147",
          "Year: 1937<br>Count: 137",
          "Year: 1938<br>Count: 145",
          "Year: 1939<br>Count: 121",
          "Year: 1940<br>Count: 101",
          "Year: 1941<br>Count: 82",
          "Year: 1942<br>Count: 65",
          "Year: 1943<br>Count: 46",
          "Year: 1944<br>Count: 32",
          "Year: 1945<br>Count: 23",
          "Year: 1946<br>Count: 24",
          "Year: 1947<br>Count: 33",
          "Year: 1948<br>Count: 65",
          "Year: 1949<br>Count: 75",
          "Year: 1950<br>Count: 100",
          "Year: 1951<br>Count: 119",
          "Year: 1952<br>Count: 142",
          "Year: 1953<br>Count: 133",
          "Year: 1954<br>Count: 135",
          "Year: 1955<br>Count: 0",
          "Year: 1956<br>Count: 0",
          "Year: 1957<br>Count: 0",
          "Year: 1958<br>Count: 0",
          "Year: 1959<br>Count: 0",
          "Year: 1960<br>Count: 1",
          "Year: 1961<br>Count: 0",
          "Year: 1962<br>Count: 0",
          "Year: 1963<br>Count: 0",
          "Year: 1964<br>Count: 0",
          "Year: 1965<br>Count: 1",
          "Year: 1966<br>Count: 3",
          "Year: 1967<br>Count: 0",
          "Year: 1968<br>Count: 0",
          "Year: 1969<br>Count: 0",
          "Year: 1970<br>Count: 3",
          "Year: 1971<br>Count: 0",
          "Year: 1972<br>Count: 2",
          "Year: 1973<br>Count: 0",
          "Year: 1974<br>Count: 3",
          "Year: 1975<br>Count: 3",
          "Year: 1976<br>Count: 4",
          "Year: 1977<br>Count: 5",
          "Year: 1978<br>Count: 0",
          "Year: 1979<br>Count: 5",
          "Year: 1980<br>Count: 5",
          "Year: 1981<br>Count: 0",
          "Year: 1982<br>Count: 0",
          "Year: 1983<br>Count: 0",
          "Year: 1984<br>Count: 0",
          "Year: 1985<br>Count: 0",
          "Year: 1986<br>Count: 3",
          "Year: 1987<br>Count: 4",
          "Year: 1988<br>Count: 5",
          "Year: 1989<br>Count: 0",
          "Year: 1990<br>Count: 6",
          "Year: 1991<br>Count: 5",
          "Year: 1992<br>Count: 0",
          "Year: 1993<br>Count: 7",
          "Year: 1994<br>Count: 12",
          "Year: 1995<br>Count: 15",
          "Year: 1996<br>Count: 22",
          "Year: 1997<br>Count: 44",
          "Year: 1998<br>Count: 57",
          "Year: 1999<br>Count: 79",
          "Year: 2000<br>Count: 104",
          "Year: 2001<br>Count: 124",
          "Year: 2002<br>Count: 126",
          "Year: 2003<br>Count: 138",
          "Year: 2004<br>Count: 128",
          "Year: 2005<br>Count: 118",
          "Year: 2006<br>Count: 125",
          "Year: 2007<br>Count: 167",
          "Year: 2008<br>Count: 307",
          "Year: 2009<br>Count: 396",
          "Year: 2010<br>Count: 519",
          "Year: 2011<br>Count: 628",
          "Year: 2012<br>Count: 761",
          "Year: 2013<br>Count: 978",
          "Year: 2014<br>Count: 1561",
          "Year: 2015<br>Count: 2244",
          "Year: 2016<br>Count: 2914",
          "Year: 2017<br>Count: 3452",
          "Year: 2018<br>Count: 3652",
          "Year: 2019<br>Count: 4067",
          "Year: 2020<br>Count: 4021",
          "Year: 2021<br>Count: 3883",
          "Year: 2022<br>Count: 3564",
          "Year: 2023<br>Count: 3024",
          "Year: 2024<br>Count: 1921"
         ],
         "type": "scatter",
         "x": [
          1665,
          1666,
          1667,
          1668,
          1669,
          1670,
          1671,
          1672,
          1673,
          1674,
          1675,
          1676,
          1677,
          1678,
          1679,
          1680,
          1681,
          1682,
          1683,
          1684,
          1685,
          1686,
          1687,
          1688,
          1689,
          1690,
          1691,
          1692,
          1693,
          1694,
          1695,
          1696,
          1697,
          1698,
          1699,
          1700,
          1701,
          1702,
          1703,
          1704,
          1705,
          1706,
          1707,
          1708,
          1709,
          1710,
          1711,
          1712,
          1713,
          1714,
          1715,
          1716,
          1717,
          1718,
          1719,
          1720,
          1721,
          1722,
          1723,
          1724,
          1725,
          1726,
          1727,
          1728,
          1729,
          1730,
          1731,
          1732,
          1733,
          1734,
          1735,
          1736,
          1737,
          1738,
          1739,
          1740,
          1741,
          1742,
          1743,
          1744,
          1745,
          1746,
          1747,
          1748,
          1749,
          1750,
          1751,
          1752,
          1753,
          1754,
          1755,
          1756,
          1757,
          1758,
          1759,
          1760,
          1761,
          1762,
          1763,
          1764,
          1765,
          1766,
          1767,
          1768,
          1769,
          1770,
          1771,
          1772,
          1773,
          1774,
          1775,
          1776,
          1777,
          1778,
          1779,
          1780,
          1781,
          1782,
          1783,
          1784,
          1785,
          1786,
          1787,
          1788,
          1789,
          1790,
          1791,
          1792,
          1793,
          1794,
          1795,
          1796,
          1797,
          1798,
          1799,
          1800,
          1801,
          1802,
          1803,
          1804,
          1805,
          1806,
          1807,
          1808,
          1809,
          1810,
          1811,
          1812,
          1813,
          1814,
          1815,
          1816,
          1817,
          1818,
          1819,
          1820,
          1821,
          1822,
          1823,
          1824,
          1825,
          1826,
          1827,
          1828,
          1829,
          1830,
          1831,
          1832,
          1833,
          1834,
          1835,
          1836,
          1837,
          1838,
          1839,
          1840,
          1841,
          1842,
          1843,
          1844,
          1845,
          1846,
          1847,
          1848,
          1849,
          1850,
          1851,
          1852,
          1853,
          1854,
          1855,
          1856,
          1857,
          1858,
          1859,
          1860,
          1861,
          1862,
          1863,
          1864,
          1865,
          1866,
          1867,
          1868,
          1869,
          1870,
          1871,
          1872,
          1873,
          1874,
          1875,
          1876,
          1877,
          1878,
          1879,
          1880,
          1881,
          1882,
          1883,
          1884,
          1885,
          1886,
          1887,
          1888,
          1889,
          1890,
          1891,
          1892,
          1893,
          1894,
          1895,
          1896,
          1897,
          1898,
          1899,
          1900,
          1901,
          1902,
          1903,
          1904,
          1905,
          1906,
          1907,
          1908,
          1909,
          1910,
          1911,
          1912,
          1913,
          1914,
          1915,
          1916,
          1917,
          1918,
          1919,
          1920,
          1921,
          1922,
          1923,
          1924,
          1925,
          1926,
          1927,
          1928,
          1929,
          1930,
          1931,
          1932,
          1933,
          1934,
          1935,
          1936,
          1937,
          1938,
          1939,
          1940,
          1941,
          1942,
          1943,
          1944,
          1945,
          1946,
          1947,
          1948,
          1949,
          1950,
          1951,
          1952,
          1953,
          1954,
          1955,
          1956,
          1957,
          1958,
          1959,
          1960,
          1961,
          1962,
          1963,
          1964,
          1965,
          1966,
          1967,
          1968,
          1969,
          1970,
          1971,
          1972,
          1973,
          1974,
          1975,
          1976,
          1977,
          1978,
          1979,
          1980,
          1981,
          1982,
          1983,
          1984,
          1985,
          1986,
          1987,
          1988,
          1989,
          1990,
          1991,
          1992,
          1993,
          1994,
          1995,
          1996,
          1997,
          1998,
          1999,
          2000,
          2001,
          2002,
          2003,
          2004,
          2005,
          2006,
          2007,
          2008,
          2009,
          2010,
          2011,
          2012,
          2013,
          2014,
          2015,
          2016,
          2017,
          2018,
          2019,
          2020,
          2021,
          2022,
          2023,
          2024
         ],
         "y": [
          158,
          231,
          0,
          303,
          372,
          288,
          291,
          361,
          354,
          342,
          334,
          317,
          326,
          0,
          0,
          0,
          0,
          0,
          61,
          154,
          261,
          374,
          0,
          0,
          0,
          0,
          0,
          0,
          93,
          147,
          303,
          0,
          0,
          318,
          350,
          319,
          0,
          397,
          0,
          319,
          0,
          262,
          0,
          262,
          0,
          221,
          0,
          0,
          116,
          189,
          0,
          0,
          195,
          0,
          0,
          144,
          0,
          164,
          0,
          245,
          0,
          242,
          210,
          0,
          197,
          0,
          216,
          0,
          216,
          0,
          239,
          0,
          247,
          0,
          358,
          0,
          0,
          289,
          0,
          226,
          0,
          355,
          0,
          324,
          385,
          0,
          357,
          0,
          389,
          0,
          331,
          0,
          348,
          0,
          328,
          0,
          320,
          0,
          260,
          230,
          266,
          198,
          251,
          245,
          256,
          275,
          290,
          274,
          264,
          246,
          242,
          229,
          232,
          242,
          230,
          214,
          228,
          220,
          197,
          199,
          192,
          162,
          173,
          175,
          158,
          159,
          156,
          139,
          129,
          135,
          129,
          126,
          125,
          130,
          118,
          116,
          118,
          115,
          107,
          106,
          111,
          111,
          107,
          113,
          124,
          117,
          112,
          119,
          131,
          135,
          142,
          149,
          154,
          147,
          138,
          137,
          140,
          147,
          152,
          156,
          159,
          177,
          168,
          159,
          163,
          163,
          144,
          145,
          152,
          151,
          146,
          145,
          142,
          133,
          126,
          130,
          126,
          118,
          113,
          101,
          92,
          97,
          96,
          97,
          109,
          131,
          137,
          144,
          145,
          136,
          114,
          112,
          127,
          145,
          165,
          175,
          172,
          178,
          171,
          155,
          145,
          141,
          119,
          119,
          133,
          140,
          136,
          132,
          120,
          111,
          109,
          114,
          114,
          0,
          148,
          152,
          144,
          154,
          184,
          129,
          120,
          122,
          127,
          121,
          109,
          99,
          100,
          94,
          102,
          135,
          168,
          168,
          178,
          168,
          143,
          145,
          158,
          139,
          146,
          161,
          146,
          146,
          0,
          135,
          129,
          0,
          83,
          106,
          89,
          106,
          129,
          133,
          0,
          112,
          77,
          75,
          73,
          83,
          79,
          88,
          75,
          73,
          82,
          83,
          83,
          96,
          108,
          121,
          114,
          138,
          151,
          147,
          137,
          145,
          121,
          101,
          82,
          65,
          46,
          32,
          23,
          24,
          33,
          65,
          75,
          100,
          119,
          142,
          133,
          135,
          0,
          0,
          0,
          0,
          0,
          1,
          0,
          0,
          0,
          0,
          1,
          3,
          0,
          0,
          0,
          3,
          0,
          2,
          0,
          3,
          3,
          4,
          5,
          0,
          5,
          5,
          0,
          0,
          0,
          0,
          0,
          3,
          4,
          5,
          0,
          6,
          5,
          0,
          7,
          12,
          15,
          22,
          44,
          57,
          79,
          104,
          124,
          126,
          138,
          128,
          118,
          125,
          167,
          307,
          396,
          519,
          628,
          761,
          978,
          1561,
          2244,
          2914,
          3452,
          3652,
          4067,
          4021,
          3883,
          3564,
          3024,
          1921
         ]
        }
       ],
       "layout": {
        "template": {
         "data": {
          "bar": [
           {
            "error_x": {
             "color": "#2a3f5f"
            },
            "error_y": {
             "color": "#2a3f5f"
            },
            "marker": {
             "line": {
              "color": "white",
              "width": 0.5
             },
             "pattern": {
              "fillmode": "overlay",
              "size": 10,
              "solidity": 0.2
             }
            },
            "type": "bar"
           }
          ],
          "barpolar": [
           {
            "marker": {
             "line": {
              "color": "white",
              "width": 0.5
             },
             "pattern": {
              "fillmode": "overlay",
              "size": 10,
              "solidity": 0.2
             }
            },
            "type": "barpolar"
           }
          ],
          "carpet": [
           {
            "aaxis": {
             "endlinecolor": "#2a3f5f",
             "gridcolor": "#C8D4E3",
             "linecolor": "#C8D4E3",
             "minorgridcolor": "#C8D4E3",
             "startlinecolor": "#2a3f5f"
            },
            "baxis": {
             "endlinecolor": "#2a3f5f",
             "gridcolor": "#C8D4E3",
             "linecolor": "#C8D4E3",
             "minorgridcolor": "#C8D4E3",
             "startlinecolor": "#2a3f5f"
            },
            "type": "carpet"
           }
          ],
          "choropleth": [
           {
            "colorbar": {
             "outlinewidth": 0,
             "ticks": ""
            },
            "type": "choropleth"
           }
          ],
          "contour": [
           {
            "colorbar": {
             "outlinewidth": 0,
             "ticks": ""
            },
            "colorscale": [
             [
              0,
              "#0d0887"
             ],
             [
              0.1111111111111111,
              "#46039f"
             ],
             [
              0.2222222222222222,
              "#7201a8"
             ],
             [
              0.3333333333333333,
              "#9c179e"
             ],
             [
              0.4444444444444444,
              "#bd3786"
             ],
             [
              0.5555555555555556,
              "#d8576b"
             ],
             [
              0.6666666666666666,
              "#ed7953"
             ],
             [
              0.7777777777777778,
              "#fb9f3a"
             ],
             [
              0.8888888888888888,
              "#fdca26"
             ],
             [
              1,
              "#f0f921"
             ]
            ],
            "type": "contour"
           }
          ],
          "contourcarpet": [
           {
            "colorbar": {
             "outlinewidth": 0,
             "ticks": ""
            },
            "type": "contourcarpet"
           }
          ],
          "heatmap": [
           {
            "colorbar": {
             "outlinewidth": 0,
             "ticks": ""
            },
            "colorscale": [
             [
              0,
              "#0d0887"
             ],
             [
              0.1111111111111111,
              "#46039f"
             ],
             [
              0.2222222222222222,
              "#7201a8"
             ],
             [
              0.3333333333333333,
              "#9c179e"
             ],
             [
              0.4444444444444444,
              "#bd3786"
             ],
             [
              0.5555555555555556,
              "#d8576b"
             ],
             [
              0.6666666666666666,
              "#ed7953"
             ],
             [
              0.7777777777777778,
              "#fb9f3a"
             ],
             [
              0.8888888888888888,
              "#fdca26"
             ],
             [
              1,
              "#f0f921"
             ]
            ],
            "type": "heatmap"
           }
          ],
          "heatmapgl": [
           {
            "colorbar": {
             "outlinewidth": 0,
             "ticks": ""
            },
            "colorscale": [
             [
              0,
              "#0d0887"
             ],
             [
              0.1111111111111111,
              "#46039f"
             ],
             [
              0.2222222222222222,
              "#7201a8"
             ],
             [
              0.3333333333333333,
              "#9c179e"
             ],
             [
              0.4444444444444444,
              "#bd3786"
             ],
             [
              0.5555555555555556,
              "#d8576b"
             ],
             [
              0.6666666666666666,
              "#ed7953"
             ],
             [
              0.7777777777777778,
              "#fb9f3a"
             ],
             [
              0.8888888888888888,
              "#fdca26"
             ],
             [
              1,
              "#f0f921"
             ]
            ],
            "type": "heatmapgl"
           }
          ],
          "histogram": [
           {
            "marker": {
             "pattern": {
              "fillmode": "overlay",
              "size": 10,
              "solidity": 0.2
             }
            },
            "type": "histogram"
           }
          ],
          "histogram2d": [
           {
            "colorbar": {
             "outlinewidth": 0,
             "ticks": ""
            },
            "colorscale": [
             [
              0,
              "#0d0887"
             ],
             [
              0.1111111111111111,
              "#46039f"
             ],
             [
              0.2222222222222222,
              "#7201a8"
             ],
             [
              0.3333333333333333,
              "#9c179e"
             ],
             [
              0.4444444444444444,
              "#bd3786"
             ],
             [
              0.5555555555555556,
              "#d8576b"
             ],
             [
              0.6666666666666666,
              "#ed7953"
             ],
             [
              0.7777777777777778,
              "#fb9f3a"
             ],
             [
              0.8888888888888888,
              "#fdca26"
             ],
             [
              1,
              "#f0f921"
             ]
            ],
            "type": "histogram2d"
           }
          ],
          "histogram2dcontour": [
           {
            "colorbar": {
             "outlinewidth": 0,
             "ticks": ""
            },
            "colorscale": [
             [
              0,
              "#0d0887"
             ],
             [
              0.1111111111111111,
              "#46039f"
             ],
             [
              0.2222222222222222,
              "#7201a8"
             ],
             [
              0.3333333333333333,
              "#9c179e"
             ],
             [
              0.4444444444444444,
              "#bd3786"
             ],
             [
              0.5555555555555556,
              "#d8576b"
             ],
             [
              0.6666666666666666,
              "#ed7953"
             ],
             [
              0.7777777777777778,
              "#fb9f3a"
             ],
             [
              0.8888888888888888,
              "#fdca26"
             ],
             [
              1,
              "#f0f921"
             ]
            ],
            "type": "histogram2dcontour"
           }
          ],
          "mesh3d": [
           {
            "colorbar": {
             "outlinewidth": 0,
             "ticks": ""
            },
            "type": "mesh3d"
           }
          ],
          "parcoords": [
           {
            "line": {
             "colorbar": {
              "outlinewidth": 0,
              "ticks": ""
             }
            },
            "type": "parcoords"
           }
          ],
          "pie": [
           {
            "automargin": true,
            "type": "pie"
           }
          ],
          "scatter": [
           {
            "fillpattern": {
             "fillmode": "overlay",
             "size": 10,
             "solidity": 0.2
            },
            "type": "scatter"
           }
          ],
          "scatter3d": [
           {
            "line": {
             "colorbar": {
              "outlinewidth": 0,
              "ticks": ""
             }
            },
            "marker": {
             "colorbar": {
              "outlinewidth": 0,
              "ticks": ""
             }
            },
            "type": "scatter3d"
           }
          ],
          "scattercarpet": [
           {
            "marker": {
             "colorbar": {
              "outlinewidth": 0,
              "ticks": ""
             }
            },
            "type": "scattercarpet"
           }
          ],
          "scattergeo": [
           {
            "marker": {
             "colorbar": {
              "outlinewidth": 0,
              "ticks": ""
             }
            },
            "type": "scattergeo"
           }
          ],
          "scattergl": [
           {
            "marker": {
             "colorbar": {
              "outlinewidth": 0,
              "ticks": ""
             }
            },
            "type": "scattergl"
           }
          ],
          "scattermapbox": [
           {
            "marker": {
             "colorbar": {
              "outlinewidth": 0,
              "ticks": ""
             }
            },
            "type": "scattermapbox"
           }
          ],
          "scatterpolar": [
           {
            "marker": {
             "colorbar": {
              "outlinewidth": 0,
              "ticks": ""
             }
            },
            "type": "scatterpolar"
           }
          ],
          "scatterpolargl": [
           {
            "marker": {
             "colorbar": {
              "outlinewidth": 0,
              "ticks": ""
             }
            },
            "type": "scatterpolargl"
           }
          ],
          "scatterternary": [
           {
            "marker": {
             "colorbar": {
              "outlinewidth": 0,
              "ticks": ""
             }
            },
            "type": "scatterternary"
           }
          ],
          "surface": [
           {
            "colorbar": {
             "outlinewidth": 0,
             "ticks": ""
            },
            "colorscale": [
             [
              0,
              "#0d0887"
             ],
             [
              0.1111111111111111,
              "#46039f"
             ],
             [
              0.2222222222222222,
              "#7201a8"
             ],
             [
              0.3333333333333333,
              "#9c179e"
             ],
             [
              0.4444444444444444,
              "#bd3786"
             ],
             [
              0.5555555555555556,
              "#d8576b"
             ],
             [
              0.6666666666666666,
              "#ed7953"
             ],
             [
              0.7777777777777778,
              "#fb9f3a"
             ],
             [
              0.8888888888888888,
              "#fdca26"
             ],
             [
              1,
              "#f0f921"
             ]
            ],
            "type": "surface"
           }
          ],
          "table": [
           {
            "cells": {
             "fill": {
              "color": "#EBF0F8"
             },
             "line": {
              "color": "white"
             }
            },
            "header": {
             "fill": {
              "color": "#C8D4E3"
             },
             "line": {
              "color": "white"
             }
            },
            "type": "table"
           }
          ]
         },
         "layout": {
          "annotationdefaults": {
           "arrowcolor": "#2a3f5f",
           "arrowhead": 0,
           "arrowwidth": 1
          },
          "autotypenumbers": "strict",
          "coloraxis": {
           "colorbar": {
            "outlinewidth": 0,
            "ticks": ""
           }
          },
          "colorscale": {
           "diverging": [
            [
             0,
             "#8e0152"
            ],
            [
             0.1,
             "#c51b7d"
            ],
            [
             0.2,
             "#de77ae"
            ],
            [
             0.3,
             "#f1b6da"
            ],
            [
             0.4,
             "#fde0ef"
            ],
            [
             0.5,
             "#f7f7f7"
            ],
            [
             0.6,
             "#e6f5d0"
            ],
            [
             0.7,
             "#b8e186"
            ],
            [
             0.8,
             "#7fbc41"
            ],
            [
             0.9,
             "#4d9221"
            ],
            [
             1,
             "#276419"
            ]
           ],
           "sequential": [
            [
             0,
             "#0d0887"
            ],
            [
             0.1111111111111111,
             "#46039f"
            ],
            [
             0.2222222222222222,
             "#7201a8"
            ],
            [
             0.3333333333333333,
             "#9c179e"
            ],
            [
             0.4444444444444444,
             "#bd3786"
            ],
            [
             0.5555555555555556,
             "#d8576b"
            ],
            [
             0.6666666666666666,
             "#ed7953"
            ],
            [
             0.7777777777777778,
             "#fb9f3a"
            ],
            [
             0.8888888888888888,
             "#fdca26"
            ],
            [
             1,
             "#f0f921"
            ]
           ],
           "sequentialminus": [
            [
             0,
             "#0d0887"
            ],
            [
             0.1111111111111111,
             "#46039f"
            ],
            [
             0.2222222222222222,
             "#7201a8"
            ],
            [
             0.3333333333333333,
             "#9c179e"
            ],
            [
             0.4444444444444444,
             "#bd3786"
            ],
            [
             0.5555555555555556,
             "#d8576b"
            ],
            [
             0.6666666666666666,
             "#ed7953"
            ],
            [
             0.7777777777777778,
             "#fb9f3a"
            ],
            [
             0.8888888888888888,
             "#fdca26"
            ],
            [
             1,
             "#f0f921"
            ]
           ]
          },
          "colorway": [
           "#636efa",
           "#EF553B",
           "#00cc96",
           "#ab63fa",
           "#FFA15A",
           "#19d3f3",
           "#FF6692",
           "#B6E880",
           "#FF97FF",
           "#FECB52"
          ],
          "font": {
           "color": "#2a3f5f"
          },
          "geo": {
           "bgcolor": "white",
           "lakecolor": "white",
           "landcolor": "white",
           "showlakes": true,
           "showland": true,
           "subunitcolor": "#C8D4E3"
          },
          "hoverlabel": {
           "align": "left"
          },
          "hovermode": "closest",
          "mapbox": {
           "style": "light"
          },
          "paper_bgcolor": "white",
          "plot_bgcolor": "white",
          "polar": {
           "angularaxis": {
            "gridcolor": "#EBF0F8",
            "linecolor": "#EBF0F8",
            "ticks": ""
           },
           "bgcolor": "white",
           "radialaxis": {
            "gridcolor": "#EBF0F8",
            "linecolor": "#EBF0F8",
            "ticks": ""
           }
          },
          "scene": {
           "xaxis": {
            "backgroundcolor": "white",
            "gridcolor": "#DFE8F3",
            "gridwidth": 2,
            "linecolor": "#EBF0F8",
            "showbackground": true,
            "ticks": "",
            "zerolinecolor": "#EBF0F8"
           },
           "yaxis": {
            "backgroundcolor": "white",
            "gridcolor": "#DFE8F3",
            "gridwidth": 2,
            "linecolor": "#EBF0F8",
            "showbackground": true,
            "ticks": "",
            "zerolinecolor": "#EBF0F8"
           },
           "zaxis": {
            "backgroundcolor": "white",
            "gridcolor": "#DFE8F3",
            "gridwidth": 2,
            "linecolor": "#EBF0F8",
            "showbackground": true,
            "ticks": "",
            "zerolinecolor": "#EBF0F8"
           }
          },
          "shapedefaults": {
           "line": {
            "color": "#2a3f5f"
           }
          },
          "ternary": {
           "aaxis": {
            "gridcolor": "#DFE8F3",
            "linecolor": "#A2B1C6",
            "ticks": ""
           },
           "baxis": {
            "gridcolor": "#DFE8F3",
            "linecolor": "#A2B1C6",
            "ticks": ""
           },
           "bgcolor": "white",
           "caxis": {
            "gridcolor": "#DFE8F3",
            "linecolor": "#A2B1C6",
            "ticks": ""
           }
          },
          "title": {
           "x": 0.05
          },
          "xaxis": {
           "automargin": true,
           "gridcolor": "#EBF0F8",
           "linecolor": "#EBF0F8",
           "ticks": "",
           "title": {
            "standoff": 15
           },
           "zerolinecolor": "#EBF0F8",
           "zerolinewidth": 2
          },
          "yaxis": {
           "automargin": true,
           "gridcolor": "#EBF0F8",
           "linecolor": "#EBF0F8",
           "ticks": "",
           "title": {
            "standoff": 15
           },
           "zerolinecolor": "#EBF0F8",
           "zerolinewidth": 2
          }
         }
        },
        "title": {
         "text": "Number of Articles per Year (1665-2024) (without restricteds)"
        },
        "xaxis": {
         "dtick": 5,
         "range": [
          1665,
          2024
         ],
         "tick0": 1665,
         "tickmode": "linear",
         "title": {
          "text": "Year"
         }
        },
        "yaxis": {
         "range": [
          0,
          4567
         ],
         "title": {
          "text": "Number of Articles"
         }
        }
       }
      }
     },
     "metadata": {},
     "output_type": "display_data"
    }
   ],
   "source": [
    "import pandas as pd\n",
    "import plotly.graph_objects as go\n",
    "from collections import defaultdict\n",
    "import os\n",
    "import re\n",
    "from tqdm import tqdm\n",
    "\n",
    "def count_files_in_year_windows(text_dirs, window_size=5):\n",
    "    def extract_year_from_filename(filename):\n",
    "        match = re.search(r'rst[bla]?_?(\\d{4})', filename)\n",
    "        return int(match.group(1)) if match else None\n",
    "\n",
    "    year_counts = defaultdict(int)\n",
    "\n",
    "    print(\"Counting files in year windows...\")\n",
    "    file_paths = [os.path.join(dir, f) for dir in text_dirs for f in os.listdir(dir) if f.endswith('.txt')]\n",
    "\n",
    "    for file_path in tqdm(file_paths):\n",
    "        year = extract_year_from_filename(os.path.basename(file_path))\n",
    "        if year:\n",
    "            year_counts[year] += 1\n",
    "\n",
    "    all_years = sorted(year_counts.keys())\n",
    "    year_windows = defaultdict(int)\n",
    "\n",
    "    for year in all_years:\n",
    "        if year in year_counts:\n",
    "            for offset in range(window_size):\n",
    "                window_year = year + offset\n",
    "                year_windows[window_year] += year_counts[year] if window_year in year_counts else 0\n",
    "\n",
    "    return dict(year_windows)\n",
    "\n",
    "# Example usage\n",
    "year_counts = count_files_in_year_windows(\n",
    "    [r\"D:\\Fact_fiction_corpus\\texts\\royal society\\txt_rstb\", \n",
    "     r\"D:\\Fact_fiction_corpus\\texts\\royal society\\txt_rstl\", \n",
    "     r\"D:\\Fact_fiction_corpus\\texts\\royal society\\txt_rsta\"],\n",
    "    window_size=5\n",
    ")\n",
    "\n",
    "# Prepare the data for plotting\n",
    "years = list(range(1665, 2025))\n",
    "counts = [year_counts.get(year, 0) for year in years]\n",
    "df = pd.DataFrame({'Year': years, 'Article Count': counts})\n",
    "\n",
    "# Create the interactive plot\n",
    "fig = go.Figure()\n",
    "\n",
    "# Add scatter points for each year\n",
    "fig.add_trace(go.Scatter(\n",
    "    x=df['Year'],\n",
    "    y=df['Article Count'],\n",
    "    mode='markers+lines',\n",
    "    marker=dict(\n",
    "        size=10,\n",
    "        color=['red' if count == 0 else 'orange' if count < 100 else 'blue' for count in df['Article Count']],\n",
    "        line=dict(width=1, color='black')\n",
    "    ),\n",
    "    text=[f'Year: {year}<br>Count: {count}' for year, count in zip(df['Year'], df['Article Count'])],  # Tooltip text\n",
    "    hoverinfo='text'  # Show the text on hover\n",
    "))\n",
    "\n",
    "# Update layout\n",
    "fig.update_layout(\n",
    "    title='Number of Articles per Year (1665-2024) (without restricteds)',\n",
    "    xaxis_title='Year',\n",
    "    yaxis_title='Number of Articles',\n",
    "    xaxis=dict(\n",
    "        tickmode='linear',\n",
    "        tick0=1665,\n",
    "        dtick=5,\n",
    "        range=[1665, 2024]  # Explicitly set the range of the x-axis\n",
    "    ),\n",
    "    yaxis=dict(range=[0, df['Article Count'].max() + 500]),  # Adjust the limit as necessary\n",
    "    template='plotly_white'\n",
    ")\n",
    "\n",
    "# Show the plot\n",
    "fig.show()\n"
   ]
  },
  {
   "cell_type": "code",
   "execution_count": 5,
   "metadata": {},
   "outputs": [
    {
     "name": "stdout",
     "output_type": "stream",
     "text": [
      "Processing text files...\n"
     ]
    },
    {
     "name": "stderr",
     "output_type": "stream",
     "text": [
      "100%|██████████| 18194/18194 [00:10<00:00, 1734.41it/s]\n"
     ]
    },
    {
     "data": {
      "application/vnd.plotly.v1+json": {
       "config": {
        "plotlyServerURL": "https://plot.ly"
       },
       "data": [
        {
         "hoverinfo": "text",
         "marker": {
          "color": [
           "blue",
           "blue",
           "blue",
           "blue",
           "blue",
           "blue",
           "blue",
           "blue",
           "blue",
           "blue",
           "blue",
           "blue",
           "blue",
           "blue",
           "blue",
           "blue",
           "orange",
           "red",
           "orange",
           "blue",
           "blue",
           "blue",
           "blue",
           "blue",
           "blue",
           "blue",
           "red",
           "red",
           "orange",
           "blue",
           "blue",
           "blue",
           "blue",
           "blue",
           "blue",
           "blue",
           "blue",
           "blue",
           "blue",
           "blue",
           "blue",
           "blue",
           "blue",
           "blue",
           "blue",
           "blue",
           "blue",
           "blue",
           "blue",
           "blue",
           "blue",
           "blue",
           "blue",
           "blue",
           "orange",
           "blue",
           "blue",
           "blue",
           "blue",
           "blue",
           "blue",
           "blue",
           "blue",
           "blue",
           "blue",
           "blue",
           "blue",
           "blue",
           "blue",
           "blue",
           "blue",
           "blue",
           "blue",
           "blue",
           "blue",
           "blue",
           "blue",
           "blue",
           "blue",
           "blue",
           "blue",
           "blue",
           "blue",
           "blue",
           "blue",
           "blue",
           "blue",
           "blue",
           "blue",
           "blue",
           "blue",
           "blue",
           "blue",
           "blue",
           "blue",
           "blue",
           "blue",
           "blue",
           "blue",
           "blue",
           "blue",
           "blue",
           "blue",
           "blue",
           "blue",
           "blue",
           "blue",
           "blue",
           "blue",
           "blue",
           "blue",
           "blue",
           "blue",
           "blue",
           "blue",
           "blue",
           "blue",
           "blue",
           "blue",
           "blue",
           "blue",
           "blue",
           "blue",
           "blue",
           "blue",
           "blue",
           "blue",
           "blue",
           "blue",
           "blue",
           "blue",
           "blue",
           "blue",
           "blue",
           "blue",
           "blue",
           "blue",
           "blue",
           "blue",
           "blue",
           "blue",
           "blue",
           "blue",
           "blue",
           "blue",
           "blue",
           "blue",
           "blue",
           "blue",
           "blue",
           "blue",
           "blue",
           "blue",
           "blue",
           "blue",
           "blue",
           "blue",
           "blue",
           "blue",
           "blue",
           "blue",
           "blue",
           "blue",
           "blue",
           "blue",
           "blue",
           "blue",
           "blue",
           "blue",
           "blue",
           "blue",
           "blue",
           "blue",
           "blue",
           "blue",
           "blue",
           "blue",
           "blue",
           "blue",
           "blue",
           "blue",
           "blue",
           "blue",
           "blue",
           "blue",
           "blue",
           "blue",
           "blue",
           "blue",
           "blue",
           "blue",
           "blue",
           "blue",
           "blue",
           "blue",
           "blue",
           "blue",
           "blue",
           "blue",
           "blue",
           "blue",
           "blue",
           "blue",
           "blue",
           "blue",
           "blue",
           "blue",
           "blue",
           "blue",
           "blue",
           "blue",
           "blue",
           "blue",
           "blue",
           "blue",
           "blue",
           "blue",
           "blue",
           "blue",
           "blue",
           "blue",
           "blue",
           "blue",
           "blue",
           "blue",
           "blue",
           "blue",
           "blue",
           "blue",
           "blue",
           "blue",
           "blue",
           "blue",
           "blue",
           "blue",
           "blue",
           "blue",
           "blue",
           "blue",
           "blue",
           "blue",
           "blue",
           "blue",
           "blue",
           "blue",
           "blue",
           "blue",
           "blue",
           "blue",
           "blue",
           "blue",
           "blue",
           "blue",
           "blue",
           "blue",
           "blue",
           "blue",
           "blue",
           "blue",
           "blue",
           "blue",
           "blue",
           "blue",
           "blue",
           "blue",
           "blue",
           "blue",
           "blue",
           "blue",
           "blue",
           "blue",
           "blue",
           "blue",
           "blue",
           "blue",
           "blue",
           "blue",
           "blue",
           "blue",
           "blue",
           "blue",
           "blue",
           "blue",
           "blue",
           "blue",
           "blue",
           "blue",
           "blue",
           "blue",
           "blue",
           "blue",
           "blue",
           "blue",
           "blue"
          ],
          "line": {
           "color": "black",
           "width": 1
          },
          "size": 8
         },
         "mode": "markers+lines",
         "name": "Characters",
         "text": [
          "Year: 1665<br>Characters: 1,036,750",
          "Year: 1666<br>Characters: 1,647,346",
          "Year: 1667<br>Characters: 1,647,346",
          "Year: 1668<br>Characters: 2,338,183",
          "Year: 1669<br>Characters: 2,931,939",
          "Year: 1670<br>Characters: 2,738,127",
          "Year: 1671<br>Characters: 2,864,030",
          "Year: 1672<br>Characters: 3,543,111",
          "Year: 1673<br>Characters: 3,436,746",
          "Year: 1674<br>Characters: 3,513,902",
          "Year: 1675<br>Characters: 3,366,833",
          "Year: 1676<br>Characters: 3,315,048",
          "Year: 1677<br>Characters: 3,275,936",
          "Year: 1678<br>Characters: 2,691,464",
          "Year: 1679<br>Characters: 2,020,552",
          "Year: 1680<br>Characters: 1,324,683",
          "Year: 1681<br>Characters: 639,969",
          "Year: 1682<br>Characters: 0",
          "Year: 1683<br>Characters: 789,649",
          "Year: 1684<br>Characters: 1,546,159",
          "Year: 1685<br>Characters: 2,351,827",
          "Year: 1686<br>Characters: 3,387,540",
          "Year: 1687<br>Characters: 3,387,540",
          "Year: 1688<br>Characters: 2,597,891",
          "Year: 1689<br>Characters: 1,841,381",
          "Year: 1690<br>Characters: 1,035,713",
          "Year: 1691<br>Characters: 0",
          "Year: 1692<br>Characters: 0",
          "Year: 1693<br>Characters: 827,311",
          "Year: 1694<br>Characters: 1,315,687",
          "Year: 1695<br>Characters: 2,679,980",
          "Year: 1696<br>Characters: 2,679,980",
          "Year: 1697<br>Characters: 2,679,980",
          "Year: 1698<br>Characters: 2,692,100",
          "Year: 1699<br>Characters: 3,049,662",
          "Year: 1700<br>Characters: 2,866,988",
          "Year: 1701<br>Characters: 2,866,988",
          "Year: 1702<br>Characters: 3,784,875",
          "Year: 1703<br>Characters: 2,945,444",
          "Year: 1704<br>Characters: 3,359,223",
          "Year: 1705<br>Characters: 2,177,604",
          "Year: 1706<br>Characters: 2,728,989",
          "Year: 1707<br>Characters: 1,811,102",
          "Year: 1708<br>Characters: 2,628,326",
          "Year: 1709<br>Characters: 1,368,609",
          "Year: 1710<br>Characters: 2,380,476",
          "Year: 1711<br>Characters: 1,829,091",
          "Year: 1712<br>Characters: 1,829,091",
          "Year: 1713<br>Characters: 1,502,131",
          "Year: 1714<br>Characters: 2,465,749",
          "Year: 1715<br>Characters: 1,453,882",
          "Year: 1716<br>Characters: 1,453,882",
          "Year: 1717<br>Characters: 2,370,103",
          "Year: 1718<br>Characters: 1,879,839",
          "Year: 1719<br>Characters: 916,221",
          "Year: 1720<br>Characters: 1,340,066",
          "Year: 1721<br>Characters: 1,340,066",
          "Year: 1722<br>Characters: 1,132,632",
          "Year: 1723<br>Characters: 1,132,632",
          "Year: 1724<br>Characters: 1,845,030",
          "Year: 1725<br>Characters: 1,421,185",
          "Year: 1726<br>Characters: 1,856,940",
          "Year: 1727<br>Characters: 1,733,577",
          "Year: 1728<br>Characters: 1,733,577",
          "Year: 1729<br>Characters: 1,742,164",
          "Year: 1730<br>Characters: 1,742,164",
          "Year: 1731<br>Characters: 2,020,245",
          "Year: 1732<br>Characters: 1,434,821",
          "Year: 1733<br>Characters: 2,148,256",
          "Year: 1734<br>Characters: 1,427,271",
          "Year: 1735<br>Characters: 2,023,349",
          "Year: 1736<br>Characters: 1,309,513",
          "Year: 1737<br>Characters: 2,113,495",
          "Year: 1738<br>Characters: 1,400,060",
          "Year: 1739<br>Characters: 2,796,057",
          "Year: 1740<br>Characters: 2,199,979",
          "Year: 1741<br>Characters: 2,199,979",
          "Year: 1742<br>Characters: 2,398,706",
          "Year: 1743<br>Characters: 2,398,706",
          "Year: 1744<br>Characters: 2,171,097",
          "Year: 1745<br>Characters: 2,171,097",
          "Year: 1746<br>Characters: 3,500,045",
          "Year: 1747<br>Characters: 2,497,336",
          "Year: 1748<br>Characters: 3,522,451",
          "Year: 1749<br>Characters: 3,559,883",
          "Year: 1750<br>Characters: 3,559,883",
          "Year: 1751<br>Characters: 3,132,309",
          "Year: 1752<br>Characters: 3,132,309",
          "Year: 1753<br>Characters: 3,483,109",
          "Year: 1754<br>Characters: 2,277,289",
          "Year: 1755<br>Characters: 3,698,953",
          "Year: 1756<br>Characters: 2,797,579",
          "Year: 1757<br>Characters: 4,193,704",
          "Year: 1758<br>Characters: 2,817,789",
          "Year: 1759<br>Characters: 4,352,787",
          "Year: 1760<br>Characters: 2,931,123",
          "Year: 1761<br>Characters: 3,898,464",
          "Year: 1762<br>Characters: 2,502,339",
          "Year: 1763<br>Characters: 3,307,817",
          "Year: 1764<br>Characters: 2,443,170",
          "Year: 1765<br>Characters: 2,977,287",
          "Year: 1766<br>Characters: 2,491,745",
          "Year: 1767<br>Characters: 3,279,852",
          "Year: 1768<br>Characters: 2,964,897",
          "Year: 1769<br>Characters: 3,051,603",
          "Year: 1770<br>Characters: 3,281,489",
          "Year: 1771<br>Characters: 3,780,709",
          "Year: 1772<br>Characters: 3,698,324",
          "Year: 1773<br>Characters: 3,929,274",
          "Year: 1774<br>Characters: 3,871,291",
          "Year: 1775<br>Characters: 3,875,665",
          "Year: 1776<br>Characters: 3,646,250",
          "Year: 1777<br>Characters: 4,078,239",
          "Year: 1778<br>Characters: 4,817,847",
          "Year: 1779<br>Characters: 4,965,180",
          "Year: 1780<br>Characters: 4,991,805",
          "Year: 1781<br>Characters: 5,261,971",
          "Year: 1782<br>Characters: 4,918,037",
          "Year: 1783<br>Characters: 4,376,663",
          "Year: 1784<br>Characters: 4,302,533",
          "Year: 1785<br>Characters: 4,305,921",
          "Year: 1786<br>Characters: 4,105,505",
          "Year: 1787<br>Characters: 4,101,287",
          "Year: 1788<br>Characters: 3,870,904",
          "Year: 1789<br>Characters: 3,617,936",
          "Year: 1790<br>Characters: 3,880,608",
          "Year: 1791<br>Characters: 3,764,041",
          "Year: 1792<br>Characters: 3,763,247",
          "Year: 1793<br>Characters: 3,477,682",
          "Year: 1794<br>Characters: 3,980,497",
          "Year: 1795<br>Characters: 3,881,058",
          "Year: 1796<br>Characters: 3,997,227",
          "Year: 1797<br>Characters: 4,056,912",
          "Year: 1798<br>Characters: 4,596,225",
          "Year: 1799<br>Characters: 4,149,962",
          "Year: 1800<br>Characters: 4,329,249",
          "Year: 1801<br>Characters: 4,287,587",
          "Year: 1802<br>Characters: 4,338,203",
          "Year: 1803<br>Characters: 4,246,032",
          "Year: 1804<br>Characters: 4,407,185",
          "Year: 1805<br>Characters: 3,867,158",
          "Year: 1806<br>Characters: 3,809,257",
          "Year: 1807<br>Characters: 3,451,322",
          "Year: 1808<br>Characters: 3,215,767",
          "Year: 1809<br>Characters: 3,277,590",
          "Year: 1810<br>Characters: 3,241,290",
          "Year: 1811<br>Characters: 3,166,717",
          "Year: 1812<br>Characters: 3,284,440",
          "Year: 1813<br>Characters: 3,151,452",
          "Year: 1814<br>Characters: 3,342,075",
          "Year: 1815<br>Characters: 3,529,972",
          "Year: 1816<br>Characters: 3,414,887",
          "Year: 1817<br>Characters: 3,323,753",
          "Year: 1818<br>Characters: 3,639,199",
          "Year: 1819<br>Characters: 3,408,885",
          "Year: 1820<br>Characters: 3,207,548",
          "Year: 1821<br>Characters: 3,402,692",
          "Year: 1822<br>Characters: 3,593,212",
          "Year: 1823<br>Characters: 3,596,172",
          "Year: 1824<br>Characters: 3,711,306",
          "Year: 1825<br>Characters: 4,177,771",
          "Year: 1826<br>Characters: 5,370,719",
          "Year: 1827<br>Characters: 5,270,593",
          "Year: 1828<br>Characters: 5,292,650",
          "Year: 1829<br>Characters: 5,474,742",
          "Year: 1830<br>Characters: 5,349,163",
          "Year: 1831<br>Characters: 4,332,037",
          "Year: 1832<br>Characters: 4,872,555",
          "Year: 1833<br>Characters: 5,883,233",
          "Year: 1834<br>Characters: 6,518,921",
          "Year: 1835<br>Characters: 6,535,577",
          "Year: 1836<br>Characters: 7,244,665",
          "Year: 1837<br>Characters: 7,218,662",
          "Year: 1838<br>Characters: 6,546,377",
          "Year: 1839<br>Characters: 6,069,863",
          "Year: 1840<br>Characters: 6,893,933",
          "Year: 1841<br>Characters: 6,179,026",
          "Year: 1842<br>Characters: 5,882,651",
          "Year: 1843<br>Characters: 5,542,973",
          "Year: 1844<br>Characters: 5,098,762",
          "Year: 1845<br>Characters: 4,176,633",
          "Year: 1846<br>Characters: 4,959,681",
          "Year: 1847<br>Characters: 4,742,474",
          "Year: 1848<br>Characters: 4,624,608",
          "Year: 1849<br>Characters: 5,267,050",
          "Year: 1850<br>Characters: 6,658,978",
          "Year: 1851<br>Characters: 7,205,547",
          "Year: 1852<br>Characters: 8,345,983",
          "Year: 1853<br>Characters: 9,231,442",
          "Year: 1854<br>Characters: 8,694,250",
          "Year: 1855<br>Characters: 7,551,621",
          "Year: 1856<br>Characters: 7,654,427",
          "Year: 1857<br>Characters: 8,075,897",
          "Year: 1858<br>Characters: 9,073,241",
          "Year: 1859<br>Characters: 10,555,096",
          "Year: 1860<br>Characters: 11,020,768",
          "Year: 1861<br>Characters: 10,822,788",
          "Year: 1862<br>Characters: 11,581,997",
          "Year: 1863<br>Characters: 10,591,690",
          "Year: 1864<br>Characters: 10,420,123",
          "Year: 1865<br>Characters: 10,961,641",
          "Year: 1866<br>Characters: 11,210,852",
          "Year: 1867<br>Characters: 10,092,526",
          "Year: 1868<br>Characters: 10,299,986",
          "Year: 1869<br>Characters: 10,289,627",
          "Year: 1870<br>Characters: 9,870,289",
          "Year: 1871<br>Characters: 9,419,569",
          "Year: 1872<br>Characters: 8,929,296",
          "Year: 1873<br>Characters: 9,017,954",
          "Year: 1874<br>Characters: 9,157,428",
          "Year: 1875<br>Characters: 9,460,061",
          "Year: 1876<br>Characters: 9,577,858",
          "Year: 1877<br>Characters: 10,149,141",
          "Year: 1878<br>Characters: 8,256,857",
          "Year: 1879<br>Characters: 9,391,154",
          "Year: 1880<br>Characters: 9,949,004",
          "Year: 1881<br>Characters: 10,169,871",
          "Year: 1882<br>Characters: 11,871,033",
          "Year: 1883<br>Characters: 14,263,946",
          "Year: 1884<br>Characters: 12,382,164",
          "Year: 1885<br>Characters: 12,000,513",
          "Year: 1886<br>Characters: 11,610,937",
          "Year: 1887<br>Characters: 10,603,660",
          "Year: 1888<br>Characters: 9,817,322",
          "Year: 1889<br>Characters: 9,414,677",
          "Year: 1890<br>Characters: 7,851,568",
          "Year: 1891<br>Characters: 8,902,915",
          "Year: 1892<br>Characters: 9,025,501",
          "Year: 1893<br>Characters: 11,925,702",
          "Year: 1894<br>Characters: 15,527,192",
          "Year: 1895<br>Characters: 19,215,962",
          "Year: 1896<br>Characters: 18,970,193",
          "Year: 1897<br>Characters: 19,318,472",
          "Year: 1898<br>Characters: 17,475,231",
          "Year: 1899<br>Characters: 14,528,698",
          "Year: 1900<br>Characters: 13,999,704",
          "Year: 1901<br>Characters: 15,011,746",
          "Year: 1902<br>Characters: 14,068,692",
          "Year: 1903<br>Characters: 14,534,022",
          "Year: 1904<br>Characters: 15,687,869",
          "Year: 1905<br>Characters: 14,105,991",
          "Year: 1906<br>Characters: 13,965,059",
          "Year: 1907<br>Characters: 11,800,517",
          "Year: 1908<br>Characters: 12,314,969",
          "Year: 1909<br>Characters: 11,781,989",
          "Year: 1910<br>Characters: 9,640,591",
          "Year: 1911<br>Characters: 8,109,246",
          "Year: 1912<br>Characters: 10,062,266",
          "Year: 1913<br>Characters: 8,425,971",
          "Year: 1914<br>Characters: 10,546,116",
          "Year: 1915<br>Characters: 12,776,472",
          "Year: 1916<br>Characters: 13,140,589",
          "Year: 1917<br>Characters: 11,187,569",
          "Year: 1918<br>Characters: 11,181,750",
          "Year: 1919<br>Characters: 7,908,431",
          "Year: 1920<br>Characters: 8,189,866",
          "Year: 1921<br>Characters: 8,065,792",
          "Year: 1922<br>Characters: 8,892,822",
          "Year: 1923<br>Characters: 8,953,540",
          "Year: 1924<br>Characters: 9,537,938",
          "Year: 1925<br>Characters: 8,235,116",
          "Year: 1926<br>Characters: 8,033,274",
          "Year: 1927<br>Characters: 9,446,154",
          "Year: 1928<br>Characters: 9,461,109",
          "Year: 1929<br>Characters: 9,847,933",
          "Year: 1930<br>Characters: 11,063,282",
          "Year: 1931<br>Characters: 11,307,208",
          "Year: 1932<br>Characters: 12,968,241",
          "Year: 1933<br>Characters: 12,057,491",
          "Year: 1934<br>Characters: 14,715,468",
          "Year: 1935<br>Characters: 15,502,716",
          "Year: 1936<br>Characters: 15,603,794",
          "Year: 1937<br>Characters: 15,185,558",
          "Year: 1938<br>Characters: 16,062,209",
          "Year: 1939<br>Characters: 13,232,276",
          "Year: 1940<br>Characters: 11,269,509",
          "Year: 1941<br>Characters: 9,491,926",
          "Year: 1942<br>Characters: 6,688,319",
          "Year: 1943<br>Characters: 4,751,094",
          "Year: 1944<br>Characters: 3,349,480",
          "Year: 1945<br>Characters: 2,364,812",
          "Year: 1946<br>Characters: 3,325,833",
          "Year: 1947<br>Characters: 4,647,877",
          "Year: 1948<br>Characters: 6,978,966",
          "Year: 1949<br>Characters: 8,146,579",
          "Year: 1950<br>Characters: 11,062,236",
          "Year: 1951<br>Characters: 12,542,191",
          "Year: 1952<br>Characters: 14,246,056",
          "Year: 1953<br>Characters: 13,889,075",
          "Year: 1954<br>Characters: 13,624,682",
          "Year: 1955<br>Characters: 10,444,894",
          "Year: 1956<br>Characters: 7,374,049",
          "Year: 1957<br>Characters: 3,669,040",
          "Year: 1958<br>Characters: 1,589,380"
         ],
         "type": "scatter",
         "x": [
          1665,
          1666,
          1667,
          1668,
          1669,
          1670,
          1671,
          1672,
          1673,
          1674,
          1675,
          1676,
          1677,
          1678,
          1679,
          1680,
          1681,
          1682,
          1683,
          1684,
          1685,
          1686,
          1687,
          1688,
          1689,
          1690,
          1691,
          1692,
          1693,
          1694,
          1695,
          1696,
          1697,
          1698,
          1699,
          1700,
          1701,
          1702,
          1703,
          1704,
          1705,
          1706,
          1707,
          1708,
          1709,
          1710,
          1711,
          1712,
          1713,
          1714,
          1715,
          1716,
          1717,
          1718,
          1719,
          1720,
          1721,
          1722,
          1723,
          1724,
          1725,
          1726,
          1727,
          1728,
          1729,
          1730,
          1731,
          1732,
          1733,
          1734,
          1735,
          1736,
          1737,
          1738,
          1739,
          1740,
          1741,
          1742,
          1743,
          1744,
          1745,
          1746,
          1747,
          1748,
          1749,
          1750,
          1751,
          1752,
          1753,
          1754,
          1755,
          1756,
          1757,
          1758,
          1759,
          1760,
          1761,
          1762,
          1763,
          1764,
          1765,
          1766,
          1767,
          1768,
          1769,
          1770,
          1771,
          1772,
          1773,
          1774,
          1775,
          1776,
          1777,
          1778,
          1779,
          1780,
          1781,
          1782,
          1783,
          1784,
          1785,
          1786,
          1787,
          1788,
          1789,
          1790,
          1791,
          1792,
          1793,
          1794,
          1795,
          1796,
          1797,
          1798,
          1799,
          1800,
          1801,
          1802,
          1803,
          1804,
          1805,
          1806,
          1807,
          1808,
          1809,
          1810,
          1811,
          1812,
          1813,
          1814,
          1815,
          1816,
          1817,
          1818,
          1819,
          1820,
          1821,
          1822,
          1823,
          1824,
          1825,
          1826,
          1827,
          1828,
          1829,
          1830,
          1831,
          1832,
          1833,
          1834,
          1835,
          1836,
          1837,
          1838,
          1839,
          1840,
          1841,
          1842,
          1843,
          1844,
          1845,
          1846,
          1847,
          1848,
          1849,
          1850,
          1851,
          1852,
          1853,
          1854,
          1855,
          1856,
          1857,
          1858,
          1859,
          1860,
          1861,
          1862,
          1863,
          1864,
          1865,
          1866,
          1867,
          1868,
          1869,
          1870,
          1871,
          1872,
          1873,
          1874,
          1875,
          1876,
          1877,
          1878,
          1879,
          1880,
          1881,
          1882,
          1883,
          1884,
          1885,
          1886,
          1887,
          1888,
          1889,
          1890,
          1891,
          1892,
          1893,
          1894,
          1895,
          1896,
          1897,
          1898,
          1899,
          1900,
          1901,
          1902,
          1903,
          1904,
          1905,
          1906,
          1907,
          1908,
          1909,
          1910,
          1911,
          1912,
          1913,
          1914,
          1915,
          1916,
          1917,
          1918,
          1919,
          1920,
          1921,
          1922,
          1923,
          1924,
          1925,
          1926,
          1927,
          1928,
          1929,
          1930,
          1931,
          1932,
          1933,
          1934,
          1935,
          1936,
          1937,
          1938,
          1939,
          1940,
          1941,
          1942,
          1943,
          1944,
          1945,
          1946,
          1947,
          1948,
          1949,
          1950,
          1951,
          1952,
          1953,
          1954,
          1955,
          1956,
          1957,
          1958
         ],
         "xaxis": "x",
         "y": [
          1036750,
          1647346,
          1647346,
          2338183,
          2931939,
          2738127,
          2864030,
          3543111,
          3436746,
          3513902,
          3366833,
          3315048,
          3275936,
          2691464,
          2020552,
          1324683,
          639969,
          0,
          789649,
          1546159,
          2351827,
          3387540,
          3387540,
          2597891,
          1841381,
          1035713,
          0,
          0,
          827311,
          1315687,
          2679980,
          2679980,
          2679980,
          2692100,
          3049662,
          2866988,
          2866988,
          3784875,
          2945444,
          3359223,
          2177604,
          2728989,
          1811102,
          2628326,
          1368609,
          2380476,
          1829091,
          1829091,
          1502131,
          2465749,
          1453882,
          1453882,
          2370103,
          1879839,
          916221,
          1340066,
          1340066,
          1132632,
          1132632,
          1845030,
          1421185,
          1856940,
          1733577,
          1733577,
          1742164,
          1742164,
          2020245,
          1434821,
          2148256,
          1427271,
          2023349,
          1309513,
          2113495,
          1400060,
          2796057,
          2199979,
          2199979,
          2398706,
          2398706,
          2171097,
          2171097,
          3500045,
          2497336,
          3522451,
          3559883,
          3559883,
          3132309,
          3132309,
          3483109,
          2277289,
          3698953,
          2797579,
          4193704,
          2817789,
          4352787,
          2931123,
          3898464,
          2502339,
          3307817,
          2443170,
          2977287,
          2491745,
          3279852,
          2964897,
          3051603,
          3281489,
          3780709,
          3698324,
          3929274,
          3871291,
          3875665,
          3646250,
          4078239,
          4817847,
          4965180,
          4991805,
          5261971,
          4918037,
          4376663,
          4302533,
          4305921,
          4105505,
          4101287,
          3870904,
          3617936,
          3880608,
          3764041,
          3763247,
          3477682,
          3980497,
          3881058,
          3997227,
          4056912,
          4596225,
          4149962,
          4329249,
          4287587,
          4338203,
          4246032,
          4407185,
          3867158,
          3809257,
          3451322,
          3215767,
          3277590,
          3241290,
          3166717,
          3284440,
          3151452,
          3342075,
          3529972,
          3414887,
          3323753,
          3639199,
          3408885,
          3207548,
          3402692,
          3593212,
          3596172,
          3711306,
          4177771,
          5370719,
          5270593,
          5292650,
          5474742,
          5349163,
          4332037,
          4872555,
          5883233,
          6518921,
          6535577,
          7244665,
          7218662,
          6546377,
          6069863,
          6893933,
          6179026,
          5882651,
          5542973,
          5098762,
          4176633,
          4959681,
          4742474,
          4624608,
          5267050,
          6658978,
          7205547,
          8345983,
          9231442,
          8694250,
          7551621,
          7654427,
          8075897,
          9073241,
          10555096,
          11020768,
          10822788,
          11581997,
          10591690,
          10420123,
          10961641,
          11210852,
          10092526,
          10299986,
          10289627,
          9870289,
          9419569,
          8929296,
          9017954,
          9157428,
          9460061,
          9577858,
          10149141,
          8256857,
          9391154,
          9949004,
          10169871,
          11871033,
          14263946,
          12382164,
          12000513,
          11610937,
          10603660,
          9817322,
          9414677,
          7851568,
          8902915,
          9025501,
          11925702,
          15527192,
          19215962,
          18970193,
          19318472,
          17475231,
          14528698,
          13999704,
          15011746,
          14068692,
          14534022,
          15687869,
          14105991,
          13965059,
          11800517,
          12314969,
          11781989,
          9640591,
          8109246,
          10062266,
          8425971,
          10546116,
          12776472,
          13140589,
          11187569,
          11181750,
          7908431,
          8189866,
          8065792,
          8892822,
          8953540,
          9537938,
          8235116,
          8033274,
          9446154,
          9461109,
          9847933,
          11063282,
          11307208,
          12968241,
          12057491,
          14715468,
          15502716,
          15603794,
          15185558,
          16062209,
          13232276,
          11269509,
          9491926,
          6688319,
          4751094,
          3349480,
          2364812,
          3325833,
          4647877,
          6978966,
          8146579,
          11062236,
          12542191,
          14246056,
          13889075,
          13624682,
          10444894,
          7374049,
          3669040,
          1589380
         ],
         "yaxis": "y"
        },
        {
         "hoverinfo": "text",
         "marker": {
          "color": [
           "orange",
           "green",
           "green",
           "green",
           "green",
           "green",
           "green",
           "green",
           "green",
           "green",
           "green",
           "green",
           "green",
           "green",
           "green",
           "green",
           "orange",
           "red",
           "orange",
           "green",
           "green",
           "green",
           "green",
           "green",
           "green",
           "orange",
           "red",
           "red",
           "orange",
           "green",
           "green",
           "green",
           "green",
           "green",
           "green",
           "green",
           "green",
           "green",
           "green",
           "green",
           "green",
           "green",
           "green",
           "green",
           "green",
           "green",
           "green",
           "green",
           "green",
           "green",
           "green",
           "green",
           "green",
           "green",
           "orange",
           "green",
           "green",
           "green",
           "green",
           "green",
           "green",
           "green",
           "green",
           "green",
           "green",
           "green",
           "green",
           "green",
           "green",
           "green",
           "green",
           "green",
           "green",
           "green",
           "green",
           "green",
           "green",
           "green",
           "green",
           "green",
           "green",
           "green",
           "green",
           "green",
           "green",
           "green",
           "green",
           "green",
           "green",
           "green",
           "green",
           "green",
           "green",
           "green",
           "green",
           "green",
           "green",
           "green",
           "green",
           "green",
           "green",
           "green",
           "green",
           "green",
           "green",
           "green",
           "green",
           "green",
           "green",
           "green",
           "green",
           "green",
           "green",
           "green",
           "green",
           "green",
           "green",
           "green",
           "green",
           "green",
           "green",
           "green",
           "green",
           "green",
           "green",
           "green",
           "green",
           "green",
           "green",
           "green",
           "green",
           "green",
           "green",
           "green",
           "green",
           "green",
           "green",
           "green",
           "green",
           "green",
           "green",
           "green",
           "green",
           "green",
           "green",
           "green",
           "green",
           "green",
           "green",
           "green",
           "green",
           "green",
           "green",
           "green",
           "green",
           "green",
           "green",
           "green",
           "green",
           "green",
           "green",
           "green",
           "green",
           "green",
           "green",
           "green",
           "green",
           "green",
           "green",
           "green",
           "green",
           "green",
           "green",
           "green",
           "green",
           "green",
           "green",
           "green",
           "green",
           "green",
           "green",
           "green",
           "green",
           "green",
           "green",
           "green",
           "green",
           "green",
           "green",
           "green",
           "green",
           "green",
           "green",
           "green",
           "green",
           "green",
           "green",
           "green",
           "green",
           "green",
           "green",
           "green",
           "green",
           "green",
           "green",
           "green",
           "green",
           "green",
           "green",
           "green",
           "green",
           "green",
           "green",
           "green",
           "green",
           "green",
           "green",
           "green",
           "green",
           "green",
           "green",
           "green",
           "green",
           "green",
           "green",
           "green",
           "green",
           "green",
           "green",
           "green",
           "green",
           "green",
           "green",
           "green",
           "green",
           "green",
           "green",
           "green",
           "green",
           "green",
           "green",
           "green",
           "green",
           "green",
           "green",
           "green",
           "green",
           "green",
           "green",
           "green",
           "green",
           "green",
           "green",
           "green",
           "green",
           "green",
           "green",
           "green",
           "green",
           "green",
           "green",
           "green",
           "green",
           "green",
           "green",
           "green",
           "green",
           "green",
           "green",
           "green",
           "green",
           "green",
           "green",
           "green",
           "green",
           "green",
           "green",
           "green",
           "green",
           "green",
           "green",
           "green",
           "green",
           "green",
           "green",
           "green",
           "green",
           "green",
           "green",
           "green",
           "green",
           "green",
           "green",
           "green"
          ],
          "line": {
           "color": "black",
           "width": 1
          },
          "size": 8
         },
         "mode": "markers+lines",
         "name": "Words",
         "text": [
          "Year: 1665<br>Words: 185,775",
          "Year: 1666<br>Words: 293,463",
          "Year: 1667<br>Words: 293,463",
          "Year: 1668<br>Words: 409,683",
          "Year: 1669<br>Words: 515,033",
          "Year: 1670<br>Words: 474,403",
          "Year: 1671<br>Words: 495,086",
          "Year: 1672<br>Words: 613,097",
          "Year: 1673<br>Words: 597,206",
          "Year: 1674<br>Words: 605,825",
          "Year: 1675<br>Words: 581,957",
          "Year: 1676<br>Words: 572,099",
          "Year: 1677<br>Words: 567,090",
          "Year: 1678<br>Words: 466,761",
          "Year: 1679<br>Words: 352,792",
          "Year: 1680<br>Words: 231,515",
          "Year: 1681<br>Words: 113,002",
          "Year: 1682<br>Words: 0",
          "Year: 1683<br>Words: 140,535",
          "Year: 1684<br>Words: 275,681",
          "Year: 1685<br>Words: 419,872",
          "Year: 1686<br>Words: 604,300",
          "Year: 1687<br>Words: 604,300",
          "Year: 1688<br>Words: 463,765",
          "Year: 1689<br>Words: 328,619",
          "Year: 1690<br>Words: 184,428",
          "Year: 1691<br>Words: 0",
          "Year: 1692<br>Words: 0",
          "Year: 1693<br>Words: 150,008",
          "Year: 1694<br>Words: 237,949",
          "Year: 1695<br>Words: 485,314",
          "Year: 1696<br>Words: 485,314",
          "Year: 1697<br>Words: 485,314",
          "Year: 1698<br>Words: 486,936",
          "Year: 1699<br>Words: 548,786",
          "Year: 1700<br>Words: 514,877",
          "Year: 1701<br>Words: 514,877",
          "Year: 1702<br>Words: 681,300",
          "Year: 1703<br>Words: 529,670",
          "Year: 1704<br>Words: 604,153",
          "Year: 1705<br>Words: 390,697",
          "Year: 1706<br>Words: 488,983",
          "Year: 1707<br>Words: 322,560",
          "Year: 1708<br>Words: 469,327",
          "Year: 1709<br>Words: 245,053",
          "Year: 1710<br>Words: 429,531",
          "Year: 1711<br>Words: 331,245",
          "Year: 1712<br>Words: 331,245",
          "Year: 1713<br>Words: 271,342",
          "Year: 1714<br>Words: 443,268",
          "Year: 1715<br>Words: 258,790",
          "Year: 1716<br>Words: 258,790",
          "Year: 1717<br>Words: 420,353",
          "Year: 1718<br>Words: 333,489",
          "Year: 1719<br>Words: 161,563",
          "Year: 1720<br>Words: 237,928",
          "Year: 1721<br>Words: 237,928",
          "Year: 1722<br>Words: 202,921",
          "Year: 1723<br>Words: 202,921",
          "Year: 1724<br>Words: 328,939",
          "Year: 1725<br>Words: 252,574",
          "Year: 1726<br>Words: 327,452",
          "Year: 1727<br>Words: 307,290",
          "Year: 1728<br>Words: 307,290",
          "Year: 1729<br>Words: 312,930",
          "Year: 1730<br>Words: 312,930",
          "Year: 1731<br>Words: 364,223",
          "Year: 1732<br>Words: 257,829",
          "Year: 1733<br>Words: 381,242",
          "Year: 1734<br>Words: 249,584",
          "Year: 1735<br>Words: 359,729",
          "Year: 1736<br>Words: 233,558",
          "Year: 1737<br>Words: 380,499",
          "Year: 1738<br>Words: 257,086",
          "Year: 1739<br>Words: 503,204",
          "Year: 1740<br>Words: 393,059",
          "Year: 1741<br>Words: 393,059",
          "Year: 1742<br>Words: 424,048",
          "Year: 1743<br>Words: 424,048",
          "Year: 1744<br>Words: 386,228",
          "Year: 1745<br>Words: 386,228",
          "Year: 1746<br>Words: 623,574",
          "Year: 1747<br>Words: 445,644",
          "Year: 1748<br>Words: 629,414",
          "Year: 1749<br>Words: 639,332",
          "Year: 1750<br>Words: 639,332",
          "Year: 1751<br>Words: 566,801",
          "Year: 1752<br>Words: 566,801",
          "Year: 1753<br>Words: 635,043",
          "Year: 1754<br>Words: 416,827",
          "Year: 1755<br>Words: 674,041",
          "Year: 1756<br>Words: 509,226",
          "Year: 1757<br>Words: 759,662",
          "Year: 1758<br>Words: 507,650",
          "Year: 1759<br>Words: 788,526",
          "Year: 1760<br>Words: 531,312",
          "Year: 1761<br>Words: 707,276",
          "Year: 1762<br>Words: 456,840",
          "Year: 1763<br>Words: 605,799",
          "Year: 1764<br>Words: 447,916",
          "Year: 1765<br>Words: 542,427",
          "Year: 1766<br>Words: 447,467",
          "Year: 1767<br>Words: 585,239",
          "Year: 1768<br>Words: 526,237",
          "Year: 1769<br>Words: 540,569",
          "Year: 1770<br>Words: 586,154",
          "Year: 1771<br>Words: 683,936",
          "Year: 1772<br>Words: 670,830",
          "Year: 1773<br>Words: 711,941",
          "Year: 1774<br>Words: 700,381",
          "Year: 1775<br>Words: 694,984",
          "Year: 1776<br>Words: 653,074",
          "Year: 1777<br>Words: 736,827",
          "Year: 1778<br>Words: 882,669",
          "Year: 1779<br>Words: 910,247",
          "Year: 1780<br>Words: 923,537",
          "Year: 1781<br>Words: 969,576",
          "Year: 1782<br>Words: 902,129",
          "Year: 1783<br>Words: 791,679",
          "Year: 1784<br>Words: 778,137",
          "Year: 1785<br>Words: 776,453",
          "Year: 1786<br>Words: 746,311",
          "Year: 1787<br>Words: 749,396",
          "Year: 1788<br>Words: 709,279",
          "Year: 1789<br>Words: 667,803",
          "Year: 1790<br>Words: 718,573",
          "Year: 1791<br>Words: 697,698",
          "Year: 1792<br>Words: 699,023",
          "Year: 1793<br>Words: 647,547",
          "Year: 1794<br>Words: 746,692",
          "Year: 1795<br>Words: 726,203",
          "Year: 1796<br>Words: 746,400",
          "Year: 1797<br>Words: 756,651",
          "Year: 1798<br>Words: 855,388",
          "Year: 1799<br>Words: 761,616",
          "Year: 1800<br>Words: 792,980",
          "Year: 1801<br>Words: 779,602",
          "Year: 1802<br>Words: 784,143",
          "Year: 1803<br>Words: 765,509",
          "Year: 1804<br>Words: 792,785",
          "Year: 1805<br>Words: 689,838",
          "Year: 1806<br>Words: 682,980",
          "Year: 1807<br>Words: 618,766",
          "Year: 1808<br>Words: 571,920",
          "Year: 1809<br>Words: 582,998",
          "Year: 1810<br>Words: 577,103",
          "Year: 1811<br>Words: 563,357",
          "Year: 1812<br>Words: 586,662",
          "Year: 1813<br>Words: 565,354",
          "Year: 1814<br>Words: 601,764",
          "Year: 1815<br>Words: 636,225",
          "Year: 1816<br>Words: 615,893",
          "Year: 1817<br>Words: 597,624",
          "Year: 1818<br>Words: 653,957",
          "Year: 1819<br>Words: 613,048",
          "Year: 1820<br>Words: 581,925",
          "Year: 1821<br>Words: 613,712",
          "Year: 1822<br>Words: 647,357",
          "Year: 1823<br>Words: 652,503",
          "Year: 1824<br>Words: 671,183",
          "Year: 1825<br>Words: 759,260",
          "Year: 1826<br>Words: 992,189",
          "Year: 1827<br>Words: 976,790",
          "Year: 1828<br>Words: 977,812",
          "Year: 1829<br>Words: 1,020,218",
          "Year: 1830<br>Words: 991,682",
          "Year: 1831<br>Words: 796,353",
          "Year: 1832<br>Words: 896,068",
          "Year: 1833<br>Words: 1,084,599",
          "Year: 1834<br>Words: 1,187,798",
          "Year: 1835<br>Words: 1,193,947",
          "Year: 1836<br>Words: 1,325,856",
          "Year: 1837<br>Words: 1,321,882",
          "Year: 1838<br>Words: 1,186,407",
          "Year: 1839<br>Words: 1,098,819",
          "Year: 1840<br>Words: 1,233,882",
          "Year: 1841<br>Words: 1,091,045",
          "Year: 1842<br>Words: 1,028,912",
          "Year: 1843<br>Words: 972,465",
          "Year: 1844<br>Words: 904,304",
          "Year: 1845<br>Words: 746,340",
          "Year: 1846<br>Words: 889,975",
          "Year: 1847<br>Words: 855,731",
          "Year: 1848<br>Words: 834,135",
          "Year: 1849<br>Words: 934,619",
          "Year: 1850<br>Words: 1,176,125",
          "Year: 1851<br>Words: 1,262,975",
          "Year: 1852<br>Words: 1,456,373",
          "Year: 1853<br>Words: 1,611,729",
          "Year: 1854<br>Words: 1,520,115",
          "Year: 1855<br>Words: 1,318,405",
          "Year: 1856<br>Words: 1,345,339",
          "Year: 1857<br>Words: 1,428,938",
          "Year: 1858<br>Words: 1,602,582",
          "Year: 1859<br>Words: 1,876,404",
          "Year: 1860<br>Words: 1,958,763",
          "Year: 1861<br>Words: 1,932,394",
          "Year: 1862<br>Words: 2,060,889",
          "Year: 1863<br>Words: 1,900,887",
          "Year: 1864<br>Words: 1,888,644",
          "Year: 1865<br>Words: 1,986,132",
          "Year: 1866<br>Words: 2,027,151",
          "Year: 1867<br>Words: 1,830,051",
          "Year: 1868<br>Words: 1,866,347",
          "Year: 1869<br>Words: 1,848,544",
          "Year: 1870<br>Words: 1,810,305",
          "Year: 1871<br>Words: 1,726,237",
          "Year: 1872<br>Words: 1,647,421",
          "Year: 1873<br>Words: 1,653,334",
          "Year: 1874<br>Words: 1,658,365",
          "Year: 1875<br>Words: 1,691,244",
          "Year: 1876<br>Words: 1,702,757",
          "Year: 1877<br>Words: 1,802,493",
          "Year: 1878<br>Words: 1,466,956",
          "Year: 1879<br>Words: 1,660,663",
          "Year: 1880<br>Words: 1,758,590",
          "Year: 1881<br>Words: 1,801,993",
          "Year: 1882<br>Words: 2,100,378",
          "Year: 1883<br>Words: 2,527,240",
          "Year: 1884<br>Words: 2,212,787",
          "Year: 1885<br>Words: 2,132,551",
          "Year: 1886<br>Words: 2,072,543",
          "Year: 1887<br>Words: 1,898,416",
          "Year: 1888<br>Words: 1,748,913",
          "Year: 1889<br>Words: 1,671,865",
          "Year: 1890<br>Words: 1,391,163",
          "Year: 1891<br>Words: 1,579,060",
          "Year: 1892<br>Words: 1,608,640",
          "Year: 1893<br>Words: 2,142,767",
          "Year: 1894<br>Words: 2,793,188",
          "Year: 1895<br>Words: 3,459,842",
          "Year: 1896<br>Words: 3,404,299",
          "Year: 1897<br>Words: 3,464,908",
          "Year: 1898<br>Words: 3,124,586",
          "Year: 1899<br>Words: 2,599,079",
          "Year: 1900<br>Words: 2,499,321",
          "Year: 1901<br>Words: 2,731,102",
          "Year: 1902<br>Words: 2,569,091",
          "Year: 1903<br>Words: 2,676,497",
          "Year: 1904<br>Words: 2,897,976",
          "Year: 1905<br>Words: 2,613,545",
          "Year: 1906<br>Words: 2,545,474",
          "Year: 1907<br>Words: 2,145,120",
          "Year: 1908<br>Words: 2,220,825",
          "Year: 1909<br>Words: 2,092,611",
          "Year: 1910<br>Words: 1,713,639",
          "Year: 1911<br>Words: 1,435,431",
          "Year: 1912<br>Words: 1,785,726",
          "Year: 1913<br>Words: 1,487,831",
          "Year: 1914<br>Words: 1,863,341",
          "Year: 1915<br>Words: 2,274,001",
          "Year: 1916<br>Words: 2,346,531",
          "Year: 1917<br>Words: 1,996,236",
          "Year: 1918<br>Words: 1,994,965",
          "Year: 1919<br>Words: 1,444,564",
          "Year: 1920<br>Words: 1,458,856",
          "Year: 1921<br>Words: 1,422,393",
          "Year: 1922<br>Words: 1,574,788",
          "Year: 1923<br>Words: 1,587,240",
          "Year: 1924<br>Words: 1,667,294",
          "Year: 1925<br>Words: 1,453,117",
          "Year: 1926<br>Words: 1,427,097",
          "Year: 1927<br>Words: 1,671,801",
          "Year: 1928<br>Words: 1,673,706",
          "Year: 1929<br>Words: 1,745,341",
          "Year: 1930<br>Words: 1,959,656",
          "Year: 1931<br>Words: 1,987,100",
          "Year: 1932<br>Words: 2,252,858",
          "Year: 1933<br>Words: 2,096,721",
          "Year: 1934<br>Words: 2,551,141",
          "Year: 1935<br>Words: 2,685,118",
          "Year: 1936<br>Words: 2,714,168",
          "Year: 1937<br>Words: 2,633,237",
          "Year: 1938<br>Words: 2,789,513",
          "Year: 1939<br>Words: 2,290,656",
          "Year: 1940<br>Words: 1,953,878",
          "Year: 1941<br>Words: 1,635,575",
          "Year: 1942<br>Words: 1,170,046",
          "Year: 1943<br>Words: 818,640",
          "Year: 1944<br>Words: 583,555",
          "Year: 1945<br>Words: 409,311",
          "Year: 1946<br>Words: 577,050",
          "Year: 1947<br>Words: 804,670",
          "Year: 1948<br>Words: 1,212,878",
          "Year: 1949<br>Words: 1,411,837",
          "Year: 1950<br>Words: 1,903,721",
          "Year: 1951<br>Words: 2,154,468",
          "Year: 1952<br>Words: 2,451,172",
          "Year: 1953<br>Words: 2,390,423",
          "Year: 1954<br>Words: 2,346,558",
          "Year: 1955<br>Words: 1,806,629",
          "Year: 1956<br>Words: 1,282,900",
          "Year: 1957<br>Words: 642,179",
          "Year: 1958<br>Words: 276,521"
         ],
         "type": "scatter",
         "x": [
          1665,
          1666,
          1667,
          1668,
          1669,
          1670,
          1671,
          1672,
          1673,
          1674,
          1675,
          1676,
          1677,
          1678,
          1679,
          1680,
          1681,
          1682,
          1683,
          1684,
          1685,
          1686,
          1687,
          1688,
          1689,
          1690,
          1691,
          1692,
          1693,
          1694,
          1695,
          1696,
          1697,
          1698,
          1699,
          1700,
          1701,
          1702,
          1703,
          1704,
          1705,
          1706,
          1707,
          1708,
          1709,
          1710,
          1711,
          1712,
          1713,
          1714,
          1715,
          1716,
          1717,
          1718,
          1719,
          1720,
          1721,
          1722,
          1723,
          1724,
          1725,
          1726,
          1727,
          1728,
          1729,
          1730,
          1731,
          1732,
          1733,
          1734,
          1735,
          1736,
          1737,
          1738,
          1739,
          1740,
          1741,
          1742,
          1743,
          1744,
          1745,
          1746,
          1747,
          1748,
          1749,
          1750,
          1751,
          1752,
          1753,
          1754,
          1755,
          1756,
          1757,
          1758,
          1759,
          1760,
          1761,
          1762,
          1763,
          1764,
          1765,
          1766,
          1767,
          1768,
          1769,
          1770,
          1771,
          1772,
          1773,
          1774,
          1775,
          1776,
          1777,
          1778,
          1779,
          1780,
          1781,
          1782,
          1783,
          1784,
          1785,
          1786,
          1787,
          1788,
          1789,
          1790,
          1791,
          1792,
          1793,
          1794,
          1795,
          1796,
          1797,
          1798,
          1799,
          1800,
          1801,
          1802,
          1803,
          1804,
          1805,
          1806,
          1807,
          1808,
          1809,
          1810,
          1811,
          1812,
          1813,
          1814,
          1815,
          1816,
          1817,
          1818,
          1819,
          1820,
          1821,
          1822,
          1823,
          1824,
          1825,
          1826,
          1827,
          1828,
          1829,
          1830,
          1831,
          1832,
          1833,
          1834,
          1835,
          1836,
          1837,
          1838,
          1839,
          1840,
          1841,
          1842,
          1843,
          1844,
          1845,
          1846,
          1847,
          1848,
          1849,
          1850,
          1851,
          1852,
          1853,
          1854,
          1855,
          1856,
          1857,
          1858,
          1859,
          1860,
          1861,
          1862,
          1863,
          1864,
          1865,
          1866,
          1867,
          1868,
          1869,
          1870,
          1871,
          1872,
          1873,
          1874,
          1875,
          1876,
          1877,
          1878,
          1879,
          1880,
          1881,
          1882,
          1883,
          1884,
          1885,
          1886,
          1887,
          1888,
          1889,
          1890,
          1891,
          1892,
          1893,
          1894,
          1895,
          1896,
          1897,
          1898,
          1899,
          1900,
          1901,
          1902,
          1903,
          1904,
          1905,
          1906,
          1907,
          1908,
          1909,
          1910,
          1911,
          1912,
          1913,
          1914,
          1915,
          1916,
          1917,
          1918,
          1919,
          1920,
          1921,
          1922,
          1923,
          1924,
          1925,
          1926,
          1927,
          1928,
          1929,
          1930,
          1931,
          1932,
          1933,
          1934,
          1935,
          1936,
          1937,
          1938,
          1939,
          1940,
          1941,
          1942,
          1943,
          1944,
          1945,
          1946,
          1947,
          1948,
          1949,
          1950,
          1951,
          1952,
          1953,
          1954,
          1955,
          1956,
          1957,
          1958
         ],
         "xaxis": "x2",
         "y": [
          185775,
          293463,
          293463,
          409683,
          515033,
          474403,
          495086,
          613097,
          597206,
          605825,
          581957,
          572099,
          567090,
          466761,
          352792,
          231515,
          113002,
          0,
          140535,
          275681,
          419872,
          604300,
          604300,
          463765,
          328619,
          184428,
          0,
          0,
          150008,
          237949,
          485314,
          485314,
          485314,
          486936,
          548786,
          514877,
          514877,
          681300,
          529670,
          604153,
          390697,
          488983,
          322560,
          469327,
          245053,
          429531,
          331245,
          331245,
          271342,
          443268,
          258790,
          258790,
          420353,
          333489,
          161563,
          237928,
          237928,
          202921,
          202921,
          328939,
          252574,
          327452,
          307290,
          307290,
          312930,
          312930,
          364223,
          257829,
          381242,
          249584,
          359729,
          233558,
          380499,
          257086,
          503204,
          393059,
          393059,
          424048,
          424048,
          386228,
          386228,
          623574,
          445644,
          629414,
          639332,
          639332,
          566801,
          566801,
          635043,
          416827,
          674041,
          509226,
          759662,
          507650,
          788526,
          531312,
          707276,
          456840,
          605799,
          447916,
          542427,
          447467,
          585239,
          526237,
          540569,
          586154,
          683936,
          670830,
          711941,
          700381,
          694984,
          653074,
          736827,
          882669,
          910247,
          923537,
          969576,
          902129,
          791679,
          778137,
          776453,
          746311,
          749396,
          709279,
          667803,
          718573,
          697698,
          699023,
          647547,
          746692,
          726203,
          746400,
          756651,
          855388,
          761616,
          792980,
          779602,
          784143,
          765509,
          792785,
          689838,
          682980,
          618766,
          571920,
          582998,
          577103,
          563357,
          586662,
          565354,
          601764,
          636225,
          615893,
          597624,
          653957,
          613048,
          581925,
          613712,
          647357,
          652503,
          671183,
          759260,
          992189,
          976790,
          977812,
          1020218,
          991682,
          796353,
          896068,
          1084599,
          1187798,
          1193947,
          1325856,
          1321882,
          1186407,
          1098819,
          1233882,
          1091045,
          1028912,
          972465,
          904304,
          746340,
          889975,
          855731,
          834135,
          934619,
          1176125,
          1262975,
          1456373,
          1611729,
          1520115,
          1318405,
          1345339,
          1428938,
          1602582,
          1876404,
          1958763,
          1932394,
          2060889,
          1900887,
          1888644,
          1986132,
          2027151,
          1830051,
          1866347,
          1848544,
          1810305,
          1726237,
          1647421,
          1653334,
          1658365,
          1691244,
          1702757,
          1802493,
          1466956,
          1660663,
          1758590,
          1801993,
          2100378,
          2527240,
          2212787,
          2132551,
          2072543,
          1898416,
          1748913,
          1671865,
          1391163,
          1579060,
          1608640,
          2142767,
          2793188,
          3459842,
          3404299,
          3464908,
          3124586,
          2599079,
          2499321,
          2731102,
          2569091,
          2676497,
          2897976,
          2613545,
          2545474,
          2145120,
          2220825,
          2092611,
          1713639,
          1435431,
          1785726,
          1487831,
          1863341,
          2274001,
          2346531,
          1996236,
          1994965,
          1444564,
          1458856,
          1422393,
          1574788,
          1587240,
          1667294,
          1453117,
          1427097,
          1671801,
          1673706,
          1745341,
          1959656,
          1987100,
          2252858,
          2096721,
          2551141,
          2685118,
          2714168,
          2633237,
          2789513,
          2290656,
          1953878,
          1635575,
          1170046,
          818640,
          583555,
          409311,
          577050,
          804670,
          1212878,
          1411837,
          1903721,
          2154468,
          2451172,
          2390423,
          2346558,
          1806629,
          1282900,
          642179,
          276521
         ],
         "yaxis": "y2"
        }
       ],
       "layout": {
        "annotations": [
         {
          "font": {
           "size": 16
          },
          "showarrow": false,
          "text": "Total Characters per Year (1665-1958)",
          "x": 0.5,
          "xanchor": "center",
          "xref": "paper",
          "y": 1,
          "yanchor": "bottom",
          "yref": "paper"
         },
         {
          "font": {
           "size": 16
          },
          "showarrow": false,
          "text": "Total Words per Year (1665-1958)",
          "x": 0.5,
          "xanchor": "center",
          "xref": "paper",
          "y": 0.44,
          "yanchor": "bottom",
          "yref": "paper"
         }
        ],
        "height": 900,
        "showlegend": false,
        "template": {
         "data": {
          "bar": [
           {
            "error_x": {
             "color": "#2a3f5f"
            },
            "error_y": {
             "color": "#2a3f5f"
            },
            "marker": {
             "line": {
              "color": "white",
              "width": 0.5
             },
             "pattern": {
              "fillmode": "overlay",
              "size": 10,
              "solidity": 0.2
             }
            },
            "type": "bar"
           }
          ],
          "barpolar": [
           {
            "marker": {
             "line": {
              "color": "white",
              "width": 0.5
             },
             "pattern": {
              "fillmode": "overlay",
              "size": 10,
              "solidity": 0.2
             }
            },
            "type": "barpolar"
           }
          ],
          "carpet": [
           {
            "aaxis": {
             "endlinecolor": "#2a3f5f",
             "gridcolor": "#C8D4E3",
             "linecolor": "#C8D4E3",
             "minorgridcolor": "#C8D4E3",
             "startlinecolor": "#2a3f5f"
            },
            "baxis": {
             "endlinecolor": "#2a3f5f",
             "gridcolor": "#C8D4E3",
             "linecolor": "#C8D4E3",
             "minorgridcolor": "#C8D4E3",
             "startlinecolor": "#2a3f5f"
            },
            "type": "carpet"
           }
          ],
          "choropleth": [
           {
            "colorbar": {
             "outlinewidth": 0,
             "ticks": ""
            },
            "type": "choropleth"
           }
          ],
          "contour": [
           {
            "colorbar": {
             "outlinewidth": 0,
             "ticks": ""
            },
            "colorscale": [
             [
              0,
              "#0d0887"
             ],
             [
              0.1111111111111111,
              "#46039f"
             ],
             [
              0.2222222222222222,
              "#7201a8"
             ],
             [
              0.3333333333333333,
              "#9c179e"
             ],
             [
              0.4444444444444444,
              "#bd3786"
             ],
             [
              0.5555555555555556,
              "#d8576b"
             ],
             [
              0.6666666666666666,
              "#ed7953"
             ],
             [
              0.7777777777777778,
              "#fb9f3a"
             ],
             [
              0.8888888888888888,
              "#fdca26"
             ],
             [
              1,
              "#f0f921"
             ]
            ],
            "type": "contour"
           }
          ],
          "contourcarpet": [
           {
            "colorbar": {
             "outlinewidth": 0,
             "ticks": ""
            },
            "type": "contourcarpet"
           }
          ],
          "heatmap": [
           {
            "colorbar": {
             "outlinewidth": 0,
             "ticks": ""
            },
            "colorscale": [
             [
              0,
              "#0d0887"
             ],
             [
              0.1111111111111111,
              "#46039f"
             ],
             [
              0.2222222222222222,
              "#7201a8"
             ],
             [
              0.3333333333333333,
              "#9c179e"
             ],
             [
              0.4444444444444444,
              "#bd3786"
             ],
             [
              0.5555555555555556,
              "#d8576b"
             ],
             [
              0.6666666666666666,
              "#ed7953"
             ],
             [
              0.7777777777777778,
              "#fb9f3a"
             ],
             [
              0.8888888888888888,
              "#fdca26"
             ],
             [
              1,
              "#f0f921"
             ]
            ],
            "type": "heatmap"
           }
          ],
          "heatmapgl": [
           {
            "colorbar": {
             "outlinewidth": 0,
             "ticks": ""
            },
            "colorscale": [
             [
              0,
              "#0d0887"
             ],
             [
              0.1111111111111111,
              "#46039f"
             ],
             [
              0.2222222222222222,
              "#7201a8"
             ],
             [
              0.3333333333333333,
              "#9c179e"
             ],
             [
              0.4444444444444444,
              "#bd3786"
             ],
             [
              0.5555555555555556,
              "#d8576b"
             ],
             [
              0.6666666666666666,
              "#ed7953"
             ],
             [
              0.7777777777777778,
              "#fb9f3a"
             ],
             [
              0.8888888888888888,
              "#fdca26"
             ],
             [
              1,
              "#f0f921"
             ]
            ],
            "type": "heatmapgl"
           }
          ],
          "histogram": [
           {
            "marker": {
             "pattern": {
              "fillmode": "overlay",
              "size": 10,
              "solidity": 0.2
             }
            },
            "type": "histogram"
           }
          ],
          "histogram2d": [
           {
            "colorbar": {
             "outlinewidth": 0,
             "ticks": ""
            },
            "colorscale": [
             [
              0,
              "#0d0887"
             ],
             [
              0.1111111111111111,
              "#46039f"
             ],
             [
              0.2222222222222222,
              "#7201a8"
             ],
             [
              0.3333333333333333,
              "#9c179e"
             ],
             [
              0.4444444444444444,
              "#bd3786"
             ],
             [
              0.5555555555555556,
              "#d8576b"
             ],
             [
              0.6666666666666666,
              "#ed7953"
             ],
             [
              0.7777777777777778,
              "#fb9f3a"
             ],
             [
              0.8888888888888888,
              "#fdca26"
             ],
             [
              1,
              "#f0f921"
             ]
            ],
            "type": "histogram2d"
           }
          ],
          "histogram2dcontour": [
           {
            "colorbar": {
             "outlinewidth": 0,
             "ticks": ""
            },
            "colorscale": [
             [
              0,
              "#0d0887"
             ],
             [
              0.1111111111111111,
              "#46039f"
             ],
             [
              0.2222222222222222,
              "#7201a8"
             ],
             [
              0.3333333333333333,
              "#9c179e"
             ],
             [
              0.4444444444444444,
              "#bd3786"
             ],
             [
              0.5555555555555556,
              "#d8576b"
             ],
             [
              0.6666666666666666,
              "#ed7953"
             ],
             [
              0.7777777777777778,
              "#fb9f3a"
             ],
             [
              0.8888888888888888,
              "#fdca26"
             ],
             [
              1,
              "#f0f921"
             ]
            ],
            "type": "histogram2dcontour"
           }
          ],
          "mesh3d": [
           {
            "colorbar": {
             "outlinewidth": 0,
             "ticks": ""
            },
            "type": "mesh3d"
           }
          ],
          "parcoords": [
           {
            "line": {
             "colorbar": {
              "outlinewidth": 0,
              "ticks": ""
             }
            },
            "type": "parcoords"
           }
          ],
          "pie": [
           {
            "automargin": true,
            "type": "pie"
           }
          ],
          "scatter": [
           {
            "fillpattern": {
             "fillmode": "overlay",
             "size": 10,
             "solidity": 0.2
            },
            "type": "scatter"
           }
          ],
          "scatter3d": [
           {
            "line": {
             "colorbar": {
              "outlinewidth": 0,
              "ticks": ""
             }
            },
            "marker": {
             "colorbar": {
              "outlinewidth": 0,
              "ticks": ""
             }
            },
            "type": "scatter3d"
           }
          ],
          "scattercarpet": [
           {
            "marker": {
             "colorbar": {
              "outlinewidth": 0,
              "ticks": ""
             }
            },
            "type": "scattercarpet"
           }
          ],
          "scattergeo": [
           {
            "marker": {
             "colorbar": {
              "outlinewidth": 0,
              "ticks": ""
             }
            },
            "type": "scattergeo"
           }
          ],
          "scattergl": [
           {
            "marker": {
             "colorbar": {
              "outlinewidth": 0,
              "ticks": ""
             }
            },
            "type": "scattergl"
           }
          ],
          "scattermapbox": [
           {
            "marker": {
             "colorbar": {
              "outlinewidth": 0,
              "ticks": ""
             }
            },
            "type": "scattermapbox"
           }
          ],
          "scatterpolar": [
           {
            "marker": {
             "colorbar": {
              "outlinewidth": 0,
              "ticks": ""
             }
            },
            "type": "scatterpolar"
           }
          ],
          "scatterpolargl": [
           {
            "marker": {
             "colorbar": {
              "outlinewidth": 0,
              "ticks": ""
             }
            },
            "type": "scatterpolargl"
           }
          ],
          "scatterternary": [
           {
            "marker": {
             "colorbar": {
              "outlinewidth": 0,
              "ticks": ""
             }
            },
            "type": "scatterternary"
           }
          ],
          "surface": [
           {
            "colorbar": {
             "outlinewidth": 0,
             "ticks": ""
            },
            "colorscale": [
             [
              0,
              "#0d0887"
             ],
             [
              0.1111111111111111,
              "#46039f"
             ],
             [
              0.2222222222222222,
              "#7201a8"
             ],
             [
              0.3333333333333333,
              "#9c179e"
             ],
             [
              0.4444444444444444,
              "#bd3786"
             ],
             [
              0.5555555555555556,
              "#d8576b"
             ],
             [
              0.6666666666666666,
              "#ed7953"
             ],
             [
              0.7777777777777778,
              "#fb9f3a"
             ],
             [
              0.8888888888888888,
              "#fdca26"
             ],
             [
              1,
              "#f0f921"
             ]
            ],
            "type": "surface"
           }
          ],
          "table": [
           {
            "cells": {
             "fill": {
              "color": "#EBF0F8"
             },
             "line": {
              "color": "white"
             }
            },
            "header": {
             "fill": {
              "color": "#C8D4E3"
             },
             "line": {
              "color": "white"
             }
            },
            "type": "table"
           }
          ]
         },
         "layout": {
          "annotationdefaults": {
           "arrowcolor": "#2a3f5f",
           "arrowhead": 0,
           "arrowwidth": 1
          },
          "autotypenumbers": "strict",
          "coloraxis": {
           "colorbar": {
            "outlinewidth": 0,
            "ticks": ""
           }
          },
          "colorscale": {
           "diverging": [
            [
             0,
             "#8e0152"
            ],
            [
             0.1,
             "#c51b7d"
            ],
            [
             0.2,
             "#de77ae"
            ],
            [
             0.3,
             "#f1b6da"
            ],
            [
             0.4,
             "#fde0ef"
            ],
            [
             0.5,
             "#f7f7f7"
            ],
            [
             0.6,
             "#e6f5d0"
            ],
            [
             0.7,
             "#b8e186"
            ],
            [
             0.8,
             "#7fbc41"
            ],
            [
             0.9,
             "#4d9221"
            ],
            [
             1,
             "#276419"
            ]
           ],
           "sequential": [
            [
             0,
             "#0d0887"
            ],
            [
             0.1111111111111111,
             "#46039f"
            ],
            [
             0.2222222222222222,
             "#7201a8"
            ],
            [
             0.3333333333333333,
             "#9c179e"
            ],
            [
             0.4444444444444444,
             "#bd3786"
            ],
            [
             0.5555555555555556,
             "#d8576b"
            ],
            [
             0.6666666666666666,
             "#ed7953"
            ],
            [
             0.7777777777777778,
             "#fb9f3a"
            ],
            [
             0.8888888888888888,
             "#fdca26"
            ],
            [
             1,
             "#f0f921"
            ]
           ],
           "sequentialminus": [
            [
             0,
             "#0d0887"
            ],
            [
             0.1111111111111111,
             "#46039f"
            ],
            [
             0.2222222222222222,
             "#7201a8"
            ],
            [
             0.3333333333333333,
             "#9c179e"
            ],
            [
             0.4444444444444444,
             "#bd3786"
            ],
            [
             0.5555555555555556,
             "#d8576b"
            ],
            [
             0.6666666666666666,
             "#ed7953"
            ],
            [
             0.7777777777777778,
             "#fb9f3a"
            ],
            [
             0.8888888888888888,
             "#fdca26"
            ],
            [
             1,
             "#f0f921"
            ]
           ]
          },
          "colorway": [
           "#636efa",
           "#EF553B",
           "#00cc96",
           "#ab63fa",
           "#FFA15A",
           "#19d3f3",
           "#FF6692",
           "#B6E880",
           "#FF97FF",
           "#FECB52"
          ],
          "font": {
           "color": "#2a3f5f"
          },
          "geo": {
           "bgcolor": "white",
           "lakecolor": "white",
           "landcolor": "white",
           "showlakes": true,
           "showland": true,
           "subunitcolor": "#C8D4E3"
          },
          "hoverlabel": {
           "align": "left"
          },
          "hovermode": "closest",
          "mapbox": {
           "style": "light"
          },
          "paper_bgcolor": "white",
          "plot_bgcolor": "white",
          "polar": {
           "angularaxis": {
            "gridcolor": "#EBF0F8",
            "linecolor": "#EBF0F8",
            "ticks": ""
           },
           "bgcolor": "white",
           "radialaxis": {
            "gridcolor": "#EBF0F8",
            "linecolor": "#EBF0F8",
            "ticks": ""
           }
          },
          "scene": {
           "xaxis": {
            "backgroundcolor": "white",
            "gridcolor": "#DFE8F3",
            "gridwidth": 2,
            "linecolor": "#EBF0F8",
            "showbackground": true,
            "ticks": "",
            "zerolinecolor": "#EBF0F8"
           },
           "yaxis": {
            "backgroundcolor": "white",
            "gridcolor": "#DFE8F3",
            "gridwidth": 2,
            "linecolor": "#EBF0F8",
            "showbackground": true,
            "ticks": "",
            "zerolinecolor": "#EBF0F8"
           },
           "zaxis": {
            "backgroundcolor": "white",
            "gridcolor": "#DFE8F3",
            "gridwidth": 2,
            "linecolor": "#EBF0F8",
            "showbackground": true,
            "ticks": "",
            "zerolinecolor": "#EBF0F8"
           }
          },
          "shapedefaults": {
           "line": {
            "color": "#2a3f5f"
           }
          },
          "ternary": {
           "aaxis": {
            "gridcolor": "#DFE8F3",
            "linecolor": "#A2B1C6",
            "ticks": ""
           },
           "baxis": {
            "gridcolor": "#DFE8F3",
            "linecolor": "#A2B1C6",
            "ticks": ""
           },
           "bgcolor": "white",
           "caxis": {
            "gridcolor": "#DFE8F3",
            "linecolor": "#A2B1C6",
            "ticks": ""
           }
          },
          "title": {
           "x": 0.05
          },
          "xaxis": {
           "automargin": true,
           "gridcolor": "#EBF0F8",
           "linecolor": "#EBF0F8",
           "ticks": "",
           "title": {
            "standoff": 15
           },
           "zerolinecolor": "#EBF0F8",
           "zerolinewidth": 2
          },
          "yaxis": {
           "automargin": true,
           "gridcolor": "#EBF0F8",
           "linecolor": "#EBF0F8",
           "ticks": "",
           "title": {
            "standoff": 15
           },
           "zerolinecolor": "#EBF0F8",
           "zerolinewidth": 2
          }
         }
        },
        "title": {
         "text": "Text Statistics Over Time - Historical Period (1665-1958)"
        },
        "xaxis": {
         "anchor": "y",
         "domain": [
          0,
          1
         ],
         "dtick": 5,
         "range": [
          1665,
          1958
         ],
         "tick0": 1665,
         "tickmode": "linear",
         "title": {
          "text": "Year"
         }
        },
        "xaxis2": {
         "anchor": "y2",
         "domain": [
          0,
          1
         ],
         "dtick": 5,
         "range": [
          1665,
          1958
         ],
         "tick0": 1665,
         "tickmode": "linear",
         "title": {
          "text": "Year"
         }
        },
        "yaxis": {
         "anchor": "x",
         "domain": [
          0.56,
          1
         ],
         "range": [
          0,
          21250319.200000003
         ],
         "tickformat": ",d",
         "title": {
          "text": "Number of Characters"
         }
        },
        "yaxis2": {
         "anchor": "x2",
         "domain": [
          0,
          0.44
         ],
         "range": [
          0,
          3811398.8000000003
         ],
         "tickformat": ",d",
         "title": {
          "text": "Number of Words"
         }
        }
       }
      }
     },
     "metadata": {},
     "output_type": "display_data"
    },
    {
     "data": {
      "application/vnd.plotly.v1+json": {
       "config": {
        "plotlyServerURL": "https://plot.ly"
       },
       "data": [
        {
         "hoverinfo": "text",
         "marker": {
          "color": [
           "orange",
           "orange",
           "orange",
           "blue",
           "blue",
           "blue",
           "blue",
           "blue",
           "blue",
           "blue",
           "blue",
           "blue",
           "blue",
           "blue",
           "blue",
           "blue",
           "blue",
           "blue",
           "blue",
           "blue",
           "blue",
           "blue",
           "blue",
           "blue",
           "blue"
          ],
          "line": {
           "color": "black",
           "width": 1
          },
          "size": 8
         },
         "mode": "markers+lines",
         "name": "Characters",
         "text": [
          "Year: 2000<br>Characters: 698,753",
          "Year: 2001<br>Characters: 856,898",
          "Year: 2002<br>Characters: 972,805",
          "Year: 2003<br>Characters: 1,283,950",
          "Year: 2004<br>Characters: 1,177,356",
          "Year: 2005<br>Characters: 1,157,885",
          "Year: 2006<br>Characters: 1,673,087",
          "Year: 2007<br>Characters: 3,294,715",
          "Year: 2008<br>Characters: 7,733,498",
          "Year: 2009<br>Characters: 12,371,855",
          "Year: 2010<br>Characters: 18,006,355",
          "Year: 2011<br>Characters: 23,510,496",
          "Year: 2012<br>Characters: 30,527,194",
          "Year: 2013<br>Characters: 45,341,303",
          "Year: 2014<br>Characters: 75,919,179",
          "Year: 2015<br>Characters: 115,465,304",
          "Year: 2016<br>Characters: 152,930,461",
          "Year: 2017<br>Characters: 182,029,501",
          "Year: 2018<br>Characters: 193,953,897",
          "Year: 2019<br>Characters: 219,644,166",
          "Year: 2020<br>Characters: 217,630,295",
          "Year: 2021<br>Characters: 213,159,751",
          "Year: 2022<br>Characters: 200,167,947",
          "Year: 2023<br>Characters: 170,583,157",
          "Year: 2024<br>Characters: 109,625,373"
         ],
         "type": "scatter",
         "x": [
          2000,
          2001,
          2002,
          2003,
          2004,
          2005,
          2006,
          2007,
          2008,
          2009,
          2010,
          2011,
          2012,
          2013,
          2014,
          2015,
          2016,
          2017,
          2018,
          2019,
          2020,
          2021,
          2022,
          2023,
          2024
         ],
         "xaxis": "x",
         "y": [
          698753,
          856898,
          972805,
          1283950,
          1177356,
          1157885,
          1673087,
          3294715,
          7733498,
          12371855,
          18006355,
          23510496,
          30527194,
          45341303,
          75919179,
          115465304,
          152930461,
          182029501,
          193953897,
          219644166,
          217630295,
          213159751,
          200167947,
          170583157,
          109625373
         ],
         "yaxis": "y"
        },
        {
         "hoverinfo": "text",
         "marker": {
          "color": [
           "orange",
           "orange",
           "orange",
           "green",
           "orange",
           "orange",
           "green",
           "green",
           "green",
           "green",
           "green",
           "green",
           "green",
           "green",
           "green",
           "green",
           "green",
           "green",
           "green",
           "green",
           "green",
           "green",
           "green",
           "green",
           "green"
          ],
          "line": {
           "color": "black",
           "width": 1
          },
          "size": 8
         },
         "mode": "markers+lines",
         "name": "Words",
         "text": [
          "Year: 2000<br>Words: 109,127",
          "Year: 2001<br>Words: 134,057",
          "Year: 2002<br>Words: 152,326",
          "Year: 2003<br>Words: 201,812",
          "Year: 2004<br>Words: 185,356",
          "Year: 2005<br>Words: 181,249",
          "Year: 2006<br>Words: 259,633",
          "Year: 2007<br>Words: 504,468",
          "Year: 2008<br>Words: 1,187,612",
          "Year: 2009<br>Words: 1,897,026",
          "Year: 2010<br>Words: 2,760,539",
          "Year: 2011<br>Words: 3,600,451",
          "Year: 2012<br>Words: 4,664,741",
          "Year: 2013<br>Words: 6,878,627",
          "Year: 2014<br>Words: 11,572,568",
          "Year: 2015<br>Words: 17,570,222",
          "Year: 2016<br>Words: 23,234,467",
          "Year: 2017<br>Words: 27,695,616",
          "Year: 2018<br>Words: 29,532,216",
          "Year: 2019<br>Words: 33,389,329",
          "Year: 2020<br>Words: 33,033,537",
          "Year: 2021<br>Words: 32,381,266",
          "Year: 2022<br>Words: 30,319,841",
          "Year: 2023<br>Words: 25,820,429",
          "Year: 2024<br>Words: 16,550,976"
         ],
         "type": "scatter",
         "x": [
          2000,
          2001,
          2002,
          2003,
          2004,
          2005,
          2006,
          2007,
          2008,
          2009,
          2010,
          2011,
          2012,
          2013,
          2014,
          2015,
          2016,
          2017,
          2018,
          2019,
          2020,
          2021,
          2022,
          2023,
          2024
         ],
         "xaxis": "x2",
         "y": [
          109127,
          134057,
          152326,
          201812,
          185356,
          181249,
          259633,
          504468,
          1187612,
          1897026,
          2760539,
          3600451,
          4664741,
          6878627,
          11572568,
          17570222,
          23234467,
          27695616,
          29532216,
          33389329,
          33033537,
          32381266,
          30319841,
          25820429,
          16550976
         ],
         "yaxis": "y2"
        }
       ],
       "layout": {
        "annotations": [
         {
          "font": {
           "size": 16
          },
          "showarrow": false,
          "text": "Total Characters per Year (2000-2024)",
          "x": 0.5,
          "xanchor": "center",
          "xref": "paper",
          "y": 1,
          "yanchor": "bottom",
          "yref": "paper"
         },
         {
          "font": {
           "size": 16
          },
          "showarrow": false,
          "text": "Total Words per Year (2000-2024)",
          "x": 0.5,
          "xanchor": "center",
          "xref": "paper",
          "y": 0.44,
          "yanchor": "bottom",
          "yref": "paper"
         }
        ],
        "height": 900,
        "showlegend": false,
        "template": {
         "data": {
          "bar": [
           {
            "error_x": {
             "color": "#2a3f5f"
            },
            "error_y": {
             "color": "#2a3f5f"
            },
            "marker": {
             "line": {
              "color": "white",
              "width": 0.5
             },
             "pattern": {
              "fillmode": "overlay",
              "size": 10,
              "solidity": 0.2
             }
            },
            "type": "bar"
           }
          ],
          "barpolar": [
           {
            "marker": {
             "line": {
              "color": "white",
              "width": 0.5
             },
             "pattern": {
              "fillmode": "overlay",
              "size": 10,
              "solidity": 0.2
             }
            },
            "type": "barpolar"
           }
          ],
          "carpet": [
           {
            "aaxis": {
             "endlinecolor": "#2a3f5f",
             "gridcolor": "#C8D4E3",
             "linecolor": "#C8D4E3",
             "minorgridcolor": "#C8D4E3",
             "startlinecolor": "#2a3f5f"
            },
            "baxis": {
             "endlinecolor": "#2a3f5f",
             "gridcolor": "#C8D4E3",
             "linecolor": "#C8D4E3",
             "minorgridcolor": "#C8D4E3",
             "startlinecolor": "#2a3f5f"
            },
            "type": "carpet"
           }
          ],
          "choropleth": [
           {
            "colorbar": {
             "outlinewidth": 0,
             "ticks": ""
            },
            "type": "choropleth"
           }
          ],
          "contour": [
           {
            "colorbar": {
             "outlinewidth": 0,
             "ticks": ""
            },
            "colorscale": [
             [
              0,
              "#0d0887"
             ],
             [
              0.1111111111111111,
              "#46039f"
             ],
             [
              0.2222222222222222,
              "#7201a8"
             ],
             [
              0.3333333333333333,
              "#9c179e"
             ],
             [
              0.4444444444444444,
              "#bd3786"
             ],
             [
              0.5555555555555556,
              "#d8576b"
             ],
             [
              0.6666666666666666,
              "#ed7953"
             ],
             [
              0.7777777777777778,
              "#fb9f3a"
             ],
             [
              0.8888888888888888,
              "#fdca26"
             ],
             [
              1,
              "#f0f921"
             ]
            ],
            "type": "contour"
           }
          ],
          "contourcarpet": [
           {
            "colorbar": {
             "outlinewidth": 0,
             "ticks": ""
            },
            "type": "contourcarpet"
           }
          ],
          "heatmap": [
           {
            "colorbar": {
             "outlinewidth": 0,
             "ticks": ""
            },
            "colorscale": [
             [
              0,
              "#0d0887"
             ],
             [
              0.1111111111111111,
              "#46039f"
             ],
             [
              0.2222222222222222,
              "#7201a8"
             ],
             [
              0.3333333333333333,
              "#9c179e"
             ],
             [
              0.4444444444444444,
              "#bd3786"
             ],
             [
              0.5555555555555556,
              "#d8576b"
             ],
             [
              0.6666666666666666,
              "#ed7953"
             ],
             [
              0.7777777777777778,
              "#fb9f3a"
             ],
             [
              0.8888888888888888,
              "#fdca26"
             ],
             [
              1,
              "#f0f921"
             ]
            ],
            "type": "heatmap"
           }
          ],
          "heatmapgl": [
           {
            "colorbar": {
             "outlinewidth": 0,
             "ticks": ""
            },
            "colorscale": [
             [
              0,
              "#0d0887"
             ],
             [
              0.1111111111111111,
              "#46039f"
             ],
             [
              0.2222222222222222,
              "#7201a8"
             ],
             [
              0.3333333333333333,
              "#9c179e"
             ],
             [
              0.4444444444444444,
              "#bd3786"
             ],
             [
              0.5555555555555556,
              "#d8576b"
             ],
             [
              0.6666666666666666,
              "#ed7953"
             ],
             [
              0.7777777777777778,
              "#fb9f3a"
             ],
             [
              0.8888888888888888,
              "#fdca26"
             ],
             [
              1,
              "#f0f921"
             ]
            ],
            "type": "heatmapgl"
           }
          ],
          "histogram": [
           {
            "marker": {
             "pattern": {
              "fillmode": "overlay",
              "size": 10,
              "solidity": 0.2
             }
            },
            "type": "histogram"
           }
          ],
          "histogram2d": [
           {
            "colorbar": {
             "outlinewidth": 0,
             "ticks": ""
            },
            "colorscale": [
             [
              0,
              "#0d0887"
             ],
             [
              0.1111111111111111,
              "#46039f"
             ],
             [
              0.2222222222222222,
              "#7201a8"
             ],
             [
              0.3333333333333333,
              "#9c179e"
             ],
             [
              0.4444444444444444,
              "#bd3786"
             ],
             [
              0.5555555555555556,
              "#d8576b"
             ],
             [
              0.6666666666666666,
              "#ed7953"
             ],
             [
              0.7777777777777778,
              "#fb9f3a"
             ],
             [
              0.8888888888888888,
              "#fdca26"
             ],
             [
              1,
              "#f0f921"
             ]
            ],
            "type": "histogram2d"
           }
          ],
          "histogram2dcontour": [
           {
            "colorbar": {
             "outlinewidth": 0,
             "ticks": ""
            },
            "colorscale": [
             [
              0,
              "#0d0887"
             ],
             [
              0.1111111111111111,
              "#46039f"
             ],
             [
              0.2222222222222222,
              "#7201a8"
             ],
             [
              0.3333333333333333,
              "#9c179e"
             ],
             [
              0.4444444444444444,
              "#bd3786"
             ],
             [
              0.5555555555555556,
              "#d8576b"
             ],
             [
              0.6666666666666666,
              "#ed7953"
             ],
             [
              0.7777777777777778,
              "#fb9f3a"
             ],
             [
              0.8888888888888888,
              "#fdca26"
             ],
             [
              1,
              "#f0f921"
             ]
            ],
            "type": "histogram2dcontour"
           }
          ],
          "mesh3d": [
           {
            "colorbar": {
             "outlinewidth": 0,
             "ticks": ""
            },
            "type": "mesh3d"
           }
          ],
          "parcoords": [
           {
            "line": {
             "colorbar": {
              "outlinewidth": 0,
              "ticks": ""
             }
            },
            "type": "parcoords"
           }
          ],
          "pie": [
           {
            "automargin": true,
            "type": "pie"
           }
          ],
          "scatter": [
           {
            "fillpattern": {
             "fillmode": "overlay",
             "size": 10,
             "solidity": 0.2
            },
            "type": "scatter"
           }
          ],
          "scatter3d": [
           {
            "line": {
             "colorbar": {
              "outlinewidth": 0,
              "ticks": ""
             }
            },
            "marker": {
             "colorbar": {
              "outlinewidth": 0,
              "ticks": ""
             }
            },
            "type": "scatter3d"
           }
          ],
          "scattercarpet": [
           {
            "marker": {
             "colorbar": {
              "outlinewidth": 0,
              "ticks": ""
             }
            },
            "type": "scattercarpet"
           }
          ],
          "scattergeo": [
           {
            "marker": {
             "colorbar": {
              "outlinewidth": 0,
              "ticks": ""
             }
            },
            "type": "scattergeo"
           }
          ],
          "scattergl": [
           {
            "marker": {
             "colorbar": {
              "outlinewidth": 0,
              "ticks": ""
             }
            },
            "type": "scattergl"
           }
          ],
          "scattermapbox": [
           {
            "marker": {
             "colorbar": {
              "outlinewidth": 0,
              "ticks": ""
             }
            },
            "type": "scattermapbox"
           }
          ],
          "scatterpolar": [
           {
            "marker": {
             "colorbar": {
              "outlinewidth": 0,
              "ticks": ""
             }
            },
            "type": "scatterpolar"
           }
          ],
          "scatterpolargl": [
           {
            "marker": {
             "colorbar": {
              "outlinewidth": 0,
              "ticks": ""
             }
            },
            "type": "scatterpolargl"
           }
          ],
          "scatterternary": [
           {
            "marker": {
             "colorbar": {
              "outlinewidth": 0,
              "ticks": ""
             }
            },
            "type": "scatterternary"
           }
          ],
          "surface": [
           {
            "colorbar": {
             "outlinewidth": 0,
             "ticks": ""
            },
            "colorscale": [
             [
              0,
              "#0d0887"
             ],
             [
              0.1111111111111111,
              "#46039f"
             ],
             [
              0.2222222222222222,
              "#7201a8"
             ],
             [
              0.3333333333333333,
              "#9c179e"
             ],
             [
              0.4444444444444444,
              "#bd3786"
             ],
             [
              0.5555555555555556,
              "#d8576b"
             ],
             [
              0.6666666666666666,
              "#ed7953"
             ],
             [
              0.7777777777777778,
              "#fb9f3a"
             ],
             [
              0.8888888888888888,
              "#fdca26"
             ],
             [
              1,
              "#f0f921"
             ]
            ],
            "type": "surface"
           }
          ],
          "table": [
           {
            "cells": {
             "fill": {
              "color": "#EBF0F8"
             },
             "line": {
              "color": "white"
             }
            },
            "header": {
             "fill": {
              "color": "#C8D4E3"
             },
             "line": {
              "color": "white"
             }
            },
            "type": "table"
           }
          ]
         },
         "layout": {
          "annotationdefaults": {
           "arrowcolor": "#2a3f5f",
           "arrowhead": 0,
           "arrowwidth": 1
          },
          "autotypenumbers": "strict",
          "coloraxis": {
           "colorbar": {
            "outlinewidth": 0,
            "ticks": ""
           }
          },
          "colorscale": {
           "diverging": [
            [
             0,
             "#8e0152"
            ],
            [
             0.1,
             "#c51b7d"
            ],
            [
             0.2,
             "#de77ae"
            ],
            [
             0.3,
             "#f1b6da"
            ],
            [
             0.4,
             "#fde0ef"
            ],
            [
             0.5,
             "#f7f7f7"
            ],
            [
             0.6,
             "#e6f5d0"
            ],
            [
             0.7,
             "#b8e186"
            ],
            [
             0.8,
             "#7fbc41"
            ],
            [
             0.9,
             "#4d9221"
            ],
            [
             1,
             "#276419"
            ]
           ],
           "sequential": [
            [
             0,
             "#0d0887"
            ],
            [
             0.1111111111111111,
             "#46039f"
            ],
            [
             0.2222222222222222,
             "#7201a8"
            ],
            [
             0.3333333333333333,
             "#9c179e"
            ],
            [
             0.4444444444444444,
             "#bd3786"
            ],
            [
             0.5555555555555556,
             "#d8576b"
            ],
            [
             0.6666666666666666,
             "#ed7953"
            ],
            [
             0.7777777777777778,
             "#fb9f3a"
            ],
            [
             0.8888888888888888,
             "#fdca26"
            ],
            [
             1,
             "#f0f921"
            ]
           ],
           "sequentialminus": [
            [
             0,
             "#0d0887"
            ],
            [
             0.1111111111111111,
             "#46039f"
            ],
            [
             0.2222222222222222,
             "#7201a8"
            ],
            [
             0.3333333333333333,
             "#9c179e"
            ],
            [
             0.4444444444444444,
             "#bd3786"
            ],
            [
             0.5555555555555556,
             "#d8576b"
            ],
            [
             0.6666666666666666,
             "#ed7953"
            ],
            [
             0.7777777777777778,
             "#fb9f3a"
            ],
            [
             0.8888888888888888,
             "#fdca26"
            ],
            [
             1,
             "#f0f921"
            ]
           ]
          },
          "colorway": [
           "#636efa",
           "#EF553B",
           "#00cc96",
           "#ab63fa",
           "#FFA15A",
           "#19d3f3",
           "#FF6692",
           "#B6E880",
           "#FF97FF",
           "#FECB52"
          ],
          "font": {
           "color": "#2a3f5f"
          },
          "geo": {
           "bgcolor": "white",
           "lakecolor": "white",
           "landcolor": "white",
           "showlakes": true,
           "showland": true,
           "subunitcolor": "#C8D4E3"
          },
          "hoverlabel": {
           "align": "left"
          },
          "hovermode": "closest",
          "mapbox": {
           "style": "light"
          },
          "paper_bgcolor": "white",
          "plot_bgcolor": "white",
          "polar": {
           "angularaxis": {
            "gridcolor": "#EBF0F8",
            "linecolor": "#EBF0F8",
            "ticks": ""
           },
           "bgcolor": "white",
           "radialaxis": {
            "gridcolor": "#EBF0F8",
            "linecolor": "#EBF0F8",
            "ticks": ""
           }
          },
          "scene": {
           "xaxis": {
            "backgroundcolor": "white",
            "gridcolor": "#DFE8F3",
            "gridwidth": 2,
            "linecolor": "#EBF0F8",
            "showbackground": true,
            "ticks": "",
            "zerolinecolor": "#EBF0F8"
           },
           "yaxis": {
            "backgroundcolor": "white",
            "gridcolor": "#DFE8F3",
            "gridwidth": 2,
            "linecolor": "#EBF0F8",
            "showbackground": true,
            "ticks": "",
            "zerolinecolor": "#EBF0F8"
           },
           "zaxis": {
            "backgroundcolor": "white",
            "gridcolor": "#DFE8F3",
            "gridwidth": 2,
            "linecolor": "#EBF0F8",
            "showbackground": true,
            "ticks": "",
            "zerolinecolor": "#EBF0F8"
           }
          },
          "shapedefaults": {
           "line": {
            "color": "#2a3f5f"
           }
          },
          "ternary": {
           "aaxis": {
            "gridcolor": "#DFE8F3",
            "linecolor": "#A2B1C6",
            "ticks": ""
           },
           "baxis": {
            "gridcolor": "#DFE8F3",
            "linecolor": "#A2B1C6",
            "ticks": ""
           },
           "bgcolor": "white",
           "caxis": {
            "gridcolor": "#DFE8F3",
            "linecolor": "#A2B1C6",
            "ticks": ""
           }
          },
          "title": {
           "x": 0.05
          },
          "xaxis": {
           "automargin": true,
           "gridcolor": "#EBF0F8",
           "linecolor": "#EBF0F8",
           "ticks": "",
           "title": {
            "standoff": 15
           },
           "zerolinecolor": "#EBF0F8",
           "zerolinewidth": 2
          },
          "yaxis": {
           "automargin": true,
           "gridcolor": "#EBF0F8",
           "linecolor": "#EBF0F8",
           "ticks": "",
           "title": {
            "standoff": 15
           },
           "zerolinecolor": "#EBF0F8",
           "zerolinewidth": 2
          }
         }
        },
        "title": {
         "text": "Text Statistics Over Time - Modern Period (2000-2024)"
        },
        "xaxis": {
         "anchor": "y",
         "domain": [
          0,
          1
         ],
         "dtick": 5,
         "range": [
          2000,
          2024
         ],
         "tick0": 2000,
         "tickmode": "linear",
         "title": {
          "text": "Year"
         }
        },
        "xaxis2": {
         "anchor": "y2",
         "domain": [
          0,
          1
         ],
         "dtick": 5,
         "range": [
          2000,
          2024
         ],
         "tick0": 2000,
         "tickmode": "linear",
         "title": {
          "text": "Year"
         }
        },
        "yaxis": {
         "anchor": "x",
         "domain": [
          0.56,
          1
         ],
         "range": [
          0,
          241608582.60000002
         ],
         "tickformat": ",d",
         "title": {
          "text": "Number of Characters"
         }
        },
        "yaxis2": {
         "anchor": "x2",
         "domain": [
          0,
          0.44
         ],
         "range": [
          0,
          36728261.900000006
         ],
         "tickformat": ",d",
         "title": {
          "text": "Number of Words"
         }
        }
       }
      }
     },
     "metadata": {},
     "output_type": "display_data"
    }
   ],
   "source": [
    "import pandas as pd\n",
    "import plotly.graph_objects as go\n",
    "from collections import defaultdict\n",
    "import os\n",
    "import re\n",
    "from tqdm import tqdm\n",
    "from plotly.subplots import make_subplots\n",
    "from typing import List, Dict, Tuple\n",
    "\n",
    "class TextStatisticsAnalyzer:\n",
    "    def __init__(self, text_dirs: List[str], window_size: int = 5):\n",
    "        self.text_dirs = text_dirs\n",
    "        self.window_size = window_size\n",
    "        \n",
    "    def _extract_year(self, filename: str) -> int:\n",
    "        \"\"\"Extract year from filename.\"\"\"\n",
    "        match = re.search(r'rst[bla]?_?(\\d{4})', filename)\n",
    "        return int(match.group(1)) if match else None\n",
    "    \n",
    "    def _get_file_paths(self) -> List[str]:\n",
    "        \"\"\"Get all text file paths.\"\"\"\n",
    "        return [os.path.join(dir, f) for dir in self.text_dirs \n",
    "                for f in os.listdir(dir) if f.endswith('.txt')]\n",
    "    \n",
    "    def _process_text(self, text: str) -> Tuple[int, int]:\n",
    "        \"\"\"Process text to get character and word counts.\"\"\"\n",
    "        return len(text), len(text.split())\n",
    "    \n",
    "    def count_statistics(self) -> Tuple[Dict[int, int], Dict[int, int]]:\n",
    "        \"\"\"Count characters and words per year with sliding window.\"\"\"\n",
    "        year_char_counts = defaultdict(int)\n",
    "        year_word_counts = defaultdict(int)\n",
    "        \n",
    "        print(\"Processing text files...\")\n",
    "        for file_path in tqdm(self._get_file_paths()):\n",
    "            year = self._extract_year(os.path.basename(file_path))\n",
    "            if year:\n",
    "                try:\n",
    "                    with open(file_path, 'r', encoding='utf-8') as file:\n",
    "                        char_count, word_count = self._process_text(file.read())\n",
    "                        year_char_counts[year] += char_count\n",
    "                        year_word_counts[year] += word_count\n",
    "                except Exception as e:\n",
    "                    print(f\"Error processing {file_path}: {str(e)}\")\n",
    "                    continue\n",
    "        \n",
    "        return self._apply_sliding_window(year_char_counts, year_word_counts)\n",
    "    \n",
    "    def _apply_sliding_window(self, \n",
    "                            char_counts: Dict[int, int], \n",
    "                            word_counts: Dict[int, int]) -> Tuple[Dict[int, int], Dict[int, int]]:\n",
    "        \"\"\"Apply sliding window to both statistics.\"\"\"\n",
    "        char_windows = defaultdict(int)\n",
    "        word_windows = defaultdict(int)\n",
    "        \n",
    "        all_years = sorted(set(char_counts.keys()) | set(word_counts.keys()))\n",
    "        for year in all_years:\n",
    "            for offset in range(self.window_size):\n",
    "                window_year = year + offset\n",
    "                if year in char_counts:\n",
    "                    char_windows[window_year] += char_counts[year]\n",
    "                if year in word_counts:\n",
    "                    word_windows[window_year] += word_counts[year]\n",
    "        \n",
    "        return dict(char_windows), dict(word_windows)\n",
    "\n",
    "def create_period_visualization(df: pd.DataFrame, \n",
    "                              year_range: Tuple[int, int], \n",
    "                              title_suffix: str) -> go.Figure:\n",
    "    \"\"\"Create visualization for a specific time period.\"\"\"\n",
    "    period_df = df[(df['Year'] >= year_range[0]) & (df['Year'] <= year_range[1])]\n",
    "    \n",
    "    fig = make_subplots(\n",
    "        rows=2, cols=1,\n",
    "        subplot_titles=(f'Total Characters per Year ({year_range[0]}-{year_range[1]})',\n",
    "                       f'Total Words per Year ({year_range[0]}-{year_range[1]})'),\n",
    "        vertical_spacing=0.12\n",
    "    )\n",
    "    \n",
    "    # Character count trace\n",
    "    fig.add_trace(\n",
    "        go.Scatter(\n",
    "            x=period_df['Year'],\n",
    "            y=period_df['Character Count'],\n",
    "            mode='markers+lines',\n",
    "            marker=dict(\n",
    "                size=8,\n",
    "                color=['red' if count == 0 else 'orange' if count < 1000000 else 'blue' \n",
    "                       for count in period_df['Character Count']],\n",
    "                line=dict(width=1, color='black')\n",
    "            ),\n",
    "            text=[f'Year: {year}<br>Characters: {count:,}' \n",
    "                  for year, count in zip(period_df['Year'], period_df['Character Count'])],\n",
    "            hoverinfo='text',\n",
    "            name='Characters'\n",
    "        ),\n",
    "        row=1, col=1\n",
    "    )\n",
    "    \n",
    "    # Word count trace\n",
    "    fig.add_trace(\n",
    "        go.Scatter(\n",
    "            x=period_df['Year'],\n",
    "            y=period_df['Word Count'],\n",
    "            mode='markers+lines',\n",
    "            marker=dict(\n",
    "                size=8,\n",
    "                color=['red' if count == 0 else 'orange' if count < 200000 else 'green' \n",
    "                       for count in period_df['Word Count']],\n",
    "                line=dict(width=1, color='black')\n",
    "            ),\n",
    "            text=[f'Year: {year}<br>Words: {count:,}' \n",
    "                  for year, count in zip(period_df['Year'], period_df['Word Count'])],\n",
    "            hoverinfo='text',\n",
    "            name='Words'\n",
    "        ),\n",
    "        row=2, col=1\n",
    "    )\n",
    "    \n",
    "    fig.update_layout(\n",
    "        height=900,\n",
    "        showlegend=False,\n",
    "        title_text=f'Text Statistics Over Time - {title_suffix}',\n",
    "        template='plotly_white'\n",
    "    )\n",
    "    \n",
    "    for i in [1, 2]:\n",
    "        fig.update_xaxes(\n",
    "            title_text='Year',\n",
    "            tickmode='linear',\n",
    "            tick0=year_range[0],\n",
    "            dtick=5,\n",
    "            range=year_range,\n",
    "            row=i, col=1\n",
    "        )\n",
    "    \n",
    "    fig.update_yaxes(\n",
    "        title_text='Number of Characters',\n",
    "        tickformat=',d',\n",
    "        range=[0, period_df['Character Count'].max() * 1.1],\n",
    "        row=1, col=1\n",
    "    )\n",
    "    \n",
    "    fig.update_yaxes(\n",
    "        title_text='Number of Words',\n",
    "        tickformat=',d',\n",
    "        range=[0, period_df['Word Count'].max() * 1.1],\n",
    "        row=2, col=1\n",
    "    )\n",
    "    \n",
    "    return fig\n",
    "\n",
    "def main():\n",
    "    analyzer = TextStatisticsAnalyzer(\n",
    "        text_dirs=[\n",
    "            r\"D:\\Fact_fiction_corpus\\texts\\royal society\\txt_rstb\",\n",
    "            r\"D:\\Fact_fiction_corpus\\texts\\royal society\\txt_rstl\",\n",
    "            r\"D:\\Fact_fiction_corpus\\texts\\royal society\\txt_rsta\"\n",
    "        ],\n",
    "        window_size=5\n",
    "    )\n",
    "    \n",
    "    year_char_counts, year_word_counts = analyzer.count_statistics()\n",
    "    \n",
    "    df = pd.DataFrame({\n",
    "        'Year': list(range(1665, 2025)),\n",
    "        'Character Count': [year_char_counts.get(year, 0) for year in range(1665, 2025)],\n",
    "        'Word Count': [year_word_counts.get(year, 0) for year in range(1665, 2025)]\n",
    "    })\n",
    "    \n",
    "    # Create and show visualizations for both periods\n",
    "    historical_fig = create_period_visualization(\n",
    "        df, (1665, 1958), \n",
    "        \"Historical Period (1665-1958)\"\n",
    "    )\n",
    "    historical_fig.show()\n",
    "    \n",
    "    modern_fig = create_period_visualization(\n",
    "        df, (2000, 2024), \n",
    "        \"Modern Period (2000-2024)\"\n",
    "    )\n",
    "    modern_fig.show()\n",
    "\n",
    "if __name__ == \"__main__\":\n",
    "    main()"
   ]
  },
  {
   "cell_type": "code",
   "execution_count": 4,
   "metadata": {},
   "outputs": [
    {
     "data": {
      "application/vnd.plotly.v1+json": {
       "config": {
        "plotlyServerURL": "https://plot.ly"
       },
       "data": [
        {
         "hovertemplate": "Year Range: %{x}<br>%{y}<extra></extra>",
         "marker": {
          "color": "blue"
         },
         "text": [
          1,
          1,
          1,
          1,
          1,
          1,
          1,
          1,
          1,
          0,
          1,
          1,
          1,
          1,
          1,
          1,
          1,
          1,
          1,
          1,
          1,
          0,
          0,
          0,
          0,
          0,
          0,
          0,
          1,
          1,
          0,
          0,
          0,
          0,
          1,
          1,
          1,
          1,
          1,
          1,
          1,
          1,
          1,
          1,
          0,
          0,
          0,
          0,
          1,
          1,
          0,
          0,
          0,
          0,
          0,
          0,
          0,
          0,
          0,
          0,
          0,
          0,
          0,
          0,
          0,
          0,
          0,
          0,
          0,
          0,
          0,
          0,
          0,
          0,
          0,
          1,
          1,
          1,
          0,
          0,
          0,
          0,
          0,
          0,
          0,
          1,
          1,
          0,
          0,
          0,
          0,
          0,
          0,
          0,
          1,
          1,
          1,
          1,
          1,
          0,
          0,
          0,
          0,
          0,
          0,
          0,
          1,
          2,
          1,
          1,
          0,
          0,
          0,
          0,
          0,
          0,
          0,
          0,
          0,
          1,
          1,
          1,
          2,
          6,
          7,
          9,
          8,
          14,
          14,
          19,
          20,
          20,
          23,
          22,
          27,
          28,
          31,
          29,
          31,
          27,
          26,
          26,
          27,
          22,
          13,
          19,
          18,
          18,
          15,
          14,
          14,
          14,
          19,
          21,
          22,
          25,
          25,
          25,
          33,
          43,
          43,
          43,
          46,
          47,
          55,
          63,
          78,
          79,
          74,
          68,
          60,
          55,
          48,
          48,
          44,
          45,
          52,
          61,
          64,
          74,
          76,
          68,
          73,
          81,
          105,
          121,
          101,
          102,
          114,
          101,
          111,
          117,
          128,
          122,
          107,
          101,
          98,
          93,
          73,
          78,
          77,
          84,
          91,
          104,
          88,
          94,
          126,
          121,
          144,
          149,
          135,
          127,
          128,
          121,
          135,
          123,
          96,
          118,
          110,
          128,
          163,
          178,
          199,
          201,
          213,
          221,
          254,
          253,
          237,
          235,
          221,
          199,
          216,
          178,
          193,
          201,
          144,
          145,
          156,
          145,
          154,
          152,
          122,
          122,
          117,
          103,
          123,
          133,
          120,
          129,
          100,
          97,
          79,
          95,
          85,
          99,
          91,
          86,
          128,
          112,
          144,
          142,
          147,
          150,
          161,
          161,
          154,
          131,
          90,
          83,
          62,
          42,
          42,
          34,
          35,
          34,
          42,
          65,
          75,
          90,
          98,
          97,
          91,
          71,
          53,
          37,
          19,
          12,
          5,
          0,
          0,
          0,
          0,
          0,
          0,
          0,
          0,
          0,
          0,
          0,
          0,
          0,
          0,
          0,
          0,
          0,
          0,
          0,
          0,
          0,
          0,
          0,
          0,
          0,
          0,
          0,
          0,
          0,
          0,
          0,
          0,
          0,
          0,
          0,
          0,
          0,
          0,
          1,
          1,
          1,
          1,
          1,
          1,
          1,
          3,
          4,
          12,
          22,
          42,
          77,
          194,
          328,
          453,
          584,
          662,
          828,
          940,
          1040,
          1063,
          1002,
          856
         ],
         "textposition": "auto",
         "type": "bar",
         "x": [
          "1665-1674",
          "1666-1675",
          "1667-1676",
          "1668-1677",
          "1669-1678",
          "1670-1679",
          "1671-1680",
          "1672-1681",
          "1673-1682",
          "1674-1683",
          "1675-1684",
          "1676-1685",
          "1677-1686",
          "1678-1687",
          "1679-1688",
          "1680-1689",
          "1681-1690",
          "1682-1691",
          "1683-1692",
          "1684-1693",
          "1685-1694",
          "1686-1695",
          "1687-1696",
          "1688-1697",
          "1689-1698",
          "1690-1699",
          "1691-1700",
          "1692-1701",
          "1693-1702",
          "1694-1703",
          "1695-1704",
          "1696-1705",
          "1697-1706",
          "1698-1707",
          "1699-1708",
          "1700-1709",
          "1701-1710",
          "1702-1711",
          "1703-1712",
          "1704-1713",
          "1705-1714",
          "1706-1715",
          "1707-1716",
          "1708-1717",
          "1709-1718",
          "1710-1719",
          "1711-1720",
          "1712-1721",
          "1713-1722",
          "1714-1723",
          "1715-1724",
          "1716-1725",
          "1717-1726",
          "1718-1727",
          "1719-1728",
          "1720-1729",
          "1721-1730",
          "1722-1731",
          "1723-1732",
          "1724-1733",
          "1725-1734",
          "1726-1735",
          "1727-1736",
          "1728-1737",
          "1729-1738",
          "1730-1739",
          "1731-1740",
          "1732-1741",
          "1733-1742",
          "1734-1743",
          "1735-1744",
          "1736-1745",
          "1737-1746",
          "1738-1747",
          "1739-1748",
          "1740-1749",
          "1741-1750",
          "1742-1751",
          "1743-1752",
          "1744-1753",
          "1745-1754",
          "1746-1755",
          "1747-1756",
          "1748-1757",
          "1749-1758",
          "1750-1759",
          "1751-1760",
          "1752-1761",
          "1753-1762",
          "1754-1763",
          "1755-1764",
          "1756-1765",
          "1757-1766",
          "1758-1767",
          "1759-1768",
          "1760-1769",
          "1761-1770",
          "1762-1771",
          "1763-1772",
          "1764-1773",
          "1765-1774",
          "1766-1775",
          "1767-1776",
          "1768-1777",
          "1769-1778",
          "1770-1779",
          "1771-1780",
          "1772-1781",
          "1773-1782",
          "1774-1783",
          "1775-1784",
          "1776-1785",
          "1777-1786",
          "1778-1787",
          "1779-1788",
          "1780-1789",
          "1781-1790",
          "1782-1791",
          "1783-1792",
          "1784-1793",
          "1785-1794",
          "1786-1795",
          "1787-1796",
          "1788-1797",
          "1789-1798",
          "1790-1799",
          "1791-1800",
          "1792-1801",
          "1793-1802",
          "1794-1803",
          "1795-1804",
          "1796-1805",
          "1797-1806",
          "1798-1807",
          "1799-1808",
          "1800-1809",
          "1801-1810",
          "1802-1811",
          "1803-1812",
          "1804-1813",
          "1805-1814",
          "1806-1815",
          "1807-1816",
          "1808-1817",
          "1809-1818",
          "1810-1819",
          "1811-1820",
          "1812-1821",
          "1813-1822",
          "1814-1823",
          "1815-1824",
          "1816-1825",
          "1817-1826",
          "1818-1827",
          "1819-1828",
          "1820-1829",
          "1821-1830",
          "1822-1831",
          "1823-1832",
          "1824-1833",
          "1825-1834",
          "1826-1835",
          "1827-1836",
          "1828-1837",
          "1829-1838",
          "1830-1839",
          "1831-1840",
          "1832-1841",
          "1833-1842",
          "1834-1843",
          "1835-1844",
          "1836-1845",
          "1837-1846",
          "1838-1847",
          "1839-1848",
          "1840-1849",
          "1841-1850",
          "1842-1851",
          "1843-1852",
          "1844-1853",
          "1845-1854",
          "1846-1855",
          "1847-1856",
          "1848-1857",
          "1849-1858",
          "1850-1859",
          "1851-1860",
          "1852-1861",
          "1853-1862",
          "1854-1863",
          "1855-1864",
          "1856-1865",
          "1857-1866",
          "1858-1867",
          "1859-1868",
          "1860-1869",
          "1861-1870",
          "1862-1871",
          "1863-1872",
          "1864-1873",
          "1865-1874",
          "1866-1875",
          "1867-1876",
          "1868-1877",
          "1869-1878",
          "1870-1879",
          "1871-1880",
          "1872-1881",
          "1873-1882",
          "1874-1883",
          "1875-1884",
          "1876-1885",
          "1877-1886",
          "1878-1887",
          "1879-1888",
          "1880-1889",
          "1881-1890",
          "1882-1891",
          "1883-1892",
          "1884-1893",
          "1885-1894",
          "1886-1895",
          "1887-1896",
          "1888-1897",
          "1889-1898",
          "1890-1899",
          "1891-1900",
          "1892-1901",
          "1893-1902",
          "1894-1903",
          "1895-1904",
          "1896-1905",
          "1897-1906",
          "1898-1907",
          "1899-1908",
          "1900-1909",
          "1901-1910",
          "1902-1911",
          "1903-1912",
          "1904-1913",
          "1905-1914",
          "1906-1915",
          "1907-1916",
          "1908-1917",
          "1909-1918",
          "1910-1919",
          "1911-1920",
          "1912-1921",
          "1913-1922",
          "1914-1923",
          "1915-1924",
          "1916-1925",
          "1917-1926",
          "1918-1927",
          "1919-1928",
          "1920-1929",
          "1921-1930",
          "1922-1931",
          "1923-1932",
          "1924-1933",
          "1925-1934",
          "1926-1935",
          "1927-1936",
          "1928-1937",
          "1929-1938",
          "1930-1939",
          "1931-1940",
          "1932-1941",
          "1933-1942",
          "1934-1943",
          "1935-1944",
          "1936-1945",
          "1937-1946",
          "1938-1947",
          "1939-1948",
          "1940-1949",
          "1941-1950",
          "1942-1951",
          "1943-1952",
          "1944-1953",
          "1945-1954",
          "1946-1955",
          "1947-1956",
          "1948-1957",
          "1949-1958",
          "1950-1959",
          "1951-1960",
          "1952-1961",
          "1953-1962",
          "1954-1963",
          "1955-1964",
          "1956-1965",
          "1957-1966",
          "1958-1967",
          "1959-1968",
          "1960-1969",
          "1961-1970",
          "1962-1971",
          "1963-1972",
          "1964-1973",
          "1965-1974",
          "1966-1975",
          "1967-1976",
          "1968-1977",
          "1969-1978",
          "1970-1979",
          "1971-1980",
          "1972-1981",
          "1973-1982",
          "1974-1983",
          "1975-1984",
          "1976-1985",
          "1977-1986",
          "1978-1987",
          "1979-1988",
          "1980-1989",
          "1981-1990",
          "1982-1991",
          "1983-1992",
          "1984-1993",
          "1985-1994",
          "1986-1995",
          "1987-1996",
          "1988-1997",
          "1989-1998",
          "1990-1999",
          "1991-2000",
          "1992-2001",
          "1993-2002",
          "1994-2003",
          "1995-2004",
          "1996-2005",
          "1997-2006",
          "1998-2007",
          "1999-2008",
          "2000-2009",
          "2001-2010",
          "2002-2011",
          "2003-2012",
          "2004-2013",
          "2005-2014",
          "2006-2015",
          "2007-2016",
          "2008-2017",
          "2009-2018",
          "2010-2019",
          "2011-2020",
          "2012-2021",
          "2013-2022",
          "2014-2023",
          "2015-2024"
         ],
         "y": [
          1,
          1,
          1,
          1,
          1,
          1,
          1,
          1,
          1,
          0,
          1,
          1,
          1,
          1,
          1,
          1,
          1,
          1,
          1,
          1,
          1,
          0,
          0,
          0,
          0,
          0,
          0,
          0,
          1,
          1,
          0,
          0,
          0,
          0,
          1,
          1,
          1,
          1,
          1,
          1,
          1,
          1,
          1,
          1,
          0,
          0,
          0,
          0,
          1,
          1,
          0,
          0,
          0,
          0,
          0,
          0,
          0,
          0,
          0,
          0,
          0,
          0,
          0,
          0,
          0,
          0,
          0,
          0,
          0,
          0,
          0,
          0,
          0,
          0,
          0,
          1,
          1,
          1,
          0,
          0,
          0,
          0,
          0,
          0,
          0,
          1,
          1,
          0,
          0,
          0,
          0,
          0,
          0,
          0,
          1,
          1,
          1,
          1,
          1,
          0,
          0,
          0,
          0,
          0,
          0,
          0,
          1,
          2,
          1,
          1,
          0,
          0,
          0,
          0,
          0,
          0,
          0,
          0,
          0,
          1,
          1,
          1,
          2,
          6,
          7,
          9,
          8,
          14,
          14,
          19,
          20,
          20,
          23,
          22,
          27,
          28,
          31,
          29,
          31,
          27,
          26,
          26,
          27,
          22,
          13,
          19,
          18,
          18,
          15,
          14,
          14,
          14,
          19,
          21,
          22,
          25,
          25,
          25,
          33,
          43,
          43,
          43,
          46,
          47,
          55,
          63,
          78,
          79,
          74,
          68,
          60,
          55,
          48,
          48,
          44,
          45,
          52,
          61,
          64,
          74,
          76,
          68,
          73,
          81,
          105,
          121,
          101,
          102,
          114,
          101,
          111,
          117,
          128,
          122,
          107,
          101,
          98,
          93,
          73,
          78,
          77,
          84,
          91,
          104,
          88,
          94,
          126,
          121,
          144,
          149,
          135,
          127,
          128,
          121,
          135,
          123,
          96,
          118,
          110,
          128,
          163,
          178,
          199,
          201,
          213,
          221,
          254,
          253,
          237,
          235,
          221,
          199,
          216,
          178,
          193,
          201,
          144,
          145,
          156,
          145,
          154,
          152,
          122,
          122,
          117,
          103,
          123,
          133,
          120,
          129,
          100,
          97,
          79,
          95,
          85,
          99,
          91,
          86,
          128,
          112,
          144,
          142,
          147,
          150,
          161,
          161,
          154,
          131,
          90,
          83,
          62,
          42,
          42,
          34,
          35,
          34,
          42,
          65,
          75,
          90,
          98,
          97,
          91,
          71,
          53,
          37,
          19,
          12,
          5,
          0,
          0,
          0,
          0,
          0,
          0,
          0,
          0,
          0,
          0,
          0,
          0,
          0,
          0,
          0,
          0,
          0,
          0,
          0,
          0,
          0,
          0,
          0,
          0,
          0,
          0,
          0,
          0,
          0,
          0,
          0,
          0,
          0,
          0,
          0,
          0,
          0,
          0,
          1,
          1,
          1,
          1,
          1,
          1,
          1,
          3,
          4,
          12,
          22,
          42,
          77,
          194,
          328,
          453,
          584,
          662,
          828,
          940,
          1040,
          1063,
          1002,
          856
         ]
        }
       ],
       "layout": {
        "template": {
         "data": {
          "bar": [
           {
            "error_x": {
             "color": "#2a3f5f"
            },
            "error_y": {
             "color": "#2a3f5f"
            },
            "marker": {
             "line": {
              "color": "white",
              "width": 0.5
             },
             "pattern": {
              "fillmode": "overlay",
              "size": 10,
              "solidity": 0.2
             }
            },
            "type": "bar"
           }
          ],
          "barpolar": [
           {
            "marker": {
             "line": {
              "color": "white",
              "width": 0.5
             },
             "pattern": {
              "fillmode": "overlay",
              "size": 10,
              "solidity": 0.2
             }
            },
            "type": "barpolar"
           }
          ],
          "carpet": [
           {
            "aaxis": {
             "endlinecolor": "#2a3f5f",
             "gridcolor": "#C8D4E3",
             "linecolor": "#C8D4E3",
             "minorgridcolor": "#C8D4E3",
             "startlinecolor": "#2a3f5f"
            },
            "baxis": {
             "endlinecolor": "#2a3f5f",
             "gridcolor": "#C8D4E3",
             "linecolor": "#C8D4E3",
             "minorgridcolor": "#C8D4E3",
             "startlinecolor": "#2a3f5f"
            },
            "type": "carpet"
           }
          ],
          "choropleth": [
           {
            "colorbar": {
             "outlinewidth": 0,
             "ticks": ""
            },
            "type": "choropleth"
           }
          ],
          "contour": [
           {
            "colorbar": {
             "outlinewidth": 0,
             "ticks": ""
            },
            "colorscale": [
             [
              0,
              "#0d0887"
             ],
             [
              0.1111111111111111,
              "#46039f"
             ],
             [
              0.2222222222222222,
              "#7201a8"
             ],
             [
              0.3333333333333333,
              "#9c179e"
             ],
             [
              0.4444444444444444,
              "#bd3786"
             ],
             [
              0.5555555555555556,
              "#d8576b"
             ],
             [
              0.6666666666666666,
              "#ed7953"
             ],
             [
              0.7777777777777778,
              "#fb9f3a"
             ],
             [
              0.8888888888888888,
              "#fdca26"
             ],
             [
              1,
              "#f0f921"
             ]
            ],
            "type": "contour"
           }
          ],
          "contourcarpet": [
           {
            "colorbar": {
             "outlinewidth": 0,
             "ticks": ""
            },
            "type": "contourcarpet"
           }
          ],
          "heatmap": [
           {
            "colorbar": {
             "outlinewidth": 0,
             "ticks": ""
            },
            "colorscale": [
             [
              0,
              "#0d0887"
             ],
             [
              0.1111111111111111,
              "#46039f"
             ],
             [
              0.2222222222222222,
              "#7201a8"
             ],
             [
              0.3333333333333333,
              "#9c179e"
             ],
             [
              0.4444444444444444,
              "#bd3786"
             ],
             [
              0.5555555555555556,
              "#d8576b"
             ],
             [
              0.6666666666666666,
              "#ed7953"
             ],
             [
              0.7777777777777778,
              "#fb9f3a"
             ],
             [
              0.8888888888888888,
              "#fdca26"
             ],
             [
              1,
              "#f0f921"
             ]
            ],
            "type": "heatmap"
           }
          ],
          "heatmapgl": [
           {
            "colorbar": {
             "outlinewidth": 0,
             "ticks": ""
            },
            "colorscale": [
             [
              0,
              "#0d0887"
             ],
             [
              0.1111111111111111,
              "#46039f"
             ],
             [
              0.2222222222222222,
              "#7201a8"
             ],
             [
              0.3333333333333333,
              "#9c179e"
             ],
             [
              0.4444444444444444,
              "#bd3786"
             ],
             [
              0.5555555555555556,
              "#d8576b"
             ],
             [
              0.6666666666666666,
              "#ed7953"
             ],
             [
              0.7777777777777778,
              "#fb9f3a"
             ],
             [
              0.8888888888888888,
              "#fdca26"
             ],
             [
              1,
              "#f0f921"
             ]
            ],
            "type": "heatmapgl"
           }
          ],
          "histogram": [
           {
            "marker": {
             "pattern": {
              "fillmode": "overlay",
              "size": 10,
              "solidity": 0.2
             }
            },
            "type": "histogram"
           }
          ],
          "histogram2d": [
           {
            "colorbar": {
             "outlinewidth": 0,
             "ticks": ""
            },
            "colorscale": [
             [
              0,
              "#0d0887"
             ],
             [
              0.1111111111111111,
              "#46039f"
             ],
             [
              0.2222222222222222,
              "#7201a8"
             ],
             [
              0.3333333333333333,
              "#9c179e"
             ],
             [
              0.4444444444444444,
              "#bd3786"
             ],
             [
              0.5555555555555556,
              "#d8576b"
             ],
             [
              0.6666666666666666,
              "#ed7953"
             ],
             [
              0.7777777777777778,
              "#fb9f3a"
             ],
             [
              0.8888888888888888,
              "#fdca26"
             ],
             [
              1,
              "#f0f921"
             ]
            ],
            "type": "histogram2d"
           }
          ],
          "histogram2dcontour": [
           {
            "colorbar": {
             "outlinewidth": 0,
             "ticks": ""
            },
            "colorscale": [
             [
              0,
              "#0d0887"
             ],
             [
              0.1111111111111111,
              "#46039f"
             ],
             [
              0.2222222222222222,
              "#7201a8"
             ],
             [
              0.3333333333333333,
              "#9c179e"
             ],
             [
              0.4444444444444444,
              "#bd3786"
             ],
             [
              0.5555555555555556,
              "#d8576b"
             ],
             [
              0.6666666666666666,
              "#ed7953"
             ],
             [
              0.7777777777777778,
              "#fb9f3a"
             ],
             [
              0.8888888888888888,
              "#fdca26"
             ],
             [
              1,
              "#f0f921"
             ]
            ],
            "type": "histogram2dcontour"
           }
          ],
          "mesh3d": [
           {
            "colorbar": {
             "outlinewidth": 0,
             "ticks": ""
            },
            "type": "mesh3d"
           }
          ],
          "parcoords": [
           {
            "line": {
             "colorbar": {
              "outlinewidth": 0,
              "ticks": ""
             }
            },
            "type": "parcoords"
           }
          ],
          "pie": [
           {
            "automargin": true,
            "type": "pie"
           }
          ],
          "scatter": [
           {
            "fillpattern": {
             "fillmode": "overlay",
             "size": 10,
             "solidity": 0.2
            },
            "type": "scatter"
           }
          ],
          "scatter3d": [
           {
            "line": {
             "colorbar": {
              "outlinewidth": 0,
              "ticks": ""
             }
            },
            "marker": {
             "colorbar": {
              "outlinewidth": 0,
              "ticks": ""
             }
            },
            "type": "scatter3d"
           }
          ],
          "scattercarpet": [
           {
            "marker": {
             "colorbar": {
              "outlinewidth": 0,
              "ticks": ""
             }
            },
            "type": "scattercarpet"
           }
          ],
          "scattergeo": [
           {
            "marker": {
             "colorbar": {
              "outlinewidth": 0,
              "ticks": ""
             }
            },
            "type": "scattergeo"
           }
          ],
          "scattergl": [
           {
            "marker": {
             "colorbar": {
              "outlinewidth": 0,
              "ticks": ""
             }
            },
            "type": "scattergl"
           }
          ],
          "scattermapbox": [
           {
            "marker": {
             "colorbar": {
              "outlinewidth": 0,
              "ticks": ""
             }
            },
            "type": "scattermapbox"
           }
          ],
          "scatterpolar": [
           {
            "marker": {
             "colorbar": {
              "outlinewidth": 0,
              "ticks": ""
             }
            },
            "type": "scatterpolar"
           }
          ],
          "scatterpolargl": [
           {
            "marker": {
             "colorbar": {
              "outlinewidth": 0,
              "ticks": ""
             }
            },
            "type": "scatterpolargl"
           }
          ],
          "scatterternary": [
           {
            "marker": {
             "colorbar": {
              "outlinewidth": 0,
              "ticks": ""
             }
            },
            "type": "scatterternary"
           }
          ],
          "surface": [
           {
            "colorbar": {
             "outlinewidth": 0,
             "ticks": ""
            },
            "colorscale": [
             [
              0,
              "#0d0887"
             ],
             [
              0.1111111111111111,
              "#46039f"
             ],
             [
              0.2222222222222222,
              "#7201a8"
             ],
             [
              0.3333333333333333,
              "#9c179e"
             ],
             [
              0.4444444444444444,
              "#bd3786"
             ],
             [
              0.5555555555555556,
              "#d8576b"
             ],
             [
              0.6666666666666666,
              "#ed7953"
             ],
             [
              0.7777777777777778,
              "#fb9f3a"
             ],
             [
              0.8888888888888888,
              "#fdca26"
             ],
             [
              1,
              "#f0f921"
             ]
            ],
            "type": "surface"
           }
          ],
          "table": [
           {
            "cells": {
             "fill": {
              "color": "#EBF0F8"
             },
             "line": {
              "color": "white"
             }
            },
            "header": {
             "fill": {
              "color": "#C8D4E3"
             },
             "line": {
              "color": "white"
             }
            },
            "type": "table"
           }
          ]
         },
         "layout": {
          "annotationdefaults": {
           "arrowcolor": "#2a3f5f",
           "arrowhead": 0,
           "arrowwidth": 1
          },
          "autotypenumbers": "strict",
          "coloraxis": {
           "colorbar": {
            "outlinewidth": 0,
            "ticks": ""
           }
          },
          "colorscale": {
           "diverging": [
            [
             0,
             "#8e0152"
            ],
            [
             0.1,
             "#c51b7d"
            ],
            [
             0.2,
             "#de77ae"
            ],
            [
             0.3,
             "#f1b6da"
            ],
            [
             0.4,
             "#fde0ef"
            ],
            [
             0.5,
             "#f7f7f7"
            ],
            [
             0.6,
             "#e6f5d0"
            ],
            [
             0.7,
             "#b8e186"
            ],
            [
             0.8,
             "#7fbc41"
            ],
            [
             0.9,
             "#4d9221"
            ],
            [
             1,
             "#276419"
            ]
           ],
           "sequential": [
            [
             0,
             "#0d0887"
            ],
            [
             0.1111111111111111,
             "#46039f"
            ],
            [
             0.2222222222222222,
             "#7201a8"
            ],
            [
             0.3333333333333333,
             "#9c179e"
            ],
            [
             0.4444444444444444,
             "#bd3786"
            ],
            [
             0.5555555555555556,
             "#d8576b"
            ],
            [
             0.6666666666666666,
             "#ed7953"
            ],
            [
             0.7777777777777778,
             "#fb9f3a"
            ],
            [
             0.8888888888888888,
             "#fdca26"
            ],
            [
             1,
             "#f0f921"
            ]
           ],
           "sequentialminus": [
            [
             0,
             "#0d0887"
            ],
            [
             0.1111111111111111,
             "#46039f"
            ],
            [
             0.2222222222222222,
             "#7201a8"
            ],
            [
             0.3333333333333333,
             "#9c179e"
            ],
            [
             0.4444444444444444,
             "#bd3786"
            ],
            [
             0.5555555555555556,
             "#d8576b"
            ],
            [
             0.6666666666666666,
             "#ed7953"
            ],
            [
             0.7777777777777778,
             "#fb9f3a"
            ],
            [
             0.8888888888888888,
             "#fdca26"
            ],
            [
             1,
             "#f0f921"
            ]
           ]
          },
          "colorway": [
           "#636efa",
           "#EF553B",
           "#00cc96",
           "#ab63fa",
           "#FFA15A",
           "#19d3f3",
           "#FF6692",
           "#B6E880",
           "#FF97FF",
           "#FECB52"
          ],
          "font": {
           "color": "#2a3f5f"
          },
          "geo": {
           "bgcolor": "white",
           "lakecolor": "white",
           "landcolor": "white",
           "showlakes": true,
           "showland": true,
           "subunitcolor": "#C8D4E3"
          },
          "hoverlabel": {
           "align": "left"
          },
          "hovermode": "closest",
          "mapbox": {
           "style": "light"
          },
          "paper_bgcolor": "white",
          "plot_bgcolor": "white",
          "polar": {
           "angularaxis": {
            "gridcolor": "#EBF0F8",
            "linecolor": "#EBF0F8",
            "ticks": ""
           },
           "bgcolor": "white",
           "radialaxis": {
            "gridcolor": "#EBF0F8",
            "linecolor": "#EBF0F8",
            "ticks": ""
           }
          },
          "scene": {
           "xaxis": {
            "backgroundcolor": "white",
            "gridcolor": "#DFE8F3",
            "gridwidth": 2,
            "linecolor": "#EBF0F8",
            "showbackground": true,
            "ticks": "",
            "zerolinecolor": "#EBF0F8"
           },
           "yaxis": {
            "backgroundcolor": "white",
            "gridcolor": "#DFE8F3",
            "gridwidth": 2,
            "linecolor": "#EBF0F8",
            "showbackground": true,
            "ticks": "",
            "zerolinecolor": "#EBF0F8"
           },
           "zaxis": {
            "backgroundcolor": "white",
            "gridcolor": "#DFE8F3",
            "gridwidth": 2,
            "linecolor": "#EBF0F8",
            "showbackground": true,
            "ticks": "",
            "zerolinecolor": "#EBF0F8"
           }
          },
          "shapedefaults": {
           "line": {
            "color": "#2a3f5f"
           }
          },
          "ternary": {
           "aaxis": {
            "gridcolor": "#DFE8F3",
            "linecolor": "#A2B1C6",
            "ticks": ""
           },
           "baxis": {
            "gridcolor": "#DFE8F3",
            "linecolor": "#A2B1C6",
            "ticks": ""
           },
           "bgcolor": "white",
           "caxis": {
            "gridcolor": "#DFE8F3",
            "linecolor": "#A2B1C6",
            "ticks": ""
           }
          },
          "title": {
           "x": 0.05
          },
          "xaxis": {
           "automargin": true,
           "gridcolor": "#EBF0F8",
           "linecolor": "#EBF0F8",
           "ticks": "",
           "title": {
            "standoff": 15
           },
           "zerolinecolor": "#EBF0F8",
           "zerolinewidth": 2
          },
          "yaxis": {
           "automargin": true,
           "gridcolor": "#EBF0F8",
           "linecolor": "#EBF0F8",
           "ticks": "",
           "title": {
            "standoff": 15
           },
           "zerolinecolor": "#EBF0F8",
           "zerolinewidth": 2
          }
         }
        },
        "title": {
         "text": "Amount of Collocates per Year Window"
        },
        "xaxis": {
         "tickangle": -45,
         "title": {
          "text": "Year Range"
         }
        },
        "yaxis": {
         "title": {
          "text": "Highest Number"
         }
        }
       }
      }
     },
     "metadata": {},
     "output_type": "display_data"
    }
   ],
   "source": [
    "import pandas as pd\n",
    "import plotly.graph_objects as go\n",
    "import os\n",
    "\n",
    "def find_highest_numbers_in_directory(directory_path):\n",
    "    highest_numbers = {}\n",
    "\n",
    "    for filename in os.listdir(directory_path):\n",
    "        if filename.endswith('.txt'):\n",
    "            file_path = os.path.join(directory_path, filename)\n",
    "            try:\n",
    "                with open(file_path, 'r', encoding='utf-8') as f:\n",
    "                    highest_number = 0  # Initialize highest number for the current file\n",
    "                    for line in f.readlines()[1:]:  # Skip the header line\n",
    "                        parts = line.split('\\t')\n",
    "                        if len(parts) > 0:  # Check if the line is properly formatted\n",
    "                            try:\n",
    "                                number = int(parts[0])  # Get the number from the first column\n",
    "                                highest_number = max(highest_number, number)  # Update highest number\n",
    "                            except ValueError:\n",
    "                                pass  # Ignore non-integer values\n",
    "                    \n",
    "                    # Store the highest number for the current file\n",
    "                    highest_numbers[filename] = highest_number\n",
    "\n",
    "            except PermissionError:\n",
    "                pass  # Ignore permission errors\n",
    "            except FileNotFoundError:\n",
    "                pass  # Ignore file not found errors\n",
    "            except Exception:\n",
    "                pass  # Ignore all other exceptions\n",
    "\n",
    "    return highest_numbers\n",
    "\n",
    "# Example usage\n",
    "collocate_directory_path = r\"collocate_results_combined_fact_10_window\"\n",
    "highest_numbers = find_highest_numbers_in_directory(collocate_directory_path)\n",
    "\n",
    "# Prepare the data for plotting\n",
    "df = pd.DataFrame(list(highest_numbers.items()), columns=['File', 'Highest Number'])\n",
    "\n",
    "# Modify the 'File' column to extract just the year range\n",
    "df['Year Range'] = df['File'].str.extract(r'(\\d{4}-\\d{4})')[0]  # Extract year range using regex\n",
    "df['Year Range'] = df['Year Range'].fillna(df['File'])  # In case of no match, keep the original filename\n",
    "\n",
    "# Create the interactive plot\n",
    "fig = go.Figure()\n",
    "\n",
    "# Add bars for each file's highest number\n",
    "fig.add_trace(go.Bar(\n",
    "    x=df['Year Range'],  # Use the modified Year Range for x-axis\n",
    "    y=df['Highest Number'],\n",
    "    marker=dict(color='blue'),\n",
    "    text=df['Highest Number'],  # Show counts on bars\n",
    "    textposition='auto',  # Position text on the bars\n",
    "    hovertemplate='Year Range: %{x}<br>%{y}<extra></extra>'  # Customize hover text\n",
    "))\n",
    "\n",
    "# Update layout\n",
    "fig.update_layout(\n",
    "    title='Amount of Collocates per Year Window',\n",
    "    xaxis_title='Year Range',\n",
    "    yaxis_title='Highest Number',\n",
    "    xaxis_tickangle=-45,  # Rotate x-axis labels for better visibility\n",
    "    template='plotly_white'\n",
    ")\n",
    "\n",
    "# Show the plot\n",
    "fig.show()\n"
   ]
  },
  {
   "cell_type": "code",
   "execution_count": 6,
   "metadata": {},
   "outputs": [],
   "source": [
    "#small mistake, fixing all header to line 1\n",
    "import os\n",
    "\n",
    "folder_path = 'collocate_results_combined_fact_10_window/'\n",
    "\n",
    "for filename in os.listdir(folder_path):\n",
    "    if filename.endswith('.txt'):\n",
    "        file_path = os.path.join(folder_path, filename)\n",
    "        \n",
    "        with open(file_path, 'r') as file:\n",
    "            lines = file.readlines()\n",
    "\n",
    "        if len(lines) > 1:\n",
    "            combined_first_two = lines[0].strip() + \" \" + lines[1].strip() + '\\n'\n",
    "            lines = [combined_first_two] + lines[2:]\n",
    "\n",
    "        with open(file_path, 'w') as file:\n",
    "            file.writelines(lines)\n"
   ]
  }
 ],
 "metadata": {
  "kernelspec": {
   "display_name": "Python 3",
   "language": "python",
   "name": "python3"
  },
  "language_info": {
   "codemirror_mode": {
    "name": "ipython",
    "version": 3
   },
   "file_extension": ".py",
   "mimetype": "text/x-python",
   "name": "python",
   "nbconvert_exporter": "python",
   "pygments_lexer": "ipython3",
   "version": "3.9.10"
  }
 },
 "nbformat": 4,
 "nbformat_minor": 2
}
