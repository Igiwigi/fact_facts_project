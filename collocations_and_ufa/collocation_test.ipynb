{
 "cells": [
  {
   "cell_type": "markdown",
   "metadata": {},
   "source": [
    "C5-NC5 indicates that the MI-score with the cut-off point three was used as the association measure; the collocates were identified in the span of three words to the left (L3) and three words to the right (R3) of the node and the frequency threshold was five for both the collocate (C5) and the collocation (NC5). (frequency threshold exists)\n",
    "\n",
    "Generally, the smaller the span, the greater the focus of the analysis on the most immediate lexico-grammatical patterns; a larger span captures looser associations.\n",
    "\n",
    "TO DO\n",
    "- make the freq threshold vary based on the amount of data for each year gap!!! (done, but might need adjusting)\n",
    "- rerun with 3l3r and 5l5r for comparison (done)\n",
    "- avoid lemmatization but tokenize (fact/facts) (done)\n",
    "- include as a side if its from rstl rstb or rsta (done)\n",
    "- different freq thresholds for fact/facts since they are not as common --> calculating the minimum subcorpora amount for the frequency (done, technically)\n",
    "\n",
    "minimum subcorpora:\n",
    "for every 412k, there should be 3\n",
    "\n",
    "Period          Total Words  Fact     Facts   \n",
    "1715-1724       412012       3        3\n",
    "\n",
    "\n",
    "however, the scaling should be different since theres less of facts overall? though they align on the smallest subcorpus"
   ]
  },
  {
   "cell_type": "code",
   "execution_count": 94,
   "metadata": {},
   "outputs": [
    {
     "name": "stderr",
     "output_type": "stream",
     "text": [
      "[nltk_data] Downloading package punkt to\n",
      "[nltk_data]     C:\\Users\\Igiba\\AppData\\Roaming\\nltk_data...\n",
      "[nltk_data]   Package punkt is already up-to-date!\n"
     ]
    }
   ],
   "source": [
    "import nltk\n",
    "from nltk.collocations import BigramCollocationFinder\n",
    "from nltk.metrics import BigramAssocMeasures\n",
    "from nltk.tokenize import word_tokenize\n",
    "import string\n",
    "import csv\n",
    "import os\n",
    "import re\n",
    "from collections import defaultdict\n",
    "from tqdm.notebook import tqdm\n",
    "import traceback\n",
    "import concurrent.futures\n",
    "\n",
    "nltk.download('punkt')\n",
    "\n",
    "def extract_year_from_filename(filename):\n",
    "    match = re.search(r'rst[bla]?_(\\d{4})', filename)\n",
    "    return int(match.group(1)) if match else None\n",
    "\n",
    "def clean_text(text):\n",
    "    return text.replace('ſ', 's').replace('Å¿', 's') #this is optional and could be expanded upon or omitted\n",
    "\n",
    "def build_file_directory_map(text_dirs): #to get the directory and filename later, hopefully the maps match correctly\n",
    "    file_directory_map = {}\n",
    "    for dir_path in text_dirs:\n",
    "        dir_name = os.path.basename(dir_path)\n",
    "        for filename in os.listdir(dir_path):\n",
    "            if filename.endswith('.txt'):\n",
    "                file_path = os.path.join(dir_path, filename)\n",
    "                try:\n",
    "                    with open(file_path, 'r', encoding='utf-8') as file:\n",
    "                        text = file.read()\n",
    "                        cleaned_text = clean_text(text)\n",
    "                        file_directory_map[cleaned_text] = (dir_name, filename)\n",
    "                except Exception as e:\n",
    "                    print(f\"Error reading file {file_path}: {str(e)}\")\n",
    "    return file_directory_map\n",
    "\n",
    "def process_file(file_path):\n",
    "    try:\n",
    "        year = extract_year_from_filename(os.path.basename(file_path))\n",
    "        if not year:\n",
    "            return None\n",
    "        with open(file_path, 'r', encoding='utf-8') as file:\n",
    "            text = file.read()\n",
    "        cleaned_text = clean_text(text)\n",
    "        return year, cleaned_text\n",
    "    except Exception as e:\n",
    "        print(f\"Error processing file {file_path}: {str(e)}\")\n",
    "        return None\n",
    "\n",
    "def process_tokens(text):\n",
    "    tokens = word_tokenize(text.lower())\n",
    "    return [token for token in tokens if token.isalpha() and token not in string.punctuation]\n",
    "\n",
    "def calculate_scaled_freq_filter(total_words, word_of_interest):\n",
    "    if word_of_interest == \"fact\":\n",
    "        base_threshold = 3  # base threshold for the lowest amount of words (412,012) using smallest subcorpora for \"fact\"\n",
    "        scale_factor = 3 / 412012  #increase threshold by this factor for each extra word over 412012\n",
    "        if total_words <= 412012:\n",
    "            return base_threshold\n",
    "        else:\n",
    "            additional_threshold = (total_words - 412012) * scale_factor\n",
    "            return base_threshold + round(additional_threshold) #needs to be rounded as integer\n",
    "        \n",
    "    elif word_of_interest == \"facts\": \n",
    "        base_threshold = 2 #theres much less of facts than fact (sometimes 0)\n",
    "        scale_factor = 2 / 411208 #should've maybe used 2, as the smallest subcorp has 2 facts #originally used same scale factor as fact\n",
    "        if total_words <= 411208:\n",
    "            return base_threshold\n",
    "        else:\n",
    "            additional_threshold = (total_words - 411208) * scale_factor\n",
    "            return base_threshold + round(additional_threshold)\n",
    "\n",
    "\n",
    "def process_window(window_data, word_of_interest, collocate_window, file_directory_map):\n",
    "    try:\n",
    "        window_start, window_end, window_texts = window_data\n",
    "        all_tokens = [token for text in window_texts for token in process_tokens(text)]\n",
    "        \n",
    "        total_tokens = len(all_tokens)\n",
    "        total_texts = len(window_texts)\n",
    "        \n",
    "        freq_filter = calculate_scaled_freq_filter(total_tokens, word_of_interest)\n",
    "        print(f\"Window {window_start}-{window_end}: Using frequency filter of {freq_filter} for {total_tokens} total words\")\n",
    "        \n",
    "        finder = BigramCollocationFinder.from_words(all_tokens, window_size=collocate_window)\n",
    "        finder.apply_freq_filter(freq_filter)\n",
    "        \n",
    "        collocations = finder.score_ngrams(BigramAssocMeasures().pmi)\n",
    "        \n",
    "        collocate_stats = []\n",
    "        collocate_contexts = defaultdict(list)\n",
    "\n",
    "        word_of_interest_lower = word_of_interest.lower()\n",
    "        word_of_interest_freq = sum(finder.word_fd[word] for word in finder.word_fd if word.lower() == word_of_interest_lower)\n",
    "\n",
    "        text_sources = {text: file_directory_map.get(text, (\"Unknown\", \"Unknown\")) for text in window_texts}\n",
    "\n",
    "        for bigram, pmi in collocations:\n",
    "            if word_of_interest_lower in (word.lower() for word in bigram):\n",
    "                other_word = bigram[0] if bigram[1].lower() == word_of_interest_lower else bigram[1]\n",
    "                observed_freq = finder.ngram_fd[bigram]\n",
    "                word_freq = finder.word_fd[other_word]\n",
    "                expected_freq = (word_of_interest_freq * word_freq) / total_tokens\n",
    "                num_texts = sum(1 for text in window_texts if other_word.lower() in text.lower().split())\n",
    "                \n",
    "                if num_texts > 1:\n",
    "                    collocate_stats.append({\n",
    "                        'word': other_word,\n",
    "                        'total_corpus': word_freq,\n",
    "                        'expected_freq': expected_freq,\n",
    "                        'observed_freq': observed_freq,\n",
    "                        'num_texts': num_texts,\n",
    "                        'pmi': pmi\n",
    "                    })\n",
    "                    \n",
    "                    for text in window_texts:\n",
    "                        words = text.split()\n",
    "                        for i, word in enumerate(words):\n",
    "                            if word.lower() == word_of_interest_lower and other_word.lower() in [w.lower() for w in words[max(0, i-collocate_window):i+collocate_window+1]]:\n",
    "                                context = ' '.join(words[max(0, i-collocate_window):i+collocate_window+1])\n",
    "                                dir_name, filename = text_sources[text]\n",
    "                                context_info = context #this is whats shown as context in the csv, redundant but can change it l8\n",
    "                                collocate_contexts[other_word].append((context_info, other_word, filename, dir_name, freq_filter))\n",
    "        \n",
    "        collocate_stats.sort(key=lambda x: x['pmi'], reverse=True)\n",
    "\n",
    "        filtered_contexts = [context for collocate in collocate_stats for context in collocate_contexts.get(collocate['word'], [])] #testing if this is at fault for mismatching contexts\n",
    "\n",
    "        #all_contexts = [context for contexts in collocate_contexts.values() for context in contexts] #downloads all of them, bad\n",
    "\n",
    "        return f\"{window_start}-{window_end}\", {\n",
    "            'collocates': collocate_stats,\n",
    "            'total_tokens': total_tokens,\n",
    "            'total_texts': total_texts,\n",
    "            'contexts': filtered_contexts\n",
    "        }\n",
    "    except Exception as e:\n",
    "        print(f\"Error processing window {window_start}-{window_end}: {str(e)}\")\n",
    "        traceback.print_exc()\n",
    "        return None\n",
    "\n",
    "def analyze_collocates(text_dirs, output_dir, word_of_interest, start_year, end_year, collocate_window, window_size=10):\n",
    "    def read_texts_by_year(directories):\n",
    "        texts_by_year = defaultdict(list)\n",
    "        file_paths = [os.path.join(dir, f) for dir in directories for f in os.listdir(dir) if f.endswith('.txt')]\n",
    "        \n",
    "        print(\"Reading files...\")\n",
    "        with concurrent.futures.ThreadPoolExecutor() as executor:\n",
    "            results = list(tqdm(executor.map(process_file, file_paths), total=len(file_paths)))\n",
    "        \n",
    "        for result in results:\n",
    "            if result:\n",
    "                year, text = result\n",
    "                if start_year <= year <= end_year:\n",
    "                    texts_by_year[year].append(text)\n",
    "        \n",
    "        return texts_by_year\n",
    "\n",
    "    print(f\"Starting text processing for years {start_year}-{end_year}...\")\n",
    "    texts_by_year = read_texts_by_year(text_dirs)\n",
    "    file_directory_map = build_file_directory_map(text_dirs)\n",
    "    \n",
    "    all_years = sorted(texts_by_year.keys())\n",
    "    if not all_years:\n",
    "        print(f\"No texts found in the specified year range {start_year}-{end_year}\")\n",
    "        return\n",
    "        \n",
    "    window_data = [\n",
    "        (window_start, window_start + window_size - 1, \n",
    "         [text for year in range(window_start, window_start + window_size) for text in texts_by_year.get(year, [])])\n",
    "        for window_start in range(start_year, end_year - window_size + 2)\n",
    "    ]\n",
    "\n",
    "    collocates_by_window = {}\n",
    "    print(\"Processing windows...\")\n",
    "    with concurrent.futures.ThreadPoolExecutor() as executor:\n",
    "        results = list(tqdm(executor.map(lambda data: process_window(data, word_of_interest, collocate_window, file_directory_map), window_data), total=len(window_data)))\n",
    "\n",
    "    for result in results:\n",
    "        if result:\n",
    "            window, window_result = result\n",
    "            collocates_by_window[window] = window_result\n",
    "\n",
    "    os.makedirs(output_dir, exist_ok=True)\n",
    "    print(\"Saving results to CSV and TXT files...\")\n",
    "\n",
    "    for window, data in collocates_by_window.items():\n",
    "        save_collocates_to_csv(output_dir, window, data)\n",
    "        save_contexts_to_csv(output_dir, window, data)\n",
    "        save_detailed_report(output_dir, window, data, word_of_interest)\n",
    "\n",
    "    print(f\"Collocate analysis completed. Results saved in the '{output_dir}' directory.\")\n",
    "\n",
    "\n",
    "#data saving functions    \n",
    "def save_collocates_to_csv(output_dir, window, data):\n",
    "    csv_filename = os.path.join(output_dir, f'collocates_{window}.csv')\n",
    "    with open(csv_filename, 'w', newline='', encoding='utf-8') as csvfile:\n",
    "        writer = csv.writer(csvfile)\n",
    "        writer.writerow(['No.', 'Word', 'Total no. in window corpus', 'Expected collocate frequency',\n",
    "                         'Observed collocate frequency', 'In no. of texts', 'Mutual Information value'])\n",
    "        \n",
    "        for i, collocate in enumerate(data['collocates'], 1):\n",
    "            writer.writerow([\n",
    "                i,\n",
    "                collocate['word'],\n",
    "                collocate['total_corpus'],\n",
    "                f\"{collocate['expected_freq']:.2f}\",\n",
    "                collocate['observed_freq'],\n",
    "                collocate['num_texts'],\n",
    "                f\"{collocate['pmi']:.2f}\"\n",
    "            ])\n",
    "    print(f\"Saved collocates to {csv_filename}\")\n",
    "\n",
    "def save_contexts_to_csv(output_dir, window, data): #for later viewing\n",
    "    subfolder_path = os.path.join(output_dir, 'contexts')\n",
    "    os.makedirs(subfolder_path, exist_ok=True)\n",
    "    csv_filename = os.path.join(subfolder_path, f'contexts_{window}.csv')\n",
    "    \n",
    "    with open(csv_filename, 'w', newline='', encoding='utf-8') as csvfile:\n",
    "        writer = csv.writer(csvfile)\n",
    "        writer.writerow(['Context', 'Collocate', 'File', 'Directory', 'Year', 'Frequency Filter'])\n",
    "    for context_info, other_word, filename, dir_name, freq_filter in data['contexts']:\n",
    "        match = re.search(r'_(\\d{4})_', filename)\n",
    "        year = match.group(1) if match else 'Unknown'\n",
    "        writer.writerow([context_info, other_word, filename, dir_name, year, freq_filter])\n",
    "    \n",
    "    print(f\"Saved contexts to {csv_filename}\")\n",
    "\n",
    "def save_detailed_report(output_dir, window, data, word_of_interest): #this is for UFA, important to keep the formatting as-is just in case\n",
    "    subfolder_path = os.path.join(output_dir, 'collocation_txt')\n",
    "    os.makedirs(subfolder_path, exist_ok=True)\n",
    "    txt_filename = os.path.join(subfolder_path, f'collocates_txt_{window}.txt')\n",
    "    \n",
    "    with open(txt_filename, 'w', encoding='utf-8') as txtfile:\n",
    "        txtfile.write(\"https://example.com/collocation-analysis\\n\") #spoofing the formatting of what UFA expects (on the website), kind of arbitrary by now but its okay\n",
    "        txtfile.write(f\"There are {data['total_tokens']} different words in your collocation database for \\\"{word_of_interest}\\\". \")\n",
    "        txtfile.write(f\"(Your query returned {sum(c['observed_freq'] for c in data['collocates'])} matches in {data['total_texts']} different texts)\\n\")\n",
    "        txtfile.write(\"__________________\\n\\n\")\n",
    "        \n",
    "        txtfile.write(\"No.\\tWord\\tTotal no. in whole corpus\\tExpected collocate frequency\\t\")\n",
    "        txtfile.write(\"Observed collocate frequency\\tIn no. of texts\\tMutual information value\\n\\n\")\n",
    "        \n",
    "        for i, collocate in enumerate(data['collocates'], 1):\n",
    "            txtfile.write(f\"{i}\\t{collocate['word']}\\t{collocate['total_corpus']}\\t\")\n",
    "            txtfile.write(f\"{collocate['expected_freq']:.2f}\\t{collocate['observed_freq']}\\t\")\n",
    "            txtfile.write(f\"{collocate['num_texts']}\\t{collocate['pmi']:.2f}\\n\")\n",
    "    \n",
    "    print(f\"Saved detailed report to {txt_filename}\")"
   ]
  },
  {
   "cell_type": "code",
   "execution_count": null,
   "metadata": {},
   "outputs": [
    {
     "name": "stdout",
     "output_type": "stream",
     "text": [
      "Error occurred: name 'analyze_collocates' is not defined\n",
      "Error occurred: name 'analyze_collocates' is not defined\n",
      "Error occurred: name 'analyze_collocates' is not defined\n",
      "Error occurred: name 'analyze_collocates' is not defined\n"
     ]
    }
   ],
   "source": [
    "import concurrent.futures\n",
    "\n",
    "tasks = [\n",
    "    #([r\"D:\\Fact_fiction_corpus\\texts\\royal society\\txt_rstb\", \n",
    "      #r\"D:\\Fact_fiction_corpus\\texts\\royal society\\txt_rstl\", \n",
    "      #r\"D:\\Fact_fiction_corpus\\texts\\royal society\\txt_rsta\"], \n",
    "     #\"collocation_results/FACT/collocate_results_1665-1958_FACT_css3_w3\", \"fact\", 1665, 1958, 3), #collocate_window = 3/5\n",
    "    \n",
    "    ([r\"D:\\Fact_fiction_corpus\\texts\\royal society\\txt_rstb\", \n",
    "      r\"D:\\Fact_fiction_corpus\\texts\\royal society\\txt_rstl\", \n",
    "      r\"D:\\Fact_fiction_corpus\\texts\\royal society\\txt_rsta\"], \n",
    "     \"collocation_results/FACTS/collocate_results_1665-1958_FACTS_css2_w3\", \"facts\", 1665, 1958, 3), #scaling is more unforgiving for facts (imperfect) BUT SETTING IT BELOW 3 IS TOO FORGIVING\n",
    "    \n",
    "    #([r\"D:\\Fact_fiction_corpus\\texts\\royal society\\txt_rstb\", \n",
    "      #r\"D:\\Fact_fiction_corpus\\texts\\royal society\\txt_rstl\", \n",
    "      #r\"D:\\Fact_fiction_corpus\\texts\\royal society\\txt_rsta\"], \n",
    "     #\"collocation_results/FACT/collocate_results_1665-1958_FACT_css3_w5\", \"fact\", 1665, 1958, 5),\n",
    "    \n",
    "    ([r\"D:\\Fact_fiction_corpus\\texts\\royal society\\txt_rstb\", \n",
    "      r\"D:\\Fact_fiction_corpus\\texts\\royal society\\txt_rstl\", \n",
    "      r\"D:\\Fact_fiction_corpus\\texts\\royal society\\txt_rsta\"], \n",
    "     \"collocation_results/FACTS/collocate_results_1665-1958_FACTS_css2_w5\", \"facts\", 1665, 1958, 5) #css = custom subcorpora scaling\n",
    "]\n",
    "\n",
    "def run_analyze_collocates(args):\n",
    "    analyze_collocates(*args)\n",
    "\n",
    "with concurrent.futures.ThreadPoolExecutor() as executor:\n",
    "    futures = [executor.submit(run_analyze_collocates, task) for task in tasks]\n",
    "    for future in concurrent.futures.as_completed(futures):\n",
    "        try:\n",
    "            future.result()\n",
    "        except Exception as e:\n",
    "            print(f\"Error occurred: {e}\")"
   ]
  },
  {
   "cell_type": "markdown",
   "metadata": {},
   "source": [
    "---\n",
    "extra stuff\n",
    "---"
   ]
  },
  {
   "cell_type": "markdown",
   "metadata": {},
   "source": [
    "ungodly messy, could use some clean up"
   ]
  },
  {
   "cell_type": "code",
   "execution_count": null,
   "metadata": {},
   "outputs": [
    {
     "data": {
      "text/plain": [
       "0"
      ]
     },
     "execution_count": 5,
     "metadata": {},
     "output_type": "execute_result"
    }
   ],
   "source": [
    "#so my pc turns off eventually\n",
    "import os\n",
    "import time\n",
    "\n",
    "time.sleep(300)\n",
    "os.system(\"shutdown /s /t 1\")"
   ]
  },
  {
   "cell_type": "code",
   "execution_count": 96,
   "metadata": {},
   "outputs": [
    {
     "name": "stdout",
     "output_type": "stream",
     "text": [
      "Counting files in year windows...\n"
     ]
    },
    {
     "name": "stderr",
     "output_type": "stream",
     "text": [
      "  0%|          | 0/5284 [00:00<?, ?it/s]"
     ]
    },
    {
     "name": "stderr",
     "output_type": "stream",
     "text": [
      "100%|██████████| 5284/5284 [00:00<00:00, 290376.58it/s]\n",
      "100%|██████████| 8520/8520 [00:00<00:00, 230663.03it/s]\n",
      "100%|██████████| 4390/4390 [00:00<00:00, 278921.37it/s]\n"
     ]
    },
    {
     "data": {
      "application/vnd.plotly.v1+json": {
       "config": {
        "plotlyServerURL": "https://plot.ly"
       },
       "data": [
        {
         "hoverinfo": "text",
         "marker": {
          "color": "green",
          "line": {
           "color": "black",
           "width": 1
          },
          "size": 10
         },
         "mode": "markers+lines",
         "name": "<b>RSTL (1665-1887)<b>",
         "text": [
          "Year: 1665<br>RSTL Count: 158",
          "Year: 1666<br>RSTL Count: 231",
          "Year: 1667<br>RSTL Count: 0",
          "Year: 1668<br>RSTL Count: 303",
          "Year: 1669<br>RSTL Count: 372",
          "Year: 1670<br>RSTL Count: 446",
          "Year: 1671<br>RSTL Count: 522",
          "Year: 1672<br>RSTL Count: 592",
          "Year: 1673<br>RSTL Count: 657",
          "Year: 1674<br>RSTL Count: 714",
          "Year: 1675<br>RSTL Count: 622",
          "Year: 1676<br>RSTL Count: 608",
          "Year: 1677<br>RSTL Count: 687",
          "Year: 1678<br>RSTL Count: 0",
          "Year: 1679<br>RSTL Count: 0",
          "Year: 1680<br>RSTL Count: 0",
          "Year: 1681<br>RSTL Count: 0",
          "Year: 1682<br>RSTL Count: 0",
          "Year: 1683<br>RSTL Count: 322",
          "Year: 1684<br>RSTL Count: 358",
          "Year: 1685<br>RSTL Count: 399",
          "Year: 1686<br>RSTL Count: 453",
          "Year: 1687<br>RSTL Count: 0",
          "Year: 1688<br>RSTL Count: 0",
          "Year: 1689<br>RSTL Count: 0",
          "Year: 1690<br>RSTL Count: 0",
          "Year: 1691<br>RSTL Count: 0",
          "Year: 1692<br>RSTL Count: 0",
          "Year: 1693<br>RSTL Count: 406",
          "Year: 1694<br>RSTL Count: 367",
          "Year: 1695<br>RSTL Count: 416",
          "Year: 1696<br>RSTL Count: 0",
          "Year: 1697<br>RSTL Count: 0",
          "Year: 1698<br>RSTL Count: 411",
          "Year: 1699<br>RSTL Count: 497",
          "Year: 1700<br>RSTL Count: 622",
          "Year: 1701<br>RSTL Count: 0",
          "Year: 1702<br>RSTL Count: 700",
          "Year: 1703<br>RSTL Count: 0",
          "Year: 1704<br>RSTL Count: 669",
          "Year: 1705<br>RSTL Count: 0",
          "Year: 1706<br>RSTL Count: 581",
          "Year: 1707<br>RSTL Count: 0",
          "Year: 1708<br>RSTL Count: 551",
          "Year: 1709<br>RSTL Count: 0",
          "Year: 1710<br>RSTL Count: 415",
          "Year: 1711<br>RSTL Count: 0",
          "Year: 1712<br>RSTL Count: 0",
          "Year: 1713<br>RSTL Count: 378",
          "Year: 1714<br>RSTL Count: 335",
          "Year: 1715<br>RSTL Count: 0",
          "Year: 1716<br>RSTL Count: 0",
          "Year: 1717<br>RSTL Count: 348",
          "Year: 1718<br>RSTL Count: 0",
          "Year: 1719<br>RSTL Count: 0",
          "Year: 1720<br>RSTL Count: 258",
          "Year: 1721<br>RSTL Count: 0",
          "Year: 1722<br>RSTL Count: 359",
          "Year: 1723<br>RSTL Count: 0",
          "Year: 1724<br>RSTL Count: 326",
          "Year: 1725<br>RSTL Count: 0",
          "Year: 1726<br>RSTL Count: 386",
          "Year: 1727<br>RSTL Count: 374",
          "Year: 1728<br>RSTL Count: 0",
          "Year: 1729<br>RSTL Count: 442",
          "Year: 1730<br>RSTL Count: 0",
          "Year: 1731<br>RSTL Count: 458",
          "Year: 1732<br>RSTL Count: 0",
          "Year: 1733<br>RSTL Count: 426",
          "Year: 1734<br>RSTL Count: 0",
          "Year: 1735<br>RSTL Count: 436",
          "Year: 1736<br>RSTL Count: 0",
          "Year: 1737<br>RSTL Count: 394",
          "Year: 1738<br>RSTL Count: 0",
          "Year: 1739<br>RSTL Count: 506",
          "Year: 1740<br>RSTL Count: 0",
          "Year: 1741<br>RSTL Count: 0",
          "Year: 1742<br>RSTL Count: 536",
          "Year: 1743<br>RSTL Count: 0",
          "Year: 1744<br>RSTL Count: 584",
          "Year: 1745<br>RSTL Count: 0",
          "Year: 1746<br>RSTL Count: 622",
          "Year: 1747<br>RSTL Count: 0",
          "Year: 1748<br>RSTL Count: 613",
          "Year: 1749<br>RSTL Count: 611",
          "Year: 1750<br>RSTL Count: 0",
          "Year: 1751<br>RSTL Count: 712",
          "Year: 1752<br>RSTL Count: 0",
          "Year: 1753<br>RSTL Count: 713",
          "Year: 1754<br>RSTL Count: 0",
          "Year: 1755<br>RSTL Count: 716",
          "Year: 1756<br>RSTL Count: 0",
          "Year: 1757<br>RSTL Count: 705",
          "Year: 1758<br>RSTL Count: 0",
          "Year: 1759<br>RSTL Count: 539",
          "Year: 1760<br>RSTL Count: 0",
          "Year: 1761<br>RSTL Count: 550",
          "Year: 1762<br>RSTL Count: 0",
          "Year: 1763<br>RSTL Count: 498",
          "Year: 1764<br>RSTL Count: 558",
          "Year: 1765<br>RSTL Count: 474",
          "Year: 1766<br>RSTL Count: 518",
          "Year: 1767<br>RSTL Count: 453",
          "Year: 1768<br>RSTL Count: 505",
          "Year: 1769<br>RSTL Count: 486",
          "Year: 1770<br>RSTL Count: 541",
          "Year: 1771<br>RSTL Count: 488",
          "Year: 1772<br>RSTL Count: 525",
          "Year: 1773<br>RSTL Count: 509",
          "Year: 1774<br>RSTL Count: 502",
          "Year: 1775<br>RSTL Count: 517",
          "Year: 1776<br>RSTL Count: 519",
          "Year: 1777<br>RSTL Count: 506",
          "Year: 1778<br>RSTL Count: 506",
          "Year: 1779<br>RSTL Count: 476",
          "Year: 1780<br>RSTL Count: 456",
          "Year: 1781<br>RSTL Count: 457",
          "Year: 1782<br>RSTL Count: 452",
          "Year: 1783<br>RSTL Count: 439",
          "Year: 1784<br>RSTL Count: 429",
          "Year: 1785<br>RSTL Count: 406",
          "Year: 1786<br>RSTL Count: 390",
          "Year: 1787<br>RSTL Count: 393",
          "Year: 1788<br>RSTL Count: 372",
          "Year: 1789<br>RSTL Count: 357",
          "Year: 1790<br>RSTL Count: 351",
          "Year: 1791<br>RSTL Count: 318",
          "Year: 1792<br>RSTL Count: 312",
          "Year: 1793<br>RSTL Count: 304",
          "Year: 1794<br>RSTL Count: 293",
          "Year: 1795<br>RSTL Count: 288",
          "Year: 1796<br>RSTL Count: 282",
          "Year: 1797<br>RSTL Count: 264",
          "Year: 1798<br>RSTL Count: 259",
          "Year: 1799<br>RSTL Count: 253",
          "Year: 1800<br>RSTL Count: 245",
          "Year: 1801<br>RSTL Count: 244",
          "Year: 1802<br>RSTL Count: 240",
          "Year: 1803<br>RSTL Count: 237",
          "Year: 1804<br>RSTL Count: 224",
          "Year: 1805<br>RSTL Count: 227",
          "Year: 1806<br>RSTL Count: 229",
          "Year: 1807<br>RSTL Count: 222",
          "Year: 1808<br>RSTL Count: 220",
          "Year: 1809<br>RSTL Count: 230",
          "Year: 1810<br>RSTL Count: 228",
          "Year: 1811<br>RSTL Count: 223",
          "Year: 1812<br>RSTL Count: 226",
          "Year: 1813<br>RSTL Count: 244",
          "Year: 1814<br>RSTL Count: 259",
          "Year: 1815<br>RSTL Count: 259",
          "Year: 1816<br>RSTL Count: 261",
          "Year: 1817<br>RSTL Count: 273",
          "Year: 1818<br>RSTL Count: 278",
          "Year: 1819<br>RSTL Count: 273",
          "Year: 1820<br>RSTL Count: 279",
          "Year: 1821<br>RSTL Count: 289",
          "Year: 1822<br>RSTL Count: 301",
          "Year: 1823<br>RSTL Count: 299",
          "Year: 1824<br>RSTL Count: 294",
          "Year: 1825<br>RSTL Count: 296",
          "Year: 1826<br>RSTL Count: 317",
          "Year: 1827<br>RSTL Count: 315",
          "Year: 1828<br>RSTL Count: 311",
          "Year: 1829<br>RSTL Count: 319",
          "Year: 1830<br>RSTL Count: 322",
          "Year: 1831<br>RSTL Count: 321",
          "Year: 1832<br>RSTL Count: 313",
          "Year: 1833<br>RSTL Count: 311",
          "Year: 1834<br>RSTL Count: 314",
          "Year: 1835<br>RSTL Count: 309",
          "Year: 1836<br>RSTL Count: 289",
          "Year: 1837<br>RSTL Count: 287",
          "Year: 1838<br>RSTL Count: 285",
          "Year: 1839<br>RSTL Count: 277",
          "Year: 1840<br>RSTL Count: 276",
          "Year: 1841<br>RSTL Count: 271",
          "Year: 1842<br>RSTL Count: 260",
          "Year: 1843<br>RSTL Count: 246",
          "Year: 1844<br>RSTL Count: 227",
          "Year: 1845<br>RSTL Count: 222",
          "Year: 1846<br>RSTL Count: 223",
          "Year: 1847<br>RSTL Count: 214",
          "Year: 1848<br>RSTL Count: 210",
          "Year: 1849<br>RSTL Count: 210",
          "Year: 1850<br>RSTL Count: 223",
          "Year: 1851<br>RSTL Count: 234",
          "Year: 1852<br>RSTL Count: 240",
          "Year: 1853<br>RSTL Count: 242",
          "Year: 1854<br>RSTL Count: 245",
          "Year: 1855<br>RSTL Count: 245",
          "Year: 1856<br>RSTL Count: 249",
          "Year: 1857<br>RSTL Count: 271",
          "Year: 1858<br>RSTL Count: 290",
          "Year: 1859<br>RSTL Count: 301",
          "Year: 1860<br>RSTL Count: 289",
          "Year: 1861<br>RSTL Count: 284",
          "Year: 1862<br>RSTL Count: 305",
          "Year: 1863<br>RSTL Count: 316",
          "Year: 1864<br>RSTL Count: 320",
          "Year: 1865<br>RSTL Count: 320",
          "Year: 1866<br>RSTL Count: 313",
          "Year: 1867<br>RSTL Count: 297",
          "Year: 1868<br>RSTL Count: 290",
          "Year: 1869<br>RSTL Count: 288",
          "Year: 1870<br>RSTL Count: 285",
          "Year: 1871<br>RSTL Count: 277",
          "Year: 1872<br>RSTL Count: 251",
          "Year: 1873<br>RSTL Count: 239",
          "Year: 1874<br>RSTL Count: 244",
          "Year: 1875<br>RSTL Count: 249",
          "Year: 1876<br>RSTL Count: 250",
          "Year: 1877<br>RSTL Count: 246",
          "Year: 1878<br>RSTL Count: 0",
          "Year: 1879<br>RSTL Count: 259",
          "Year: 1880<br>RSTL Count: 261",
          "Year: 1881<br>RSTL Count: 258",
          "Year: 1882<br>RSTL Count: 268",
          "Year: 1883<br>RSTL Count: 279",
          "Year: 1884<br>RSTL Count: 277",
          "Year: 1885<br>RSTL Count: 272",
          "Year: 1886<br>RSTL Count: 266"
         ],
         "type": "scatter",
         "x": [
          1665,
          1666,
          1667,
          1668,
          1669,
          1670,
          1671,
          1672,
          1673,
          1674,
          1675,
          1676,
          1677,
          1678,
          1679,
          1680,
          1681,
          1682,
          1683,
          1684,
          1685,
          1686,
          1687,
          1688,
          1689,
          1690,
          1691,
          1692,
          1693,
          1694,
          1695,
          1696,
          1697,
          1698,
          1699,
          1700,
          1701,
          1702,
          1703,
          1704,
          1705,
          1706,
          1707,
          1708,
          1709,
          1710,
          1711,
          1712,
          1713,
          1714,
          1715,
          1716,
          1717,
          1718,
          1719,
          1720,
          1721,
          1722,
          1723,
          1724,
          1725,
          1726,
          1727,
          1728,
          1729,
          1730,
          1731,
          1732,
          1733,
          1734,
          1735,
          1736,
          1737,
          1738,
          1739,
          1740,
          1741,
          1742,
          1743,
          1744,
          1745,
          1746,
          1747,
          1748,
          1749,
          1750,
          1751,
          1752,
          1753,
          1754,
          1755,
          1756,
          1757,
          1758,
          1759,
          1760,
          1761,
          1762,
          1763,
          1764,
          1765,
          1766,
          1767,
          1768,
          1769,
          1770,
          1771,
          1772,
          1773,
          1774,
          1775,
          1776,
          1777,
          1778,
          1779,
          1780,
          1781,
          1782,
          1783,
          1784,
          1785,
          1786,
          1787,
          1788,
          1789,
          1790,
          1791,
          1792,
          1793,
          1794,
          1795,
          1796,
          1797,
          1798,
          1799,
          1800,
          1801,
          1802,
          1803,
          1804,
          1805,
          1806,
          1807,
          1808,
          1809,
          1810,
          1811,
          1812,
          1813,
          1814,
          1815,
          1816,
          1817,
          1818,
          1819,
          1820,
          1821,
          1822,
          1823,
          1824,
          1825,
          1826,
          1827,
          1828,
          1829,
          1830,
          1831,
          1832,
          1833,
          1834,
          1835,
          1836,
          1837,
          1838,
          1839,
          1840,
          1841,
          1842,
          1843,
          1844,
          1845,
          1846,
          1847,
          1848,
          1849,
          1850,
          1851,
          1852,
          1853,
          1854,
          1855,
          1856,
          1857,
          1858,
          1859,
          1860,
          1861,
          1862,
          1863,
          1864,
          1865,
          1866,
          1867,
          1868,
          1869,
          1870,
          1871,
          1872,
          1873,
          1874,
          1875,
          1876,
          1877,
          1878,
          1879,
          1880,
          1881,
          1882,
          1883,
          1884,
          1885,
          1886,
          1887
         ],
         "y": [
          158,
          231,
          0,
          303,
          372,
          446,
          522,
          592,
          657,
          714,
          622,
          608,
          687,
          0,
          0,
          0,
          0,
          0,
          322,
          358,
          399,
          453,
          0,
          0,
          0,
          0,
          0,
          0,
          406,
          367,
          416,
          0,
          0,
          411,
          497,
          622,
          0,
          700,
          0,
          669,
          0,
          581,
          0,
          551,
          0,
          415,
          0,
          0,
          378,
          335,
          0,
          0,
          348,
          0,
          0,
          258,
          0,
          359,
          0,
          326,
          0,
          386,
          374,
          0,
          442,
          0,
          458,
          0,
          426,
          0,
          436,
          0,
          394,
          0,
          506,
          0,
          0,
          536,
          0,
          584,
          0,
          622,
          0,
          613,
          611,
          0,
          712,
          0,
          713,
          0,
          716,
          0,
          705,
          0,
          539,
          0,
          550,
          0,
          498,
          558,
          474,
          518,
          453,
          505,
          486,
          541,
          488,
          525,
          509,
          502,
          517,
          519,
          506,
          506,
          476,
          456,
          457,
          452,
          439,
          429,
          406,
          390,
          393,
          372,
          357,
          351,
          318,
          312,
          304,
          293,
          288,
          282,
          264,
          259,
          253,
          245,
          244,
          240,
          237,
          224,
          227,
          229,
          222,
          220,
          230,
          228,
          223,
          226,
          244,
          259,
          259,
          261,
          273,
          278,
          273,
          279,
          289,
          301,
          299,
          294,
          296,
          317,
          315,
          311,
          319,
          322,
          321,
          313,
          311,
          314,
          309,
          289,
          287,
          285,
          277,
          276,
          271,
          260,
          246,
          227,
          222,
          223,
          214,
          210,
          210,
          223,
          234,
          240,
          242,
          245,
          245,
          249,
          271,
          290,
          301,
          289,
          284,
          305,
          316,
          320,
          320,
          313,
          297,
          290,
          288,
          285,
          277,
          251,
          239,
          244,
          249,
          250,
          246,
          0,
          259,
          261,
          258,
          268,
          279,
          277,
          272,
          266,
          0
         ]
        },
        {
         "hoverinfo": "text",
         "marker": {
          "color": "blue",
          "line": {
           "color": "black",
           "width": 1
          },
          "size": 10
         },
         "mode": "markers+lines",
         "name": "<b>RSTB (1887-1958)<b>",
         "text": [
          "Year: 1887<br>RSTB Count: 18",
          "Year: 1888<br>RSTB Count: 39",
          "Year: 1889<br>RSTB Count: 48",
          "Year: 1890<br>RSTB Count: 56",
          "Year: 1891<br>RSTB Count: 65",
          "Year: 1892<br>RSTB Count: 75",
          "Year: 1893<br>RSTB Count: 85",
          "Year: 1894<br>RSTB Count: 108",
          "Year: 1895<br>RSTB Count: 126",
          "Year: 1896<br>RSTB Count: 130",
          "Year: 1897<br>RSTB Count: 126",
          "Year: 1898<br>RSTB Count: 115",
          "Year: 1899<br>RSTB Count: 113",
          "Year: 1900<br>RSTB Count: 116",
          "Year: 1901<br>RSTB Count: 119",
          "Year: 1902<br>RSTB Count: 0",
          "Year: 1903<br>RSTB Count: 105",
          "Year: 1904<br>RSTB Count: 92",
          "Year: 1905<br>RSTB Count: 88",
          "Year: 1906<br>RSTB Count: 95",
          "Year: 1907<br>RSTB Count: 0",
          "Year: 1908<br>RSTB Count: 81",
          "Year: 1909<br>RSTB Count: 85",
          "Year: 1910<br>RSTB Count: 0",
          "Year: 1911<br>RSTB Count: 69",
          "Year: 1912<br>RSTB Count: 80",
          "Year: 1913<br>RSTB Count: 82",
          "Year: 1914<br>RSTB Count: 92",
          "Year: 1915<br>RSTB Count: 87",
          "Year: 1916<br>RSTB Count: 88",
          "Year: 1917<br>RSTB Count: 0",
          "Year: 1918<br>RSTB Count: 89",
          "Year: 1919<br>RSTB Count: 0",
          "Year: 1920<br>RSTB Count: 89",
          "Year: 1921<br>RSTB Count: 91",
          "Year: 1922<br>RSTB Count: 0",
          "Year: 1923<br>RSTB Count: 80",
          "Year: 1924<br>RSTB Count: 70",
          "Year: 1925<br>RSTB Count: 69",
          "Year: 1926<br>RSTB Count: 66",
          "Year: 1927<br>RSTB Count: 75",
          "Year: 1928<br>RSTB Count: 72",
          "Year: 1929<br>RSTB Count: 81",
          "Year: 1930<br>RSTB Count: 81",
          "Year: 1931<br>RSTB Count: 102",
          "Year: 1932<br>RSTB Count: 122",
          "Year: 1933<br>RSTB Count: 0",
          "Year: 1934<br>RSTB Count: 123",
          "Year: 1935<br>RSTB Count: 131",
          "Year: 1936<br>RSTB Count: 135",
          "Year: 1937<br>RSTB Count: 141",
          "Year: 1938<br>RSTB Count: 139",
          "Year: 1939<br>RSTB Count: 138",
          "Year: 1940<br>RSTB Count: 131",
          "Year: 1941<br>RSTB Count: 106",
          "Year: 1942<br>RSTB Count: 90",
          "Year: 1943<br>RSTB Count: 0",
          "Year: 1944<br>RSTB Count: 73",
          "Year: 1945<br>RSTB Count: 0",
          "Year: 1946<br>RSTB Count: 48",
          "Year: 1947<br>RSTB Count: 41",
          "Year: 1948<br>RSTB Count: 43",
          "Year: 1949<br>RSTB Count: 41",
          "Year: 1950<br>RSTB Count: 51",
          "Year: 1951<br>RSTB Count: 54",
          "Year: 1952<br>RSTB Count: 63",
          "Year: 1953<br>RSTB Count: 69",
          "Year: 1954<br>RSTB Count: 70",
          "Year: 1955<br>RSTB Count: 0",
          "Year: 1956<br>RSTB Count: 0",
          "Year: 1957<br>RSTB Count: 0",
          "Year: 1958<br>RSTB Count: 0"
         ],
         "type": "scatter",
         "x": [
          1887,
          1888,
          1889,
          1890,
          1891,
          1892,
          1893,
          1894,
          1895,
          1896,
          1897,
          1898,
          1899,
          1900,
          1901,
          1902,
          1903,
          1904,
          1905,
          1906,
          1907,
          1908,
          1909,
          1910,
          1911,
          1912,
          1913,
          1914,
          1915,
          1916,
          1917,
          1918,
          1919,
          1920,
          1921,
          1922,
          1923,
          1924,
          1925,
          1926,
          1927,
          1928,
          1929,
          1930,
          1931,
          1932,
          1933,
          1934,
          1935,
          1936,
          1937,
          1938,
          1939,
          1940,
          1941,
          1942,
          1943,
          1944,
          1945,
          1946,
          1947,
          1948,
          1949,
          1950,
          1951,
          1952,
          1953,
          1954,
          1955,
          1956,
          1957,
          1958
         ],
         "y": [
          18,
          39,
          48,
          56,
          65,
          75,
          85,
          108,
          126,
          130,
          126,
          115,
          113,
          116,
          119,
          0,
          105,
          92,
          88,
          95,
          0,
          81,
          85,
          0,
          69,
          80,
          82,
          92,
          87,
          88,
          0,
          89,
          0,
          89,
          91,
          0,
          80,
          70,
          69,
          66,
          75,
          72,
          81,
          81,
          102,
          122,
          0,
          123,
          131,
          135,
          141,
          139,
          138,
          131,
          106,
          90,
          0,
          73,
          0,
          48,
          41,
          43,
          41,
          51,
          54,
          63,
          69,
          70,
          0,
          0,
          0,
          0
         ]
        },
        {
         "hoverinfo": "text",
         "marker": {
          "color": "red",
          "line": {
           "color": "black",
           "width": 1
          },
          "size": 10
         },
         "mode": "markers+lines",
         "name": "<b>RSTA (1887-1958)<b>",
         "text": [
          "Year: 1887<br>RSTA Count: 16",
          "Year: 1888<br>RSTA Count: 19",
          "Year: 1889<br>RSTA Count: 21",
          "Year: 1890<br>RSTA Count: 0",
          "Year: 1891<br>RSTA Count: 35",
          "Year: 1892<br>RSTA Count: 53",
          "Year: 1893<br>RSTA Count: 75",
          "Year: 1894<br>RSTA Count: 96",
          "Year: 1895<br>RSTA Count: 119",
          "Year: 1896<br>RSTA Count: 138",
          "Year: 1897<br>RSTA Count: 146",
          "Year: 1898<br>RSTA Count: 155",
          "Year: 1899<br>RSTA Count: 165",
          "Year: 1900<br>RSTA Count: 197",
          "Year: 1901<br>RSTA Count: 207",
          "Year: 1902<br>RSTA Count: 208",
          "Year: 1903<br>RSTA Count: 209",
          "Year: 1904<br>RSTA Count: 212",
          "Year: 1905<br>RSTA Count: 203",
          "Year: 1906<br>RSTA Count: 209",
          "Year: 1907<br>RSTA Count: 0",
          "Year: 1908<br>RSTA Count: 200",
          "Year: 1909<br>RSTA Count: 205",
          "Year: 1910<br>RSTA Count: 0",
          "Year: 1911<br>RSTA Count: 160",
          "Year: 1912<br>RSTA Count: 153",
          "Year: 1913<br>RSTA Count: 142",
          "Year: 1914<br>RSTA Count: 143",
          "Year: 1915<br>RSTA Count: 143",
          "Year: 1916<br>RSTA Count: 128",
          "Year: 1917<br>RSTA Count: 0",
          "Year: 1918<br>RSTA Count: 112",
          "Year: 1919<br>RSTA Count: 105",
          "Year: 1920<br>RSTA Count: 115",
          "Year: 1921<br>RSTA Count: 115",
          "Year: 1922<br>RSTA Count: 113",
          "Year: 1923<br>RSTA Count: 111",
          "Year: 1924<br>RSTA Count: 95",
          "Year: 1925<br>RSTA Count: 0",
          "Year: 1926<br>RSTA Count: 80",
          "Year: 1927<br>RSTA Count: 90",
          "Year: 1928<br>RSTA Count: 90",
          "Year: 1929<br>RSTA Count: 90",
          "Year: 1930<br>RSTA Count: 90",
          "Year: 1931<br>RSTA Count: 0",
          "Year: 1932<br>RSTA Count: 81",
          "Year: 1933<br>RSTA Count: 83",
          "Year: 1934<br>RSTA Count: 98",
          "Year: 1935<br>RSTA Count: 116",
          "Year: 1936<br>RSTA Count: 120",
          "Year: 1937<br>RSTA Count: 117",
          "Year: 1938<br>RSTA Count: 120",
          "Year: 1939<br>RSTA Count: 121",
          "Year: 1940<br>RSTA Count: 121",
          "Year: 1941<br>RSTA Count: 123",
          "Year: 1942<br>RSTA Count: 112",
          "Year: 1943<br>RSTA Count: 101",
          "Year: 1944<br>RSTA Count: 80",
          "Year: 1945<br>RSTA Count: 67",
          "Year: 1946<br>RSTA Count: 58",
          "Year: 1947<br>RSTA Count: 57",
          "Year: 1948<br>RSTA Count: 68",
          "Year: 1949<br>RSTA Count: 66",
          "Year: 1950<br>RSTA Count: 72",
          "Year: 1951<br>RSTA Count: 89",
          "Year: 1952<br>RSTA Count: 112",
          "Year: 1953<br>RSTA Count: 129",
          "Year: 1954<br>RSTA Count: 140",
          "Year: 1955<br>RSTA Count: 0",
          "Year: 1956<br>RSTA Count: 0",
          "Year: 1957<br>RSTA Count: 0",
          "Year: 1958<br>RSTA Count: 0"
         ],
         "type": "scatter",
         "x": [
          1887,
          1888,
          1889,
          1890,
          1891,
          1892,
          1893,
          1894,
          1895,
          1896,
          1897,
          1898,
          1899,
          1900,
          1901,
          1902,
          1903,
          1904,
          1905,
          1906,
          1907,
          1908,
          1909,
          1910,
          1911,
          1912,
          1913,
          1914,
          1915,
          1916,
          1917,
          1918,
          1919,
          1920,
          1921,
          1922,
          1923,
          1924,
          1925,
          1926,
          1927,
          1928,
          1929,
          1930,
          1931,
          1932,
          1933,
          1934,
          1935,
          1936,
          1937,
          1938,
          1939,
          1940,
          1941,
          1942,
          1943,
          1944,
          1945,
          1946,
          1947,
          1948,
          1949,
          1950,
          1951,
          1952,
          1953,
          1954,
          1955,
          1956,
          1957,
          1958
         ],
         "y": [
          16,
          19,
          21,
          0,
          35,
          53,
          75,
          96,
          119,
          138,
          146,
          155,
          165,
          197,
          207,
          208,
          209,
          212,
          203,
          209,
          0,
          200,
          205,
          0,
          160,
          153,
          142,
          143,
          143,
          128,
          0,
          112,
          105,
          115,
          115,
          113,
          111,
          95,
          0,
          80,
          90,
          90,
          90,
          90,
          0,
          81,
          83,
          98,
          116,
          120,
          117,
          120,
          121,
          121,
          123,
          112,
          101,
          80,
          67,
          58,
          57,
          68,
          66,
          72,
          89,
          112,
          129,
          140,
          0,
          0,
          0,
          0
         ]
        }
       ],
       "layout": {
        "height": 500,
        "template": {
         "data": {
          "bar": [
           {
            "error_x": {
             "color": "#2a3f5f"
            },
            "error_y": {
             "color": "#2a3f5f"
            },
            "marker": {
             "line": {
              "color": "white",
              "width": 0.5
             },
             "pattern": {
              "fillmode": "overlay",
              "size": 10,
              "solidity": 0.2
             }
            },
            "type": "bar"
           }
          ],
          "barpolar": [
           {
            "marker": {
             "line": {
              "color": "white",
              "width": 0.5
             },
             "pattern": {
              "fillmode": "overlay",
              "size": 10,
              "solidity": 0.2
             }
            },
            "type": "barpolar"
           }
          ],
          "carpet": [
           {
            "aaxis": {
             "endlinecolor": "#2a3f5f",
             "gridcolor": "#C8D4E3",
             "linecolor": "#C8D4E3",
             "minorgridcolor": "#C8D4E3",
             "startlinecolor": "#2a3f5f"
            },
            "baxis": {
             "endlinecolor": "#2a3f5f",
             "gridcolor": "#C8D4E3",
             "linecolor": "#C8D4E3",
             "minorgridcolor": "#C8D4E3",
             "startlinecolor": "#2a3f5f"
            },
            "type": "carpet"
           }
          ],
          "choropleth": [
           {
            "colorbar": {
             "outlinewidth": 0,
             "ticks": ""
            },
            "type": "choropleth"
           }
          ],
          "contour": [
           {
            "colorbar": {
             "outlinewidth": 0,
             "ticks": ""
            },
            "colorscale": [
             [
              0,
              "#0d0887"
             ],
             [
              0.1111111111111111,
              "#46039f"
             ],
             [
              0.2222222222222222,
              "#7201a8"
             ],
             [
              0.3333333333333333,
              "#9c179e"
             ],
             [
              0.4444444444444444,
              "#bd3786"
             ],
             [
              0.5555555555555556,
              "#d8576b"
             ],
             [
              0.6666666666666666,
              "#ed7953"
             ],
             [
              0.7777777777777778,
              "#fb9f3a"
             ],
             [
              0.8888888888888888,
              "#fdca26"
             ],
             [
              1,
              "#f0f921"
             ]
            ],
            "type": "contour"
           }
          ],
          "contourcarpet": [
           {
            "colorbar": {
             "outlinewidth": 0,
             "ticks": ""
            },
            "type": "contourcarpet"
           }
          ],
          "heatmap": [
           {
            "colorbar": {
             "outlinewidth": 0,
             "ticks": ""
            },
            "colorscale": [
             [
              0,
              "#0d0887"
             ],
             [
              0.1111111111111111,
              "#46039f"
             ],
             [
              0.2222222222222222,
              "#7201a8"
             ],
             [
              0.3333333333333333,
              "#9c179e"
             ],
             [
              0.4444444444444444,
              "#bd3786"
             ],
             [
              0.5555555555555556,
              "#d8576b"
             ],
             [
              0.6666666666666666,
              "#ed7953"
             ],
             [
              0.7777777777777778,
              "#fb9f3a"
             ],
             [
              0.8888888888888888,
              "#fdca26"
             ],
             [
              1,
              "#f0f921"
             ]
            ],
            "type": "heatmap"
           }
          ],
          "heatmapgl": [
           {
            "colorbar": {
             "outlinewidth": 0,
             "ticks": ""
            },
            "colorscale": [
             [
              0,
              "#0d0887"
             ],
             [
              0.1111111111111111,
              "#46039f"
             ],
             [
              0.2222222222222222,
              "#7201a8"
             ],
             [
              0.3333333333333333,
              "#9c179e"
             ],
             [
              0.4444444444444444,
              "#bd3786"
             ],
             [
              0.5555555555555556,
              "#d8576b"
             ],
             [
              0.6666666666666666,
              "#ed7953"
             ],
             [
              0.7777777777777778,
              "#fb9f3a"
             ],
             [
              0.8888888888888888,
              "#fdca26"
             ],
             [
              1,
              "#f0f921"
             ]
            ],
            "type": "heatmapgl"
           }
          ],
          "histogram": [
           {
            "marker": {
             "pattern": {
              "fillmode": "overlay",
              "size": 10,
              "solidity": 0.2
             }
            },
            "type": "histogram"
           }
          ],
          "histogram2d": [
           {
            "colorbar": {
             "outlinewidth": 0,
             "ticks": ""
            },
            "colorscale": [
             [
              0,
              "#0d0887"
             ],
             [
              0.1111111111111111,
              "#46039f"
             ],
             [
              0.2222222222222222,
              "#7201a8"
             ],
             [
              0.3333333333333333,
              "#9c179e"
             ],
             [
              0.4444444444444444,
              "#bd3786"
             ],
             [
              0.5555555555555556,
              "#d8576b"
             ],
             [
              0.6666666666666666,
              "#ed7953"
             ],
             [
              0.7777777777777778,
              "#fb9f3a"
             ],
             [
              0.8888888888888888,
              "#fdca26"
             ],
             [
              1,
              "#f0f921"
             ]
            ],
            "type": "histogram2d"
           }
          ],
          "histogram2dcontour": [
           {
            "colorbar": {
             "outlinewidth": 0,
             "ticks": ""
            },
            "colorscale": [
             [
              0,
              "#0d0887"
             ],
             [
              0.1111111111111111,
              "#46039f"
             ],
             [
              0.2222222222222222,
              "#7201a8"
             ],
             [
              0.3333333333333333,
              "#9c179e"
             ],
             [
              0.4444444444444444,
              "#bd3786"
             ],
             [
              0.5555555555555556,
              "#d8576b"
             ],
             [
              0.6666666666666666,
              "#ed7953"
             ],
             [
              0.7777777777777778,
              "#fb9f3a"
             ],
             [
              0.8888888888888888,
              "#fdca26"
             ],
             [
              1,
              "#f0f921"
             ]
            ],
            "type": "histogram2dcontour"
           }
          ],
          "mesh3d": [
           {
            "colorbar": {
             "outlinewidth": 0,
             "ticks": ""
            },
            "type": "mesh3d"
           }
          ],
          "parcoords": [
           {
            "line": {
             "colorbar": {
              "outlinewidth": 0,
              "ticks": ""
             }
            },
            "type": "parcoords"
           }
          ],
          "pie": [
           {
            "automargin": true,
            "type": "pie"
           }
          ],
          "scatter": [
           {
            "fillpattern": {
             "fillmode": "overlay",
             "size": 10,
             "solidity": 0.2
            },
            "type": "scatter"
           }
          ],
          "scatter3d": [
           {
            "line": {
             "colorbar": {
              "outlinewidth": 0,
              "ticks": ""
             }
            },
            "marker": {
             "colorbar": {
              "outlinewidth": 0,
              "ticks": ""
             }
            },
            "type": "scatter3d"
           }
          ],
          "scattercarpet": [
           {
            "marker": {
             "colorbar": {
              "outlinewidth": 0,
              "ticks": ""
             }
            },
            "type": "scattercarpet"
           }
          ],
          "scattergeo": [
           {
            "marker": {
             "colorbar": {
              "outlinewidth": 0,
              "ticks": ""
             }
            },
            "type": "scattergeo"
           }
          ],
          "scattergl": [
           {
            "marker": {
             "colorbar": {
              "outlinewidth": 0,
              "ticks": ""
             }
            },
            "type": "scattergl"
           }
          ],
          "scattermapbox": [
           {
            "marker": {
             "colorbar": {
              "outlinewidth": 0,
              "ticks": ""
             }
            },
            "type": "scattermapbox"
           }
          ],
          "scatterpolar": [
           {
            "marker": {
             "colorbar": {
              "outlinewidth": 0,
              "ticks": ""
             }
            },
            "type": "scatterpolar"
           }
          ],
          "scatterpolargl": [
           {
            "marker": {
             "colorbar": {
              "outlinewidth": 0,
              "ticks": ""
             }
            },
            "type": "scatterpolargl"
           }
          ],
          "scatterternary": [
           {
            "marker": {
             "colorbar": {
              "outlinewidth": 0,
              "ticks": ""
             }
            },
            "type": "scatterternary"
           }
          ],
          "surface": [
           {
            "colorbar": {
             "outlinewidth": 0,
             "ticks": ""
            },
            "colorscale": [
             [
              0,
              "#0d0887"
             ],
             [
              0.1111111111111111,
              "#46039f"
             ],
             [
              0.2222222222222222,
              "#7201a8"
             ],
             [
              0.3333333333333333,
              "#9c179e"
             ],
             [
              0.4444444444444444,
              "#bd3786"
             ],
             [
              0.5555555555555556,
              "#d8576b"
             ],
             [
              0.6666666666666666,
              "#ed7953"
             ],
             [
              0.7777777777777778,
              "#fb9f3a"
             ],
             [
              0.8888888888888888,
              "#fdca26"
             ],
             [
              1,
              "#f0f921"
             ]
            ],
            "type": "surface"
           }
          ],
          "table": [
           {
            "cells": {
             "fill": {
              "color": "#EBF0F8"
             },
             "line": {
              "color": "white"
             }
            },
            "header": {
             "fill": {
              "color": "#C8D4E3"
             },
             "line": {
              "color": "white"
             }
            },
            "type": "table"
           }
          ]
         },
         "layout": {
          "annotationdefaults": {
           "arrowcolor": "#2a3f5f",
           "arrowhead": 0,
           "arrowwidth": 1
          },
          "autotypenumbers": "strict",
          "coloraxis": {
           "colorbar": {
            "outlinewidth": 0,
            "ticks": ""
           }
          },
          "colorscale": {
           "diverging": [
            [
             0,
             "#8e0152"
            ],
            [
             0.1,
             "#c51b7d"
            ],
            [
             0.2,
             "#de77ae"
            ],
            [
             0.3,
             "#f1b6da"
            ],
            [
             0.4,
             "#fde0ef"
            ],
            [
             0.5,
             "#f7f7f7"
            ],
            [
             0.6,
             "#e6f5d0"
            ],
            [
             0.7,
             "#b8e186"
            ],
            [
             0.8,
             "#7fbc41"
            ],
            [
             0.9,
             "#4d9221"
            ],
            [
             1,
             "#276419"
            ]
           ],
           "sequential": [
            [
             0,
             "#0d0887"
            ],
            [
             0.1111111111111111,
             "#46039f"
            ],
            [
             0.2222222222222222,
             "#7201a8"
            ],
            [
             0.3333333333333333,
             "#9c179e"
            ],
            [
             0.4444444444444444,
             "#bd3786"
            ],
            [
             0.5555555555555556,
             "#d8576b"
            ],
            [
             0.6666666666666666,
             "#ed7953"
            ],
            [
             0.7777777777777778,
             "#fb9f3a"
            ],
            [
             0.8888888888888888,
             "#fdca26"
            ],
            [
             1,
             "#f0f921"
            ]
           ],
           "sequentialminus": [
            [
             0,
             "#0d0887"
            ],
            [
             0.1111111111111111,
             "#46039f"
            ],
            [
             0.2222222222222222,
             "#7201a8"
            ],
            [
             0.3333333333333333,
             "#9c179e"
            ],
            [
             0.4444444444444444,
             "#bd3786"
            ],
            [
             0.5555555555555556,
             "#d8576b"
            ],
            [
             0.6666666666666666,
             "#ed7953"
            ],
            [
             0.7777777777777778,
             "#fb9f3a"
            ],
            [
             0.8888888888888888,
             "#fdca26"
            ],
            [
             1,
             "#f0f921"
            ]
           ]
          },
          "colorway": [
           "#636efa",
           "#EF553B",
           "#00cc96",
           "#ab63fa",
           "#FFA15A",
           "#19d3f3",
           "#FF6692",
           "#B6E880",
           "#FF97FF",
           "#FECB52"
          ],
          "font": {
           "color": "#2a3f5f"
          },
          "geo": {
           "bgcolor": "white",
           "lakecolor": "white",
           "landcolor": "white",
           "showlakes": true,
           "showland": true,
           "subunitcolor": "#C8D4E3"
          },
          "hoverlabel": {
           "align": "left"
          },
          "hovermode": "closest",
          "mapbox": {
           "style": "light"
          },
          "paper_bgcolor": "white",
          "plot_bgcolor": "white",
          "polar": {
           "angularaxis": {
            "gridcolor": "#EBF0F8",
            "linecolor": "#EBF0F8",
            "ticks": ""
           },
           "bgcolor": "white",
           "radialaxis": {
            "gridcolor": "#EBF0F8",
            "linecolor": "#EBF0F8",
            "ticks": ""
           }
          },
          "scene": {
           "xaxis": {
            "backgroundcolor": "white",
            "gridcolor": "#DFE8F3",
            "gridwidth": 2,
            "linecolor": "#EBF0F8",
            "showbackground": true,
            "ticks": "",
            "zerolinecolor": "#EBF0F8"
           },
           "yaxis": {
            "backgroundcolor": "white",
            "gridcolor": "#DFE8F3",
            "gridwidth": 2,
            "linecolor": "#EBF0F8",
            "showbackground": true,
            "ticks": "",
            "zerolinecolor": "#EBF0F8"
           },
           "zaxis": {
            "backgroundcolor": "white",
            "gridcolor": "#DFE8F3",
            "gridwidth": 2,
            "linecolor": "#EBF0F8",
            "showbackground": true,
            "ticks": "",
            "zerolinecolor": "#EBF0F8"
           }
          },
          "shapedefaults": {
           "line": {
            "color": "#2a3f5f"
           }
          },
          "ternary": {
           "aaxis": {
            "gridcolor": "#DFE8F3",
            "linecolor": "#A2B1C6",
            "ticks": ""
           },
           "baxis": {
            "gridcolor": "#DFE8F3",
            "linecolor": "#A2B1C6",
            "ticks": ""
           },
           "bgcolor": "white",
           "caxis": {
            "gridcolor": "#DFE8F3",
            "linecolor": "#A2B1C6",
            "ticks": ""
           }
          },
          "title": {
           "x": 0.05
          },
          "xaxis": {
           "automargin": true,
           "gridcolor": "#EBF0F8",
           "linecolor": "#EBF0F8",
           "ticks": "",
           "title": {
            "standoff": 15
           },
           "zerolinecolor": "#EBF0F8",
           "zerolinewidth": 2
          },
          "yaxis": {
           "automargin": true,
           "gridcolor": "#EBF0F8",
           "linecolor": "#EBF0F8",
           "ticks": "",
           "title": {
            "standoff": 15
           },
           "zerolinecolor": "#EBF0F8",
           "zerolinewidth": 2
          }
         }
        },
        "title": {
         "text": "<b>Number of Articles per Year by Journal Type (1665-1958)<b>"
        },
        "width": 1200,
        "xaxis": {
         "dtick": 10,
         "range": [
          1665,
          1958
         ],
         "tick0": 1665,
         "tickmode": "linear",
         "title": {
          "text": "<b>Year<b>"
         }
        },
        "yaxis": {
         "range": [
          0,
          766
         ],
         "title": {
          "text": "<b>Number of Articles<b>"
         }
        }
       }
      }
     },
     "metadata": {},
     "output_type": "display_data"
    }
   ],
   "source": [
    "import pandas as pd\n",
    "import plotly.graph_objects as go\n",
    "from collections import defaultdict\n",
    "import os\n",
    "import re\n",
    "from tqdm import tqdm\n",
    "\n",
    "def count_files_in_year_windows(text_dirs, window_size=10):\n",
    "    def extract_year_from_filename(filename):\n",
    "        match = re.search(r'rst[bla]?_?(\\d{4})', filename)\n",
    "        return int(match.group(1)) if match else None\n",
    "    \n",
    "    # Initialize separate counts for each journal type\n",
    "    year_counts = {\n",
    "        'rstb': defaultdict(int),\n",
    "        'rsta': defaultdict(int),\n",
    "        'rstl': defaultdict(int)\n",
    "    }\n",
    "    \n",
    "    print(\"Counting files in year windows...\")\n",
    "    \n",
    "    for text_dir in text_dirs:\n",
    "        journal_type = os.path.basename(text_dir)[-4:]  # extract journal type from directory name\n",
    "        file_paths = [os.path.join(text_dir, f) for f in os.listdir(text_dir) if f.endswith('.txt')]\n",
    "        \n",
    "        for file_path in tqdm(file_paths):\n",
    "            year = extract_year_from_filename(os.path.basename(file_path))\n",
    "            if year:\n",
    "                year_counts[journal_type][year] += 1\n",
    "    \n",
    "    # Combine and window the counts\n",
    "    combined_year_windows = defaultdict(lambda: {'rstb': 0, 'rsta': 0, 'rstl': 0})\n",
    "    \n",
    "    for journal_type, counts in year_counts.items():\n",
    "        all_years = sorted(counts.keys())\n",
    "        for year in all_years:\n",
    "            if year in counts:\n",
    "                for offset in range(window_size):\n",
    "                    window_year = year + offset\n",
    "                    combined_year_windows[window_year][journal_type] += counts[year] if window_year in counts else 0\n",
    "    \n",
    "    return combined_year_windows\n",
    "\n",
    "# Example usage\n",
    "year_counts = count_files_in_year_windows(\n",
    "    [r\"D:\\Fact_fiction_corpus\\texts\\royal society\\txt_rstb\",\n",
    "     r\"D:\\Fact_fiction_corpus\\texts\\royal society\\txt_rstl\",\n",
    "     r\"D:\\Fact_fiction_corpus\\texts\\royal society\\txt_rsta\"]\n",
    ")\n",
    "\n",
    "# Prepare the data for plotting\n",
    "years = list(range(1665, 1959))\n",
    "df = pd.DataFrame({\n",
    "    'Year': years,\n",
    "    'RSTB Count': [year_counts.get(year, {'rstb': 0})['rstb'] if year >= 1887 else 0 for year in years],\n",
    "    'RSTA Count': [year_counts.get(year, {'rsta': 0})['rsta'] if year >= 1887 else 0 for year in years],\n",
    "    'RSTL Count': [year_counts.get(year, {'rstl': 0})['rstl'] if year <= 1886 else 0 for year in years]\n",
    "})\n",
    "\n",
    "# Create the interactive plot\n",
    "fig = go.Figure()\n",
    "\n",
    "# Add traces for each journal type\n",
    "fig.add_trace(go.Scatter(\n",
    "    x=df['Year'][df['Year'] <= 1887],\n",
    "    y=df['RSTL Count'][df['Year'] <= 1887],\n",
    "    mode='markers+lines',\n",
    "    name='<b>RSTL (1665-1887)<b>',\n",
    "    marker=dict(\n",
    "        size=10,\n",
    "        color='green',\n",
    "        line=dict(width=1, color='black')\n",
    "    ),\n",
    "    text=[f'Year: {year}<br>RSTL Count: {count}' for year, count in zip(df['Year'][df['Year'] <= 1886], df['RSTL Count'][df['Year'] <= 1886])],\n",
    "    hoverinfo='text'\n",
    "))\n",
    "\n",
    "fig.add_trace(go.Scatter(\n",
    "    x=df['Year'][df['Year'] >= 1887],\n",
    "    y=df['RSTB Count'][df['Year'] >= 1887],\n",
    "    mode='markers+lines',\n",
    "    name='<b>RSTB (1887-1958)<b>',\n",
    "    marker=dict(\n",
    "        size=10,\n",
    "        color='blue',\n",
    "        line=dict(width=1, color='black')\n",
    "    ),\n",
    "    text=[f'Year: {year}<br>RSTB Count: {count}' for year, count in zip(df['Year'][df['Year'] >= 1887], df['RSTB Count'][df['Year'] >= 1887])],\n",
    "    hoverinfo='text'\n",
    "))\n",
    "\n",
    "fig.add_trace(go.Scatter(\n",
    "    x=df['Year'][df['Year'] >= 1887],\n",
    "    y=df['RSTA Count'][df['Year'] >= 1887],\n",
    "    mode='markers+lines',\n",
    "    name='<b>RSTA (1887-1958)<b>',\n",
    "    marker=dict(\n",
    "        size=10,\n",
    "        color='red',\n",
    "        line=dict(width=1, color='black')\n",
    "    ),\n",
    "    text=[f'Year: {year}<br>RSTA Count: {count}' for year, count in zip(df['Year'][df['Year'] >= 1887], df['RSTA Count'][df['Year'] >= 1887])],\n",
    "    hoverinfo='text'\n",
    "))\n",
    "\n",
    "# Update layout\n",
    "fig.update_layout(\n",
    "    title='<b>Number of Articles per Year by Journal Type (1665-1958)<b>',\n",
    "    xaxis_title='<b>Year<b>',\n",
    "    yaxis_title='<b>Number of Articles<b>',\n",
    "    xaxis=dict(\n",
    "        tickmode='linear',\n",
    "        tick0=1665,\n",
    "        dtick=10,\n",
    "        range=[1665, 1958]\n",
    "    ),\n",
    "    yaxis=dict(range=[0, max(df['RSTB Count'].max(), df['RSTA Count'].max(), df['RSTL Count'].max()) + 50]),\n",
    "    template='plotly_white'\n",
    ")\n",
    "\n",
    "fig.update_layout(\n",
    "    width=1200,  # Reduce width\n",
    "    height=500,  # Reduce height\n",
    ")\n",
    "\n",
    "# Show the plot\n",
    "fig.show()\n",
    "fig.write_html(\"../extra_plots/royal_society_publications.html\")"
   ]
  },
  {
   "cell_type": "code",
   "execution_count": 97,
   "metadata": {},
   "outputs": [
    {
     "name": "stdout",
     "output_type": "stream",
     "text": [
      "Counting word counts in year windows...\n"
     ]
    },
    {
     "name": "stderr",
     "output_type": "stream",
     "text": [
      "100%|██████████| 5284/5284 [00:03<00:00, 1531.15it/s]\n",
      "100%|██████████| 8520/8520 [00:02<00:00, 3172.80it/s]\n",
      "100%|██████████| 4390/4390 [00:02<00:00, 1730.34it/s]\n"
     ]
    },
    {
     "data": {
      "application/vnd.plotly.v1+json": {
       "config": {
        "plotlyServerURL": "https://plot.ly"
       },
       "data": [
        {
         "hoverinfo": "text",
         "marker": {
          "color": "green",
          "line": {
           "color": "black",
           "width": 1
          },
          "size": 10
         },
         "mode": "markers+lines",
         "name": "<b>RSTL (1665-1887)<b>",
         "text": [
          "Year: 1665<br>RSTL Word Count: 185775",
          "Year: 1666<br>RSTL Word Count: 293463",
          "Year: 1667<br>RSTL Word Count: 0",
          "Year: 1668<br>RSTL Word Count: 409683",
          "Year: 1669<br>RSTL Word Count: 515033",
          "Year: 1670<br>RSTL Word Count: 660178",
          "Year: 1671<br>RSTL Word Count: 788549",
          "Year: 1672<br>RSTL Word Count: 906560",
          "Year: 1673<br>RSTL Word Count: 1006889",
          "Year: 1674<br>RSTL Word Count: 1120858",
          "Year: 1675<br>RSTL Word Count: 1056360",
          "Year: 1676<br>RSTL Word Count: 1067185",
          "Year: 1677<br>RSTL Word Count: 1180187",
          "Year: 1678<br>RSTL Word Count: 0",
          "Year: 1679<br>RSTL Word Count: 0",
          "Year: 1680<br>RSTL Word Count: 0",
          "Year: 1681<br>RSTL Word Count: 0",
          "Year: 1682<br>RSTL Word Count: 0",
          "Year: 1683<br>RSTL Word Count: 607296",
          "Year: 1684<br>RSTL Word Count: 628473",
          "Year: 1685<br>RSTL Word Count: 651387",
          "Year: 1686<br>RSTL Word Count: 717302",
          "Year: 1687<br>RSTL Word Count: 0",
          "Year: 1688<br>RSTL Word Count: 0",
          "Year: 1689<br>RSTL Word Count: 0",
          "Year: 1690<br>RSTL Word Count: 0",
          "Year: 1691<br>RSTL Word Count: 0",
          "Year: 1692<br>RSTL Word Count: 0",
          "Year: 1693<br>RSTL Word Count: 613773",
          "Year: 1694<br>RSTL Word Count: 566568",
          "Year: 1695<br>RSTL Word Count: 669742",
          "Year: 1696<br>RSTL Word Count: 0",
          "Year: 1697<br>RSTL Word Count: 0",
          "Year: 1698<br>RSTL Word Count: 636944",
          "Year: 1699<br>RSTL Word Count: 786735",
          "Year: 1700<br>RSTL Word Count: 1000191",
          "Year: 1701<br>RSTL Word Count: 0",
          "Year: 1702<br>RSTL Word Count: 1166614",
          "Year: 1703<br>RSTL Word Count: 0",
          "Year: 1704<br>RSTL Word Count: 1152939",
          "Year: 1705<br>RSTL Word Count: 0",
          "Year: 1706<br>RSTL Word Count: 1003860",
          "Year: 1707<br>RSTL Word Count: 0",
          "Year: 1708<br>RSTL Word Count: 998997",
          "Year: 1709<br>RSTL Word Count: 0",
          "Year: 1710<br>RSTL Word Count: 820228",
          "Year: 1711<br>RSTL Word Count: 0",
          "Year: 1712<br>RSTL Word Count: 0",
          "Year: 1713<br>RSTL Word Count: 740669",
          "Year: 1714<br>RSTL Word Count: 688321",
          "Year: 1715<br>RSTL Word Count: 0",
          "Year: 1716<br>RSTL Word Count: 0",
          "Year: 1717<br>RSTL Word Count: 751598",
          "Year: 1718<br>RSTL Word Count: 0",
          "Year: 1719<br>RSTL Word Count: 0",
          "Year: 1720<br>RSTL Word Count: 496718",
          "Year: 1721<br>RSTL Word Count: 0",
          "Year: 1722<br>RSTL Word Count: 623274",
          "Year: 1723<br>RSTL Word Count: 0",
          "Year: 1724<br>RSTL Word Count: 490502",
          "Year: 1725<br>RSTL Word Count: 0",
          "Year: 1726<br>RSTL Word Count: 565380",
          "Year: 1727<br>RSTL Word Count: 510211",
          "Year: 1728<br>RSTL Word Count: 0",
          "Year: 1729<br>RSTL Word Count: 641869",
          "Year: 1730<br>RSTL Word Count: 0",
          "Year: 1731<br>RSTL Word Count: 691675",
          "Year: 1732<br>RSTL Word Count: 0",
          "Year: 1733<br>RSTL Word Count: 688532",
          "Year: 1734<br>RSTL Word Count: 0",
          "Year: 1735<br>RSTL Word Count: 672659",
          "Year: 1736<br>RSTL Word Count: 0",
          "Year: 1737<br>RSTL Word Count: 638328",
          "Year: 1738<br>RSTL Word Count: 0",
          "Year: 1739<br>RSTL Word Count: 752788",
          "Year: 1740<br>RSTL Word Count: 0",
          "Year: 1741<br>RSTL Word Count: 0",
          "Year: 1742<br>RSTL Word Count: 804547",
          "Year: 1743<br>RSTL Word Count: 0",
          "Year: 1744<br>RSTL Word Count: 889432",
          "Year: 1745<br>RSTL Word Count: 0",
          "Year: 1746<br>RSTL Word Count: 1016633",
          "Year: 1747<br>RSTL Word Count: 0",
          "Year: 1748<br>RSTL Word Count: 1053462",
          "Year: 1749<br>RSTL Word Count: 1025560",
          "Year: 1750<br>RSTL Word Count: 0",
          "Year: 1751<br>RSTL Word Count: 1190375",
          "Year: 1752<br>RSTL Word Count: 0",
          "Year: 1753<br>RSTL Word Count: 1264457",
          "Year: 1754<br>RSTL Word Count: 0",
          "Year: 1755<br>RSTL Word Count: 1313373",
          "Year: 1756<br>RSTL Word Count: 0",
          "Year: 1757<br>RSTL Word Count: 1326463",
          "Year: 1758<br>RSTL Word Count: 0",
          "Year: 1759<br>RSTL Word Count: 1205353",
          "Year: 1760<br>RSTL Word Count: 0",
          "Year: 1761<br>RSTL Word Count: 1216502",
          "Year: 1762<br>RSTL Word Count: 0",
          "Year: 1763<br>RSTL Word Count: 1113449",
          "Year: 1764<br>RSTL Word Count: 1236442",
          "Year: 1765<br>RSTL Word Count: 1073739",
          "Year: 1766<br>RSTL Word Count: 1154743",
          "Year: 1767<br>RSTL Word Count: 1042079",
          "Year: 1768<br>RSTL Word Count: 1132036",
          "Year: 1769<br>RSTL Word Count: 988485",
          "Year: 1770<br>RSTL Word Count: 1128581",
          "Year: 1771<br>RSTL Word Count: 1131403",
          "Year: 1772<br>RSTL Word Count: 1256069",
          "Year: 1773<br>RSTL Word Count: 1238178",
          "Year: 1774<br>RSTL Word Count: 1240950",
          "Year: 1775<br>RSTL Word Count: 1281138",
          "Year: 1776<br>RSTL Word Count: 1337010",
          "Year: 1777<br>RSTL Word Count: 1407657",
          "Year: 1778<br>RSTL Word Count: 1594610",
          "Year: 1779<br>RSTL Word Count: 1610628",
          "Year: 1780<br>RSTL Word Count: 1618521",
          "Year: 1781<br>RSTL Word Count: 1622650",
          "Year: 1782<br>RSTL Word Count: 1638956",
          "Year: 1783<br>RSTL Word Count: 1674348",
          "Year: 1784<br>RSTL Word Count: 1688384",
          "Year: 1785<br>RSTL Word Count: 1699990",
          "Year: 1786<br>RSTL Word Count: 1715887",
          "Year: 1787<br>RSTL Word Count: 1651525",
          "Year: 1788<br>RSTL Word Count: 1500958",
          "Year: 1789<br>RSTL Word Count: 1445940",
          "Year: 1790<br>RSTL Word Count: 1495026",
          "Year: 1791<br>RSTL Word Count: 1444009",
          "Year: 1792<br>RSTL Word Count: 1448419",
          "Year: 1793<br>RSTL Word Count: 1356826",
          "Year: 1794<br>RSTL Word Count: 1414495",
          "Year: 1795<br>RSTL Word Count: 1444776",
          "Year: 1796<br>RSTL Word Count: 1444098",
          "Year: 1797<br>RSTL Word Count: 1455674",
          "Year: 1798<br>RSTL Word Count: 1502935",
          "Year: 1799<br>RSTL Word Count: 1508308",
          "Year: 1800<br>RSTL Word Count: 1519183",
          "Year: 1801<br>RSTL Word Count: 1526002",
          "Year: 1802<br>RSTL Word Count: 1540794",
          "Year: 1803<br>RSTL Word Count: 1620897",
          "Year: 1804<br>RSTL Word Count: 1554401",
          "Year: 1805<br>RSTL Word Count: 1482818",
          "Year: 1806<br>RSTL Word Count: 1462582",
          "Year: 1807<br>RSTL Word Count: 1402909",
          "Year: 1808<br>RSTL Word Count: 1337429",
          "Year: 1809<br>RSTL Word Count: 1375783",
          "Year: 1810<br>RSTL Word Count: 1266941",
          "Year: 1811<br>RSTL Word Count: 1246337",
          "Year: 1812<br>RSTL Word Count: 1205428",
          "Year: 1813<br>RSTL Word Count: 1137274",
          "Year: 1814<br>RSTL Word Count: 1184762",
          "Year: 1815<br>RSTL Word Count: 1213328",
          "Year: 1816<br>RSTL Word Count: 1179250",
          "Year: 1817<br>RSTL Word Count: 1184286",
          "Year: 1818<br>RSTL Word Count: 1219311",
          "Year: 1819<br>RSTL Word Count: 1214812",
          "Year: 1820<br>RSTL Word Count: 1218150",
          "Year: 1821<br>RSTL Word Count: 1229605",
          "Year: 1822<br>RSTL Word Count: 1244981",
          "Year: 1823<br>RSTL Word Count: 1306460",
          "Year: 1824<br>RSTL Word Count: 1284231",
          "Year: 1825<br>RSTL Word Count: 1341185",
          "Year: 1826<br>RSTL Word Count: 1605901",
          "Year: 1827<br>RSTL Word Count: 1624147",
          "Year: 1828<br>RSTL Word Count: 1630315",
          "Year: 1829<br>RSTL Word Count: 1691401",
          "Year: 1830<br>RSTL Word Count: 1750942",
          "Year: 1831<br>RSTL Word Count: 1788542",
          "Year: 1832<br>RSTL Word Count: 1872858",
          "Year: 1833<br>RSTL Word Count: 2062411",
          "Year: 1834<br>RSTL Word Count: 2208016",
          "Year: 1835<br>RSTL Word Count: 2185629",
          "Year: 1836<br>RSTL Word Count: 2122209",
          "Year: 1837<br>RSTL Word Count: 2217950",
          "Year: 1838<br>RSTL Word Count: 2271006",
          "Year: 1839<br>RSTL Word Count: 2286617",
          "Year: 1840<br>RSTL Word Count: 2427829",
          "Year: 1841<br>RSTL Word Count: 2416901",
          "Year: 1842<br>RSTL Word Count: 2350794",
          "Year: 1843<br>RSTL Word Count: 2158872",
          "Year: 1844<br>RSTL Word Count: 2003123",
          "Year: 1845<br>RSTL Word Count: 1980222",
          "Year: 1846<br>RSTL Word Count: 1981020",
          "Year: 1847<br>RSTL Word Count: 1884643",
          "Year: 1848<br>RSTL Word Count: 1806600",
          "Year: 1849<br>RSTL Word Count: 1838923",
          "Year: 1850<br>RSTL Word Count: 1922465",
          "Year: 1851<br>RSTL Word Count: 2152950",
          "Year: 1852<br>RSTL Word Count: 2312104",
          "Year: 1853<br>RSTL Word Count: 2445864",
          "Year: 1854<br>RSTL Word Count: 2454734",
          "Year: 1855<br>RSTL Word Count: 2494530",
          "Year: 1856<br>RSTL Word Count: 2608314",
          "Year: 1857<br>RSTL Word Count: 2885311",
          "Year: 1858<br>RSTL Word Count: 3214311",
          "Year: 1859<br>RSTL Word Count: 3396519",
          "Year: 1860<br>RSTL Word Count: 3277168",
          "Year: 1861<br>RSTL Word Count: 3277733",
          "Year: 1862<br>RSTL Word Count: 3489827",
          "Year: 1863<br>RSTL Word Count: 3503469",
          "Year: 1864<br>RSTL Word Count: 3765048",
          "Year: 1865<br>RSTL Word Count: 3944895",
          "Year: 1866<br>RSTL Word Count: 3959545",
          "Year: 1867<br>RSTL Word Count: 3890940",
          "Year: 1868<br>RSTL Word Count: 3767234",
          "Year: 1869<br>RSTL Word Count: 3737188",
          "Year: 1870<br>RSTL Word Count: 3796437",
          "Year: 1871<br>RSTL Word Count: 3753388",
          "Year: 1872<br>RSTL Word Count: 3477472",
          "Year: 1873<br>RSTL Word Count: 3519681",
          "Year: 1874<br>RSTL Word Count: 3506909",
          "Year: 1875<br>RSTL Word Count: 3501549",
          "Year: 1876<br>RSTL Word Count: 3428994",
          "Year: 1877<br>RSTL Word Count: 3449914",
          "Year: 1878<br>RSTL Word Count: 0",
          "Year: 1879<br>RSTL Word Count: 3319028",
          "Year: 1880<br>RSTL Word Count: 3449834",
          "Year: 1881<br>RSTL Word Count: 3504750",
          "Year: 1882<br>RSTL Word Count: 3902871",
          "Year: 1883<br>RSTL Word Count: 3994196",
          "Year: 1884<br>RSTL Word Count: 3873450",
          "Year: 1885<br>RSTL Word Count: 3891141",
          "Year: 1886<br>RSTL Word Count: 3874536"
         ],
         "type": "scatter",
         "x": [
          1665,
          1666,
          1667,
          1668,
          1669,
          1670,
          1671,
          1672,
          1673,
          1674,
          1675,
          1676,
          1677,
          1678,
          1679,
          1680,
          1681,
          1682,
          1683,
          1684,
          1685,
          1686,
          1687,
          1688,
          1689,
          1690,
          1691,
          1692,
          1693,
          1694,
          1695,
          1696,
          1697,
          1698,
          1699,
          1700,
          1701,
          1702,
          1703,
          1704,
          1705,
          1706,
          1707,
          1708,
          1709,
          1710,
          1711,
          1712,
          1713,
          1714,
          1715,
          1716,
          1717,
          1718,
          1719,
          1720,
          1721,
          1722,
          1723,
          1724,
          1725,
          1726,
          1727,
          1728,
          1729,
          1730,
          1731,
          1732,
          1733,
          1734,
          1735,
          1736,
          1737,
          1738,
          1739,
          1740,
          1741,
          1742,
          1743,
          1744,
          1745,
          1746,
          1747,
          1748,
          1749,
          1750,
          1751,
          1752,
          1753,
          1754,
          1755,
          1756,
          1757,
          1758,
          1759,
          1760,
          1761,
          1762,
          1763,
          1764,
          1765,
          1766,
          1767,
          1768,
          1769,
          1770,
          1771,
          1772,
          1773,
          1774,
          1775,
          1776,
          1777,
          1778,
          1779,
          1780,
          1781,
          1782,
          1783,
          1784,
          1785,
          1786,
          1787,
          1788,
          1789,
          1790,
          1791,
          1792,
          1793,
          1794,
          1795,
          1796,
          1797,
          1798,
          1799,
          1800,
          1801,
          1802,
          1803,
          1804,
          1805,
          1806,
          1807,
          1808,
          1809,
          1810,
          1811,
          1812,
          1813,
          1814,
          1815,
          1816,
          1817,
          1818,
          1819,
          1820,
          1821,
          1822,
          1823,
          1824,
          1825,
          1826,
          1827,
          1828,
          1829,
          1830,
          1831,
          1832,
          1833,
          1834,
          1835,
          1836,
          1837,
          1838,
          1839,
          1840,
          1841,
          1842,
          1843,
          1844,
          1845,
          1846,
          1847,
          1848,
          1849,
          1850,
          1851,
          1852,
          1853,
          1854,
          1855,
          1856,
          1857,
          1858,
          1859,
          1860,
          1861,
          1862,
          1863,
          1864,
          1865,
          1866,
          1867,
          1868,
          1869,
          1870,
          1871,
          1872,
          1873,
          1874,
          1875,
          1876,
          1877,
          1878,
          1879,
          1880,
          1881,
          1882,
          1883,
          1884,
          1885,
          1886,
          1887
         ],
         "y": [
          185775,
          293463,
          0,
          409683,
          515033,
          660178,
          788549,
          906560,
          1006889,
          1120858,
          1056360,
          1067185,
          1180187,
          0,
          0,
          0,
          0,
          0,
          607296,
          628473,
          651387,
          717302,
          0,
          0,
          0,
          0,
          0,
          0,
          613773,
          566568,
          669742,
          0,
          0,
          636944,
          786735,
          1000191,
          0,
          1166614,
          0,
          1152939,
          0,
          1003860,
          0,
          998997,
          0,
          820228,
          0,
          0,
          740669,
          688321,
          0,
          0,
          751598,
          0,
          0,
          496718,
          0,
          623274,
          0,
          490502,
          0,
          565380,
          510211,
          0,
          641869,
          0,
          691675,
          0,
          688532,
          0,
          672659,
          0,
          638328,
          0,
          752788,
          0,
          0,
          804547,
          0,
          889432,
          0,
          1016633,
          0,
          1053462,
          1025560,
          0,
          1190375,
          0,
          1264457,
          0,
          1313373,
          0,
          1326463,
          0,
          1205353,
          0,
          1216502,
          0,
          1113449,
          1236442,
          1073739,
          1154743,
          1042079,
          1132036,
          988485,
          1128581,
          1131403,
          1256069,
          1238178,
          1240950,
          1281138,
          1337010,
          1407657,
          1594610,
          1610628,
          1618521,
          1622650,
          1638956,
          1674348,
          1688384,
          1699990,
          1715887,
          1651525,
          1500958,
          1445940,
          1495026,
          1444009,
          1448419,
          1356826,
          1414495,
          1444776,
          1444098,
          1455674,
          1502935,
          1508308,
          1519183,
          1526002,
          1540794,
          1620897,
          1554401,
          1482818,
          1462582,
          1402909,
          1337429,
          1375783,
          1266941,
          1246337,
          1205428,
          1137274,
          1184762,
          1213328,
          1179250,
          1184286,
          1219311,
          1214812,
          1218150,
          1229605,
          1244981,
          1306460,
          1284231,
          1341185,
          1605901,
          1624147,
          1630315,
          1691401,
          1750942,
          1788542,
          1872858,
          2062411,
          2208016,
          2185629,
          2122209,
          2217950,
          2271006,
          2286617,
          2427829,
          2416901,
          2350794,
          2158872,
          2003123,
          1980222,
          1981020,
          1884643,
          1806600,
          1838923,
          1922465,
          2152950,
          2312104,
          2445864,
          2454734,
          2494530,
          2608314,
          2885311,
          3214311,
          3396519,
          3277168,
          3277733,
          3489827,
          3503469,
          3765048,
          3944895,
          3959545,
          3890940,
          3767234,
          3737188,
          3796437,
          3753388,
          3477472,
          3519681,
          3506909,
          3501549,
          3428994,
          3449914,
          0,
          3319028,
          3449834,
          3504750,
          3902871,
          3994196,
          3873450,
          3891141,
          3874536,
          0
         ]
        },
        {
         "hoverinfo": "text",
         "marker": {
          "color": "blue",
          "line": {
           "color": "black",
           "width": 1
          },
          "size": 10
         },
         "mode": "markers+lines",
         "name": "<b>RSTB (1887-1958)<b>",
         "text": [
          "Year: 1887<br>RSTB Word Count: 253912",
          "Year: 1888<br>RSTB Word Count: 512381",
          "Year: 1889<br>RSTB Word Count: 679868",
          "Year: 1890<br>RSTB Word Count: 776375",
          "Year: 1891<br>RSTB Word Count: 1057970",
          "Year: 1892<br>RSTB Word Count: 1256590",
          "Year: 1893<br>RSTB Word Count: 1640016",
          "Year: 1894<br>RSTB Word Count: 2098985",
          "Year: 1895<br>RSTB Word Count: 2490218",
          "Year: 1896<br>RSTB Word Count: 2666255",
          "Year: 1897<br>RSTB Word Count: 2645961",
          "Year: 1898<br>RSTB Word Count: 2661383",
          "Year: 1899<br>RSTB Word Count: 2612015",
          "Year: 1900<br>RSTB Word Count: 2709704",
          "Year: 1901<br>RSTB Word Count: 2665256",
          "Year: 1902<br>RSTB Word Count: 0",
          "Year: 1903<br>RSTB Word Count: 2208688",
          "Year: 1904<br>RSTB Word Count: 1934270",
          "Year: 1905<br>RSTB Word Count: 1719089",
          "Year: 1906<br>RSTB Word Count: 1774251",
          "Year: 1907<br>RSTB Word Count: 0",
          "Year: 1908<br>RSTB Word Count: 1457007",
          "Year: 1909<br>RSTB Word Count: 1581023",
          "Year: 1910<br>RSTB Word Count: 0",
          "Year: 1911<br>RSTB Word Count: 1335282",
          "Year: 1912<br>RSTB Word Count: 1502265",
          "Year: 1913<br>RSTB Word Count: 1549392",
          "Year: 1914<br>RSTB Word Count: 1794522",
          "Year: 1915<br>RSTB Word Count: 1841836",
          "Year: 1916<br>RSTB Word Count: 1847418",
          "Year: 1917<br>RSTB Word Count: 0",
          "Year: 1918<br>RSTB Word Count: 1846329",
          "Year: 1919<br>RSTB Word Count: 0",
          "Year: 1920<br>RSTB Word Count: 1838209",
          "Year: 1921<br>RSTB Word Count: 1875099",
          "Year: 1922<br>RSTB Word Count: 0",
          "Year: 1923<br>RSTB Word Count: 1749502",
          "Year: 1924<br>RSTB Word Count: 1497558",
          "Year: 1925<br>RSTB Word Count: 1484967",
          "Year: 1926<br>RSTB Word Count: 1448070",
          "Year: 1927<br>RSTB Word Count: 1652579",
          "Year: 1928<br>RSTB Word Count: 1658253",
          "Year: 1929<br>RSTB Word Count: 1876286",
          "Year: 1930<br>RSTB Word Count: 1881834",
          "Year: 1931<br>RSTB Word Count: 2053838",
          "Year: 1932<br>RSTB Word Count: 2513508",
          "Year: 1933<br>RSTB Word Count: 0",
          "Year: 1934<br>RSTB Word Count: 2563194",
          "Year: 1935<br>RSTB Word Count: 2646885",
          "Year: 1936<br>RSTB Word Count: 2661126",
          "Year: 1937<br>RSTB Word Count: 2909486",
          "Year: 1938<br>RSTB Word Count: 2883779",
          "Year: 1939<br>RSTB Word Count: 2845696",
          "Year: 1940<br>RSTB Word Count: 2684656",
          "Year: 1941<br>RSTB Word Count: 2379875",
          "Year: 1942<br>RSTB Word Count: 2018520",
          "Year: 1943<br>RSTB Word Count: 0",
          "Year: 1944<br>RSTB Word Count: 1653253",
          "Year: 1945<br>RSTB Word Count: 0",
          "Year: 1946<br>RSTB Word Count: 1343924",
          "Year: 1947<br>RSTB Word Count: 1139500",
          "Year: 1948<br>RSTB Word Count: 1082692",
          "Year: 1949<br>RSTB Word Count: 1065495",
          "Year: 1950<br>RSTB Word Count: 1277823",
          "Year: 1951<br>RSTB Word Count: 1453756",
          "Year: 1952<br>RSTB Word Count: 1685816",
          "Year: 1953<br>RSTB Word Count: 1827287",
          "Year: 1954<br>RSTB Word Count: 1856532",
          "Year: 1955<br>RSTB Word Count: 0",
          "Year: 1956<br>RSTB Word Count: 0",
          "Year: 1957<br>RSTB Word Count: 0",
          "Year: 1958<br>RSTB Word Count: 0"
         ],
         "type": "scatter",
         "x": [
          1887,
          1888,
          1889,
          1890,
          1891,
          1892,
          1893,
          1894,
          1895,
          1896,
          1897,
          1898,
          1899,
          1900,
          1901,
          1902,
          1903,
          1904,
          1905,
          1906,
          1907,
          1908,
          1909,
          1910,
          1911,
          1912,
          1913,
          1914,
          1915,
          1916,
          1917,
          1918,
          1919,
          1920,
          1921,
          1922,
          1923,
          1924,
          1925,
          1926,
          1927,
          1928,
          1929,
          1930,
          1931,
          1932,
          1933,
          1934,
          1935,
          1936,
          1937,
          1938,
          1939,
          1940,
          1941,
          1942,
          1943,
          1944,
          1945,
          1946,
          1947,
          1948,
          1949,
          1950,
          1951,
          1952,
          1953,
          1954,
          1955,
          1956,
          1957,
          1958
         ],
         "y": [
          253912,
          512381,
          679868,
          776375,
          1057970,
          1256590,
          1640016,
          2098985,
          2490218,
          2666255,
          2645961,
          2661383,
          2612015,
          2709704,
          2665256,
          0,
          2208688,
          1934270,
          1719089,
          1774251,
          0,
          1457007,
          1581023,
          0,
          1335282,
          1502265,
          1549392,
          1794522,
          1841836,
          1847418,
          0,
          1846329,
          0,
          1838209,
          1875099,
          0,
          1749502,
          1497558,
          1484967,
          1448070,
          1652579,
          1658253,
          1876286,
          1881834,
          2053838,
          2513508,
          0,
          2563194,
          2646885,
          2661126,
          2909486,
          2883779,
          2845696,
          2684656,
          2379875,
          2018520,
          0,
          1653253,
          0,
          1343924,
          1139500,
          1082692,
          1065495,
          1277823,
          1453756,
          1685816,
          1827287,
          1856532,
          0,
          0,
          0,
          0
         ]
        },
        {
         "hoverinfo": "text",
         "marker": {
          "color": "red",
          "line": {
           "color": "black",
           "width": 1
          },
          "size": 10
         },
         "mode": "markers+lines",
         "name": "<b>RSTA (1887-1958)<b>",
         "text": [
          "Year: 1887<br>RSTA Word Count: 218264",
          "Year: 1888<br>RSTA Word Count: 237154",
          "Year: 1889<br>RSTA Word Count: 275639",
          "Year: 1890<br>RSTA Word Count: 0",
          "Year: 1891<br>RSTA Word Count: 521090",
          "Year: 1892<br>RSTA Word Count: 824226",
          "Year: 1893<br>RSTA Word Count: 1252286",
          "Year: 1894<br>RSTA Word Count: 1649710",
          "Year: 1895<br>RSTA Word Count: 2021638",
          "Year: 1896<br>RSTA Word Count: 2317104",
          "Year: 1897<br>RSTA Word Count: 2427587",
          "Year: 1898<br>RSTA Word Count: 2605970",
          "Year: 1899<br>RSTA Word Count: 2780252",
          "Year: 1900<br>RSTA Word Count: 3249459",
          "Year: 1901<br>RSTA Word Count: 3470145",
          "Year: 1902<br>RSTA Word Count: 3567363",
          "Year: 1903<br>RSTA Word Count: 3592395",
          "Year: 1904<br>RSTA Word Count: 3562785",
          "Year: 1905<br>RSTA Word Count: 3393777",
          "Year: 1906<br>RSTA Word Count: 3502325",
          "Year: 1907<br>RSTA Word Count: 0",
          "Year: 1908<br>RSTA Word Count: 3440315",
          "Year: 1909<br>RSTA Word Count: 3409564",
          "Year: 1910<br>RSTA Word Count: 0",
          "Year: 1911<br>RSTA Word Count: 2645623",
          "Year: 1912<br>RSTA Word Count: 2428581",
          "Year: 1913<br>RSTA Word Count: 2159264",
          "Year: 1914<br>RSTA Word Count: 2161430",
          "Year: 1915<br>RSTA Word Count: 2145804",
          "Year: 1916<br>RSTA Word Count: 1934544",
          "Year: 1917<br>RSTA Word Count: 0",
          "Year: 1918<br>RSTA Word Count: 1636467",
          "Year: 1919<br>RSTA Word Count: 1703711",
          "Year: 1920<br>RSTA Word Count: 1894648",
          "Year: 1921<br>RSTA Word Count: 1893825",
          "Year: 1922<br>RSTA Word Count: 1862908",
          "Year: 1923<br>RSTA Word Count: 1832703",
          "Year: 1924<br>RSTA Word Count: 1614300",
          "Year: 1925<br>RSTA Word Count: 0",
          "Year: 1926<br>RSTA Word Count: 1401420",
          "Year: 1927<br>RSTA Word Count: 1594010",
          "Year: 1928<br>RSTA Word Count: 1602693",
          "Year: 1929<br>RSTA Word Count: 1536349",
          "Year: 1930<br>RSTA Word Count: 1530939",
          "Year: 1931<br>RSTA Word Count: 0",
          "Year: 1932<br>RSTA Word Count: 1411151",
          "Year: 1933<br>RSTA Word Count: 1470910",
          "Year: 1934<br>RSTA Word Count: 1733288",
          "Year: 1935<br>RSTA Word Count: 1997889",
          "Year: 1936<br>RSTA Word Count: 2040142",
          "Year: 1937<br>RSTA Word Count: 1976609",
          "Year: 1938<br>RSTA Word Count: 2002455",
          "Year: 1939<br>RSTA Word Count: 1996101",
          "Year: 1940<br>RSTA Word Count: 1954340",
          "Year: 1941<br>RSTA Word Count: 1969868",
          "Year: 1942<br>RSTA Word Count: 1784763",
          "Year: 1943<br>RSTA Word Count: 1589633",
          "Year: 1944<br>RSTA Word Count: 1220958",
          "Year: 1945<br>RSTA Word Count: 1004402",
          "Year: 1946<br>RSTA Word Count: 868701",
          "Year: 1947<br>RSTA Word Count: 835216",
          "Year: 1948<br>RSTA Word Count: 948826",
          "Year: 1949<br>RSTA Word Count: 929897",
          "Year: 1950<br>RSTA Word Count: 1035209",
          "Year: 1951<br>RSTA Word Count: 1277762",
          "Year: 1952<br>RSTA Word Count: 1570026",
          "Year: 1953<br>RSTA Word Count: 1776014",
          "Year: 1954<br>RSTA Word Count: 1901863",
          "Year: 1955<br>RSTA Word Count: 0",
          "Year: 1956<br>RSTA Word Count: 0",
          "Year: 1957<br>RSTA Word Count: 0",
          "Year: 1958<br>RSTA Word Count: 0"
         ],
         "type": "scatter",
         "x": [
          1887,
          1888,
          1889,
          1890,
          1891,
          1892,
          1893,
          1894,
          1895,
          1896,
          1897,
          1898,
          1899,
          1900,
          1901,
          1902,
          1903,
          1904,
          1905,
          1906,
          1907,
          1908,
          1909,
          1910,
          1911,
          1912,
          1913,
          1914,
          1915,
          1916,
          1917,
          1918,
          1919,
          1920,
          1921,
          1922,
          1923,
          1924,
          1925,
          1926,
          1927,
          1928,
          1929,
          1930,
          1931,
          1932,
          1933,
          1934,
          1935,
          1936,
          1937,
          1938,
          1939,
          1940,
          1941,
          1942,
          1943,
          1944,
          1945,
          1946,
          1947,
          1948,
          1949,
          1950,
          1951,
          1952,
          1953,
          1954,
          1955,
          1956,
          1957,
          1958
         ],
         "y": [
          218264,
          237154,
          275639,
          0,
          521090,
          824226,
          1252286,
          1649710,
          2021638,
          2317104,
          2427587,
          2605970,
          2780252,
          3249459,
          3470145,
          3567363,
          3592395,
          3562785,
          3393777,
          3502325,
          0,
          3440315,
          3409564,
          0,
          2645623,
          2428581,
          2159264,
          2161430,
          2145804,
          1934544,
          0,
          1636467,
          1703711,
          1894648,
          1893825,
          1862908,
          1832703,
          1614300,
          0,
          1401420,
          1594010,
          1602693,
          1536349,
          1530939,
          0,
          1411151,
          1470910,
          1733288,
          1997889,
          2040142,
          1976609,
          2002455,
          1996101,
          1954340,
          1969868,
          1784763,
          1589633,
          1220958,
          1004402,
          868701,
          835216,
          948826,
          929897,
          1035209,
          1277762,
          1570026,
          1776014,
          1901863,
          0,
          0,
          0,
          0
         ]
        }
       ],
       "layout": {
        "height": 500,
        "template": {
         "data": {
          "bar": [
           {
            "error_x": {
             "color": "#2a3f5f"
            },
            "error_y": {
             "color": "#2a3f5f"
            },
            "marker": {
             "line": {
              "color": "white",
              "width": 0.5
             },
             "pattern": {
              "fillmode": "overlay",
              "size": 10,
              "solidity": 0.2
             }
            },
            "type": "bar"
           }
          ],
          "barpolar": [
           {
            "marker": {
             "line": {
              "color": "white",
              "width": 0.5
             },
             "pattern": {
              "fillmode": "overlay",
              "size": 10,
              "solidity": 0.2
             }
            },
            "type": "barpolar"
           }
          ],
          "carpet": [
           {
            "aaxis": {
             "endlinecolor": "#2a3f5f",
             "gridcolor": "#C8D4E3",
             "linecolor": "#C8D4E3",
             "minorgridcolor": "#C8D4E3",
             "startlinecolor": "#2a3f5f"
            },
            "baxis": {
             "endlinecolor": "#2a3f5f",
             "gridcolor": "#C8D4E3",
             "linecolor": "#C8D4E3",
             "minorgridcolor": "#C8D4E3",
             "startlinecolor": "#2a3f5f"
            },
            "type": "carpet"
           }
          ],
          "choropleth": [
           {
            "colorbar": {
             "outlinewidth": 0,
             "ticks": ""
            },
            "type": "choropleth"
           }
          ],
          "contour": [
           {
            "colorbar": {
             "outlinewidth": 0,
             "ticks": ""
            },
            "colorscale": [
             [
              0,
              "#0d0887"
             ],
             [
              0.1111111111111111,
              "#46039f"
             ],
             [
              0.2222222222222222,
              "#7201a8"
             ],
             [
              0.3333333333333333,
              "#9c179e"
             ],
             [
              0.4444444444444444,
              "#bd3786"
             ],
             [
              0.5555555555555556,
              "#d8576b"
             ],
             [
              0.6666666666666666,
              "#ed7953"
             ],
             [
              0.7777777777777778,
              "#fb9f3a"
             ],
             [
              0.8888888888888888,
              "#fdca26"
             ],
             [
              1,
              "#f0f921"
             ]
            ],
            "type": "contour"
           }
          ],
          "contourcarpet": [
           {
            "colorbar": {
             "outlinewidth": 0,
             "ticks": ""
            },
            "type": "contourcarpet"
           }
          ],
          "heatmap": [
           {
            "colorbar": {
             "outlinewidth": 0,
             "ticks": ""
            },
            "colorscale": [
             [
              0,
              "#0d0887"
             ],
             [
              0.1111111111111111,
              "#46039f"
             ],
             [
              0.2222222222222222,
              "#7201a8"
             ],
             [
              0.3333333333333333,
              "#9c179e"
             ],
             [
              0.4444444444444444,
              "#bd3786"
             ],
             [
              0.5555555555555556,
              "#d8576b"
             ],
             [
              0.6666666666666666,
              "#ed7953"
             ],
             [
              0.7777777777777778,
              "#fb9f3a"
             ],
             [
              0.8888888888888888,
              "#fdca26"
             ],
             [
              1,
              "#f0f921"
             ]
            ],
            "type": "heatmap"
           }
          ],
          "heatmapgl": [
           {
            "colorbar": {
             "outlinewidth": 0,
             "ticks": ""
            },
            "colorscale": [
             [
              0,
              "#0d0887"
             ],
             [
              0.1111111111111111,
              "#46039f"
             ],
             [
              0.2222222222222222,
              "#7201a8"
             ],
             [
              0.3333333333333333,
              "#9c179e"
             ],
             [
              0.4444444444444444,
              "#bd3786"
             ],
             [
              0.5555555555555556,
              "#d8576b"
             ],
             [
              0.6666666666666666,
              "#ed7953"
             ],
             [
              0.7777777777777778,
              "#fb9f3a"
             ],
             [
              0.8888888888888888,
              "#fdca26"
             ],
             [
              1,
              "#f0f921"
             ]
            ],
            "type": "heatmapgl"
           }
          ],
          "histogram": [
           {
            "marker": {
             "pattern": {
              "fillmode": "overlay",
              "size": 10,
              "solidity": 0.2
             }
            },
            "type": "histogram"
           }
          ],
          "histogram2d": [
           {
            "colorbar": {
             "outlinewidth": 0,
             "ticks": ""
            },
            "colorscale": [
             [
              0,
              "#0d0887"
             ],
             [
              0.1111111111111111,
              "#46039f"
             ],
             [
              0.2222222222222222,
              "#7201a8"
             ],
             [
              0.3333333333333333,
              "#9c179e"
             ],
             [
              0.4444444444444444,
              "#bd3786"
             ],
             [
              0.5555555555555556,
              "#d8576b"
             ],
             [
              0.6666666666666666,
              "#ed7953"
             ],
             [
              0.7777777777777778,
              "#fb9f3a"
             ],
             [
              0.8888888888888888,
              "#fdca26"
             ],
             [
              1,
              "#f0f921"
             ]
            ],
            "type": "histogram2d"
           }
          ],
          "histogram2dcontour": [
           {
            "colorbar": {
             "outlinewidth": 0,
             "ticks": ""
            },
            "colorscale": [
             [
              0,
              "#0d0887"
             ],
             [
              0.1111111111111111,
              "#46039f"
             ],
             [
              0.2222222222222222,
              "#7201a8"
             ],
             [
              0.3333333333333333,
              "#9c179e"
             ],
             [
              0.4444444444444444,
              "#bd3786"
             ],
             [
              0.5555555555555556,
              "#d8576b"
             ],
             [
              0.6666666666666666,
              "#ed7953"
             ],
             [
              0.7777777777777778,
              "#fb9f3a"
             ],
             [
              0.8888888888888888,
              "#fdca26"
             ],
             [
              1,
              "#f0f921"
             ]
            ],
            "type": "histogram2dcontour"
           }
          ],
          "mesh3d": [
           {
            "colorbar": {
             "outlinewidth": 0,
             "ticks": ""
            },
            "type": "mesh3d"
           }
          ],
          "parcoords": [
           {
            "line": {
             "colorbar": {
              "outlinewidth": 0,
              "ticks": ""
             }
            },
            "type": "parcoords"
           }
          ],
          "pie": [
           {
            "automargin": true,
            "type": "pie"
           }
          ],
          "scatter": [
           {
            "fillpattern": {
             "fillmode": "overlay",
             "size": 10,
             "solidity": 0.2
            },
            "type": "scatter"
           }
          ],
          "scatter3d": [
           {
            "line": {
             "colorbar": {
              "outlinewidth": 0,
              "ticks": ""
             }
            },
            "marker": {
             "colorbar": {
              "outlinewidth": 0,
              "ticks": ""
             }
            },
            "type": "scatter3d"
           }
          ],
          "scattercarpet": [
           {
            "marker": {
             "colorbar": {
              "outlinewidth": 0,
              "ticks": ""
             }
            },
            "type": "scattercarpet"
           }
          ],
          "scattergeo": [
           {
            "marker": {
             "colorbar": {
              "outlinewidth": 0,
              "ticks": ""
             }
            },
            "type": "scattergeo"
           }
          ],
          "scattergl": [
           {
            "marker": {
             "colorbar": {
              "outlinewidth": 0,
              "ticks": ""
             }
            },
            "type": "scattergl"
           }
          ],
          "scattermapbox": [
           {
            "marker": {
             "colorbar": {
              "outlinewidth": 0,
              "ticks": ""
             }
            },
            "type": "scattermapbox"
           }
          ],
          "scatterpolar": [
           {
            "marker": {
             "colorbar": {
              "outlinewidth": 0,
              "ticks": ""
             }
            },
            "type": "scatterpolar"
           }
          ],
          "scatterpolargl": [
           {
            "marker": {
             "colorbar": {
              "outlinewidth": 0,
              "ticks": ""
             }
            },
            "type": "scatterpolargl"
           }
          ],
          "scatterternary": [
           {
            "marker": {
             "colorbar": {
              "outlinewidth": 0,
              "ticks": ""
             }
            },
            "type": "scatterternary"
           }
          ],
          "surface": [
           {
            "colorbar": {
             "outlinewidth": 0,
             "ticks": ""
            },
            "colorscale": [
             [
              0,
              "#0d0887"
             ],
             [
              0.1111111111111111,
              "#46039f"
             ],
             [
              0.2222222222222222,
              "#7201a8"
             ],
             [
              0.3333333333333333,
              "#9c179e"
             ],
             [
              0.4444444444444444,
              "#bd3786"
             ],
             [
              0.5555555555555556,
              "#d8576b"
             ],
             [
              0.6666666666666666,
              "#ed7953"
             ],
             [
              0.7777777777777778,
              "#fb9f3a"
             ],
             [
              0.8888888888888888,
              "#fdca26"
             ],
             [
              1,
              "#f0f921"
             ]
            ],
            "type": "surface"
           }
          ],
          "table": [
           {
            "cells": {
             "fill": {
              "color": "#EBF0F8"
             },
             "line": {
              "color": "white"
             }
            },
            "header": {
             "fill": {
              "color": "#C8D4E3"
             },
             "line": {
              "color": "white"
             }
            },
            "type": "table"
           }
          ]
         },
         "layout": {
          "annotationdefaults": {
           "arrowcolor": "#2a3f5f",
           "arrowhead": 0,
           "arrowwidth": 1
          },
          "autotypenumbers": "strict",
          "coloraxis": {
           "colorbar": {
            "outlinewidth": 0,
            "ticks": ""
           }
          },
          "colorscale": {
           "diverging": [
            [
             0,
             "#8e0152"
            ],
            [
             0.1,
             "#c51b7d"
            ],
            [
             0.2,
             "#de77ae"
            ],
            [
             0.3,
             "#f1b6da"
            ],
            [
             0.4,
             "#fde0ef"
            ],
            [
             0.5,
             "#f7f7f7"
            ],
            [
             0.6,
             "#e6f5d0"
            ],
            [
             0.7,
             "#b8e186"
            ],
            [
             0.8,
             "#7fbc41"
            ],
            [
             0.9,
             "#4d9221"
            ],
            [
             1,
             "#276419"
            ]
           ],
           "sequential": [
            [
             0,
             "#0d0887"
            ],
            [
             0.1111111111111111,
             "#46039f"
            ],
            [
             0.2222222222222222,
             "#7201a8"
            ],
            [
             0.3333333333333333,
             "#9c179e"
            ],
            [
             0.4444444444444444,
             "#bd3786"
            ],
            [
             0.5555555555555556,
             "#d8576b"
            ],
            [
             0.6666666666666666,
             "#ed7953"
            ],
            [
             0.7777777777777778,
             "#fb9f3a"
            ],
            [
             0.8888888888888888,
             "#fdca26"
            ],
            [
             1,
             "#f0f921"
            ]
           ],
           "sequentialminus": [
            [
             0,
             "#0d0887"
            ],
            [
             0.1111111111111111,
             "#46039f"
            ],
            [
             0.2222222222222222,
             "#7201a8"
            ],
            [
             0.3333333333333333,
             "#9c179e"
            ],
            [
             0.4444444444444444,
             "#bd3786"
            ],
            [
             0.5555555555555556,
             "#d8576b"
            ],
            [
             0.6666666666666666,
             "#ed7953"
            ],
            [
             0.7777777777777778,
             "#fb9f3a"
            ],
            [
             0.8888888888888888,
             "#fdca26"
            ],
            [
             1,
             "#f0f921"
            ]
           ]
          },
          "colorway": [
           "#636efa",
           "#EF553B",
           "#00cc96",
           "#ab63fa",
           "#FFA15A",
           "#19d3f3",
           "#FF6692",
           "#B6E880",
           "#FF97FF",
           "#FECB52"
          ],
          "font": {
           "color": "#2a3f5f"
          },
          "geo": {
           "bgcolor": "white",
           "lakecolor": "white",
           "landcolor": "white",
           "showlakes": true,
           "showland": true,
           "subunitcolor": "#C8D4E3"
          },
          "hoverlabel": {
           "align": "left"
          },
          "hovermode": "closest",
          "mapbox": {
           "style": "light"
          },
          "paper_bgcolor": "white",
          "plot_bgcolor": "white",
          "polar": {
           "angularaxis": {
            "gridcolor": "#EBF0F8",
            "linecolor": "#EBF0F8",
            "ticks": ""
           },
           "bgcolor": "white",
           "radialaxis": {
            "gridcolor": "#EBF0F8",
            "linecolor": "#EBF0F8",
            "ticks": ""
           }
          },
          "scene": {
           "xaxis": {
            "backgroundcolor": "white",
            "gridcolor": "#DFE8F3",
            "gridwidth": 2,
            "linecolor": "#EBF0F8",
            "showbackground": true,
            "ticks": "",
            "zerolinecolor": "#EBF0F8"
           },
           "yaxis": {
            "backgroundcolor": "white",
            "gridcolor": "#DFE8F3",
            "gridwidth": 2,
            "linecolor": "#EBF0F8",
            "showbackground": true,
            "ticks": "",
            "zerolinecolor": "#EBF0F8"
           },
           "zaxis": {
            "backgroundcolor": "white",
            "gridcolor": "#DFE8F3",
            "gridwidth": 2,
            "linecolor": "#EBF0F8",
            "showbackground": true,
            "ticks": "",
            "zerolinecolor": "#EBF0F8"
           }
          },
          "shapedefaults": {
           "line": {
            "color": "#2a3f5f"
           }
          },
          "ternary": {
           "aaxis": {
            "gridcolor": "#DFE8F3",
            "linecolor": "#A2B1C6",
            "ticks": ""
           },
           "baxis": {
            "gridcolor": "#DFE8F3",
            "linecolor": "#A2B1C6",
            "ticks": ""
           },
           "bgcolor": "white",
           "caxis": {
            "gridcolor": "#DFE8F3",
            "linecolor": "#A2B1C6",
            "ticks": ""
           }
          },
          "title": {
           "x": 0.05
          },
          "xaxis": {
           "automargin": true,
           "gridcolor": "#EBF0F8",
           "linecolor": "#EBF0F8",
           "ticks": "",
           "title": {
            "standoff": 15
           },
           "zerolinecolor": "#EBF0F8",
           "zerolinewidth": 2
          },
          "yaxis": {
           "automargin": true,
           "gridcolor": "#EBF0F8",
           "linecolor": "#EBF0F8",
           "ticks": "",
           "title": {
            "standoff": 15
           },
           "zerolinecolor": "#EBF0F8",
           "zerolinewidth": 2
          }
         }
        },
        "title": {
         "text": "<b>Word Count per Year by Journal Type (1665-1958)<b>"
        },
        "width": 1200,
        "xaxis": {
         "dtick": 10,
         "range": [
          1665,
          1958
         ],
         "tick0": 1665,
         "tickmode": "linear",
         "title": {
          "text": "<b>Year<b>"
         }
        },
        "yaxis": {
         "range": [
          0,
          4044196
         ],
         "title": {
          "text": "<b>Word Count<b>"
         }
        }
       }
      }
     },
     "metadata": {},
     "output_type": "display_data"
    }
   ],
   "source": [
    "import pandas as pd\n",
    "import plotly.graph_objects as go\n",
    "from collections import defaultdict\n",
    "import os\n",
    "import re\n",
    "from tqdm import tqdm\n",
    "\n",
    "def count_word_in_files(text_dirs, window_size=10):\n",
    "    def extract_year_from_filename(filename):\n",
    "        match = re.search(r'rst[bla]?_?(\\d{4})', filename)\n",
    "        return int(match.group(1)) if match else None\n",
    "\n",
    "    # Initialize separate counts for each journal type\n",
    "    year_word_counts = {\n",
    "        'rstb': defaultdict(int),\n",
    "        'rsta': defaultdict(int),\n",
    "        'rstl': defaultdict(int)\n",
    "    }\n",
    "\n",
    "    print(\"Counting word counts in year windows...\")\n",
    "\n",
    "    for text_dir in text_dirs:\n",
    "        journal_type = os.path.basename(text_dir)[-4:]  # extract journal type from directory name\n",
    "        file_paths = [os.path.join(text_dir, f) for f in os.listdir(text_dir) if f.endswith('.txt')]\n",
    "\n",
    "        for file_path in tqdm(file_paths):\n",
    "            year = extract_year_from_filename(os.path.basename(file_path))\n",
    "            if year:\n",
    "                with open(file_path, 'r', encoding='utf-8') as file:\n",
    "                    text = file.read()\n",
    "                    word_count = len(text.split())  # Count the number of words\n",
    "                    year_word_counts[journal_type][year] += word_count\n",
    "    \n",
    "    # Combine and window the counts\n",
    "    combined_year_windows = defaultdict(lambda: {'rstb': 0, 'rsta': 0, 'rstl': 0})\n",
    "\n",
    "    for journal_type, counts in year_word_counts.items():\n",
    "        all_years = sorted(counts.keys())\n",
    "        for year in all_years:\n",
    "            if year in counts:\n",
    "                for offset in range(window_size):\n",
    "                    window_year = year + offset\n",
    "                    combined_year_windows[window_year][journal_type] += counts[year] if window_year in counts else 0\n",
    "    \n",
    "    return combined_year_windows\n",
    "\n",
    "# Example usage\n",
    "year_word_counts = count_word_in_files(\n",
    "    [r\"D:\\Fact_fiction_corpus\\texts\\royal society\\txt_rstb\",\n",
    "     r\"D:\\Fact_fiction_corpus\\texts\\royal society\\txt_rstl\",\n",
    "     r\"D:\\Fact_fiction_corpus\\texts\\royal society\\txt_rsta\"]\n",
    ")\n",
    "\n",
    "# Prepare the data for plotting\n",
    "years = list(range(1665, 1959))\n",
    "df = pd.DataFrame({\n",
    "    'Year': years,\n",
    "    'RSTB Word Count': [year_word_counts.get(year, {'rstb': 0})['rstb'] if year >= 1887 else 0 for year in years],\n",
    "    'RSTA Word Count': [year_word_counts.get(year, {'rsta': 0})['rsta'] if year >= 1887 else 0 for year in years],\n",
    "    'RSTL Word Count': [year_word_counts.get(year, {'rstl': 0})['rstl'] if year <= 1886 else 0 for year in years]\n",
    "})\n",
    "\n",
    "# Create the interactive plot\n",
    "fig = go.Figure()\n",
    "\n",
    "# Add traces for each journal type\n",
    "fig.add_trace(go.Scatter(\n",
    "    x=df['Year'][df['Year'] <= 1887],\n",
    "    y=df['RSTL Word Count'][df['Year'] <= 1887],\n",
    "    mode='markers+lines',\n",
    "    name='<b>RSTL (1665-1887)<b>',\n",
    "    marker=dict(\n",
    "        size=10,\n",
    "        color='green',\n",
    "        line=dict(width=1, color='black')\n",
    "    ),\n",
    "    text=[f'Year: {year}<br>RSTL Word Count: {count}' for year, count in zip(df['Year'][df['Year'] <= 1886], df['RSTL Word Count'][df['Year'] <= 1886])],\n",
    "    hoverinfo='text'\n",
    "))\n",
    "\n",
    "fig.add_trace(go.Scatter(\n",
    "    x=df['Year'][df['Year'] >= 1887],\n",
    "    y=df['RSTB Word Count'][df['Year'] >= 1887],\n",
    "    mode='markers+lines',\n",
    "    name='<b>RSTB (1887-1958)<b>',\n",
    "    marker=dict(\n",
    "        size=10,\n",
    "        color='blue',\n",
    "        line=dict(width=1, color='black')\n",
    "    ),\n",
    "    text=[f'Year: {year}<br>RSTB Word Count: {count}' for year, count in zip(df['Year'][df['Year'] >= 1887], df['RSTB Word Count'][df['Year'] >= 1887])],\n",
    "    hoverinfo='text'\n",
    "))\n",
    "\n",
    "fig.add_trace(go.Scatter(\n",
    "    x=df['Year'][df['Year'] >= 1887],\n",
    "    y=df['RSTA Word Count'][df['Year'] >= 1887],\n",
    "    mode='markers+lines',\n",
    "    name='<b>RSTA (1887-1958)<b>',\n",
    "    marker=dict(\n",
    "        size=10,\n",
    "        color='red',\n",
    "        line=dict(width=1, color='black')\n",
    "    ),\n",
    "    text=[f'Year: {year}<br>RSTA Word Count: {count}' for year, count in zip(df['Year'][df['Year'] >= 1887], df['RSTA Word Count'][df['Year'] >= 1887])],\n",
    "    hoverinfo='text'\n",
    "))\n",
    "\n",
    "# Update layout\n",
    "fig.update_layout(\n",
    "    title='<b>Word Count per Year by Journal Type (1665-1958)<b>',\n",
    "    xaxis_title='<b>Year<b>',\n",
    "    yaxis_title='<b>Word Count<b>',\n",
    "    xaxis=dict(\n",
    "        tickmode='linear',\n",
    "        tick0=1665,\n",
    "        dtick=10,\n",
    "        range=[1665, 1958]\n",
    "    ),\n",
    "    yaxis=dict(range=[0, max(df['RSTB Word Count'].max(), df['RSTA Word Count'].max(), df['RSTL Word Count'].max()) + 50000]),\n",
    "    template='plotly_white'\n",
    ")\n",
    "\n",
    "fig.update_layout(\n",
    "    width=1200,  # Reduce width\n",
    "    height=500,  # Reduce height\n",
    ")\n",
    "\n",
    "# Show the plot\n",
    "fig.show()\n",
    "fig.write_html(\"../extra_plots/royal_society_word_counts.html\")\n"
   ]
  },
  {
   "cell_type": "code",
   "execution_count": 99,
   "metadata": {},
   "outputs": [
    {
     "name": "stdout",
     "output_type": "stream",
     "text": [
      "Counting words in year windows...\n"
     ]
    },
    {
     "name": "stderr",
     "output_type": "stream",
     "text": [
      "100%|██████████| 18194/18194 [06:09<00:00, 49.28it/s]  \n"
     ]
    },
    {
     "data": {
      "application/vnd.plotly.v1+json": {
       "config": {
        "plotlyServerURL": "https://plot.ly"
       },
       "data": [
        {
         "hoverinfo": "text",
         "marker": {
          "color": "red",
          "line": {
           "color": "black",
           "width": 2
          },
          "size": 10
         },
         "mode": "markers+lines",
         "name": "<b>RSTA (1887-1948)</b>",
         "text": [
          "Window Start: 1878<br>Total Words: 170052",
          "Window Start: 1879<br>Total Words: 182661",
          "Window Start: 1880<br>Total Words: 216293",
          "Window Start: 1881<br>Total Words: 216293",
          "Window Start: 1882<br>Total Words: 410336",
          "Window Start: 1883<br>Total Words: 661009",
          "Window Start: 1884<br>Total Words: 999389",
          "Window Start: 1885<br>Total Words: 1302185",
          "Window Start: 1886<br>Total Words: 1611531",
          "Window Start: 1887<br>Total Words: 1860981",
          "Window Start: 1888<br>Total Words: 1967899",
          "Window Start: 1889<br>Total Words: 2115161",
          "Window Start: 1890<br>Total Words: 2254085",
          "Window Start: 1891<br>Total Words: 2644015",
          "Window Start: 1892<br>Total Words: 2772370",
          "Window Start: 1893<br>Total Words: 2853886",
          "Window Start: 1894<br>Total Words: 2887679",
          "Window Start: 1895<br>Total Words: 2869304",
          "Window Start: 1896<br>Total Words: 2724296",
          "Window Start: 1897<br>Total Words: 2787132",
          "Window Start: 1898<br>Total Words: 2510162",
          "Window Start: 1899<br>Total Words: 2729620",
          "Window Start: 1900<br>Total Words: 2704063",
          "Window Start: 1901<br>Total Words: 2314133",
          "Window Start: 1902<br>Total Words: 2134435",
          "Window Start: 1903<br>Total Words: 1951515",
          "Window Start: 1904<br>Total Words: 1731781",
          "Window Start: 1905<br>Total Words: 1745035",
          "Window Start: 1906<br>Total Words: 1732374",
          "Window Start: 1907<br>Total Words: 1562844",
          "Window Start: 1908<br>Total Words: 1562844",
          "Window Start: 1909<br>Total Words: 1312899",
          "Window Start: 1910<br>Total Words: 1341005",
          "Window Start: 1911<br>Total Words: 1495814",
          "Window Start: 1912<br>Total Words: 1499227",
          "Window Start: 1913<br>Total Words: 1471643",
          "Window Start: 1914<br>Total Words: 1441949",
          "Window Start: 1915<br>Total Words: 1251449",
          "Window Start: 1916<br>Total Words: 1099772",
          "Window Start: 1917<br>Total Words: 1053893",
          "Window Start: 1918<br>Total Words: 1177190",
          "Window Start: 1919<br>Total Words: 1176939",
          "Window Start: 1920<br>Total Words: 1145964",
          "Window Start: 1921<br>Total Words: 1131976",
          "Window Start: 1922<br>Total Words: 985863",
          "Window Start: 1923<br>Total Words: 1034261",
          "Window Start: 1924<br>Total Words: 1081036",
          "Window Start: 1925<br>Total Words: 1296340",
          "Window Start: 1926<br>Total Words: 1508980",
          "Window Start: 1927<br>Total Words: 1568613",
          "Window Start: 1928<br>Total Words: 1555412",
          "Window Start: 1929<br>Total Words: 1577533",
          "Window Start: 1930<br>Total Words: 1582242",
          "Window Start: 1931<br>Total Words: 1561400",
          "Window Start: 1932<br>Total Words: 1573184",
          "Window Start: 1933<br>Total Words: 1418584",
          "Window Start: 1934<br>Total Words: 1264823",
          "Window Start: 1935<br>Total Words: 977478",
          "Window Start: 1936<br>Total Words: 803375",
          "Window Start: 1937<br>Total Words: 692251",
          "Window Start: 1938<br>Total Words: 662240",
          "Window Start: 1939<br>Total Words: 763317",
          "Window Start: 1940<br>Total Words: 744235",
          "Window Start: 1941<br>Total Words: 833194",
          "Window Start: 1942<br>Total Words: 1036910",
          "Window Start: 1943<br>Total Words: 1276141",
          "Window Start: 1944<br>Total Words: 1441694",
          "Window Start: 1945<br>Total Words: 1547920",
          "Window Start: 1946<br>Total Words: 1509383",
          "Window Start: 1947<br>Total Words: 1463997",
          "Window Start: 1948<br>Total Words: 1383912"
         ],
         "type": "scatter",
         "x": [
          1878,
          1879,
          1880,
          1881,
          1882,
          1883,
          1884,
          1885,
          1886,
          1887,
          1888,
          1889,
          1890,
          1891,
          1892,
          1893,
          1894,
          1895,
          1896,
          1897,
          1898,
          1899,
          1900,
          1901,
          1902,
          1903,
          1904,
          1905,
          1906,
          1907,
          1908,
          1909,
          1910,
          1911,
          1912,
          1913,
          1914,
          1915,
          1916,
          1917,
          1918,
          1919,
          1920,
          1921,
          1922,
          1923,
          1924,
          1925,
          1926,
          1927,
          1928,
          1929,
          1930,
          1931,
          1932,
          1933,
          1934,
          1935,
          1936,
          1937,
          1938,
          1939,
          1940,
          1941,
          1942,
          1943,
          1944,
          1945,
          1946,
          1947,
          1948
         ],
         "y": [
          170052,
          182661,
          216293,
          216293,
          410336,
          661009,
          999389,
          1302185,
          1611531,
          1860981,
          1967899,
          2115161,
          2254085,
          2644015,
          2772370,
          2853886,
          2887679,
          2869304,
          2724296,
          2787132,
          2510162,
          2729620,
          2704063,
          2314133,
          2134435,
          1951515,
          1731781,
          1745035,
          1732374,
          1562844,
          1562844,
          1312899,
          1341005,
          1495814,
          1499227,
          1471643,
          1441949,
          1251449,
          1099772,
          1053893,
          1177190,
          1176939,
          1145964,
          1131976,
          985863,
          1034261,
          1081036,
          1296340,
          1508980,
          1568613,
          1555412,
          1577533,
          1582242,
          1561400,
          1573184,
          1418584,
          1264823,
          977478,
          803375,
          692251,
          662240,
          763317,
          744235,
          833194,
          1036910,
          1276141,
          1441694,
          1547920,
          1509383,
          1463997,
          1383912
         ]
        },
        {
         "hoverinfo": "text",
         "marker": {
          "color": "blue",
          "line": {
           "color": "black",
           "width": 2
          },
          "size": 10
         },
         "mode": "markers+lines",
         "name": "<b>RSTB (1887-1948)</b>",
         "text": [
          "Window Start: 1878<br>Total Words: 221072",
          "Window Start: 1879<br>Total Words: 453262",
          "Window Start: 1880<br>Total Words: 604283",
          "Window Start: 1881<br>Total Words: 690180",
          "Window Start: 1882<br>Total Words: 942797",
          "Window Start: 1883<br>Total Words: 1126753",
          "Window Start: 1884<br>Total Words: 1479544",
          "Window Start: 1885<br>Total Words: 1901753",
          "Window Start: 1886<br>Total Words: 2250947",
          "Window Start: 1887<br>Total Words: 2414326",
          "Window Start: 1888<br>Total Words: 2392854",
          "Window Start: 1889<br>Total Words: 2407699",
          "Window Start: 1890<br>Total Words: 2363387",
          "Window Start: 1891<br>Total Words: 2453716",
          "Window Start: 1892<br>Total Words: 2407051",
          "Window Start: 1893<br>Total Words: 2223095",
          "Window Start: 1894<br>Total Words: 1981929",
          "Window Start: 1895<br>Total Words: 1725273",
          "Window Start: 1896<br>Total Words: 1527291",
          "Window Start: 1897<br>Total Words: 1573236",
          "Window Start: 1898<br>Total Words: 1373636",
          "Window Start: 1899<br>Total Words: 1301153",
          "Window Start: 1900<br>Total Words: 1411272",
          "Window Start: 1901<br>Total Words: 1235046",
          "Window Start: 1902<br>Total Words: 1200208",
          "Window Start: 1903<br>Total Words: 1346642",
          "Window Start: 1904<br>Total Words: 1385893",
          "Window Start: 1905<br>Total Words: 1601196",
          "Window Start: 1906<br>Total Words: 1637278",
          "Window Start: 1907<br>Total Words: 1638097",
          "Window Start: 1908<br>Total Words: 1638097",
          "Window Start: 1909<br>Total Words: 1630128",
          "Window Start: 1910<br>Total Words: 1413300",
          "Window Start: 1911<br>Total Words: 1629346",
          "Window Start: 1912<br>Total Words: 1660238",
          "Window Start: 1913<br>Total Words: 1513804",
          "Window Start: 1914<br>Total Words: 1547934",
          "Window Start: 1915<br>Total Words: 1328285",
          "Window Start: 1916<br>Total Words: 1323570",
          "Window Start: 1917<br>Total Words: 1296318",
          "Window Start: 1918<br>Total Words: 1479917",
          "Window Start: 1919<br>Total Words: 1485991",
          "Window Start: 1920<br>Total Words: 1679003",
          "Window Start: 1921<br>Total Words: 1680773",
          "Window Start: 1922<br>Total Words: 1811406",
          "Window Start: 1923<br>Total Words: 2225833",
          "Window Start: 1924<br>Total Words: 2040827",
          "Window Start: 1925<br>Total Words: 2273508",
          "Window Start: 1926<br>Total Words: 2356888",
          "Window Start: 1927<br>Total Words: 2364124",
          "Window Start: 1928<br>Total Words: 2595952",
          "Window Start: 1929<br>Total Words: 2577921",
          "Window Start: 1930<br>Total Words: 2550395",
          "Window Start: 1931<br>Total Words: 2405871",
          "Window Start: 1932<br>Total Words: 2150773",
          "Window Start: 1933<br>Total Words: 1828441",
          "Window Start: 1934<br>Total Words: 1828441",
          "Window Start: 1935<br>Total Words: 1501289",
          "Window Start: 1936<br>Total Words: 1235330",
          "Window Start: 1937<br>Total Words: 1229126",
          "Window Start: 1938<br>Total Words: 1040434",
          "Window Start: 1939<br>Total Words: 986667",
          "Window Start: 1940<br>Total Words: 964528",
          "Window Start: 1941<br>Total Words: 1151849",
          "Window Start: 1942<br>Total Words: 1306031",
          "Window Start: 1943<br>Total Words: 1500575",
          "Window Start: 1944<br>Total Words: 1629971",
          "Window Start: 1945<br>Total Words: 1654345",
          "Window Start: 1946<br>Total Words: 1654345",
          "Window Start: 1947<br>Total Words: 1470422",
          "Window Start: 1948<br>Total Words: 1243687"
         ],
         "type": "scatter",
         "x": [
          1878,
          1879,
          1880,
          1881,
          1882,
          1883,
          1884,
          1885,
          1886,
          1887,
          1888,
          1889,
          1890,
          1891,
          1892,
          1893,
          1894,
          1895,
          1896,
          1897,
          1898,
          1899,
          1900,
          1901,
          1902,
          1903,
          1904,
          1905,
          1906,
          1907,
          1908,
          1909,
          1910,
          1911,
          1912,
          1913,
          1914,
          1915,
          1916,
          1917,
          1918,
          1919,
          1920,
          1921,
          1922,
          1923,
          1924,
          1925,
          1926,
          1927,
          1928,
          1929,
          1930,
          1931,
          1932,
          1933,
          1934,
          1935,
          1936,
          1937,
          1938,
          1939,
          1940,
          1941,
          1942,
          1943,
          1944,
          1945,
          1946,
          1947,
          1948
         ],
         "y": [
          221072,
          453262,
          604283,
          690180,
          942797,
          1126753,
          1479544,
          1901753,
          2250947,
          2414326,
          2392854,
          2407699,
          2363387,
          2453716,
          2407051,
          2223095,
          1981929,
          1725273,
          1527291,
          1573236,
          1373636,
          1301153,
          1411272,
          1235046,
          1200208,
          1346642,
          1385893,
          1601196,
          1637278,
          1638097,
          1638097,
          1630128,
          1413300,
          1629346,
          1660238,
          1513804,
          1547934,
          1328285,
          1323570,
          1296318,
          1479917,
          1485991,
          1679003,
          1680773,
          1811406,
          2225833,
          2040827,
          2273508,
          2356888,
          2364124,
          2595952,
          2577921,
          2550395,
          2405871,
          2150773,
          1828441,
          1828441,
          1501289,
          1235330,
          1229126,
          1040434,
          986667,
          964528,
          1151849,
          1306031,
          1500575,
          1629971,
          1654345,
          1654345,
          1470422,
          1243687
         ]
        },
        {
         "hoverinfo": "text",
         "marker": {
          "color": "green",
          "line": {
           "color": "black",
           "width": 2
          },
          "size": 10
         },
         "mode": "markers+lines",
         "name": "<b>RSTL (1665-1886)</b>",
         "text": [
          "Window Start: 1665<br>Total Words: 994670",
          "Window Start: 1666<br>Total Words: 941129",
          "Window Start: 1667<br>Total Words: 951543",
          "Window Start: 1668<br>Total Words: 1052985",
          "Window Start: 1669<br>Total Words: 952411",
          "Window Start: 1670<br>Total Words: 862258",
          "Window Start: 1671<br>Total Words: 732750",
          "Window Start: 1672<br>Total Words: 618805",
          "Window Start: 1673<br>Total Words: 514033",
          "Window Start: 1674<br>Total Words: 544332",
          "Window Start: 1675<br>Total Words: 557435",
          "Window Start: 1676<br>Total Words: 572826",
          "Window Start: 1677<br>Total Words: 624939",
          "Window Start: 1678<br>Total Words: 523497",
          "Window Start: 1679<br>Total Words: 523497",
          "Window Start: 1680<br>Total Words: 523497",
          "Window Start: 1681<br>Total Words: 523497",
          "Window Start: 1682<br>Total Words: 523497",
          "Window Start: 1683<br>Total Words: 523497",
          "Window Start: 1684<br>Total Words: 532379",
          "Window Start: 1685<br>Total Words: 488978",
          "Window Start: 1686<br>Total Words: 576877",
          "Window Start: 1687<br>Total Words: 417588",
          "Window Start: 1688<br>Total Words: 417588",
          "Window Start: 1689<br>Total Words: 545588",
          "Window Start: 1690<br>Total Words: 675715",
          "Window Start: 1691<br>Total Words: 854526",
          "Window Start: 1692<br>Total Words: 854526",
          "Window Start: 1693<br>Total Words: 995542",
          "Window Start: 1694<br>Total Words: 865242",
          "Window Start: 1695<br>Total Words: 983742",
          "Window Start: 1696<br>Total Words: 770858",
          "Window Start: 1697<br>Total Words: 852672",
          "Window Start: 1698<br>Total Words: 852672",
          "Window Start: 1699<br>Total Words: 852710",
          "Window Start: 1700<br>Total Words: 722583",
          "Window Start: 1701<br>Total Words: 700400",
          "Window Start: 1702<br>Total Words: 700400",
          "Window Start: 1703<br>Total Words: 559384",
          "Window Start: 1704<br>Total Words: 632311",
          "Window Start: 1705<br>Total Words: 580932",
          "Window Start: 1706<br>Total Words: 580932",
          "Window Start: 1707<br>Total Words: 499118",
          "Window Start: 1708<br>Total Words: 628146",
          "Window Start: 1709<br>Total Words: 500108",
          "Window Start: 1710<br>Total Words: 500108",
          "Window Start: 1711<br>Total Words: 411216",
          "Window Start: 1712<br>Total Words: 411216",
          "Window Start: 1713<br>Total Words: 519442",
          "Window Start: 1714<br>Total Words: 446515",
          "Window Start: 1715<br>Total Words: 412014",
          "Window Start: 1716<br>Total Words: 412014",
          "Window Start: 1717<br>Total Words: 475974",
          "Window Start: 1718<br>Total Words: 436911",
          "Window Start: 1719<br>Total Words: 436911",
          "Window Start: 1720<br>Total Words: 552008",
          "Window Start: 1721<br>Total Words: 484272",
          "Window Start: 1722<br>Total Words: 589378",
          "Window Start: 1723<br>Total Words: 481152",
          "Window Start: 1724<br>Total Words: 582351",
          "Window Start: 1725<br>Total Words: 475327",
          "Window Start: 1726<br>Total Words: 567790",
          "Window Start: 1727<br>Total Words: 503830",
          "Window Start: 1728<br>Total Words: 539523",
          "Window Start: 1729<br>Total Words: 539523",
          "Window Start: 1730<br>Total Words: 643037",
          "Window Start: 1731<br>Total Words: 643037",
          "Window Start: 1732<br>Total Words: 537931",
          "Window Start: 1733<br>Total Words: 696482",
          "Window Start: 1734<br>Total Words: 595283",
          "Window Start: 1735<br>Total Words: 779616",
          "Window Start: 1736<br>Total Words: 687153",
          "Window Start: 1737<br>Total Words: 899960",
          "Window Start: 1738<br>Total Words: 774302",
          "Window Start: 1739<br>Total Words: 934618",
          "Window Start: 1740<br>Total Words: 906637",
          "Window Start: 1741<br>Total Words: 906637",
          "Window Start: 1742<br>Total Words: 1056027",
          "Window Start: 1743<br>Total Words: 897476",
          "Window Start: 1744<br>Total Words: 1118153",
          "Window Start: 1745<br>Total Words: 933820",
          "Window Start: 1746<br>Total Words: 1158248",
          "Window Start: 1747<br>Total Words: 945441",
          "Window Start: 1748<br>Total Words: 1167331",
          "Window Start: 1749<br>Total Words: 1007015",
          "Window Start: 1750<br>Total Words: 1059573",
          "Window Start: 1751<br>Total Words: 1059573",
          "Window Start: 1752<br>Total Words: 1057013",
          "Window Start: 1753<br>Total Words: 1057013",
          "Window Start: 1754<br>Total Words: 960979",
          "Window Start: 1755<br>Total Words: 1067926",
          "Window Start: 1756<br>Total Words: 925472",
          "Window Start: 1757<br>Total Words: 995643",
          "Window Start: 1758<br>Total Words: 893693",
          "Window Start: 1759<br>Total Words: 965548",
          "Window Start: 1760<br>Total Words: 830585",
          "Window Start: 1761<br>Total Words: 947209",
          "Window Start: 1762<br>Total Words: 952286",
          "Window Start: 1763<br>Total Words: 1062017",
          "Window Start: 1764<br>Total Words: 1050538",
          "Window Start: 1765<br>Total Words: 1053415",
          "Window Start: 1766<br>Total Words: 1082306",
          "Window Start: 1767<br>Total Words: 1130667",
          "Window Start: 1768<br>Total Words: 1179903",
          "Window Start: 1769<br>Total Words: 1325156",
          "Window Start: 1770<br>Total Words: 1347633",
          "Window Start: 1771<br>Total Words: 1355858",
          "Window Start: 1772<br>Total Words: 1360885",
          "Window Start: 1773<br>Total Words: 1371199",
          "Window Start: 1774<br>Total Words: 1403887",
          "Window Start: 1775<br>Total Words: 1410547",
          "Window Start: 1776<br>Total Words: 1421534",
          "Window Start: 1777<br>Total Words: 1433348",
          "Window Start: 1778<br>Total Words: 1390030",
          "Window Start: 1779<br>Total Words: 1280476",
          "Window Start: 1780<br>Total Words: 1229769",
          "Window Start: 1781<br>Total Words: 1268433",
          "Window Start: 1782<br>Total Words: 1222490",
          "Window Start: 1783<br>Total Words: 1228892",
          "Window Start: 1784<br>Total Words: 1143833",
          "Window Start: 1785<br>Total Words: 1128704",
          "Window Start: 1786<br>Total Words: 1159021",
          "Window Start: 1787<br>Total Words: 1157046",
          "Window Start: 1788<br>Total Words: 1158493",
          "Window Start: 1789<br>Total Words: 1198089",
          "Window Start: 1790<br>Total Words: 1205852",
          "Window Start: 1791<br>Total Words: 1212984",
          "Window Start: 1792<br>Total Words: 1227058",
          "Window Start: 1793<br>Total Words: 1239535",
          "Window Start: 1794<br>Total Words: 1306332",
          "Window Start: 1795<br>Total Words: 1320663",
          "Window Start: 1796<br>Total Words: 1261626",
          "Window Start: 1797<br>Total Words: 1239658",
          "Window Start: 1798<br>Total Words: 1197498",
          "Window Start: 1799<br>Total Words: 1144724",
          "Window Start: 1800<br>Total Words: 1184418",
          "Window Start: 1801<br>Total Words: 1102945",
          "Window Start: 1802<br>Total Words: 1078183",
          "Window Start: 1803<br>Total Words: 1044203",
          "Window Start: 1804<br>Total Words: 992030",
          "Window Start: 1805<br>Total Words: 1032617",
          "Window Start: 1806<br>Total Words: 1059379",
          "Window Start: 1807<br>Total Words: 1039023",
          "Window Start: 1808<br>Total Words: 1041089",
          "Window Start: 1809<br>Total Words: 1069955",
          "Window Start: 1810<br>Total Words: 1051163",
          "Window Start: 1811<br>Total Words: 1049751",
          "Window Start: 1812<br>Total Words: 1058101",
          "Window Start: 1813<br>Total Words: 1066008",
          "Window Start: 1814<br>Total Words: 1102821",
          "Window Start: 1815<br>Total Words: 1077753",
          "Window Start: 1816<br>Total Words: 1100372",
          "Window Start: 1817<br>Total Words: 1251886",
          "Window Start: 1818<br>Total Words: 1264478",
          "Window Start: 1819<br>Total Words: 1251898",
          "Window Start: 1820<br>Total Words: 1279849",
          "Window Start: 1821<br>Total Words: 1326222",
          "Window Start: 1822<br>Total Words: 1350146",
          "Window Start: 1823<br>Total Words: 1415852",
          "Window Start: 1824<br>Total Words: 1586150",
          "Window Start: 1825<br>Total Words: 1720757",
          "Window Start: 1826<br>Total Words: 1716112",
          "Window Start: 1827<br>Total Words: 1711433",
          "Window Start: 1828<br>Total Words: 1782915",
          "Window Start: 1829<br>Total Words: 1851233",
          "Window Start: 1830<br>Total Words: 1902298",
          "Window Start: 1831<br>Total Words: 2033866",
          "Window Start: 1832<br>Total Words: 2034192",
          "Window Start: 1833<br>Total Words: 1984311",
          "Window Start: 1834<br>Total Words: 1814666",
          "Window Start: 1835<br>Total Words: 1646900",
          "Window Start: 1836<br>Total Words: 1626945",
          "Window Start: 1837<br>Total Words: 1629081",
          "Window Start: 1838<br>Total Words: 1557154",
          "Window Start: 1839<br>Total Words: 1487079",
          "Window Start: 1840<br>Total Words: 1505369",
          "Window Start: 1841<br>Total Words: 1572599",
          "Window Start: 1842<br>Total Words: 1786276",
          "Window Start: 1843<br>Total Words: 1939387",
          "Window Start: 1844<br>Total Words: 2059893",
          "Window Start: 1845<br>Total Words: 2094652",
          "Window Start: 1846<br>Total Words: 2141783",
          "Window Start: 1847<br>Total Words: 2223327",
          "Window Start: 1848<br>Total Words: 2450908",
          "Window Start: 1849<br>Total Words: 2743925",
          "Window Start: 1850<br>Total Words: 2879848",
          "Window Start: 1851<br>Total Words: 2764654",
          "Window Start: 1852<br>Total Words: 2729465",
          "Window Start: 1853<br>Total Words: 2897481",
          "Window Start: 1854<br>Total Words: 2888025",
          "Window Start: 1855<br>Total Words: 3046672",
          "Window Start: 1856<br>Total Words: 3178682",
          "Window Start: 1857<br>Total Words: 3203930",
          "Window Start: 1858<br>Total Words: 3158724",
          "Window Start: 1859<br>Total Words: 3013252",
          "Window Start: 1860<br>Total Words: 2967018",
          "Window Start: 1861<br>Total Words: 2951043",
          "Window Start: 1862<br>Total Words: 2933542",
          "Window Start: 1863<br>Total Words: 2669136",
          "Window Start: 1864<br>Total Words: 2730354",
          "Window Start: 1865<br>Total Words: 2796829",
          "Window Start: 1866<br>Total Words: 2769959",
          "Window Start: 1867<br>Total Words: 2743129",
          "Window Start: 1868<br>Total Words: 2751945",
          "Window Start: 1869<br>Total Words: 2495495",
          "Window Start: 1870<br>Total Words: 2719958",
          "Window Start: 1871<br>Total Words: 2883784",
          "Window Start: 1872<br>Total Words: 2933123",
          "Window Start: 1873<br>Total Words: 3292153",
          "Window Start: 1874<br>Total Words: 3364755",
          "Window Start: 1875<br>Total Words: 3236554",
          "Window Start: 1876<br>Total Words: 3289455",
          "Window Start: 1877<br>Total Words: 3256113",
          "Window Start: 1878<br>Total Words: 2965564",
          "Window Start: 1879<br>Total Words: 2965564",
          "Window Start: 1880<br>Total Words: 2445446",
          "Window Start: 1881<br>Total Words: 2079858",
          "Window Start: 1882<br>Total Words: 1736629",
          "Window Start: 1883<br>Total Words: 1192202",
          "Window Start: 1884<br>Total Words: 834449",
          "Window Start: 1885<br>Total Words: 604723",
          "Window Start: 1886<br>Total Words: 281638"
         ],
         "type": "scatter",
         "x": [
          1665,
          1666,
          1667,
          1668,
          1669,
          1670,
          1671,
          1672,
          1673,
          1674,
          1675,
          1676,
          1677,
          1678,
          1679,
          1680,
          1681,
          1682,
          1683,
          1684,
          1685,
          1686,
          1687,
          1688,
          1689,
          1690,
          1691,
          1692,
          1693,
          1694,
          1695,
          1696,
          1697,
          1698,
          1699,
          1700,
          1701,
          1702,
          1703,
          1704,
          1705,
          1706,
          1707,
          1708,
          1709,
          1710,
          1711,
          1712,
          1713,
          1714,
          1715,
          1716,
          1717,
          1718,
          1719,
          1720,
          1721,
          1722,
          1723,
          1724,
          1725,
          1726,
          1727,
          1728,
          1729,
          1730,
          1731,
          1732,
          1733,
          1734,
          1735,
          1736,
          1737,
          1738,
          1739,
          1740,
          1741,
          1742,
          1743,
          1744,
          1745,
          1746,
          1747,
          1748,
          1749,
          1750,
          1751,
          1752,
          1753,
          1754,
          1755,
          1756,
          1757,
          1758,
          1759,
          1760,
          1761,
          1762,
          1763,
          1764,
          1765,
          1766,
          1767,
          1768,
          1769,
          1770,
          1771,
          1772,
          1773,
          1774,
          1775,
          1776,
          1777,
          1778,
          1779,
          1780,
          1781,
          1782,
          1783,
          1784,
          1785,
          1786,
          1787,
          1788,
          1789,
          1790,
          1791,
          1792,
          1793,
          1794,
          1795,
          1796,
          1797,
          1798,
          1799,
          1800,
          1801,
          1802,
          1803,
          1804,
          1805,
          1806,
          1807,
          1808,
          1809,
          1810,
          1811,
          1812,
          1813,
          1814,
          1815,
          1816,
          1817,
          1818,
          1819,
          1820,
          1821,
          1822,
          1823,
          1824,
          1825,
          1826,
          1827,
          1828,
          1829,
          1830,
          1831,
          1832,
          1833,
          1834,
          1835,
          1836,
          1837,
          1838,
          1839,
          1840,
          1841,
          1842,
          1843,
          1844,
          1845,
          1846,
          1847,
          1848,
          1849,
          1850,
          1851,
          1852,
          1853,
          1854,
          1855,
          1856,
          1857,
          1858,
          1859,
          1860,
          1861,
          1862,
          1863,
          1864,
          1865,
          1866,
          1867,
          1868,
          1869,
          1870,
          1871,
          1872,
          1873,
          1874,
          1875,
          1876,
          1877,
          1878,
          1879,
          1880,
          1881,
          1882,
          1883,
          1884,
          1885,
          1886
         ],
         "y": [
          994670,
          941129,
          951543,
          1052985,
          952411,
          862258,
          732750,
          618805,
          514033,
          544332,
          557435,
          572826,
          624939,
          523497,
          523497,
          523497,
          523497,
          523497,
          523497,
          532379,
          488978,
          576877,
          417588,
          417588,
          545588,
          675715,
          854526,
          854526,
          995542,
          865242,
          983742,
          770858,
          852672,
          852672,
          852710,
          722583,
          700400,
          700400,
          559384,
          632311,
          580932,
          580932,
          499118,
          628146,
          500108,
          500108,
          411216,
          411216,
          519442,
          446515,
          412014,
          412014,
          475974,
          436911,
          436911,
          552008,
          484272,
          589378,
          481152,
          582351,
          475327,
          567790,
          503830,
          539523,
          539523,
          643037,
          643037,
          537931,
          696482,
          595283,
          779616,
          687153,
          899960,
          774302,
          934618,
          906637,
          906637,
          1056027,
          897476,
          1118153,
          933820,
          1158248,
          945441,
          1167331,
          1007015,
          1059573,
          1059573,
          1057013,
          1057013,
          960979,
          1067926,
          925472,
          995643,
          893693,
          965548,
          830585,
          947209,
          952286,
          1062017,
          1050538,
          1053415,
          1082306,
          1130667,
          1179903,
          1325156,
          1347633,
          1355858,
          1360885,
          1371199,
          1403887,
          1410547,
          1421534,
          1433348,
          1390030,
          1280476,
          1229769,
          1268433,
          1222490,
          1228892,
          1143833,
          1128704,
          1159021,
          1157046,
          1158493,
          1198089,
          1205852,
          1212984,
          1227058,
          1239535,
          1306332,
          1320663,
          1261626,
          1239658,
          1197498,
          1144724,
          1184418,
          1102945,
          1078183,
          1044203,
          992030,
          1032617,
          1059379,
          1039023,
          1041089,
          1069955,
          1051163,
          1049751,
          1058101,
          1066008,
          1102821,
          1077753,
          1100372,
          1251886,
          1264478,
          1251898,
          1279849,
          1326222,
          1350146,
          1415852,
          1586150,
          1720757,
          1716112,
          1711433,
          1782915,
          1851233,
          1902298,
          2033866,
          2034192,
          1984311,
          1814666,
          1646900,
          1626945,
          1629081,
          1557154,
          1487079,
          1505369,
          1572599,
          1786276,
          1939387,
          2059893,
          2094652,
          2141783,
          2223327,
          2450908,
          2743925,
          2879848,
          2764654,
          2729465,
          2897481,
          2888025,
          3046672,
          3178682,
          3203930,
          3158724,
          3013252,
          2967018,
          2951043,
          2933542,
          2669136,
          2730354,
          2796829,
          2769959,
          2743129,
          2751945,
          2495495,
          2719958,
          2883784,
          2933123,
          3292153,
          3364755,
          3236554,
          3289455,
          3256113,
          2965564,
          2965564,
          2445446,
          2079858,
          1736629,
          1192202,
          834449,
          604723,
          281638
         ]
        }
       ],
       "layout": {
        "font": {
         "family": "Arial, sans-serif"
        },
        "height": 600,
        "legend": {
         "font": {
          "size": 14,
          "weight": "bold"
         },
         "orientation": "h",
         "x": 0.5,
         "xanchor": "center",
         "y": 1.02,
         "yanchor": "bottom"
        },
        "margin": {
         "b": 50,
         "l": 50,
         "r": 50,
         "t": 100
        },
        "plot_bgcolor": "rgba(240,240,240,0.5)",
        "template": {
         "data": {
          "bar": [
           {
            "error_x": {
             "color": "#2a3f5f"
            },
            "error_y": {
             "color": "#2a3f5f"
            },
            "marker": {
             "line": {
              "color": "white",
              "width": 0.5
             },
             "pattern": {
              "fillmode": "overlay",
              "size": 10,
              "solidity": 0.2
             }
            },
            "type": "bar"
           }
          ],
          "barpolar": [
           {
            "marker": {
             "line": {
              "color": "white",
              "width": 0.5
             },
             "pattern": {
              "fillmode": "overlay",
              "size": 10,
              "solidity": 0.2
             }
            },
            "type": "barpolar"
           }
          ],
          "carpet": [
           {
            "aaxis": {
             "endlinecolor": "#2a3f5f",
             "gridcolor": "#C8D4E3",
             "linecolor": "#C8D4E3",
             "minorgridcolor": "#C8D4E3",
             "startlinecolor": "#2a3f5f"
            },
            "baxis": {
             "endlinecolor": "#2a3f5f",
             "gridcolor": "#C8D4E3",
             "linecolor": "#C8D4E3",
             "minorgridcolor": "#C8D4E3",
             "startlinecolor": "#2a3f5f"
            },
            "type": "carpet"
           }
          ],
          "choropleth": [
           {
            "colorbar": {
             "outlinewidth": 0,
             "ticks": ""
            },
            "type": "choropleth"
           }
          ],
          "contour": [
           {
            "colorbar": {
             "outlinewidth": 0,
             "ticks": ""
            },
            "colorscale": [
             [
              0,
              "#0d0887"
             ],
             [
              0.1111111111111111,
              "#46039f"
             ],
             [
              0.2222222222222222,
              "#7201a8"
             ],
             [
              0.3333333333333333,
              "#9c179e"
             ],
             [
              0.4444444444444444,
              "#bd3786"
             ],
             [
              0.5555555555555556,
              "#d8576b"
             ],
             [
              0.6666666666666666,
              "#ed7953"
             ],
             [
              0.7777777777777778,
              "#fb9f3a"
             ],
             [
              0.8888888888888888,
              "#fdca26"
             ],
             [
              1,
              "#f0f921"
             ]
            ],
            "type": "contour"
           }
          ],
          "contourcarpet": [
           {
            "colorbar": {
             "outlinewidth": 0,
             "ticks": ""
            },
            "type": "contourcarpet"
           }
          ],
          "heatmap": [
           {
            "colorbar": {
             "outlinewidth": 0,
             "ticks": ""
            },
            "colorscale": [
             [
              0,
              "#0d0887"
             ],
             [
              0.1111111111111111,
              "#46039f"
             ],
             [
              0.2222222222222222,
              "#7201a8"
             ],
             [
              0.3333333333333333,
              "#9c179e"
             ],
             [
              0.4444444444444444,
              "#bd3786"
             ],
             [
              0.5555555555555556,
              "#d8576b"
             ],
             [
              0.6666666666666666,
              "#ed7953"
             ],
             [
              0.7777777777777778,
              "#fb9f3a"
             ],
             [
              0.8888888888888888,
              "#fdca26"
             ],
             [
              1,
              "#f0f921"
             ]
            ],
            "type": "heatmap"
           }
          ],
          "heatmapgl": [
           {
            "colorbar": {
             "outlinewidth": 0,
             "ticks": ""
            },
            "colorscale": [
             [
              0,
              "#0d0887"
             ],
             [
              0.1111111111111111,
              "#46039f"
             ],
             [
              0.2222222222222222,
              "#7201a8"
             ],
             [
              0.3333333333333333,
              "#9c179e"
             ],
             [
              0.4444444444444444,
              "#bd3786"
             ],
             [
              0.5555555555555556,
              "#d8576b"
             ],
             [
              0.6666666666666666,
              "#ed7953"
             ],
             [
              0.7777777777777778,
              "#fb9f3a"
             ],
             [
              0.8888888888888888,
              "#fdca26"
             ],
             [
              1,
              "#f0f921"
             ]
            ],
            "type": "heatmapgl"
           }
          ],
          "histogram": [
           {
            "marker": {
             "pattern": {
              "fillmode": "overlay",
              "size": 10,
              "solidity": 0.2
             }
            },
            "type": "histogram"
           }
          ],
          "histogram2d": [
           {
            "colorbar": {
             "outlinewidth": 0,
             "ticks": ""
            },
            "colorscale": [
             [
              0,
              "#0d0887"
             ],
             [
              0.1111111111111111,
              "#46039f"
             ],
             [
              0.2222222222222222,
              "#7201a8"
             ],
             [
              0.3333333333333333,
              "#9c179e"
             ],
             [
              0.4444444444444444,
              "#bd3786"
             ],
             [
              0.5555555555555556,
              "#d8576b"
             ],
             [
              0.6666666666666666,
              "#ed7953"
             ],
             [
              0.7777777777777778,
              "#fb9f3a"
             ],
             [
              0.8888888888888888,
              "#fdca26"
             ],
             [
              1,
              "#f0f921"
             ]
            ],
            "type": "histogram2d"
           }
          ],
          "histogram2dcontour": [
           {
            "colorbar": {
             "outlinewidth": 0,
             "ticks": ""
            },
            "colorscale": [
             [
              0,
              "#0d0887"
             ],
             [
              0.1111111111111111,
              "#46039f"
             ],
             [
              0.2222222222222222,
              "#7201a8"
             ],
             [
              0.3333333333333333,
              "#9c179e"
             ],
             [
              0.4444444444444444,
              "#bd3786"
             ],
             [
              0.5555555555555556,
              "#d8576b"
             ],
             [
              0.6666666666666666,
              "#ed7953"
             ],
             [
              0.7777777777777778,
              "#fb9f3a"
             ],
             [
              0.8888888888888888,
              "#fdca26"
             ],
             [
              1,
              "#f0f921"
             ]
            ],
            "type": "histogram2dcontour"
           }
          ],
          "mesh3d": [
           {
            "colorbar": {
             "outlinewidth": 0,
             "ticks": ""
            },
            "type": "mesh3d"
           }
          ],
          "parcoords": [
           {
            "line": {
             "colorbar": {
              "outlinewidth": 0,
              "ticks": ""
             }
            },
            "type": "parcoords"
           }
          ],
          "pie": [
           {
            "automargin": true,
            "type": "pie"
           }
          ],
          "scatter": [
           {
            "fillpattern": {
             "fillmode": "overlay",
             "size": 10,
             "solidity": 0.2
            },
            "type": "scatter"
           }
          ],
          "scatter3d": [
           {
            "line": {
             "colorbar": {
              "outlinewidth": 0,
              "ticks": ""
             }
            },
            "marker": {
             "colorbar": {
              "outlinewidth": 0,
              "ticks": ""
             }
            },
            "type": "scatter3d"
           }
          ],
          "scattercarpet": [
           {
            "marker": {
             "colorbar": {
              "outlinewidth": 0,
              "ticks": ""
             }
            },
            "type": "scattercarpet"
           }
          ],
          "scattergeo": [
           {
            "marker": {
             "colorbar": {
              "outlinewidth": 0,
              "ticks": ""
             }
            },
            "type": "scattergeo"
           }
          ],
          "scattergl": [
           {
            "marker": {
             "colorbar": {
              "outlinewidth": 0,
              "ticks": ""
             }
            },
            "type": "scattergl"
           }
          ],
          "scattermapbox": [
           {
            "marker": {
             "colorbar": {
              "outlinewidth": 0,
              "ticks": ""
             }
            },
            "type": "scattermapbox"
           }
          ],
          "scatterpolar": [
           {
            "marker": {
             "colorbar": {
              "outlinewidth": 0,
              "ticks": ""
             }
            },
            "type": "scatterpolar"
           }
          ],
          "scatterpolargl": [
           {
            "marker": {
             "colorbar": {
              "outlinewidth": 0,
              "ticks": ""
             }
            },
            "type": "scatterpolargl"
           }
          ],
          "scatterternary": [
           {
            "marker": {
             "colorbar": {
              "outlinewidth": 0,
              "ticks": ""
             }
            },
            "type": "scatterternary"
           }
          ],
          "surface": [
           {
            "colorbar": {
             "outlinewidth": 0,
             "ticks": ""
            },
            "colorscale": [
             [
              0,
              "#0d0887"
             ],
             [
              0.1111111111111111,
              "#46039f"
             ],
             [
              0.2222222222222222,
              "#7201a8"
             ],
             [
              0.3333333333333333,
              "#9c179e"
             ],
             [
              0.4444444444444444,
              "#bd3786"
             ],
             [
              0.5555555555555556,
              "#d8576b"
             ],
             [
              0.6666666666666666,
              "#ed7953"
             ],
             [
              0.7777777777777778,
              "#fb9f3a"
             ],
             [
              0.8888888888888888,
              "#fdca26"
             ],
             [
              1,
              "#f0f921"
             ]
            ],
            "type": "surface"
           }
          ],
          "table": [
           {
            "cells": {
             "fill": {
              "color": "#EBF0F8"
             },
             "line": {
              "color": "white"
             }
            },
            "header": {
             "fill": {
              "color": "#C8D4E3"
             },
             "line": {
              "color": "white"
             }
            },
            "type": "table"
           }
          ]
         },
         "layout": {
          "annotationdefaults": {
           "arrowcolor": "#2a3f5f",
           "arrowhead": 0,
           "arrowwidth": 1
          },
          "autotypenumbers": "strict",
          "coloraxis": {
           "colorbar": {
            "outlinewidth": 0,
            "ticks": ""
           }
          },
          "colorscale": {
           "diverging": [
            [
             0,
             "#8e0152"
            ],
            [
             0.1,
             "#c51b7d"
            ],
            [
             0.2,
             "#de77ae"
            ],
            [
             0.3,
             "#f1b6da"
            ],
            [
             0.4,
             "#fde0ef"
            ],
            [
             0.5,
             "#f7f7f7"
            ],
            [
             0.6,
             "#e6f5d0"
            ],
            [
             0.7,
             "#b8e186"
            ],
            [
             0.8,
             "#7fbc41"
            ],
            [
             0.9,
             "#4d9221"
            ],
            [
             1,
             "#276419"
            ]
           ],
           "sequential": [
            [
             0,
             "#0d0887"
            ],
            [
             0.1111111111111111,
             "#46039f"
            ],
            [
             0.2222222222222222,
             "#7201a8"
            ],
            [
             0.3333333333333333,
             "#9c179e"
            ],
            [
             0.4444444444444444,
             "#bd3786"
            ],
            [
             0.5555555555555556,
             "#d8576b"
            ],
            [
             0.6666666666666666,
             "#ed7953"
            ],
            [
             0.7777777777777778,
             "#fb9f3a"
            ],
            [
             0.8888888888888888,
             "#fdca26"
            ],
            [
             1,
             "#f0f921"
            ]
           ],
           "sequentialminus": [
            [
             0,
             "#0d0887"
            ],
            [
             0.1111111111111111,
             "#46039f"
            ],
            [
             0.2222222222222222,
             "#7201a8"
            ],
            [
             0.3333333333333333,
             "#9c179e"
            ],
            [
             0.4444444444444444,
             "#bd3786"
            ],
            [
             0.5555555555555556,
             "#d8576b"
            ],
            [
             0.6666666666666666,
             "#ed7953"
            ],
            [
             0.7777777777777778,
             "#fb9f3a"
            ],
            [
             0.8888888888888888,
             "#fdca26"
            ],
            [
             1,
             "#f0f921"
            ]
           ]
          },
          "colorway": [
           "#636efa",
           "#EF553B",
           "#00cc96",
           "#ab63fa",
           "#FFA15A",
           "#19d3f3",
           "#FF6692",
           "#B6E880",
           "#FF97FF",
           "#FECB52"
          ],
          "font": {
           "color": "#2a3f5f"
          },
          "geo": {
           "bgcolor": "white",
           "lakecolor": "white",
           "landcolor": "white",
           "showlakes": true,
           "showland": true,
           "subunitcolor": "#C8D4E3"
          },
          "hoverlabel": {
           "align": "left"
          },
          "hovermode": "closest",
          "mapbox": {
           "style": "light"
          },
          "paper_bgcolor": "white",
          "plot_bgcolor": "white",
          "polar": {
           "angularaxis": {
            "gridcolor": "#EBF0F8",
            "linecolor": "#EBF0F8",
            "ticks": ""
           },
           "bgcolor": "white",
           "radialaxis": {
            "gridcolor": "#EBF0F8",
            "linecolor": "#EBF0F8",
            "ticks": ""
           }
          },
          "scene": {
           "xaxis": {
            "backgroundcolor": "white",
            "gridcolor": "#DFE8F3",
            "gridwidth": 2,
            "linecolor": "#EBF0F8",
            "showbackground": true,
            "ticks": "",
            "zerolinecolor": "#EBF0F8"
           },
           "yaxis": {
            "backgroundcolor": "white",
            "gridcolor": "#DFE8F3",
            "gridwidth": 2,
            "linecolor": "#EBF0F8",
            "showbackground": true,
            "ticks": "",
            "zerolinecolor": "#EBF0F8"
           },
           "zaxis": {
            "backgroundcolor": "white",
            "gridcolor": "#DFE8F3",
            "gridwidth": 2,
            "linecolor": "#EBF0F8",
            "showbackground": true,
            "ticks": "",
            "zerolinecolor": "#EBF0F8"
           }
          },
          "shapedefaults": {
           "line": {
            "color": "#2a3f5f"
           }
          },
          "ternary": {
           "aaxis": {
            "gridcolor": "#DFE8F3",
            "linecolor": "#A2B1C6",
            "ticks": ""
           },
           "baxis": {
            "gridcolor": "#DFE8F3",
            "linecolor": "#A2B1C6",
            "ticks": ""
           },
           "bgcolor": "white",
           "caxis": {
            "gridcolor": "#DFE8F3",
            "linecolor": "#A2B1C6",
            "ticks": ""
           }
          },
          "title": {
           "x": 0.05
          },
          "xaxis": {
           "automargin": true,
           "gridcolor": "#EBF0F8",
           "linecolor": "#EBF0F8",
           "ticks": "",
           "title": {
            "standoff": 15
           },
           "zerolinecolor": "#EBF0F8",
           "zerolinewidth": 2
          },
          "yaxis": {
           "automargin": true,
           "gridcolor": "#EBF0F8",
           "linecolor": "#EBF0F8",
           "ticks": "",
           "title": {
            "standoff": 15
           },
           "zerolinecolor": "#EBF0F8",
           "zerolinewidth": 2
          }
         }
        },
        "title": {
         "text": "<b>Total Words per 10-Year Window by Royal Society Publication Type (1665-1958)<b>"
        },
        "width": 1200,
        "xaxis": {
         "dtick": 10,
         "tick0": 1665,
         "tickfont": {
          "size": 14
         },
         "tickmode": "linear",
         "title": {
          "text": "<b>Window Start Year<b>"
         }
        },
        "yaxis": {
         "tickformat": ",",
         "title": {
          "font": {
           "size": 14
          },
          "text": "<b>Total Words</b>"
         }
        }
       }
      }
     },
     "metadata": {},
     "output_type": "display_data"
    }
   ],
   "source": [
    "import pandas as pd\n",
    "import plotly.graph_objects as go\n",
    "from collections import defaultdict\n",
    "import os\n",
    "import re\n",
    "from tqdm import tqdm\n",
    "import string\n",
    "from nltk.tokenize import word_tokenize\n",
    "\n",
    "def count_words_in_file(file_path):\n",
    "    \"\"\"\n",
    "    Count the number of words in a text file.\n",
    "    \n",
    "    Args:\n",
    "        file_path (str): Path to the text file\n",
    "    \n",
    "    Returns:\n",
    "        int: Number of words in the file\n",
    "    \"\"\"\n",
    "    with open(file_path, 'r', encoding='utf-8') as f:\n",
    "        text = f.read()\n",
    "    tokens = word_tokenize(text.lower())\n",
    "    return len([token for token in tokens if token.isalpha() and token not in string.punctuation])\n",
    "\n",
    "def count_words_in_10_year_windows(text_dirs, start_year, end_year):\n",
    "    \"\"\"\n",
    "    Count words in 10-year windows across multiple directories.\n",
    "    \n",
    "    Args:\n",
    "        text_dirs (list): List of directory paths\n",
    "        start_year (int): Starting year of analysis\n",
    "        end_year (int): Ending year of analysis\n",
    "    \n",
    "    Returns:\n",
    "        dict: Dictionary of word counts per 10-year window, \n",
    "              with separate counts for each publication type\n",
    "    \"\"\"\n",
    "    def extract_year_from_filename(filename):\n",
    "        \"\"\"Extract year from filename\"\"\"\n",
    "        match = re.search(r'rst[bla]?_?(\\d{4})', filename)\n",
    "        return int(match.group(1)) if match else None\n",
    "    \n",
    "    # Separate word counts for each publication type\n",
    "    word_counts = {\n",
    "        'rsta': defaultdict(int),\n",
    "        'rstb': defaultdict(int),\n",
    "        'rstl': defaultdict(int)\n",
    "    }\n",
    "    \n",
    "    print(\"Counting words in year windows...\")\n",
    "    \n",
    "    # Collect file paths\n",
    "    file_paths = []\n",
    "    for dir in text_dirs:\n",
    "        for f in os.listdir(dir):\n",
    "            if f.endswith('.txt'):\n",
    "                file_paths.append(os.path.join(dir, f))\n",
    "    \n",
    "    # Count words for each file\n",
    "    for file_path in tqdm(file_paths):\n",
    "        year = extract_year_from_filename(os.path.basename(file_path))\n",
    "        \n",
    "        # Determine publication type from directory\n",
    "        pub_type = os.path.basename(os.path.dirname(file_path))[-4:]\n",
    "        \n",
    "        if year and start_year <= year <= end_year:\n",
    "            word_count = count_words_in_file(file_path)\n",
    "            word_counts[pub_type][year] += word_count\n",
    "    \n",
    "    # Aggregate words into 10-year windows\n",
    "    words_per_window = {\n",
    "        'rsta': defaultdict(int),\n",
    "        'rstb': defaultdict(int),\n",
    "        'rstl': defaultdict(int)\n",
    "    }\n",
    "    \n",
    "    # Handle RSTA and RSTB starting from 1887, RSTL only before 1887\n",
    "    for pub_type in ['rsta', 'rstb', 'rstl']:\n",
    "        if pub_type in ['rsta', 'rstb']:\n",
    "            start_year_filter = 1887\n",
    "        else:\n",
    "            start_year_filter = 1665\n",
    "        \n",
    "        for year in range(start_year, end_year - 9):\n",
    "            window_start = year\n",
    "            window_end = year + 9\n",
    "            total_words = sum(\n",
    "                word_counts[pub_type].get(y, 0) \n",
    "                for y in range(window_start, window_end + 1)\n",
    "                if (pub_type != 'rstl' and y >= 1887) or (pub_type == 'rstl' and y <= 1886)\n",
    "            )\n",
    "            words_per_window[pub_type][window_start] = total_words\n",
    "    \n",
    "    return words_per_window\n",
    "\n",
    "# Directories for Royal Society publications\n",
    "text_dirs = [\n",
    "    r\"D:\\Fact_fiction_corpus\\texts\\royal society\\txt_rstb\",\n",
    "    r\"D:\\Fact_fiction_corpus\\texts\\royal society\\txt_rstl\", \n",
    "    r\"D:\\Fact_fiction_corpus\\texts\\royal society\\txt_rsta\"\n",
    "]\n",
    "\n",
    "# Count words for the historical period\n",
    "historical_word_counts = count_words_in_10_year_windows(\n",
    "    text_dirs,\n",
    "    start_year=1665,\n",
    "    end_year=1958\n",
    ")\n",
    "\n",
    "# Prepare data for plotting with enhanced visual styling\n",
    "publication_types = {\n",
    "    'rsta': {\n",
    "        'color': 'red',\n",
    "        'name': 'RSTA',\n",
    "        'hoverinfo': 'Physical, mathematical, and engineering sciences'\n",
    "    },\n",
    "    'rstb': {\n",
    "        'color': 'blue', \n",
    "        'name': 'RSTB',\n",
    "        'hoverinfo': 'Biological research and life sciences'\n",
    "    },\n",
    "    'rstl': {\n",
    "        'color': 'green',\n",
    "        'name': 'RSTL',\n",
    "        'hoverinfo': 'Scientific letters and short communications'\n",
    "    }\n",
    "}\n",
    "\n",
    "# Create the interactive plot with enhanced styling\n",
    "fig = go.Figure()\n",
    "\n",
    "# Add traces for each publication type with line style\n",
    "for pub_type, details in publication_types.items():\n",
    "    windows = list(historical_word_counts[pub_type].keys())\n",
    "    counts = list(historical_word_counts[pub_type].values())\n",
    "    \n",
    "    # Only plot non-zero word counts\n",
    "    non_zero_windows = [window for window, count in zip(windows, counts) if count > 0]\n",
    "    non_zero_counts = [count for count in counts if count > 0]\n",
    "    \n",
    "    if non_zero_windows:  # Check if there are any non-zero word counts\n",
    "        # Determine the actual year range for the legend label\n",
    "        first_year = non_zero_windows[0]\n",
    "        last_year = non_zero_windows[-1]\n",
    "        # Adjust for RSTA: ensure it starts from 1887\n",
    "        if pub_type == 'rsta':\n",
    "            first_year = max(first_year, 1887)\n",
    "\n",
    "        if pub_type == 'rstb':\n",
    "            first_year = max(first_year, 1887)\n",
    "        \n",
    "        fig.add_trace(go.Scatter(\n",
    "            x=non_zero_windows,\n",
    "            y=non_zero_counts,\n",
    "            mode='markers+lines',\n",
    "            name=f'<b>{details[\"name\"]} ({first_year}-{last_year})</b>',\n",
    "            marker=dict(\n",
    "                size=10,\n",
    "                color=details['color'],\n",
    "                line=dict(width=2, color='black')\n",
    "            ),\n",
    "            text=[f'Window Start: {window}<br>Total Words: {count}' for window, count in zip(non_zero_windows, non_zero_counts)],\n",
    "            hoverinfo='text'\n",
    "        ))\n",
    "\n",
    "# Update layout with enhanced design\n",
    "fig.update_layout(\n",
    "    title='<b>Total Words per 10-Year Window by Royal Society Publication Type (1665-1958)<b>',\n",
    "    xaxis_title='<b>Window Start Year<b>',\n",
    "    yaxis_title='<b>Total Words</b>',\n",
    "    template='plotly_white',\n",
    "    width=1200,  \n",
    "    height=600,\n",
    "    font=dict(family='Arial, sans-serif'),\n",
    "    legend=dict(\n",
    "        orientation='h',\n",
    "        yanchor='bottom',\n",
    "        y=1.02,\n",
    "        xanchor='center',\n",
    "        x=0.5,\n",
    "        font=dict(size=14, weight='bold')\n",
    "    ),\n",
    "    plot_bgcolor='rgba(240,240,240,0.5)',  # Light gray background\n",
    "    margin=dict(t=100, b=50, l=50, r=50)\n",
    ")\n",
    "\n",
    "# Customize x-axis to show only integer ticks\n",
    "fig.update_xaxes(\n",
    "    tickmode='linear',\n",
    "    tick0=1665,\n",
    "    dtick=10,\n",
    "    tickfont=dict(size=14)\n",
    ")\n",
    "\n",
    "# Customize y-axis with comma-separated thousands\n",
    "fig.update_yaxes(\n",
    "    tickformat=',',\n",
    "    title_font=dict(size=14),  # Increase the font size here\n",
    "    title_text='<b>Total Words</b>'\n",
    ")\n",
    "\n",
    "# Show the plot\n",
    "fig.show()\n",
    "fig.write_html(\"../extra_plots/royal_society_word_counts_10_year_windows_split.html\")\n"
   ]
  },
  {
   "cell_type": "code",
   "execution_count": 100,
   "metadata": {},
   "outputs": [
    {
     "name": "stdout",
     "output_type": "stream",
     "text": [
      "Counting words in year windows...\n"
     ]
    },
    {
     "name": "stderr",
     "output_type": "stream",
     "text": [
      "  0%|          | 67/18194 [00:04<21:15, 14.22it/s]\n"
     ]
    },
    {
     "ename": "KeyboardInterrupt",
     "evalue": "",
     "output_type": "error",
     "traceback": [
      "\u001b[1;31m---------------------------------------------------------------------------\u001b[0m",
      "\u001b[1;31mKeyboardInterrupt\u001b[0m                         Traceback (most recent call last)",
      "Cell \u001b[1;32mIn[100], line 84\u001b[0m\n\u001b[0;32m     77\u001b[0m text_dirs \u001b[38;5;241m=\u001b[39m [\n\u001b[0;32m     78\u001b[0m     \u001b[38;5;124mr\u001b[39m\u001b[38;5;124m\"\u001b[39m\u001b[38;5;124mD:\u001b[39m\u001b[38;5;124m\\\u001b[39m\u001b[38;5;124mFact_fiction_corpus\u001b[39m\u001b[38;5;124m\\\u001b[39m\u001b[38;5;124mtexts\u001b[39m\u001b[38;5;124m\\\u001b[39m\u001b[38;5;124mroyal society\u001b[39m\u001b[38;5;124m\\\u001b[39m\u001b[38;5;124mtxt_rstb\u001b[39m\u001b[38;5;124m\"\u001b[39m,\n\u001b[0;32m     79\u001b[0m     \u001b[38;5;124mr\u001b[39m\u001b[38;5;124m\"\u001b[39m\u001b[38;5;124mD:\u001b[39m\u001b[38;5;124m\\\u001b[39m\u001b[38;5;124mFact_fiction_corpus\u001b[39m\u001b[38;5;124m\\\u001b[39m\u001b[38;5;124mtexts\u001b[39m\u001b[38;5;124m\\\u001b[39m\u001b[38;5;124mroyal society\u001b[39m\u001b[38;5;124m\\\u001b[39m\u001b[38;5;124mtxt_rstl\u001b[39m\u001b[38;5;124m\"\u001b[39m, \n\u001b[0;32m     80\u001b[0m     \u001b[38;5;124mr\u001b[39m\u001b[38;5;124m\"\u001b[39m\u001b[38;5;124mD:\u001b[39m\u001b[38;5;124m\\\u001b[39m\u001b[38;5;124mFact_fiction_corpus\u001b[39m\u001b[38;5;124m\\\u001b[39m\u001b[38;5;124mtexts\u001b[39m\u001b[38;5;124m\\\u001b[39m\u001b[38;5;124mroyal society\u001b[39m\u001b[38;5;124m\\\u001b[39m\u001b[38;5;124mtxt_rsta\u001b[39m\u001b[38;5;124m\"\u001b[39m\n\u001b[0;32m     81\u001b[0m ]\n\u001b[0;32m     83\u001b[0m \u001b[38;5;66;03m# Count words for the historical period\u001b[39;00m\n\u001b[1;32m---> 84\u001b[0m historical_word_counts \u001b[38;5;241m=\u001b[39m \u001b[43mcount_words_in_10_year_windows\u001b[49m\u001b[43m(\u001b[49m\n\u001b[0;32m     85\u001b[0m \u001b[43m    \u001b[49m\u001b[43mtext_dirs\u001b[49m\u001b[43m,\u001b[49m\n\u001b[0;32m     86\u001b[0m \u001b[43m    \u001b[49m\u001b[43mstart_year\u001b[49m\u001b[38;5;241;43m=\u001b[39;49m\u001b[38;5;241;43m1665\u001b[39;49m\u001b[43m,\u001b[49m\n\u001b[0;32m     87\u001b[0m \u001b[43m    \u001b[49m\u001b[43mend_year\u001b[49m\u001b[38;5;241;43m=\u001b[39;49m\u001b[38;5;241;43m1958\u001b[39;49m\n\u001b[0;32m     88\u001b[0m \u001b[43m)\u001b[49m\n\u001b[0;32m     90\u001b[0m \u001b[38;5;66;03m# Create the interactive plot with combined word counts\u001b[39;00m\n\u001b[0;32m     91\u001b[0m fig \u001b[38;5;241m=\u001b[39m go\u001b[38;5;241m.\u001b[39mFigure()\n",
      "Cell \u001b[1;32mIn[100], line 59\u001b[0m, in \u001b[0;36mcount_words_in_10_year_windows\u001b[1;34m(text_dirs, start_year, end_year)\u001b[0m\n\u001b[0;32m     56\u001b[0m     year \u001b[38;5;241m=\u001b[39m extract_year_from_filename(os\u001b[38;5;241m.\u001b[39mpath\u001b[38;5;241m.\u001b[39mbasename(file_path))\n\u001b[0;32m     58\u001b[0m     \u001b[38;5;28;01mif\u001b[39;00m year \u001b[38;5;129;01mand\u001b[39;00m start_year \u001b[38;5;241m<\u001b[39m\u001b[38;5;241m=\u001b[39m year \u001b[38;5;241m<\u001b[39m\u001b[38;5;241m=\u001b[39m end_year:\n\u001b[1;32m---> 59\u001b[0m         word_count \u001b[38;5;241m=\u001b[39m \u001b[43mcount_words_in_file\u001b[49m\u001b[43m(\u001b[49m\u001b[43mfile_path\u001b[49m\u001b[43m)\u001b[49m\n\u001b[0;32m     60\u001b[0m         word_counts[year] \u001b[38;5;241m+\u001b[39m\u001b[38;5;241m=\u001b[39m word_count\n\u001b[0;32m     62\u001b[0m \u001b[38;5;66;03m# Aggregate words into 10-year windows\u001b[39;00m\n",
      "Cell \u001b[1;32mIn[100], line 22\u001b[0m, in \u001b[0;36mcount_words_in_file\u001b[1;34m(file_path)\u001b[0m\n\u001b[0;32m     20\u001b[0m \u001b[38;5;28;01mwith\u001b[39;00m \u001b[38;5;28mopen\u001b[39m(file_path, \u001b[38;5;124m'\u001b[39m\u001b[38;5;124mr\u001b[39m\u001b[38;5;124m'\u001b[39m, encoding\u001b[38;5;241m=\u001b[39m\u001b[38;5;124m'\u001b[39m\u001b[38;5;124mutf-8\u001b[39m\u001b[38;5;124m'\u001b[39m) \u001b[38;5;28;01mas\u001b[39;00m f:\n\u001b[0;32m     21\u001b[0m     text \u001b[38;5;241m=\u001b[39m f\u001b[38;5;241m.\u001b[39mread()\n\u001b[1;32m---> 22\u001b[0m tokens \u001b[38;5;241m=\u001b[39m \u001b[43mword_tokenize\u001b[49m\u001b[43m(\u001b[49m\u001b[43mtext\u001b[49m\u001b[38;5;241;43m.\u001b[39;49m\u001b[43mlower\u001b[49m\u001b[43m(\u001b[49m\u001b[43m)\u001b[49m\u001b[43m)\u001b[49m\n\u001b[0;32m     23\u001b[0m \u001b[38;5;28;01mreturn\u001b[39;00m \u001b[38;5;28mlen\u001b[39m([token \u001b[38;5;28;01mfor\u001b[39;00m token \u001b[38;5;129;01min\u001b[39;00m tokens \u001b[38;5;28;01mif\u001b[39;00m token\u001b[38;5;241m.\u001b[39misalpha() \u001b[38;5;129;01mand\u001b[39;00m token \u001b[38;5;129;01mnot\u001b[39;00m \u001b[38;5;129;01min\u001b[39;00m string\u001b[38;5;241m.\u001b[39mpunctuation])\n",
      "File \u001b[1;32mc:\\Users\\Igiba\\.pyenv\\pyenv-win\\versions\\3.9.10\\lib\\site-packages\\nltk\\tokenize\\__init__.py:143\u001b[0m, in \u001b[0;36mword_tokenize\u001b[1;34m(text, language, preserve_line)\u001b[0m\n\u001b[0;32m    128\u001b[0m \u001b[38;5;250m\u001b[39m\u001b[38;5;124;03m\"\"\"\u001b[39;00m\n\u001b[0;32m    129\u001b[0m \u001b[38;5;124;03mReturn a tokenized copy of *text*,\u001b[39;00m\n\u001b[0;32m    130\u001b[0m \u001b[38;5;124;03musing NLTK's recommended word tokenizer\u001b[39;00m\n\u001b[1;32m   (...)\u001b[0m\n\u001b[0;32m    140\u001b[0m \u001b[38;5;124;03m:type preserve_line: bool\u001b[39;00m\n\u001b[0;32m    141\u001b[0m \u001b[38;5;124;03m\"\"\"\u001b[39;00m\n\u001b[0;32m    142\u001b[0m sentences \u001b[38;5;241m=\u001b[39m [text] \u001b[38;5;28;01mif\u001b[39;00m preserve_line \u001b[38;5;28;01melse\u001b[39;00m sent_tokenize(text, language)\n\u001b[1;32m--> 143\u001b[0m \u001b[38;5;28;01mreturn\u001b[39;00m [\n\u001b[0;32m    144\u001b[0m     token \u001b[38;5;28;01mfor\u001b[39;00m sent \u001b[38;5;129;01min\u001b[39;00m sentences \u001b[38;5;28;01mfor\u001b[39;00m token \u001b[38;5;129;01min\u001b[39;00m _treebank_word_tokenizer\u001b[38;5;241m.\u001b[39mtokenize(sent)\n\u001b[0;32m    145\u001b[0m ]\n",
      "File \u001b[1;32mc:\\Users\\Igiba\\.pyenv\\pyenv-win\\versions\\3.9.10\\lib\\site-packages\\nltk\\tokenize\\__init__.py:144\u001b[0m, in \u001b[0;36m<listcomp>\u001b[1;34m(.0)\u001b[0m\n\u001b[0;32m    128\u001b[0m \u001b[38;5;250m\u001b[39m\u001b[38;5;124;03m\"\"\"\u001b[39;00m\n\u001b[0;32m    129\u001b[0m \u001b[38;5;124;03mReturn a tokenized copy of *text*,\u001b[39;00m\n\u001b[0;32m    130\u001b[0m \u001b[38;5;124;03musing NLTK's recommended word tokenizer\u001b[39;00m\n\u001b[1;32m   (...)\u001b[0m\n\u001b[0;32m    140\u001b[0m \u001b[38;5;124;03m:type preserve_line: bool\u001b[39;00m\n\u001b[0;32m    141\u001b[0m \u001b[38;5;124;03m\"\"\"\u001b[39;00m\n\u001b[0;32m    142\u001b[0m sentences \u001b[38;5;241m=\u001b[39m [text] \u001b[38;5;28;01mif\u001b[39;00m preserve_line \u001b[38;5;28;01melse\u001b[39;00m sent_tokenize(text, language)\n\u001b[0;32m    143\u001b[0m \u001b[38;5;28;01mreturn\u001b[39;00m [\n\u001b[1;32m--> 144\u001b[0m     token \u001b[38;5;28;01mfor\u001b[39;00m sent \u001b[38;5;129;01min\u001b[39;00m sentences \u001b[38;5;28;01mfor\u001b[39;00m token \u001b[38;5;129;01min\u001b[39;00m \u001b[43m_treebank_word_tokenizer\u001b[49m\u001b[38;5;241;43m.\u001b[39;49m\u001b[43mtokenize\u001b[49m\u001b[43m(\u001b[49m\u001b[43msent\u001b[49m\u001b[43m)\u001b[49m\n\u001b[0;32m    145\u001b[0m ]\n",
      "File \u001b[1;32mc:\\Users\\Igiba\\.pyenv\\pyenv-win\\versions\\3.9.10\\lib\\site-packages\\nltk\\tokenize\\destructive.py:182\u001b[0m, in \u001b[0;36mNLTKWordTokenizer.tokenize\u001b[1;34m(self, text, convert_parentheses, return_str)\u001b[0m\n\u001b[0;32m    179\u001b[0m     text \u001b[38;5;241m=\u001b[39m regexp\u001b[38;5;241m.\u001b[39msub(substitution, text)\n\u001b[0;32m    181\u001b[0m \u001b[38;5;28;01mfor\u001b[39;00m regexp \u001b[38;5;129;01min\u001b[39;00m \u001b[38;5;28mself\u001b[39m\u001b[38;5;241m.\u001b[39mCONTRACTIONS2:\n\u001b[1;32m--> 182\u001b[0m     text \u001b[38;5;241m=\u001b[39m regexp\u001b[38;5;241m.\u001b[39msub(\u001b[38;5;124mr\u001b[39m\u001b[38;5;124m\"\u001b[39m\u001b[38;5;124m \u001b[39m\u001b[38;5;124m\\\u001b[39m\u001b[38;5;124m1 \u001b[39m\u001b[38;5;124m\\\u001b[39m\u001b[38;5;124m2 \u001b[39m\u001b[38;5;124m\"\u001b[39m, text)\n\u001b[0;32m    183\u001b[0m \u001b[38;5;28;01mfor\u001b[39;00m regexp \u001b[38;5;129;01min\u001b[39;00m \u001b[38;5;28mself\u001b[39m\u001b[38;5;241m.\u001b[39mCONTRACTIONS3:\n\u001b[0;32m    184\u001b[0m     text \u001b[38;5;241m=\u001b[39m regexp\u001b[38;5;241m.\u001b[39msub(\u001b[38;5;124mr\u001b[39m\u001b[38;5;124m\"\u001b[39m\u001b[38;5;124m \u001b[39m\u001b[38;5;124m\\\u001b[39m\u001b[38;5;124m1 \u001b[39m\u001b[38;5;124m\\\u001b[39m\u001b[38;5;124m2 \u001b[39m\u001b[38;5;124m\"\u001b[39m, text)\n",
      "\u001b[1;31mKeyboardInterrupt\u001b[0m: "
     ]
    }
   ],
   "source": [
    "import pandas as pd\n",
    "import plotly.graph_objects as go\n",
    "from collections import defaultdict\n",
    "import os\n",
    "import re\n",
    "from tqdm import tqdm\n",
    "import string\n",
    "from nltk.tokenize import word_tokenize\n",
    "\n",
    "def count_words_in_file(file_path):\n",
    "    \"\"\"\n",
    "    Count the number of words in a text file.\n",
    "    \n",
    "    Args:\n",
    "        file_path (str): Path to the text file\n",
    "    \n",
    "    Returns:\n",
    "        int: Number of words in the file\n",
    "    \"\"\"\n",
    "    with open(file_path, 'r', encoding='utf-8') as f:\n",
    "        text = f.read()\n",
    "    tokens = word_tokenize(text.lower())\n",
    "    return len([token for token in tokens if token.isalpha() and token not in string.punctuation])\n",
    "\n",
    "def count_words_in_10_year_windows(text_dirs, start_year, end_year):\n",
    "    \"\"\"\n",
    "    Count words in 10-year windows across multiple directories.\n",
    "    \n",
    "    Args:\n",
    "        text_dirs (list): List of directory paths\n",
    "        start_year (int): Starting year of analysis\n",
    "        end_year (int): Ending year of analysis\n",
    "    \n",
    "    Returns:\n",
    "        dict: Dictionary of word counts per 10-year window\n",
    "    \"\"\"\n",
    "    def extract_year_from_filename(filename):\n",
    "        \"\"\"Extract year from filename\"\"\"\n",
    "        match = re.search(r'rst[bla]?_?(\\d{4})', filename)\n",
    "        return int(match.group(1)) if match else None\n",
    "    \n",
    "    # Dictionary to store total word counts (all publication types combined)\n",
    "    word_counts = defaultdict(int)\n",
    "    \n",
    "    print(\"Counting words in year windows...\")\n",
    "    \n",
    "    # Collect file paths\n",
    "    file_paths = []\n",
    "    for dir in text_dirs:\n",
    "        for f in os.listdir(dir):\n",
    "            if f.endswith('.txt'):\n",
    "                file_paths.append(os.path.join(dir, f))\n",
    "    \n",
    "    # Count words for each file\n",
    "    for file_path in tqdm(file_paths):\n",
    "        year = extract_year_from_filename(os.path.basename(file_path))\n",
    "        \n",
    "        if year and start_year <= year <= end_year:\n",
    "            word_count = count_words_in_file(file_path)\n",
    "            word_counts[year] += word_count\n",
    "    \n",
    "    # Aggregate words into 10-year windows\n",
    "    words_per_window = defaultdict(int)\n",
    "    \n",
    "    for year in range(start_year, end_year - 9):\n",
    "        window_start = year\n",
    "        window_end = year + 9\n",
    "        total_words = sum(\n",
    "            word_counts.get(y, 0) \n",
    "            for y in range(window_start, window_end + 1)\n",
    "        )\n",
    "        words_per_window[window_start] = total_words\n",
    "    \n",
    "    return words_per_window\n",
    "\n",
    "# Directories for Royal Society publications\n",
    "text_dirs = [\n",
    "    r\"D:\\Fact_fiction_corpus\\texts\\royal society\\txt_rstb\",\n",
    "    r\"D:\\Fact_fiction_corpus\\texts\\royal society\\txt_rstl\", \n",
    "    r\"D:\\Fact_fiction_corpus\\texts\\royal society\\txt_rsta\"\n",
    "]\n",
    "\n",
    "# Count words for the historical period\n",
    "historical_word_counts = count_words_in_10_year_windows(\n",
    "    text_dirs,\n",
    "    start_year=1665,\n",
    "    end_year=1958\n",
    ")\n",
    "\n",
    "# Create the interactive plot with combined word counts\n",
    "fig = go.Figure()\n",
    "\n",
    "# Prepare data for the single plot (combined word counts across all publications)\n",
    "windows = list(historical_word_counts.keys())\n",
    "counts = list(historical_word_counts.values())\n",
    "\n",
    "# Only plot non-zero word counts\n",
    "non_zero_windows = [window for window, count in zip(windows, counts) if count > 0]\n",
    "non_zero_counts = [count for count in counts if count > 0]\n",
    "\n",
    "if non_zero_windows:  # Check if there are any non-zero word counts\n",
    "    # Determine the actual year range for the legend label\n",
    "    first_year = non_zero_windows[0]\n",
    "    last_year = non_zero_windows[-1]\n",
    "\n",
    "    fig.add_trace(go.Scatter(\n",
    "        x=non_zero_windows,\n",
    "        y=non_zero_counts,\n",
    "        mode='markers+lines',\n",
    "        name=f'<b>Total Word Count ({first_year}-{last_year})</b>',\n",
    "        marker=dict(\n",
    "            size=10,\n",
    "            color='purple',  # Color for the combined line\n",
    "            line=dict(width=2, color='black')\n",
    "        ),\n",
    "        text=[f'Window Start: {window}<br>Total Words: {count}' for window, count in zip(non_zero_windows, non_zero_counts)],\n",
    "        hoverinfo='text'\n",
    "    ))\n",
    "\n",
    "# Update layout with enhanced design\n",
    "fig.update_layout(\n",
    "    title='<b>Total Words per 10-Year Window for All Royal Society Publications (1665-1958)<b>',\n",
    "    xaxis_title='<b>Window Start Year<b>',\n",
    "    yaxis_title='<b>Total Words</b>',\n",
    "    template='plotly_white',\n",
    "    width=1200,  \n",
    "    height=600,\n",
    "    font=dict(family='Arial, sans-serif'),\n",
    "    legend=dict(\n",
    "        orientation='h',\n",
    "        yanchor='bottom',\n",
    "        y=1.02,\n",
    "        xanchor='center',\n",
    "        x=0.5,\n",
    "        font=dict(size=14, weight='bold')\n",
    "    ),\n",
    "    plot_bgcolor='rgba(240,240,240,0.5)',  # Light gray background\n",
    "    margin=dict(t=100, b=50, l=50, r=50)\n",
    ")\n",
    "\n",
    "# Customize x-axis to show only integer ticks\n",
    "fig.update_xaxes(\n",
    "    tickmode='linear',\n",
    "    tick0=1665,\n",
    "    dtick=10,\n",
    "    tickfont=dict(size=14)\n",
    ")\n",
    "\n",
    "# Customize y-axis with comma-separated thousands\n",
    "fig.update_yaxes(\n",
    "    tickformat=',',\n",
    "    title_font=dict(size=14),  # Increase the font size here\n",
    "    title_text='<b>Total Words</b>'\n",
    ")\n",
    "\n",
    "# Show the plot\n",
    "fig.show()\n",
    "fig.write_html(\"../extra_plots/royal_society_combined_word_counts_10_year_windows.html\")\n"
   ]
  },
  {
   "cell_type": "code",
   "execution_count": 4,
   "metadata": {},
   "outputs": [
    {
     "data": {
      "application/vnd.plotly.v1+json": {
       "config": {
        "plotlyServerURL": "https://plot.ly"
       },
       "data": [
        {
         "hovertemplate": "Year Range: %{x}<br>%{y}<extra></extra>",
         "marker": {
          "color": "blue"
         },
         "text": [
          1,
          1,
          1,
          1,
          1,
          1,
          1,
          1,
          1,
          0,
          1,
          1,
          1,
          1,
          1,
          1,
          1,
          1,
          1,
          1,
          1,
          0,
          0,
          0,
          0,
          0,
          0,
          0,
          1,
          1,
          0,
          0,
          0,
          0,
          1,
          1,
          1,
          1,
          1,
          1,
          1,
          1,
          1,
          1,
          0,
          0,
          0,
          0,
          1,
          1,
          0,
          0,
          0,
          0,
          0,
          0,
          0,
          0,
          0,
          0,
          0,
          0,
          0,
          0,
          0,
          0,
          0,
          0,
          0,
          0,
          0,
          0,
          0,
          0,
          0,
          1,
          1,
          1,
          0,
          0,
          0,
          0,
          0,
          0,
          0,
          1,
          1,
          0,
          0,
          0,
          0,
          0,
          0,
          0,
          1,
          1,
          1,
          1,
          1,
          0,
          0,
          0,
          0,
          0,
          0,
          0,
          1,
          2,
          1,
          1,
          0,
          0,
          0,
          0,
          0,
          0,
          0,
          0,
          0,
          1,
          1,
          1,
          2,
          6,
          7,
          9,
          8,
          14,
          14,
          19,
          20,
          20,
          23,
          22,
          27,
          28,
          31,
          29,
          31,
          27,
          26,
          26,
          27,
          22,
          13,
          19,
          18,
          18,
          15,
          14,
          14,
          14,
          19,
          21,
          22,
          25,
          25,
          25,
          33,
          43,
          43,
          43,
          46,
          47,
          55,
          63,
          78,
          79,
          74,
          68,
          60,
          55,
          48,
          48,
          44,
          45,
          52,
          61,
          64,
          74,
          76,
          68,
          73,
          81,
          105,
          121,
          101,
          102,
          114,
          101,
          111,
          117,
          128,
          122,
          107,
          101,
          98,
          93,
          73,
          78,
          77,
          84,
          91,
          104,
          88,
          94,
          126,
          121,
          144,
          149,
          135,
          127,
          128,
          121,
          135,
          123,
          96,
          118,
          110,
          128,
          163,
          178,
          199,
          201,
          213,
          221,
          254,
          253,
          237,
          235,
          221,
          199,
          216,
          178,
          193,
          201,
          144,
          145,
          156,
          145,
          154,
          152,
          122,
          122,
          117,
          103,
          123,
          133,
          120,
          129,
          100,
          97,
          79,
          95,
          85,
          99,
          91,
          86,
          128,
          112,
          144,
          142,
          147,
          150,
          161,
          161,
          154,
          131,
          90,
          83,
          62,
          42,
          42,
          34,
          35,
          34,
          42,
          65,
          75,
          90,
          98,
          97,
          91,
          71,
          53,
          37,
          19,
          12,
          5,
          0,
          0,
          0,
          0,
          0,
          0,
          0,
          0,
          0,
          0,
          0,
          0,
          0,
          0,
          0,
          0,
          0,
          0,
          0,
          0,
          0,
          0,
          0,
          0,
          0,
          0,
          0,
          0,
          0,
          0,
          0,
          0,
          0,
          0,
          0,
          0,
          0,
          0,
          1,
          1,
          1,
          1,
          1,
          1,
          1,
          3,
          4,
          12,
          22,
          42,
          77,
          194,
          328,
          453,
          584,
          662,
          828,
          940,
          1040,
          1063,
          1002,
          856
         ],
         "textposition": "auto",
         "type": "bar",
         "x": [
          "1665-1674",
          "1666-1675",
          "1667-1676",
          "1668-1677",
          "1669-1678",
          "1670-1679",
          "1671-1680",
          "1672-1681",
          "1673-1682",
          "1674-1683",
          "1675-1684",
          "1676-1685",
          "1677-1686",
          "1678-1687",
          "1679-1688",
          "1680-1689",
          "1681-1690",
          "1682-1691",
          "1683-1692",
          "1684-1693",
          "1685-1694",
          "1686-1695",
          "1687-1696",
          "1688-1697",
          "1689-1698",
          "1690-1699",
          "1691-1700",
          "1692-1701",
          "1693-1702",
          "1694-1703",
          "1695-1704",
          "1696-1705",
          "1697-1706",
          "1698-1707",
          "1699-1708",
          "1700-1709",
          "1701-1710",
          "1702-1711",
          "1703-1712",
          "1704-1713",
          "1705-1714",
          "1706-1715",
          "1707-1716",
          "1708-1717",
          "1709-1718",
          "1710-1719",
          "1711-1720",
          "1712-1721",
          "1713-1722",
          "1714-1723",
          "1715-1724",
          "1716-1725",
          "1717-1726",
          "1718-1727",
          "1719-1728",
          "1720-1729",
          "1721-1730",
          "1722-1731",
          "1723-1732",
          "1724-1733",
          "1725-1734",
          "1726-1735",
          "1727-1736",
          "1728-1737",
          "1729-1738",
          "1730-1739",
          "1731-1740",
          "1732-1741",
          "1733-1742",
          "1734-1743",
          "1735-1744",
          "1736-1745",
          "1737-1746",
          "1738-1747",
          "1739-1748",
          "1740-1749",
          "1741-1750",
          "1742-1751",
          "1743-1752",
          "1744-1753",
          "1745-1754",
          "1746-1755",
          "1747-1756",
          "1748-1757",
          "1749-1758",
          "1750-1759",
          "1751-1760",
          "1752-1761",
          "1753-1762",
          "1754-1763",
          "1755-1764",
          "1756-1765",
          "1757-1766",
          "1758-1767",
          "1759-1768",
          "1760-1769",
          "1761-1770",
          "1762-1771",
          "1763-1772",
          "1764-1773",
          "1765-1774",
          "1766-1775",
          "1767-1776",
          "1768-1777",
          "1769-1778",
          "1770-1779",
          "1771-1780",
          "1772-1781",
          "1773-1782",
          "1774-1783",
          "1775-1784",
          "1776-1785",
          "1777-1786",
          "1778-1787",
          "1779-1788",
          "1780-1789",
          "1781-1790",
          "1782-1791",
          "1783-1792",
          "1784-1793",
          "1785-1794",
          "1786-1795",
          "1787-1796",
          "1788-1797",
          "1789-1798",
          "1790-1799",
          "1791-1800",
          "1792-1801",
          "1793-1802",
          "1794-1803",
          "1795-1804",
          "1796-1805",
          "1797-1806",
          "1798-1807",
          "1799-1808",
          "1800-1809",
          "1801-1810",
          "1802-1811",
          "1803-1812",
          "1804-1813",
          "1805-1814",
          "1806-1815",
          "1807-1816",
          "1808-1817",
          "1809-1818",
          "1810-1819",
          "1811-1820",
          "1812-1821",
          "1813-1822",
          "1814-1823",
          "1815-1824",
          "1816-1825",
          "1817-1826",
          "1818-1827",
          "1819-1828",
          "1820-1829",
          "1821-1830",
          "1822-1831",
          "1823-1832",
          "1824-1833",
          "1825-1834",
          "1826-1835",
          "1827-1836",
          "1828-1837",
          "1829-1838",
          "1830-1839",
          "1831-1840",
          "1832-1841",
          "1833-1842",
          "1834-1843",
          "1835-1844",
          "1836-1845",
          "1837-1846",
          "1838-1847",
          "1839-1848",
          "1840-1849",
          "1841-1850",
          "1842-1851",
          "1843-1852",
          "1844-1853",
          "1845-1854",
          "1846-1855",
          "1847-1856",
          "1848-1857",
          "1849-1858",
          "1850-1859",
          "1851-1860",
          "1852-1861",
          "1853-1862",
          "1854-1863",
          "1855-1864",
          "1856-1865",
          "1857-1866",
          "1858-1867",
          "1859-1868",
          "1860-1869",
          "1861-1870",
          "1862-1871",
          "1863-1872",
          "1864-1873",
          "1865-1874",
          "1866-1875",
          "1867-1876",
          "1868-1877",
          "1869-1878",
          "1870-1879",
          "1871-1880",
          "1872-1881",
          "1873-1882",
          "1874-1883",
          "1875-1884",
          "1876-1885",
          "1877-1886",
          "1878-1887",
          "1879-1888",
          "1880-1889",
          "1881-1890",
          "1882-1891",
          "1883-1892",
          "1884-1893",
          "1885-1894",
          "1886-1895",
          "1887-1896",
          "1888-1897",
          "1889-1898",
          "1890-1899",
          "1891-1900",
          "1892-1901",
          "1893-1902",
          "1894-1903",
          "1895-1904",
          "1896-1905",
          "1897-1906",
          "1898-1907",
          "1899-1908",
          "1900-1909",
          "1901-1910",
          "1902-1911",
          "1903-1912",
          "1904-1913",
          "1905-1914",
          "1906-1915",
          "1907-1916",
          "1908-1917",
          "1909-1918",
          "1910-1919",
          "1911-1920",
          "1912-1921",
          "1913-1922",
          "1914-1923",
          "1915-1924",
          "1916-1925",
          "1917-1926",
          "1918-1927",
          "1919-1928",
          "1920-1929",
          "1921-1930",
          "1922-1931",
          "1923-1932",
          "1924-1933",
          "1925-1934",
          "1926-1935",
          "1927-1936",
          "1928-1937",
          "1929-1938",
          "1930-1939",
          "1931-1940",
          "1932-1941",
          "1933-1942",
          "1934-1943",
          "1935-1944",
          "1936-1945",
          "1937-1946",
          "1938-1947",
          "1939-1948",
          "1940-1949",
          "1941-1950",
          "1942-1951",
          "1943-1952",
          "1944-1953",
          "1945-1954",
          "1946-1955",
          "1947-1956",
          "1948-1957",
          "1949-1958",
          "1950-1959",
          "1951-1960",
          "1952-1961",
          "1953-1962",
          "1954-1963",
          "1955-1964",
          "1956-1965",
          "1957-1966",
          "1958-1967",
          "1959-1968",
          "1960-1969",
          "1961-1970",
          "1962-1971",
          "1963-1972",
          "1964-1973",
          "1965-1974",
          "1966-1975",
          "1967-1976",
          "1968-1977",
          "1969-1978",
          "1970-1979",
          "1971-1980",
          "1972-1981",
          "1973-1982",
          "1974-1983",
          "1975-1984",
          "1976-1985",
          "1977-1986",
          "1978-1987",
          "1979-1988",
          "1980-1989",
          "1981-1990",
          "1982-1991",
          "1983-1992",
          "1984-1993",
          "1985-1994",
          "1986-1995",
          "1987-1996",
          "1988-1997",
          "1989-1998",
          "1990-1999",
          "1991-2000",
          "1992-2001",
          "1993-2002",
          "1994-2003",
          "1995-2004",
          "1996-2005",
          "1997-2006",
          "1998-2007",
          "1999-2008",
          "2000-2009",
          "2001-2010",
          "2002-2011",
          "2003-2012",
          "2004-2013",
          "2005-2014",
          "2006-2015",
          "2007-2016",
          "2008-2017",
          "2009-2018",
          "2010-2019",
          "2011-2020",
          "2012-2021",
          "2013-2022",
          "2014-2023",
          "2015-2024"
         ],
         "y": [
          1,
          1,
          1,
          1,
          1,
          1,
          1,
          1,
          1,
          0,
          1,
          1,
          1,
          1,
          1,
          1,
          1,
          1,
          1,
          1,
          1,
          0,
          0,
          0,
          0,
          0,
          0,
          0,
          1,
          1,
          0,
          0,
          0,
          0,
          1,
          1,
          1,
          1,
          1,
          1,
          1,
          1,
          1,
          1,
          0,
          0,
          0,
          0,
          1,
          1,
          0,
          0,
          0,
          0,
          0,
          0,
          0,
          0,
          0,
          0,
          0,
          0,
          0,
          0,
          0,
          0,
          0,
          0,
          0,
          0,
          0,
          0,
          0,
          0,
          0,
          1,
          1,
          1,
          0,
          0,
          0,
          0,
          0,
          0,
          0,
          1,
          1,
          0,
          0,
          0,
          0,
          0,
          0,
          0,
          1,
          1,
          1,
          1,
          1,
          0,
          0,
          0,
          0,
          0,
          0,
          0,
          1,
          2,
          1,
          1,
          0,
          0,
          0,
          0,
          0,
          0,
          0,
          0,
          0,
          1,
          1,
          1,
          2,
          6,
          7,
          9,
          8,
          14,
          14,
          19,
          20,
          20,
          23,
          22,
          27,
          28,
          31,
          29,
          31,
          27,
          26,
          26,
          27,
          22,
          13,
          19,
          18,
          18,
          15,
          14,
          14,
          14,
          19,
          21,
          22,
          25,
          25,
          25,
          33,
          43,
          43,
          43,
          46,
          47,
          55,
          63,
          78,
          79,
          74,
          68,
          60,
          55,
          48,
          48,
          44,
          45,
          52,
          61,
          64,
          74,
          76,
          68,
          73,
          81,
          105,
          121,
          101,
          102,
          114,
          101,
          111,
          117,
          128,
          122,
          107,
          101,
          98,
          93,
          73,
          78,
          77,
          84,
          91,
          104,
          88,
          94,
          126,
          121,
          144,
          149,
          135,
          127,
          128,
          121,
          135,
          123,
          96,
          118,
          110,
          128,
          163,
          178,
          199,
          201,
          213,
          221,
          254,
          253,
          237,
          235,
          221,
          199,
          216,
          178,
          193,
          201,
          144,
          145,
          156,
          145,
          154,
          152,
          122,
          122,
          117,
          103,
          123,
          133,
          120,
          129,
          100,
          97,
          79,
          95,
          85,
          99,
          91,
          86,
          128,
          112,
          144,
          142,
          147,
          150,
          161,
          161,
          154,
          131,
          90,
          83,
          62,
          42,
          42,
          34,
          35,
          34,
          42,
          65,
          75,
          90,
          98,
          97,
          91,
          71,
          53,
          37,
          19,
          12,
          5,
          0,
          0,
          0,
          0,
          0,
          0,
          0,
          0,
          0,
          0,
          0,
          0,
          0,
          0,
          0,
          0,
          0,
          0,
          0,
          0,
          0,
          0,
          0,
          0,
          0,
          0,
          0,
          0,
          0,
          0,
          0,
          0,
          0,
          0,
          0,
          0,
          0,
          0,
          1,
          1,
          1,
          1,
          1,
          1,
          1,
          3,
          4,
          12,
          22,
          42,
          77,
          194,
          328,
          453,
          584,
          662,
          828,
          940,
          1040,
          1063,
          1002,
          856
         ]
        }
       ],
       "layout": {
        "template": {
         "data": {
          "bar": [
           {
            "error_x": {
             "color": "#2a3f5f"
            },
            "error_y": {
             "color": "#2a3f5f"
            },
            "marker": {
             "line": {
              "color": "white",
              "width": 0.5
             },
             "pattern": {
              "fillmode": "overlay",
              "size": 10,
              "solidity": 0.2
             }
            },
            "type": "bar"
           }
          ],
          "barpolar": [
           {
            "marker": {
             "line": {
              "color": "white",
              "width": 0.5
             },
             "pattern": {
              "fillmode": "overlay",
              "size": 10,
              "solidity": 0.2
             }
            },
            "type": "barpolar"
           }
          ],
          "carpet": [
           {
            "aaxis": {
             "endlinecolor": "#2a3f5f",
             "gridcolor": "#C8D4E3",
             "linecolor": "#C8D4E3",
             "minorgridcolor": "#C8D4E3",
             "startlinecolor": "#2a3f5f"
            },
            "baxis": {
             "endlinecolor": "#2a3f5f",
             "gridcolor": "#C8D4E3",
             "linecolor": "#C8D4E3",
             "minorgridcolor": "#C8D4E3",
             "startlinecolor": "#2a3f5f"
            },
            "type": "carpet"
           }
          ],
          "choropleth": [
           {
            "colorbar": {
             "outlinewidth": 0,
             "ticks": ""
            },
            "type": "choropleth"
           }
          ],
          "contour": [
           {
            "colorbar": {
             "outlinewidth": 0,
             "ticks": ""
            },
            "colorscale": [
             [
              0,
              "#0d0887"
             ],
             [
              0.1111111111111111,
              "#46039f"
             ],
             [
              0.2222222222222222,
              "#7201a8"
             ],
             [
              0.3333333333333333,
              "#9c179e"
             ],
             [
              0.4444444444444444,
              "#bd3786"
             ],
             [
              0.5555555555555556,
              "#d8576b"
             ],
             [
              0.6666666666666666,
              "#ed7953"
             ],
             [
              0.7777777777777778,
              "#fb9f3a"
             ],
             [
              0.8888888888888888,
              "#fdca26"
             ],
             [
              1,
              "#f0f921"
             ]
            ],
            "type": "contour"
           }
          ],
          "contourcarpet": [
           {
            "colorbar": {
             "outlinewidth": 0,
             "ticks": ""
            },
            "type": "contourcarpet"
           }
          ],
          "heatmap": [
           {
            "colorbar": {
             "outlinewidth": 0,
             "ticks": ""
            },
            "colorscale": [
             [
              0,
              "#0d0887"
             ],
             [
              0.1111111111111111,
              "#46039f"
             ],
             [
              0.2222222222222222,
              "#7201a8"
             ],
             [
              0.3333333333333333,
              "#9c179e"
             ],
             [
              0.4444444444444444,
              "#bd3786"
             ],
             [
              0.5555555555555556,
              "#d8576b"
             ],
             [
              0.6666666666666666,
              "#ed7953"
             ],
             [
              0.7777777777777778,
              "#fb9f3a"
             ],
             [
              0.8888888888888888,
              "#fdca26"
             ],
             [
              1,
              "#f0f921"
             ]
            ],
            "type": "heatmap"
           }
          ],
          "heatmapgl": [
           {
            "colorbar": {
             "outlinewidth": 0,
             "ticks": ""
            },
            "colorscale": [
             [
              0,
              "#0d0887"
             ],
             [
              0.1111111111111111,
              "#46039f"
             ],
             [
              0.2222222222222222,
              "#7201a8"
             ],
             [
              0.3333333333333333,
              "#9c179e"
             ],
             [
              0.4444444444444444,
              "#bd3786"
             ],
             [
              0.5555555555555556,
              "#d8576b"
             ],
             [
              0.6666666666666666,
              "#ed7953"
             ],
             [
              0.7777777777777778,
              "#fb9f3a"
             ],
             [
              0.8888888888888888,
              "#fdca26"
             ],
             [
              1,
              "#f0f921"
             ]
            ],
            "type": "heatmapgl"
           }
          ],
          "histogram": [
           {
            "marker": {
             "pattern": {
              "fillmode": "overlay",
              "size": 10,
              "solidity": 0.2
             }
            },
            "type": "histogram"
           }
          ],
          "histogram2d": [
           {
            "colorbar": {
             "outlinewidth": 0,
             "ticks": ""
            },
            "colorscale": [
             [
              0,
              "#0d0887"
             ],
             [
              0.1111111111111111,
              "#46039f"
             ],
             [
              0.2222222222222222,
              "#7201a8"
             ],
             [
              0.3333333333333333,
              "#9c179e"
             ],
             [
              0.4444444444444444,
              "#bd3786"
             ],
             [
              0.5555555555555556,
              "#d8576b"
             ],
             [
              0.6666666666666666,
              "#ed7953"
             ],
             [
              0.7777777777777778,
              "#fb9f3a"
             ],
             [
              0.8888888888888888,
              "#fdca26"
             ],
             [
              1,
              "#f0f921"
             ]
            ],
            "type": "histogram2d"
           }
          ],
          "histogram2dcontour": [
           {
            "colorbar": {
             "outlinewidth": 0,
             "ticks": ""
            },
            "colorscale": [
             [
              0,
              "#0d0887"
             ],
             [
              0.1111111111111111,
              "#46039f"
             ],
             [
              0.2222222222222222,
              "#7201a8"
             ],
             [
              0.3333333333333333,
              "#9c179e"
             ],
             [
              0.4444444444444444,
              "#bd3786"
             ],
             [
              0.5555555555555556,
              "#d8576b"
             ],
             [
              0.6666666666666666,
              "#ed7953"
             ],
             [
              0.7777777777777778,
              "#fb9f3a"
             ],
             [
              0.8888888888888888,
              "#fdca26"
             ],
             [
              1,
              "#f0f921"
             ]
            ],
            "type": "histogram2dcontour"
           }
          ],
          "mesh3d": [
           {
            "colorbar": {
             "outlinewidth": 0,
             "ticks": ""
            },
            "type": "mesh3d"
           }
          ],
          "parcoords": [
           {
            "line": {
             "colorbar": {
              "outlinewidth": 0,
              "ticks": ""
             }
            },
            "type": "parcoords"
           }
          ],
          "pie": [
           {
            "automargin": true,
            "type": "pie"
           }
          ],
          "scatter": [
           {
            "fillpattern": {
             "fillmode": "overlay",
             "size": 10,
             "solidity": 0.2
            },
            "type": "scatter"
           }
          ],
          "scatter3d": [
           {
            "line": {
             "colorbar": {
              "outlinewidth": 0,
              "ticks": ""
             }
            },
            "marker": {
             "colorbar": {
              "outlinewidth": 0,
              "ticks": ""
             }
            },
            "type": "scatter3d"
           }
          ],
          "scattercarpet": [
           {
            "marker": {
             "colorbar": {
              "outlinewidth": 0,
              "ticks": ""
             }
            },
            "type": "scattercarpet"
           }
          ],
          "scattergeo": [
           {
            "marker": {
             "colorbar": {
              "outlinewidth": 0,
              "ticks": ""
             }
            },
            "type": "scattergeo"
           }
          ],
          "scattergl": [
           {
            "marker": {
             "colorbar": {
              "outlinewidth": 0,
              "ticks": ""
             }
            },
            "type": "scattergl"
           }
          ],
          "scattermapbox": [
           {
            "marker": {
             "colorbar": {
              "outlinewidth": 0,
              "ticks": ""
             }
            },
            "type": "scattermapbox"
           }
          ],
          "scatterpolar": [
           {
            "marker": {
             "colorbar": {
              "outlinewidth": 0,
              "ticks": ""
             }
            },
            "type": "scatterpolar"
           }
          ],
          "scatterpolargl": [
           {
            "marker": {
             "colorbar": {
              "outlinewidth": 0,
              "ticks": ""
             }
            },
            "type": "scatterpolargl"
           }
          ],
          "scatterternary": [
           {
            "marker": {
             "colorbar": {
              "outlinewidth": 0,
              "ticks": ""
             }
            },
            "type": "scatterternary"
           }
          ],
          "surface": [
           {
            "colorbar": {
             "outlinewidth": 0,
             "ticks": ""
            },
            "colorscale": [
             [
              0,
              "#0d0887"
             ],
             [
              0.1111111111111111,
              "#46039f"
             ],
             [
              0.2222222222222222,
              "#7201a8"
             ],
             [
              0.3333333333333333,
              "#9c179e"
             ],
             [
              0.4444444444444444,
              "#bd3786"
             ],
             [
              0.5555555555555556,
              "#d8576b"
             ],
             [
              0.6666666666666666,
              "#ed7953"
             ],
             [
              0.7777777777777778,
              "#fb9f3a"
             ],
             [
              0.8888888888888888,
              "#fdca26"
             ],
             [
              1,
              "#f0f921"
             ]
            ],
            "type": "surface"
           }
          ],
          "table": [
           {
            "cells": {
             "fill": {
              "color": "#EBF0F8"
             },
             "line": {
              "color": "white"
             }
            },
            "header": {
             "fill": {
              "color": "#C8D4E3"
             },
             "line": {
              "color": "white"
             }
            },
            "type": "table"
           }
          ]
         },
         "layout": {
          "annotationdefaults": {
           "arrowcolor": "#2a3f5f",
           "arrowhead": 0,
           "arrowwidth": 1
          },
          "autotypenumbers": "strict",
          "coloraxis": {
           "colorbar": {
            "outlinewidth": 0,
            "ticks": ""
           }
          },
          "colorscale": {
           "diverging": [
            [
             0,
             "#8e0152"
            ],
            [
             0.1,
             "#c51b7d"
            ],
            [
             0.2,
             "#de77ae"
            ],
            [
             0.3,
             "#f1b6da"
            ],
            [
             0.4,
             "#fde0ef"
            ],
            [
             0.5,
             "#f7f7f7"
            ],
            [
             0.6,
             "#e6f5d0"
            ],
            [
             0.7,
             "#b8e186"
            ],
            [
             0.8,
             "#7fbc41"
            ],
            [
             0.9,
             "#4d9221"
            ],
            [
             1,
             "#276419"
            ]
           ],
           "sequential": [
            [
             0,
             "#0d0887"
            ],
            [
             0.1111111111111111,
             "#46039f"
            ],
            [
             0.2222222222222222,
             "#7201a8"
            ],
            [
             0.3333333333333333,
             "#9c179e"
            ],
            [
             0.4444444444444444,
             "#bd3786"
            ],
            [
             0.5555555555555556,
             "#d8576b"
            ],
            [
             0.6666666666666666,
             "#ed7953"
            ],
            [
             0.7777777777777778,
             "#fb9f3a"
            ],
            [
             0.8888888888888888,
             "#fdca26"
            ],
            [
             1,
             "#f0f921"
            ]
           ],
           "sequentialminus": [
            [
             0,
             "#0d0887"
            ],
            [
             0.1111111111111111,
             "#46039f"
            ],
            [
             0.2222222222222222,
             "#7201a8"
            ],
            [
             0.3333333333333333,
             "#9c179e"
            ],
            [
             0.4444444444444444,
             "#bd3786"
            ],
            [
             0.5555555555555556,
             "#d8576b"
            ],
            [
             0.6666666666666666,
             "#ed7953"
            ],
            [
             0.7777777777777778,
             "#fb9f3a"
            ],
            [
             0.8888888888888888,
             "#fdca26"
            ],
            [
             1,
             "#f0f921"
            ]
           ]
          },
          "colorway": [
           "#636efa",
           "#EF553B",
           "#00cc96",
           "#ab63fa",
           "#FFA15A",
           "#19d3f3",
           "#FF6692",
           "#B6E880",
           "#FF97FF",
           "#FECB52"
          ],
          "font": {
           "color": "#2a3f5f"
          },
          "geo": {
           "bgcolor": "white",
           "lakecolor": "white",
           "landcolor": "white",
           "showlakes": true,
           "showland": true,
           "subunitcolor": "#C8D4E3"
          },
          "hoverlabel": {
           "align": "left"
          },
          "hovermode": "closest",
          "mapbox": {
           "style": "light"
          },
          "paper_bgcolor": "white",
          "plot_bgcolor": "white",
          "polar": {
           "angularaxis": {
            "gridcolor": "#EBF0F8",
            "linecolor": "#EBF0F8",
            "ticks": ""
           },
           "bgcolor": "white",
           "radialaxis": {
            "gridcolor": "#EBF0F8",
            "linecolor": "#EBF0F8",
            "ticks": ""
           }
          },
          "scene": {
           "xaxis": {
            "backgroundcolor": "white",
            "gridcolor": "#DFE8F3",
            "gridwidth": 2,
            "linecolor": "#EBF0F8",
            "showbackground": true,
            "ticks": "",
            "zerolinecolor": "#EBF0F8"
           },
           "yaxis": {
            "backgroundcolor": "white",
            "gridcolor": "#DFE8F3",
            "gridwidth": 2,
            "linecolor": "#EBF0F8",
            "showbackground": true,
            "ticks": "",
            "zerolinecolor": "#EBF0F8"
           },
           "zaxis": {
            "backgroundcolor": "white",
            "gridcolor": "#DFE8F3",
            "gridwidth": 2,
            "linecolor": "#EBF0F8",
            "showbackground": true,
            "ticks": "",
            "zerolinecolor": "#EBF0F8"
           }
          },
          "shapedefaults": {
           "line": {
            "color": "#2a3f5f"
           }
          },
          "ternary": {
           "aaxis": {
            "gridcolor": "#DFE8F3",
            "linecolor": "#A2B1C6",
            "ticks": ""
           },
           "baxis": {
            "gridcolor": "#DFE8F3",
            "linecolor": "#A2B1C6",
            "ticks": ""
           },
           "bgcolor": "white",
           "caxis": {
            "gridcolor": "#DFE8F3",
            "linecolor": "#A2B1C6",
            "ticks": ""
           }
          },
          "title": {
           "x": 0.05
          },
          "xaxis": {
           "automargin": true,
           "gridcolor": "#EBF0F8",
           "linecolor": "#EBF0F8",
           "ticks": "",
           "title": {
            "standoff": 15
           },
           "zerolinecolor": "#EBF0F8",
           "zerolinewidth": 2
          },
          "yaxis": {
           "automargin": true,
           "gridcolor": "#EBF0F8",
           "linecolor": "#EBF0F8",
           "ticks": "",
           "title": {
            "standoff": 15
           },
           "zerolinecolor": "#EBF0F8",
           "zerolinewidth": 2
          }
         }
        },
        "title": {
         "text": "Amount of Collocates per Year Window"
        },
        "xaxis": {
         "tickangle": -45,
         "title": {
          "text": "Year Range"
         }
        },
        "yaxis": {
         "title": {
          "text": "Highest Number"
         }
        }
       }
      }
     },
     "metadata": {},
     "output_type": "display_data"
    }
   ],
   "source": [
    "import pandas as pd\n",
    "import plotly.graph_objects as go\n",
    "import os\n",
    "\n",
    "def find_highest_numbers_in_directory(directory_path):\n",
    "    highest_numbers = {}\n",
    "\n",
    "    for filename in os.listdir(directory_path):\n",
    "        if filename.endswith('.txt'):\n",
    "            file_path = os.path.join(directory_path, filename)\n",
    "            try:\n",
    "                with open(file_path, 'r', encoding='utf-8') as f:\n",
    "                    highest_number = 0  # Initialize highest number for the current file\n",
    "                    for line in f.readlines()[1:]:  # Skip the header line\n",
    "                        parts = line.split('\\t')\n",
    "                        if len(parts) > 0:  # Check if the line is properly formatted\n",
    "                            try:\n",
    "                                number = int(parts[0])  # Get the number from the first column\n",
    "                                highest_number = max(highest_number, number)  # Update highest number\n",
    "                            except ValueError:\n",
    "                                pass  # Ignore non-integer values\n",
    "                    \n",
    "                    # Store the highest number for the current file\n",
    "                    highest_numbers[filename] = highest_number\n",
    "\n",
    "            except PermissionError:\n",
    "                pass  # Ignore permission errors\n",
    "            except FileNotFoundError:\n",
    "                pass  # Ignore file not found errors\n",
    "            except Exception:\n",
    "                pass  # Ignore all other exceptions\n",
    "\n",
    "    return highest_numbers\n",
    "\n",
    "# Example usage\n",
    "collocate_directory_path = r\"collocate_results_combined_fact_10_window\"\n",
    "highest_numbers = find_highest_numbers_in_directory(collocate_directory_path)\n",
    "\n",
    "# Prepare the data for plotting\n",
    "df = pd.DataFrame(list(highest_numbers.items()), columns=['File', 'Highest Number'])\n",
    "\n",
    "# Modify the 'File' column to extract just the year range\n",
    "df['Year Range'] = df['File'].str.extract(r'(\\d{4}-\\d{4})')[0]  # Extract year range using regex\n",
    "df['Year Range'] = df['Year Range'].fillna(df['File'])  # In case of no match, keep the original filename\n",
    "\n",
    "# Create the interactive plot\n",
    "fig = go.Figure()\n",
    "\n",
    "# Add bars for each file's highest number\n",
    "fig.add_trace(go.Bar(\n",
    "    x=df['Year Range'],  # Use the modified Year Range for x-axis\n",
    "    y=df['Highest Number'],\n",
    "    marker=dict(color='blue'),\n",
    "    text=df['Highest Number'],  # Show counts on bars\n",
    "    textposition='auto',  # Position text on the bars\n",
    "    hovertemplate='Year Range: %{x}<br>%{y}<extra></extra>'  # Customize hover text\n",
    "))\n",
    "\n",
    "# Update layout\n",
    "fig.update_layout(\n",
    "    title='Amount of Collocates per Year Window',\n",
    "    xaxis_title='Year Range',\n",
    "    yaxis_title='Highest Number',\n",
    "    xaxis_tickangle=-45,  # Rotate x-axis labels for better visibility\n",
    "    template='plotly_white'\n",
    ")\n",
    "\n",
    "# Show the plot\n",
    "fig.show()\n"
   ]
  }
 ],
 "metadata": {
  "kernelspec": {
   "display_name": "Python 3",
   "language": "python",
   "name": "python3"
  },
  "language_info": {
   "codemirror_mode": {
    "name": "ipython",
    "version": 3
   },
   "file_extension": ".py",
   "mimetype": "text/x-python",
   "name": "python",
   "nbconvert_exporter": "python",
   "pygments_lexer": "ipython3",
   "version": "3.9.10"
  }
 },
 "nbformat": 4,
 "nbformat_minor": 2
}
