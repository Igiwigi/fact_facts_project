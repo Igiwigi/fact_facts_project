{
 "cells": [
  {
   "cell_type": "markdown",
   "metadata": {},
   "source": [
    "C5-NC5 indicates that the MI-score with the cut-off point three was used as the association measure; the collocates were identified in the span of three words to the left (L3) and three words to the right (R3) of the node and the frequency threshold was five for both the collocate (C5) and the collocation (NC5). (frequency threshold exists)\n",
    "\n",
    "Generally, the smaller the span, the greater the focus of the analysis on the most immediate lexico-grammatical patterns; a larger span captures looser associations.\n",
    "\n",
    "TO DO\n",
    "- make the freq threshold vary based on the amount of data for each year gap!!! (done, but might need adjusting)\n",
    "- rerun with 3l3r and 5l5r for comparison (done)\n",
    "- avoid lemmatization but tokenize (fact/facts) (done)\n",
    "- include as a side if its from rstl rstb or rsta (done)\n",
    "- different freq thresholds for fact/facts since they are not as common --> calculating the minimum subcorpora amount for the frequency (done, technically)\n",
    "\n",
    "minimum subcorpora:\n",
    "for every 412k, there should be 3\n",
    "\n",
    "Period          Total Words  Fact     Facts   \n",
    "1715-1724       412012       3        3\n",
    "\n",
    "\n",
    "however, the scaling should be different since theres less of facts overall? though they align on the smallest subcorpus"
   ]
  },
  {
   "cell_type": "code",
   "execution_count": null,
   "metadata": {},
   "outputs": [
    {
     "name": "stderr",
     "output_type": "stream",
     "text": [
      "[nltk_data] Downloading package punkt to\n",
      "[nltk_data]     C:\\Users\\Igiba\\AppData\\Roaming\\nltk_data...\n",
      "[nltk_data]   Package punkt is already up-to-date!\n"
     ]
    }
   ],
   "source": [
    "import nltk\n",
    "from nltk.collocations import BigramCollocationFinder\n",
    "from nltk.metrics import BigramAssocMeasures\n",
    "from nltk.tokenize import word_tokenize\n",
    "import string\n",
    "import csv\n",
    "import os\n",
    "import re\n",
    "from collections import defaultdict\n",
    "from tqdm.notebook import tqdm\n",
    "import traceback\n",
    "import concurrent.futures\n",
    "\n",
    "nltk.download('punkt')\n",
    "\n",
    "def extract_year_from_filename(filename):\n",
    "    match = re.search(r'rst[bla]?_(\\d{4})', filename)\n",
    "    return int(match.group(1)) if match else None\n",
    "\n",
    "def clean_text(text):\n",
    "    return text.replace('ſ', 's').replace('Å¿', 's') #this is optional and could be expanded upon or omitted\n",
    "\n",
    "def build_file_directory_map(text_dirs): #to get the directory and filename later, hopefully the maps match correctly\n",
    "    file_directory_map = {}\n",
    "    for dir_path in text_dirs:\n",
    "        dir_name = os.path.basename(dir_path)\n",
    "        for filename in os.listdir(dir_path):\n",
    "            if filename.endswith('.txt'):\n",
    "                file_path = os.path.join(dir_path, filename)\n",
    "                try:\n",
    "                    with open(file_path, 'r', encoding='utf-8') as file:\n",
    "                        text = file.read()\n",
    "                        cleaned_text = clean_text(text)\n",
    "                        file_directory_map[cleaned_text] = (dir_name, filename)\n",
    "                except Exception as e:\n",
    "                    print(f\"Error reading file {file_path}: {str(e)}\")\n",
    "    return file_directory_map\n",
    "\n",
    "def process_file(file_path):\n",
    "    try:\n",
    "        year = extract_year_from_filename(os.path.basename(file_path))\n",
    "        if not year:\n",
    "            return None\n",
    "        with open(file_path, 'r', encoding='utf-8') as file:\n",
    "            text = file.read()\n",
    "        cleaned_text = clean_text(text)\n",
    "        return year, cleaned_text\n",
    "    except Exception as e:\n",
    "        print(f\"Error processing file {file_path}: {str(e)}\")\n",
    "        return None\n",
    "\n",
    "def process_tokens(text):\n",
    "    tokens = word_tokenize(text.lower())\n",
    "    return [token for token in tokens if token.isalpha() and token not in string.punctuation]\n",
    "\n",
    "def calculate_scaled_freq_filter(total_words, word_of_interest):\n",
    "    if word_of_interest == \"fact\" or \"facts\":\n",
    "        base_threshold = 3  # base threshold for the lowest amount of words (412,012) using smallest subcorpora for \"fact\"\n",
    "        scale_factor = 3 / 412012  #increase threshold by this factor for each extra word over 412012\n",
    "        if total_words <= 412012:\n",
    "            return base_threshold\n",
    "        else:\n",
    "            additional_threshold = (total_words - 412012) * scale_factor\n",
    "            return base_threshold + round(additional_threshold) #needs to be rounded as integer\n",
    "    \n",
    "    #alternative differing threshold that i tried and in the end rejected (didn't make a meaningful enough difference and may have been too lax, that said, hard to say)\n",
    "    #elif word_of_interest == \"facts\": \n",
    "        #base_threshold = 2 #theres much less of facts than fact (sometimes 0)\n",
    "        #scale_factor = 2 / 411208 #should've maybe used 2, as the smallest subcorp has 2 facts\n",
    "        #if total_words <= 411208:\n",
    "        #    return base_threshold\n",
    "        #else:\n",
    "        #   additional_threshold = (total_words - 411208) * scale_factor\n",
    "        #   return base_threshold + round(additional_threshold)\n",
    "\n",
    "\n",
    "def process_window(window_data, word_of_interest, collocate_window, file_directory_map):\n",
    "    try:\n",
    "        window_start, window_end, window_texts = window_data\n",
    "        all_tokens = [token for text in window_texts for token in process_tokens(text)]\n",
    "        \n",
    "        total_tokens = len(all_tokens)\n",
    "        total_texts = len(window_texts)\n",
    "        \n",
    "        freq_filter = calculate_scaled_freq_filter(total_tokens, word_of_interest)\n",
    "        print(f\"Window {window_start}-{window_end}: Using frequency filter of {freq_filter} for {total_tokens} total words\")\n",
    "        \n",
    "        finder = BigramCollocationFinder.from_words(all_tokens, window_size=collocate_window)\n",
    "        finder.apply_freq_filter(freq_filter)\n",
    "        \n",
    "        collocations = finder.score_ngrams(BigramAssocMeasures().pmi)\n",
    "        \n",
    "        collocate_stats = []\n",
    "        collocate_contexts = defaultdict(list)\n",
    "\n",
    "        word_of_interest_lower = word_of_interest.lower()\n",
    "        word_of_interest_freq = sum(finder.word_fd[word] for word in finder.word_fd if word.lower() == word_of_interest_lower)\n",
    "\n",
    "        text_sources = {text: file_directory_map.get(text, (\"Unknown\", \"Unknown\")) for text in window_texts}\n",
    "\n",
    "        for bigram, pmi in collocations:\n",
    "            if word_of_interest_lower in (word.lower() for word in bigram):\n",
    "                other_word = bigram[0] if bigram[1].lower() == word_of_interest_lower else bigram[1]\n",
    "                observed_freq = finder.ngram_fd[bigram]\n",
    "                word_freq = finder.word_fd[other_word]\n",
    "                expected_freq = (word_of_interest_freq * word_freq) / total_tokens\n",
    "                num_texts = sum(1 for text in window_texts if other_word.lower() in text.lower().split())\n",
    "                \n",
    "                if num_texts > 1:\n",
    "                    collocate_stats.append({\n",
    "                        'word': other_word,\n",
    "                        'total_corpus': word_freq,\n",
    "                        'expected_freq': expected_freq,\n",
    "                        'observed_freq': observed_freq,\n",
    "                        'num_texts': num_texts,\n",
    "                        'pmi': pmi\n",
    "                    })\n",
    "                    \n",
    "                    for text in window_texts:\n",
    "                        words = text.split()\n",
    "                        for i, word in enumerate(words):\n",
    "                            if word.lower() == word_of_interest_lower and other_word.lower() in [w.lower() for w in words[max(0, i-collocate_window):i+collocate_window+1]]:\n",
    "                                context = ' '.join(words[max(0, i-collocate_window):i+collocate_window+1])\n",
    "                                dir_name, filename = text_sources[text]\n",
    "                                context_info = context #this is whats shown as context in the csv, redundant but can change it l8\n",
    "                                collocate_contexts[other_word].append((context_info, other_word, filename, dir_name, freq_filter))\n",
    "        \n",
    "        collocate_stats.sort(key=lambda x: x['pmi'], reverse=True)\n",
    "\n",
    "        filtered_contexts = [context for collocate in collocate_stats for context in collocate_contexts.get(collocate['word'], [])] #testing if this is at fault for mismatching contexts\n",
    "\n",
    "        #all_contexts = [context for contexts in collocate_contexts.values() for context in contexts] #downloads all of them, bad\n",
    "\n",
    "        return f\"{window_start}-{window_end}\", {\n",
    "            'collocates': collocate_stats,\n",
    "            'total_tokens': total_tokens,\n",
    "            'total_texts': total_texts,\n",
    "            'contexts': filtered_contexts\n",
    "        }\n",
    "    except Exception as e:\n",
    "        print(f\"Error processing window {window_start}-{window_end}: {str(e)}\")\n",
    "        traceback.print_exc()\n",
    "        return None\n",
    "\n",
    "def analyze_collocates(text_dirs, output_dir, word_of_interest, start_year, end_year, collocate_window, window_size=10):\n",
    "    def read_texts_by_year(directories):\n",
    "        texts_by_year = defaultdict(list)\n",
    "        file_paths = [os.path.join(dir, f) for dir in directories for f in os.listdir(dir) if f.endswith('.txt')]\n",
    "        \n",
    "        print(\"Reading files...\")\n",
    "        with concurrent.futures.ThreadPoolExecutor() as executor:\n",
    "            results = list(tqdm(executor.map(process_file, file_paths), total=len(file_paths)))\n",
    "        \n",
    "        for result in results:\n",
    "            if result:\n",
    "                year, text = result\n",
    "                if start_year <= year <= end_year:\n",
    "                    texts_by_year[year].append(text)\n",
    "        \n",
    "        return texts_by_year\n",
    "\n",
    "    print(f\"Starting text processing for years {start_year}-{end_year}...\")\n",
    "    texts_by_year = read_texts_by_year(text_dirs)\n",
    "    file_directory_map = build_file_directory_map(text_dirs)\n",
    "    \n",
    "    all_years = sorted(texts_by_year.keys())\n",
    "    if not all_years:\n",
    "        print(f\"No texts found in the specified year range {start_year}-{end_year}\")\n",
    "        return\n",
    "        \n",
    "    window_data = [\n",
    "        (window_start, window_start + window_size - 1, \n",
    "         [text for year in range(window_start, window_start + window_size) for text in texts_by_year.get(year, [])])\n",
    "        for window_start in range(start_year, end_year - window_size + 2)\n",
    "    ]\n",
    "\n",
    "    collocates_by_window = {}\n",
    "    print(\"Processing windows...\")\n",
    "    with concurrent.futures.ThreadPoolExecutor() as executor:\n",
    "        results = list(tqdm(executor.map(lambda data: process_window(data, word_of_interest, collocate_window, file_directory_map), window_data), total=len(window_data)))\n",
    "\n",
    "    for result in results:\n",
    "        if result:\n",
    "            window, window_result = result\n",
    "            collocates_by_window[window] = window_result\n",
    "\n",
    "    os.makedirs(output_dir, exist_ok=True)\n",
    "    print(\"Saving results to CSV and TXT files...\")\n",
    "\n",
    "    for window, data in collocates_by_window.items():\n",
    "        save_collocates_to_csv(output_dir, window, data)\n",
    "        save_contexts_to_csv(output_dir, window, data)\n",
    "        save_detailed_report(output_dir, window, data, word_of_interest)\n",
    "\n",
    "    print(f\"Collocate analysis completed. Results saved in the '{output_dir}' directory.\")\n",
    "\n",
    "\n",
    "#data saving functions    \n",
    "def save_collocates_to_csv(output_dir, window, data):\n",
    "    import csv\n",
    "    import os\n",
    "    \n",
    "    csv_filename = os.path.join(output_dir, f'collocates_{window}.csv')\n",
    "    os.makedirs(os.path.dirname(csv_filename), exist_ok=True)\n",
    "    \n",
    "    try:\n",
    "        with open(csv_filename, 'w', newline='', encoding='utf-8') as csvfile:\n",
    "            writer = csv.writer(csvfile)\n",
    "            writer.writerow(['No.', 'Word', 'Total no. in window corpus', 'Expected collocate frequency',\n",
    "                             'Observed collocate frequency', 'In no. of texts', 'Mutual Information value'])\n",
    "           \n",
    "            for i, collocate in enumerate(data['collocates'], 1):\n",
    "                writer.writerow([\n",
    "                    i,\n",
    "                    collocate['word'],\n",
    "                    collocate['total_corpus'],\n",
    "                    f\"{collocate['expected_freq']:.2f}\",\n",
    "                    collocate['observed_freq'],\n",
    "                    collocate['num_texts'],\n",
    "                    f\"{collocate['pmi']:.2f}\"\n",
    "                ])\n",
    "        print(f\"Saved collocates to {csv_filename}\")\n",
    "    except Exception as e:\n",
    "        print(f\"Error saving collocates to {csv_filename}: {e}\")\n",
    "\n",
    "def save_contexts_to_csv(output_dir, window, data):\n",
    "    import csv\n",
    "    import os\n",
    "    import re\n",
    "    \n",
    "    subfolder_path = os.path.join(output_dir, 'contexts')\n",
    "    os.makedirs(subfolder_path, exist_ok=True)\n",
    "    csv_filename = os.path.join(subfolder_path, f'contexts_{window}.csv')\n",
    "    \n",
    "    try:\n",
    "        with open(csv_filename, 'w', newline='', encoding='utf-8') as csvfile:\n",
    "            writer = csv.writer(csvfile)\n",
    "            writer.writerow(['Context', 'Collocate', 'File', 'Directory', 'Year', 'Frequency Filter'])\n",
    "            \n",
    "            for context_info, other_word, filename, dir_name, freq_filter in data['contexts']:\n",
    "                match = re.search(r'_(\\d{4})_', filename)\n",
    "                year = match.group(1) if match else 'Unknown'\n",
    "                writer.writerow([context_info, other_word, filename, dir_name, year, freq_filter])\n",
    "        \n",
    "        print(f\"Saved contexts to {csv_filename}\")\n",
    "    except Exception as e:\n",
    "        print(f\"Error saving contexts to {csv_filename}: {e}\")\n",
    "\n",
    "def save_detailed_report(output_dir, window, data, word_of_interest):\n",
    "    import os\n",
    "    \n",
    "    subfolder_path = os.path.join(output_dir, 'collocation_txt')\n",
    "    os.makedirs(subfolder_path, exist_ok=True)\n",
    "    txt_filename = os.path.join(subfolder_path, f'collocates_txt_{window}.txt')\n",
    "    \n",
    "    try:\n",
    "        with open(txt_filename, 'w', encoding='utf-8') as txtfile:\n",
    "            txtfile.write(\"https://example.com/collocation-analysis\\n\")\n",
    "            txtfile.write(f\"There are {data['total_tokens']} different words in your collocation database for \\\"{word_of_interest}\\\". \")\n",
    "            txtfile.write(f\"(Your query returned {sum(c['observed_freq'] for c in data['collocates'])} matches in {data['total_texts']} different texts)\\n\")\n",
    "            txtfile.write(\"__________________\\n\\n\")\n",
    "           \n",
    "            txtfile.write(\"No.\\tWord\\tTotal no. in whole corpus\\tExpected collocate frequency\\t\")\n",
    "            txtfile.write(\"Observed collocate frequency\\tIn no. of texts\\tMutual information value\\n\\n\")\n",
    "           \n",
    "            for i, collocate in enumerate(data['collocates'], 1):\n",
    "                txtfile.write(f\"{i}\\t{collocate['word']}\\t{collocate['total_corpus']}\\t\")\n",
    "                txtfile.write(f\"{collocate['expected_freq']:.2f}\\t{collocate['observed_freq']}\\t\")\n",
    "                txtfile.write(f\"{collocate['num_texts']}\\t{collocate['pmi']:.2f}\\n\")\n",
    "        \n",
    "        print(f\"Saved detailed report to {txt_filename}\")\n",
    "    except Exception as e:\n",
    "        print(f\"Error saving detailed report to {txt_filename}: {e}\")"
   ]
  },
  {
   "cell_type": "code",
   "execution_count": null,
   "metadata": {},
   "outputs": [
    {
     "name": "stdout",
     "output_type": "stream",
     "text": [
      "Starting text processing for years 1665-1958...\n",
      "Reading files...\n"
     ]
    },
    {
     "data": {
      "application/vnd.jupyter.widget-view+json": {
       "model_id": "b3b3006888334a1eb00a00bd47e52863",
       "version_major": 2,
       "version_minor": 0
      },
      "text/plain": [
       "  0%|          | 0/18194 [00:00<?, ?it/s]"
      ]
     },
     "metadata": {},
     "output_type": "display_data"
    },
    {
     "name": "stdout",
     "output_type": "stream",
     "text": [
      "Processing windows...\n"
     ]
    },
    {
     "data": {
      "application/vnd.jupyter.widget-view+json": {
       "model_id": "54d9ad5aab8d4c85b5ca3a7560f4938b",
       "version_major": 2,
       "version_minor": 0
      },
      "text/plain": [
       "  0%|          | 0/285 [00:00<?, ?it/s]"
      ]
     },
     "metadata": {},
     "output_type": "display_data"
    },
    {
     "name": "stdout",
     "output_type": "stream",
     "text": [
      "Window 1673-1682: Using frequency filter of 3 for 514030 total words\n",
      "Window 1674-1683: Using frequency filter of 3 for 544329 total words\n",
      "Window 1679-1688: Using frequency filter of 3 for 523496 total words\n",
      "Window 1680-1689: Using frequency filter of 3 for 523496 total words\n",
      "Window 1678-1687: Using frequency filter of 3 for 523496 total words\n",
      "Window 1676-1685: Using frequency filter of 3 for 572824 total words\n",
      "Window 1672-1681: Using frequency filter of 3 for 618800 total words\n",
      "Window 1675-1684: Using frequency filter of 3 for 557431 total words\n",
      "Window 1677-1686: Using frequency filter of 3 for 624937 total words\n",
      "Window 1671-1680: Using frequency filter of 4 for 732745 total words\n",
      "Window 1666-1675: Using frequency filter of 5 for 941124 total words\n",
      "Window 1667-1676: Using frequency filter of 5 for 951536 total words\n",
      "Window 1670-1679: Using frequency filter of 4 for 862250 total words\n",
      "Window 1669-1678: Using frequency filter of 5 for 952403 total words\n",
      "Window 1668-1677: Using frequency filter of 5 for 1052977 total words\n",
      "Window 1665-1674: Using frequency filter of 5 for 994663 total words\n",
      "Window 1681-1690: Using frequency filter of 3 for 523496 total words\n",
      "Window 1683-1692: Using frequency filter of 3 for 523496 total words\n",
      "Window 1684-1693: Using frequency filter of 3 for 532378 total words\n",
      "Window 1685-1694: Using frequency filter of 2 for 488977 total wordsWindow 1682-1691: Using frequency filter of 3 for 523496 total words\n",
      "\n",
      "Window 1688-1697: Using frequency filter of 2 for 417588 total wordsWindow 1687-1696: Using frequency filter of 2 for 417588 total words\n",
      "\n",
      "Window 1686-1695: Using frequency filter of 3 for 576875 total words\n",
      "Window 1689-1698: Using frequency filter of 3 for 545586 total words\n",
      "Window 1690-1699: Using frequency filter of 3 for 675713 total words\n",
      "Window 1691-1700: Using frequency filter of 4 for 854524 total words\n",
      "Window 1692-1701: Using frequency filter of 4 for 854524 total words\n",
      "Window 1696-1705: Using frequency filter of 4 for 770854 total words\n",
      "Window 1703-1712: Using frequency filter of 3 for 559384 total words\n",
      "Window 1694-1703: Using frequency filter of 4 for 865238 total words\n",
      "Window 1700-1709: Using frequency filter of 4 for 722581 total words\n",
      "Window 1695-1704: Using frequency filter of 5 for 983738 total wordsWindow 1693-1702: Using frequency filter of 5 for 995538 total words\n",
      "\n",
      "Window 1701-1710: Using frequency filter of 3 for 700398 total words\n",
      "Window 1699-1708: Using frequency filter of 4 for 852708 total words\n",
      "Window 1702-1711: Using frequency filter of 3 for 700398 total words\n",
      "Window 1697-1706: Using frequency filter of 4 for 852668 total words\n",
      "Window 1704-1713: Using frequency filter of 3 for 632307 total words\n",
      "Window 1698-1707: Using frequency filter of 4 for 852668 total words\n",
      "Window 1706-1715: Using frequency filter of 3 for 580926 total words\n",
      "Window 1705-1714: Using frequency filter of 3 for 580926 total words\n",
      "Window 1707-1716: Using frequency filter of 2 for 499112 total words\n",
      "Window 1708-1717: Using frequency filter of 3 for 628138 total words\n",
      "Window 1710-1719: Using frequency filter of 2 for 500100 total words\n",
      "Window 1715-1724: Using frequency filter of 2 for 412012 total words\n",
      "Window 1714-1723: Using frequency filter of 2 for 446511 total words\n",
      "Window 1709-1718: Using frequency filter of 2 for 500100 total words\n",
      "Window 1711-1720: Using frequency filter of 2 for 411208 total words\n",
      "Window 1716-1725: Using frequency filter of 2 for 412012 total words\n",
      "Window 1712-1721: Using frequency filter of 2 for 411208 total words\n",
      "Window 1718-1727: Using frequency filter of 2 for 436911 total words\n",
      "Window 1717-1726: Using frequency filter of 2 for 475972 total words\n",
      "Window 1719-1728: Using frequency filter of 2 for 436911 total words\n",
      "Window 1713-1722: Using frequency filter of 3 for 519434 total words\n",
      "Window 1720-1729: Using frequency filter of 3 for 552008 total words\n",
      "Window 1721-1730: Using frequency filter of 2 for 484272 total words\n",
      "Window 1723-1732: Using frequency filter of 2 for 481152 total words\n",
      "Window 1722-1731: Using frequency filter of 3 for 589378 total words\n",
      "Window 1725-1734: Using frequency filter of 2 for 475327 total words\n",
      "Window 1724-1733: Using frequency filter of 3 for 582351 total words\n",
      "Window 1727-1736: Using frequency filter of 2 for 503830 total words\n",
      "Window 1726-1735: Using frequency filter of 3 for 567790 total words\n",
      "Window 1728-1737: Using frequency filter of 3 for 539523 total words\n",
      "Window 1729-1738: Using frequency filter of 3 for 539523 total words\n",
      "Window 1732-1741: Using frequency filter of 3 for 537929 total words\n",
      "Window 1730-1739: Using frequency filter of 3 for 643035 total words\n",
      "Window 1731-1740: Using frequency filter of 3 for 643035 total words\n",
      "Window 1736-1745: Using frequency filter of 3 for 687150 total wordsWindow 1735-1744: Using frequency filter of 4 for 779613 total words\n",
      "\n",
      "Window 1734-1743: Using frequency filter of 3 for 595281 total words\n",
      "Window 1737-1746: Using frequency filter of 4 for 899956 total words\n",
      "Window 1733-1742: Using frequency filter of 3 for 696480 total words\n",
      "Window 1739-1748: Using frequency filter of 5 for 934614 total words\n",
      "Window 1738-1747: Using frequency filter of 4 for 774298 total words\n",
      "Window 1741-1750: Using frequency filter of 4 for 906635 total words\n",
      "Window 1740-1749: Using frequency filter of 4 for 906635 total words\n",
      "Window 1743-1752: Using frequency filter of 4 for 897474 total words\n",
      "Window 1745-1754: Using frequency filter of 5 for 933817 total words\n",
      "Window 1742-1751: Using frequency filter of 5 for 1056025 total words\n",
      "Window 1744-1753: Using frequency filter of 5 for 1118149 total words\n",
      "Window 1747-1756: Using frequency filter of 5 for 945436 total words\n",
      "Window 1746-1755: Using frequency filter of 6 for 1158242 total words\n",
      "Window 1749-1758: Using frequency filter of 5 for 1007010 total words\n",
      "Window 1748-1757: Using frequency filter of 6 for 1167326 total words\n",
      "Window 1750-1759: Using frequency filter of 5 for 1059565 total words\n",
      "Window 1751-1760: Using frequency filter of 5 for 1059565 total words\n",
      "Window 1752-1761: Using frequency filter of 5 for 1056997 total words\n",
      "Window 1754-1763: Using frequency filter of 5 for 960963 total words\n",
      "Window 1753-1762: Using frequency filter of 5 for 1056997 total words\n",
      "Window 1755-1764: Using frequency filter of 5 for 1067910 total words\n",
      "Window 1756-1765: Using frequency filter of 5 for 925459 total words\n",
      "Window 1758-1767: Using frequency filter of 4 for 893677 total words\n",
      "Window 1759-1768: Using frequency filter of 5 for 965532 total words\n",
      "Window 1757-1766: Using frequency filter of 5 for 995628 total words\n",
      "Window 1760-1769: Using frequency filter of 4 for 830572 total words\n",
      "Window 1761-1770: Using frequency filter of 5 for 947196 total words\n",
      "Window 1762-1771: Using frequency filter of 5 for 952281 total words\n",
      "Window 1763-1772: Using frequency filter of 5 for 1062012 total words\n",
      "Window 1765-1774: Using frequency filter of 5 for 1053412 total words\n",
      "Window 1768-1777: Using frequency filter of 6 for 1179896 total words\n",
      "Window 1767-1776: Using frequency filter of 5 for 1130661 total words\n",
      "Window 1764-1773: Using frequency filter of 5 for 1050535 total words\n",
      "Window 1770-1779: Using frequency filter of 7 for 1347619 total words\n",
      "Window 1766-1775: Using frequency filter of 5 for 1082298 total words\n",
      "Window 1771-1780: Using frequency filter of 7 for 1355844 total words\n",
      "Window 1769-1778: Using frequency filter of 6 for 1325142 total words\n",
      "Window 1772-1781: Using frequency filter of 7 for 1360870 total words\n",
      "Window 1773-1782: Using frequency filter of 7 for 1371184 total words\n",
      "Window 1775-1784: Using frequency filter of 7 for 1410531 total words\n",
      "Window 1774-1783: Using frequency filter of 7 for 1403872 total words\n",
      "Window 1776-1785: Using frequency filter of 7 for 1421523 total words\n",
      "Window 1777-1786: Using frequency filter of 7 for 1433333 total words\n",
      "Window 1780-1789: Using frequency filter of 6 for 1229753 total words\n",
      "Window 1779-1788: Using frequency filter of 6 for 1280467 total words\n",
      "Window 1781-1790: Using frequency filter of 6 for 1268414 total words\n",
      "Window 1778-1787: Using frequency filter of 7 for 1390014 total words\n",
      "Window 1782-1791: Using frequency filter of 6 for 1222472 total words\n",
      "Window 1784-1793: Using frequency filter of 6 for 1143815 total words\n",
      "Window 1783-1792: Using frequency filter of 6 for 1228874 total words\n",
      "Window 1786-1795: Using frequency filter of 6 for 1159004 total words\n",
      "Window 1785-1794: Using frequency filter of 5 for 1128687 total words\n",
      "Window 1787-1796: Using frequency filter of 6 for 1157032 total words\n",
      "Window 1788-1797: Using frequency filter of 6 for 1158482 total words\n",
      "Window 1790-1799: Using frequency filter of 6 for 1205848 total words\n",
      "Window 1791-1800: Using frequency filter of 6 for 1212983 total words\n",
      "Window 1792-1801: Using frequency filter of 6 for 1227057 total words\n",
      "Window 1793-1802: Using frequency filter of 6 for 1239532 total words\n",
      "Window 1789-1798: Using frequency filter of 6 for 1198078 total words\n",
      "Window 1794-1803: Using frequency filter of 6 for 1306329 total words\n",
      "Window 1795-1804: Using frequency filter of 6 for 1320660 total words\n",
      "Window 1796-1805: Using frequency filter of 6 for 1261623 total words\n",
      "Window 1797-1806: Using frequency filter of 6 for 1239656 total words\n",
      "Window 1798-1807: Using frequency filter of 6 for 1197496 total words\n",
      "Window 1799-1808: Using frequency filter of 6 for 1144722 total words\n",
      "Window 1800-1809: Using frequency filter of 6 for 1184416 total words\n",
      "Window 1802-1811: Using frequency filter of 5 for 1078181 total words\n",
      "Window 1801-1810: Using frequency filter of 5 for 1102943 total words\n",
      "Window 1803-1812: Using frequency filter of 5 for 1044202 total words\n",
      "Window 1804-1813: Using frequency filter of 5 for 992029 total words\n",
      "Window 1805-1814: Using frequency filter of 5 for 1032616 total words\n",
      "Window 1806-1815: Using frequency filter of 5 for 1059378 total words\n",
      "Window 1807-1816: Using frequency filter of 5 for 1039021 total words\n",
      "Window 1808-1817: Using frequency filter of 5 for 1041087 total words\n",
      "Window 1809-1818: Using frequency filter of 5 for 1069953 total words\n",
      "Window 1811-1820: Using frequency filter of 5 for 1049749 total words\n",
      "Window 1810-1819: Using frequency filter of 5 for 1051161 total words\n",
      "Window 1812-1821: Using frequency filter of 5 for 1058099 total words\n",
      "Window 1813-1822: Using frequency filter of 5 for 1066007 total words\n",
      "Window 1814-1823: Using frequency filter of 5 for 1102820 total words\n",
      "Window 1815-1824: Using frequency filter of 5 for 1077752 total words\n",
      "Window 1816-1825: Using frequency filter of 5 for 1100371 total words\n",
      "Window 1817-1826: Using frequency filter of 6 for 1251886 total words\n",
      "Window 1818-1827: Using frequency filter of 6 for 1264478 total words\n",
      "Window 1819-1828: Using frequency filter of 6 for 1251898 total words\n",
      "Window 1820-1829: Using frequency filter of 6 for 1279849 total words\n",
      "Window 1821-1830: Using frequency filter of 6 for 1326222 total words\n",
      "Window 1823-1832: Using frequency filter of 7 for 1415852 total words\n",
      "Window 1822-1831: Using frequency filter of 7 for 1350146 total words\n",
      "Window 1825-1834: Using frequency filter of 8 for 1720757 total words\n",
      "Window 1824-1833: Using frequency filter of 8 for 1586150 total words\n",
      "Window 1828-1837: Using frequency filter of 9 for 1782914 total words\n",
      "Window 1826-1835: Using frequency filter of 8 for 1716112 total wordsWindow 1827-1836: Using frequency filter of 8 for 1711432 total words\n",
      "\n",
      "Window 1829-1838: Using frequency filter of 9 for 1851232 total words\n",
      "Window 1830-1839: Using frequency filter of 9 for 1902297 total words\n",
      "Window 1831-1840: Using frequency filter of 10 for 2033865 total words\n",
      "Window 1832-1841: Using frequency filter of 10 for 2034191 total words\n",
      "Window 1833-1842: Using frequency filter of 10 for 1984309 total words\n",
      "Window 1834-1843: Using frequency filter of 9 for 1814663 total words\n",
      "Window 1835-1844: Using frequency filter of 8 for 1646897 total words\n",
      "Window 1836-1845: Using frequency filter of 8 for 1626940 total words\n",
      "Window 1837-1846: Using frequency filter of 8 for 1629077 total words\n",
      "Window 1838-1847: Using frequency filter of 8 for 1557150 total words\n",
      "Window 1839-1848: Using frequency filter of 7 for 1487075 total words\n",
      "Window 1840-1849: Using frequency filter of 7 for 1505365 total words\n",
      "Window 1841-1850: Using frequency filter of 8 for 1572595 total words\n",
      "Window 1844-1853: Using frequency filter of 10 for 2059891 total words\n",
      "Window 1842-1851: Using frequency filter of 9 for 1786272 total words\n",
      "Window 1843-1852: Using frequency filter of 9 for 1939384 total words\n",
      "Window 1845-1854: Using frequency filter of 10 for 2094649 total words\n",
      "Window 1846-1855: Using frequency filter of 10 for 2141782 total words\n",
      "Window 1847-1856: Using frequency filter of 11 for 2223326 total words\n",
      "Window 1848-1857: Using frequency filter of 12 for 2450907 total words\n",
      "Window 1849-1858: Using frequency filter of 13 for 2743924 total words\n",
      "Window 1850-1859: Using frequency filter of 14 for 2879847 total words\n",
      "Window 1851-1860: Using frequency filter of 13 for 2764653 total words\n",
      "Window 1853-1862: Using frequency filter of 14 for 2897478 total words\n",
      "Window 1852-1861: Using frequency filter of 13 for 2729462 total words\n",
      "Window 1854-1863: Using frequency filter of 14 for 2888020 total words\n",
      "Window 1855-1864: Using frequency filter of 15 for 3046668 total words\n",
      "Window 1856-1865: Using frequency filter of 15 for 3178678 total words\n",
      "Window 1857-1866: Using frequency filter of 16 for 3203924 total words\n",
      "Window 1859-1868: Using frequency filter of 15 for 3013246 total words\n",
      "Window 1858-1867: Using frequency filter of 15 for 3158718 total words\n",
      "Window 1860-1869: Using frequency filter of 14 for 2967012 total words\n",
      "Window 1861-1870: Using frequency filter of 14 for 2951037 total words\n",
      "Window 1862-1871: Using frequency filter of 14 for 2933537 total words\n",
      "Window 1863-1872: Using frequency filter of 13 for 2669131 total words\n",
      "Window 1865-1874: Using frequency filter of 14 for 2796824 total words\n",
      "Window 1864-1873: Using frequency filter of 13 for 2730349 total words\n",
      "Window 1866-1875: Using frequency filter of 13 for 2769946 total words\n",
      "Window 1867-1876: Using frequency filter of 13 for 2743118 total words\n",
      "Window 1868-1877: Using frequency filter of 13 for 2751934 total words\n",
      "Window 1870-1879: Using frequency filter of 13 for 2719947 total words\n",
      "Window 1869-1878: Using frequency filter of 12 for 2495484 total words\n",
      "Window 1871-1880: Using frequency filter of 14 for 2883773 total words\n",
      "Window 1872-1881: Using frequency filter of 14 for 2933112 total words\n",
      "Window 1874-1883: Using frequency filter of 16 for 3364746 total words\n",
      "Window 1873-1882: Using frequency filter of 16 for 3292142 total words\n",
      "Window 1877-1886: Using frequency filter of 16 for 3256112 total words\n",
      "Window 1876-1885: Using frequency filter of 16 for 3289454 total words\n",
      "Window 1875-1884: Using frequency filter of 16 for 3236545 total words\n",
      "Window 1878-1887: Using frequency filter of 16 for 3356687 total words\n",
      "Window 1879-1888: Using frequency filter of 18 for 3601486 total words\n",
      "Window 1881-1890: Using frequency filter of 15 for 2986330 total words\n",
      "Window 1880-1889: Using frequency filter of 16 for 3266021 total words\n",
      "Window 1882-1891: Using frequency filter of 15 for 3089762 total words\n",
      "Window 1884-1893: Using frequency filter of 16 for 3313382 total words\n",
      "Window 1883-1892: Using frequency filter of 14 for 2979964 total words\n",
      "Window 1885-1894: Using frequency filter of 19 for 3808661 total words\n",
      "Window 1886-1895: Using frequency filter of 20 for 4144116 total words\n",
      "Window 1887-1896: Using frequency filter of 21 for 4275307 total words\n",
      "Window 1888-1897: Using frequency filter of 21 for 4360753 total words\n",
      "Window 1889-1898: Using frequency filter of 22 for 4522860 total words\n",
      "Window 1890-1899: Using frequency filter of 22 for 4617472 total words\n",
      "Window 1891-1900: Using frequency filter of 25 for 5097731 total words\n",
      "Window 1893-1902: Using frequency filter of 25 for 5076981 total words\n",
      "Window 1894-1903: Using frequency filter of 24 for 4869608 total words\n",
      "Window 1896-1905: Using frequency filter of 21 for 4251587 total words\n",
      "Window 1898-1907: Using frequency filter of 19 for 3883798 total words\n",
      "Window 1892-1901: Using frequency filter of 25 for 5179421 total words\n",
      "Window 1899-1908: Using frequency filter of 20 for 4030773 total words\n",
      "Window 1895-1904: Using frequency filter of 22 for 4594577 total words\n",
      "Window 1897-1906: Using frequency filter of 21 for 4360368 total words\n",
      "Window 1900-1909: Using frequency filter of 20 for 4115335 total words\n",
      "Window 1901-1910: Using frequency filter of 17 for 3549179 total words\n",
      "Window 1902-1911: Using frequency filter of 16 for 3334643 total words\n",
      "Window 1903-1912: Using frequency filter of 16 for 3298157 total words\n",
      "Window 1904-1913: Using frequency filter of 15 for 3117674 total words\n",
      "Window 1905-1914: Using frequency filter of 16 for 3346231 total words\n",
      "Window 1906-1915: Using frequency filter of 16 for 3369652 total words\n",
      "Window 1908-1917: Using frequency filter of 16 for 3200941 total words\n",
      "Window 1910-1919: Using frequency filter of 13 for 2754305 total words\n",
      "Window 1909-1918: Using frequency filter of 14 for 2943027 total words\n",
      "Window 1907-1916: Using frequency filter of 16 for 3200941 total words\n",
      "Window 1911-1920: Using frequency filter of 15 for 3125160 total words\n",
      "Window 1912-1921: Using frequency filter of 15 for 3159465 total words\n",
      "Window 1916-1925: Using frequency filter of 12 for 2423342 total words\n",
      "Window 1915-1924: Using frequency filter of 13 for 2579734 total words\n",
      "Window 1913-1922: Using frequency filter of 15 for 2985447 total words\n",
      "Window 1914-1923: Using frequency filter of 15 for 2989883 total words\n",
      "Window 1917-1926: Using frequency filter of 11 for 2350211 total words\n",
      "Window 1918-1927: Using frequency filter of 13 for 2657107 total words\n",
      "Window 1919-1928: Using frequency filter of 13 for 2662930 total words\n",
      "Window 1920-1929: Using frequency filter of 14 for 2824967 total words\n",
      "Window 1921-1930: Using frequency filter of 14 for 2812749 total words\n",
      "Window 1922-1931: Using frequency filter of 14 for 2797269 total words\n",
      "Window 1923-1932: Using frequency filter of 16 for 3260094 total words\n",
      "Window 1925-1934: Using frequency filter of 17 for 3569848 total words\n",
      "Window 1924-1933: Using frequency filter of 15 for 3121863 total words\n",
      "Window 1926-1935: Using frequency filter of 19 for 3865868 total words\n",
      "Window 1927-1936: Using frequency filter of 19 for 3932737 total words\n",
      "Window 1929-1938: Using frequency filter of 20 for 4155454 total words\n",
      "Window 1928-1937: Using frequency filter of 20 for 4151364 total words\n",
      "Window 1934-1943: Using frequency filter of 15 for 3093264 total words\n",
      "Window 1930-1939: Using frequency filter of 20 for 4132637 total words\n",
      "Window 1931-1940: Using frequency filter of 19 for 3967271 total words\n",
      "Window 1932-1941: Using frequency filter of 18 for 3723957 total words\n",
      "Window 1933-1942: Using frequency filter of 16 for 3247025 total words\n",
      "Window 1935-1944: Using frequency filter of 12 for 2478767 total words\n",
      "Window 1938-1947: Using frequency filter of 8 for 1702674 total words\n",
      "Window 1937-1946: Using frequency filter of 9 for 1921377 total words\n",
      "Window 1936-1945: Using frequency filter of 10 for 2038705 total words\n",
      "Window 1939-1948: Using frequency filter of 9 for 1749984 total words\n",
      "Window 1940-1949: Using frequency filter of 8 for 1708763 total words\n",
      "Window 1941-1950: Using frequency filter of 10 for 1985043 total words\n",
      "Window 1942-1951: Using frequency filter of 11 for 2342941 total words\n",
      "Window 1943-1952: Using frequency filter of 14 for 2776716 total words\n",
      "Window 1944-1953: Using frequency filter of 15 for 3071665 total words\n",
      "Window 1949-1958: Using frequency filter of 11 for 2274409 total words\n",
      "Window 1948-1957: Using frequency filter of 13 for 2627599 total words\n",
      "Window 1945-1954: Using frequency filter of 16 for 3202265 total words\n",
      "Window 1946-1955: Using frequency filter of 15 for 3163728 total words\n",
      "Window 1947-1956: Using frequency filter of 14 for 2934419 total words\n",
      "Saving results to CSV and TXT files...\n",
      "Saved collocates to collocation_results/FACTS/collocate_results_1665-1958_FACTS_css2_w5\\collocates_1665-1674.csv\n",
      "Saved contexts to collocation_results/FACTS/collocate_results_1665-1958_FACTS_css2_w5\\contexts\\contexts_1665-1674.csv\n",
      "Saved detailed report to collocation_results/FACTS/collocate_results_1665-1958_FACTS_css2_w5\\collocation_txt\\collocates_txt_1665-1674.txt\n",
      "Saved collocates to collocation_results/FACTS/collocate_results_1665-1958_FACTS_css2_w5\\collocates_1666-1675.csv\n",
      "Saved contexts to collocation_results/FACTS/collocate_results_1665-1958_FACTS_css2_w5\\contexts\\contexts_1666-1675.csv\n",
      "Saved detailed report to collocation_results/FACTS/collocate_results_1665-1958_FACTS_css2_w5\\collocation_txt\\collocates_txt_1666-1675.txt\n",
      "Saved collocates to collocation_results/FACTS/collocate_results_1665-1958_FACTS_css2_w5\\collocates_1667-1676.csv\n",
      "Saved contexts to collocation_results/FACTS/collocate_results_1665-1958_FACTS_css2_w5\\contexts\\contexts_1667-1676.csv\n",
      "Saved detailed report to collocation_results/FACTS/collocate_results_1665-1958_FACTS_css2_w5\\collocation_txt\\collocates_txt_1667-1676.txt\n",
      "Saved collocates to collocation_results/FACTS/collocate_results_1665-1958_FACTS_css2_w5\\collocates_1668-1677.csv\n",
      "Saved contexts to collocation_results/FACTS/collocate_results_1665-1958_FACTS_css2_w5\\contexts\\contexts_1668-1677.csv\n",
      "Saved detailed report to collocation_results/FACTS/collocate_results_1665-1958_FACTS_css2_w5\\collocation_txt\\collocates_txt_1668-1677.txt\n",
      "Saved collocates to collocation_results/FACTS/collocate_results_1665-1958_FACTS_css2_w5\\collocates_1669-1678.csv\n",
      "Saved contexts to collocation_results/FACTS/collocate_results_1665-1958_FACTS_css2_w5\\contexts\\contexts_1669-1678.csv\n",
      "Saved detailed report to collocation_results/FACTS/collocate_results_1665-1958_FACTS_css2_w5\\collocation_txt\\collocates_txt_1669-1678.txt\n",
      "Saved collocates to collocation_results/FACTS/collocate_results_1665-1958_FACTS_css2_w5\\collocates_1670-1679.csv\n",
      "Saved contexts to collocation_results/FACTS/collocate_results_1665-1958_FACTS_css2_w5\\contexts\\contexts_1670-1679.csv\n",
      "Saved detailed report to collocation_results/FACTS/collocate_results_1665-1958_FACTS_css2_w5\\collocation_txt\\collocates_txt_1670-1679.txt\n",
      "Saved collocates to collocation_results/FACTS/collocate_results_1665-1958_FACTS_css2_w5\\collocates_1671-1680.csv\n",
      "Saved contexts to collocation_results/FACTS/collocate_results_1665-1958_FACTS_css2_w5\\contexts\\contexts_1671-1680.csv\n",
      "Saved detailed report to collocation_results/FACTS/collocate_results_1665-1958_FACTS_css2_w5\\collocation_txt\\collocates_txt_1671-1680.txt\n",
      "Saved collocates to collocation_results/FACTS/collocate_results_1665-1958_FACTS_css2_w5\\collocates_1672-1681.csv\n",
      "Saved contexts to collocation_results/FACTS/collocate_results_1665-1958_FACTS_css2_w5\\contexts\\contexts_1672-1681.csv\n",
      "Saved detailed report to collocation_results/FACTS/collocate_results_1665-1958_FACTS_css2_w5\\collocation_txt\\collocates_txt_1672-1681.txt\n",
      "Saved collocates to collocation_results/FACTS/collocate_results_1665-1958_FACTS_css2_w5\\collocates_1673-1682.csv\n",
      "Saved contexts to collocation_results/FACTS/collocate_results_1665-1958_FACTS_css2_w5\\contexts\\contexts_1673-1682.csv\n",
      "Saved detailed report to collocation_results/FACTS/collocate_results_1665-1958_FACTS_css2_w5\\collocation_txt\\collocates_txt_1673-1682.txt\n",
      "Saved collocates to collocation_results/FACTS/collocate_results_1665-1958_FACTS_css2_w5\\collocates_1674-1683.csv\n",
      "Saved contexts to collocation_results/FACTS/collocate_results_1665-1958_FACTS_css2_w5\\contexts\\contexts_1674-1683.csv\n",
      "Saved detailed report to collocation_results/FACTS/collocate_results_1665-1958_FACTS_css2_w5\\collocation_txt\\collocates_txt_1674-1683.txt\n",
      "Saved collocates to collocation_results/FACTS/collocate_results_1665-1958_FACTS_css2_w5\\collocates_1675-1684.csv\n",
      "Saved contexts to collocation_results/FACTS/collocate_results_1665-1958_FACTS_css2_w5\\contexts\\contexts_1675-1684.csv\n",
      "Saved detailed report to collocation_results/FACTS/collocate_results_1665-1958_FACTS_css2_w5\\collocation_txt\\collocates_txt_1675-1684.txt\n",
      "Saved collocates to collocation_results/FACTS/collocate_results_1665-1958_FACTS_css2_w5\\collocates_1676-1685.csv\n",
      "Saved contexts to collocation_results/FACTS/collocate_results_1665-1958_FACTS_css2_w5\\contexts\\contexts_1676-1685.csv\n",
      "Saved detailed report to collocation_results/FACTS/collocate_results_1665-1958_FACTS_css2_w5\\collocation_txt\\collocates_txt_1676-1685.txt\n",
      "Saved collocates to collocation_results/FACTS/collocate_results_1665-1958_FACTS_css2_w5\\collocates_1677-1686.csv\n",
      "Saved contexts to collocation_results/FACTS/collocate_results_1665-1958_FACTS_css2_w5\\contexts\\contexts_1677-1686.csv\n",
      "Saved detailed report to collocation_results/FACTS/collocate_results_1665-1958_FACTS_css2_w5\\collocation_txt\\collocates_txt_1677-1686.txt\n",
      "Saved collocates to collocation_results/FACTS/collocate_results_1665-1958_FACTS_css2_w5\\collocates_1678-1687.csv\n",
      "Saved contexts to collocation_results/FACTS/collocate_results_1665-1958_FACTS_css2_w5\\contexts\\contexts_1678-1687.csv\n",
      "Saved detailed report to collocation_results/FACTS/collocate_results_1665-1958_FACTS_css2_w5\\collocation_txt\\collocates_txt_1678-1687.txt\n",
      "Saved collocates to collocation_results/FACTS/collocate_results_1665-1958_FACTS_css2_w5\\collocates_1679-1688.csv\n",
      "Saved contexts to collocation_results/FACTS/collocate_results_1665-1958_FACTS_css2_w5\\contexts\\contexts_1679-1688.csv\n",
      "Saved detailed report to collocation_results/FACTS/collocate_results_1665-1958_FACTS_css2_w5\\collocation_txt\\collocates_txt_1679-1688.txt\n",
      "Saved collocates to collocation_results/FACTS/collocate_results_1665-1958_FACTS_css2_w5\\collocates_1680-1689.csv\n",
      "Saved contexts to collocation_results/FACTS/collocate_results_1665-1958_FACTS_css2_w5\\contexts\\contexts_1680-1689.csv\n",
      "Saved detailed report to collocation_results/FACTS/collocate_results_1665-1958_FACTS_css2_w5\\collocation_txt\\collocates_txt_1680-1689.txt\n",
      "Saved collocates to collocation_results/FACTS/collocate_results_1665-1958_FACTS_css2_w5\\collocates_1681-1690.csv\n",
      "Saved contexts to collocation_results/FACTS/collocate_results_1665-1958_FACTS_css2_w5\\contexts\\contexts_1681-1690.csv\n",
      "Saved detailed report to collocation_results/FACTS/collocate_results_1665-1958_FACTS_css2_w5\\collocation_txt\\collocates_txt_1681-1690.txt\n",
      "Saved collocates to collocation_results/FACTS/collocate_results_1665-1958_FACTS_css2_w5\\collocates_1682-1691.csv\n",
      "Saved contexts to collocation_results/FACTS/collocate_results_1665-1958_FACTS_css2_w5\\contexts\\contexts_1682-1691.csv\n",
      "Saved detailed report to collocation_results/FACTS/collocate_results_1665-1958_FACTS_css2_w5\\collocation_txt\\collocates_txt_1682-1691.txt\n",
      "Saved collocates to collocation_results/FACTS/collocate_results_1665-1958_FACTS_css2_w5\\collocates_1683-1692.csv\n",
      "Saved contexts to collocation_results/FACTS/collocate_results_1665-1958_FACTS_css2_w5\\contexts\\contexts_1683-1692.csv\n",
      "Saved detailed report to collocation_results/FACTS/collocate_results_1665-1958_FACTS_css2_w5\\collocation_txt\\collocates_txt_1683-1692.txt\n",
      "Saved collocates to collocation_results/FACTS/collocate_results_1665-1958_FACTS_css2_w5\\collocates_1684-1693.csv\n",
      "Saved contexts to collocation_results/FACTS/collocate_results_1665-1958_FACTS_css2_w5\\contexts\\contexts_1684-1693.csv\n",
      "Saved detailed report to collocation_results/FACTS/collocate_results_1665-1958_FACTS_css2_w5\\collocation_txt\\collocates_txt_1684-1693.txt\n",
      "Saved collocates to collocation_results/FACTS/collocate_results_1665-1958_FACTS_css2_w5\\collocates_1685-1694.csv\n",
      "Saved contexts to collocation_results/FACTS/collocate_results_1665-1958_FACTS_css2_w5\\contexts\\contexts_1685-1694.csv\n",
      "Saved detailed report to collocation_results/FACTS/collocate_results_1665-1958_FACTS_css2_w5\\collocation_txt\\collocates_txt_1685-1694.txt\n",
      "Saved collocates to collocation_results/FACTS/collocate_results_1665-1958_FACTS_css2_w5\\collocates_1686-1695.csv\n",
      "Saved contexts to collocation_results/FACTS/collocate_results_1665-1958_FACTS_css2_w5\\contexts\\contexts_1686-1695.csv\n",
      "Saved detailed report to collocation_results/FACTS/collocate_results_1665-1958_FACTS_css2_w5\\collocation_txt\\collocates_txt_1686-1695.txt\n",
      "Saved collocates to collocation_results/FACTS/collocate_results_1665-1958_FACTS_css2_w5\\collocates_1687-1696.csv\n",
      "Saved contexts to collocation_results/FACTS/collocate_results_1665-1958_FACTS_css2_w5\\contexts\\contexts_1687-1696.csv\n",
      "Saved detailed report to collocation_results/FACTS/collocate_results_1665-1958_FACTS_css2_w5\\collocation_txt\\collocates_txt_1687-1696.txt\n",
      "Saved collocates to collocation_results/FACTS/collocate_results_1665-1958_FACTS_css2_w5\\collocates_1688-1697.csv\n",
      "Saved contexts to collocation_results/FACTS/collocate_results_1665-1958_FACTS_css2_w5\\contexts\\contexts_1688-1697.csv\n",
      "Saved detailed report to collocation_results/FACTS/collocate_results_1665-1958_FACTS_css2_w5\\collocation_txt\\collocates_txt_1688-1697.txt\n",
      "Saved collocates to collocation_results/FACTS/collocate_results_1665-1958_FACTS_css2_w5\\collocates_1689-1698.csv\n",
      "Saved contexts to collocation_results/FACTS/collocate_results_1665-1958_FACTS_css2_w5\\contexts\\contexts_1689-1698.csv\n",
      "Saved detailed report to collocation_results/FACTS/collocate_results_1665-1958_FACTS_css2_w5\\collocation_txt\\collocates_txt_1689-1698.txt\n",
      "Saved collocates to collocation_results/FACTS/collocate_results_1665-1958_FACTS_css2_w5\\collocates_1690-1699.csv\n",
      "Saved contexts to collocation_results/FACTS/collocate_results_1665-1958_FACTS_css2_w5\\contexts\\contexts_1690-1699.csv\n",
      "Saved detailed report to collocation_results/FACTS/collocate_results_1665-1958_FACTS_css2_w5\\collocation_txt\\collocates_txt_1690-1699.txt\n",
      "Saved collocates to collocation_results/FACTS/collocate_results_1665-1958_FACTS_css2_w5\\collocates_1691-1700.csv\n",
      "Saved contexts to collocation_results/FACTS/collocate_results_1665-1958_FACTS_css2_w5\\contexts\\contexts_1691-1700.csv\n",
      "Saved detailed report to collocation_results/FACTS/collocate_results_1665-1958_FACTS_css2_w5\\collocation_txt\\collocates_txt_1691-1700.txt\n",
      "Saved collocates to collocation_results/FACTS/collocate_results_1665-1958_FACTS_css2_w5\\collocates_1692-1701.csv\n",
      "Saved contexts to collocation_results/FACTS/collocate_results_1665-1958_FACTS_css2_w5\\contexts\\contexts_1692-1701.csv\n",
      "Saved detailed report to collocation_results/FACTS/collocate_results_1665-1958_FACTS_css2_w5\\collocation_txt\\collocates_txt_1692-1701.txt\n",
      "Saved collocates to collocation_results/FACTS/collocate_results_1665-1958_FACTS_css2_w5\\collocates_1693-1702.csv\n",
      "Saved contexts to collocation_results/FACTS/collocate_results_1665-1958_FACTS_css2_w5\\contexts\\contexts_1693-1702.csv\n",
      "Saved detailed report to collocation_results/FACTS/collocate_results_1665-1958_FACTS_css2_w5\\collocation_txt\\collocates_txt_1693-1702.txt\n",
      "Saved collocates to collocation_results/FACTS/collocate_results_1665-1958_FACTS_css2_w5\\collocates_1694-1703.csv\n",
      "Saved contexts to collocation_results/FACTS/collocate_results_1665-1958_FACTS_css2_w5\\contexts\\contexts_1694-1703.csv\n",
      "Saved detailed report to collocation_results/FACTS/collocate_results_1665-1958_FACTS_css2_w5\\collocation_txt\\collocates_txt_1694-1703.txt\n",
      "Saved collocates to collocation_results/FACTS/collocate_results_1665-1958_FACTS_css2_w5\\collocates_1695-1704.csv\n",
      "Saved contexts to collocation_results/FACTS/collocate_results_1665-1958_FACTS_css2_w5\\contexts\\contexts_1695-1704.csv\n",
      "Saved detailed report to collocation_results/FACTS/collocate_results_1665-1958_FACTS_css2_w5\\collocation_txt\\collocates_txt_1695-1704.txt\n",
      "Saved collocates to collocation_results/FACTS/collocate_results_1665-1958_FACTS_css2_w5\\collocates_1696-1705.csv\n",
      "Saved contexts to collocation_results/FACTS/collocate_results_1665-1958_FACTS_css2_w5\\contexts\\contexts_1696-1705.csv\n",
      "Saved detailed report to collocation_results/FACTS/collocate_results_1665-1958_FACTS_css2_w5\\collocation_txt\\collocates_txt_1696-1705.txt\n",
      "Saved collocates to collocation_results/FACTS/collocate_results_1665-1958_FACTS_css2_w5\\collocates_1697-1706.csv\n",
      "Saved contexts to collocation_results/FACTS/collocate_results_1665-1958_FACTS_css2_w5\\contexts\\contexts_1697-1706.csv\n",
      "Saved detailed report to collocation_results/FACTS/collocate_results_1665-1958_FACTS_css2_w5\\collocation_txt\\collocates_txt_1697-1706.txt\n",
      "Saved collocates to collocation_results/FACTS/collocate_results_1665-1958_FACTS_css2_w5\\collocates_1698-1707.csv\n",
      "Saved contexts to collocation_results/FACTS/collocate_results_1665-1958_FACTS_css2_w5\\contexts\\contexts_1698-1707.csv\n",
      "Saved detailed report to collocation_results/FACTS/collocate_results_1665-1958_FACTS_css2_w5\\collocation_txt\\collocates_txt_1698-1707.txt\n",
      "Saved collocates to collocation_results/FACTS/collocate_results_1665-1958_FACTS_css2_w5\\collocates_1699-1708.csv\n",
      "Saved contexts to collocation_results/FACTS/collocate_results_1665-1958_FACTS_css2_w5\\contexts\\contexts_1699-1708.csv\n",
      "Saved detailed report to collocation_results/FACTS/collocate_results_1665-1958_FACTS_css2_w5\\collocation_txt\\collocates_txt_1699-1708.txt\n",
      "Saved collocates to collocation_results/FACTS/collocate_results_1665-1958_FACTS_css2_w5\\collocates_1700-1709.csv\n",
      "Saved contexts to collocation_results/FACTS/collocate_results_1665-1958_FACTS_css2_w5\\contexts\\contexts_1700-1709.csv\n",
      "Saved detailed report to collocation_results/FACTS/collocate_results_1665-1958_FACTS_css2_w5\\collocation_txt\\collocates_txt_1700-1709.txt\n",
      "Saved collocates to collocation_results/FACTS/collocate_results_1665-1958_FACTS_css2_w5\\collocates_1701-1710.csv\n",
      "Saved contexts to collocation_results/FACTS/collocate_results_1665-1958_FACTS_css2_w5\\contexts\\contexts_1701-1710.csv\n",
      "Saved detailed report to collocation_results/FACTS/collocate_results_1665-1958_FACTS_css2_w5\\collocation_txt\\collocates_txt_1701-1710.txt\n",
      "Saved collocates to collocation_results/FACTS/collocate_results_1665-1958_FACTS_css2_w5\\collocates_1702-1711.csv\n",
      "Saved contexts to collocation_results/FACTS/collocate_results_1665-1958_FACTS_css2_w5\\contexts\\contexts_1702-1711.csv\n",
      "Saved detailed report to collocation_results/FACTS/collocate_results_1665-1958_FACTS_css2_w5\\collocation_txt\\collocates_txt_1702-1711.txt\n",
      "Saved collocates to collocation_results/FACTS/collocate_results_1665-1958_FACTS_css2_w5\\collocates_1703-1712.csv\n",
      "Saved contexts to collocation_results/FACTS/collocate_results_1665-1958_FACTS_css2_w5\\contexts\\contexts_1703-1712.csv\n",
      "Saved detailed report to collocation_results/FACTS/collocate_results_1665-1958_FACTS_css2_w5\\collocation_txt\\collocates_txt_1703-1712.txt\n",
      "Saved collocates to collocation_results/FACTS/collocate_results_1665-1958_FACTS_css2_w5\\collocates_1704-1713.csv\n",
      "Saved contexts to collocation_results/FACTS/collocate_results_1665-1958_FACTS_css2_w5\\contexts\\contexts_1704-1713.csv\n",
      "Saved detailed report to collocation_results/FACTS/collocate_results_1665-1958_FACTS_css2_w5\\collocation_txt\\collocates_txt_1704-1713.txt\n",
      "Saved collocates to collocation_results/FACTS/collocate_results_1665-1958_FACTS_css2_w5\\collocates_1705-1714.csv\n",
      "Saved contexts to collocation_results/FACTS/collocate_results_1665-1958_FACTS_css2_w5\\contexts\\contexts_1705-1714.csv\n",
      "Saved detailed report to collocation_results/FACTS/collocate_results_1665-1958_FACTS_css2_w5\\collocation_txt\\collocates_txt_1705-1714.txt\n",
      "Saved collocates to collocation_results/FACTS/collocate_results_1665-1958_FACTS_css2_w5\\collocates_1706-1715.csv\n",
      "Saved contexts to collocation_results/FACTS/collocate_results_1665-1958_FACTS_css2_w5\\contexts\\contexts_1706-1715.csv\n",
      "Saved detailed report to collocation_results/FACTS/collocate_results_1665-1958_FACTS_css2_w5\\collocation_txt\\collocates_txt_1706-1715.txt\n",
      "Saved collocates to collocation_results/FACTS/collocate_results_1665-1958_FACTS_css2_w5\\collocates_1707-1716.csv\n",
      "Saved contexts to collocation_results/FACTS/collocate_results_1665-1958_FACTS_css2_w5\\contexts\\contexts_1707-1716.csv\n",
      "Saved detailed report to collocation_results/FACTS/collocate_results_1665-1958_FACTS_css2_w5\\collocation_txt\\collocates_txt_1707-1716.txt\n",
      "Saved collocates to collocation_results/FACTS/collocate_results_1665-1958_FACTS_css2_w5\\collocates_1708-1717.csv\n",
      "Saved contexts to collocation_results/FACTS/collocate_results_1665-1958_FACTS_css2_w5\\contexts\\contexts_1708-1717.csv\n",
      "Saved detailed report to collocation_results/FACTS/collocate_results_1665-1958_FACTS_css2_w5\\collocation_txt\\collocates_txt_1708-1717.txt\n",
      "Saved collocates to collocation_results/FACTS/collocate_results_1665-1958_FACTS_css2_w5\\collocates_1709-1718.csv\n",
      "Saved contexts to collocation_results/FACTS/collocate_results_1665-1958_FACTS_css2_w5\\contexts\\contexts_1709-1718.csv\n",
      "Saved detailed report to collocation_results/FACTS/collocate_results_1665-1958_FACTS_css2_w5\\collocation_txt\\collocates_txt_1709-1718.txt\n",
      "Saved collocates to collocation_results/FACTS/collocate_results_1665-1958_FACTS_css2_w5\\collocates_1710-1719.csv\n",
      "Saved contexts to collocation_results/FACTS/collocate_results_1665-1958_FACTS_css2_w5\\contexts\\contexts_1710-1719.csv\n",
      "Saved detailed report to collocation_results/FACTS/collocate_results_1665-1958_FACTS_css2_w5\\collocation_txt\\collocates_txt_1710-1719.txt\n",
      "Saved collocates to collocation_results/FACTS/collocate_results_1665-1958_FACTS_css2_w5\\collocates_1711-1720.csv\n",
      "Saved contexts to collocation_results/FACTS/collocate_results_1665-1958_FACTS_css2_w5\\contexts\\contexts_1711-1720.csv\n",
      "Saved detailed report to collocation_results/FACTS/collocate_results_1665-1958_FACTS_css2_w5\\collocation_txt\\collocates_txt_1711-1720.txt\n",
      "Saved collocates to collocation_results/FACTS/collocate_results_1665-1958_FACTS_css2_w5\\collocates_1712-1721.csv\n",
      "Saved contexts to collocation_results/FACTS/collocate_results_1665-1958_FACTS_css2_w5\\contexts\\contexts_1712-1721.csv\n",
      "Saved detailed report to collocation_results/FACTS/collocate_results_1665-1958_FACTS_css2_w5\\collocation_txt\\collocates_txt_1712-1721.txt\n",
      "Saved collocates to collocation_results/FACTS/collocate_results_1665-1958_FACTS_css2_w5\\collocates_1713-1722.csv\n",
      "Saved contexts to collocation_results/FACTS/collocate_results_1665-1958_FACTS_css2_w5\\contexts\\contexts_1713-1722.csv\n",
      "Saved detailed report to collocation_results/FACTS/collocate_results_1665-1958_FACTS_css2_w5\\collocation_txt\\collocates_txt_1713-1722.txt\n",
      "Saved collocates to collocation_results/FACTS/collocate_results_1665-1958_FACTS_css2_w5\\collocates_1714-1723.csv\n",
      "Saved contexts to collocation_results/FACTS/collocate_results_1665-1958_FACTS_css2_w5\\contexts\\contexts_1714-1723.csv\n",
      "Saved detailed report to collocation_results/FACTS/collocate_results_1665-1958_FACTS_css2_w5\\collocation_txt\\collocates_txt_1714-1723.txt\n",
      "Saved collocates to collocation_results/FACTS/collocate_results_1665-1958_FACTS_css2_w5\\collocates_1715-1724.csv\n",
      "Saved contexts to collocation_results/FACTS/collocate_results_1665-1958_FACTS_css2_w5\\contexts\\contexts_1715-1724.csv\n",
      "Saved detailed report to collocation_results/FACTS/collocate_results_1665-1958_FACTS_css2_w5\\collocation_txt\\collocates_txt_1715-1724.txt\n",
      "Saved collocates to collocation_results/FACTS/collocate_results_1665-1958_FACTS_css2_w5\\collocates_1716-1725.csv\n",
      "Saved contexts to collocation_results/FACTS/collocate_results_1665-1958_FACTS_css2_w5\\contexts\\contexts_1716-1725.csv\n",
      "Saved detailed report to collocation_results/FACTS/collocate_results_1665-1958_FACTS_css2_w5\\collocation_txt\\collocates_txt_1716-1725.txt\n",
      "Saved collocates to collocation_results/FACTS/collocate_results_1665-1958_FACTS_css2_w5\\collocates_1717-1726.csv\n",
      "Saved contexts to collocation_results/FACTS/collocate_results_1665-1958_FACTS_css2_w5\\contexts\\contexts_1717-1726.csv\n",
      "Saved detailed report to collocation_results/FACTS/collocate_results_1665-1958_FACTS_css2_w5\\collocation_txt\\collocates_txt_1717-1726.txt\n",
      "Saved collocates to collocation_results/FACTS/collocate_results_1665-1958_FACTS_css2_w5\\collocates_1718-1727.csv\n",
      "Saved contexts to collocation_results/FACTS/collocate_results_1665-1958_FACTS_css2_w5\\contexts\\contexts_1718-1727.csv\n",
      "Saved detailed report to collocation_results/FACTS/collocate_results_1665-1958_FACTS_css2_w5\\collocation_txt\\collocates_txt_1718-1727.txt\n",
      "Saved collocates to collocation_results/FACTS/collocate_results_1665-1958_FACTS_css2_w5\\collocates_1719-1728.csv\n",
      "Saved contexts to collocation_results/FACTS/collocate_results_1665-1958_FACTS_css2_w5\\contexts\\contexts_1719-1728.csv\n",
      "Saved detailed report to collocation_results/FACTS/collocate_results_1665-1958_FACTS_css2_w5\\collocation_txt\\collocates_txt_1719-1728.txt\n",
      "Saved collocates to collocation_results/FACTS/collocate_results_1665-1958_FACTS_css2_w5\\collocates_1720-1729.csv\n",
      "Saved contexts to collocation_results/FACTS/collocate_results_1665-1958_FACTS_css2_w5\\contexts\\contexts_1720-1729.csv\n",
      "Saved detailed report to collocation_results/FACTS/collocate_results_1665-1958_FACTS_css2_w5\\collocation_txt\\collocates_txt_1720-1729.txt\n",
      "Saved collocates to collocation_results/FACTS/collocate_results_1665-1958_FACTS_css2_w5\\collocates_1721-1730.csv\n",
      "Saved contexts to collocation_results/FACTS/collocate_results_1665-1958_FACTS_css2_w5\\contexts\\contexts_1721-1730.csv\n",
      "Saved detailed report to collocation_results/FACTS/collocate_results_1665-1958_FACTS_css2_w5\\collocation_txt\\collocates_txt_1721-1730.txt\n",
      "Saved collocates to collocation_results/FACTS/collocate_results_1665-1958_FACTS_css2_w5\\collocates_1722-1731.csv\n",
      "Saved contexts to collocation_results/FACTS/collocate_results_1665-1958_FACTS_css2_w5\\contexts\\contexts_1722-1731.csv\n",
      "Saved detailed report to collocation_results/FACTS/collocate_results_1665-1958_FACTS_css2_w5\\collocation_txt\\collocates_txt_1722-1731.txt\n",
      "Saved collocates to collocation_results/FACTS/collocate_results_1665-1958_FACTS_css2_w5\\collocates_1723-1732.csv\n",
      "Saved contexts to collocation_results/FACTS/collocate_results_1665-1958_FACTS_css2_w5\\contexts\\contexts_1723-1732.csv\n",
      "Saved detailed report to collocation_results/FACTS/collocate_results_1665-1958_FACTS_css2_w5\\collocation_txt\\collocates_txt_1723-1732.txt\n",
      "Saved collocates to collocation_results/FACTS/collocate_results_1665-1958_FACTS_css2_w5\\collocates_1724-1733.csv\n",
      "Saved contexts to collocation_results/FACTS/collocate_results_1665-1958_FACTS_css2_w5\\contexts\\contexts_1724-1733.csv\n",
      "Saved detailed report to collocation_results/FACTS/collocate_results_1665-1958_FACTS_css2_w5\\collocation_txt\\collocates_txt_1724-1733.txt\n",
      "Saved collocates to collocation_results/FACTS/collocate_results_1665-1958_FACTS_css2_w5\\collocates_1725-1734.csv\n",
      "Saved contexts to collocation_results/FACTS/collocate_results_1665-1958_FACTS_css2_w5\\contexts\\contexts_1725-1734.csv\n",
      "Saved detailed report to collocation_results/FACTS/collocate_results_1665-1958_FACTS_css2_w5\\collocation_txt\\collocates_txt_1725-1734.txt\n",
      "Saved collocates to collocation_results/FACTS/collocate_results_1665-1958_FACTS_css2_w5\\collocates_1726-1735.csv\n",
      "Saved contexts to collocation_results/FACTS/collocate_results_1665-1958_FACTS_css2_w5\\contexts\\contexts_1726-1735.csv\n",
      "Saved detailed report to collocation_results/FACTS/collocate_results_1665-1958_FACTS_css2_w5\\collocation_txt\\collocates_txt_1726-1735.txt\n",
      "Saved collocates to collocation_results/FACTS/collocate_results_1665-1958_FACTS_css2_w5\\collocates_1727-1736.csv\n",
      "Saved contexts to collocation_results/FACTS/collocate_results_1665-1958_FACTS_css2_w5\\contexts\\contexts_1727-1736.csv\n",
      "Saved detailed report to collocation_results/FACTS/collocate_results_1665-1958_FACTS_css2_w5\\collocation_txt\\collocates_txt_1727-1736.txt\n",
      "Saved collocates to collocation_results/FACTS/collocate_results_1665-1958_FACTS_css2_w5\\collocates_1728-1737.csv\n",
      "Saved contexts to collocation_results/FACTS/collocate_results_1665-1958_FACTS_css2_w5\\contexts\\contexts_1728-1737.csv\n",
      "Saved detailed report to collocation_results/FACTS/collocate_results_1665-1958_FACTS_css2_w5\\collocation_txt\\collocates_txt_1728-1737.txt\n",
      "Saved collocates to collocation_results/FACTS/collocate_results_1665-1958_FACTS_css2_w5\\collocates_1729-1738.csv\n",
      "Saved contexts to collocation_results/FACTS/collocate_results_1665-1958_FACTS_css2_w5\\contexts\\contexts_1729-1738.csv\n",
      "Saved detailed report to collocation_results/FACTS/collocate_results_1665-1958_FACTS_css2_w5\\collocation_txt\\collocates_txt_1729-1738.txt\n",
      "Saved collocates to collocation_results/FACTS/collocate_results_1665-1958_FACTS_css2_w5\\collocates_1730-1739.csv\n",
      "Saved contexts to collocation_results/FACTS/collocate_results_1665-1958_FACTS_css2_w5\\contexts\\contexts_1730-1739.csv\n",
      "Saved detailed report to collocation_results/FACTS/collocate_results_1665-1958_FACTS_css2_w5\\collocation_txt\\collocates_txt_1730-1739.txt\n",
      "Saved collocates to collocation_results/FACTS/collocate_results_1665-1958_FACTS_css2_w5\\collocates_1731-1740.csv\n",
      "Saved contexts to collocation_results/FACTS/collocate_results_1665-1958_FACTS_css2_w5\\contexts\\contexts_1731-1740.csv\n",
      "Saved detailed report to collocation_results/FACTS/collocate_results_1665-1958_FACTS_css2_w5\\collocation_txt\\collocates_txt_1731-1740.txt\n",
      "Saved collocates to collocation_results/FACTS/collocate_results_1665-1958_FACTS_css2_w5\\collocates_1732-1741.csv\n",
      "Saved contexts to collocation_results/FACTS/collocate_results_1665-1958_FACTS_css2_w5\\contexts\\contexts_1732-1741.csv\n",
      "Saved detailed report to collocation_results/FACTS/collocate_results_1665-1958_FACTS_css2_w5\\collocation_txt\\collocates_txt_1732-1741.txt\n",
      "Saved collocates to collocation_results/FACTS/collocate_results_1665-1958_FACTS_css2_w5\\collocates_1733-1742.csv\n",
      "Saved contexts to collocation_results/FACTS/collocate_results_1665-1958_FACTS_css2_w5\\contexts\\contexts_1733-1742.csv\n",
      "Saved detailed report to collocation_results/FACTS/collocate_results_1665-1958_FACTS_css2_w5\\collocation_txt\\collocates_txt_1733-1742.txt\n",
      "Saved collocates to collocation_results/FACTS/collocate_results_1665-1958_FACTS_css2_w5\\collocates_1734-1743.csv\n",
      "Saved contexts to collocation_results/FACTS/collocate_results_1665-1958_FACTS_css2_w5\\contexts\\contexts_1734-1743.csv\n",
      "Saved detailed report to collocation_results/FACTS/collocate_results_1665-1958_FACTS_css2_w5\\collocation_txt\\collocates_txt_1734-1743.txt\n",
      "Saved collocates to collocation_results/FACTS/collocate_results_1665-1958_FACTS_css2_w5\\collocates_1735-1744.csv\n",
      "Saved contexts to collocation_results/FACTS/collocate_results_1665-1958_FACTS_css2_w5\\contexts\\contexts_1735-1744.csv\n",
      "Saved detailed report to collocation_results/FACTS/collocate_results_1665-1958_FACTS_css2_w5\\collocation_txt\\collocates_txt_1735-1744.txt\n",
      "Saved collocates to collocation_results/FACTS/collocate_results_1665-1958_FACTS_css2_w5\\collocates_1736-1745.csv\n",
      "Saved contexts to collocation_results/FACTS/collocate_results_1665-1958_FACTS_css2_w5\\contexts\\contexts_1736-1745.csv\n",
      "Saved detailed report to collocation_results/FACTS/collocate_results_1665-1958_FACTS_css2_w5\\collocation_txt\\collocates_txt_1736-1745.txt\n",
      "Saved collocates to collocation_results/FACTS/collocate_results_1665-1958_FACTS_css2_w5\\collocates_1737-1746.csv\n",
      "Saved contexts to collocation_results/FACTS/collocate_results_1665-1958_FACTS_css2_w5\\contexts\\contexts_1737-1746.csv\n",
      "Saved detailed report to collocation_results/FACTS/collocate_results_1665-1958_FACTS_css2_w5\\collocation_txt\\collocates_txt_1737-1746.txt\n",
      "Saved collocates to collocation_results/FACTS/collocate_results_1665-1958_FACTS_css2_w5\\collocates_1738-1747.csv\n",
      "Saved contexts to collocation_results/FACTS/collocate_results_1665-1958_FACTS_css2_w5\\contexts\\contexts_1738-1747.csv\n",
      "Saved detailed report to collocation_results/FACTS/collocate_results_1665-1958_FACTS_css2_w5\\collocation_txt\\collocates_txt_1738-1747.txt\n",
      "Saved collocates to collocation_results/FACTS/collocate_results_1665-1958_FACTS_css2_w5\\collocates_1739-1748.csv\n",
      "Saved contexts to collocation_results/FACTS/collocate_results_1665-1958_FACTS_css2_w5\\contexts\\contexts_1739-1748.csv\n",
      "Saved detailed report to collocation_results/FACTS/collocate_results_1665-1958_FACTS_css2_w5\\collocation_txt\\collocates_txt_1739-1748.txt\n",
      "Saved collocates to collocation_results/FACTS/collocate_results_1665-1958_FACTS_css2_w5\\collocates_1740-1749.csv\n",
      "Saved contexts to collocation_results/FACTS/collocate_results_1665-1958_FACTS_css2_w5\\contexts\\contexts_1740-1749.csv\n",
      "Saved detailed report to collocation_results/FACTS/collocate_results_1665-1958_FACTS_css2_w5\\collocation_txt\\collocates_txt_1740-1749.txt\n",
      "Saved collocates to collocation_results/FACTS/collocate_results_1665-1958_FACTS_css2_w5\\collocates_1741-1750.csv\n",
      "Saved contexts to collocation_results/FACTS/collocate_results_1665-1958_FACTS_css2_w5\\contexts\\contexts_1741-1750.csv\n",
      "Saved detailed report to collocation_results/FACTS/collocate_results_1665-1958_FACTS_css2_w5\\collocation_txt\\collocates_txt_1741-1750.txt\n",
      "Saved collocates to collocation_results/FACTS/collocate_results_1665-1958_FACTS_css2_w5\\collocates_1742-1751.csv\n",
      "Saved contexts to collocation_results/FACTS/collocate_results_1665-1958_FACTS_css2_w5\\contexts\\contexts_1742-1751.csv\n",
      "Saved detailed report to collocation_results/FACTS/collocate_results_1665-1958_FACTS_css2_w5\\collocation_txt\\collocates_txt_1742-1751.txt\n",
      "Saved collocates to collocation_results/FACTS/collocate_results_1665-1958_FACTS_css2_w5\\collocates_1743-1752.csv\n",
      "Saved contexts to collocation_results/FACTS/collocate_results_1665-1958_FACTS_css2_w5\\contexts\\contexts_1743-1752.csv\n",
      "Saved detailed report to collocation_results/FACTS/collocate_results_1665-1958_FACTS_css2_w5\\collocation_txt\\collocates_txt_1743-1752.txt\n",
      "Saved collocates to collocation_results/FACTS/collocate_results_1665-1958_FACTS_css2_w5\\collocates_1744-1753.csv\n",
      "Saved contexts to collocation_results/FACTS/collocate_results_1665-1958_FACTS_css2_w5\\contexts\\contexts_1744-1753.csv\n",
      "Saved detailed report to collocation_results/FACTS/collocate_results_1665-1958_FACTS_css2_w5\\collocation_txt\\collocates_txt_1744-1753.txt\n",
      "Saved collocates to collocation_results/FACTS/collocate_results_1665-1958_FACTS_css2_w5\\collocates_1745-1754.csv\n",
      "Saved contexts to collocation_results/FACTS/collocate_results_1665-1958_FACTS_css2_w5\\contexts\\contexts_1745-1754.csv\n",
      "Saved detailed report to collocation_results/FACTS/collocate_results_1665-1958_FACTS_css2_w5\\collocation_txt\\collocates_txt_1745-1754.txt\n",
      "Saved collocates to collocation_results/FACTS/collocate_results_1665-1958_FACTS_css2_w5\\collocates_1746-1755.csv\n",
      "Saved contexts to collocation_results/FACTS/collocate_results_1665-1958_FACTS_css2_w5\\contexts\\contexts_1746-1755.csv\n",
      "Saved detailed report to collocation_results/FACTS/collocate_results_1665-1958_FACTS_css2_w5\\collocation_txt\\collocates_txt_1746-1755.txt\n",
      "Saved collocates to collocation_results/FACTS/collocate_results_1665-1958_FACTS_css2_w5\\collocates_1747-1756.csv\n",
      "Saved contexts to collocation_results/FACTS/collocate_results_1665-1958_FACTS_css2_w5\\contexts\\contexts_1747-1756.csv\n",
      "Saved detailed report to collocation_results/FACTS/collocate_results_1665-1958_FACTS_css2_w5\\collocation_txt\\collocates_txt_1747-1756.txt\n",
      "Saved collocates to collocation_results/FACTS/collocate_results_1665-1958_FACTS_css2_w5\\collocates_1748-1757.csv\n",
      "Saved contexts to collocation_results/FACTS/collocate_results_1665-1958_FACTS_css2_w5\\contexts\\contexts_1748-1757.csv\n",
      "Saved detailed report to collocation_results/FACTS/collocate_results_1665-1958_FACTS_css2_w5\\collocation_txt\\collocates_txt_1748-1757.txt\n",
      "Saved collocates to collocation_results/FACTS/collocate_results_1665-1958_FACTS_css2_w5\\collocates_1749-1758.csv\n",
      "Saved contexts to collocation_results/FACTS/collocate_results_1665-1958_FACTS_css2_w5\\contexts\\contexts_1749-1758.csv\n",
      "Saved detailed report to collocation_results/FACTS/collocate_results_1665-1958_FACTS_css2_w5\\collocation_txt\\collocates_txt_1749-1758.txt\n",
      "Saved collocates to collocation_results/FACTS/collocate_results_1665-1958_FACTS_css2_w5\\collocates_1750-1759.csv\n",
      "Saved contexts to collocation_results/FACTS/collocate_results_1665-1958_FACTS_css2_w5\\contexts\\contexts_1750-1759.csv\n",
      "Saved detailed report to collocation_results/FACTS/collocate_results_1665-1958_FACTS_css2_w5\\collocation_txt\\collocates_txt_1750-1759.txt\n",
      "Saved collocates to collocation_results/FACTS/collocate_results_1665-1958_FACTS_css2_w5\\collocates_1751-1760.csv\n",
      "Saved contexts to collocation_results/FACTS/collocate_results_1665-1958_FACTS_css2_w5\\contexts\\contexts_1751-1760.csv\n",
      "Saved detailed report to collocation_results/FACTS/collocate_results_1665-1958_FACTS_css2_w5\\collocation_txt\\collocates_txt_1751-1760.txt\n",
      "Saved collocates to collocation_results/FACTS/collocate_results_1665-1958_FACTS_css2_w5\\collocates_1752-1761.csv\n",
      "Saved contexts to collocation_results/FACTS/collocate_results_1665-1958_FACTS_css2_w5\\contexts\\contexts_1752-1761.csv\n",
      "Saved detailed report to collocation_results/FACTS/collocate_results_1665-1958_FACTS_css2_w5\\collocation_txt\\collocates_txt_1752-1761.txt\n",
      "Saved collocates to collocation_results/FACTS/collocate_results_1665-1958_FACTS_css2_w5\\collocates_1753-1762.csv\n",
      "Saved contexts to collocation_results/FACTS/collocate_results_1665-1958_FACTS_css2_w5\\contexts\\contexts_1753-1762.csv\n",
      "Saved detailed report to collocation_results/FACTS/collocate_results_1665-1958_FACTS_css2_w5\\collocation_txt\\collocates_txt_1753-1762.txt\n",
      "Saved collocates to collocation_results/FACTS/collocate_results_1665-1958_FACTS_css2_w5\\collocates_1754-1763.csv\n",
      "Saved contexts to collocation_results/FACTS/collocate_results_1665-1958_FACTS_css2_w5\\contexts\\contexts_1754-1763.csv\n",
      "Saved detailed report to collocation_results/FACTS/collocate_results_1665-1958_FACTS_css2_w5\\collocation_txt\\collocates_txt_1754-1763.txt\n",
      "Saved collocates to collocation_results/FACTS/collocate_results_1665-1958_FACTS_css2_w5\\collocates_1755-1764.csv\n",
      "Saved contexts to collocation_results/FACTS/collocate_results_1665-1958_FACTS_css2_w5\\contexts\\contexts_1755-1764.csv\n",
      "Saved detailed report to collocation_results/FACTS/collocate_results_1665-1958_FACTS_css2_w5\\collocation_txt\\collocates_txt_1755-1764.txt\n",
      "Saved collocates to collocation_results/FACTS/collocate_results_1665-1958_FACTS_css2_w5\\collocates_1756-1765.csv\n",
      "Saved contexts to collocation_results/FACTS/collocate_results_1665-1958_FACTS_css2_w5\\contexts\\contexts_1756-1765.csv\n",
      "Saved detailed report to collocation_results/FACTS/collocate_results_1665-1958_FACTS_css2_w5\\collocation_txt\\collocates_txt_1756-1765.txt\n",
      "Saved collocates to collocation_results/FACTS/collocate_results_1665-1958_FACTS_css2_w5\\collocates_1757-1766.csv\n",
      "Saved contexts to collocation_results/FACTS/collocate_results_1665-1958_FACTS_css2_w5\\contexts\\contexts_1757-1766.csv\n",
      "Saved detailed report to collocation_results/FACTS/collocate_results_1665-1958_FACTS_css2_w5\\collocation_txt\\collocates_txt_1757-1766.txt\n",
      "Saved collocates to collocation_results/FACTS/collocate_results_1665-1958_FACTS_css2_w5\\collocates_1758-1767.csv\n",
      "Saved contexts to collocation_results/FACTS/collocate_results_1665-1958_FACTS_css2_w5\\contexts\\contexts_1758-1767.csv\n",
      "Saved detailed report to collocation_results/FACTS/collocate_results_1665-1958_FACTS_css2_w5\\collocation_txt\\collocates_txt_1758-1767.txt\n",
      "Saved collocates to collocation_results/FACTS/collocate_results_1665-1958_FACTS_css2_w5\\collocates_1759-1768.csv\n",
      "Saved contexts to collocation_results/FACTS/collocate_results_1665-1958_FACTS_css2_w5\\contexts\\contexts_1759-1768.csv\n",
      "Saved detailed report to collocation_results/FACTS/collocate_results_1665-1958_FACTS_css2_w5\\collocation_txt\\collocates_txt_1759-1768.txt\n",
      "Saved collocates to collocation_results/FACTS/collocate_results_1665-1958_FACTS_css2_w5\\collocates_1760-1769.csv\n",
      "Saved contexts to collocation_results/FACTS/collocate_results_1665-1958_FACTS_css2_w5\\contexts\\contexts_1760-1769.csv\n",
      "Saved detailed report to collocation_results/FACTS/collocate_results_1665-1958_FACTS_css2_w5\\collocation_txt\\collocates_txt_1760-1769.txt\n",
      "Saved collocates to collocation_results/FACTS/collocate_results_1665-1958_FACTS_css2_w5\\collocates_1761-1770.csv\n",
      "Saved contexts to collocation_results/FACTS/collocate_results_1665-1958_FACTS_css2_w5\\contexts\\contexts_1761-1770.csv\n",
      "Saved detailed report to collocation_results/FACTS/collocate_results_1665-1958_FACTS_css2_w5\\collocation_txt\\collocates_txt_1761-1770.txt\n",
      "Saved collocates to collocation_results/FACTS/collocate_results_1665-1958_FACTS_css2_w5\\collocates_1762-1771.csv\n",
      "Saved contexts to collocation_results/FACTS/collocate_results_1665-1958_FACTS_css2_w5\\contexts\\contexts_1762-1771.csv\n",
      "Saved detailed report to collocation_results/FACTS/collocate_results_1665-1958_FACTS_css2_w5\\collocation_txt\\collocates_txt_1762-1771.txt\n",
      "Saved collocates to collocation_results/FACTS/collocate_results_1665-1958_FACTS_css2_w5\\collocates_1763-1772.csv\n",
      "Saved contexts to collocation_results/FACTS/collocate_results_1665-1958_FACTS_css2_w5\\contexts\\contexts_1763-1772.csv\n",
      "Saved detailed report to collocation_results/FACTS/collocate_results_1665-1958_FACTS_css2_w5\\collocation_txt\\collocates_txt_1763-1772.txt\n",
      "Saved collocates to collocation_results/FACTS/collocate_results_1665-1958_FACTS_css2_w5\\collocates_1764-1773.csv\n",
      "Saved contexts to collocation_results/FACTS/collocate_results_1665-1958_FACTS_css2_w5\\contexts\\contexts_1764-1773.csv\n",
      "Saved detailed report to collocation_results/FACTS/collocate_results_1665-1958_FACTS_css2_w5\\collocation_txt\\collocates_txt_1764-1773.txt\n",
      "Saved collocates to collocation_results/FACTS/collocate_results_1665-1958_FACTS_css2_w5\\collocates_1765-1774.csv\n",
      "Saved contexts to collocation_results/FACTS/collocate_results_1665-1958_FACTS_css2_w5\\contexts\\contexts_1765-1774.csv\n",
      "Saved detailed report to collocation_results/FACTS/collocate_results_1665-1958_FACTS_css2_w5\\collocation_txt\\collocates_txt_1765-1774.txt\n",
      "Saved collocates to collocation_results/FACTS/collocate_results_1665-1958_FACTS_css2_w5\\collocates_1766-1775.csv\n",
      "Saved contexts to collocation_results/FACTS/collocate_results_1665-1958_FACTS_css2_w5\\contexts\\contexts_1766-1775.csv\n",
      "Saved detailed report to collocation_results/FACTS/collocate_results_1665-1958_FACTS_css2_w5\\collocation_txt\\collocates_txt_1766-1775.txt\n",
      "Saved collocates to collocation_results/FACTS/collocate_results_1665-1958_FACTS_css2_w5\\collocates_1767-1776.csv\n",
      "Saved contexts to collocation_results/FACTS/collocate_results_1665-1958_FACTS_css2_w5\\contexts\\contexts_1767-1776.csv\n",
      "Saved detailed report to collocation_results/FACTS/collocate_results_1665-1958_FACTS_css2_w5\\collocation_txt\\collocates_txt_1767-1776.txt\n",
      "Saved collocates to collocation_results/FACTS/collocate_results_1665-1958_FACTS_css2_w5\\collocates_1768-1777.csv\n",
      "Saved contexts to collocation_results/FACTS/collocate_results_1665-1958_FACTS_css2_w5\\contexts\\contexts_1768-1777.csv\n",
      "Saved detailed report to collocation_results/FACTS/collocate_results_1665-1958_FACTS_css2_w5\\collocation_txt\\collocates_txt_1768-1777.txt\n",
      "Saved collocates to collocation_results/FACTS/collocate_results_1665-1958_FACTS_css2_w5\\collocates_1769-1778.csv\n",
      "Saved contexts to collocation_results/FACTS/collocate_results_1665-1958_FACTS_css2_w5\\contexts\\contexts_1769-1778.csv\n",
      "Saved detailed report to collocation_results/FACTS/collocate_results_1665-1958_FACTS_css2_w5\\collocation_txt\\collocates_txt_1769-1778.txt\n",
      "Saved collocates to collocation_results/FACTS/collocate_results_1665-1958_FACTS_css2_w5\\collocates_1770-1779.csv\n",
      "Saved contexts to collocation_results/FACTS/collocate_results_1665-1958_FACTS_css2_w5\\contexts\\contexts_1770-1779.csv\n",
      "Saved detailed report to collocation_results/FACTS/collocate_results_1665-1958_FACTS_css2_w5\\collocation_txt\\collocates_txt_1770-1779.txt\n",
      "Saved collocates to collocation_results/FACTS/collocate_results_1665-1958_FACTS_css2_w5\\collocates_1771-1780.csv\n",
      "Saved contexts to collocation_results/FACTS/collocate_results_1665-1958_FACTS_css2_w5\\contexts\\contexts_1771-1780.csv\n",
      "Saved detailed report to collocation_results/FACTS/collocate_results_1665-1958_FACTS_css2_w5\\collocation_txt\\collocates_txt_1771-1780.txt\n",
      "Saved collocates to collocation_results/FACTS/collocate_results_1665-1958_FACTS_css2_w5\\collocates_1772-1781.csv\n",
      "Saved contexts to collocation_results/FACTS/collocate_results_1665-1958_FACTS_css2_w5\\contexts\\contexts_1772-1781.csv\n",
      "Saved detailed report to collocation_results/FACTS/collocate_results_1665-1958_FACTS_css2_w5\\collocation_txt\\collocates_txt_1772-1781.txt\n",
      "Saved collocates to collocation_results/FACTS/collocate_results_1665-1958_FACTS_css2_w5\\collocates_1773-1782.csv\n",
      "Saved contexts to collocation_results/FACTS/collocate_results_1665-1958_FACTS_css2_w5\\contexts\\contexts_1773-1782.csv\n",
      "Saved detailed report to collocation_results/FACTS/collocate_results_1665-1958_FACTS_css2_w5\\collocation_txt\\collocates_txt_1773-1782.txt\n",
      "Saved collocates to collocation_results/FACTS/collocate_results_1665-1958_FACTS_css2_w5\\collocates_1774-1783.csv\n",
      "Saved contexts to collocation_results/FACTS/collocate_results_1665-1958_FACTS_css2_w5\\contexts\\contexts_1774-1783.csv\n",
      "Saved detailed report to collocation_results/FACTS/collocate_results_1665-1958_FACTS_css2_w5\\collocation_txt\\collocates_txt_1774-1783.txt\n",
      "Saved collocates to collocation_results/FACTS/collocate_results_1665-1958_FACTS_css2_w5\\collocates_1775-1784.csv\n",
      "Saved contexts to collocation_results/FACTS/collocate_results_1665-1958_FACTS_css2_w5\\contexts\\contexts_1775-1784.csv\n",
      "Saved detailed report to collocation_results/FACTS/collocate_results_1665-1958_FACTS_css2_w5\\collocation_txt\\collocates_txt_1775-1784.txt\n",
      "Saved collocates to collocation_results/FACTS/collocate_results_1665-1958_FACTS_css2_w5\\collocates_1776-1785.csv\n",
      "Saved contexts to collocation_results/FACTS/collocate_results_1665-1958_FACTS_css2_w5\\contexts\\contexts_1776-1785.csv\n",
      "Saved detailed report to collocation_results/FACTS/collocate_results_1665-1958_FACTS_css2_w5\\collocation_txt\\collocates_txt_1776-1785.txt\n",
      "Saved collocates to collocation_results/FACTS/collocate_results_1665-1958_FACTS_css2_w5\\collocates_1777-1786.csv\n",
      "Saved contexts to collocation_results/FACTS/collocate_results_1665-1958_FACTS_css2_w5\\contexts\\contexts_1777-1786.csv\n",
      "Saved detailed report to collocation_results/FACTS/collocate_results_1665-1958_FACTS_css2_w5\\collocation_txt\\collocates_txt_1777-1786.txt\n",
      "Saved collocates to collocation_results/FACTS/collocate_results_1665-1958_FACTS_css2_w5\\collocates_1778-1787.csv\n",
      "Saved contexts to collocation_results/FACTS/collocate_results_1665-1958_FACTS_css2_w5\\contexts\\contexts_1778-1787.csv\n",
      "Saved detailed report to collocation_results/FACTS/collocate_results_1665-1958_FACTS_css2_w5\\collocation_txt\\collocates_txt_1778-1787.txt\n",
      "Saved collocates to collocation_results/FACTS/collocate_results_1665-1958_FACTS_css2_w5\\collocates_1779-1788.csv\n",
      "Saved contexts to collocation_results/FACTS/collocate_results_1665-1958_FACTS_css2_w5\\contexts\\contexts_1779-1788.csv\n",
      "Saved detailed report to collocation_results/FACTS/collocate_results_1665-1958_FACTS_css2_w5\\collocation_txt\\collocates_txt_1779-1788.txt\n",
      "Saved collocates to collocation_results/FACTS/collocate_results_1665-1958_FACTS_css2_w5\\collocates_1780-1789.csv\n",
      "Saved contexts to collocation_results/FACTS/collocate_results_1665-1958_FACTS_css2_w5\\contexts\\contexts_1780-1789.csv\n",
      "Saved detailed report to collocation_results/FACTS/collocate_results_1665-1958_FACTS_css2_w5\\collocation_txt\\collocates_txt_1780-1789.txt\n",
      "Saved collocates to collocation_results/FACTS/collocate_results_1665-1958_FACTS_css2_w5\\collocates_1781-1790.csv\n",
      "Saved contexts to collocation_results/FACTS/collocate_results_1665-1958_FACTS_css2_w5\\contexts\\contexts_1781-1790.csv\n",
      "Saved detailed report to collocation_results/FACTS/collocate_results_1665-1958_FACTS_css2_w5\\collocation_txt\\collocates_txt_1781-1790.txt\n",
      "Saved collocates to collocation_results/FACTS/collocate_results_1665-1958_FACTS_css2_w5\\collocates_1782-1791.csv\n",
      "Saved contexts to collocation_results/FACTS/collocate_results_1665-1958_FACTS_css2_w5\\contexts\\contexts_1782-1791.csv\n",
      "Saved detailed report to collocation_results/FACTS/collocate_results_1665-1958_FACTS_css2_w5\\collocation_txt\\collocates_txt_1782-1791.txt\n",
      "Saved collocates to collocation_results/FACTS/collocate_results_1665-1958_FACTS_css2_w5\\collocates_1783-1792.csv\n",
      "Saved contexts to collocation_results/FACTS/collocate_results_1665-1958_FACTS_css2_w5\\contexts\\contexts_1783-1792.csv\n",
      "Saved detailed report to collocation_results/FACTS/collocate_results_1665-1958_FACTS_css2_w5\\collocation_txt\\collocates_txt_1783-1792.txt\n",
      "Saved collocates to collocation_results/FACTS/collocate_results_1665-1958_FACTS_css2_w5\\collocates_1784-1793.csv\n",
      "Saved contexts to collocation_results/FACTS/collocate_results_1665-1958_FACTS_css2_w5\\contexts\\contexts_1784-1793.csv\n",
      "Saved detailed report to collocation_results/FACTS/collocate_results_1665-1958_FACTS_css2_w5\\collocation_txt\\collocates_txt_1784-1793.txt\n",
      "Saved collocates to collocation_results/FACTS/collocate_results_1665-1958_FACTS_css2_w5\\collocates_1785-1794.csv\n",
      "Saved contexts to collocation_results/FACTS/collocate_results_1665-1958_FACTS_css2_w5\\contexts\\contexts_1785-1794.csv\n",
      "Saved detailed report to collocation_results/FACTS/collocate_results_1665-1958_FACTS_css2_w5\\collocation_txt\\collocates_txt_1785-1794.txt\n",
      "Saved collocates to collocation_results/FACTS/collocate_results_1665-1958_FACTS_css2_w5\\collocates_1786-1795.csv\n",
      "Saved contexts to collocation_results/FACTS/collocate_results_1665-1958_FACTS_css2_w5\\contexts\\contexts_1786-1795.csv\n",
      "Saved detailed report to collocation_results/FACTS/collocate_results_1665-1958_FACTS_css2_w5\\collocation_txt\\collocates_txt_1786-1795.txt\n",
      "Saved collocates to collocation_results/FACTS/collocate_results_1665-1958_FACTS_css2_w5\\collocates_1787-1796.csv\n",
      "Saved contexts to collocation_results/FACTS/collocate_results_1665-1958_FACTS_css2_w5\\contexts\\contexts_1787-1796.csv\n",
      "Saved detailed report to collocation_results/FACTS/collocate_results_1665-1958_FACTS_css2_w5\\collocation_txt\\collocates_txt_1787-1796.txt\n",
      "Saved collocates to collocation_results/FACTS/collocate_results_1665-1958_FACTS_css2_w5\\collocates_1788-1797.csv\n",
      "Saved contexts to collocation_results/FACTS/collocate_results_1665-1958_FACTS_css2_w5\\contexts\\contexts_1788-1797.csv\n",
      "Saved detailed report to collocation_results/FACTS/collocate_results_1665-1958_FACTS_css2_w5\\collocation_txt\\collocates_txt_1788-1797.txt\n",
      "Saved collocates to collocation_results/FACTS/collocate_results_1665-1958_FACTS_css2_w5\\collocates_1789-1798.csv\n",
      "Saved contexts to collocation_results/FACTS/collocate_results_1665-1958_FACTS_css2_w5\\contexts\\contexts_1789-1798.csv\n",
      "Saved detailed report to collocation_results/FACTS/collocate_results_1665-1958_FACTS_css2_w5\\collocation_txt\\collocates_txt_1789-1798.txt\n",
      "Saved collocates to collocation_results/FACTS/collocate_results_1665-1958_FACTS_css2_w5\\collocates_1790-1799.csv\n",
      "Saved contexts to collocation_results/FACTS/collocate_results_1665-1958_FACTS_css2_w5\\contexts\\contexts_1790-1799.csv\n",
      "Saved detailed report to collocation_results/FACTS/collocate_results_1665-1958_FACTS_css2_w5\\collocation_txt\\collocates_txt_1790-1799.txt\n",
      "Saved collocates to collocation_results/FACTS/collocate_results_1665-1958_FACTS_css2_w5\\collocates_1791-1800.csv\n",
      "Saved contexts to collocation_results/FACTS/collocate_results_1665-1958_FACTS_css2_w5\\contexts\\contexts_1791-1800.csv\n",
      "Saved detailed report to collocation_results/FACTS/collocate_results_1665-1958_FACTS_css2_w5\\collocation_txt\\collocates_txt_1791-1800.txt\n",
      "Saved collocates to collocation_results/FACTS/collocate_results_1665-1958_FACTS_css2_w5\\collocates_1792-1801.csv\n",
      "Saved contexts to collocation_results/FACTS/collocate_results_1665-1958_FACTS_css2_w5\\contexts\\contexts_1792-1801.csv\n",
      "Saved detailed report to collocation_results/FACTS/collocate_results_1665-1958_FACTS_css2_w5\\collocation_txt\\collocates_txt_1792-1801.txt\n",
      "Saved collocates to collocation_results/FACTS/collocate_results_1665-1958_FACTS_css2_w5\\collocates_1793-1802.csv\n",
      "Saved contexts to collocation_results/FACTS/collocate_results_1665-1958_FACTS_css2_w5\\contexts\\contexts_1793-1802.csv\n",
      "Saved detailed report to collocation_results/FACTS/collocate_results_1665-1958_FACTS_css2_w5\\collocation_txt\\collocates_txt_1793-1802.txt\n",
      "Saved collocates to collocation_results/FACTS/collocate_results_1665-1958_FACTS_css2_w5\\collocates_1794-1803.csv\n",
      "Saved contexts to collocation_results/FACTS/collocate_results_1665-1958_FACTS_css2_w5\\contexts\\contexts_1794-1803.csv\n",
      "Saved detailed report to collocation_results/FACTS/collocate_results_1665-1958_FACTS_css2_w5\\collocation_txt\\collocates_txt_1794-1803.txt\n",
      "Saved collocates to collocation_results/FACTS/collocate_results_1665-1958_FACTS_css2_w5\\collocates_1795-1804.csv\n",
      "Saved contexts to collocation_results/FACTS/collocate_results_1665-1958_FACTS_css2_w5\\contexts\\contexts_1795-1804.csv\n",
      "Saved detailed report to collocation_results/FACTS/collocate_results_1665-1958_FACTS_css2_w5\\collocation_txt\\collocates_txt_1795-1804.txt\n",
      "Saved collocates to collocation_results/FACTS/collocate_results_1665-1958_FACTS_css2_w5\\collocates_1796-1805.csv\n",
      "Saved contexts to collocation_results/FACTS/collocate_results_1665-1958_FACTS_css2_w5\\contexts\\contexts_1796-1805.csv\n",
      "Saved detailed report to collocation_results/FACTS/collocate_results_1665-1958_FACTS_css2_w5\\collocation_txt\\collocates_txt_1796-1805.txt\n",
      "Saved collocates to collocation_results/FACTS/collocate_results_1665-1958_FACTS_css2_w5\\collocates_1797-1806.csv\n",
      "Saved contexts to collocation_results/FACTS/collocate_results_1665-1958_FACTS_css2_w5\\contexts\\contexts_1797-1806.csv\n",
      "Saved detailed report to collocation_results/FACTS/collocate_results_1665-1958_FACTS_css2_w5\\collocation_txt\\collocates_txt_1797-1806.txt\n",
      "Saved collocates to collocation_results/FACTS/collocate_results_1665-1958_FACTS_css2_w5\\collocates_1798-1807.csv\n",
      "Saved contexts to collocation_results/FACTS/collocate_results_1665-1958_FACTS_css2_w5\\contexts\\contexts_1798-1807.csv\n",
      "Saved detailed report to collocation_results/FACTS/collocate_results_1665-1958_FACTS_css2_w5\\collocation_txt\\collocates_txt_1798-1807.txt\n",
      "Saved collocates to collocation_results/FACTS/collocate_results_1665-1958_FACTS_css2_w5\\collocates_1799-1808.csv\n",
      "Saved contexts to collocation_results/FACTS/collocate_results_1665-1958_FACTS_css2_w5\\contexts\\contexts_1799-1808.csv\n",
      "Saved detailed report to collocation_results/FACTS/collocate_results_1665-1958_FACTS_css2_w5\\collocation_txt\\collocates_txt_1799-1808.txt\n",
      "Saved collocates to collocation_results/FACTS/collocate_results_1665-1958_FACTS_css2_w5\\collocates_1800-1809.csv\n",
      "Saved contexts to collocation_results/FACTS/collocate_results_1665-1958_FACTS_css2_w5\\contexts\\contexts_1800-1809.csv\n",
      "Saved detailed report to collocation_results/FACTS/collocate_results_1665-1958_FACTS_css2_w5\\collocation_txt\\collocates_txt_1800-1809.txt\n",
      "Saved collocates to collocation_results/FACTS/collocate_results_1665-1958_FACTS_css2_w5\\collocates_1801-1810.csv\n",
      "Saved contexts to collocation_results/FACTS/collocate_results_1665-1958_FACTS_css2_w5\\contexts\\contexts_1801-1810.csv\n",
      "Saved detailed report to collocation_results/FACTS/collocate_results_1665-1958_FACTS_css2_w5\\collocation_txt\\collocates_txt_1801-1810.txt\n",
      "Saved collocates to collocation_results/FACTS/collocate_results_1665-1958_FACTS_css2_w5\\collocates_1802-1811.csv\n",
      "Saved contexts to collocation_results/FACTS/collocate_results_1665-1958_FACTS_css2_w5\\contexts\\contexts_1802-1811.csv\n",
      "Saved detailed report to collocation_results/FACTS/collocate_results_1665-1958_FACTS_css2_w5\\collocation_txt\\collocates_txt_1802-1811.txt\n",
      "Saved collocates to collocation_results/FACTS/collocate_results_1665-1958_FACTS_css2_w5\\collocates_1803-1812.csv\n",
      "Saved contexts to collocation_results/FACTS/collocate_results_1665-1958_FACTS_css2_w5\\contexts\\contexts_1803-1812.csv\n",
      "Saved detailed report to collocation_results/FACTS/collocate_results_1665-1958_FACTS_css2_w5\\collocation_txt\\collocates_txt_1803-1812.txt\n",
      "Saved collocates to collocation_results/FACTS/collocate_results_1665-1958_FACTS_css2_w5\\collocates_1804-1813.csv\n",
      "Saved contexts to collocation_results/FACTS/collocate_results_1665-1958_FACTS_css2_w5\\contexts\\contexts_1804-1813.csv\n",
      "Saved detailed report to collocation_results/FACTS/collocate_results_1665-1958_FACTS_css2_w5\\collocation_txt\\collocates_txt_1804-1813.txt\n",
      "Saved collocates to collocation_results/FACTS/collocate_results_1665-1958_FACTS_css2_w5\\collocates_1805-1814.csv\n",
      "Saved contexts to collocation_results/FACTS/collocate_results_1665-1958_FACTS_css2_w5\\contexts\\contexts_1805-1814.csv\n",
      "Saved detailed report to collocation_results/FACTS/collocate_results_1665-1958_FACTS_css2_w5\\collocation_txt\\collocates_txt_1805-1814.txt\n",
      "Saved collocates to collocation_results/FACTS/collocate_results_1665-1958_FACTS_css2_w5\\collocates_1806-1815.csv\n",
      "Saved contexts to collocation_results/FACTS/collocate_results_1665-1958_FACTS_css2_w5\\contexts\\contexts_1806-1815.csv\n",
      "Saved detailed report to collocation_results/FACTS/collocate_results_1665-1958_FACTS_css2_w5\\collocation_txt\\collocates_txt_1806-1815.txt\n",
      "Saved collocates to collocation_results/FACTS/collocate_results_1665-1958_FACTS_css2_w5\\collocates_1807-1816.csv\n",
      "Saved contexts to collocation_results/FACTS/collocate_results_1665-1958_FACTS_css2_w5\\contexts\\contexts_1807-1816.csv\n",
      "Saved detailed report to collocation_results/FACTS/collocate_results_1665-1958_FACTS_css2_w5\\collocation_txt\\collocates_txt_1807-1816.txt\n",
      "Saved collocates to collocation_results/FACTS/collocate_results_1665-1958_FACTS_css2_w5\\collocates_1808-1817.csv\n",
      "Saved contexts to collocation_results/FACTS/collocate_results_1665-1958_FACTS_css2_w5\\contexts\\contexts_1808-1817.csv\n",
      "Saved detailed report to collocation_results/FACTS/collocate_results_1665-1958_FACTS_css2_w5\\collocation_txt\\collocates_txt_1808-1817.txt\n",
      "Saved collocates to collocation_results/FACTS/collocate_results_1665-1958_FACTS_css2_w5\\collocates_1809-1818.csv\n",
      "Saved contexts to collocation_results/FACTS/collocate_results_1665-1958_FACTS_css2_w5\\contexts\\contexts_1809-1818.csv\n",
      "Saved detailed report to collocation_results/FACTS/collocate_results_1665-1958_FACTS_css2_w5\\collocation_txt\\collocates_txt_1809-1818.txt\n",
      "Saved collocates to collocation_results/FACTS/collocate_results_1665-1958_FACTS_css2_w5\\collocates_1810-1819.csv\n",
      "Saved contexts to collocation_results/FACTS/collocate_results_1665-1958_FACTS_css2_w5\\contexts\\contexts_1810-1819.csv\n",
      "Saved detailed report to collocation_results/FACTS/collocate_results_1665-1958_FACTS_css2_w5\\collocation_txt\\collocates_txt_1810-1819.txt\n",
      "Saved collocates to collocation_results/FACTS/collocate_results_1665-1958_FACTS_css2_w5\\collocates_1811-1820.csv\n",
      "Saved contexts to collocation_results/FACTS/collocate_results_1665-1958_FACTS_css2_w5\\contexts\\contexts_1811-1820.csv\n",
      "Saved detailed report to collocation_results/FACTS/collocate_results_1665-1958_FACTS_css2_w5\\collocation_txt\\collocates_txt_1811-1820.txt\n",
      "Saved collocates to collocation_results/FACTS/collocate_results_1665-1958_FACTS_css2_w5\\collocates_1812-1821.csv\n",
      "Saved contexts to collocation_results/FACTS/collocate_results_1665-1958_FACTS_css2_w5\\contexts\\contexts_1812-1821.csv\n",
      "Saved detailed report to collocation_results/FACTS/collocate_results_1665-1958_FACTS_css2_w5\\collocation_txt\\collocates_txt_1812-1821.txt\n",
      "Saved collocates to collocation_results/FACTS/collocate_results_1665-1958_FACTS_css2_w5\\collocates_1813-1822.csv\n",
      "Saved contexts to collocation_results/FACTS/collocate_results_1665-1958_FACTS_css2_w5\\contexts\\contexts_1813-1822.csv\n",
      "Saved detailed report to collocation_results/FACTS/collocate_results_1665-1958_FACTS_css2_w5\\collocation_txt\\collocates_txt_1813-1822.txt\n",
      "Saved collocates to collocation_results/FACTS/collocate_results_1665-1958_FACTS_css2_w5\\collocates_1814-1823.csv\n",
      "Saved contexts to collocation_results/FACTS/collocate_results_1665-1958_FACTS_css2_w5\\contexts\\contexts_1814-1823.csv\n",
      "Saved detailed report to collocation_results/FACTS/collocate_results_1665-1958_FACTS_css2_w5\\collocation_txt\\collocates_txt_1814-1823.txt\n",
      "Saved collocates to collocation_results/FACTS/collocate_results_1665-1958_FACTS_css2_w5\\collocates_1815-1824.csv\n",
      "Saved contexts to collocation_results/FACTS/collocate_results_1665-1958_FACTS_css2_w5\\contexts\\contexts_1815-1824.csv\n",
      "Saved detailed report to collocation_results/FACTS/collocate_results_1665-1958_FACTS_css2_w5\\collocation_txt\\collocates_txt_1815-1824.txt\n",
      "Saved collocates to collocation_results/FACTS/collocate_results_1665-1958_FACTS_css2_w5\\collocates_1816-1825.csv\n",
      "Saved contexts to collocation_results/FACTS/collocate_results_1665-1958_FACTS_css2_w5\\contexts\\contexts_1816-1825.csv\n",
      "Saved detailed report to collocation_results/FACTS/collocate_results_1665-1958_FACTS_css2_w5\\collocation_txt\\collocates_txt_1816-1825.txt\n",
      "Saved collocates to collocation_results/FACTS/collocate_results_1665-1958_FACTS_css2_w5\\collocates_1817-1826.csv\n",
      "Saved contexts to collocation_results/FACTS/collocate_results_1665-1958_FACTS_css2_w5\\contexts\\contexts_1817-1826.csv\n",
      "Saved detailed report to collocation_results/FACTS/collocate_results_1665-1958_FACTS_css2_w5\\collocation_txt\\collocates_txt_1817-1826.txt\n",
      "Saved collocates to collocation_results/FACTS/collocate_results_1665-1958_FACTS_css2_w5\\collocates_1818-1827.csv\n",
      "Saved contexts to collocation_results/FACTS/collocate_results_1665-1958_FACTS_css2_w5\\contexts\\contexts_1818-1827.csv\n",
      "Saved detailed report to collocation_results/FACTS/collocate_results_1665-1958_FACTS_css2_w5\\collocation_txt\\collocates_txt_1818-1827.txt\n",
      "Saved collocates to collocation_results/FACTS/collocate_results_1665-1958_FACTS_css2_w5\\collocates_1819-1828.csv\n",
      "Saved contexts to collocation_results/FACTS/collocate_results_1665-1958_FACTS_css2_w5\\contexts\\contexts_1819-1828.csv\n",
      "Saved detailed report to collocation_results/FACTS/collocate_results_1665-1958_FACTS_css2_w5\\collocation_txt\\collocates_txt_1819-1828.txt\n",
      "Saved collocates to collocation_results/FACTS/collocate_results_1665-1958_FACTS_css2_w5\\collocates_1820-1829.csv\n",
      "Saved contexts to collocation_results/FACTS/collocate_results_1665-1958_FACTS_css2_w5\\contexts\\contexts_1820-1829.csv\n",
      "Saved detailed report to collocation_results/FACTS/collocate_results_1665-1958_FACTS_css2_w5\\collocation_txt\\collocates_txt_1820-1829.txt\n",
      "Saved collocates to collocation_results/FACTS/collocate_results_1665-1958_FACTS_css2_w5\\collocates_1821-1830.csv\n",
      "Saved contexts to collocation_results/FACTS/collocate_results_1665-1958_FACTS_css2_w5\\contexts\\contexts_1821-1830.csv\n",
      "Saved detailed report to collocation_results/FACTS/collocate_results_1665-1958_FACTS_css2_w5\\collocation_txt\\collocates_txt_1821-1830.txt\n",
      "Saved collocates to collocation_results/FACTS/collocate_results_1665-1958_FACTS_css2_w5\\collocates_1822-1831.csv\n",
      "Saved contexts to collocation_results/FACTS/collocate_results_1665-1958_FACTS_css2_w5\\contexts\\contexts_1822-1831.csv\n",
      "Saved detailed report to collocation_results/FACTS/collocate_results_1665-1958_FACTS_css2_w5\\collocation_txt\\collocates_txt_1822-1831.txt\n",
      "Saved collocates to collocation_results/FACTS/collocate_results_1665-1958_FACTS_css2_w5\\collocates_1823-1832.csv\n",
      "Saved contexts to collocation_results/FACTS/collocate_results_1665-1958_FACTS_css2_w5\\contexts\\contexts_1823-1832.csv\n",
      "Saved detailed report to collocation_results/FACTS/collocate_results_1665-1958_FACTS_css2_w5\\collocation_txt\\collocates_txt_1823-1832.txt\n",
      "Saved collocates to collocation_results/FACTS/collocate_results_1665-1958_FACTS_css2_w5\\collocates_1824-1833.csv\n",
      "Saved contexts to collocation_results/FACTS/collocate_results_1665-1958_FACTS_css2_w5\\contexts\\contexts_1824-1833.csv\n",
      "Saved detailed report to collocation_results/FACTS/collocate_results_1665-1958_FACTS_css2_w5\\collocation_txt\\collocates_txt_1824-1833.txt\n",
      "Saved collocates to collocation_results/FACTS/collocate_results_1665-1958_FACTS_css2_w5\\collocates_1825-1834.csv\n",
      "Saved contexts to collocation_results/FACTS/collocate_results_1665-1958_FACTS_css2_w5\\contexts\\contexts_1825-1834.csv\n",
      "Saved detailed report to collocation_results/FACTS/collocate_results_1665-1958_FACTS_css2_w5\\collocation_txt\\collocates_txt_1825-1834.txt\n",
      "Saved collocates to collocation_results/FACTS/collocate_results_1665-1958_FACTS_css2_w5\\collocates_1826-1835.csv\n",
      "Saved contexts to collocation_results/FACTS/collocate_results_1665-1958_FACTS_css2_w5\\contexts\\contexts_1826-1835.csv\n",
      "Saved detailed report to collocation_results/FACTS/collocate_results_1665-1958_FACTS_css2_w5\\collocation_txt\\collocates_txt_1826-1835.txt\n",
      "Saved collocates to collocation_results/FACTS/collocate_results_1665-1958_FACTS_css2_w5\\collocates_1827-1836.csv\n",
      "Saved contexts to collocation_results/FACTS/collocate_results_1665-1958_FACTS_css2_w5\\contexts\\contexts_1827-1836.csv\n",
      "Saved detailed report to collocation_results/FACTS/collocate_results_1665-1958_FACTS_css2_w5\\collocation_txt\\collocates_txt_1827-1836.txt\n",
      "Saved collocates to collocation_results/FACTS/collocate_results_1665-1958_FACTS_css2_w5\\collocates_1828-1837.csv\n",
      "Saved contexts to collocation_results/FACTS/collocate_results_1665-1958_FACTS_css2_w5\\contexts\\contexts_1828-1837.csv\n",
      "Saved detailed report to collocation_results/FACTS/collocate_results_1665-1958_FACTS_css2_w5\\collocation_txt\\collocates_txt_1828-1837.txt\n",
      "Saved collocates to collocation_results/FACTS/collocate_results_1665-1958_FACTS_css2_w5\\collocates_1829-1838.csv\n",
      "Saved contexts to collocation_results/FACTS/collocate_results_1665-1958_FACTS_css2_w5\\contexts\\contexts_1829-1838.csv\n",
      "Saved detailed report to collocation_results/FACTS/collocate_results_1665-1958_FACTS_css2_w5\\collocation_txt\\collocates_txt_1829-1838.txt\n",
      "Saved collocates to collocation_results/FACTS/collocate_results_1665-1958_FACTS_css2_w5\\collocates_1830-1839.csv\n",
      "Saved contexts to collocation_results/FACTS/collocate_results_1665-1958_FACTS_css2_w5\\contexts\\contexts_1830-1839.csv\n",
      "Saved detailed report to collocation_results/FACTS/collocate_results_1665-1958_FACTS_css2_w5\\collocation_txt\\collocates_txt_1830-1839.txt\n",
      "Saved collocates to collocation_results/FACTS/collocate_results_1665-1958_FACTS_css2_w5\\collocates_1831-1840.csv\n",
      "Saved contexts to collocation_results/FACTS/collocate_results_1665-1958_FACTS_css2_w5\\contexts\\contexts_1831-1840.csv\n",
      "Saved detailed report to collocation_results/FACTS/collocate_results_1665-1958_FACTS_css2_w5\\collocation_txt\\collocates_txt_1831-1840.txt\n",
      "Saved collocates to collocation_results/FACTS/collocate_results_1665-1958_FACTS_css2_w5\\collocates_1832-1841.csv\n",
      "Saved contexts to collocation_results/FACTS/collocate_results_1665-1958_FACTS_css2_w5\\contexts\\contexts_1832-1841.csv\n",
      "Saved detailed report to collocation_results/FACTS/collocate_results_1665-1958_FACTS_css2_w5\\collocation_txt\\collocates_txt_1832-1841.txt\n",
      "Saved collocates to collocation_results/FACTS/collocate_results_1665-1958_FACTS_css2_w5\\collocates_1833-1842.csv\n",
      "Saved contexts to collocation_results/FACTS/collocate_results_1665-1958_FACTS_css2_w5\\contexts\\contexts_1833-1842.csv\n",
      "Saved detailed report to collocation_results/FACTS/collocate_results_1665-1958_FACTS_css2_w5\\collocation_txt\\collocates_txt_1833-1842.txt\n",
      "Saved collocates to collocation_results/FACTS/collocate_results_1665-1958_FACTS_css2_w5\\collocates_1834-1843.csv\n",
      "Saved contexts to collocation_results/FACTS/collocate_results_1665-1958_FACTS_css2_w5\\contexts\\contexts_1834-1843.csv\n",
      "Saved detailed report to collocation_results/FACTS/collocate_results_1665-1958_FACTS_css2_w5\\collocation_txt\\collocates_txt_1834-1843.txt\n",
      "Saved collocates to collocation_results/FACTS/collocate_results_1665-1958_FACTS_css2_w5\\collocates_1835-1844.csv\n",
      "Saved contexts to collocation_results/FACTS/collocate_results_1665-1958_FACTS_css2_w5\\contexts\\contexts_1835-1844.csv\n",
      "Saved detailed report to collocation_results/FACTS/collocate_results_1665-1958_FACTS_css2_w5\\collocation_txt\\collocates_txt_1835-1844.txt\n",
      "Saved collocates to collocation_results/FACTS/collocate_results_1665-1958_FACTS_css2_w5\\collocates_1836-1845.csv\n",
      "Saved contexts to collocation_results/FACTS/collocate_results_1665-1958_FACTS_css2_w5\\contexts\\contexts_1836-1845.csv\n",
      "Saved detailed report to collocation_results/FACTS/collocate_results_1665-1958_FACTS_css2_w5\\collocation_txt\\collocates_txt_1836-1845.txt\n",
      "Saved collocates to collocation_results/FACTS/collocate_results_1665-1958_FACTS_css2_w5\\collocates_1837-1846.csv\n",
      "Saved contexts to collocation_results/FACTS/collocate_results_1665-1958_FACTS_css2_w5\\contexts\\contexts_1837-1846.csv\n",
      "Saved detailed report to collocation_results/FACTS/collocate_results_1665-1958_FACTS_css2_w5\\collocation_txt\\collocates_txt_1837-1846.txt\n",
      "Saved collocates to collocation_results/FACTS/collocate_results_1665-1958_FACTS_css2_w5\\collocates_1838-1847.csv\n",
      "Saved contexts to collocation_results/FACTS/collocate_results_1665-1958_FACTS_css2_w5\\contexts\\contexts_1838-1847.csv\n",
      "Saved detailed report to collocation_results/FACTS/collocate_results_1665-1958_FACTS_css2_w5\\collocation_txt\\collocates_txt_1838-1847.txt\n",
      "Saved collocates to collocation_results/FACTS/collocate_results_1665-1958_FACTS_css2_w5\\collocates_1839-1848.csv\n",
      "Saved contexts to collocation_results/FACTS/collocate_results_1665-1958_FACTS_css2_w5\\contexts\\contexts_1839-1848.csv\n",
      "Saved detailed report to collocation_results/FACTS/collocate_results_1665-1958_FACTS_css2_w5\\collocation_txt\\collocates_txt_1839-1848.txt\n",
      "Saved collocates to collocation_results/FACTS/collocate_results_1665-1958_FACTS_css2_w5\\collocates_1840-1849.csv\n",
      "Saved contexts to collocation_results/FACTS/collocate_results_1665-1958_FACTS_css2_w5\\contexts\\contexts_1840-1849.csv\n",
      "Saved detailed report to collocation_results/FACTS/collocate_results_1665-1958_FACTS_css2_w5\\collocation_txt\\collocates_txt_1840-1849.txt\n",
      "Saved collocates to collocation_results/FACTS/collocate_results_1665-1958_FACTS_css2_w5\\collocates_1841-1850.csv\n",
      "Saved contexts to collocation_results/FACTS/collocate_results_1665-1958_FACTS_css2_w5\\contexts\\contexts_1841-1850.csv\n",
      "Saved detailed report to collocation_results/FACTS/collocate_results_1665-1958_FACTS_css2_w5\\collocation_txt\\collocates_txt_1841-1850.txt\n",
      "Saved collocates to collocation_results/FACTS/collocate_results_1665-1958_FACTS_css2_w5\\collocates_1842-1851.csv\n",
      "Saved contexts to collocation_results/FACTS/collocate_results_1665-1958_FACTS_css2_w5\\contexts\\contexts_1842-1851.csv\n",
      "Saved detailed report to collocation_results/FACTS/collocate_results_1665-1958_FACTS_css2_w5\\collocation_txt\\collocates_txt_1842-1851.txt\n",
      "Saved collocates to collocation_results/FACTS/collocate_results_1665-1958_FACTS_css2_w5\\collocates_1843-1852.csv\n",
      "Saved contexts to collocation_results/FACTS/collocate_results_1665-1958_FACTS_css2_w5\\contexts\\contexts_1843-1852.csv\n",
      "Saved detailed report to collocation_results/FACTS/collocate_results_1665-1958_FACTS_css2_w5\\collocation_txt\\collocates_txt_1843-1852.txt\n",
      "Saved collocates to collocation_results/FACTS/collocate_results_1665-1958_FACTS_css2_w5\\collocates_1844-1853.csv\n",
      "Saved contexts to collocation_results/FACTS/collocate_results_1665-1958_FACTS_css2_w5\\contexts\\contexts_1844-1853.csv\n",
      "Saved detailed report to collocation_results/FACTS/collocate_results_1665-1958_FACTS_css2_w5\\collocation_txt\\collocates_txt_1844-1853.txt\n",
      "Saved collocates to collocation_results/FACTS/collocate_results_1665-1958_FACTS_css2_w5\\collocates_1845-1854.csv\n",
      "Saved contexts to collocation_results/FACTS/collocate_results_1665-1958_FACTS_css2_w5\\contexts\\contexts_1845-1854.csv\n",
      "Saved detailed report to collocation_results/FACTS/collocate_results_1665-1958_FACTS_css2_w5\\collocation_txt\\collocates_txt_1845-1854.txt\n",
      "Saved collocates to collocation_results/FACTS/collocate_results_1665-1958_FACTS_css2_w5\\collocates_1846-1855.csv\n",
      "Saved contexts to collocation_results/FACTS/collocate_results_1665-1958_FACTS_css2_w5\\contexts\\contexts_1846-1855.csv\n",
      "Saved detailed report to collocation_results/FACTS/collocate_results_1665-1958_FACTS_css2_w5\\collocation_txt\\collocates_txt_1846-1855.txt\n",
      "Saved collocates to collocation_results/FACTS/collocate_results_1665-1958_FACTS_css2_w5\\collocates_1847-1856.csv\n",
      "Saved contexts to collocation_results/FACTS/collocate_results_1665-1958_FACTS_css2_w5\\contexts\\contexts_1847-1856.csv\n",
      "Saved detailed report to collocation_results/FACTS/collocate_results_1665-1958_FACTS_css2_w5\\collocation_txt\\collocates_txt_1847-1856.txt\n",
      "Saved collocates to collocation_results/FACTS/collocate_results_1665-1958_FACTS_css2_w5\\collocates_1848-1857.csv\n",
      "Saved contexts to collocation_results/FACTS/collocate_results_1665-1958_FACTS_css2_w5\\contexts\\contexts_1848-1857.csv\n",
      "Saved detailed report to collocation_results/FACTS/collocate_results_1665-1958_FACTS_css2_w5\\collocation_txt\\collocates_txt_1848-1857.txt\n",
      "Saved collocates to collocation_results/FACTS/collocate_results_1665-1958_FACTS_css2_w5\\collocates_1849-1858.csv\n",
      "Saved contexts to collocation_results/FACTS/collocate_results_1665-1958_FACTS_css2_w5\\contexts\\contexts_1849-1858.csv\n",
      "Saved detailed report to collocation_results/FACTS/collocate_results_1665-1958_FACTS_css2_w5\\collocation_txt\\collocates_txt_1849-1858.txt\n",
      "Saved collocates to collocation_results/FACTS/collocate_results_1665-1958_FACTS_css2_w5\\collocates_1850-1859.csv\n",
      "Saved contexts to collocation_results/FACTS/collocate_results_1665-1958_FACTS_css2_w5\\contexts\\contexts_1850-1859.csv\n",
      "Saved detailed report to collocation_results/FACTS/collocate_results_1665-1958_FACTS_css2_w5\\collocation_txt\\collocates_txt_1850-1859.txt\n",
      "Saved collocates to collocation_results/FACTS/collocate_results_1665-1958_FACTS_css2_w5\\collocates_1851-1860.csv\n",
      "Saved contexts to collocation_results/FACTS/collocate_results_1665-1958_FACTS_css2_w5\\contexts\\contexts_1851-1860.csv\n",
      "Saved detailed report to collocation_results/FACTS/collocate_results_1665-1958_FACTS_css2_w5\\collocation_txt\\collocates_txt_1851-1860.txt\n",
      "Saved collocates to collocation_results/FACTS/collocate_results_1665-1958_FACTS_css2_w5\\collocates_1852-1861.csv\n",
      "Saved contexts to collocation_results/FACTS/collocate_results_1665-1958_FACTS_css2_w5\\contexts\\contexts_1852-1861.csv\n",
      "Saved detailed report to collocation_results/FACTS/collocate_results_1665-1958_FACTS_css2_w5\\collocation_txt\\collocates_txt_1852-1861.txt\n",
      "Saved collocates to collocation_results/FACTS/collocate_results_1665-1958_FACTS_css2_w5\\collocates_1853-1862.csv\n",
      "Saved contexts to collocation_results/FACTS/collocate_results_1665-1958_FACTS_css2_w5\\contexts\\contexts_1853-1862.csv\n",
      "Saved detailed report to collocation_results/FACTS/collocate_results_1665-1958_FACTS_css2_w5\\collocation_txt\\collocates_txt_1853-1862.txt\n",
      "Saved collocates to collocation_results/FACTS/collocate_results_1665-1958_FACTS_css2_w5\\collocates_1854-1863.csv\n",
      "Saved contexts to collocation_results/FACTS/collocate_results_1665-1958_FACTS_css2_w5\\contexts\\contexts_1854-1863.csv\n",
      "Saved detailed report to collocation_results/FACTS/collocate_results_1665-1958_FACTS_css2_w5\\collocation_txt\\collocates_txt_1854-1863.txt\n",
      "Saved collocates to collocation_results/FACTS/collocate_results_1665-1958_FACTS_css2_w5\\collocates_1855-1864.csv\n",
      "Saved contexts to collocation_results/FACTS/collocate_results_1665-1958_FACTS_css2_w5\\contexts\\contexts_1855-1864.csv\n",
      "Saved detailed report to collocation_results/FACTS/collocate_results_1665-1958_FACTS_css2_w5\\collocation_txt\\collocates_txt_1855-1864.txt\n",
      "Saved collocates to collocation_results/FACTS/collocate_results_1665-1958_FACTS_css2_w5\\collocates_1856-1865.csv\n",
      "Saved contexts to collocation_results/FACTS/collocate_results_1665-1958_FACTS_css2_w5\\contexts\\contexts_1856-1865.csv\n",
      "Saved detailed report to collocation_results/FACTS/collocate_results_1665-1958_FACTS_css2_w5\\collocation_txt\\collocates_txt_1856-1865.txt\n",
      "Saved collocates to collocation_results/FACTS/collocate_results_1665-1958_FACTS_css2_w5\\collocates_1857-1866.csv\n",
      "Saved contexts to collocation_results/FACTS/collocate_results_1665-1958_FACTS_css2_w5\\contexts\\contexts_1857-1866.csv\n",
      "Saved detailed report to collocation_results/FACTS/collocate_results_1665-1958_FACTS_css2_w5\\collocation_txt\\collocates_txt_1857-1866.txt\n",
      "Saved collocates to collocation_results/FACTS/collocate_results_1665-1958_FACTS_css2_w5\\collocates_1858-1867.csv\n",
      "Saved contexts to collocation_results/FACTS/collocate_results_1665-1958_FACTS_css2_w5\\contexts\\contexts_1858-1867.csv\n",
      "Saved detailed report to collocation_results/FACTS/collocate_results_1665-1958_FACTS_css2_w5\\collocation_txt\\collocates_txt_1858-1867.txt\n",
      "Saved collocates to collocation_results/FACTS/collocate_results_1665-1958_FACTS_css2_w5\\collocates_1859-1868.csv\n",
      "Saved contexts to collocation_results/FACTS/collocate_results_1665-1958_FACTS_css2_w5\\contexts\\contexts_1859-1868.csv\n",
      "Saved detailed report to collocation_results/FACTS/collocate_results_1665-1958_FACTS_css2_w5\\collocation_txt\\collocates_txt_1859-1868.txt\n",
      "Saved collocates to collocation_results/FACTS/collocate_results_1665-1958_FACTS_css2_w5\\collocates_1860-1869.csv\n",
      "Saved contexts to collocation_results/FACTS/collocate_results_1665-1958_FACTS_css2_w5\\contexts\\contexts_1860-1869.csv\n",
      "Saved detailed report to collocation_results/FACTS/collocate_results_1665-1958_FACTS_css2_w5\\collocation_txt\\collocates_txt_1860-1869.txt\n",
      "Saved collocates to collocation_results/FACTS/collocate_results_1665-1958_FACTS_css2_w5\\collocates_1861-1870.csv\n",
      "Saved contexts to collocation_results/FACTS/collocate_results_1665-1958_FACTS_css2_w5\\contexts\\contexts_1861-1870.csv\n",
      "Saved detailed report to collocation_results/FACTS/collocate_results_1665-1958_FACTS_css2_w5\\collocation_txt\\collocates_txt_1861-1870.txt\n",
      "Saved collocates to collocation_results/FACTS/collocate_results_1665-1958_FACTS_css2_w5\\collocates_1862-1871.csv\n",
      "Saved contexts to collocation_results/FACTS/collocate_results_1665-1958_FACTS_css2_w5\\contexts\\contexts_1862-1871.csv\n",
      "Saved detailed report to collocation_results/FACTS/collocate_results_1665-1958_FACTS_css2_w5\\collocation_txt\\collocates_txt_1862-1871.txt\n",
      "Saved collocates to collocation_results/FACTS/collocate_results_1665-1958_FACTS_css2_w5\\collocates_1863-1872.csv\n",
      "Saved contexts to collocation_results/FACTS/collocate_results_1665-1958_FACTS_css2_w5\\contexts\\contexts_1863-1872.csv\n",
      "Saved detailed report to collocation_results/FACTS/collocate_results_1665-1958_FACTS_css2_w5\\collocation_txt\\collocates_txt_1863-1872.txt\n",
      "Saved collocates to collocation_results/FACTS/collocate_results_1665-1958_FACTS_css2_w5\\collocates_1864-1873.csv\n",
      "Saved contexts to collocation_results/FACTS/collocate_results_1665-1958_FACTS_css2_w5\\contexts\\contexts_1864-1873.csv\n",
      "Saved detailed report to collocation_results/FACTS/collocate_results_1665-1958_FACTS_css2_w5\\collocation_txt\\collocates_txt_1864-1873.txt\n",
      "Saved collocates to collocation_results/FACTS/collocate_results_1665-1958_FACTS_css2_w5\\collocates_1865-1874.csv\n",
      "Saved contexts to collocation_results/FACTS/collocate_results_1665-1958_FACTS_css2_w5\\contexts\\contexts_1865-1874.csv\n",
      "Saved detailed report to collocation_results/FACTS/collocate_results_1665-1958_FACTS_css2_w5\\collocation_txt\\collocates_txt_1865-1874.txt\n",
      "Saved collocates to collocation_results/FACTS/collocate_results_1665-1958_FACTS_css2_w5\\collocates_1866-1875.csv\n",
      "Saved contexts to collocation_results/FACTS/collocate_results_1665-1958_FACTS_css2_w5\\contexts\\contexts_1866-1875.csv\n",
      "Saved detailed report to collocation_results/FACTS/collocate_results_1665-1958_FACTS_css2_w5\\collocation_txt\\collocates_txt_1866-1875.txt\n",
      "Saved collocates to collocation_results/FACTS/collocate_results_1665-1958_FACTS_css2_w5\\collocates_1867-1876.csv\n",
      "Saved contexts to collocation_results/FACTS/collocate_results_1665-1958_FACTS_css2_w5\\contexts\\contexts_1867-1876.csv\n",
      "Saved detailed report to collocation_results/FACTS/collocate_results_1665-1958_FACTS_css2_w5\\collocation_txt\\collocates_txt_1867-1876.txt\n",
      "Saved collocates to collocation_results/FACTS/collocate_results_1665-1958_FACTS_css2_w5\\collocates_1868-1877.csv\n",
      "Saved contexts to collocation_results/FACTS/collocate_results_1665-1958_FACTS_css2_w5\\contexts\\contexts_1868-1877.csv\n",
      "Saved detailed report to collocation_results/FACTS/collocate_results_1665-1958_FACTS_css2_w5\\collocation_txt\\collocates_txt_1868-1877.txt\n",
      "Saved collocates to collocation_results/FACTS/collocate_results_1665-1958_FACTS_css2_w5\\collocates_1869-1878.csv\n",
      "Saved contexts to collocation_results/FACTS/collocate_results_1665-1958_FACTS_css2_w5\\contexts\\contexts_1869-1878.csv\n",
      "Saved detailed report to collocation_results/FACTS/collocate_results_1665-1958_FACTS_css2_w5\\collocation_txt\\collocates_txt_1869-1878.txt\n",
      "Saved collocates to collocation_results/FACTS/collocate_results_1665-1958_FACTS_css2_w5\\collocates_1870-1879.csv\n",
      "Saved contexts to collocation_results/FACTS/collocate_results_1665-1958_FACTS_css2_w5\\contexts\\contexts_1870-1879.csv\n",
      "Saved detailed report to collocation_results/FACTS/collocate_results_1665-1958_FACTS_css2_w5\\collocation_txt\\collocates_txt_1870-1879.txt\n",
      "Saved collocates to collocation_results/FACTS/collocate_results_1665-1958_FACTS_css2_w5\\collocates_1871-1880.csv\n",
      "Saved contexts to collocation_results/FACTS/collocate_results_1665-1958_FACTS_css2_w5\\contexts\\contexts_1871-1880.csv\n",
      "Saved detailed report to collocation_results/FACTS/collocate_results_1665-1958_FACTS_css2_w5\\collocation_txt\\collocates_txt_1871-1880.txt\n",
      "Saved collocates to collocation_results/FACTS/collocate_results_1665-1958_FACTS_css2_w5\\collocates_1872-1881.csv\n",
      "Saved contexts to collocation_results/FACTS/collocate_results_1665-1958_FACTS_css2_w5\\contexts\\contexts_1872-1881.csv\n",
      "Saved detailed report to collocation_results/FACTS/collocate_results_1665-1958_FACTS_css2_w5\\collocation_txt\\collocates_txt_1872-1881.txt\n",
      "Saved collocates to collocation_results/FACTS/collocate_results_1665-1958_FACTS_css2_w5\\collocates_1873-1882.csv\n",
      "Saved contexts to collocation_results/FACTS/collocate_results_1665-1958_FACTS_css2_w5\\contexts\\contexts_1873-1882.csv\n",
      "Saved detailed report to collocation_results/FACTS/collocate_results_1665-1958_FACTS_css2_w5\\collocation_txt\\collocates_txt_1873-1882.txt\n",
      "Saved collocates to collocation_results/FACTS/collocate_results_1665-1958_FACTS_css2_w5\\collocates_1874-1883.csv\n",
      "Saved contexts to collocation_results/FACTS/collocate_results_1665-1958_FACTS_css2_w5\\contexts\\contexts_1874-1883.csv\n",
      "Saved detailed report to collocation_results/FACTS/collocate_results_1665-1958_FACTS_css2_w5\\collocation_txt\\collocates_txt_1874-1883.txt\n",
      "Saved collocates to collocation_results/FACTS/collocate_results_1665-1958_FACTS_css2_w5\\collocates_1875-1884.csv\n",
      "Saved contexts to collocation_results/FACTS/collocate_results_1665-1958_FACTS_css2_w5\\contexts\\contexts_1875-1884.csv\n",
      "Saved detailed report to collocation_results/FACTS/collocate_results_1665-1958_FACTS_css2_w5\\collocation_txt\\collocates_txt_1875-1884.txt\n",
      "Saved collocates to collocation_results/FACTS/collocate_results_1665-1958_FACTS_css2_w5\\collocates_1876-1885.csv\n",
      "Saved contexts to collocation_results/FACTS/collocate_results_1665-1958_FACTS_css2_w5\\contexts\\contexts_1876-1885.csv\n",
      "Saved detailed report to collocation_results/FACTS/collocate_results_1665-1958_FACTS_css2_w5\\collocation_txt\\collocates_txt_1876-1885.txt\n",
      "Saved collocates to collocation_results/FACTS/collocate_results_1665-1958_FACTS_css2_w5\\collocates_1877-1886.csv\n",
      "Saved contexts to collocation_results/FACTS/collocate_results_1665-1958_FACTS_css2_w5\\contexts\\contexts_1877-1886.csv\n",
      "Saved detailed report to collocation_results/FACTS/collocate_results_1665-1958_FACTS_css2_w5\\collocation_txt\\collocates_txt_1877-1886.txt\n",
      "Saved collocates to collocation_results/FACTS/collocate_results_1665-1958_FACTS_css2_w5\\collocates_1878-1887.csv\n",
      "Saved contexts to collocation_results/FACTS/collocate_results_1665-1958_FACTS_css2_w5\\contexts\\contexts_1878-1887.csv\n",
      "Saved detailed report to collocation_results/FACTS/collocate_results_1665-1958_FACTS_css2_w5\\collocation_txt\\collocates_txt_1878-1887.txt\n",
      "Saved collocates to collocation_results/FACTS/collocate_results_1665-1958_FACTS_css2_w5\\collocates_1879-1888.csv\n",
      "Saved contexts to collocation_results/FACTS/collocate_results_1665-1958_FACTS_css2_w5\\contexts\\contexts_1879-1888.csv\n",
      "Saved detailed report to collocation_results/FACTS/collocate_results_1665-1958_FACTS_css2_w5\\collocation_txt\\collocates_txt_1879-1888.txt\n",
      "Saved collocates to collocation_results/FACTS/collocate_results_1665-1958_FACTS_css2_w5\\collocates_1880-1889.csv\n",
      "Saved contexts to collocation_results/FACTS/collocate_results_1665-1958_FACTS_css2_w5\\contexts\\contexts_1880-1889.csv\n",
      "Saved detailed report to collocation_results/FACTS/collocate_results_1665-1958_FACTS_css2_w5\\collocation_txt\\collocates_txt_1880-1889.txt\n",
      "Saved collocates to collocation_results/FACTS/collocate_results_1665-1958_FACTS_css2_w5\\collocates_1881-1890.csv\n",
      "Saved contexts to collocation_results/FACTS/collocate_results_1665-1958_FACTS_css2_w5\\contexts\\contexts_1881-1890.csv\n",
      "Saved detailed report to collocation_results/FACTS/collocate_results_1665-1958_FACTS_css2_w5\\collocation_txt\\collocates_txt_1881-1890.txt\n",
      "Saved collocates to collocation_results/FACTS/collocate_results_1665-1958_FACTS_css2_w5\\collocates_1882-1891.csv\n",
      "Saved contexts to collocation_results/FACTS/collocate_results_1665-1958_FACTS_css2_w5\\contexts\\contexts_1882-1891.csv\n",
      "Saved detailed report to collocation_results/FACTS/collocate_results_1665-1958_FACTS_css2_w5\\collocation_txt\\collocates_txt_1882-1891.txt\n",
      "Saved collocates to collocation_results/FACTS/collocate_results_1665-1958_FACTS_css2_w5\\collocates_1883-1892.csv\n",
      "Saved contexts to collocation_results/FACTS/collocate_results_1665-1958_FACTS_css2_w5\\contexts\\contexts_1883-1892.csv\n",
      "Saved detailed report to collocation_results/FACTS/collocate_results_1665-1958_FACTS_css2_w5\\collocation_txt\\collocates_txt_1883-1892.txt\n",
      "Saved collocates to collocation_results/FACTS/collocate_results_1665-1958_FACTS_css2_w5\\collocates_1884-1893.csv\n",
      "Saved contexts to collocation_results/FACTS/collocate_results_1665-1958_FACTS_css2_w5\\contexts\\contexts_1884-1893.csv\n",
      "Saved detailed report to collocation_results/FACTS/collocate_results_1665-1958_FACTS_css2_w5\\collocation_txt\\collocates_txt_1884-1893.txt\n",
      "Saved collocates to collocation_results/FACTS/collocate_results_1665-1958_FACTS_css2_w5\\collocates_1885-1894.csv\n",
      "Saved contexts to collocation_results/FACTS/collocate_results_1665-1958_FACTS_css2_w5\\contexts\\contexts_1885-1894.csv\n",
      "Saved detailed report to collocation_results/FACTS/collocate_results_1665-1958_FACTS_css2_w5\\collocation_txt\\collocates_txt_1885-1894.txt\n",
      "Saved collocates to collocation_results/FACTS/collocate_results_1665-1958_FACTS_css2_w5\\collocates_1886-1895.csv\n",
      "Saved contexts to collocation_results/FACTS/collocate_results_1665-1958_FACTS_css2_w5\\contexts\\contexts_1886-1895.csv\n",
      "Saved detailed report to collocation_results/FACTS/collocate_results_1665-1958_FACTS_css2_w5\\collocation_txt\\collocates_txt_1886-1895.txt\n",
      "Saved collocates to collocation_results/FACTS/collocate_results_1665-1958_FACTS_css2_w5\\collocates_1887-1896.csv\n",
      "Saved contexts to collocation_results/FACTS/collocate_results_1665-1958_FACTS_css2_w5\\contexts\\contexts_1887-1896.csv\n",
      "Saved detailed report to collocation_results/FACTS/collocate_results_1665-1958_FACTS_css2_w5\\collocation_txt\\collocates_txt_1887-1896.txt\n",
      "Saved collocates to collocation_results/FACTS/collocate_results_1665-1958_FACTS_css2_w5\\collocates_1888-1897.csv\n",
      "Saved contexts to collocation_results/FACTS/collocate_results_1665-1958_FACTS_css2_w5\\contexts\\contexts_1888-1897.csv\n",
      "Saved detailed report to collocation_results/FACTS/collocate_results_1665-1958_FACTS_css2_w5\\collocation_txt\\collocates_txt_1888-1897.txt\n",
      "Saved collocates to collocation_results/FACTS/collocate_results_1665-1958_FACTS_css2_w5\\collocates_1889-1898.csv\n",
      "Saved contexts to collocation_results/FACTS/collocate_results_1665-1958_FACTS_css2_w5\\contexts\\contexts_1889-1898.csv\n",
      "Saved detailed report to collocation_results/FACTS/collocate_results_1665-1958_FACTS_css2_w5\\collocation_txt\\collocates_txt_1889-1898.txt\n",
      "Saved collocates to collocation_results/FACTS/collocate_results_1665-1958_FACTS_css2_w5\\collocates_1890-1899.csv\n",
      "Saved contexts to collocation_results/FACTS/collocate_results_1665-1958_FACTS_css2_w5\\contexts\\contexts_1890-1899.csv\n",
      "Saved detailed report to collocation_results/FACTS/collocate_results_1665-1958_FACTS_css2_w5\\collocation_txt\\collocates_txt_1890-1899.txt\n",
      "Saved collocates to collocation_results/FACTS/collocate_results_1665-1958_FACTS_css2_w5\\collocates_1891-1900.csv\n",
      "Saved contexts to collocation_results/FACTS/collocate_results_1665-1958_FACTS_css2_w5\\contexts\\contexts_1891-1900.csv\n",
      "Saved detailed report to collocation_results/FACTS/collocate_results_1665-1958_FACTS_css2_w5\\collocation_txt\\collocates_txt_1891-1900.txt\n",
      "Saved collocates to collocation_results/FACTS/collocate_results_1665-1958_FACTS_css2_w5\\collocates_1892-1901.csv\n",
      "Saved contexts to collocation_results/FACTS/collocate_results_1665-1958_FACTS_css2_w5\\contexts\\contexts_1892-1901.csv\n",
      "Saved detailed report to collocation_results/FACTS/collocate_results_1665-1958_FACTS_css2_w5\\collocation_txt\\collocates_txt_1892-1901.txt\n",
      "Saved collocates to collocation_results/FACTS/collocate_results_1665-1958_FACTS_css2_w5\\collocates_1893-1902.csv\n",
      "Saved contexts to collocation_results/FACTS/collocate_results_1665-1958_FACTS_css2_w5\\contexts\\contexts_1893-1902.csv\n",
      "Saved detailed report to collocation_results/FACTS/collocate_results_1665-1958_FACTS_css2_w5\\collocation_txt\\collocates_txt_1893-1902.txt\n",
      "Saved collocates to collocation_results/FACTS/collocate_results_1665-1958_FACTS_css2_w5\\collocates_1894-1903.csv\n",
      "Saved contexts to collocation_results/FACTS/collocate_results_1665-1958_FACTS_css2_w5\\contexts\\contexts_1894-1903.csv\n",
      "Saved detailed report to collocation_results/FACTS/collocate_results_1665-1958_FACTS_css2_w5\\collocation_txt\\collocates_txt_1894-1903.txt\n",
      "Saved collocates to collocation_results/FACTS/collocate_results_1665-1958_FACTS_css2_w5\\collocates_1895-1904.csv\n",
      "Saved contexts to collocation_results/FACTS/collocate_results_1665-1958_FACTS_css2_w5\\contexts\\contexts_1895-1904.csv\n",
      "Saved detailed report to collocation_results/FACTS/collocate_results_1665-1958_FACTS_css2_w5\\collocation_txt\\collocates_txt_1895-1904.txt\n",
      "Saved collocates to collocation_results/FACTS/collocate_results_1665-1958_FACTS_css2_w5\\collocates_1896-1905.csv\n",
      "Saved contexts to collocation_results/FACTS/collocate_results_1665-1958_FACTS_css2_w5\\contexts\\contexts_1896-1905.csv\n",
      "Saved detailed report to collocation_results/FACTS/collocate_results_1665-1958_FACTS_css2_w5\\collocation_txt\\collocates_txt_1896-1905.txt\n",
      "Saved collocates to collocation_results/FACTS/collocate_results_1665-1958_FACTS_css2_w5\\collocates_1897-1906.csv\n",
      "Saved contexts to collocation_results/FACTS/collocate_results_1665-1958_FACTS_css2_w5\\contexts\\contexts_1897-1906.csv\n",
      "Saved detailed report to collocation_results/FACTS/collocate_results_1665-1958_FACTS_css2_w5\\collocation_txt\\collocates_txt_1897-1906.txt\n",
      "Saved collocates to collocation_results/FACTS/collocate_results_1665-1958_FACTS_css2_w5\\collocates_1898-1907.csv\n",
      "Saved contexts to collocation_results/FACTS/collocate_results_1665-1958_FACTS_css2_w5\\contexts\\contexts_1898-1907.csv\n",
      "Saved detailed report to collocation_results/FACTS/collocate_results_1665-1958_FACTS_css2_w5\\collocation_txt\\collocates_txt_1898-1907.txt\n",
      "Saved collocates to collocation_results/FACTS/collocate_results_1665-1958_FACTS_css2_w5\\collocates_1899-1908.csv\n",
      "Saved contexts to collocation_results/FACTS/collocate_results_1665-1958_FACTS_css2_w5\\contexts\\contexts_1899-1908.csv\n",
      "Saved detailed report to collocation_results/FACTS/collocate_results_1665-1958_FACTS_css2_w5\\collocation_txt\\collocates_txt_1899-1908.txt\n",
      "Saved collocates to collocation_results/FACTS/collocate_results_1665-1958_FACTS_css2_w5\\collocates_1900-1909.csv\n",
      "Saved contexts to collocation_results/FACTS/collocate_results_1665-1958_FACTS_css2_w5\\contexts\\contexts_1900-1909.csv\n",
      "Saved detailed report to collocation_results/FACTS/collocate_results_1665-1958_FACTS_css2_w5\\collocation_txt\\collocates_txt_1900-1909.txt\n",
      "Saved collocates to collocation_results/FACTS/collocate_results_1665-1958_FACTS_css2_w5\\collocates_1901-1910.csv\n",
      "Saved contexts to collocation_results/FACTS/collocate_results_1665-1958_FACTS_css2_w5\\contexts\\contexts_1901-1910.csv\n",
      "Saved detailed report to collocation_results/FACTS/collocate_results_1665-1958_FACTS_css2_w5\\collocation_txt\\collocates_txt_1901-1910.txt\n",
      "Saved collocates to collocation_results/FACTS/collocate_results_1665-1958_FACTS_css2_w5\\collocates_1902-1911.csv\n",
      "Saved contexts to collocation_results/FACTS/collocate_results_1665-1958_FACTS_css2_w5\\contexts\\contexts_1902-1911.csv\n",
      "Saved detailed report to collocation_results/FACTS/collocate_results_1665-1958_FACTS_css2_w5\\collocation_txt\\collocates_txt_1902-1911.txt\n",
      "Saved collocates to collocation_results/FACTS/collocate_results_1665-1958_FACTS_css2_w5\\collocates_1903-1912.csv\n",
      "Saved contexts to collocation_results/FACTS/collocate_results_1665-1958_FACTS_css2_w5\\contexts\\contexts_1903-1912.csv\n",
      "Saved detailed report to collocation_results/FACTS/collocate_results_1665-1958_FACTS_css2_w5\\collocation_txt\\collocates_txt_1903-1912.txt\n",
      "Saved collocates to collocation_results/FACTS/collocate_results_1665-1958_FACTS_css2_w5\\collocates_1904-1913.csv\n",
      "Saved contexts to collocation_results/FACTS/collocate_results_1665-1958_FACTS_css2_w5\\contexts\\contexts_1904-1913.csv\n",
      "Saved detailed report to collocation_results/FACTS/collocate_results_1665-1958_FACTS_css2_w5\\collocation_txt\\collocates_txt_1904-1913.txt\n",
      "Saved collocates to collocation_results/FACTS/collocate_results_1665-1958_FACTS_css2_w5\\collocates_1905-1914.csv\n",
      "Saved contexts to collocation_results/FACTS/collocate_results_1665-1958_FACTS_css2_w5\\contexts\\contexts_1905-1914.csv\n",
      "Saved detailed report to collocation_results/FACTS/collocate_results_1665-1958_FACTS_css2_w5\\collocation_txt\\collocates_txt_1905-1914.txt\n",
      "Saved collocates to collocation_results/FACTS/collocate_results_1665-1958_FACTS_css2_w5\\collocates_1906-1915.csv\n",
      "Saved contexts to collocation_results/FACTS/collocate_results_1665-1958_FACTS_css2_w5\\contexts\\contexts_1906-1915.csv\n",
      "Saved detailed report to collocation_results/FACTS/collocate_results_1665-1958_FACTS_css2_w5\\collocation_txt\\collocates_txt_1906-1915.txt\n",
      "Saved collocates to collocation_results/FACTS/collocate_results_1665-1958_FACTS_css2_w5\\collocates_1907-1916.csv\n",
      "Saved contexts to collocation_results/FACTS/collocate_results_1665-1958_FACTS_css2_w5\\contexts\\contexts_1907-1916.csv\n",
      "Saved detailed report to collocation_results/FACTS/collocate_results_1665-1958_FACTS_css2_w5\\collocation_txt\\collocates_txt_1907-1916.txt\n",
      "Saved collocates to collocation_results/FACTS/collocate_results_1665-1958_FACTS_css2_w5\\collocates_1908-1917.csv\n",
      "Saved contexts to collocation_results/FACTS/collocate_results_1665-1958_FACTS_css2_w5\\contexts\\contexts_1908-1917.csv\n",
      "Saved detailed report to collocation_results/FACTS/collocate_results_1665-1958_FACTS_css2_w5\\collocation_txt\\collocates_txt_1908-1917.txt\n",
      "Saved collocates to collocation_results/FACTS/collocate_results_1665-1958_FACTS_css2_w5\\collocates_1909-1918.csv\n",
      "Saved contexts to collocation_results/FACTS/collocate_results_1665-1958_FACTS_css2_w5\\contexts\\contexts_1909-1918.csv\n",
      "Saved detailed report to collocation_results/FACTS/collocate_results_1665-1958_FACTS_css2_w5\\collocation_txt\\collocates_txt_1909-1918.txt\n",
      "Saved collocates to collocation_results/FACTS/collocate_results_1665-1958_FACTS_css2_w5\\collocates_1910-1919.csv\n",
      "Saved contexts to collocation_results/FACTS/collocate_results_1665-1958_FACTS_css2_w5\\contexts\\contexts_1910-1919.csv\n",
      "Saved detailed report to collocation_results/FACTS/collocate_results_1665-1958_FACTS_css2_w5\\collocation_txt\\collocates_txt_1910-1919.txt\n",
      "Saved collocates to collocation_results/FACTS/collocate_results_1665-1958_FACTS_css2_w5\\collocates_1911-1920.csv\n",
      "Saved contexts to collocation_results/FACTS/collocate_results_1665-1958_FACTS_css2_w5\\contexts\\contexts_1911-1920.csv\n",
      "Saved detailed report to collocation_results/FACTS/collocate_results_1665-1958_FACTS_css2_w5\\collocation_txt\\collocates_txt_1911-1920.txt\n",
      "Saved collocates to collocation_results/FACTS/collocate_results_1665-1958_FACTS_css2_w5\\collocates_1912-1921.csv\n",
      "Saved contexts to collocation_results/FACTS/collocate_results_1665-1958_FACTS_css2_w5\\contexts\\contexts_1912-1921.csv\n",
      "Saved detailed report to collocation_results/FACTS/collocate_results_1665-1958_FACTS_css2_w5\\collocation_txt\\collocates_txt_1912-1921.txt\n",
      "Saved collocates to collocation_results/FACTS/collocate_results_1665-1958_FACTS_css2_w5\\collocates_1913-1922.csv\n",
      "Saved contexts to collocation_results/FACTS/collocate_results_1665-1958_FACTS_css2_w5\\contexts\\contexts_1913-1922.csv\n",
      "Saved detailed report to collocation_results/FACTS/collocate_results_1665-1958_FACTS_css2_w5\\collocation_txt\\collocates_txt_1913-1922.txt\n",
      "Saved collocates to collocation_results/FACTS/collocate_results_1665-1958_FACTS_css2_w5\\collocates_1914-1923.csv\n",
      "Saved contexts to collocation_results/FACTS/collocate_results_1665-1958_FACTS_css2_w5\\contexts\\contexts_1914-1923.csv\n",
      "Saved detailed report to collocation_results/FACTS/collocate_results_1665-1958_FACTS_css2_w5\\collocation_txt\\collocates_txt_1914-1923.txt\n",
      "Saved collocates to collocation_results/FACTS/collocate_results_1665-1958_FACTS_css2_w5\\collocates_1915-1924.csv\n",
      "Saved contexts to collocation_results/FACTS/collocate_results_1665-1958_FACTS_css2_w5\\contexts\\contexts_1915-1924.csv\n",
      "Saved detailed report to collocation_results/FACTS/collocate_results_1665-1958_FACTS_css2_w5\\collocation_txt\\collocates_txt_1915-1924.txt\n",
      "Saved collocates to collocation_results/FACTS/collocate_results_1665-1958_FACTS_css2_w5\\collocates_1916-1925.csv\n",
      "Saved contexts to collocation_results/FACTS/collocate_results_1665-1958_FACTS_css2_w5\\contexts\\contexts_1916-1925.csv\n",
      "Saved detailed report to collocation_results/FACTS/collocate_results_1665-1958_FACTS_css2_w5\\collocation_txt\\collocates_txt_1916-1925.txt\n",
      "Saved collocates to collocation_results/FACTS/collocate_results_1665-1958_FACTS_css2_w5\\collocates_1917-1926.csv\n",
      "Saved contexts to collocation_results/FACTS/collocate_results_1665-1958_FACTS_css2_w5\\contexts\\contexts_1917-1926.csv\n",
      "Saved detailed report to collocation_results/FACTS/collocate_results_1665-1958_FACTS_css2_w5\\collocation_txt\\collocates_txt_1917-1926.txt\n",
      "Saved collocates to collocation_results/FACTS/collocate_results_1665-1958_FACTS_css2_w5\\collocates_1918-1927.csv\n",
      "Saved contexts to collocation_results/FACTS/collocate_results_1665-1958_FACTS_css2_w5\\contexts\\contexts_1918-1927.csv\n",
      "Saved detailed report to collocation_results/FACTS/collocate_results_1665-1958_FACTS_css2_w5\\collocation_txt\\collocates_txt_1918-1927.txt\n",
      "Saved collocates to collocation_results/FACTS/collocate_results_1665-1958_FACTS_css2_w5\\collocates_1919-1928.csv\n",
      "Saved contexts to collocation_results/FACTS/collocate_results_1665-1958_FACTS_css2_w5\\contexts\\contexts_1919-1928.csv\n",
      "Saved detailed report to collocation_results/FACTS/collocate_results_1665-1958_FACTS_css2_w5\\collocation_txt\\collocates_txt_1919-1928.txt\n",
      "Saved collocates to collocation_results/FACTS/collocate_results_1665-1958_FACTS_css2_w5\\collocates_1920-1929.csv\n",
      "Saved contexts to collocation_results/FACTS/collocate_results_1665-1958_FACTS_css2_w5\\contexts\\contexts_1920-1929.csv\n",
      "Saved detailed report to collocation_results/FACTS/collocate_results_1665-1958_FACTS_css2_w5\\collocation_txt\\collocates_txt_1920-1929.txt\n",
      "Saved collocates to collocation_results/FACTS/collocate_results_1665-1958_FACTS_css2_w5\\collocates_1921-1930.csv\n",
      "Saved contexts to collocation_results/FACTS/collocate_results_1665-1958_FACTS_css2_w5\\contexts\\contexts_1921-1930.csv\n",
      "Saved detailed report to collocation_results/FACTS/collocate_results_1665-1958_FACTS_css2_w5\\collocation_txt\\collocates_txt_1921-1930.txt\n",
      "Saved collocates to collocation_results/FACTS/collocate_results_1665-1958_FACTS_css2_w5\\collocates_1922-1931.csv\n",
      "Saved contexts to collocation_results/FACTS/collocate_results_1665-1958_FACTS_css2_w5\\contexts\\contexts_1922-1931.csv\n",
      "Saved detailed report to collocation_results/FACTS/collocate_results_1665-1958_FACTS_css2_w5\\collocation_txt\\collocates_txt_1922-1931.txt\n",
      "Saved collocates to collocation_results/FACTS/collocate_results_1665-1958_FACTS_css2_w5\\collocates_1923-1932.csv\n",
      "Saved contexts to collocation_results/FACTS/collocate_results_1665-1958_FACTS_css2_w5\\contexts\\contexts_1923-1932.csv\n",
      "Saved detailed report to collocation_results/FACTS/collocate_results_1665-1958_FACTS_css2_w5\\collocation_txt\\collocates_txt_1923-1932.txt\n",
      "Saved collocates to collocation_results/FACTS/collocate_results_1665-1958_FACTS_css2_w5\\collocates_1924-1933.csv\n",
      "Saved contexts to collocation_results/FACTS/collocate_results_1665-1958_FACTS_css2_w5\\contexts\\contexts_1924-1933.csv\n",
      "Saved detailed report to collocation_results/FACTS/collocate_results_1665-1958_FACTS_css2_w5\\collocation_txt\\collocates_txt_1924-1933.txt\n",
      "Saved collocates to collocation_results/FACTS/collocate_results_1665-1958_FACTS_css2_w5\\collocates_1925-1934.csv\n",
      "Saved contexts to collocation_results/FACTS/collocate_results_1665-1958_FACTS_css2_w5\\contexts\\contexts_1925-1934.csv\n",
      "Saved detailed report to collocation_results/FACTS/collocate_results_1665-1958_FACTS_css2_w5\\collocation_txt\\collocates_txt_1925-1934.txt\n",
      "Saved collocates to collocation_results/FACTS/collocate_results_1665-1958_FACTS_css2_w5\\collocates_1926-1935.csv\n",
      "Saved contexts to collocation_results/FACTS/collocate_results_1665-1958_FACTS_css2_w5\\contexts\\contexts_1926-1935.csv\n",
      "Saved detailed report to collocation_results/FACTS/collocate_results_1665-1958_FACTS_css2_w5\\collocation_txt\\collocates_txt_1926-1935.txt\n",
      "Saved collocates to collocation_results/FACTS/collocate_results_1665-1958_FACTS_css2_w5\\collocates_1927-1936.csv\n",
      "Saved contexts to collocation_results/FACTS/collocate_results_1665-1958_FACTS_css2_w5\\contexts\\contexts_1927-1936.csv\n",
      "Saved detailed report to collocation_results/FACTS/collocate_results_1665-1958_FACTS_css2_w5\\collocation_txt\\collocates_txt_1927-1936.txt\n",
      "Saved collocates to collocation_results/FACTS/collocate_results_1665-1958_FACTS_css2_w5\\collocates_1928-1937.csv\n",
      "Saved contexts to collocation_results/FACTS/collocate_results_1665-1958_FACTS_css2_w5\\contexts\\contexts_1928-1937.csv\n",
      "Saved detailed report to collocation_results/FACTS/collocate_results_1665-1958_FACTS_css2_w5\\collocation_txt\\collocates_txt_1928-1937.txt\n",
      "Saved collocates to collocation_results/FACTS/collocate_results_1665-1958_FACTS_css2_w5\\collocates_1929-1938.csv\n",
      "Saved contexts to collocation_results/FACTS/collocate_results_1665-1958_FACTS_css2_w5\\contexts\\contexts_1929-1938.csv\n",
      "Saved detailed report to collocation_results/FACTS/collocate_results_1665-1958_FACTS_css2_w5\\collocation_txt\\collocates_txt_1929-1938.txt\n",
      "Saved collocates to collocation_results/FACTS/collocate_results_1665-1958_FACTS_css2_w5\\collocates_1930-1939.csv\n",
      "Saved contexts to collocation_results/FACTS/collocate_results_1665-1958_FACTS_css2_w5\\contexts\\contexts_1930-1939.csv\n",
      "Saved detailed report to collocation_results/FACTS/collocate_results_1665-1958_FACTS_css2_w5\\collocation_txt\\collocates_txt_1930-1939.txt\n",
      "Saved collocates to collocation_results/FACTS/collocate_results_1665-1958_FACTS_css2_w5\\collocates_1931-1940.csv\n",
      "Saved contexts to collocation_results/FACTS/collocate_results_1665-1958_FACTS_css2_w5\\contexts\\contexts_1931-1940.csv\n",
      "Saved detailed report to collocation_results/FACTS/collocate_results_1665-1958_FACTS_css2_w5\\collocation_txt\\collocates_txt_1931-1940.txt\n",
      "Saved collocates to collocation_results/FACTS/collocate_results_1665-1958_FACTS_css2_w5\\collocates_1932-1941.csv\n",
      "Saved contexts to collocation_results/FACTS/collocate_results_1665-1958_FACTS_css2_w5\\contexts\\contexts_1932-1941.csv\n",
      "Saved detailed report to collocation_results/FACTS/collocate_results_1665-1958_FACTS_css2_w5\\collocation_txt\\collocates_txt_1932-1941.txt\n",
      "Saved collocates to collocation_results/FACTS/collocate_results_1665-1958_FACTS_css2_w5\\collocates_1933-1942.csv\n",
      "Saved contexts to collocation_results/FACTS/collocate_results_1665-1958_FACTS_css2_w5\\contexts\\contexts_1933-1942.csv\n",
      "Saved detailed report to collocation_results/FACTS/collocate_results_1665-1958_FACTS_css2_w5\\collocation_txt\\collocates_txt_1933-1942.txt\n",
      "Saved collocates to collocation_results/FACTS/collocate_results_1665-1958_FACTS_css2_w5\\collocates_1934-1943.csv\n",
      "Saved contexts to collocation_results/FACTS/collocate_results_1665-1958_FACTS_css2_w5\\contexts\\contexts_1934-1943.csv\n",
      "Saved detailed report to collocation_results/FACTS/collocate_results_1665-1958_FACTS_css2_w5\\collocation_txt\\collocates_txt_1934-1943.txt\n",
      "Saved collocates to collocation_results/FACTS/collocate_results_1665-1958_FACTS_css2_w5\\collocates_1935-1944.csv\n",
      "Saved contexts to collocation_results/FACTS/collocate_results_1665-1958_FACTS_css2_w5\\contexts\\contexts_1935-1944.csv\n",
      "Saved detailed report to collocation_results/FACTS/collocate_results_1665-1958_FACTS_css2_w5\\collocation_txt\\collocates_txt_1935-1944.txt\n",
      "Saved collocates to collocation_results/FACTS/collocate_results_1665-1958_FACTS_css2_w5\\collocates_1936-1945.csv\n",
      "Saved contexts to collocation_results/FACTS/collocate_results_1665-1958_FACTS_css2_w5\\contexts\\contexts_1936-1945.csv\n",
      "Saved detailed report to collocation_results/FACTS/collocate_results_1665-1958_FACTS_css2_w5\\collocation_txt\\collocates_txt_1936-1945.txt\n",
      "Saved collocates to collocation_results/FACTS/collocate_results_1665-1958_FACTS_css2_w5\\collocates_1937-1946.csv\n",
      "Saved contexts to collocation_results/FACTS/collocate_results_1665-1958_FACTS_css2_w5\\contexts\\contexts_1937-1946.csv\n",
      "Saved detailed report to collocation_results/FACTS/collocate_results_1665-1958_FACTS_css2_w5\\collocation_txt\\collocates_txt_1937-1946.txt\n",
      "Saved collocates to collocation_results/FACTS/collocate_results_1665-1958_FACTS_css2_w5\\collocates_1938-1947.csv\n",
      "Saved contexts to collocation_results/FACTS/collocate_results_1665-1958_FACTS_css2_w5\\contexts\\contexts_1938-1947.csv\n",
      "Saved detailed report to collocation_results/FACTS/collocate_results_1665-1958_FACTS_css2_w5\\collocation_txt\\collocates_txt_1938-1947.txt\n",
      "Saved collocates to collocation_results/FACTS/collocate_results_1665-1958_FACTS_css2_w5\\collocates_1939-1948.csv\n",
      "Saved contexts to collocation_results/FACTS/collocate_results_1665-1958_FACTS_css2_w5\\contexts\\contexts_1939-1948.csv\n",
      "Saved detailed report to collocation_results/FACTS/collocate_results_1665-1958_FACTS_css2_w5\\collocation_txt\\collocates_txt_1939-1948.txt\n",
      "Saved collocates to collocation_results/FACTS/collocate_results_1665-1958_FACTS_css2_w5\\collocates_1940-1949.csv\n",
      "Saved contexts to collocation_results/FACTS/collocate_results_1665-1958_FACTS_css2_w5\\contexts\\contexts_1940-1949.csv\n",
      "Saved detailed report to collocation_results/FACTS/collocate_results_1665-1958_FACTS_css2_w5\\collocation_txt\\collocates_txt_1940-1949.txt\n",
      "Saved collocates to collocation_results/FACTS/collocate_results_1665-1958_FACTS_css2_w5\\collocates_1941-1950.csv\n",
      "Saved contexts to collocation_results/FACTS/collocate_results_1665-1958_FACTS_css2_w5\\contexts\\contexts_1941-1950.csv\n",
      "Saved detailed report to collocation_results/FACTS/collocate_results_1665-1958_FACTS_css2_w5\\collocation_txt\\collocates_txt_1941-1950.txt\n",
      "Saved collocates to collocation_results/FACTS/collocate_results_1665-1958_FACTS_css2_w5\\collocates_1942-1951.csv\n",
      "Saved contexts to collocation_results/FACTS/collocate_results_1665-1958_FACTS_css2_w5\\contexts\\contexts_1942-1951.csv\n",
      "Saved detailed report to collocation_results/FACTS/collocate_results_1665-1958_FACTS_css2_w5\\collocation_txt\\collocates_txt_1942-1951.txt\n",
      "Saved collocates to collocation_results/FACTS/collocate_results_1665-1958_FACTS_css2_w5\\collocates_1943-1952.csv\n",
      "Saved contexts to collocation_results/FACTS/collocate_results_1665-1958_FACTS_css2_w5\\contexts\\contexts_1943-1952.csv\n",
      "Saved detailed report to collocation_results/FACTS/collocate_results_1665-1958_FACTS_css2_w5\\collocation_txt\\collocates_txt_1943-1952.txt\n",
      "Saved collocates to collocation_results/FACTS/collocate_results_1665-1958_FACTS_css2_w5\\collocates_1944-1953.csv\n",
      "Saved contexts to collocation_results/FACTS/collocate_results_1665-1958_FACTS_css2_w5\\contexts\\contexts_1944-1953.csv\n",
      "Saved detailed report to collocation_results/FACTS/collocate_results_1665-1958_FACTS_css2_w5\\collocation_txt\\collocates_txt_1944-1953.txt\n",
      "Saved collocates to collocation_results/FACTS/collocate_results_1665-1958_FACTS_css2_w5\\collocates_1945-1954.csv\n",
      "Saved contexts to collocation_results/FACTS/collocate_results_1665-1958_FACTS_css2_w5\\contexts\\contexts_1945-1954.csv\n",
      "Saved detailed report to collocation_results/FACTS/collocate_results_1665-1958_FACTS_css2_w5\\collocation_txt\\collocates_txt_1945-1954.txt\n",
      "Saved collocates to collocation_results/FACTS/collocate_results_1665-1958_FACTS_css2_w5\\collocates_1946-1955.csv\n",
      "Saved contexts to collocation_results/FACTS/collocate_results_1665-1958_FACTS_css2_w5\\contexts\\contexts_1946-1955.csv\n",
      "Saved detailed report to collocation_results/FACTS/collocate_results_1665-1958_FACTS_css2_w5\\collocation_txt\\collocates_txt_1946-1955.txt\n",
      "Saved collocates to collocation_results/FACTS/collocate_results_1665-1958_FACTS_css2_w5\\collocates_1947-1956.csv\n",
      "Saved contexts to collocation_results/FACTS/collocate_results_1665-1958_FACTS_css2_w5\\contexts\\contexts_1947-1956.csv\n",
      "Saved detailed report to collocation_results/FACTS/collocate_results_1665-1958_FACTS_css2_w5\\collocation_txt\\collocates_txt_1947-1956.txt\n",
      "Saved collocates to collocation_results/FACTS/collocate_results_1665-1958_FACTS_css2_w5\\collocates_1948-1957.csv\n",
      "Saved contexts to collocation_results/FACTS/collocate_results_1665-1958_FACTS_css2_w5\\contexts\\contexts_1948-1957.csv\n",
      "Saved detailed report to collocation_results/FACTS/collocate_results_1665-1958_FACTS_css2_w5\\collocation_txt\\collocates_txt_1948-1957.txt\n",
      "Saved collocates to collocation_results/FACTS/collocate_results_1665-1958_FACTS_css2_w5\\collocates_1949-1958.csv\n",
      "Saved contexts to collocation_results/FACTS/collocate_results_1665-1958_FACTS_css2_w5\\contexts\\contexts_1949-1958.csv\n",
      "Saved detailed report to collocation_results/FACTS/collocate_results_1665-1958_FACTS_css2_w5\\collocation_txt\\collocates_txt_1949-1958.txt\n",
      "Collocate analysis completed. Results saved in the 'collocation_results/FACTS/collocate_results_1665-1958_FACTS_css2_w5' directory.\n"
     ]
    }
   ],
   "source": [
    "import concurrent.futures\n",
    "\n",
    "tasks = [\n",
    "    ([r\"D:\\Fact_fiction_corpus\\texts\\royal society\\txt_rstb\", \n",
    "      r\"D:\\Fact_fiction_corpus\\texts\\royal society\\txt_rstl\", \n",
    "      r\"D:\\Fact_fiction_corpus\\texts\\royal society\\txt_rsta\"], \n",
    "     \"collocation_results/FACT/collocate_results_1665-1958_FACT_css3_w3\", \"fact\", 1665, 1958, 3), #collocate_window = 3/5\n",
    "    \n",
    "    ([r\"D:\\Fact_fiction_corpus\\texts\\royal society\\txt_rstb\", \n",
    "      r\"D:\\Fact_fiction_corpus\\texts\\royal society\\txt_rstl\", \n",
    "      r\"D:\\Fact_fiction_corpus\\texts\\royal society\\txt_rsta\"], \n",
    "     \"collocation_results/FACTS/collocate_results_1665-1958_FACTS_css3_w3\", \"facts\", 1665, 1958, 3), #scaling is more unforgiving for facts (imperfect) BUT SETTING IT BELOW 3 IS TOO FORGIVING\n",
    "    \n",
    "    ([r\"D:\\Fact_fiction_corpus\\texts\\royal society\\txt_rstb\", \n",
    "      r\"D:\\Fact_fiction_corpus\\texts\\royal society\\txt_rstl\", \n",
    "      r\"D:\\Fact_fiction_corpus\\texts\\royal society\\txt_rsta\"], \n",
    "     \"collocation_results/FACT/collocate_results_1665-1958_FACT_css3_w5\", \"fact\", 1665, 1958, 5),\n",
    "\n",
    "     ([r\"D:\\Fact_fiction_corpus\\texts\\royal society\\txt_rstb\", \n",
    "      r\"D:\\Fact_fiction_corpus\\texts\\royal society\\txt_rstl\", \n",
    "      r\"D:\\Fact_fiction_corpus\\texts\\royal society\\txt_rsta\"], \n",
    "     \"collocation_results/FACTS/collocate_results_1665-1958_FACTS_css3_w5\", \"facts\", 1665, 1958, 5)\n",
    "    \n",
    "    #([r\"D:\\Fact_fiction_corpus\\texts\\royal society\\txt_rstb\", \n",
    "    #r\"D:\\Fact_fiction_corpus\\texts\\royal society\\txt_rstl\", \n",
    "    #r\"D:\\Fact_fiction_corpus\\texts\\royal society\\txt_rsta\"], \n",
    "    #\"collocation_results/FACTS/collocate_results_1665-1958_FACTS_css2_w5\", \"facts\", 1665, 1958, 5) #tested smaller scaling for \"facts\" with this one (changing scaling is in the function, not here)\n",
    "]\n",
    "\n",
    "def run_analyze_collocates(args):\n",
    "    analyze_collocates(*args)\n",
    "\n",
    "with concurrent.futures.ThreadPoolExecutor() as executor:\n",
    "    futures = [executor.submit(run_analyze_collocates, task) for task in tasks]\n",
    "    for future in concurrent.futures.as_completed(futures):\n",
    "        try:\n",
    "            future.result()\n",
    "        except Exception as e:\n",
    "            print(f\"Error occurred: {e}\")"
   ]
  },
  {
   "cell_type": "markdown",
   "metadata": {},
   "source": [
    "---\n",
    "extra stuff\n",
    "---"
   ]
  },
  {
   "cell_type": "markdown",
   "metadata": {},
   "source": [
    "ungodly messy, could use some clean up"
   ]
  },
  {
   "cell_type": "code",
   "execution_count": 104,
   "metadata": {},
   "outputs": [
    {
     "data": {
      "text/plain": [
       "0"
      ]
     },
     "execution_count": 104,
     "metadata": {},
     "output_type": "execute_result"
    }
   ],
   "source": [
    "#so my pc turns off eventually\n",
    "import os\n",
    "import time\n",
    "\n",
    "time.sleep(300)\n",
    "os.system(\"shutdown /s /t 1\")"
   ]
  },
  {
   "cell_type": "code",
   "execution_count": 99,
   "metadata": {},
   "outputs": [
    {
     "name": "stdout",
     "output_type": "stream",
     "text": [
      "Counting words in year windows...\n"
     ]
    },
    {
     "name": "stderr",
     "output_type": "stream",
     "text": [
      "100%|██████████| 18194/18194 [06:09<00:00, 49.28it/s]  \n"
     ]
    },
    {
     "data": {
      "application/vnd.plotly.v1+json": {
       "config": {
        "plotlyServerURL": "https://plot.ly"
       },
       "data": [
        {
         "hoverinfo": "text",
         "marker": {
          "color": "red",
          "line": {
           "color": "black",
           "width": 2
          },
          "size": 10
         },
         "mode": "markers+lines",
         "name": "<b>RSTA (1887-1948)</b>",
         "text": [
          "Window Start: 1878<br>Total Words: 170052",
          "Window Start: 1879<br>Total Words: 182661",
          "Window Start: 1880<br>Total Words: 216293",
          "Window Start: 1881<br>Total Words: 216293",
          "Window Start: 1882<br>Total Words: 410336",
          "Window Start: 1883<br>Total Words: 661009",
          "Window Start: 1884<br>Total Words: 999389",
          "Window Start: 1885<br>Total Words: 1302185",
          "Window Start: 1886<br>Total Words: 1611531",
          "Window Start: 1887<br>Total Words: 1860981",
          "Window Start: 1888<br>Total Words: 1967899",
          "Window Start: 1889<br>Total Words: 2115161",
          "Window Start: 1890<br>Total Words: 2254085",
          "Window Start: 1891<br>Total Words: 2644015",
          "Window Start: 1892<br>Total Words: 2772370",
          "Window Start: 1893<br>Total Words: 2853886",
          "Window Start: 1894<br>Total Words: 2887679",
          "Window Start: 1895<br>Total Words: 2869304",
          "Window Start: 1896<br>Total Words: 2724296",
          "Window Start: 1897<br>Total Words: 2787132",
          "Window Start: 1898<br>Total Words: 2510162",
          "Window Start: 1899<br>Total Words: 2729620",
          "Window Start: 1900<br>Total Words: 2704063",
          "Window Start: 1901<br>Total Words: 2314133",
          "Window Start: 1902<br>Total Words: 2134435",
          "Window Start: 1903<br>Total Words: 1951515",
          "Window Start: 1904<br>Total Words: 1731781",
          "Window Start: 1905<br>Total Words: 1745035",
          "Window Start: 1906<br>Total Words: 1732374",
          "Window Start: 1907<br>Total Words: 1562844",
          "Window Start: 1908<br>Total Words: 1562844",
          "Window Start: 1909<br>Total Words: 1312899",
          "Window Start: 1910<br>Total Words: 1341005",
          "Window Start: 1911<br>Total Words: 1495814",
          "Window Start: 1912<br>Total Words: 1499227",
          "Window Start: 1913<br>Total Words: 1471643",
          "Window Start: 1914<br>Total Words: 1441949",
          "Window Start: 1915<br>Total Words: 1251449",
          "Window Start: 1916<br>Total Words: 1099772",
          "Window Start: 1917<br>Total Words: 1053893",
          "Window Start: 1918<br>Total Words: 1177190",
          "Window Start: 1919<br>Total Words: 1176939",
          "Window Start: 1920<br>Total Words: 1145964",
          "Window Start: 1921<br>Total Words: 1131976",
          "Window Start: 1922<br>Total Words: 985863",
          "Window Start: 1923<br>Total Words: 1034261",
          "Window Start: 1924<br>Total Words: 1081036",
          "Window Start: 1925<br>Total Words: 1296340",
          "Window Start: 1926<br>Total Words: 1508980",
          "Window Start: 1927<br>Total Words: 1568613",
          "Window Start: 1928<br>Total Words: 1555412",
          "Window Start: 1929<br>Total Words: 1577533",
          "Window Start: 1930<br>Total Words: 1582242",
          "Window Start: 1931<br>Total Words: 1561400",
          "Window Start: 1932<br>Total Words: 1573184",
          "Window Start: 1933<br>Total Words: 1418584",
          "Window Start: 1934<br>Total Words: 1264823",
          "Window Start: 1935<br>Total Words: 977478",
          "Window Start: 1936<br>Total Words: 803375",
          "Window Start: 1937<br>Total Words: 692251",
          "Window Start: 1938<br>Total Words: 662240",
          "Window Start: 1939<br>Total Words: 763317",
          "Window Start: 1940<br>Total Words: 744235",
          "Window Start: 1941<br>Total Words: 833194",
          "Window Start: 1942<br>Total Words: 1036910",
          "Window Start: 1943<br>Total Words: 1276141",
          "Window Start: 1944<br>Total Words: 1441694",
          "Window Start: 1945<br>Total Words: 1547920",
          "Window Start: 1946<br>Total Words: 1509383",
          "Window Start: 1947<br>Total Words: 1463997",
          "Window Start: 1948<br>Total Words: 1383912"
         ],
         "type": "scatter",
         "x": [
          1878,
          1879,
          1880,
          1881,
          1882,
          1883,
          1884,
          1885,
          1886,
          1887,
          1888,
          1889,
          1890,
          1891,
          1892,
          1893,
          1894,
          1895,
          1896,
          1897,
          1898,
          1899,
          1900,
          1901,
          1902,
          1903,
          1904,
          1905,
          1906,
          1907,
          1908,
          1909,
          1910,
          1911,
          1912,
          1913,
          1914,
          1915,
          1916,
          1917,
          1918,
          1919,
          1920,
          1921,
          1922,
          1923,
          1924,
          1925,
          1926,
          1927,
          1928,
          1929,
          1930,
          1931,
          1932,
          1933,
          1934,
          1935,
          1936,
          1937,
          1938,
          1939,
          1940,
          1941,
          1942,
          1943,
          1944,
          1945,
          1946,
          1947,
          1948
         ],
         "y": [
          170052,
          182661,
          216293,
          216293,
          410336,
          661009,
          999389,
          1302185,
          1611531,
          1860981,
          1967899,
          2115161,
          2254085,
          2644015,
          2772370,
          2853886,
          2887679,
          2869304,
          2724296,
          2787132,
          2510162,
          2729620,
          2704063,
          2314133,
          2134435,
          1951515,
          1731781,
          1745035,
          1732374,
          1562844,
          1562844,
          1312899,
          1341005,
          1495814,
          1499227,
          1471643,
          1441949,
          1251449,
          1099772,
          1053893,
          1177190,
          1176939,
          1145964,
          1131976,
          985863,
          1034261,
          1081036,
          1296340,
          1508980,
          1568613,
          1555412,
          1577533,
          1582242,
          1561400,
          1573184,
          1418584,
          1264823,
          977478,
          803375,
          692251,
          662240,
          763317,
          744235,
          833194,
          1036910,
          1276141,
          1441694,
          1547920,
          1509383,
          1463997,
          1383912
         ]
        },
        {
         "hoverinfo": "text",
         "marker": {
          "color": "blue",
          "line": {
           "color": "black",
           "width": 2
          },
          "size": 10
         },
         "mode": "markers+lines",
         "name": "<b>RSTB (1887-1948)</b>",
         "text": [
          "Window Start: 1878<br>Total Words: 221072",
          "Window Start: 1879<br>Total Words: 453262",
          "Window Start: 1880<br>Total Words: 604283",
          "Window Start: 1881<br>Total Words: 690180",
          "Window Start: 1882<br>Total Words: 942797",
          "Window Start: 1883<br>Total Words: 1126753",
          "Window Start: 1884<br>Total Words: 1479544",
          "Window Start: 1885<br>Total Words: 1901753",
          "Window Start: 1886<br>Total Words: 2250947",
          "Window Start: 1887<br>Total Words: 2414326",
          "Window Start: 1888<br>Total Words: 2392854",
          "Window Start: 1889<br>Total Words: 2407699",
          "Window Start: 1890<br>Total Words: 2363387",
          "Window Start: 1891<br>Total Words: 2453716",
          "Window Start: 1892<br>Total Words: 2407051",
          "Window Start: 1893<br>Total Words: 2223095",
          "Window Start: 1894<br>Total Words: 1981929",
          "Window Start: 1895<br>Total Words: 1725273",
          "Window Start: 1896<br>Total Words: 1527291",
          "Window Start: 1897<br>Total Words: 1573236",
          "Window Start: 1898<br>Total Words: 1373636",
          "Window Start: 1899<br>Total Words: 1301153",
          "Window Start: 1900<br>Total Words: 1411272",
          "Window Start: 1901<br>Total Words: 1235046",
          "Window Start: 1902<br>Total Words: 1200208",
          "Window Start: 1903<br>Total Words: 1346642",
          "Window Start: 1904<br>Total Words: 1385893",
          "Window Start: 1905<br>Total Words: 1601196",
          "Window Start: 1906<br>Total Words: 1637278",
          "Window Start: 1907<br>Total Words: 1638097",
          "Window Start: 1908<br>Total Words: 1638097",
          "Window Start: 1909<br>Total Words: 1630128",
          "Window Start: 1910<br>Total Words: 1413300",
          "Window Start: 1911<br>Total Words: 1629346",
          "Window Start: 1912<br>Total Words: 1660238",
          "Window Start: 1913<br>Total Words: 1513804",
          "Window Start: 1914<br>Total Words: 1547934",
          "Window Start: 1915<br>Total Words: 1328285",
          "Window Start: 1916<br>Total Words: 1323570",
          "Window Start: 1917<br>Total Words: 1296318",
          "Window Start: 1918<br>Total Words: 1479917",
          "Window Start: 1919<br>Total Words: 1485991",
          "Window Start: 1920<br>Total Words: 1679003",
          "Window Start: 1921<br>Total Words: 1680773",
          "Window Start: 1922<br>Total Words: 1811406",
          "Window Start: 1923<br>Total Words: 2225833",
          "Window Start: 1924<br>Total Words: 2040827",
          "Window Start: 1925<br>Total Words: 2273508",
          "Window Start: 1926<br>Total Words: 2356888",
          "Window Start: 1927<br>Total Words: 2364124",
          "Window Start: 1928<br>Total Words: 2595952",
          "Window Start: 1929<br>Total Words: 2577921",
          "Window Start: 1930<br>Total Words: 2550395",
          "Window Start: 1931<br>Total Words: 2405871",
          "Window Start: 1932<br>Total Words: 2150773",
          "Window Start: 1933<br>Total Words: 1828441",
          "Window Start: 1934<br>Total Words: 1828441",
          "Window Start: 1935<br>Total Words: 1501289",
          "Window Start: 1936<br>Total Words: 1235330",
          "Window Start: 1937<br>Total Words: 1229126",
          "Window Start: 1938<br>Total Words: 1040434",
          "Window Start: 1939<br>Total Words: 986667",
          "Window Start: 1940<br>Total Words: 964528",
          "Window Start: 1941<br>Total Words: 1151849",
          "Window Start: 1942<br>Total Words: 1306031",
          "Window Start: 1943<br>Total Words: 1500575",
          "Window Start: 1944<br>Total Words: 1629971",
          "Window Start: 1945<br>Total Words: 1654345",
          "Window Start: 1946<br>Total Words: 1654345",
          "Window Start: 1947<br>Total Words: 1470422",
          "Window Start: 1948<br>Total Words: 1243687"
         ],
         "type": "scatter",
         "x": [
          1878,
          1879,
          1880,
          1881,
          1882,
          1883,
          1884,
          1885,
          1886,
          1887,
          1888,
          1889,
          1890,
          1891,
          1892,
          1893,
          1894,
          1895,
          1896,
          1897,
          1898,
          1899,
          1900,
          1901,
          1902,
          1903,
          1904,
          1905,
          1906,
          1907,
          1908,
          1909,
          1910,
          1911,
          1912,
          1913,
          1914,
          1915,
          1916,
          1917,
          1918,
          1919,
          1920,
          1921,
          1922,
          1923,
          1924,
          1925,
          1926,
          1927,
          1928,
          1929,
          1930,
          1931,
          1932,
          1933,
          1934,
          1935,
          1936,
          1937,
          1938,
          1939,
          1940,
          1941,
          1942,
          1943,
          1944,
          1945,
          1946,
          1947,
          1948
         ],
         "y": [
          221072,
          453262,
          604283,
          690180,
          942797,
          1126753,
          1479544,
          1901753,
          2250947,
          2414326,
          2392854,
          2407699,
          2363387,
          2453716,
          2407051,
          2223095,
          1981929,
          1725273,
          1527291,
          1573236,
          1373636,
          1301153,
          1411272,
          1235046,
          1200208,
          1346642,
          1385893,
          1601196,
          1637278,
          1638097,
          1638097,
          1630128,
          1413300,
          1629346,
          1660238,
          1513804,
          1547934,
          1328285,
          1323570,
          1296318,
          1479917,
          1485991,
          1679003,
          1680773,
          1811406,
          2225833,
          2040827,
          2273508,
          2356888,
          2364124,
          2595952,
          2577921,
          2550395,
          2405871,
          2150773,
          1828441,
          1828441,
          1501289,
          1235330,
          1229126,
          1040434,
          986667,
          964528,
          1151849,
          1306031,
          1500575,
          1629971,
          1654345,
          1654345,
          1470422,
          1243687
         ]
        },
        {
         "hoverinfo": "text",
         "marker": {
          "color": "green",
          "line": {
           "color": "black",
           "width": 2
          },
          "size": 10
         },
         "mode": "markers+lines",
         "name": "<b>RSTL (1665-1886)</b>",
         "text": [
          "Window Start: 1665<br>Total Words: 994670",
          "Window Start: 1666<br>Total Words: 941129",
          "Window Start: 1667<br>Total Words: 951543",
          "Window Start: 1668<br>Total Words: 1052985",
          "Window Start: 1669<br>Total Words: 952411",
          "Window Start: 1670<br>Total Words: 862258",
          "Window Start: 1671<br>Total Words: 732750",
          "Window Start: 1672<br>Total Words: 618805",
          "Window Start: 1673<br>Total Words: 514033",
          "Window Start: 1674<br>Total Words: 544332",
          "Window Start: 1675<br>Total Words: 557435",
          "Window Start: 1676<br>Total Words: 572826",
          "Window Start: 1677<br>Total Words: 624939",
          "Window Start: 1678<br>Total Words: 523497",
          "Window Start: 1679<br>Total Words: 523497",
          "Window Start: 1680<br>Total Words: 523497",
          "Window Start: 1681<br>Total Words: 523497",
          "Window Start: 1682<br>Total Words: 523497",
          "Window Start: 1683<br>Total Words: 523497",
          "Window Start: 1684<br>Total Words: 532379",
          "Window Start: 1685<br>Total Words: 488978",
          "Window Start: 1686<br>Total Words: 576877",
          "Window Start: 1687<br>Total Words: 417588",
          "Window Start: 1688<br>Total Words: 417588",
          "Window Start: 1689<br>Total Words: 545588",
          "Window Start: 1690<br>Total Words: 675715",
          "Window Start: 1691<br>Total Words: 854526",
          "Window Start: 1692<br>Total Words: 854526",
          "Window Start: 1693<br>Total Words: 995542",
          "Window Start: 1694<br>Total Words: 865242",
          "Window Start: 1695<br>Total Words: 983742",
          "Window Start: 1696<br>Total Words: 770858",
          "Window Start: 1697<br>Total Words: 852672",
          "Window Start: 1698<br>Total Words: 852672",
          "Window Start: 1699<br>Total Words: 852710",
          "Window Start: 1700<br>Total Words: 722583",
          "Window Start: 1701<br>Total Words: 700400",
          "Window Start: 1702<br>Total Words: 700400",
          "Window Start: 1703<br>Total Words: 559384",
          "Window Start: 1704<br>Total Words: 632311",
          "Window Start: 1705<br>Total Words: 580932",
          "Window Start: 1706<br>Total Words: 580932",
          "Window Start: 1707<br>Total Words: 499118",
          "Window Start: 1708<br>Total Words: 628146",
          "Window Start: 1709<br>Total Words: 500108",
          "Window Start: 1710<br>Total Words: 500108",
          "Window Start: 1711<br>Total Words: 411216",
          "Window Start: 1712<br>Total Words: 411216",
          "Window Start: 1713<br>Total Words: 519442",
          "Window Start: 1714<br>Total Words: 446515",
          "Window Start: 1715<br>Total Words: 412014",
          "Window Start: 1716<br>Total Words: 412014",
          "Window Start: 1717<br>Total Words: 475974",
          "Window Start: 1718<br>Total Words: 436911",
          "Window Start: 1719<br>Total Words: 436911",
          "Window Start: 1720<br>Total Words: 552008",
          "Window Start: 1721<br>Total Words: 484272",
          "Window Start: 1722<br>Total Words: 589378",
          "Window Start: 1723<br>Total Words: 481152",
          "Window Start: 1724<br>Total Words: 582351",
          "Window Start: 1725<br>Total Words: 475327",
          "Window Start: 1726<br>Total Words: 567790",
          "Window Start: 1727<br>Total Words: 503830",
          "Window Start: 1728<br>Total Words: 539523",
          "Window Start: 1729<br>Total Words: 539523",
          "Window Start: 1730<br>Total Words: 643037",
          "Window Start: 1731<br>Total Words: 643037",
          "Window Start: 1732<br>Total Words: 537931",
          "Window Start: 1733<br>Total Words: 696482",
          "Window Start: 1734<br>Total Words: 595283",
          "Window Start: 1735<br>Total Words: 779616",
          "Window Start: 1736<br>Total Words: 687153",
          "Window Start: 1737<br>Total Words: 899960",
          "Window Start: 1738<br>Total Words: 774302",
          "Window Start: 1739<br>Total Words: 934618",
          "Window Start: 1740<br>Total Words: 906637",
          "Window Start: 1741<br>Total Words: 906637",
          "Window Start: 1742<br>Total Words: 1056027",
          "Window Start: 1743<br>Total Words: 897476",
          "Window Start: 1744<br>Total Words: 1118153",
          "Window Start: 1745<br>Total Words: 933820",
          "Window Start: 1746<br>Total Words: 1158248",
          "Window Start: 1747<br>Total Words: 945441",
          "Window Start: 1748<br>Total Words: 1167331",
          "Window Start: 1749<br>Total Words: 1007015",
          "Window Start: 1750<br>Total Words: 1059573",
          "Window Start: 1751<br>Total Words: 1059573",
          "Window Start: 1752<br>Total Words: 1057013",
          "Window Start: 1753<br>Total Words: 1057013",
          "Window Start: 1754<br>Total Words: 960979",
          "Window Start: 1755<br>Total Words: 1067926",
          "Window Start: 1756<br>Total Words: 925472",
          "Window Start: 1757<br>Total Words: 995643",
          "Window Start: 1758<br>Total Words: 893693",
          "Window Start: 1759<br>Total Words: 965548",
          "Window Start: 1760<br>Total Words: 830585",
          "Window Start: 1761<br>Total Words: 947209",
          "Window Start: 1762<br>Total Words: 952286",
          "Window Start: 1763<br>Total Words: 1062017",
          "Window Start: 1764<br>Total Words: 1050538",
          "Window Start: 1765<br>Total Words: 1053415",
          "Window Start: 1766<br>Total Words: 1082306",
          "Window Start: 1767<br>Total Words: 1130667",
          "Window Start: 1768<br>Total Words: 1179903",
          "Window Start: 1769<br>Total Words: 1325156",
          "Window Start: 1770<br>Total Words: 1347633",
          "Window Start: 1771<br>Total Words: 1355858",
          "Window Start: 1772<br>Total Words: 1360885",
          "Window Start: 1773<br>Total Words: 1371199",
          "Window Start: 1774<br>Total Words: 1403887",
          "Window Start: 1775<br>Total Words: 1410547",
          "Window Start: 1776<br>Total Words: 1421534",
          "Window Start: 1777<br>Total Words: 1433348",
          "Window Start: 1778<br>Total Words: 1390030",
          "Window Start: 1779<br>Total Words: 1280476",
          "Window Start: 1780<br>Total Words: 1229769",
          "Window Start: 1781<br>Total Words: 1268433",
          "Window Start: 1782<br>Total Words: 1222490",
          "Window Start: 1783<br>Total Words: 1228892",
          "Window Start: 1784<br>Total Words: 1143833",
          "Window Start: 1785<br>Total Words: 1128704",
          "Window Start: 1786<br>Total Words: 1159021",
          "Window Start: 1787<br>Total Words: 1157046",
          "Window Start: 1788<br>Total Words: 1158493",
          "Window Start: 1789<br>Total Words: 1198089",
          "Window Start: 1790<br>Total Words: 1205852",
          "Window Start: 1791<br>Total Words: 1212984",
          "Window Start: 1792<br>Total Words: 1227058",
          "Window Start: 1793<br>Total Words: 1239535",
          "Window Start: 1794<br>Total Words: 1306332",
          "Window Start: 1795<br>Total Words: 1320663",
          "Window Start: 1796<br>Total Words: 1261626",
          "Window Start: 1797<br>Total Words: 1239658",
          "Window Start: 1798<br>Total Words: 1197498",
          "Window Start: 1799<br>Total Words: 1144724",
          "Window Start: 1800<br>Total Words: 1184418",
          "Window Start: 1801<br>Total Words: 1102945",
          "Window Start: 1802<br>Total Words: 1078183",
          "Window Start: 1803<br>Total Words: 1044203",
          "Window Start: 1804<br>Total Words: 992030",
          "Window Start: 1805<br>Total Words: 1032617",
          "Window Start: 1806<br>Total Words: 1059379",
          "Window Start: 1807<br>Total Words: 1039023",
          "Window Start: 1808<br>Total Words: 1041089",
          "Window Start: 1809<br>Total Words: 1069955",
          "Window Start: 1810<br>Total Words: 1051163",
          "Window Start: 1811<br>Total Words: 1049751",
          "Window Start: 1812<br>Total Words: 1058101",
          "Window Start: 1813<br>Total Words: 1066008",
          "Window Start: 1814<br>Total Words: 1102821",
          "Window Start: 1815<br>Total Words: 1077753",
          "Window Start: 1816<br>Total Words: 1100372",
          "Window Start: 1817<br>Total Words: 1251886",
          "Window Start: 1818<br>Total Words: 1264478",
          "Window Start: 1819<br>Total Words: 1251898",
          "Window Start: 1820<br>Total Words: 1279849",
          "Window Start: 1821<br>Total Words: 1326222",
          "Window Start: 1822<br>Total Words: 1350146",
          "Window Start: 1823<br>Total Words: 1415852",
          "Window Start: 1824<br>Total Words: 1586150",
          "Window Start: 1825<br>Total Words: 1720757",
          "Window Start: 1826<br>Total Words: 1716112",
          "Window Start: 1827<br>Total Words: 1711433",
          "Window Start: 1828<br>Total Words: 1782915",
          "Window Start: 1829<br>Total Words: 1851233",
          "Window Start: 1830<br>Total Words: 1902298",
          "Window Start: 1831<br>Total Words: 2033866",
          "Window Start: 1832<br>Total Words: 2034192",
          "Window Start: 1833<br>Total Words: 1984311",
          "Window Start: 1834<br>Total Words: 1814666",
          "Window Start: 1835<br>Total Words: 1646900",
          "Window Start: 1836<br>Total Words: 1626945",
          "Window Start: 1837<br>Total Words: 1629081",
          "Window Start: 1838<br>Total Words: 1557154",
          "Window Start: 1839<br>Total Words: 1487079",
          "Window Start: 1840<br>Total Words: 1505369",
          "Window Start: 1841<br>Total Words: 1572599",
          "Window Start: 1842<br>Total Words: 1786276",
          "Window Start: 1843<br>Total Words: 1939387",
          "Window Start: 1844<br>Total Words: 2059893",
          "Window Start: 1845<br>Total Words: 2094652",
          "Window Start: 1846<br>Total Words: 2141783",
          "Window Start: 1847<br>Total Words: 2223327",
          "Window Start: 1848<br>Total Words: 2450908",
          "Window Start: 1849<br>Total Words: 2743925",
          "Window Start: 1850<br>Total Words: 2879848",
          "Window Start: 1851<br>Total Words: 2764654",
          "Window Start: 1852<br>Total Words: 2729465",
          "Window Start: 1853<br>Total Words: 2897481",
          "Window Start: 1854<br>Total Words: 2888025",
          "Window Start: 1855<br>Total Words: 3046672",
          "Window Start: 1856<br>Total Words: 3178682",
          "Window Start: 1857<br>Total Words: 3203930",
          "Window Start: 1858<br>Total Words: 3158724",
          "Window Start: 1859<br>Total Words: 3013252",
          "Window Start: 1860<br>Total Words: 2967018",
          "Window Start: 1861<br>Total Words: 2951043",
          "Window Start: 1862<br>Total Words: 2933542",
          "Window Start: 1863<br>Total Words: 2669136",
          "Window Start: 1864<br>Total Words: 2730354",
          "Window Start: 1865<br>Total Words: 2796829",
          "Window Start: 1866<br>Total Words: 2769959",
          "Window Start: 1867<br>Total Words: 2743129",
          "Window Start: 1868<br>Total Words: 2751945",
          "Window Start: 1869<br>Total Words: 2495495",
          "Window Start: 1870<br>Total Words: 2719958",
          "Window Start: 1871<br>Total Words: 2883784",
          "Window Start: 1872<br>Total Words: 2933123",
          "Window Start: 1873<br>Total Words: 3292153",
          "Window Start: 1874<br>Total Words: 3364755",
          "Window Start: 1875<br>Total Words: 3236554",
          "Window Start: 1876<br>Total Words: 3289455",
          "Window Start: 1877<br>Total Words: 3256113",
          "Window Start: 1878<br>Total Words: 2965564",
          "Window Start: 1879<br>Total Words: 2965564",
          "Window Start: 1880<br>Total Words: 2445446",
          "Window Start: 1881<br>Total Words: 2079858",
          "Window Start: 1882<br>Total Words: 1736629",
          "Window Start: 1883<br>Total Words: 1192202",
          "Window Start: 1884<br>Total Words: 834449",
          "Window Start: 1885<br>Total Words: 604723",
          "Window Start: 1886<br>Total Words: 281638"
         ],
         "type": "scatter",
         "x": [
          1665,
          1666,
          1667,
          1668,
          1669,
          1670,
          1671,
          1672,
          1673,
          1674,
          1675,
          1676,
          1677,
          1678,
          1679,
          1680,
          1681,
          1682,
          1683,
          1684,
          1685,
          1686,
          1687,
          1688,
          1689,
          1690,
          1691,
          1692,
          1693,
          1694,
          1695,
          1696,
          1697,
          1698,
          1699,
          1700,
          1701,
          1702,
          1703,
          1704,
          1705,
          1706,
          1707,
          1708,
          1709,
          1710,
          1711,
          1712,
          1713,
          1714,
          1715,
          1716,
          1717,
          1718,
          1719,
          1720,
          1721,
          1722,
          1723,
          1724,
          1725,
          1726,
          1727,
          1728,
          1729,
          1730,
          1731,
          1732,
          1733,
          1734,
          1735,
          1736,
          1737,
          1738,
          1739,
          1740,
          1741,
          1742,
          1743,
          1744,
          1745,
          1746,
          1747,
          1748,
          1749,
          1750,
          1751,
          1752,
          1753,
          1754,
          1755,
          1756,
          1757,
          1758,
          1759,
          1760,
          1761,
          1762,
          1763,
          1764,
          1765,
          1766,
          1767,
          1768,
          1769,
          1770,
          1771,
          1772,
          1773,
          1774,
          1775,
          1776,
          1777,
          1778,
          1779,
          1780,
          1781,
          1782,
          1783,
          1784,
          1785,
          1786,
          1787,
          1788,
          1789,
          1790,
          1791,
          1792,
          1793,
          1794,
          1795,
          1796,
          1797,
          1798,
          1799,
          1800,
          1801,
          1802,
          1803,
          1804,
          1805,
          1806,
          1807,
          1808,
          1809,
          1810,
          1811,
          1812,
          1813,
          1814,
          1815,
          1816,
          1817,
          1818,
          1819,
          1820,
          1821,
          1822,
          1823,
          1824,
          1825,
          1826,
          1827,
          1828,
          1829,
          1830,
          1831,
          1832,
          1833,
          1834,
          1835,
          1836,
          1837,
          1838,
          1839,
          1840,
          1841,
          1842,
          1843,
          1844,
          1845,
          1846,
          1847,
          1848,
          1849,
          1850,
          1851,
          1852,
          1853,
          1854,
          1855,
          1856,
          1857,
          1858,
          1859,
          1860,
          1861,
          1862,
          1863,
          1864,
          1865,
          1866,
          1867,
          1868,
          1869,
          1870,
          1871,
          1872,
          1873,
          1874,
          1875,
          1876,
          1877,
          1878,
          1879,
          1880,
          1881,
          1882,
          1883,
          1884,
          1885,
          1886
         ],
         "y": [
          994670,
          941129,
          951543,
          1052985,
          952411,
          862258,
          732750,
          618805,
          514033,
          544332,
          557435,
          572826,
          624939,
          523497,
          523497,
          523497,
          523497,
          523497,
          523497,
          532379,
          488978,
          576877,
          417588,
          417588,
          545588,
          675715,
          854526,
          854526,
          995542,
          865242,
          983742,
          770858,
          852672,
          852672,
          852710,
          722583,
          700400,
          700400,
          559384,
          632311,
          580932,
          580932,
          499118,
          628146,
          500108,
          500108,
          411216,
          411216,
          519442,
          446515,
          412014,
          412014,
          475974,
          436911,
          436911,
          552008,
          484272,
          589378,
          481152,
          582351,
          475327,
          567790,
          503830,
          539523,
          539523,
          643037,
          643037,
          537931,
          696482,
          595283,
          779616,
          687153,
          899960,
          774302,
          934618,
          906637,
          906637,
          1056027,
          897476,
          1118153,
          933820,
          1158248,
          945441,
          1167331,
          1007015,
          1059573,
          1059573,
          1057013,
          1057013,
          960979,
          1067926,
          925472,
          995643,
          893693,
          965548,
          830585,
          947209,
          952286,
          1062017,
          1050538,
          1053415,
          1082306,
          1130667,
          1179903,
          1325156,
          1347633,
          1355858,
          1360885,
          1371199,
          1403887,
          1410547,
          1421534,
          1433348,
          1390030,
          1280476,
          1229769,
          1268433,
          1222490,
          1228892,
          1143833,
          1128704,
          1159021,
          1157046,
          1158493,
          1198089,
          1205852,
          1212984,
          1227058,
          1239535,
          1306332,
          1320663,
          1261626,
          1239658,
          1197498,
          1144724,
          1184418,
          1102945,
          1078183,
          1044203,
          992030,
          1032617,
          1059379,
          1039023,
          1041089,
          1069955,
          1051163,
          1049751,
          1058101,
          1066008,
          1102821,
          1077753,
          1100372,
          1251886,
          1264478,
          1251898,
          1279849,
          1326222,
          1350146,
          1415852,
          1586150,
          1720757,
          1716112,
          1711433,
          1782915,
          1851233,
          1902298,
          2033866,
          2034192,
          1984311,
          1814666,
          1646900,
          1626945,
          1629081,
          1557154,
          1487079,
          1505369,
          1572599,
          1786276,
          1939387,
          2059893,
          2094652,
          2141783,
          2223327,
          2450908,
          2743925,
          2879848,
          2764654,
          2729465,
          2897481,
          2888025,
          3046672,
          3178682,
          3203930,
          3158724,
          3013252,
          2967018,
          2951043,
          2933542,
          2669136,
          2730354,
          2796829,
          2769959,
          2743129,
          2751945,
          2495495,
          2719958,
          2883784,
          2933123,
          3292153,
          3364755,
          3236554,
          3289455,
          3256113,
          2965564,
          2965564,
          2445446,
          2079858,
          1736629,
          1192202,
          834449,
          604723,
          281638
         ]
        }
       ],
       "layout": {
        "font": {
         "family": "Arial, sans-serif"
        },
        "height": 600,
        "legend": {
         "font": {
          "size": 14,
          "weight": "bold"
         },
         "orientation": "h",
         "x": 0.5,
         "xanchor": "center",
         "y": 1.02,
         "yanchor": "bottom"
        },
        "margin": {
         "b": 50,
         "l": 50,
         "r": 50,
         "t": 100
        },
        "plot_bgcolor": "rgba(240,240,240,0.5)",
        "template": {
         "data": {
          "bar": [
           {
            "error_x": {
             "color": "#2a3f5f"
            },
            "error_y": {
             "color": "#2a3f5f"
            },
            "marker": {
             "line": {
              "color": "white",
              "width": 0.5
             },
             "pattern": {
              "fillmode": "overlay",
              "size": 10,
              "solidity": 0.2
             }
            },
            "type": "bar"
           }
          ],
          "barpolar": [
           {
            "marker": {
             "line": {
              "color": "white",
              "width": 0.5
             },
             "pattern": {
              "fillmode": "overlay",
              "size": 10,
              "solidity": 0.2
             }
            },
            "type": "barpolar"
           }
          ],
          "carpet": [
           {
            "aaxis": {
             "endlinecolor": "#2a3f5f",
             "gridcolor": "#C8D4E3",
             "linecolor": "#C8D4E3",
             "minorgridcolor": "#C8D4E3",
             "startlinecolor": "#2a3f5f"
            },
            "baxis": {
             "endlinecolor": "#2a3f5f",
             "gridcolor": "#C8D4E3",
             "linecolor": "#C8D4E3",
             "minorgridcolor": "#C8D4E3",
             "startlinecolor": "#2a3f5f"
            },
            "type": "carpet"
           }
          ],
          "choropleth": [
           {
            "colorbar": {
             "outlinewidth": 0,
             "ticks": ""
            },
            "type": "choropleth"
           }
          ],
          "contour": [
           {
            "colorbar": {
             "outlinewidth": 0,
             "ticks": ""
            },
            "colorscale": [
             [
              0,
              "#0d0887"
             ],
             [
              0.1111111111111111,
              "#46039f"
             ],
             [
              0.2222222222222222,
              "#7201a8"
             ],
             [
              0.3333333333333333,
              "#9c179e"
             ],
             [
              0.4444444444444444,
              "#bd3786"
             ],
             [
              0.5555555555555556,
              "#d8576b"
             ],
             [
              0.6666666666666666,
              "#ed7953"
             ],
             [
              0.7777777777777778,
              "#fb9f3a"
             ],
             [
              0.8888888888888888,
              "#fdca26"
             ],
             [
              1,
              "#f0f921"
             ]
            ],
            "type": "contour"
           }
          ],
          "contourcarpet": [
           {
            "colorbar": {
             "outlinewidth": 0,
             "ticks": ""
            },
            "type": "contourcarpet"
           }
          ],
          "heatmap": [
           {
            "colorbar": {
             "outlinewidth": 0,
             "ticks": ""
            },
            "colorscale": [
             [
              0,
              "#0d0887"
             ],
             [
              0.1111111111111111,
              "#46039f"
             ],
             [
              0.2222222222222222,
              "#7201a8"
             ],
             [
              0.3333333333333333,
              "#9c179e"
             ],
             [
              0.4444444444444444,
              "#bd3786"
             ],
             [
              0.5555555555555556,
              "#d8576b"
             ],
             [
              0.6666666666666666,
              "#ed7953"
             ],
             [
              0.7777777777777778,
              "#fb9f3a"
             ],
             [
              0.8888888888888888,
              "#fdca26"
             ],
             [
              1,
              "#f0f921"
             ]
            ],
            "type": "heatmap"
           }
          ],
          "heatmapgl": [
           {
            "colorbar": {
             "outlinewidth": 0,
             "ticks": ""
            },
            "colorscale": [
             [
              0,
              "#0d0887"
             ],
             [
              0.1111111111111111,
              "#46039f"
             ],
             [
              0.2222222222222222,
              "#7201a8"
             ],
             [
              0.3333333333333333,
              "#9c179e"
             ],
             [
              0.4444444444444444,
              "#bd3786"
             ],
             [
              0.5555555555555556,
              "#d8576b"
             ],
             [
              0.6666666666666666,
              "#ed7953"
             ],
             [
              0.7777777777777778,
              "#fb9f3a"
             ],
             [
              0.8888888888888888,
              "#fdca26"
             ],
             [
              1,
              "#f0f921"
             ]
            ],
            "type": "heatmapgl"
           }
          ],
          "histogram": [
           {
            "marker": {
             "pattern": {
              "fillmode": "overlay",
              "size": 10,
              "solidity": 0.2
             }
            },
            "type": "histogram"
           }
          ],
          "histogram2d": [
           {
            "colorbar": {
             "outlinewidth": 0,
             "ticks": ""
            },
            "colorscale": [
             [
              0,
              "#0d0887"
             ],
             [
              0.1111111111111111,
              "#46039f"
             ],
             [
              0.2222222222222222,
              "#7201a8"
             ],
             [
              0.3333333333333333,
              "#9c179e"
             ],
             [
              0.4444444444444444,
              "#bd3786"
             ],
             [
              0.5555555555555556,
              "#d8576b"
             ],
             [
              0.6666666666666666,
              "#ed7953"
             ],
             [
              0.7777777777777778,
              "#fb9f3a"
             ],
             [
              0.8888888888888888,
              "#fdca26"
             ],
             [
              1,
              "#f0f921"
             ]
            ],
            "type": "histogram2d"
           }
          ],
          "histogram2dcontour": [
           {
            "colorbar": {
             "outlinewidth": 0,
             "ticks": ""
            },
            "colorscale": [
             [
              0,
              "#0d0887"
             ],
             [
              0.1111111111111111,
              "#46039f"
             ],
             [
              0.2222222222222222,
              "#7201a8"
             ],
             [
              0.3333333333333333,
              "#9c179e"
             ],
             [
              0.4444444444444444,
              "#bd3786"
             ],
             [
              0.5555555555555556,
              "#d8576b"
             ],
             [
              0.6666666666666666,
              "#ed7953"
             ],
             [
              0.7777777777777778,
              "#fb9f3a"
             ],
             [
              0.8888888888888888,
              "#fdca26"
             ],
             [
              1,
              "#f0f921"
             ]
            ],
            "type": "histogram2dcontour"
           }
          ],
          "mesh3d": [
           {
            "colorbar": {
             "outlinewidth": 0,
             "ticks": ""
            },
            "type": "mesh3d"
           }
          ],
          "parcoords": [
           {
            "line": {
             "colorbar": {
              "outlinewidth": 0,
              "ticks": ""
             }
            },
            "type": "parcoords"
           }
          ],
          "pie": [
           {
            "automargin": true,
            "type": "pie"
           }
          ],
          "scatter": [
           {
            "fillpattern": {
             "fillmode": "overlay",
             "size": 10,
             "solidity": 0.2
            },
            "type": "scatter"
           }
          ],
          "scatter3d": [
           {
            "line": {
             "colorbar": {
              "outlinewidth": 0,
              "ticks": ""
             }
            },
            "marker": {
             "colorbar": {
              "outlinewidth": 0,
              "ticks": ""
             }
            },
            "type": "scatter3d"
           }
          ],
          "scattercarpet": [
           {
            "marker": {
             "colorbar": {
              "outlinewidth": 0,
              "ticks": ""
             }
            },
            "type": "scattercarpet"
           }
          ],
          "scattergeo": [
           {
            "marker": {
             "colorbar": {
              "outlinewidth": 0,
              "ticks": ""
             }
            },
            "type": "scattergeo"
           }
          ],
          "scattergl": [
           {
            "marker": {
             "colorbar": {
              "outlinewidth": 0,
              "ticks": ""
             }
            },
            "type": "scattergl"
           }
          ],
          "scattermapbox": [
           {
            "marker": {
             "colorbar": {
              "outlinewidth": 0,
              "ticks": ""
             }
            },
            "type": "scattermapbox"
           }
          ],
          "scatterpolar": [
           {
            "marker": {
             "colorbar": {
              "outlinewidth": 0,
              "ticks": ""
             }
            },
            "type": "scatterpolar"
           }
          ],
          "scatterpolargl": [
           {
            "marker": {
             "colorbar": {
              "outlinewidth": 0,
              "ticks": ""
             }
            },
            "type": "scatterpolargl"
           }
          ],
          "scatterternary": [
           {
            "marker": {
             "colorbar": {
              "outlinewidth": 0,
              "ticks": ""
             }
            },
            "type": "scatterternary"
           }
          ],
          "surface": [
           {
            "colorbar": {
             "outlinewidth": 0,
             "ticks": ""
            },
            "colorscale": [
             [
              0,
              "#0d0887"
             ],
             [
              0.1111111111111111,
              "#46039f"
             ],
             [
              0.2222222222222222,
              "#7201a8"
             ],
             [
              0.3333333333333333,
              "#9c179e"
             ],
             [
              0.4444444444444444,
              "#bd3786"
             ],
             [
              0.5555555555555556,
              "#d8576b"
             ],
             [
              0.6666666666666666,
              "#ed7953"
             ],
             [
              0.7777777777777778,
              "#fb9f3a"
             ],
             [
              0.8888888888888888,
              "#fdca26"
             ],
             [
              1,
              "#f0f921"
             ]
            ],
            "type": "surface"
           }
          ],
          "table": [
           {
            "cells": {
             "fill": {
              "color": "#EBF0F8"
             },
             "line": {
              "color": "white"
             }
            },
            "header": {
             "fill": {
              "color": "#C8D4E3"
             },
             "line": {
              "color": "white"
             }
            },
            "type": "table"
           }
          ]
         },
         "layout": {
          "annotationdefaults": {
           "arrowcolor": "#2a3f5f",
           "arrowhead": 0,
           "arrowwidth": 1
          },
          "autotypenumbers": "strict",
          "coloraxis": {
           "colorbar": {
            "outlinewidth": 0,
            "ticks": ""
           }
          },
          "colorscale": {
           "diverging": [
            [
             0,
             "#8e0152"
            ],
            [
             0.1,
             "#c51b7d"
            ],
            [
             0.2,
             "#de77ae"
            ],
            [
             0.3,
             "#f1b6da"
            ],
            [
             0.4,
             "#fde0ef"
            ],
            [
             0.5,
             "#f7f7f7"
            ],
            [
             0.6,
             "#e6f5d0"
            ],
            [
             0.7,
             "#b8e186"
            ],
            [
             0.8,
             "#7fbc41"
            ],
            [
             0.9,
             "#4d9221"
            ],
            [
             1,
             "#276419"
            ]
           ],
           "sequential": [
            [
             0,
             "#0d0887"
            ],
            [
             0.1111111111111111,
             "#46039f"
            ],
            [
             0.2222222222222222,
             "#7201a8"
            ],
            [
             0.3333333333333333,
             "#9c179e"
            ],
            [
             0.4444444444444444,
             "#bd3786"
            ],
            [
             0.5555555555555556,
             "#d8576b"
            ],
            [
             0.6666666666666666,
             "#ed7953"
            ],
            [
             0.7777777777777778,
             "#fb9f3a"
            ],
            [
             0.8888888888888888,
             "#fdca26"
            ],
            [
             1,
             "#f0f921"
            ]
           ],
           "sequentialminus": [
            [
             0,
             "#0d0887"
            ],
            [
             0.1111111111111111,
             "#46039f"
            ],
            [
             0.2222222222222222,
             "#7201a8"
            ],
            [
             0.3333333333333333,
             "#9c179e"
            ],
            [
             0.4444444444444444,
             "#bd3786"
            ],
            [
             0.5555555555555556,
             "#d8576b"
            ],
            [
             0.6666666666666666,
             "#ed7953"
            ],
            [
             0.7777777777777778,
             "#fb9f3a"
            ],
            [
             0.8888888888888888,
             "#fdca26"
            ],
            [
             1,
             "#f0f921"
            ]
           ]
          },
          "colorway": [
           "#636efa",
           "#EF553B",
           "#00cc96",
           "#ab63fa",
           "#FFA15A",
           "#19d3f3",
           "#FF6692",
           "#B6E880",
           "#FF97FF",
           "#FECB52"
          ],
          "font": {
           "color": "#2a3f5f"
          },
          "geo": {
           "bgcolor": "white",
           "lakecolor": "white",
           "landcolor": "white",
           "showlakes": true,
           "showland": true,
           "subunitcolor": "#C8D4E3"
          },
          "hoverlabel": {
           "align": "left"
          },
          "hovermode": "closest",
          "mapbox": {
           "style": "light"
          },
          "paper_bgcolor": "white",
          "plot_bgcolor": "white",
          "polar": {
           "angularaxis": {
            "gridcolor": "#EBF0F8",
            "linecolor": "#EBF0F8",
            "ticks": ""
           },
           "bgcolor": "white",
           "radialaxis": {
            "gridcolor": "#EBF0F8",
            "linecolor": "#EBF0F8",
            "ticks": ""
           }
          },
          "scene": {
           "xaxis": {
            "backgroundcolor": "white",
            "gridcolor": "#DFE8F3",
            "gridwidth": 2,
            "linecolor": "#EBF0F8",
            "showbackground": true,
            "ticks": "",
            "zerolinecolor": "#EBF0F8"
           },
           "yaxis": {
            "backgroundcolor": "white",
            "gridcolor": "#DFE8F3",
            "gridwidth": 2,
            "linecolor": "#EBF0F8",
            "showbackground": true,
            "ticks": "",
            "zerolinecolor": "#EBF0F8"
           },
           "zaxis": {
            "backgroundcolor": "white",
            "gridcolor": "#DFE8F3",
            "gridwidth": 2,
            "linecolor": "#EBF0F8",
            "showbackground": true,
            "ticks": "",
            "zerolinecolor": "#EBF0F8"
           }
          },
          "shapedefaults": {
           "line": {
            "color": "#2a3f5f"
           }
          },
          "ternary": {
           "aaxis": {
            "gridcolor": "#DFE8F3",
            "linecolor": "#A2B1C6",
            "ticks": ""
           },
           "baxis": {
            "gridcolor": "#DFE8F3",
            "linecolor": "#A2B1C6",
            "ticks": ""
           },
           "bgcolor": "white",
           "caxis": {
            "gridcolor": "#DFE8F3",
            "linecolor": "#A2B1C6",
            "ticks": ""
           }
          },
          "title": {
           "x": 0.05
          },
          "xaxis": {
           "automargin": true,
           "gridcolor": "#EBF0F8",
           "linecolor": "#EBF0F8",
           "ticks": "",
           "title": {
            "standoff": 15
           },
           "zerolinecolor": "#EBF0F8",
           "zerolinewidth": 2
          },
          "yaxis": {
           "automargin": true,
           "gridcolor": "#EBF0F8",
           "linecolor": "#EBF0F8",
           "ticks": "",
           "title": {
            "standoff": 15
           },
           "zerolinecolor": "#EBF0F8",
           "zerolinewidth": 2
          }
         }
        },
        "title": {
         "text": "<b>Total Words per 10-Year Window by Royal Society Publication Type (1665-1958)<b>"
        },
        "width": 1200,
        "xaxis": {
         "dtick": 10,
         "tick0": 1665,
         "tickfont": {
          "size": 14
         },
         "tickmode": "linear",
         "title": {
          "text": "<b>Window Start Year<b>"
         }
        },
        "yaxis": {
         "tickformat": ",",
         "title": {
          "font": {
           "size": 14
          },
          "text": "<b>Total Words</b>"
         }
        }
       }
      }
     },
     "metadata": {},
     "output_type": "display_data"
    }
   ],
   "source": [
    "import pandas as pd\n",
    "import plotly.graph_objects as go\n",
    "from collections import defaultdict\n",
    "import os\n",
    "import re\n",
    "from tqdm import tqdm\n",
    "import string\n",
    "from nltk.tokenize import word_tokenize\n",
    "\n",
    "def count_words_in_file(file_path):\n",
    "    \"\"\"\n",
    "    Count the number of words in a text file.\n",
    "    \n",
    "    Args:\n",
    "        file_path (str): Path to the text file\n",
    "    \n",
    "    Returns:\n",
    "        int: Number of words in the file\n",
    "    \"\"\"\n",
    "    with open(file_path, 'r', encoding='utf-8') as f:\n",
    "        text = f.read()\n",
    "    tokens = word_tokenize(text.lower())\n",
    "    return len([token for token in tokens if token.isalpha() and token not in string.punctuation])\n",
    "\n",
    "def count_words_in_10_year_windows(text_dirs, start_year, end_year):\n",
    "    \"\"\"\n",
    "    Count words in 10-year windows across multiple directories.\n",
    "    \n",
    "    Args:\n",
    "        text_dirs (list): List of directory paths\n",
    "        start_year (int): Starting year of analysis\n",
    "        end_year (int): Ending year of analysis\n",
    "    \n",
    "    Returns:\n",
    "        dict: Dictionary of word counts per 10-year window, \n",
    "              with separate counts for each publication type\n",
    "    \"\"\"\n",
    "    def extract_year_from_filename(filename):\n",
    "        \"\"\"Extract year from filename\"\"\"\n",
    "        match = re.search(r'rst[bla]?_?(\\d{4})', filename)\n",
    "        return int(match.group(1)) if match else None\n",
    "    \n",
    "    # Separate word counts for each publication type\n",
    "    word_counts = {\n",
    "        'rsta': defaultdict(int),\n",
    "        'rstb': defaultdict(int),\n",
    "        'rstl': defaultdict(int)\n",
    "    }\n",
    "    \n",
    "    print(\"Counting words in year windows...\")\n",
    "    \n",
    "    # Collect file paths\n",
    "    file_paths = []\n",
    "    for dir in text_dirs:\n",
    "        for f in os.listdir(dir):\n",
    "            if f.endswith('.txt'):\n",
    "                file_paths.append(os.path.join(dir, f))\n",
    "    \n",
    "    # Count words for each file\n",
    "    for file_path in tqdm(file_paths):\n",
    "        year = extract_year_from_filename(os.path.basename(file_path))\n",
    "        \n",
    "        # Determine publication type from directory\n",
    "        pub_type = os.path.basename(os.path.dirname(file_path))[-4:]\n",
    "        \n",
    "        if year and start_year <= year <= end_year:\n",
    "            word_count = count_words_in_file(file_path)\n",
    "            word_counts[pub_type][year] += word_count\n",
    "    \n",
    "    # Aggregate words into 10-year windows\n",
    "    words_per_window = {\n",
    "        'rsta': defaultdict(int),\n",
    "        'rstb': defaultdict(int),\n",
    "        'rstl': defaultdict(int)\n",
    "    }\n",
    "    \n",
    "    # Handle RSTA and RSTB starting from 1887, RSTL only before 1887\n",
    "    for pub_type in ['rsta', 'rstb', 'rstl']:\n",
    "        if pub_type in ['rsta', 'rstb']:\n",
    "            start_year_filter = 1887\n",
    "        else:\n",
    "            start_year_filter = 1665\n",
    "        \n",
    "        for year in range(start_year, end_year - 9):\n",
    "            window_start = year\n",
    "            window_end = year + 9\n",
    "            total_words = sum(\n",
    "                word_counts[pub_type].get(y, 0) \n",
    "                for y in range(window_start, window_end + 1)\n",
    "                if (pub_type != 'rstl' and y >= 1887) or (pub_type == 'rstl' and y <= 1886)\n",
    "            )\n",
    "            words_per_window[pub_type][window_start] = total_words\n",
    "    \n",
    "    return words_per_window\n",
    "\n",
    "# Directories for Royal Society publications\n",
    "text_dirs = [\n",
    "    r\"D:\\Fact_fiction_corpus\\texts\\royal society\\txt_rstb\",\n",
    "    r\"D:\\Fact_fiction_corpus\\texts\\royal society\\txt_rstl\", \n",
    "    r\"D:\\Fact_fiction_corpus\\texts\\royal society\\txt_rsta\"\n",
    "]\n",
    "\n",
    "# Count words for the historical period\n",
    "historical_word_counts = count_words_in_10_year_windows(\n",
    "    text_dirs,\n",
    "    start_year=1665,\n",
    "    end_year=1958\n",
    ")\n",
    "\n",
    "# Prepare data for plotting with enhanced visual styling\n",
    "publication_types = {\n",
    "    'rsta': {\n",
    "        'color': 'red',\n",
    "        'name': 'RSTA',\n",
    "        'hoverinfo': 'Physical, mathematical, and engineering sciences'\n",
    "    },\n",
    "    'rstb': {\n",
    "        'color': 'blue', \n",
    "        'name': 'RSTB',\n",
    "        'hoverinfo': 'Biological research and life sciences'\n",
    "    },\n",
    "    'rstl': {\n",
    "        'color': 'green',\n",
    "        'name': 'RSTL',\n",
    "        'hoverinfo': 'Scientific letters and short communications'\n",
    "    }\n",
    "}\n",
    "\n",
    "# Create the interactive plot with enhanced styling\n",
    "fig = go.Figure()\n",
    "\n",
    "# Add traces for each publication type with line style\n",
    "for pub_type, details in publication_types.items():\n",
    "    windows = list(historical_word_counts[pub_type].keys())\n",
    "    counts = list(historical_word_counts[pub_type].values())\n",
    "    \n",
    "    # Only plot non-zero word counts\n",
    "    non_zero_windows = [window for window, count in zip(windows, counts) if count > 0]\n",
    "    non_zero_counts = [count for count in counts if count > 0]\n",
    "    \n",
    "    if non_zero_windows:  # Check if there are any non-zero word counts\n",
    "        # Determine the actual year range for the legend label\n",
    "        first_year = non_zero_windows[0]\n",
    "        last_year = non_zero_windows[-1]\n",
    "        # Adjust for RSTA: ensure it starts from 1887\n",
    "        if pub_type == 'rsta':\n",
    "            first_year = max(first_year, 1887)\n",
    "\n",
    "        if pub_type == 'rstb':\n",
    "            first_year = max(first_year, 1887)\n",
    "        \n",
    "        fig.add_trace(go.Scatter(\n",
    "            x=non_zero_windows,\n",
    "            y=non_zero_counts,\n",
    "            mode='markers+lines',\n",
    "            name=f'<b>{details[\"name\"]} ({first_year}-{last_year})</b>',\n",
    "            marker=dict(\n",
    "                size=10,\n",
    "                color=details['color'],\n",
    "                line=dict(width=2, color='black')\n",
    "            ),\n",
    "            text=[f'Window Start: {window}<br>Total Words: {count}' for window, count in zip(non_zero_windows, non_zero_counts)],\n",
    "            hoverinfo='text'\n",
    "        ))\n",
    "\n",
    "# Update layout with enhanced design\n",
    "fig.update_layout(\n",
    "    title='<b>Total Words per 10-Year Window by Royal Society Publication Type (1665-1958)<b>',\n",
    "    xaxis_title='<b>Window Start Year<b>',\n",
    "    yaxis_title='<b>Total Words</b>',\n",
    "    template='plotly_white',\n",
    "    width=1200,  \n",
    "    height=600,\n",
    "    font=dict(family='Arial, sans-serif'),\n",
    "    legend=dict(\n",
    "        orientation='h',\n",
    "        yanchor='bottom',\n",
    "        y=1.02,\n",
    "        xanchor='center',\n",
    "        x=0.5,\n",
    "        font=dict(size=14, weight='bold')\n",
    "    ),\n",
    "    plot_bgcolor='rgba(240,240,240,0.5)',  # Light gray background\n",
    "    margin=dict(t=100, b=50, l=50, r=50)\n",
    ")\n",
    "\n",
    "# Customize x-axis to show only integer ticks\n",
    "fig.update_xaxes(\n",
    "    tickmode='linear',\n",
    "    tick0=1665,\n",
    "    dtick=10,\n",
    "    tickfont=dict(size=14)\n",
    ")\n",
    "\n",
    "# Customize y-axis with comma-separated thousands\n",
    "fig.update_yaxes(\n",
    "    tickformat=',',\n",
    "    title_font=dict(size=14),  # Increase the font size here\n",
    "    title_text='<b>Total Words</b>'\n",
    ")\n",
    "\n",
    "# Show the plot\n",
    "fig.show()\n",
    "fig.write_html(\"../extra_plots/royal_society_word_counts_10_year_windows_split.html\")\n"
   ]
  },
  {
   "cell_type": "code",
   "execution_count": 5,
   "metadata": {},
   "outputs": [
    {
     "name": "stderr",
     "output_type": "stream",
     "text": [
      "100%|██████████| 18194/18194 [06:01<00:00, 50.32it/s]  \n"
     ]
    },
    {
     "data": {
      "application/vnd.plotly.v1+json": {
       "config": {
        "plotlyServerURL": "https://plot.ly"
       },
       "data": [
        {
         "hovertemplate": "%{y:,} words<extra></extra>",
         "marker": {
          "color": "green"
         },
         "name": "RSTL (1665-1886)",
         "type": "bar",
         "x": [
          1665,
          1666,
          1667,
          1668,
          1669,
          1670,
          1671,
          1672,
          1673,
          1674,
          1675,
          1676,
          1677,
          1678,
          1679,
          1680,
          1681,
          1682,
          1683,
          1684,
          1685,
          1686,
          1687,
          1688,
          1689,
          1690,
          1691,
          1692,
          1693,
          1694,
          1695,
          1696,
          1697,
          1698,
          1699,
          1700,
          1701,
          1702,
          1703,
          1704,
          1705,
          1706,
          1707,
          1708,
          1709,
          1710,
          1711,
          1712,
          1713,
          1714,
          1715,
          1716,
          1717,
          1718,
          1719,
          1720,
          1721,
          1722,
          1723,
          1724,
          1725,
          1726,
          1727,
          1728,
          1729,
          1730,
          1731,
          1732,
          1733,
          1734,
          1735,
          1736,
          1737,
          1738,
          1739,
          1740,
          1741,
          1742,
          1743,
          1744,
          1745,
          1746,
          1747,
          1748,
          1749,
          1750,
          1751,
          1752,
          1753,
          1754,
          1755,
          1756,
          1757,
          1758,
          1759,
          1760,
          1761,
          1762,
          1763,
          1764,
          1765,
          1766,
          1767,
          1768,
          1769,
          1770,
          1771,
          1772,
          1773,
          1774,
          1775,
          1776,
          1777,
          1778,
          1779,
          1780,
          1781,
          1782,
          1783,
          1784,
          1785,
          1786,
          1787,
          1788,
          1789,
          1790,
          1791,
          1792,
          1793,
          1794,
          1795,
          1796,
          1797,
          1798,
          1799,
          1800,
          1801,
          1802,
          1803,
          1804,
          1805,
          1806,
          1807,
          1808,
          1809,
          1810,
          1811,
          1812,
          1813,
          1814,
          1815,
          1816,
          1817,
          1818,
          1819,
          1820,
          1821,
          1822,
          1823,
          1824,
          1825,
          1826,
          1827,
          1828,
          1829,
          1830,
          1831,
          1832,
          1833,
          1834,
          1835,
          1836,
          1837,
          1838,
          1839,
          1840,
          1841,
          1842,
          1843,
          1844,
          1845,
          1846,
          1847,
          1848,
          1849,
          1850,
          1851,
          1852,
          1853,
          1854,
          1855,
          1856,
          1857,
          1858,
          1859,
          1860,
          1861,
          1862,
          1863,
          1864,
          1865,
          1866,
          1867,
          1868,
          1869,
          1870,
          1871,
          1872,
          1873,
          1874,
          1875,
          1876,
          1877,
          1878,
          1879,
          1880,
          1881,
          1882,
          1883,
          1884,
          1885,
          1886
         ],
         "y": [
          994670,
          941129,
          951543,
          1052985,
          952411,
          862258,
          732750,
          618805,
          514033,
          544332,
          557435,
          572826,
          624939,
          523497,
          523497,
          523497,
          523497,
          523497,
          523497,
          532379,
          488978,
          576877,
          417588,
          417588,
          545588,
          675715,
          854526,
          854526,
          995542,
          865242,
          983742,
          770858,
          852672,
          852672,
          852710,
          722583,
          700400,
          700400,
          559384,
          632311,
          580932,
          580932,
          499118,
          628146,
          500108,
          500108,
          411216,
          411216,
          519442,
          446515,
          412014,
          412014,
          475974,
          436911,
          436911,
          552008,
          484272,
          589378,
          481152,
          582351,
          475327,
          567790,
          503830,
          539523,
          539523,
          643037,
          643037,
          537931,
          696482,
          595283,
          779616,
          687153,
          899960,
          774302,
          934618,
          906637,
          906637,
          1056027,
          897476,
          1118153,
          933820,
          1158248,
          945441,
          1167331,
          1007015,
          1059573,
          1059573,
          1057013,
          1057013,
          960979,
          1067926,
          925472,
          995643,
          893693,
          965548,
          830585,
          947209,
          952286,
          1062017,
          1050538,
          1053415,
          1082306,
          1130667,
          1179903,
          1325156,
          1347633,
          1355858,
          1360885,
          1371199,
          1403887,
          1410547,
          1421534,
          1433348,
          1390030,
          1280476,
          1229769,
          1268433,
          1222490,
          1228892,
          1143833,
          1128704,
          1159021,
          1157046,
          1158493,
          1198089,
          1205852,
          1212984,
          1227058,
          1239535,
          1306332,
          1320663,
          1261626,
          1239658,
          1197498,
          1144724,
          1184418,
          1102945,
          1078183,
          1044203,
          992030,
          1032617,
          1059379,
          1039023,
          1041089,
          1069955,
          1051163,
          1049751,
          1058101,
          1066008,
          1102821,
          1077753,
          1100372,
          1251886,
          1264478,
          1251898,
          1279849,
          1326222,
          1350146,
          1415852,
          1586150,
          1720757,
          1716112,
          1711433,
          1782915,
          1851233,
          1902298,
          2033866,
          2034192,
          1984311,
          1814666,
          1646900,
          1626945,
          1629081,
          1557154,
          1487079,
          1505369,
          1572599,
          1786276,
          1939387,
          2059893,
          2094652,
          2141783,
          2223327,
          2450908,
          2743925,
          2879848,
          2764654,
          2729465,
          2897481,
          2888025,
          3046672,
          3178682,
          3203930,
          3158724,
          3013252,
          2967018,
          2951043,
          2933542,
          2669136,
          2730354,
          2796829,
          2769959,
          2743129,
          2751945,
          2495495,
          2719958,
          2883784,
          2933123,
          3292153,
          3364755,
          3236554,
          3289455,
          3256113,
          2965564,
          2965564,
          2445446,
          2079858,
          1736629,
          1192202,
          834449,
          604723,
          281638
         ]
        },
        {
         "hovertemplate": "%{y:,} words<extra></extra>",
         "marker": {
          "color": "blue"
         },
         "name": "RSTB (1887-1948)",
         "type": "bar",
         "x": [
          1878,
          1879,
          1880,
          1881,
          1882,
          1883,
          1884,
          1885,
          1886,
          1887,
          1888,
          1889,
          1890,
          1891,
          1892,
          1893,
          1894,
          1895,
          1896,
          1897,
          1898,
          1899,
          1900,
          1901,
          1902,
          1903,
          1904,
          1905,
          1906,
          1907,
          1908,
          1909,
          1910,
          1911,
          1912,
          1913,
          1914,
          1915,
          1916,
          1917,
          1918,
          1919,
          1920,
          1921,
          1922,
          1923,
          1924,
          1925,
          1926,
          1927,
          1928,
          1929,
          1930,
          1931,
          1932,
          1933,
          1934,
          1935,
          1936,
          1937,
          1938,
          1939,
          1940,
          1941,
          1942,
          1943,
          1944,
          1945,
          1946,
          1947,
          1948
         ],
         "y": [
          221072,
          453262,
          604283,
          690180,
          942797,
          1126753,
          1479544,
          1901753,
          2250947,
          2414326,
          2392854,
          2407699,
          2363387,
          2453716,
          2407051,
          2223095,
          1981929,
          1725273,
          1527291,
          1573236,
          1373636,
          1301153,
          1411272,
          1235046,
          1200208,
          1346642,
          1385893,
          1601196,
          1637278,
          1638097,
          1638097,
          1630128,
          1413300,
          1629346,
          1660238,
          1513804,
          1547934,
          1328285,
          1323570,
          1296318,
          1479917,
          1485991,
          1679003,
          1680773,
          1811406,
          2225833,
          2040827,
          2273508,
          2356888,
          2364124,
          2595952,
          2577921,
          2550395,
          2405871,
          2150773,
          1828441,
          1828441,
          1501289,
          1235330,
          1229126,
          1040434,
          986667,
          964528,
          1151849,
          1306031,
          1500575,
          1629971,
          1654345,
          1654345,
          1470422,
          1243687
         ]
        },
        {
         "hovertemplate": "%{y:,} words<extra></extra>",
         "marker": {
          "color": "red"
         },
         "name": "RSTA (1887-1948)",
         "type": "bar",
         "x": [
          1878,
          1879,
          1880,
          1881,
          1882,
          1883,
          1884,
          1885,
          1886,
          1887,
          1888,
          1889,
          1890,
          1891,
          1892,
          1893,
          1894,
          1895,
          1896,
          1897,
          1898,
          1899,
          1900,
          1901,
          1902,
          1903,
          1904,
          1905,
          1906,
          1907,
          1908,
          1909,
          1910,
          1911,
          1912,
          1913,
          1914,
          1915,
          1916,
          1917,
          1918,
          1919,
          1920,
          1921,
          1922,
          1923,
          1924,
          1925,
          1926,
          1927,
          1928,
          1929,
          1930,
          1931,
          1932,
          1933,
          1934,
          1935,
          1936,
          1937,
          1938,
          1939,
          1940,
          1941,
          1942,
          1943,
          1944,
          1945,
          1946,
          1947,
          1948
         ],
         "y": [
          170052,
          182661,
          216293,
          216293,
          410336,
          661009,
          999389,
          1302185,
          1611531,
          1860981,
          1967899,
          2115161,
          2254085,
          2644015,
          2772370,
          2853886,
          2887679,
          2869304,
          2724296,
          2787132,
          2510162,
          2729620,
          2704063,
          2314133,
          2134435,
          1951515,
          1731781,
          1745035,
          1732374,
          1562844,
          1562844,
          1312899,
          1341005,
          1495814,
          1499227,
          1471643,
          1441949,
          1251449,
          1099772,
          1053893,
          1177190,
          1176939,
          1145964,
          1131976,
          985863,
          1034261,
          1081036,
          1296340,
          1508980,
          1568613,
          1555412,
          1577533,
          1582242,
          1561400,
          1573184,
          1418584,
          1264823,
          977478,
          803375,
          692251,
          662240,
          763317,
          744235,
          833194,
          1036910,
          1276141,
          1441694,
          1547920,
          1509383,
          1463997,
          1383912
         ]
        }
       ],
       "layout": {
        "barmode": "stack",
        "font": {
         "family": "Arial, sans-serif"
        },
        "height": 600,
        "legend": {
         "font": {
          "size": 14,
          "weight": "bold"
         },
         "orientation": "h",
         "x": 0.5,
         "xanchor": "center",
         "y": 1.02,
         "yanchor": "bottom"
        },
        "margin": {
         "b": 50,
         "l": 50,
         "r": 50,
         "t": 100
        },
        "plot_bgcolor": "rgba(240,240,240,0.5)",
        "template": {
         "data": {
          "bar": [
           {
            "error_x": {
             "color": "#2a3f5f"
            },
            "error_y": {
             "color": "#2a3f5f"
            },
            "marker": {
             "line": {
              "color": "white",
              "width": 0.5
             },
             "pattern": {
              "fillmode": "overlay",
              "size": 10,
              "solidity": 0.2
             }
            },
            "type": "bar"
           }
          ],
          "barpolar": [
           {
            "marker": {
             "line": {
              "color": "white",
              "width": 0.5
             },
             "pattern": {
              "fillmode": "overlay",
              "size": 10,
              "solidity": 0.2
             }
            },
            "type": "barpolar"
           }
          ],
          "carpet": [
           {
            "aaxis": {
             "endlinecolor": "#2a3f5f",
             "gridcolor": "#C8D4E3",
             "linecolor": "#C8D4E3",
             "minorgridcolor": "#C8D4E3",
             "startlinecolor": "#2a3f5f"
            },
            "baxis": {
             "endlinecolor": "#2a3f5f",
             "gridcolor": "#C8D4E3",
             "linecolor": "#C8D4E3",
             "minorgridcolor": "#C8D4E3",
             "startlinecolor": "#2a3f5f"
            },
            "type": "carpet"
           }
          ],
          "choropleth": [
           {
            "colorbar": {
             "outlinewidth": 0,
             "ticks": ""
            },
            "type": "choropleth"
           }
          ],
          "contour": [
           {
            "colorbar": {
             "outlinewidth": 0,
             "ticks": ""
            },
            "colorscale": [
             [
              0,
              "#0d0887"
             ],
             [
              0.1111111111111111,
              "#46039f"
             ],
             [
              0.2222222222222222,
              "#7201a8"
             ],
             [
              0.3333333333333333,
              "#9c179e"
             ],
             [
              0.4444444444444444,
              "#bd3786"
             ],
             [
              0.5555555555555556,
              "#d8576b"
             ],
             [
              0.6666666666666666,
              "#ed7953"
             ],
             [
              0.7777777777777778,
              "#fb9f3a"
             ],
             [
              0.8888888888888888,
              "#fdca26"
             ],
             [
              1,
              "#f0f921"
             ]
            ],
            "type": "contour"
           }
          ],
          "contourcarpet": [
           {
            "colorbar": {
             "outlinewidth": 0,
             "ticks": ""
            },
            "type": "contourcarpet"
           }
          ],
          "heatmap": [
           {
            "colorbar": {
             "outlinewidth": 0,
             "ticks": ""
            },
            "colorscale": [
             [
              0,
              "#0d0887"
             ],
             [
              0.1111111111111111,
              "#46039f"
             ],
             [
              0.2222222222222222,
              "#7201a8"
             ],
             [
              0.3333333333333333,
              "#9c179e"
             ],
             [
              0.4444444444444444,
              "#bd3786"
             ],
             [
              0.5555555555555556,
              "#d8576b"
             ],
             [
              0.6666666666666666,
              "#ed7953"
             ],
             [
              0.7777777777777778,
              "#fb9f3a"
             ],
             [
              0.8888888888888888,
              "#fdca26"
             ],
             [
              1,
              "#f0f921"
             ]
            ],
            "type": "heatmap"
           }
          ],
          "heatmapgl": [
           {
            "colorbar": {
             "outlinewidth": 0,
             "ticks": ""
            },
            "colorscale": [
             [
              0,
              "#0d0887"
             ],
             [
              0.1111111111111111,
              "#46039f"
             ],
             [
              0.2222222222222222,
              "#7201a8"
             ],
             [
              0.3333333333333333,
              "#9c179e"
             ],
             [
              0.4444444444444444,
              "#bd3786"
             ],
             [
              0.5555555555555556,
              "#d8576b"
             ],
             [
              0.6666666666666666,
              "#ed7953"
             ],
             [
              0.7777777777777778,
              "#fb9f3a"
             ],
             [
              0.8888888888888888,
              "#fdca26"
             ],
             [
              1,
              "#f0f921"
             ]
            ],
            "type": "heatmapgl"
           }
          ],
          "histogram": [
           {
            "marker": {
             "pattern": {
              "fillmode": "overlay",
              "size": 10,
              "solidity": 0.2
             }
            },
            "type": "histogram"
           }
          ],
          "histogram2d": [
           {
            "colorbar": {
             "outlinewidth": 0,
             "ticks": ""
            },
            "colorscale": [
             [
              0,
              "#0d0887"
             ],
             [
              0.1111111111111111,
              "#46039f"
             ],
             [
              0.2222222222222222,
              "#7201a8"
             ],
             [
              0.3333333333333333,
              "#9c179e"
             ],
             [
              0.4444444444444444,
              "#bd3786"
             ],
             [
              0.5555555555555556,
              "#d8576b"
             ],
             [
              0.6666666666666666,
              "#ed7953"
             ],
             [
              0.7777777777777778,
              "#fb9f3a"
             ],
             [
              0.8888888888888888,
              "#fdca26"
             ],
             [
              1,
              "#f0f921"
             ]
            ],
            "type": "histogram2d"
           }
          ],
          "histogram2dcontour": [
           {
            "colorbar": {
             "outlinewidth": 0,
             "ticks": ""
            },
            "colorscale": [
             [
              0,
              "#0d0887"
             ],
             [
              0.1111111111111111,
              "#46039f"
             ],
             [
              0.2222222222222222,
              "#7201a8"
             ],
             [
              0.3333333333333333,
              "#9c179e"
             ],
             [
              0.4444444444444444,
              "#bd3786"
             ],
             [
              0.5555555555555556,
              "#d8576b"
             ],
             [
              0.6666666666666666,
              "#ed7953"
             ],
             [
              0.7777777777777778,
              "#fb9f3a"
             ],
             [
              0.8888888888888888,
              "#fdca26"
             ],
             [
              1,
              "#f0f921"
             ]
            ],
            "type": "histogram2dcontour"
           }
          ],
          "mesh3d": [
           {
            "colorbar": {
             "outlinewidth": 0,
             "ticks": ""
            },
            "type": "mesh3d"
           }
          ],
          "parcoords": [
           {
            "line": {
             "colorbar": {
              "outlinewidth": 0,
              "ticks": ""
             }
            },
            "type": "parcoords"
           }
          ],
          "pie": [
           {
            "automargin": true,
            "type": "pie"
           }
          ],
          "scatter": [
           {
            "fillpattern": {
             "fillmode": "overlay",
             "size": 10,
             "solidity": 0.2
            },
            "type": "scatter"
           }
          ],
          "scatter3d": [
           {
            "line": {
             "colorbar": {
              "outlinewidth": 0,
              "ticks": ""
             }
            },
            "marker": {
             "colorbar": {
              "outlinewidth": 0,
              "ticks": ""
             }
            },
            "type": "scatter3d"
           }
          ],
          "scattercarpet": [
           {
            "marker": {
             "colorbar": {
              "outlinewidth": 0,
              "ticks": ""
             }
            },
            "type": "scattercarpet"
           }
          ],
          "scattergeo": [
           {
            "marker": {
             "colorbar": {
              "outlinewidth": 0,
              "ticks": ""
             }
            },
            "type": "scattergeo"
           }
          ],
          "scattergl": [
           {
            "marker": {
             "colorbar": {
              "outlinewidth": 0,
              "ticks": ""
             }
            },
            "type": "scattergl"
           }
          ],
          "scattermapbox": [
           {
            "marker": {
             "colorbar": {
              "outlinewidth": 0,
              "ticks": ""
             }
            },
            "type": "scattermapbox"
           }
          ],
          "scatterpolar": [
           {
            "marker": {
             "colorbar": {
              "outlinewidth": 0,
              "ticks": ""
             }
            },
            "type": "scatterpolar"
           }
          ],
          "scatterpolargl": [
           {
            "marker": {
             "colorbar": {
              "outlinewidth": 0,
              "ticks": ""
             }
            },
            "type": "scatterpolargl"
           }
          ],
          "scatterternary": [
           {
            "marker": {
             "colorbar": {
              "outlinewidth": 0,
              "ticks": ""
             }
            },
            "type": "scatterternary"
           }
          ],
          "surface": [
           {
            "colorbar": {
             "outlinewidth": 0,
             "ticks": ""
            },
            "colorscale": [
             [
              0,
              "#0d0887"
             ],
             [
              0.1111111111111111,
              "#46039f"
             ],
             [
              0.2222222222222222,
              "#7201a8"
             ],
             [
              0.3333333333333333,
              "#9c179e"
             ],
             [
              0.4444444444444444,
              "#bd3786"
             ],
             [
              0.5555555555555556,
              "#d8576b"
             ],
             [
              0.6666666666666666,
              "#ed7953"
             ],
             [
              0.7777777777777778,
              "#fb9f3a"
             ],
             [
              0.8888888888888888,
              "#fdca26"
             ],
             [
              1,
              "#f0f921"
             ]
            ],
            "type": "surface"
           }
          ],
          "table": [
           {
            "cells": {
             "fill": {
              "color": "#EBF0F8"
             },
             "line": {
              "color": "white"
             }
            },
            "header": {
             "fill": {
              "color": "#C8D4E3"
             },
             "line": {
              "color": "white"
             }
            },
            "type": "table"
           }
          ]
         },
         "layout": {
          "annotationdefaults": {
           "arrowcolor": "#2a3f5f",
           "arrowhead": 0,
           "arrowwidth": 1
          },
          "autotypenumbers": "strict",
          "coloraxis": {
           "colorbar": {
            "outlinewidth": 0,
            "ticks": ""
           }
          },
          "colorscale": {
           "diverging": [
            [
             0,
             "#8e0152"
            ],
            [
             0.1,
             "#c51b7d"
            ],
            [
             0.2,
             "#de77ae"
            ],
            [
             0.3,
             "#f1b6da"
            ],
            [
             0.4,
             "#fde0ef"
            ],
            [
             0.5,
             "#f7f7f7"
            ],
            [
             0.6,
             "#e6f5d0"
            ],
            [
             0.7,
             "#b8e186"
            ],
            [
             0.8,
             "#7fbc41"
            ],
            [
             0.9,
             "#4d9221"
            ],
            [
             1,
             "#276419"
            ]
           ],
           "sequential": [
            [
             0,
             "#0d0887"
            ],
            [
             0.1111111111111111,
             "#46039f"
            ],
            [
             0.2222222222222222,
             "#7201a8"
            ],
            [
             0.3333333333333333,
             "#9c179e"
            ],
            [
             0.4444444444444444,
             "#bd3786"
            ],
            [
             0.5555555555555556,
             "#d8576b"
            ],
            [
             0.6666666666666666,
             "#ed7953"
            ],
            [
             0.7777777777777778,
             "#fb9f3a"
            ],
            [
             0.8888888888888888,
             "#fdca26"
            ],
            [
             1,
             "#f0f921"
            ]
           ],
           "sequentialminus": [
            [
             0,
             "#0d0887"
            ],
            [
             0.1111111111111111,
             "#46039f"
            ],
            [
             0.2222222222222222,
             "#7201a8"
            ],
            [
             0.3333333333333333,
             "#9c179e"
            ],
            [
             0.4444444444444444,
             "#bd3786"
            ],
            [
             0.5555555555555556,
             "#d8576b"
            ],
            [
             0.6666666666666666,
             "#ed7953"
            ],
            [
             0.7777777777777778,
             "#fb9f3a"
            ],
            [
             0.8888888888888888,
             "#fdca26"
            ],
            [
             1,
             "#f0f921"
            ]
           ]
          },
          "colorway": [
           "#636efa",
           "#EF553B",
           "#00cc96",
           "#ab63fa",
           "#FFA15A",
           "#19d3f3",
           "#FF6692",
           "#B6E880",
           "#FF97FF",
           "#FECB52"
          ],
          "font": {
           "color": "#2a3f5f"
          },
          "geo": {
           "bgcolor": "white",
           "lakecolor": "white",
           "landcolor": "white",
           "showlakes": true,
           "showland": true,
           "subunitcolor": "#C8D4E3"
          },
          "hoverlabel": {
           "align": "left"
          },
          "hovermode": "closest",
          "mapbox": {
           "style": "light"
          },
          "paper_bgcolor": "white",
          "plot_bgcolor": "white",
          "polar": {
           "angularaxis": {
            "gridcolor": "#EBF0F8",
            "linecolor": "#EBF0F8",
            "ticks": ""
           },
           "bgcolor": "white",
           "radialaxis": {
            "gridcolor": "#EBF0F8",
            "linecolor": "#EBF0F8",
            "ticks": ""
           }
          },
          "scene": {
           "xaxis": {
            "backgroundcolor": "white",
            "gridcolor": "#DFE8F3",
            "gridwidth": 2,
            "linecolor": "#EBF0F8",
            "showbackground": true,
            "ticks": "",
            "zerolinecolor": "#EBF0F8"
           },
           "yaxis": {
            "backgroundcolor": "white",
            "gridcolor": "#DFE8F3",
            "gridwidth": 2,
            "linecolor": "#EBF0F8",
            "showbackground": true,
            "ticks": "",
            "zerolinecolor": "#EBF0F8"
           },
           "zaxis": {
            "backgroundcolor": "white",
            "gridcolor": "#DFE8F3",
            "gridwidth": 2,
            "linecolor": "#EBF0F8",
            "showbackground": true,
            "ticks": "",
            "zerolinecolor": "#EBF0F8"
           }
          },
          "shapedefaults": {
           "line": {
            "color": "#2a3f5f"
           }
          },
          "ternary": {
           "aaxis": {
            "gridcolor": "#DFE8F3",
            "linecolor": "#A2B1C6",
            "ticks": ""
           },
           "baxis": {
            "gridcolor": "#DFE8F3",
            "linecolor": "#A2B1C6",
            "ticks": ""
           },
           "bgcolor": "white",
           "caxis": {
            "gridcolor": "#DFE8F3",
            "linecolor": "#A2B1C6",
            "ticks": ""
           }
          },
          "title": {
           "x": 0.05
          },
          "xaxis": {
           "automargin": true,
           "gridcolor": "#EBF0F8",
           "linecolor": "#EBF0F8",
           "ticks": "",
           "title": {
            "standoff": 15
           },
           "zerolinecolor": "#EBF0F8",
           "zerolinewidth": 2
          },
          "yaxis": {
           "automargin": true,
           "gridcolor": "#EBF0F8",
           "linecolor": "#EBF0F8",
           "ticks": "",
           "title": {
            "standoff": 15
           },
           "zerolinecolor": "#EBF0F8",
           "zerolinewidth": 2
          }
         }
        },
        "title": {
         "text": "<b>Total Words per 10-Year Window by Royal Society Publication Type (1665-1958)<b>"
        },
        "width": 1200,
        "xaxis": {
         "title": {
          "text": "<b>Window Start Year<b>"
         }
        },
        "yaxis": {
         "tickfont": {
          "size": 12
         },
         "tickformat": "~s",
         "tickvals": [
          1000000,
          2000000,
          3000000,
          4000000,
          5000000
         ],
         "title": {
          "font": {
           "size": 14
          },
          "text": "<b>Total Words<b>"
         }
        }
       }
      }
     },
     "metadata": {},
     "output_type": "display_data"
    }
   ],
   "source": [
    "import pandas as pd\n",
    "import plotly.graph_objects as go\n",
    "from collections import defaultdict\n",
    "import os\n",
    "import re\n",
    "from tqdm import tqdm\n",
    "import string\n",
    "from nltk.tokenize import word_tokenize\n",
    "\n",
    "def count_words_in_file(file_path):\n",
    "    with open(file_path, 'r', encoding='utf-8') as f:\n",
    "        text = f.read()\n",
    "    tokens = word_tokenize(text.lower())\n",
    "    return len([token for token in tokens if token.isalpha() and token not in string.punctuation])\n",
    "\n",
    "def count_words_in_10_year_windows(text_dirs, start_year, end_year):\n",
    "    def extract_year_from_filename(filename):\n",
    "        match = re.search(r'rst[bla]?_?(\\d{4})', filename)\n",
    "        return int(match.group(1)) if match else None\n",
    "    \n",
    "    word_counts = {\n",
    "        'rsta': defaultdict(int),\n",
    "        'rstb': defaultdict(int),\n",
    "        'rstl': defaultdict(int)\n",
    "    }\n",
    "    \n",
    "    file_paths = []\n",
    "    for dir in text_dirs:\n",
    "        for f in os.listdir(dir):\n",
    "            if f.endswith('.txt'):\n",
    "                file_paths.append(os.path.join(dir, f))\n",
    "    \n",
    "    for file_path in tqdm(file_paths):\n",
    "        year = extract_year_from_filename(os.path.basename(file_path))\n",
    "        pub_type = os.path.basename(os.path.dirname(file_path))[-4:]\n",
    "        \n",
    "        if year and start_year <= year <= end_year:\n",
    "            word_count = count_words_in_file(file_path)\n",
    "            word_counts[pub_type][year] += word_count\n",
    "    \n",
    "    words_per_window = {\n",
    "        'rsta': defaultdict(int),\n",
    "        'rstb': defaultdict(int),\n",
    "        'rstl': defaultdict(int)\n",
    "    }\n",
    "    \n",
    "    for pub_type in ['rsta', 'rstb', 'rstl']:\n",
    "        if pub_type in ['rsta', 'rstb']:\n",
    "            start_year_filter = 1887\n",
    "        else:\n",
    "            start_year_filter = 1665\n",
    "        \n",
    "        for year in range(start_year, end_year - 9):\n",
    "            window_start = year\n",
    "            window_end = year + 9\n",
    "            total_words = sum(\n",
    "                word_counts[pub_type].get(y, 0) \n",
    "                for y in range(window_start, window_end + 1)\n",
    "                if (pub_type != 'rstl' and y >= 1887) or (pub_type == 'rstl' and y <= 1886)\n",
    "            )\n",
    "            words_per_window[pub_type][window_start] = total_words\n",
    "    \n",
    "    return words_per_window\n",
    "\n",
    "# Directories for Royal Society publications\n",
    "text_dirs = [\n",
    "    r\"D:\\Fact_fiction_corpus\\texts\\royal society\\txt_rstb\",\n",
    "    r\"D:\\Fact_fiction_corpus\\texts\\royal society\\txt_rstl\", \n",
    "    r\"D:\\Fact_fiction_corpus\\texts\\royal society\\txt_rsta\"\n",
    "]\n",
    "\n",
    "# Count words for the historical period\n",
    "historical_word_counts = count_words_in_10_year_windows(\n",
    "    text_dirs,\n",
    "    start_year=1665,\n",
    "    end_year=1958\n",
    ")\n",
    "\n",
    "# Prepare data for plotting\n",
    "publication_types = {\n",
    "    'rsta': {'color': 'red', 'name': 'RSTA', 'order': 3},\n",
    "    'rstb': {'color': 'blue', 'name': 'RSTB', 'order': 2},\n",
    "    'rstl': {'color': 'green', 'name': 'RSTL', 'order': 1}\n",
    "}\n",
    "\n",
    "# Create the interactive stacked bar plot\n",
    "fig = go.Figure()\n",
    "\n",
    "# Generate list of all unique 10-year window start years\n",
    "all_windows = sorted(set().union(\n",
    "    historical_word_counts['rsta'].keys(),\n",
    "    historical_word_counts['rstb'].keys(),\n",
    "    historical_word_counts['rstl'].keys()\n",
    "))\n",
    "\n",
    "# Sort publication types by order for proper stacking\n",
    "sorted_pub_types = sorted(publication_types.items(), key=lambda x: x[1]['order'])\n",
    "\n",
    "# Add stacked bars for each publication type\n",
    "for pub_type, details in sorted_pub_types:\n",
    "    # Filter out zero-value windows to reduce noise\n",
    "    windows = [year for year in all_windows if historical_word_counts[pub_type].get(year, 0) > 0]\n",
    "    counts = [historical_word_counts[pub_type].get(year, 0) for year in windows]\n",
    "    \n",
    "    if windows:  # Ensure there are non-zero counts\n",
    "        first_year = windows[0]\n",
    "        last_year = windows[-1]\n",
    "        \n",
    "        # Adjust for RSTA and RSTB: ensure it starts from 1887\n",
    "        if pub_type in ['rsta', 'rstb']:\n",
    "            first_year = max(first_year, 1887)\n",
    "        \n",
    "        fig.add_trace(go.Bar(\n",
    "            x=windows,\n",
    "            y=counts,\n",
    "            name=f'{details[\"name\"]} ({first_year}-{last_year})',\n",
    "            marker_color=details['color'],\n",
    "            hovertemplate='%{y:,} words<extra></extra>'\n",
    "        ))\n",
    "\n",
    "# Update layout to create stacked bars\n",
    "fig.update_layout(\n",
    "    title='<b>Total Words per 10-Year Window by Royal Society Publication Type (1665-1958)<b>',\n",
    "    xaxis_title='<b>Window Start Year<b>',\n",
    "    yaxis_title='<b>Total Words<b>',\n",
    "    barmode='stack',  # Properly stack the bars\n",
    "    template='plotly_white',\n",
    "    width=1400,  \n",
    "    height=700,\n",
    "    font=dict(family='Arial, sans-serif'),\n",
    "    legend=dict(\n",
    "        orientation='h',\n",
    "        yanchor='bottom',\n",
    "        y=1.02,\n",
    "        xanchor='center',\n",
    "        x=0.5,\n",
    "        font=dict(size=14,  weight='bold')\n",
    "    ),\n",
    "    plot_bgcolor='rgba(240,240,240,0.5)',\n",
    "    margin=dict(t=100, b=50, l=50, r=50)\n",
    ")\n",
    "\n",
    "# Customize y-axis with comma-separated thousands\n",
    "fig.update_yaxes(\n",
    "    tickformat=\"~s\",\n",
    "    tickfont=dict(size=12),\n",
    "    title_font=dict(size=14),\n",
    "    tickvals=[1_000_000, 2_000_000, 3_000_000, 4_000_000, 5_000_000]  # Set specific tick values\n",
    ")\n",
    "\n",
    "fig.update_layout(\n",
    "    width=1200,  \n",
    "    height=600,\n",
    ")\n",
    "\n",
    "# Show the plot\n",
    "fig.show()\n",
    "fig.write_html(\"C:/Users/Igiba/Documents/fact_fiction_project/extra_plots/royal_society_word_counts_cumulative_bar_plot.html\")"
   ]
  },
  {
   "cell_type": "code",
   "execution_count": 6,
   "metadata": {},
   "outputs": [
    {
     "name": "stdout",
     "output_type": "stream",
     "text": [
      "\n",
      "Processing files:\n",
      "--------------------------------------------------\n"
     ]
    },
    {
     "name": "stderr",
     "output_type": "stream",
     "text": [
      "Processing txt_rstb: 100%|██████████| 5284/5284 [01:16<00:00, 68.73it/s]\n"
     ]
    },
    {
     "name": "stdout",
     "output_type": "stream",
     "text": [
      "txt_rstb:\n",
      "  - Files processed: 628\n",
      "  - Word count: 11,985,649\n"
     ]
    },
    {
     "name": "stderr",
     "output_type": "stream",
     "text": [
      "Processing txt_rstl: 100%|██████████| 8520/8520 [03:12<00:00, 44.15it/s] \n"
     ]
    },
    {
     "name": "stdout",
     "output_type": "stream",
     "text": [
      "txt_rstl:\n",
      "  - Files processed: 8520\n",
      "  - Word count: 29,445,246\n"
     ]
    },
    {
     "name": "stderr",
     "output_type": "stream",
     "text": [
      "Processing txt_rsta: 100%|██████████| 4390/4390 [01:42<00:00, 42.87it/s]   "
     ]
    },
    {
     "name": "stdout",
     "output_type": "stream",
     "text": [
      "txt_rsta:\n",
      "  - Files processed: 864\n",
      "  - Word count: 10,989,711\n"
     ]
    },
    {
     "name": "stderr",
     "output_type": "stream",
     "text": [
      "\n"
     ]
    },
    {
     "data": {
      "application/vnd.plotly.v1+json": {
       "config": {
        "plotlyServerURL": "https://plot.ly"
       },
       "data": [
        {
         "hovertemplate": "<b>%{label}</b><br>Word count: %{value:,}<br>Percentage: %{percent}<br><extra></extra>",
         "labels": [
          "RSTB (11,985,649 words)",
          "RSTL (29,445,246 words)",
          "RSTA (10,989,711 words)"
         ],
         "marker": {
          "colors": [
           "blue",
           "green",
           "red"
          ]
         },
         "textinfo": "label+percent",
         "type": "pie",
         "values": [
          11985649,
          29445246,
          10989711
         ]
        }
       ],
       "layout": {
        "font": {
         "family": "Arial, sans-serif"
        },
        "height": 600,
        "margin": {
         "b": 50,
         "l": 50,
         "r": 50,
         "t": 100
        },
        "showlegend": true,
        "template": {
         "data": {
          "bar": [
           {
            "error_x": {
             "color": "#2a3f5f"
            },
            "error_y": {
             "color": "#2a3f5f"
            },
            "marker": {
             "line": {
              "color": "white",
              "width": 0.5
             },
             "pattern": {
              "fillmode": "overlay",
              "size": 10,
              "solidity": 0.2
             }
            },
            "type": "bar"
           }
          ],
          "barpolar": [
           {
            "marker": {
             "line": {
              "color": "white",
              "width": 0.5
             },
             "pattern": {
              "fillmode": "overlay",
              "size": 10,
              "solidity": 0.2
             }
            },
            "type": "barpolar"
           }
          ],
          "carpet": [
           {
            "aaxis": {
             "endlinecolor": "#2a3f5f",
             "gridcolor": "#C8D4E3",
             "linecolor": "#C8D4E3",
             "minorgridcolor": "#C8D4E3",
             "startlinecolor": "#2a3f5f"
            },
            "baxis": {
             "endlinecolor": "#2a3f5f",
             "gridcolor": "#C8D4E3",
             "linecolor": "#C8D4E3",
             "minorgridcolor": "#C8D4E3",
             "startlinecolor": "#2a3f5f"
            },
            "type": "carpet"
           }
          ],
          "choropleth": [
           {
            "colorbar": {
             "outlinewidth": 0,
             "ticks": ""
            },
            "type": "choropleth"
           }
          ],
          "contour": [
           {
            "colorbar": {
             "outlinewidth": 0,
             "ticks": ""
            },
            "colorscale": [
             [
              0,
              "#0d0887"
             ],
             [
              0.1111111111111111,
              "#46039f"
             ],
             [
              0.2222222222222222,
              "#7201a8"
             ],
             [
              0.3333333333333333,
              "#9c179e"
             ],
             [
              0.4444444444444444,
              "#bd3786"
             ],
             [
              0.5555555555555556,
              "#d8576b"
             ],
             [
              0.6666666666666666,
              "#ed7953"
             ],
             [
              0.7777777777777778,
              "#fb9f3a"
             ],
             [
              0.8888888888888888,
              "#fdca26"
             ],
             [
              1,
              "#f0f921"
             ]
            ],
            "type": "contour"
           }
          ],
          "contourcarpet": [
           {
            "colorbar": {
             "outlinewidth": 0,
             "ticks": ""
            },
            "type": "contourcarpet"
           }
          ],
          "heatmap": [
           {
            "colorbar": {
             "outlinewidth": 0,
             "ticks": ""
            },
            "colorscale": [
             [
              0,
              "#0d0887"
             ],
             [
              0.1111111111111111,
              "#46039f"
             ],
             [
              0.2222222222222222,
              "#7201a8"
             ],
             [
              0.3333333333333333,
              "#9c179e"
             ],
             [
              0.4444444444444444,
              "#bd3786"
             ],
             [
              0.5555555555555556,
              "#d8576b"
             ],
             [
              0.6666666666666666,
              "#ed7953"
             ],
             [
              0.7777777777777778,
              "#fb9f3a"
             ],
             [
              0.8888888888888888,
              "#fdca26"
             ],
             [
              1,
              "#f0f921"
             ]
            ],
            "type": "heatmap"
           }
          ],
          "heatmapgl": [
           {
            "colorbar": {
             "outlinewidth": 0,
             "ticks": ""
            },
            "colorscale": [
             [
              0,
              "#0d0887"
             ],
             [
              0.1111111111111111,
              "#46039f"
             ],
             [
              0.2222222222222222,
              "#7201a8"
             ],
             [
              0.3333333333333333,
              "#9c179e"
             ],
             [
              0.4444444444444444,
              "#bd3786"
             ],
             [
              0.5555555555555556,
              "#d8576b"
             ],
             [
              0.6666666666666666,
              "#ed7953"
             ],
             [
              0.7777777777777778,
              "#fb9f3a"
             ],
             [
              0.8888888888888888,
              "#fdca26"
             ],
             [
              1,
              "#f0f921"
             ]
            ],
            "type": "heatmapgl"
           }
          ],
          "histogram": [
           {
            "marker": {
             "pattern": {
              "fillmode": "overlay",
              "size": 10,
              "solidity": 0.2
             }
            },
            "type": "histogram"
           }
          ],
          "histogram2d": [
           {
            "colorbar": {
             "outlinewidth": 0,
             "ticks": ""
            },
            "colorscale": [
             [
              0,
              "#0d0887"
             ],
             [
              0.1111111111111111,
              "#46039f"
             ],
             [
              0.2222222222222222,
              "#7201a8"
             ],
             [
              0.3333333333333333,
              "#9c179e"
             ],
             [
              0.4444444444444444,
              "#bd3786"
             ],
             [
              0.5555555555555556,
              "#d8576b"
             ],
             [
              0.6666666666666666,
              "#ed7953"
             ],
             [
              0.7777777777777778,
              "#fb9f3a"
             ],
             [
              0.8888888888888888,
              "#fdca26"
             ],
             [
              1,
              "#f0f921"
             ]
            ],
            "type": "histogram2d"
           }
          ],
          "histogram2dcontour": [
           {
            "colorbar": {
             "outlinewidth": 0,
             "ticks": ""
            },
            "colorscale": [
             [
              0,
              "#0d0887"
             ],
             [
              0.1111111111111111,
              "#46039f"
             ],
             [
              0.2222222222222222,
              "#7201a8"
             ],
             [
              0.3333333333333333,
              "#9c179e"
             ],
             [
              0.4444444444444444,
              "#bd3786"
             ],
             [
              0.5555555555555556,
              "#d8576b"
             ],
             [
              0.6666666666666666,
              "#ed7953"
             ],
             [
              0.7777777777777778,
              "#fb9f3a"
             ],
             [
              0.8888888888888888,
              "#fdca26"
             ],
             [
              1,
              "#f0f921"
             ]
            ],
            "type": "histogram2dcontour"
           }
          ],
          "mesh3d": [
           {
            "colorbar": {
             "outlinewidth": 0,
             "ticks": ""
            },
            "type": "mesh3d"
           }
          ],
          "parcoords": [
           {
            "line": {
             "colorbar": {
              "outlinewidth": 0,
              "ticks": ""
             }
            },
            "type": "parcoords"
           }
          ],
          "pie": [
           {
            "automargin": true,
            "type": "pie"
           }
          ],
          "scatter": [
           {
            "fillpattern": {
             "fillmode": "overlay",
             "size": 10,
             "solidity": 0.2
            },
            "type": "scatter"
           }
          ],
          "scatter3d": [
           {
            "line": {
             "colorbar": {
              "outlinewidth": 0,
              "ticks": ""
             }
            },
            "marker": {
             "colorbar": {
              "outlinewidth": 0,
              "ticks": ""
             }
            },
            "type": "scatter3d"
           }
          ],
          "scattercarpet": [
           {
            "marker": {
             "colorbar": {
              "outlinewidth": 0,
              "ticks": ""
             }
            },
            "type": "scattercarpet"
           }
          ],
          "scattergeo": [
           {
            "marker": {
             "colorbar": {
              "outlinewidth": 0,
              "ticks": ""
             }
            },
            "type": "scattergeo"
           }
          ],
          "scattergl": [
           {
            "marker": {
             "colorbar": {
              "outlinewidth": 0,
              "ticks": ""
             }
            },
            "type": "scattergl"
           }
          ],
          "scattermapbox": [
           {
            "marker": {
             "colorbar": {
              "outlinewidth": 0,
              "ticks": ""
             }
            },
            "type": "scattermapbox"
           }
          ],
          "scatterpolar": [
           {
            "marker": {
             "colorbar": {
              "outlinewidth": 0,
              "ticks": ""
             }
            },
            "type": "scatterpolar"
           }
          ],
          "scatterpolargl": [
           {
            "marker": {
             "colorbar": {
              "outlinewidth": 0,
              "ticks": ""
             }
            },
            "type": "scatterpolargl"
           }
          ],
          "scatterternary": [
           {
            "marker": {
             "colorbar": {
              "outlinewidth": 0,
              "ticks": ""
             }
            },
            "type": "scatterternary"
           }
          ],
          "surface": [
           {
            "colorbar": {
             "outlinewidth": 0,
             "ticks": ""
            },
            "colorscale": [
             [
              0,
              "#0d0887"
             ],
             [
              0.1111111111111111,
              "#46039f"
             ],
             [
              0.2222222222222222,
              "#7201a8"
             ],
             [
              0.3333333333333333,
              "#9c179e"
             ],
             [
              0.4444444444444444,
              "#bd3786"
             ],
             [
              0.5555555555555556,
              "#d8576b"
             ],
             [
              0.6666666666666666,
              "#ed7953"
             ],
             [
              0.7777777777777778,
              "#fb9f3a"
             ],
             [
              0.8888888888888888,
              "#fdca26"
             ],
             [
              1,
              "#f0f921"
             ]
            ],
            "type": "surface"
           }
          ],
          "table": [
           {
            "cells": {
             "fill": {
              "color": "#EBF0F8"
             },
             "line": {
              "color": "white"
             }
            },
            "header": {
             "fill": {
              "color": "#C8D4E3"
             },
             "line": {
              "color": "white"
             }
            },
            "type": "table"
           }
          ]
         },
         "layout": {
          "annotationdefaults": {
           "arrowcolor": "#2a3f5f",
           "arrowhead": 0,
           "arrowwidth": 1
          },
          "autotypenumbers": "strict",
          "coloraxis": {
           "colorbar": {
            "outlinewidth": 0,
            "ticks": ""
           }
          },
          "colorscale": {
           "diverging": [
            [
             0,
             "#8e0152"
            ],
            [
             0.1,
             "#c51b7d"
            ],
            [
             0.2,
             "#de77ae"
            ],
            [
             0.3,
             "#f1b6da"
            ],
            [
             0.4,
             "#fde0ef"
            ],
            [
             0.5,
             "#f7f7f7"
            ],
            [
             0.6,
             "#e6f5d0"
            ],
            [
             0.7,
             "#b8e186"
            ],
            [
             0.8,
             "#7fbc41"
            ],
            [
             0.9,
             "#4d9221"
            ],
            [
             1,
             "#276419"
            ]
           ],
           "sequential": [
            [
             0,
             "#0d0887"
            ],
            [
             0.1111111111111111,
             "#46039f"
            ],
            [
             0.2222222222222222,
             "#7201a8"
            ],
            [
             0.3333333333333333,
             "#9c179e"
            ],
            [
             0.4444444444444444,
             "#bd3786"
            ],
            [
             0.5555555555555556,
             "#d8576b"
            ],
            [
             0.6666666666666666,
             "#ed7953"
            ],
            [
             0.7777777777777778,
             "#fb9f3a"
            ],
            [
             0.8888888888888888,
             "#fdca26"
            ],
            [
             1,
             "#f0f921"
            ]
           ],
           "sequentialminus": [
            [
             0,
             "#0d0887"
            ],
            [
             0.1111111111111111,
             "#46039f"
            ],
            [
             0.2222222222222222,
             "#7201a8"
            ],
            [
             0.3333333333333333,
             "#9c179e"
            ],
            [
             0.4444444444444444,
             "#bd3786"
            ],
            [
             0.5555555555555556,
             "#d8576b"
            ],
            [
             0.6666666666666666,
             "#ed7953"
            ],
            [
             0.7777777777777778,
             "#fb9f3a"
            ],
            [
             0.8888888888888888,
             "#fdca26"
            ],
            [
             1,
             "#f0f921"
            ]
           ]
          },
          "colorway": [
           "#636efa",
           "#EF553B",
           "#00cc96",
           "#ab63fa",
           "#FFA15A",
           "#19d3f3",
           "#FF6692",
           "#B6E880",
           "#FF97FF",
           "#FECB52"
          ],
          "font": {
           "color": "#2a3f5f"
          },
          "geo": {
           "bgcolor": "white",
           "lakecolor": "white",
           "landcolor": "white",
           "showlakes": true,
           "showland": true,
           "subunitcolor": "#C8D4E3"
          },
          "hoverlabel": {
           "align": "left"
          },
          "hovermode": "closest",
          "mapbox": {
           "style": "light"
          },
          "paper_bgcolor": "white",
          "plot_bgcolor": "white",
          "polar": {
           "angularaxis": {
            "gridcolor": "#EBF0F8",
            "linecolor": "#EBF0F8",
            "ticks": ""
           },
           "bgcolor": "white",
           "radialaxis": {
            "gridcolor": "#EBF0F8",
            "linecolor": "#EBF0F8",
            "ticks": ""
           }
          },
          "scene": {
           "xaxis": {
            "backgroundcolor": "white",
            "gridcolor": "#DFE8F3",
            "gridwidth": 2,
            "linecolor": "#EBF0F8",
            "showbackground": true,
            "ticks": "",
            "zerolinecolor": "#EBF0F8"
           },
           "yaxis": {
            "backgroundcolor": "white",
            "gridcolor": "#DFE8F3",
            "gridwidth": 2,
            "linecolor": "#EBF0F8",
            "showbackground": true,
            "ticks": "",
            "zerolinecolor": "#EBF0F8"
           },
           "zaxis": {
            "backgroundcolor": "white",
            "gridcolor": "#DFE8F3",
            "gridwidth": 2,
            "linecolor": "#EBF0F8",
            "showbackground": true,
            "ticks": "",
            "zerolinecolor": "#EBF0F8"
           }
          },
          "shapedefaults": {
           "line": {
            "color": "#2a3f5f"
           }
          },
          "ternary": {
           "aaxis": {
            "gridcolor": "#DFE8F3",
            "linecolor": "#A2B1C6",
            "ticks": ""
           },
           "baxis": {
            "gridcolor": "#DFE8F3",
            "linecolor": "#A2B1C6",
            "ticks": ""
           },
           "bgcolor": "white",
           "caxis": {
            "gridcolor": "#DFE8F3",
            "linecolor": "#A2B1C6",
            "ticks": ""
           }
          },
          "title": {
           "x": 0.05
          },
          "xaxis": {
           "automargin": true,
           "gridcolor": "#EBF0F8",
           "linecolor": "#EBF0F8",
           "ticks": "",
           "title": {
            "standoff": 15
           },
           "zerolinecolor": "#EBF0F8",
           "zerolinewidth": 2
          },
          "yaxis": {
           "automargin": true,
           "gridcolor": "#EBF0F8",
           "linecolor": "#EBF0F8",
           "ticks": "",
           "title": {
            "standoff": 15
           },
           "zerolinecolor": "#EBF0F8",
           "zerolinewidth": 2
          }
         }
        },
        "title": {
         "text": "<b>Word Distribution Across Royal Society Publication Types (1665-1958)<br>Total Words: 52,420,606 (from 10,012 files)</b>",
         "x": 0.5,
         "xanchor": "center",
         "y": 0.95,
         "yanchor": "top"
        },
        "width": 1200
       }
      }
     },
     "metadata": {},
     "output_type": "display_data"
    },
    {
     "name": "stdout",
     "output_type": "stream",
     "text": [
      "\n",
      "Final Summary:\n",
      "--------------------------------------------------\n",
      "RSTB (11,985,649 words)\n",
      "  - Files: 628\n",
      "  - Words: 11,985,649\n",
      "RSTL (29,445,246 words)\n",
      "  - Files: 8520\n",
      "  - Words: 29,445,246\n",
      "RSTA (10,989,711 words)\n",
      "  - Files: 864\n",
      "  - Words: 10,989,711\n",
      "--------------------------------------------------\n",
      "Total files processed: 10,012\n",
      "Total words across all directories: 52,420,606\n",
      "\n",
      "Interactive pie chart has been saved to: C:/Users/Igiba/Documents/fact_fiction_project/extra_plots/royal_society_word_distribution_pie_1665_1958.html\n"
     ]
    }
   ],
   "source": [
    "import os\n",
    "import re\n",
    "import plotly.graph_objects as go\n",
    "import string\n",
    "from nltk.tokenize import word_tokenize\n",
    "from tqdm import tqdm\n",
    "\n",
    "def extract_year_from_filename(filename):\n",
    "    \"\"\"Extract the year from the filename.\"\"\"\n",
    "    match = re.search(r'rst[bla]?_?(\\d{4})', filename)\n",
    "    return int(match.group(1)) if match else None\n",
    "\n",
    "def count_words_in_file(file_path):\n",
    "    \"\"\"Count words in a single file.\"\"\"\n",
    "    with open(file_path, 'r', encoding='utf-8') as f:\n",
    "        text = f.read()\n",
    "    tokens = word_tokenize(text.lower())\n",
    "    return len([token for token in tokens if token.isalpha() and token not in string.punctuation])\n",
    "\n",
    "def count_words_in_directory(directory, start_year, end_year):\n",
    "    \"\"\"Count words in all files within a directory, filtered by year range.\"\"\"\n",
    "    total_words = 0\n",
    "    file_count = 0\n",
    "    \n",
    "    # Get list of all txt files\n",
    "    files = [f for f in os.listdir(directory) if f.endswith('.txt')]\n",
    "    \n",
    "    # Use tqdm for progress bar\n",
    "    for file in tqdm(files, desc=f\"Processing {os.path.basename(directory)}\"):\n",
    "        file_path = os.path.join(directory, file)\n",
    "        \n",
    "        # Extract year from filename and check if it's within the range\n",
    "        year = extract_year_from_filename(file)\n",
    "        if year is None or not (start_year <= year <= end_year):\n",
    "            continue  # Skip files outside the year range\n",
    "        \n",
    "        try:\n",
    "            word_count = count_words_in_file(file_path)\n",
    "            total_words += word_count\n",
    "            file_count += 1\n",
    "        except Exception as e:\n",
    "            print(f\"Error reading {file_path}: {e}\")\n",
    "    \n",
    "    return total_words, file_count\n",
    "\n",
    "# Directories\n",
    "text_dirs = [\n",
    "    r\"D:\\Fact_fiction_corpus\\texts\\royal society\\txt_rstb\",\n",
    "    r\"D:\\Fact_fiction_corpus\\texts\\royal society\\txt_rstl\",\n",
    "    r\"D:\\Fact_fiction_corpus\\texts\\royal society\\txt_rsta\"\n",
    "]\n",
    "\n",
    "# Publication types with consistent colors\n",
    "publication_types = {\n",
    "    'txt_rsta': {'color': 'red', 'name': 'RSTA'},\n",
    "    'txt_rstb': {'color': 'blue', 'name': 'RSTB'},\n",
    "    'txt_rstl': {'color': 'green', 'name': 'RSTL'}\n",
    "}\n",
    "\n",
    "# Year range to filter by\n",
    "start_year = 1665\n",
    "end_year = 1958\n",
    "\n",
    "# Get counts and labels\n",
    "counts = []\n",
    "file_counts = []\n",
    "labels = []\n",
    "colors = []\n",
    "\n",
    "print(\"\\nProcessing files:\")\n",
    "print(\"-\" * 50)\n",
    "\n",
    "for directory in text_dirs:\n",
    "    word_count, file_count = count_words_in_directory(directory, start_year, end_year)\n",
    "    counts.append(word_count)\n",
    "    file_counts.append(file_count)\n",
    "    dir_name = os.path.basename(directory)\n",
    "    pub_info = publication_types[dir_name]\n",
    "    labels.append(f\"{pub_info['name']} ({word_count:,} words)\")\n",
    "    colors.append(pub_info['color'])\n",
    "    print(f\"{dir_name}:\")\n",
    "    print(f\"  - Files processed: {file_count}\")\n",
    "    print(f\"  - Word count: {word_count:,}\")\n",
    "\n",
    "# Calculate total word count\n",
    "total_words = sum(counts)\n",
    "total_files = sum(file_counts)\n",
    "\n",
    "# Create interactive pie chart with Plotly\n",
    "fig = go.Figure(data=[go.Pie(\n",
    "    labels=labels,\n",
    "    values=counts,\n",
    "    marker=dict(colors=colors),\n",
    "    textinfo='label+percent',\n",
    "    hovertemplate=\"<b>%{label}</b><br>\" +\n",
    "                  \"Word count: %{value:,}<br>\" +\n",
    "                  \"Percentage: %{percent}<br>\" +\n",
    "                  \"<extra></extra>\"\n",
    ")])\n",
    "\n",
    "# Update layout\n",
    "fig.update_layout(\n",
    "    title={\n",
    "        'text': f'<b>Word Distribution Across Royal Society Publication Types (1665-1958)<br>Total Words: {total_words:,} (from {total_files:,} files)</b>',\n",
    "        'y':0.95,\n",
    "        'x':0.5,\n",
    "        'xanchor': 'center',\n",
    "        'yanchor': 'top'\n",
    "    },\n",
    "    showlegend=True,\n",
    "    width=1200,\n",
    "    height=600,\n",
    "    template='plotly_white',\n",
    "    font=dict(family='Arial, sans-serif'),\n",
    "    margin=dict(t=100, b=50, l=50, r=50)\n",
    ")\n",
    "\n",
    "# Save as interactive HTML\n",
    "output_path = r\"C:/Users/Igiba/Documents/fact_fiction_project/extra_plots/royal_society_word_distribution_pie_1665_1958.html\"\n",
    "fig.write_html(output_path)\n",
    "fig.show()\n",
    "\n",
    "print(\"\\nFinal Summary:\")\n",
    "print(\"-\" * 50)\n",
    "for label, count, file_count in zip(labels, counts, file_counts):\n",
    "    print(f\"{label}\")\n",
    "    print(f\"  - Files: {file_count}\")\n",
    "    print(f\"  - Words: {count:,}\")\n",
    "print(\"-\" * 50)\n",
    "print(f\"Total files processed: {total_files:,}\")\n",
    "print(f\"Total words across all directories: {total_words:,}\")\n",
    "print(f\"\\nInteractive pie chart has been saved to: {output_path}\")\n"
   ]
  },
  {
   "cell_type": "code",
   "execution_count": null,
   "metadata": {},
   "outputs": [],
   "source": [
    "import pandas as pd\n",
    "import plotly.graph_objects as go\n",
    "from collections import defaultdict\n",
    "import os\n",
    "import re\n",
    "from tqdm import tqdm\n",
    "import string\n",
    "from nltk.tokenize import word_tokenize\n",
    "\n",
    "def count_words_in_file(file_path):\n",
    "    with open(file_path, 'r', encoding='utf-8') as f:\n",
    "        text = f.read()\n",
    "    tokens = word_tokenize(text.lower())\n",
    "    return len([token for token in tokens if token.isalpha() and token not in string.punctuation])\n",
    "\n",
    "def count_words_per_year(text_dirs, start_year, end_year):\n",
    "    def extract_year_from_filename(filename):\n",
    "        match = re.search(r'rst[bla]?_?(\\d{4})', filename)\n",
    "        return int(match.group(1)) if match else None\n",
    "    \n",
    "    word_counts = {\n",
    "        'rsta': defaultdict(int),\n",
    "        'rstb': defaultdict(int),\n",
    "        'rstl': defaultdict(int)\n",
    "    }\n",
    "    \n",
    "    file_paths = []\n",
    "    for dir in text_dirs:\n",
    "        for f in os.listdir(dir):\n",
    "            if f.endswith('.txt'):\n",
    "                file_paths.append(os.path.join(dir, f))\n",
    "    \n",
    "    for file_path in tqdm(file_paths):\n",
    "        year = extract_year_from_filename(os.path.basename(file_path))\n",
    "        pub_type = os.path.basename(os.path.dirname(file_path))[-4:]\n",
    "        \n",
    "        if year and start_year <= year <= end_year:\n",
    "            # For RSTA and RSTB, only count years from 1887 onwards\n",
    "            if (pub_type in ['rsta', 'rstb'] and year >= 1887) or pub_type == 'rstl':\n",
    "                word_count = count_words_in_file(file_path)\n",
    "                word_counts[pub_type][year] += word_count\n",
    "    \n",
    "    return word_counts\n",
    "\n",
    "# Directories for Royal Society publications\n",
    "text_dirs = [\n",
    "    r\"D:\\Fact_fiction_corpus\\texts\\royal society\\txt_rstb\",\n",
    "    r\"D:\\Fact_fiction_corpus\\texts\\royal society\\txt_rstl\", \n",
    "    r\"D:\\Fact_fiction_corpus\\texts\\royal society\\txt_rsta\"\n",
    "]\n",
    "\n",
    "# Count words per year for the historical period\n",
    "historical_word_counts = count_words_per_year(\n",
    "    text_dirs,\n",
    "    start_year=1665,\n",
    "    end_year=1958\n",
    ")\n",
    "\n",
    "# Prepare data for plotting\n",
    "publication_types = {\n",
    "    'rsta': {'color': 'red', 'name': 'RSTA', 'order': 3},\n",
    "    'rstb': {'color': 'blue', 'name': 'RSTB', 'order': 2},\n",
    "    'rstl': {'color': 'green', 'name': 'RSTL', 'order': 1}\n",
    "}\n",
    "\n",
    "# Create the interactive stacked bar plot\n",
    "fig = go.Figure()\n",
    "\n",
    "# Generate list of all unique years\n",
    "all_years = sorted(set().union(\n",
    "    historical_word_counts['rsta'].keys(),\n",
    "    historical_word_counts['rstb'].keys(),\n",
    "    historical_word_counts['rstl'].keys()\n",
    "))\n",
    "\n",
    "# Sort publication types by order for proper stacking\n",
    "sorted_pub_types = sorted(publication_types.items(), key=lambda x: x[1]['order'])\n",
    "\n",
    "# Add stacked bars for each publication type\n",
    "for pub_type, details in sorted_pub_types:\n",
    "    # Filter out zero-value years to reduce noise\n",
    "    years = [year for year in all_years if historical_word_counts[pub_type].get(year, 0) > 0]\n",
    "    counts = [historical_word_counts[pub_type].get(year, 0) for year in years]\n",
    "    \n",
    "    if years:  # Ensure there are non-zero counts\n",
    "        first_year = years[0]\n",
    "        last_year = years[-1]\n",
    "        \n",
    "        # Adjust for RSTA and RSTB: ensure it starts from 1887\n",
    "        if pub_type in ['rsta', 'rstb']:\n",
    "            first_year = max(first_year, 1887)\n",
    "        \n",
    "        fig.add_trace(go.Bar(\n",
    "            x=years,\n",
    "            y=counts,\n",
    "            name=f'{details[\"name\"]} ({first_year}-{last_year})',\n",
    "            marker_color=details['color'],\n",
    "            hovertemplate='%{y:,} words<extra></extra>'\n",
    "        ))\n",
    "\n",
    "# Update layout to create stacked bars\n",
    "fig.update_layout(\n",
    "    title='<b>Total Words per Year by Royal Society Publication Type (1665-1958)<b>',\n",
    "    xaxis_title='<b>Year<b>',\n",
    "    yaxis_title='<b>Total Words<b>',\n",
    "    barmode='stack',  # Properly stack the bars\n",
    "    template='plotly_white',\n",
    "    width=1400,  \n",
    "    height=700,\n",
    "    font=dict(family='Arial, sans-serif'),\n",
    "    legend=dict(\n",
    "        orientation='h',\n",
    "        yanchor='bottom',\n",
    "        y=1.02,\n",
    "        xanchor='center',\n",
    "        x=0.5,\n",
    "        font=dict(size=14,  weight='bold')\n",
    "    ),\n",
    "    plot_bgcolor='rgba(240,240,240,0.5)',\n",
    "    margin=dict(t=100, b=50, l=50, r=50)\n",
    ")\n",
    "\n",
    "# Customize y-axis with comma-separated thousands\n",
    "fig.update_yaxes(\n",
    "    tickformat=\"~s\",\n",
    "    tickfont=dict(size=12),\n",
    "    title_font=dict(size=14),\n",
    "    tickvals=[500_000, 1_000_000, 1_500_000, 2_000_000]  # Set specific tick values\n",
    ")\n",
    "\n",
    "fig.update_layout(\n",
    "    width=1200,  \n",
    "    height=600,\n",
    ")\n",
    "\n",
    "# Show the plot and save HTML\n",
    "fig.show()\n",
    "fig.write_html(\"C:/Users/Igiba/Documents/fact_fiction_project/extra_plots/royal_society_word_counts_annual_bar_plot.html\")"
   ]
  },
  {
   "cell_type": "code",
   "execution_count": 4,
   "metadata": {},
   "outputs": [
    {
     "data": {
      "application/vnd.plotly.v1+json": {
       "config": {
        "plotlyServerURL": "https://plot.ly"
       },
       "data": [
        {
         "hovertemplate": "Year Range: %{x}<br>%{y}<extra></extra>",
         "marker": {
          "color": "blue"
         },
         "text": [
          1,
          1,
          1,
          1,
          1,
          1,
          1,
          1,
          1,
          0,
          1,
          1,
          1,
          1,
          1,
          1,
          1,
          1,
          1,
          1,
          1,
          0,
          0,
          0,
          0,
          0,
          0,
          0,
          1,
          1,
          0,
          0,
          0,
          0,
          1,
          1,
          1,
          1,
          1,
          1,
          1,
          1,
          1,
          1,
          0,
          0,
          0,
          0,
          1,
          1,
          0,
          0,
          0,
          0,
          0,
          0,
          0,
          0,
          0,
          0,
          0,
          0,
          0,
          0,
          0,
          0,
          0,
          0,
          0,
          0,
          0,
          0,
          0,
          0,
          0,
          1,
          1,
          1,
          0,
          0,
          0,
          0,
          0,
          0,
          0,
          1,
          1,
          0,
          0,
          0,
          0,
          0,
          0,
          0,
          1,
          1,
          1,
          1,
          1,
          0,
          0,
          0,
          0,
          0,
          0,
          0,
          1,
          2,
          1,
          1,
          0,
          0,
          0,
          0,
          0,
          0,
          0,
          0,
          0,
          1,
          1,
          1,
          2,
          6,
          7,
          9,
          8,
          14,
          14,
          19,
          20,
          20,
          23,
          22,
          27,
          28,
          31,
          29,
          31,
          27,
          26,
          26,
          27,
          22,
          13,
          19,
          18,
          18,
          15,
          14,
          14,
          14,
          19,
          21,
          22,
          25,
          25,
          25,
          33,
          43,
          43,
          43,
          46,
          47,
          55,
          63,
          78,
          79,
          74,
          68,
          60,
          55,
          48,
          48,
          44,
          45,
          52,
          61,
          64,
          74,
          76,
          68,
          73,
          81,
          105,
          121,
          101,
          102,
          114,
          101,
          111,
          117,
          128,
          122,
          107,
          101,
          98,
          93,
          73,
          78,
          77,
          84,
          91,
          104,
          88,
          94,
          126,
          121,
          144,
          149,
          135,
          127,
          128,
          121,
          135,
          123,
          96,
          118,
          110,
          128,
          163,
          178,
          199,
          201,
          213,
          221,
          254,
          253,
          237,
          235,
          221,
          199,
          216,
          178,
          193,
          201,
          144,
          145,
          156,
          145,
          154,
          152,
          122,
          122,
          117,
          103,
          123,
          133,
          120,
          129,
          100,
          97,
          79,
          95,
          85,
          99,
          91,
          86,
          128,
          112,
          144,
          142,
          147,
          150,
          161,
          161,
          154,
          131,
          90,
          83,
          62,
          42,
          42,
          34,
          35,
          34,
          42,
          65,
          75,
          90,
          98,
          97,
          91,
          71,
          53,
          37,
          19,
          12,
          5,
          0,
          0,
          0,
          0,
          0,
          0,
          0,
          0,
          0,
          0,
          0,
          0,
          0,
          0,
          0,
          0,
          0,
          0,
          0,
          0,
          0,
          0,
          0,
          0,
          0,
          0,
          0,
          0,
          0,
          0,
          0,
          0,
          0,
          0,
          0,
          0,
          0,
          0,
          1,
          1,
          1,
          1,
          1,
          1,
          1,
          3,
          4,
          12,
          22,
          42,
          77,
          194,
          328,
          453,
          584,
          662,
          828,
          940,
          1040,
          1063,
          1002,
          856
         ],
         "textposition": "auto",
         "type": "bar",
         "x": [
          "1665-1674",
          "1666-1675",
          "1667-1676",
          "1668-1677",
          "1669-1678",
          "1670-1679",
          "1671-1680",
          "1672-1681",
          "1673-1682",
          "1674-1683",
          "1675-1684",
          "1676-1685",
          "1677-1686",
          "1678-1687",
          "1679-1688",
          "1680-1689",
          "1681-1690",
          "1682-1691",
          "1683-1692",
          "1684-1693",
          "1685-1694",
          "1686-1695",
          "1687-1696",
          "1688-1697",
          "1689-1698",
          "1690-1699",
          "1691-1700",
          "1692-1701",
          "1693-1702",
          "1694-1703",
          "1695-1704",
          "1696-1705",
          "1697-1706",
          "1698-1707",
          "1699-1708",
          "1700-1709",
          "1701-1710",
          "1702-1711",
          "1703-1712",
          "1704-1713",
          "1705-1714",
          "1706-1715",
          "1707-1716",
          "1708-1717",
          "1709-1718",
          "1710-1719",
          "1711-1720",
          "1712-1721",
          "1713-1722",
          "1714-1723",
          "1715-1724",
          "1716-1725",
          "1717-1726",
          "1718-1727",
          "1719-1728",
          "1720-1729",
          "1721-1730",
          "1722-1731",
          "1723-1732",
          "1724-1733",
          "1725-1734",
          "1726-1735",
          "1727-1736",
          "1728-1737",
          "1729-1738",
          "1730-1739",
          "1731-1740",
          "1732-1741",
          "1733-1742",
          "1734-1743",
          "1735-1744",
          "1736-1745",
          "1737-1746",
          "1738-1747",
          "1739-1748",
          "1740-1749",
          "1741-1750",
          "1742-1751",
          "1743-1752",
          "1744-1753",
          "1745-1754",
          "1746-1755",
          "1747-1756",
          "1748-1757",
          "1749-1758",
          "1750-1759",
          "1751-1760",
          "1752-1761",
          "1753-1762",
          "1754-1763",
          "1755-1764",
          "1756-1765",
          "1757-1766",
          "1758-1767",
          "1759-1768",
          "1760-1769",
          "1761-1770",
          "1762-1771",
          "1763-1772",
          "1764-1773",
          "1765-1774",
          "1766-1775",
          "1767-1776",
          "1768-1777",
          "1769-1778",
          "1770-1779",
          "1771-1780",
          "1772-1781",
          "1773-1782",
          "1774-1783",
          "1775-1784",
          "1776-1785",
          "1777-1786",
          "1778-1787",
          "1779-1788",
          "1780-1789",
          "1781-1790",
          "1782-1791",
          "1783-1792",
          "1784-1793",
          "1785-1794",
          "1786-1795",
          "1787-1796",
          "1788-1797",
          "1789-1798",
          "1790-1799",
          "1791-1800",
          "1792-1801",
          "1793-1802",
          "1794-1803",
          "1795-1804",
          "1796-1805",
          "1797-1806",
          "1798-1807",
          "1799-1808",
          "1800-1809",
          "1801-1810",
          "1802-1811",
          "1803-1812",
          "1804-1813",
          "1805-1814",
          "1806-1815",
          "1807-1816",
          "1808-1817",
          "1809-1818",
          "1810-1819",
          "1811-1820",
          "1812-1821",
          "1813-1822",
          "1814-1823",
          "1815-1824",
          "1816-1825",
          "1817-1826",
          "1818-1827",
          "1819-1828",
          "1820-1829",
          "1821-1830",
          "1822-1831",
          "1823-1832",
          "1824-1833",
          "1825-1834",
          "1826-1835",
          "1827-1836",
          "1828-1837",
          "1829-1838",
          "1830-1839",
          "1831-1840",
          "1832-1841",
          "1833-1842",
          "1834-1843",
          "1835-1844",
          "1836-1845",
          "1837-1846",
          "1838-1847",
          "1839-1848",
          "1840-1849",
          "1841-1850",
          "1842-1851",
          "1843-1852",
          "1844-1853",
          "1845-1854",
          "1846-1855",
          "1847-1856",
          "1848-1857",
          "1849-1858",
          "1850-1859",
          "1851-1860",
          "1852-1861",
          "1853-1862",
          "1854-1863",
          "1855-1864",
          "1856-1865",
          "1857-1866",
          "1858-1867",
          "1859-1868",
          "1860-1869",
          "1861-1870",
          "1862-1871",
          "1863-1872",
          "1864-1873",
          "1865-1874",
          "1866-1875",
          "1867-1876",
          "1868-1877",
          "1869-1878",
          "1870-1879",
          "1871-1880",
          "1872-1881",
          "1873-1882",
          "1874-1883",
          "1875-1884",
          "1876-1885",
          "1877-1886",
          "1878-1887",
          "1879-1888",
          "1880-1889",
          "1881-1890",
          "1882-1891",
          "1883-1892",
          "1884-1893",
          "1885-1894",
          "1886-1895",
          "1887-1896",
          "1888-1897",
          "1889-1898",
          "1890-1899",
          "1891-1900",
          "1892-1901",
          "1893-1902",
          "1894-1903",
          "1895-1904",
          "1896-1905",
          "1897-1906",
          "1898-1907",
          "1899-1908",
          "1900-1909",
          "1901-1910",
          "1902-1911",
          "1903-1912",
          "1904-1913",
          "1905-1914",
          "1906-1915",
          "1907-1916",
          "1908-1917",
          "1909-1918",
          "1910-1919",
          "1911-1920",
          "1912-1921",
          "1913-1922",
          "1914-1923",
          "1915-1924",
          "1916-1925",
          "1917-1926",
          "1918-1927",
          "1919-1928",
          "1920-1929",
          "1921-1930",
          "1922-1931",
          "1923-1932",
          "1924-1933",
          "1925-1934",
          "1926-1935",
          "1927-1936",
          "1928-1937",
          "1929-1938",
          "1930-1939",
          "1931-1940",
          "1932-1941",
          "1933-1942",
          "1934-1943",
          "1935-1944",
          "1936-1945",
          "1937-1946",
          "1938-1947",
          "1939-1948",
          "1940-1949",
          "1941-1950",
          "1942-1951",
          "1943-1952",
          "1944-1953",
          "1945-1954",
          "1946-1955",
          "1947-1956",
          "1948-1957",
          "1949-1958",
          "1950-1959",
          "1951-1960",
          "1952-1961",
          "1953-1962",
          "1954-1963",
          "1955-1964",
          "1956-1965",
          "1957-1966",
          "1958-1967",
          "1959-1968",
          "1960-1969",
          "1961-1970",
          "1962-1971",
          "1963-1972",
          "1964-1973",
          "1965-1974",
          "1966-1975",
          "1967-1976",
          "1968-1977",
          "1969-1978",
          "1970-1979",
          "1971-1980",
          "1972-1981",
          "1973-1982",
          "1974-1983",
          "1975-1984",
          "1976-1985",
          "1977-1986",
          "1978-1987",
          "1979-1988",
          "1980-1989",
          "1981-1990",
          "1982-1991",
          "1983-1992",
          "1984-1993",
          "1985-1994",
          "1986-1995",
          "1987-1996",
          "1988-1997",
          "1989-1998",
          "1990-1999",
          "1991-2000",
          "1992-2001",
          "1993-2002",
          "1994-2003",
          "1995-2004",
          "1996-2005",
          "1997-2006",
          "1998-2007",
          "1999-2008",
          "2000-2009",
          "2001-2010",
          "2002-2011",
          "2003-2012",
          "2004-2013",
          "2005-2014",
          "2006-2015",
          "2007-2016",
          "2008-2017",
          "2009-2018",
          "2010-2019",
          "2011-2020",
          "2012-2021",
          "2013-2022",
          "2014-2023",
          "2015-2024"
         ],
         "y": [
          1,
          1,
          1,
          1,
          1,
          1,
          1,
          1,
          1,
          0,
          1,
          1,
          1,
          1,
          1,
          1,
          1,
          1,
          1,
          1,
          1,
          0,
          0,
          0,
          0,
          0,
          0,
          0,
          1,
          1,
          0,
          0,
          0,
          0,
          1,
          1,
          1,
          1,
          1,
          1,
          1,
          1,
          1,
          1,
          0,
          0,
          0,
          0,
          1,
          1,
          0,
          0,
          0,
          0,
          0,
          0,
          0,
          0,
          0,
          0,
          0,
          0,
          0,
          0,
          0,
          0,
          0,
          0,
          0,
          0,
          0,
          0,
          0,
          0,
          0,
          1,
          1,
          1,
          0,
          0,
          0,
          0,
          0,
          0,
          0,
          1,
          1,
          0,
          0,
          0,
          0,
          0,
          0,
          0,
          1,
          1,
          1,
          1,
          1,
          0,
          0,
          0,
          0,
          0,
          0,
          0,
          1,
          2,
          1,
          1,
          0,
          0,
          0,
          0,
          0,
          0,
          0,
          0,
          0,
          1,
          1,
          1,
          2,
          6,
          7,
          9,
          8,
          14,
          14,
          19,
          20,
          20,
          23,
          22,
          27,
          28,
          31,
          29,
          31,
          27,
          26,
          26,
          27,
          22,
          13,
          19,
          18,
          18,
          15,
          14,
          14,
          14,
          19,
          21,
          22,
          25,
          25,
          25,
          33,
          43,
          43,
          43,
          46,
          47,
          55,
          63,
          78,
          79,
          74,
          68,
          60,
          55,
          48,
          48,
          44,
          45,
          52,
          61,
          64,
          74,
          76,
          68,
          73,
          81,
          105,
          121,
          101,
          102,
          114,
          101,
          111,
          117,
          128,
          122,
          107,
          101,
          98,
          93,
          73,
          78,
          77,
          84,
          91,
          104,
          88,
          94,
          126,
          121,
          144,
          149,
          135,
          127,
          128,
          121,
          135,
          123,
          96,
          118,
          110,
          128,
          163,
          178,
          199,
          201,
          213,
          221,
          254,
          253,
          237,
          235,
          221,
          199,
          216,
          178,
          193,
          201,
          144,
          145,
          156,
          145,
          154,
          152,
          122,
          122,
          117,
          103,
          123,
          133,
          120,
          129,
          100,
          97,
          79,
          95,
          85,
          99,
          91,
          86,
          128,
          112,
          144,
          142,
          147,
          150,
          161,
          161,
          154,
          131,
          90,
          83,
          62,
          42,
          42,
          34,
          35,
          34,
          42,
          65,
          75,
          90,
          98,
          97,
          91,
          71,
          53,
          37,
          19,
          12,
          5,
          0,
          0,
          0,
          0,
          0,
          0,
          0,
          0,
          0,
          0,
          0,
          0,
          0,
          0,
          0,
          0,
          0,
          0,
          0,
          0,
          0,
          0,
          0,
          0,
          0,
          0,
          0,
          0,
          0,
          0,
          0,
          0,
          0,
          0,
          0,
          0,
          0,
          0,
          1,
          1,
          1,
          1,
          1,
          1,
          1,
          3,
          4,
          12,
          22,
          42,
          77,
          194,
          328,
          453,
          584,
          662,
          828,
          940,
          1040,
          1063,
          1002,
          856
         ]
        }
       ],
       "layout": {
        "template": {
         "data": {
          "bar": [
           {
            "error_x": {
             "color": "#2a3f5f"
            },
            "error_y": {
             "color": "#2a3f5f"
            },
            "marker": {
             "line": {
              "color": "white",
              "width": 0.5
             },
             "pattern": {
              "fillmode": "overlay",
              "size": 10,
              "solidity": 0.2
             }
            },
            "type": "bar"
           }
          ],
          "barpolar": [
           {
            "marker": {
             "line": {
              "color": "white",
              "width": 0.5
             },
             "pattern": {
              "fillmode": "overlay",
              "size": 10,
              "solidity": 0.2
             }
            },
            "type": "barpolar"
           }
          ],
          "carpet": [
           {
            "aaxis": {
             "endlinecolor": "#2a3f5f",
             "gridcolor": "#C8D4E3",
             "linecolor": "#C8D4E3",
             "minorgridcolor": "#C8D4E3",
             "startlinecolor": "#2a3f5f"
            },
            "baxis": {
             "endlinecolor": "#2a3f5f",
             "gridcolor": "#C8D4E3",
             "linecolor": "#C8D4E3",
             "minorgridcolor": "#C8D4E3",
             "startlinecolor": "#2a3f5f"
            },
            "type": "carpet"
           }
          ],
          "choropleth": [
           {
            "colorbar": {
             "outlinewidth": 0,
             "ticks": ""
            },
            "type": "choropleth"
           }
          ],
          "contour": [
           {
            "colorbar": {
             "outlinewidth": 0,
             "ticks": ""
            },
            "colorscale": [
             [
              0,
              "#0d0887"
             ],
             [
              0.1111111111111111,
              "#46039f"
             ],
             [
              0.2222222222222222,
              "#7201a8"
             ],
             [
              0.3333333333333333,
              "#9c179e"
             ],
             [
              0.4444444444444444,
              "#bd3786"
             ],
             [
              0.5555555555555556,
              "#d8576b"
             ],
             [
              0.6666666666666666,
              "#ed7953"
             ],
             [
              0.7777777777777778,
              "#fb9f3a"
             ],
             [
              0.8888888888888888,
              "#fdca26"
             ],
             [
              1,
              "#f0f921"
             ]
            ],
            "type": "contour"
           }
          ],
          "contourcarpet": [
           {
            "colorbar": {
             "outlinewidth": 0,
             "ticks": ""
            },
            "type": "contourcarpet"
           }
          ],
          "heatmap": [
           {
            "colorbar": {
             "outlinewidth": 0,
             "ticks": ""
            },
            "colorscale": [
             [
              0,
              "#0d0887"
             ],
             [
              0.1111111111111111,
              "#46039f"
             ],
             [
              0.2222222222222222,
              "#7201a8"
             ],
             [
              0.3333333333333333,
              "#9c179e"
             ],
             [
              0.4444444444444444,
              "#bd3786"
             ],
             [
              0.5555555555555556,
              "#d8576b"
             ],
             [
              0.6666666666666666,
              "#ed7953"
             ],
             [
              0.7777777777777778,
              "#fb9f3a"
             ],
             [
              0.8888888888888888,
              "#fdca26"
             ],
             [
              1,
              "#f0f921"
             ]
            ],
            "type": "heatmap"
           }
          ],
          "heatmapgl": [
           {
            "colorbar": {
             "outlinewidth": 0,
             "ticks": ""
            },
            "colorscale": [
             [
              0,
              "#0d0887"
             ],
             [
              0.1111111111111111,
              "#46039f"
             ],
             [
              0.2222222222222222,
              "#7201a8"
             ],
             [
              0.3333333333333333,
              "#9c179e"
             ],
             [
              0.4444444444444444,
              "#bd3786"
             ],
             [
              0.5555555555555556,
              "#d8576b"
             ],
             [
              0.6666666666666666,
              "#ed7953"
             ],
             [
              0.7777777777777778,
              "#fb9f3a"
             ],
             [
              0.8888888888888888,
              "#fdca26"
             ],
             [
              1,
              "#f0f921"
             ]
            ],
            "type": "heatmapgl"
           }
          ],
          "histogram": [
           {
            "marker": {
             "pattern": {
              "fillmode": "overlay",
              "size": 10,
              "solidity": 0.2
             }
            },
            "type": "histogram"
           }
          ],
          "histogram2d": [
           {
            "colorbar": {
             "outlinewidth": 0,
             "ticks": ""
            },
            "colorscale": [
             [
              0,
              "#0d0887"
             ],
             [
              0.1111111111111111,
              "#46039f"
             ],
             [
              0.2222222222222222,
              "#7201a8"
             ],
             [
              0.3333333333333333,
              "#9c179e"
             ],
             [
              0.4444444444444444,
              "#bd3786"
             ],
             [
              0.5555555555555556,
              "#d8576b"
             ],
             [
              0.6666666666666666,
              "#ed7953"
             ],
             [
              0.7777777777777778,
              "#fb9f3a"
             ],
             [
              0.8888888888888888,
              "#fdca26"
             ],
             [
              1,
              "#f0f921"
             ]
            ],
            "type": "histogram2d"
           }
          ],
          "histogram2dcontour": [
           {
            "colorbar": {
             "outlinewidth": 0,
             "ticks": ""
            },
            "colorscale": [
             [
              0,
              "#0d0887"
             ],
             [
              0.1111111111111111,
              "#46039f"
             ],
             [
              0.2222222222222222,
              "#7201a8"
             ],
             [
              0.3333333333333333,
              "#9c179e"
             ],
             [
              0.4444444444444444,
              "#bd3786"
             ],
             [
              0.5555555555555556,
              "#d8576b"
             ],
             [
              0.6666666666666666,
              "#ed7953"
             ],
             [
              0.7777777777777778,
              "#fb9f3a"
             ],
             [
              0.8888888888888888,
              "#fdca26"
             ],
             [
              1,
              "#f0f921"
             ]
            ],
            "type": "histogram2dcontour"
           }
          ],
          "mesh3d": [
           {
            "colorbar": {
             "outlinewidth": 0,
             "ticks": ""
            },
            "type": "mesh3d"
           }
          ],
          "parcoords": [
           {
            "line": {
             "colorbar": {
              "outlinewidth": 0,
              "ticks": ""
             }
            },
            "type": "parcoords"
           }
          ],
          "pie": [
           {
            "automargin": true,
            "type": "pie"
           }
          ],
          "scatter": [
           {
            "fillpattern": {
             "fillmode": "overlay",
             "size": 10,
             "solidity": 0.2
            },
            "type": "scatter"
           }
          ],
          "scatter3d": [
           {
            "line": {
             "colorbar": {
              "outlinewidth": 0,
              "ticks": ""
             }
            },
            "marker": {
             "colorbar": {
              "outlinewidth": 0,
              "ticks": ""
             }
            },
            "type": "scatter3d"
           }
          ],
          "scattercarpet": [
           {
            "marker": {
             "colorbar": {
              "outlinewidth": 0,
              "ticks": ""
             }
            },
            "type": "scattercarpet"
           }
          ],
          "scattergeo": [
           {
            "marker": {
             "colorbar": {
              "outlinewidth": 0,
              "ticks": ""
             }
            },
            "type": "scattergeo"
           }
          ],
          "scattergl": [
           {
            "marker": {
             "colorbar": {
              "outlinewidth": 0,
              "ticks": ""
             }
            },
            "type": "scattergl"
           }
          ],
          "scattermapbox": [
           {
            "marker": {
             "colorbar": {
              "outlinewidth": 0,
              "ticks": ""
             }
            },
            "type": "scattermapbox"
           }
          ],
          "scatterpolar": [
           {
            "marker": {
             "colorbar": {
              "outlinewidth": 0,
              "ticks": ""
             }
            },
            "type": "scatterpolar"
           }
          ],
          "scatterpolargl": [
           {
            "marker": {
             "colorbar": {
              "outlinewidth": 0,
              "ticks": ""
             }
            },
            "type": "scatterpolargl"
           }
          ],
          "scatterternary": [
           {
            "marker": {
             "colorbar": {
              "outlinewidth": 0,
              "ticks": ""
             }
            },
            "type": "scatterternary"
           }
          ],
          "surface": [
           {
            "colorbar": {
             "outlinewidth": 0,
             "ticks": ""
            },
            "colorscale": [
             [
              0,
              "#0d0887"
             ],
             [
              0.1111111111111111,
              "#46039f"
             ],
             [
              0.2222222222222222,
              "#7201a8"
             ],
             [
              0.3333333333333333,
              "#9c179e"
             ],
             [
              0.4444444444444444,
              "#bd3786"
             ],
             [
              0.5555555555555556,
              "#d8576b"
             ],
             [
              0.6666666666666666,
              "#ed7953"
             ],
             [
              0.7777777777777778,
              "#fb9f3a"
             ],
             [
              0.8888888888888888,
              "#fdca26"
             ],
             [
              1,
              "#f0f921"
             ]
            ],
            "type": "surface"
           }
          ],
          "table": [
           {
            "cells": {
             "fill": {
              "color": "#EBF0F8"
             },
             "line": {
              "color": "white"
             }
            },
            "header": {
             "fill": {
              "color": "#C8D4E3"
             },
             "line": {
              "color": "white"
             }
            },
            "type": "table"
           }
          ]
         },
         "layout": {
          "annotationdefaults": {
           "arrowcolor": "#2a3f5f",
           "arrowhead": 0,
           "arrowwidth": 1
          },
          "autotypenumbers": "strict",
          "coloraxis": {
           "colorbar": {
            "outlinewidth": 0,
            "ticks": ""
           }
          },
          "colorscale": {
           "diverging": [
            [
             0,
             "#8e0152"
            ],
            [
             0.1,
             "#c51b7d"
            ],
            [
             0.2,
             "#de77ae"
            ],
            [
             0.3,
             "#f1b6da"
            ],
            [
             0.4,
             "#fde0ef"
            ],
            [
             0.5,
             "#f7f7f7"
            ],
            [
             0.6,
             "#e6f5d0"
            ],
            [
             0.7,
             "#b8e186"
            ],
            [
             0.8,
             "#7fbc41"
            ],
            [
             0.9,
             "#4d9221"
            ],
            [
             1,
             "#276419"
            ]
           ],
           "sequential": [
            [
             0,
             "#0d0887"
            ],
            [
             0.1111111111111111,
             "#46039f"
            ],
            [
             0.2222222222222222,
             "#7201a8"
            ],
            [
             0.3333333333333333,
             "#9c179e"
            ],
            [
             0.4444444444444444,
             "#bd3786"
            ],
            [
             0.5555555555555556,
             "#d8576b"
            ],
            [
             0.6666666666666666,
             "#ed7953"
            ],
            [
             0.7777777777777778,
             "#fb9f3a"
            ],
            [
             0.8888888888888888,
             "#fdca26"
            ],
            [
             1,
             "#f0f921"
            ]
           ],
           "sequentialminus": [
            [
             0,
             "#0d0887"
            ],
            [
             0.1111111111111111,
             "#46039f"
            ],
            [
             0.2222222222222222,
             "#7201a8"
            ],
            [
             0.3333333333333333,
             "#9c179e"
            ],
            [
             0.4444444444444444,
             "#bd3786"
            ],
            [
             0.5555555555555556,
             "#d8576b"
            ],
            [
             0.6666666666666666,
             "#ed7953"
            ],
            [
             0.7777777777777778,
             "#fb9f3a"
            ],
            [
             0.8888888888888888,
             "#fdca26"
            ],
            [
             1,
             "#f0f921"
            ]
           ]
          },
          "colorway": [
           "#636efa",
           "#EF553B",
           "#00cc96",
           "#ab63fa",
           "#FFA15A",
           "#19d3f3",
           "#FF6692",
           "#B6E880",
           "#FF97FF",
           "#FECB52"
          ],
          "font": {
           "color": "#2a3f5f"
          },
          "geo": {
           "bgcolor": "white",
           "lakecolor": "white",
           "landcolor": "white",
           "showlakes": true,
           "showland": true,
           "subunitcolor": "#C8D4E3"
          },
          "hoverlabel": {
           "align": "left"
          },
          "hovermode": "closest",
          "mapbox": {
           "style": "light"
          },
          "paper_bgcolor": "white",
          "plot_bgcolor": "white",
          "polar": {
           "angularaxis": {
            "gridcolor": "#EBF0F8",
            "linecolor": "#EBF0F8",
            "ticks": ""
           },
           "bgcolor": "white",
           "radialaxis": {
            "gridcolor": "#EBF0F8",
            "linecolor": "#EBF0F8",
            "ticks": ""
           }
          },
          "scene": {
           "xaxis": {
            "backgroundcolor": "white",
            "gridcolor": "#DFE8F3",
            "gridwidth": 2,
            "linecolor": "#EBF0F8",
            "showbackground": true,
            "ticks": "",
            "zerolinecolor": "#EBF0F8"
           },
           "yaxis": {
            "backgroundcolor": "white",
            "gridcolor": "#DFE8F3",
            "gridwidth": 2,
            "linecolor": "#EBF0F8",
            "showbackground": true,
            "ticks": "",
            "zerolinecolor": "#EBF0F8"
           },
           "zaxis": {
            "backgroundcolor": "white",
            "gridcolor": "#DFE8F3",
            "gridwidth": 2,
            "linecolor": "#EBF0F8",
            "showbackground": true,
            "ticks": "",
            "zerolinecolor": "#EBF0F8"
           }
          },
          "shapedefaults": {
           "line": {
            "color": "#2a3f5f"
           }
          },
          "ternary": {
           "aaxis": {
            "gridcolor": "#DFE8F3",
            "linecolor": "#A2B1C6",
            "ticks": ""
           },
           "baxis": {
            "gridcolor": "#DFE8F3",
            "linecolor": "#A2B1C6",
            "ticks": ""
           },
           "bgcolor": "white",
           "caxis": {
            "gridcolor": "#DFE8F3",
            "linecolor": "#A2B1C6",
            "ticks": ""
           }
          },
          "title": {
           "x": 0.05
          },
          "xaxis": {
           "automargin": true,
           "gridcolor": "#EBF0F8",
           "linecolor": "#EBF0F8",
           "ticks": "",
           "title": {
            "standoff": 15
           },
           "zerolinecolor": "#EBF0F8",
           "zerolinewidth": 2
          },
          "yaxis": {
           "automargin": true,
           "gridcolor": "#EBF0F8",
           "linecolor": "#EBF0F8",
           "ticks": "",
           "title": {
            "standoff": 15
           },
           "zerolinecolor": "#EBF0F8",
           "zerolinewidth": 2
          }
         }
        },
        "title": {
         "text": "Amount of Collocates per Year Window"
        },
        "xaxis": {
         "tickangle": -45,
         "title": {
          "text": "Year Range"
         }
        },
        "yaxis": {
         "title": {
          "text": "Highest Number"
         }
        }
       }
      }
     },
     "metadata": {},
     "output_type": "display_data"
    }
   ],
   "source": [
    "import pandas as pd\n",
    "import plotly.graph_objects as go\n",
    "import os\n",
    "\n",
    "def find_highest_numbers_in_directory(directory_path):\n",
    "    highest_numbers = {}\n",
    "\n",
    "    for filename in os.listdir(directory_path):\n",
    "        if filename.endswith('.txt'):\n",
    "            file_path = os.path.join(directory_path, filename)\n",
    "            try:\n",
    "                with open(file_path, 'r', encoding='utf-8') as f:\n",
    "                    highest_number = 0  # Initialize highest number for the current file\n",
    "                    for line in f.readlines()[1:]:  # Skip the header line\n",
    "                        parts = line.split('\\t')\n",
    "                        if len(parts) > 0:  # Check if the line is properly formatted\n",
    "                            try:\n",
    "                                number = int(parts[0])  # Get the number from the first column\n",
    "                                highest_number = max(highest_number, number)  # Update highest number\n",
    "                            except ValueError:\n",
    "                                pass  # Ignore non-integer values\n",
    "                    \n",
    "                    # Store the highest number for the current file\n",
    "                    highest_numbers[filename] = highest_number\n",
    "\n",
    "            except PermissionError:\n",
    "                pass  # Ignore permission errors\n",
    "            except FileNotFoundError:\n",
    "                pass  # Ignore file not found errors\n",
    "            except Exception:\n",
    "                pass  # Ignore all other exceptions\n",
    "\n",
    "    return highest_numbers\n",
    "\n",
    "# Example usage\n",
    "collocate_directory_path = r\"collocate_results_combined_fact_10_window\"\n",
    "highest_numbers = find_highest_numbers_in_directory(collocate_directory_path)\n",
    "\n",
    "# Prepare the data for plotting\n",
    "df = pd.DataFrame(list(highest_numbers.items()), columns=['File', 'Highest Number'])\n",
    "\n",
    "# Modify the 'File' column to extract just the year range\n",
    "df['Year Range'] = df['File'].str.extract(r'(\\d{4}-\\d{4})')[0]  # Extract year range using regex\n",
    "df['Year Range'] = df['Year Range'].fillna(df['File'])  # In case of no match, keep the original filename\n",
    "\n",
    "# Create the interactive plot\n",
    "fig = go.Figure()\n",
    "\n",
    "# Add bars for each file's highest number\n",
    "fig.add_trace(go.Bar(\n",
    "    x=df['Year Range'],  # Use the modified Year Range for x-axis\n",
    "    y=df['Highest Number'],\n",
    "    marker=dict(color='blue'),\n",
    "    text=df['Highest Number'],  # Show counts on bars\n",
    "    textposition='auto',  # Position text on the bars\n",
    "    hovertemplate='Year Range: %{x}<br>%{y}<extra></extra>'  # Customize hover text\n",
    "))\n",
    "\n",
    "# Update layout\n",
    "fig.update_layout(\n",
    "    title='Amount of Collocates per Year Window',\n",
    "    xaxis_title='Year Range',\n",
    "    yaxis_title='Highest Number',\n",
    "    xaxis_tickangle=-45,  # Rotate x-axis labels for better visibility\n",
    "    template='plotly_white'\n",
    ")\n",
    "\n",
    "# Show the plot\n",
    "fig.show()\n"
   ]
  }
 ],
 "metadata": {
  "kernelspec": {
   "display_name": "Python 3",
   "language": "python",
   "name": "python3"
  },
  "language_info": {
   "codemirror_mode": {
    "name": "ipython",
    "version": 3
   },
   "file_extension": ".py",
   "mimetype": "text/x-python",
   "name": "python",
   "nbconvert_exporter": "python",
   "pygments_lexer": "ipython3",
   "version": "3.9.10"
  }
 },
 "nbformat": 4,
 "nbformat_minor": 2
}
