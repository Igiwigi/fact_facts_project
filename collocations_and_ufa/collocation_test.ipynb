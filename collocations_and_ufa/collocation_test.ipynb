{
 "cells": [
  {
   "cell_type": "markdown",
   "metadata": {},
   "source": [
    "To fix:\n",
    "- maybe use a better measure than pmi? (as in the original paper, yet example uses pmi for ufa)\n",
    "- consider combining the rstb and rstl datasets (do many versions? one with all, 3 separate and one with rstl and rstb combined?)\n",
    "- maybe make the 5L 5R account for punctuation? since now it takes from even the preceding sentence (check if this is important)\n",
    "- also make sure it was 5L and 5R AND NOT 3L and 3R\n",
    "\n",
    "\n",
    "- final file has some duplicate values, fix them (fixed in analysis)\n",
    "(154\tbehaviour\t12789\t4.59\t5\t1175\t0.12 and\n",
    "155\tbehaviour\t12789\t4.59\t5\t1175\t0.12)\n",
    "\n",
    "\n",
    "C5-NC5 indicates that the MI-score with the cut-off point three was used as the association measure (IN SCRIPT); the collocates were identified in the span of three words to the left (L3) and three words to the right (R3) of the node and the frequency threshold was five for both the collocate (C5) and the collocation (NC5). (frequency threshold exists)\n",
    "\n",
    "Generally, the smaller the span, the greater the focus of the analysis on the most immediate lexico-grammatical patterns; a larger span captures looser associations."
   ]
  },
  {
   "cell_type": "markdown",
   "metadata": {},
   "source": [
    "TESTING CONTEXTS"
   ]
  },
  {
   "cell_type": "code",
   "execution_count": 13,
   "metadata": {},
   "outputs": [
    {
     "name": "stdout",
     "output_type": "stream",
     "text": [
      "['matter' 'truth' 'certainty' ... 'fitness' 'affect' 'society']\n",
      "The keyword 'lsw' is found in the following document(s):\n",
      "collocate_results_combined_fact_10_window/csv_ver\\collocates_2013-2022.csv\n",
      "collocate_results_combined_fact_10_window/csv_ver\\collocates_2014-2023.csv\n",
      "collocate_results_combined_fact_10_window/csv_ver\\collocates_2015-2024.csv\n"
     ]
    }
   ],
   "source": [
    "import os\n",
    "import pandas as pd\n",
    "\n",
    "folder_path = \"collocate_results_combined_fact_10_window/csv_ver\"\n",
    "\n",
    "csv_files = [os.path.join(folder_path, f) for f in os.listdir(folder_path) if f.endswith('.csv')]\n",
    "combined_data = pd.concat([pd.read_csv(f) for f in csv_files], ignore_index=True)\n",
    "\n",
    "unique_words = combined_data['Word'].unique()\n",
    "print(unique_words)\n",
    "\n",
    "keyword = \"lsw\"\n",
    "keyword_docs = []\n",
    "\n",
    "for f in csv_files:\n",
    "    df = pd.read_csv(f)\n",
    "    if keyword in df['Word'].values:\n",
    "        keyword_docs.append(f)\n",
    "\n",
    "if keyword_docs:\n",
    "    print(f\"The keyword '{keyword}' is found in the following document(s):\")\n",
    "    for doc in keyword_docs:\n",
    "        print(doc)\n",
    "else:\n",
    "    print(f\"The keyword '{keyword}' is not found in any document.\")"
   ]
  },
  {
   "cell_type": "code",
   "execution_count": 1,
   "metadata": {},
   "outputs": [],
   "source": [
    "#scripts\n",
    "import pandas as pd\n",
    "import nltk\n",
    "from nltk.collocations import BigramCollocationFinder\n",
    "from nltk.metrics import BigramAssocMeasures\n",
    "from nltk.corpus import stopwords\n",
    "from nltk.tokenize import word_tokenize\n",
    "from nltk.stem import WordNetLemmatizer\n",
    "import string\n",
    "import csv\n",
    "import os\n",
    "import re\n",
    "from collections import defaultdict\n",
    "from concurrent.futures import ProcessPoolExecutor, as_completed\n",
    "from tqdm.notebook import tqdm\n",
    "import traceback\n",
    "\n",
    "#nltk.download('punkt_tab')\n",
    "#nltk.download('stopwords')\n",
    "stop_words = set(stopwords.words('english')).union({\"et\", 'al', \"tn\", 'one', 'two', 'three', 'four', 'five', 'six', 'seven', 'eight', 'nine', 'ten'})\n",
    "lemmatizer = WordNetLemmatizer()\n",
    "\n",
    "def extract_year_from_filename(filename):\n",
    "    match = re.search(r'rst[bla]?_?(\\d{4})', filename)\n",
    "    return int(match.group(1)) if match else None\n",
    "\n",
    "def process_file(file_path):\n",
    "    try:\n",
    "        year = extract_year_from_filename(os.path.basename(file_path))\n",
    "        if not year:\n",
    "            return None\n",
    "        with open(file_path, 'r', encoding='utf-8') as file:\n",
    "            text = file.read()\n",
    "        text = text.replace('ſ', 's').replace('Å¿', 's').replace('obseryed', 'observed').replace('thab', 'that')\n",
    "        return year, text\n",
    "    except Exception as e:\n",
    "        print(f\"Error processing file {file_path}: {str(e)}\")\n",
    "        return None\n",
    "\n",
    "def process_tokens(text):\n",
    "    tokens = word_tokenize(text.lower())\n",
    "    return [lemmatizer.lemmatize(token) for token in tokens \n",
    "            if token.isalpha() and len(token) > 1 and token not in stop_words and token not in string.punctuation]\n",
    "\n",
    "def process_window(window_data, word_of_interest, freq_filter, collocate_window): #add top_n at the end if using\n",
    "    try:\n",
    "        window_start, window_end, window_texts = window_data\n",
    "        all_tokens = [token for text in window_texts for token in process_tokens(text)]\n",
    "        \n",
    "        total_tokens = len(all_tokens)\n",
    "        total_texts = len(window_texts)\n",
    "        \n",
    "        finder = BigramCollocationFinder.from_words(all_tokens)\n",
    "        finder.apply_freq_filter(freq_filter)\n",
    "        \n",
    "        collocations = finder.score_ngrams(BigramAssocMeasures().pmi)\n",
    "        \n",
    "        collocate_stats = []\n",
    "        collocate_contexts = defaultdict(list)\n",
    "\n",
    "        word_of_interest_lower = word_of_interest.lower()\n",
    "        word_of_interest_freq = sum(finder.word_fd[word] for word in finder.word_fd if word.lower() == word_of_interest_lower)\n",
    "\n",
    "        for bigram, pmi in collocations:\n",
    "            if word_of_interest_lower in (word.lower() for word in bigram):\n",
    "                other_word = bigram[0] if bigram[1].lower() == word_of_interest_lower else bigram[1]\n",
    "                observed_freq = finder.ngram_fd[bigram]\n",
    "                word_freq = finder.word_fd[other_word]\n",
    "                expected_freq = (word_of_interest_freq * word_freq) / total_tokens\n",
    "                num_texts = sum(1 for text in window_texts if other_word.lower() in text.lower().split())\n",
    "                \n",
    "                if num_texts > 1:\n",
    "                    collocate_stats.append({\n",
    "                        'word': other_word,\n",
    "                        'total_corpus': word_freq,\n",
    "                        'expected_freq': expected_freq,\n",
    "                        'observed_freq': observed_freq,\n",
    "                        'num_texts': num_texts,\n",
    "                        'pmi': pmi\n",
    "                    })\n",
    "                    \n",
    "                    for text in window_texts:\n",
    "                        words = text.split()\n",
    "                        for i, word in enumerate(words):\n",
    "                            if word.lower() == word_of_interest_lower and other_word.lower() in [w.lower() for w in words[max(0, i-collocate_window):i+collocate_window+1]]:\n",
    "                                context = ' '.join(words[max(0, i-collocate_window):i+collocate_window+1]) # 5 word gap right now\n",
    "                                collocate_contexts[other_word].append((f\"Years {window_start}-{window_end}: {context}\", other_word))\n",
    "        \n",
    "        collocate_stats.sort(key=lambda x: x['pmi'], reverse=True)\n",
    "        top_collocates = collocate_stats#[:top_n] #take them all\n",
    "        \n",
    "        filtered_contexts = [context for collocate in top_collocates for context in collocate_contexts.get(collocate['word'], [])]\n",
    "        \n",
    "        return f\"{window_start}-{window_end}\", {\n",
    "            'collocates': top_collocates,\n",
    "            'total_tokens': total_tokens,\n",
    "            'total_texts': total_texts,\n",
    "            'contexts': filtered_contexts\n",
    "        }\n",
    "    except Exception as e:\n",
    "        print(f\"Error processing window {window_start}-{window_end}: {str(e)}\")\n",
    "        traceback.print_exc()\n",
    "        return None\n",
    "    "
   ]
  },
  {
   "cell_type": "code",
   "execution_count": 2,
   "metadata": {},
   "outputs": [
    {
     "name": "stdout",
     "output_type": "stream",
     "text": [
      "Starting text processing...\n"
     ]
    },
    {
     "ename": "FileNotFoundError",
     "evalue": "[WinError 3] The system cannot find the path specified: 'D:\\\\Fact_fiction_corpus\\\\texts\\\\royal society\\\\txt_rstb'",
     "output_type": "error",
     "traceback": [
      "\u001b[1;31m---------------------------------------------------------------------------\u001b[0m",
      "\u001b[1;31mFileNotFoundError\u001b[0m                         Traceback (most recent call last)",
      "Cell \u001b[1;32mIn[2], line 98\u001b[0m\n\u001b[0;32m     94\u001b[0m             writer\u001b[38;5;241m.\u001b[39mwriterows(data[\u001b[38;5;124m'\u001b[39m\u001b[38;5;124mcontexts\u001b[39m\u001b[38;5;124m'\u001b[39m])\n\u001b[0;32m     96\u001b[0m     \u001b[38;5;28mprint\u001b[39m(\u001b[38;5;124mf\u001b[39m\u001b[38;5;124m\"\u001b[39m\u001b[38;5;124mCollocate analysis completed. Results saved in the \u001b[39m\u001b[38;5;124m'\u001b[39m\u001b[38;5;132;01m{\u001b[39;00moutput_dir\u001b[38;5;132;01m}\u001b[39;00m\u001b[38;5;124m'\u001b[39m\u001b[38;5;124m directory.\u001b[39m\u001b[38;5;124m\"\u001b[39m)\n\u001b[1;32m---> 98\u001b[0m \u001b[43manalyze_collocates\u001b[49m\u001b[43m(\u001b[49m\u001b[43m[\u001b[49m\u001b[38;5;124;43mr\u001b[39;49m\u001b[38;5;124;43m\"\u001b[39;49m\u001b[38;5;124;43mD:\u001b[39;49m\u001b[38;5;124;43m\\\u001b[39;49m\u001b[38;5;124;43mFact_fiction_corpus\u001b[39;49m\u001b[38;5;124;43m\\\u001b[39;49m\u001b[38;5;124;43mtexts\u001b[39;49m\u001b[38;5;124;43m\\\u001b[39;49m\u001b[38;5;124;43mroyal society\u001b[39;49m\u001b[38;5;124;43m\\\u001b[39;49m\u001b[38;5;124;43mtxt_rstb\u001b[39;49m\u001b[38;5;124;43m\"\u001b[39;49m\u001b[43m,\u001b[49m\u001b[43m \u001b[49m\n\u001b[0;32m     99\u001b[0m \u001b[43m                     \u001b[49m\u001b[38;5;124;43mr\u001b[39;49m\u001b[38;5;124;43m\"\u001b[39;49m\u001b[38;5;124;43mD:\u001b[39;49m\u001b[38;5;124;43m\\\u001b[39;49m\u001b[38;5;124;43mFact_fiction_corpus\u001b[39;49m\u001b[38;5;124;43m\\\u001b[39;49m\u001b[38;5;124;43mtexts\u001b[39;49m\u001b[38;5;124;43m\\\u001b[39;49m\u001b[38;5;124;43mroyal society\u001b[39;49m\u001b[38;5;124;43m\\\u001b[39;49m\u001b[38;5;124;43mtxt_rstl\u001b[39;49m\u001b[38;5;124;43m\"\u001b[39;49m\u001b[43m,\u001b[49m\u001b[43m \u001b[49m\n\u001b[0;32m    100\u001b[0m \u001b[43m                     \u001b[49m\u001b[38;5;124;43mr\u001b[39;49m\u001b[38;5;124;43m\"\u001b[39;49m\u001b[38;5;124;43mD:\u001b[39;49m\u001b[38;5;124;43m\\\u001b[39;49m\u001b[38;5;124;43mFact_fiction_corpus\u001b[39;49m\u001b[38;5;124;43m\\\u001b[39;49m\u001b[38;5;124;43mtexts\u001b[39;49m\u001b[38;5;124;43m\\\u001b[39;49m\u001b[38;5;124;43mroyal society\u001b[39;49m\u001b[38;5;124;43m\\\u001b[39;49m\u001b[38;5;124;43mtxt_rsta\u001b[39;49m\u001b[38;5;124;43m\"\u001b[39;49m\u001b[43m]\u001b[49m\u001b[43m,\u001b[49m\u001b[43m \u001b[49m\n\u001b[0;32m    101\u001b[0m \u001b[43m                   \u001b[49m\u001b[38;5;124;43m\"\u001b[39;49m\u001b[38;5;124;43mcollocate_results_combined_fact_10_window_3LR\u001b[39;49m\u001b[38;5;124;43m\"\u001b[39;49m\u001b[43m,\u001b[49m\u001b[43m \u001b[49m\u001b[38;5;124;43m\"\u001b[39;49m\u001b[38;5;124;43mfact\u001b[39;49m\u001b[38;5;124;43m\"\u001b[39;49m\u001b[43m)\u001b[49m\n",
      "Cell \u001b[1;32mIn[2], line 34\u001b[0m, in \u001b[0;36manalyze_collocates\u001b[1;34m(text_dirs, output_dir, word_of_interest, window_size, collocate_window, freq_filter)\u001b[0m\n\u001b[0;32m     31\u001b[0m     \u001b[38;5;28;01mreturn\u001b[39;00m texts_by_year\n\u001b[0;32m     33\u001b[0m \u001b[38;5;28mprint\u001b[39m(\u001b[38;5;124m\"\u001b[39m\u001b[38;5;124mStarting text processing...\u001b[39m\u001b[38;5;124m\"\u001b[39m)\n\u001b[1;32m---> 34\u001b[0m texts_by_year \u001b[38;5;241m=\u001b[39m \u001b[43mread_texts_by_year\u001b[49m\u001b[43m(\u001b[49m\u001b[43mtext_dirs\u001b[49m\u001b[43m)\u001b[49m\n\u001b[0;32m     36\u001b[0m all_years \u001b[38;5;241m=\u001b[39m \u001b[38;5;28msorted\u001b[39m(texts_by_year\u001b[38;5;241m.\u001b[39mkeys())\n\u001b[0;32m     37\u001b[0m start_year, end_year \u001b[38;5;241m=\u001b[39m \u001b[38;5;28mmin\u001b[39m(all_years), \u001b[38;5;28mmax\u001b[39m(all_years)\n",
      "Cell \u001b[1;32mIn[2], line 22\u001b[0m, in \u001b[0;36manalyze_collocates.<locals>.read_texts_by_year\u001b[1;34m(directories)\u001b[0m\n\u001b[0;32m     20\u001b[0m \u001b[38;5;28;01mdef\u001b[39;00m \u001b[38;5;21mread_texts_by_year\u001b[39m(directories):\n\u001b[0;32m     21\u001b[0m     texts_by_year \u001b[38;5;241m=\u001b[39m defaultdict(\u001b[38;5;28mlist\u001b[39m)\n\u001b[1;32m---> 22\u001b[0m     file_paths \u001b[38;5;241m=\u001b[39m [os\u001b[38;5;241m.\u001b[39mpath\u001b[38;5;241m.\u001b[39mjoin(\u001b[38;5;28mdir\u001b[39m, f) \u001b[38;5;28;01mfor\u001b[39;00m \u001b[38;5;28mdir\u001b[39m \u001b[38;5;129;01min\u001b[39;00m directories \u001b[38;5;28;01mfor\u001b[39;00m f \u001b[38;5;129;01min\u001b[39;00m os\u001b[38;5;241m.\u001b[39mlistdir(\u001b[38;5;28mdir\u001b[39m) \u001b[38;5;28;01mif\u001b[39;00m f\u001b[38;5;241m.\u001b[39mendswith(\u001b[38;5;124m'\u001b[39m\u001b[38;5;124m.txt\u001b[39m\u001b[38;5;124m'\u001b[39m)]\n\u001b[0;32m     24\u001b[0m     \u001b[38;5;28mprint\u001b[39m(\u001b[38;5;124m\"\u001b[39m\u001b[38;5;124mReading files...\u001b[39m\u001b[38;5;124m\"\u001b[39m)\n\u001b[0;32m     25\u001b[0m     \u001b[38;5;28;01mfor\u001b[39;00m file_path \u001b[38;5;129;01min\u001b[39;00m tqdm(file_paths):\n",
      "Cell \u001b[1;32mIn[2], line 22\u001b[0m, in \u001b[0;36m<listcomp>\u001b[1;34m(.0)\u001b[0m\n\u001b[0;32m     20\u001b[0m \u001b[38;5;28;01mdef\u001b[39;00m \u001b[38;5;21mread_texts_by_year\u001b[39m(directories):\n\u001b[0;32m     21\u001b[0m     texts_by_year \u001b[38;5;241m=\u001b[39m defaultdict(\u001b[38;5;28mlist\u001b[39m)\n\u001b[1;32m---> 22\u001b[0m     file_paths \u001b[38;5;241m=\u001b[39m [os\u001b[38;5;241m.\u001b[39mpath\u001b[38;5;241m.\u001b[39mjoin(\u001b[38;5;28mdir\u001b[39m, f) \u001b[38;5;28;01mfor\u001b[39;00m \u001b[38;5;28mdir\u001b[39m \u001b[38;5;129;01min\u001b[39;00m directories \u001b[38;5;28;01mfor\u001b[39;00m f \u001b[38;5;129;01min\u001b[39;00m \u001b[43mos\u001b[49m\u001b[38;5;241;43m.\u001b[39;49m\u001b[43mlistdir\u001b[49m\u001b[43m(\u001b[49m\u001b[38;5;28;43mdir\u001b[39;49m\u001b[43m)\u001b[49m \u001b[38;5;28;01mif\u001b[39;00m f\u001b[38;5;241m.\u001b[39mendswith(\u001b[38;5;124m'\u001b[39m\u001b[38;5;124m.txt\u001b[39m\u001b[38;5;124m'\u001b[39m)]\n\u001b[0;32m     24\u001b[0m     \u001b[38;5;28mprint\u001b[39m(\u001b[38;5;124m\"\u001b[39m\u001b[38;5;124mReading files...\u001b[39m\u001b[38;5;124m\"\u001b[39m)\n\u001b[0;32m     25\u001b[0m     \u001b[38;5;28;01mfor\u001b[39;00m file_path \u001b[38;5;129;01min\u001b[39;00m tqdm(file_paths):\n",
      "\u001b[1;31mFileNotFoundError\u001b[0m: [WinError 3] The system cannot find the path specified: 'D:\\\\Fact_fiction_corpus\\\\texts\\\\royal society\\\\txt_rstb'"
     ]
    }
   ],
   "source": [
    "#txt file creating version\n",
    "import pandas as pd\n",
    "import nltk\n",
    "from nltk.collocations import BigramCollocationFinder\n",
    "from nltk.metrics import BigramAssocMeasures\n",
    "from nltk.corpus import stopwords\n",
    "from nltk.tokenize import word_tokenize\n",
    "from nltk.stem import WordNetLemmatizer\n",
    "import string\n",
    "import csv\n",
    "import os\n",
    "import re\n",
    "from collections import defaultdict\n",
    "from concurrent.futures import ProcessPoolExecutor, as_completed\n",
    "from tqdm.notebook import tqdm\n",
    "import traceback\n",
    "\n",
    "\n",
    "def analyze_collocates(text_dirs, output_dir, word_of_interest, window_size=10, collocate_window=3, freq_filter=5):\n",
    "    def read_texts_by_year(directories):\n",
    "        texts_by_year = defaultdict(list)\n",
    "        file_paths = [os.path.join(dir, f) for dir in directories for f in os.listdir(dir) if f.endswith('.txt')]\n",
    "        \n",
    "        print(\"Reading files...\")\n",
    "        for file_path in tqdm(file_paths):\n",
    "            result = process_file(file_path)\n",
    "            if result:\n",
    "                year, text = result\n",
    "                texts_by_year[year].append(text)\n",
    "        \n",
    "        return texts_by_year\n",
    "\n",
    "    print(\"Starting text processing...\")\n",
    "    texts_by_year = read_texts_by_year(text_dirs)\n",
    "    \n",
    "    all_years = sorted(texts_by_year.keys())\n",
    "    start_year, end_year = min(all_years), max(all_years)\n",
    "\n",
    "    window_data = [\n",
    "        (window_start, window_start + window_size - 1, \n",
    "         [text for year in range(window_start, window_start + window_size) for text in texts_by_year.get(year, [])])\n",
    "        for window_start in range(start_year, end_year - window_size + 2)\n",
    "    ]\n",
    "\n",
    "    collocates_by_window = {}\n",
    "    print(\"Processing windows...\")\n",
    "    for data in tqdm(window_data):\n",
    "        result = process_window(data, word_of_interest, freq_filter, collocate_window)\n",
    "        if result:\n",
    "            window, window_result = result\n",
    "            collocates_by_window[window] = window_result\n",
    "\n",
    "    os.makedirs(output_dir, exist_ok=True)\n",
    "    print(\"Saving results to CSV and TXT files...\")\n",
    "\n",
    "    for window, data in collocates_by_window.items():\n",
    "        # Save CSV file\n",
    "        csv_filename = os.path.join(output_dir, f'collocates_{window}.csv')\n",
    "        with open(csv_filename, 'w', newline='', encoding='utf-8') as csvfile:\n",
    "            writer = csv.writer(csvfile)\n",
    "            writer.writerow(['No.', 'Word', 'Total no. in window corpus', 'Expected collocate frequency',\n",
    "                             'Observed collocate frequency', 'In no. of texts', 'Mutual Information value'])\n",
    "            \n",
    "            for i, collocate in enumerate(data['collocates'], 1):\n",
    "                writer.writerow([\n",
    "                    i,\n",
    "                    collocate['word'],\n",
    "                    collocate['total_corpus'],\n",
    "                    f\"{collocate['expected_freq']:.2f}\",\n",
    "                    collocate['observed_freq'],\n",
    "                    collocate['num_texts'],\n",
    "                    f\"{collocate['pmi']:.2f}\"\n",
    "                ])\n",
    "\n",
    "        txt_filename = os.path.join(output_dir, f'collocates_txt_{window}.txt')\n",
    "        with open(txt_filename, 'w', encoding='utf-8') as txtfile:\n",
    "            txtfile.write(\"https://example.com/collocation-analysis\")\n",
    "            txtfile.write(f\"There are {data['total_tokens']} different words in your collocation database for \\\"{word_of_interest}\\\". \")\n",
    "            txtfile.write(f\"(Your query returned {sum(c['observed_freq'] for c in data['collocates'])} matches in {data['total_texts']} different texts)\\n\")\n",
    "            txtfile.write(\"__________________\\n\\n\")\n",
    "            \n",
    "            txtfile.write(\"No.\\tWord\\tTotal no. in whole corpus\\tExpected collocate frequency\\t\")\n",
    "            txtfile.write(\"Observed collocate frequency\\tIn no. of texts\\tMutual information value\\n\\n\")\n",
    "            \n",
    "            for i, collocate in enumerate(data['collocates'], 1):\n",
    "                txtfile.write(f\"{i}\\t{collocate['word']}\\t{collocate['total_corpus']}\\t\")\n",
    "                txtfile.write(f\"{collocate['expected_freq']:.2f}\\t{collocate['observed_freq']}\\t\")\n",
    "                txtfile.write(f\"{collocate['num_texts']}\\t{collocate['pmi']:.2f}\\n\")\n",
    "\n",
    "        context_file = os.path.join(output_dir, f'collocate_contexts_{window}.csv')\n",
    "        with open(context_file, 'w', newline='', encoding='utf-8') as csvfile:\n",
    "            writer = csv.writer(csvfile)\n",
    "            writer.writerow(['Context', 'Collocate'])\n",
    "            writer.writerows(data['contexts'])\n",
    "\n",
    "    print(f\"Collocate analysis completed. Results saved in the '{output_dir}' directory.\")\n",
    "\n",
    "analyze_collocates([r\"D:\\Fact_fiction_corpus\\texts\\royal society\\txt_rstb\", \n",
    "                     r\"D:\\Fact_fiction_corpus\\texts\\royal society\\txt_rstl\", \n",
    "                     r\"D:\\Fact_fiction_corpus\\texts\\royal society\\txt_rsta\"], \n",
    "                   \"collocate_results_combined_fact_10_window_3LR\", \"fact\")"
   ]
  },
  {
   "cell_type": "markdown",
   "metadata": {},
   "source": [
    "---\n",
    "extra stuff\n",
    "---"
   ]
  },
  {
   "cell_type": "code",
   "execution_count": 42,
   "metadata": {},
   "outputs": [
    {
     "data": {
      "text/plain": [
       "0"
      ]
     },
     "execution_count": 42,
     "metadata": {},
     "output_type": "execute_result"
    }
   ],
   "source": [
    "#so my pc turns off eventually\n",
    "import os\n",
    "import time\n",
    "\n",
    "time.sleep(100)\n",
    "os.system(\"shutdown /s /t 1\")"
   ]
  },
  {
   "cell_type": "code",
   "execution_count": 1,
   "metadata": {},
   "outputs": [
    {
     "name": "stdout",
     "output_type": "stream",
     "text": [
      "Detected delimiter: ,\n"
     ]
    }
   ],
   "source": [
    "#checking delimiter type\n",
    "import re\n",
    "from collections import defaultdict\n",
    "\n",
    "def get_file_delimiter(file, check_lines=2):\n",
    "    delimiters = [',', '\\t', ';', '|', ':']\n",
    "    results = defaultdict(int)\n",
    "\n",
    "    with open(file, 'r') as f:\n",
    "        for i, line in enumerate(f):\n",
    "            if i > check_lines:\n",
    "                break\n",
    "            for delimiter in delimiters:\n",
    "                # Use re.split to split based on the delimiter\n",
    "                fields = re.split(re.escape(delimiter), line)\n",
    "                if len(fields) > 1:\n",
    "                    results[delimiter] += 1\n",
    "\n",
    "    # Get the delimiter with the maximum count\n",
    "    best_delimiter = max(results, key=results.get)\n",
    "    return best_delimiter\n",
    "\n",
    "# Example usage:\n",
    "file_path = 'collocate_results_combined_fact2/collocates_2015-2019.csv'\n",
    "delimiter = get_file_delimiter(file_path)\n",
    "print(f\"Detected delimiter: {delimiter}\")\n"
   ]
  },
  {
   "cell_type": "code",
   "execution_count": 29,
   "metadata": {},
   "outputs": [
    {
     "name": "stdout",
     "output_type": "stream",
     "text": [
      "Counting files in year windows...\n"
     ]
    },
    {
     "name": "stderr",
     "output_type": "stream",
     "text": [
      "100%|██████████| 18194/18194 [00:00<00:00, 162258.54it/s]\n"
     ]
    },
    {
     "data": {
      "application/vnd.plotly.v1+json": {
       "config": {
        "plotlyServerURL": "https://plot.ly"
       },
       "data": [
        {
         "hoverinfo": "text",
         "marker": {
          "color": [
           "blue",
           "blue",
           "red",
           "blue",
           "blue",
           "blue",
           "blue",
           "blue",
           "blue",
           "blue",
           "blue",
           "blue",
           "blue",
           "red",
           "red",
           "red",
           "red",
           "red",
           "orange",
           "blue",
           "blue",
           "blue",
           "red",
           "red",
           "red",
           "red",
           "red",
           "red",
           "orange",
           "blue",
           "blue",
           "red",
           "red",
           "blue",
           "blue",
           "blue",
           "red",
           "blue",
           "red",
           "blue",
           "red",
           "blue",
           "red",
           "blue",
           "red",
           "blue",
           "red",
           "red",
           "blue",
           "blue",
           "red",
           "red",
           "blue",
           "red",
           "red",
           "blue",
           "red",
           "blue",
           "red",
           "blue",
           "red",
           "blue",
           "blue",
           "red",
           "blue",
           "red",
           "blue",
           "red",
           "blue",
           "red",
           "blue",
           "red",
           "blue",
           "red",
           "blue",
           "red",
           "red",
           "blue",
           "red",
           "blue",
           "red",
           "blue",
           "red",
           "blue",
           "blue",
           "red",
           "blue",
           "red",
           "blue",
           "red",
           "blue",
           "red",
           "blue",
           "red",
           "blue",
           "red",
           "blue",
           "red",
           "blue",
           "blue",
           "blue",
           "blue",
           "blue",
           "blue",
           "blue",
           "blue",
           "blue",
           "blue",
           "blue",
           "blue",
           "blue",
           "blue",
           "blue",
           "blue",
           "blue",
           "blue",
           "blue",
           "blue",
           "blue",
           "blue",
           "blue",
           "blue",
           "blue",
           "blue",
           "blue",
           "blue",
           "blue",
           "blue",
           "blue",
           "blue",
           "blue",
           "blue",
           "blue",
           "blue",
           "blue",
           "blue",
           "blue",
           "blue",
           "blue",
           "blue",
           "blue",
           "blue",
           "blue",
           "blue",
           "blue",
           "blue",
           "blue",
           "blue",
           "blue",
           "blue",
           "blue",
           "blue",
           "blue",
           "blue",
           "blue",
           "blue",
           "blue",
           "blue",
           "blue",
           "blue",
           "blue",
           "blue",
           "blue",
           "blue",
           "blue",
           "blue",
           "blue",
           "blue",
           "blue",
           "blue",
           "blue",
           "blue",
           "blue",
           "blue",
           "blue",
           "blue",
           "blue",
           "blue",
           "blue",
           "blue",
           "orange",
           "orange",
           "orange",
           "orange",
           "blue",
           "blue",
           "blue",
           "blue",
           "blue",
           "blue",
           "blue",
           "blue",
           "blue",
           "blue",
           "blue",
           "blue",
           "blue",
           "blue",
           "blue",
           "blue",
           "blue",
           "blue",
           "blue",
           "blue",
           "blue",
           "blue",
           "blue",
           "blue",
           "blue",
           "blue",
           "blue",
           "blue",
           "blue",
           "red",
           "blue",
           "blue",
           "blue",
           "blue",
           "blue",
           "blue",
           "blue",
           "blue",
           "blue",
           "blue",
           "blue",
           "orange",
           "blue",
           "orange",
           "blue",
           "blue",
           "blue",
           "blue",
           "blue",
           "blue",
           "blue",
           "blue",
           "blue",
           "blue",
           "blue",
           "blue",
           "blue",
           "blue",
           "red",
           "blue",
           "blue",
           "red",
           "orange",
           "blue",
           "orange",
           "blue",
           "blue",
           "blue",
           "red",
           "blue",
           "orange",
           "orange",
           "orange",
           "orange",
           "orange",
           "orange",
           "orange",
           "orange",
           "orange",
           "orange",
           "orange",
           "orange",
           "blue",
           "blue",
           "blue",
           "blue",
           "blue",
           "blue",
           "blue",
           "blue",
           "blue",
           "blue",
           "orange",
           "orange",
           "orange",
           "orange",
           "orange",
           "orange",
           "orange",
           "orange",
           "orange",
           "blue",
           "blue",
           "blue",
           "blue",
           "blue",
           "red",
           "red",
           "red",
           "red",
           "red",
           "orange",
           "red",
           "red",
           "red",
           "red",
           "orange",
           "orange",
           "red",
           "red",
           "red",
           "orange",
           "red",
           "orange",
           "red",
           "orange",
           "orange",
           "orange",
           "orange",
           "red",
           "orange",
           "orange",
           "red",
           "red",
           "red",
           "red",
           "red",
           "orange",
           "orange",
           "orange",
           "red",
           "orange",
           "orange",
           "red",
           "orange",
           "orange",
           "orange",
           "orange",
           "orange",
           "orange",
           "orange",
           "blue",
           "blue",
           "blue",
           "blue",
           "blue",
           "blue",
           "blue",
           "blue",
           "blue",
           "blue",
           "blue",
           "blue",
           "blue",
           "blue",
           "blue",
           "blue",
           "blue",
           "blue",
           "blue",
           "blue",
           "blue",
           "blue",
           "blue",
           "blue",
           "blue"
          ],
          "line": {
           "color": "black",
           "width": 1
          },
          "size": 10
         },
         "mode": "markers+lines",
         "text": [
          "Year: 1665<br>Count: 158",
          "Year: 1666<br>Count: 231",
          "Year: 1667<br>Count: 0",
          "Year: 1668<br>Count: 303",
          "Year: 1669<br>Count: 372",
          "Year: 1670<br>Count: 288",
          "Year: 1671<br>Count: 291",
          "Year: 1672<br>Count: 361",
          "Year: 1673<br>Count: 354",
          "Year: 1674<br>Count: 342",
          "Year: 1675<br>Count: 334",
          "Year: 1676<br>Count: 317",
          "Year: 1677<br>Count: 326",
          "Year: 1678<br>Count: 0",
          "Year: 1679<br>Count: 0",
          "Year: 1680<br>Count: 0",
          "Year: 1681<br>Count: 0",
          "Year: 1682<br>Count: 0",
          "Year: 1683<br>Count: 61",
          "Year: 1684<br>Count: 154",
          "Year: 1685<br>Count: 261",
          "Year: 1686<br>Count: 374",
          "Year: 1687<br>Count: 0",
          "Year: 1688<br>Count: 0",
          "Year: 1689<br>Count: 0",
          "Year: 1690<br>Count: 0",
          "Year: 1691<br>Count: 0",
          "Year: 1692<br>Count: 0",
          "Year: 1693<br>Count: 93",
          "Year: 1694<br>Count: 147",
          "Year: 1695<br>Count: 303",
          "Year: 1696<br>Count: 0",
          "Year: 1697<br>Count: 0",
          "Year: 1698<br>Count: 318",
          "Year: 1699<br>Count: 350",
          "Year: 1700<br>Count: 319",
          "Year: 1701<br>Count: 0",
          "Year: 1702<br>Count: 397",
          "Year: 1703<br>Count: 0",
          "Year: 1704<br>Count: 319",
          "Year: 1705<br>Count: 0",
          "Year: 1706<br>Count: 262",
          "Year: 1707<br>Count: 0",
          "Year: 1708<br>Count: 262",
          "Year: 1709<br>Count: 0",
          "Year: 1710<br>Count: 221",
          "Year: 1711<br>Count: 0",
          "Year: 1712<br>Count: 0",
          "Year: 1713<br>Count: 116",
          "Year: 1714<br>Count: 189",
          "Year: 1715<br>Count: 0",
          "Year: 1716<br>Count: 0",
          "Year: 1717<br>Count: 195",
          "Year: 1718<br>Count: 0",
          "Year: 1719<br>Count: 0",
          "Year: 1720<br>Count: 144",
          "Year: 1721<br>Count: 0",
          "Year: 1722<br>Count: 164",
          "Year: 1723<br>Count: 0",
          "Year: 1724<br>Count: 245",
          "Year: 1725<br>Count: 0",
          "Year: 1726<br>Count: 242",
          "Year: 1727<br>Count: 210",
          "Year: 1728<br>Count: 0",
          "Year: 1729<br>Count: 197",
          "Year: 1730<br>Count: 0",
          "Year: 1731<br>Count: 216",
          "Year: 1732<br>Count: 0",
          "Year: 1733<br>Count: 216",
          "Year: 1734<br>Count: 0",
          "Year: 1735<br>Count: 239",
          "Year: 1736<br>Count: 0",
          "Year: 1737<br>Count: 247",
          "Year: 1738<br>Count: 0",
          "Year: 1739<br>Count: 358",
          "Year: 1740<br>Count: 0",
          "Year: 1741<br>Count: 0",
          "Year: 1742<br>Count: 289",
          "Year: 1743<br>Count: 0",
          "Year: 1744<br>Count: 226",
          "Year: 1745<br>Count: 0",
          "Year: 1746<br>Count: 355",
          "Year: 1747<br>Count: 0",
          "Year: 1748<br>Count: 324",
          "Year: 1749<br>Count: 385",
          "Year: 1750<br>Count: 0",
          "Year: 1751<br>Count: 357",
          "Year: 1752<br>Count: 0",
          "Year: 1753<br>Count: 389",
          "Year: 1754<br>Count: 0",
          "Year: 1755<br>Count: 331",
          "Year: 1756<br>Count: 0",
          "Year: 1757<br>Count: 348",
          "Year: 1758<br>Count: 0",
          "Year: 1759<br>Count: 328",
          "Year: 1760<br>Count: 0",
          "Year: 1761<br>Count: 320",
          "Year: 1762<br>Count: 0",
          "Year: 1763<br>Count: 260",
          "Year: 1764<br>Count: 230",
          "Year: 1765<br>Count: 266",
          "Year: 1766<br>Count: 198",
          "Year: 1767<br>Count: 251",
          "Year: 1768<br>Count: 245",
          "Year: 1769<br>Count: 256",
          "Year: 1770<br>Count: 275",
          "Year: 1771<br>Count: 290",
          "Year: 1772<br>Count: 274",
          "Year: 1773<br>Count: 264",
          "Year: 1774<br>Count: 246",
          "Year: 1775<br>Count: 242",
          "Year: 1776<br>Count: 229",
          "Year: 1777<br>Count: 232",
          "Year: 1778<br>Count: 242",
          "Year: 1779<br>Count: 230",
          "Year: 1780<br>Count: 214",
          "Year: 1781<br>Count: 228",
          "Year: 1782<br>Count: 220",
          "Year: 1783<br>Count: 197",
          "Year: 1784<br>Count: 199",
          "Year: 1785<br>Count: 192",
          "Year: 1786<br>Count: 162",
          "Year: 1787<br>Count: 173",
          "Year: 1788<br>Count: 175",
          "Year: 1789<br>Count: 158",
          "Year: 1790<br>Count: 159",
          "Year: 1791<br>Count: 156",
          "Year: 1792<br>Count: 139",
          "Year: 1793<br>Count: 129",
          "Year: 1794<br>Count: 135",
          "Year: 1795<br>Count: 129",
          "Year: 1796<br>Count: 126",
          "Year: 1797<br>Count: 125",
          "Year: 1798<br>Count: 130",
          "Year: 1799<br>Count: 118",
          "Year: 1800<br>Count: 116",
          "Year: 1801<br>Count: 118",
          "Year: 1802<br>Count: 115",
          "Year: 1803<br>Count: 107",
          "Year: 1804<br>Count: 106",
          "Year: 1805<br>Count: 111",
          "Year: 1806<br>Count: 111",
          "Year: 1807<br>Count: 107",
          "Year: 1808<br>Count: 113",
          "Year: 1809<br>Count: 124",
          "Year: 1810<br>Count: 117",
          "Year: 1811<br>Count: 112",
          "Year: 1812<br>Count: 119",
          "Year: 1813<br>Count: 131",
          "Year: 1814<br>Count: 135",
          "Year: 1815<br>Count: 142",
          "Year: 1816<br>Count: 149",
          "Year: 1817<br>Count: 154",
          "Year: 1818<br>Count: 147",
          "Year: 1819<br>Count: 138",
          "Year: 1820<br>Count: 137",
          "Year: 1821<br>Count: 140",
          "Year: 1822<br>Count: 147",
          "Year: 1823<br>Count: 152",
          "Year: 1824<br>Count: 156",
          "Year: 1825<br>Count: 159",
          "Year: 1826<br>Count: 177",
          "Year: 1827<br>Count: 168",
          "Year: 1828<br>Count: 159",
          "Year: 1829<br>Count: 163",
          "Year: 1830<br>Count: 163",
          "Year: 1831<br>Count: 144",
          "Year: 1832<br>Count: 145",
          "Year: 1833<br>Count: 152",
          "Year: 1834<br>Count: 151",
          "Year: 1835<br>Count: 146",
          "Year: 1836<br>Count: 145",
          "Year: 1837<br>Count: 142",
          "Year: 1838<br>Count: 133",
          "Year: 1839<br>Count: 126",
          "Year: 1840<br>Count: 130",
          "Year: 1841<br>Count: 126",
          "Year: 1842<br>Count: 118",
          "Year: 1843<br>Count: 113",
          "Year: 1844<br>Count: 101",
          "Year: 1845<br>Count: 92",
          "Year: 1846<br>Count: 97",
          "Year: 1847<br>Count: 96",
          "Year: 1848<br>Count: 97",
          "Year: 1849<br>Count: 109",
          "Year: 1850<br>Count: 131",
          "Year: 1851<br>Count: 137",
          "Year: 1852<br>Count: 144",
          "Year: 1853<br>Count: 145",
          "Year: 1854<br>Count: 136",
          "Year: 1855<br>Count: 114",
          "Year: 1856<br>Count: 112",
          "Year: 1857<br>Count: 127",
          "Year: 1858<br>Count: 145",
          "Year: 1859<br>Count: 165",
          "Year: 1860<br>Count: 175",
          "Year: 1861<br>Count: 172",
          "Year: 1862<br>Count: 178",
          "Year: 1863<br>Count: 171",
          "Year: 1864<br>Count: 155",
          "Year: 1865<br>Count: 145",
          "Year: 1866<br>Count: 141",
          "Year: 1867<br>Count: 119",
          "Year: 1868<br>Count: 119",
          "Year: 1869<br>Count: 133",
          "Year: 1870<br>Count: 140",
          "Year: 1871<br>Count: 136",
          "Year: 1872<br>Count: 132",
          "Year: 1873<br>Count: 120",
          "Year: 1874<br>Count: 111",
          "Year: 1875<br>Count: 109",
          "Year: 1876<br>Count: 114",
          "Year: 1877<br>Count: 114",
          "Year: 1878<br>Count: 0",
          "Year: 1879<br>Count: 148",
          "Year: 1880<br>Count: 152",
          "Year: 1881<br>Count: 144",
          "Year: 1882<br>Count: 154",
          "Year: 1883<br>Count: 184",
          "Year: 1884<br>Count: 129",
          "Year: 1885<br>Count: 120",
          "Year: 1886<br>Count: 122",
          "Year: 1887<br>Count: 127",
          "Year: 1888<br>Count: 121",
          "Year: 1889<br>Count: 109",
          "Year: 1890<br>Count: 99",
          "Year: 1891<br>Count: 100",
          "Year: 1892<br>Count: 94",
          "Year: 1893<br>Count: 102",
          "Year: 1894<br>Count: 135",
          "Year: 1895<br>Count: 168",
          "Year: 1896<br>Count: 168",
          "Year: 1897<br>Count: 178",
          "Year: 1898<br>Count: 168",
          "Year: 1899<br>Count: 143",
          "Year: 1900<br>Count: 145",
          "Year: 1901<br>Count: 158",
          "Year: 1902<br>Count: 139",
          "Year: 1903<br>Count: 146",
          "Year: 1904<br>Count: 161",
          "Year: 1905<br>Count: 146",
          "Year: 1906<br>Count: 146",
          "Year: 1907<br>Count: 0",
          "Year: 1908<br>Count: 135",
          "Year: 1909<br>Count: 129",
          "Year: 1910<br>Count: 0",
          "Year: 1911<br>Count: 83",
          "Year: 1912<br>Count: 106",
          "Year: 1913<br>Count: 89",
          "Year: 1914<br>Count: 106",
          "Year: 1915<br>Count: 129",
          "Year: 1916<br>Count: 133",
          "Year: 1917<br>Count: 0",
          "Year: 1918<br>Count: 112",
          "Year: 1919<br>Count: 77",
          "Year: 1920<br>Count: 75",
          "Year: 1921<br>Count: 73",
          "Year: 1922<br>Count: 83",
          "Year: 1923<br>Count: 79",
          "Year: 1924<br>Count: 88",
          "Year: 1925<br>Count: 75",
          "Year: 1926<br>Count: 73",
          "Year: 1927<br>Count: 82",
          "Year: 1928<br>Count: 83",
          "Year: 1929<br>Count: 83",
          "Year: 1930<br>Count: 96",
          "Year: 1931<br>Count: 108",
          "Year: 1932<br>Count: 121",
          "Year: 1933<br>Count: 114",
          "Year: 1934<br>Count: 138",
          "Year: 1935<br>Count: 151",
          "Year: 1936<br>Count: 147",
          "Year: 1937<br>Count: 137",
          "Year: 1938<br>Count: 145",
          "Year: 1939<br>Count: 121",
          "Year: 1940<br>Count: 101",
          "Year: 1941<br>Count: 82",
          "Year: 1942<br>Count: 65",
          "Year: 1943<br>Count: 46",
          "Year: 1944<br>Count: 32",
          "Year: 1945<br>Count: 23",
          "Year: 1946<br>Count: 24",
          "Year: 1947<br>Count: 33",
          "Year: 1948<br>Count: 65",
          "Year: 1949<br>Count: 75",
          "Year: 1950<br>Count: 100",
          "Year: 1951<br>Count: 119",
          "Year: 1952<br>Count: 142",
          "Year: 1953<br>Count: 133",
          "Year: 1954<br>Count: 135",
          "Year: 1955<br>Count: 0",
          "Year: 1956<br>Count: 0",
          "Year: 1957<br>Count: 0",
          "Year: 1958<br>Count: 0",
          "Year: 1959<br>Count: 0",
          "Year: 1960<br>Count: 1",
          "Year: 1961<br>Count: 0",
          "Year: 1962<br>Count: 0",
          "Year: 1963<br>Count: 0",
          "Year: 1964<br>Count: 0",
          "Year: 1965<br>Count: 1",
          "Year: 1966<br>Count: 3",
          "Year: 1967<br>Count: 0",
          "Year: 1968<br>Count: 0",
          "Year: 1969<br>Count: 0",
          "Year: 1970<br>Count: 3",
          "Year: 1971<br>Count: 0",
          "Year: 1972<br>Count: 2",
          "Year: 1973<br>Count: 0",
          "Year: 1974<br>Count: 3",
          "Year: 1975<br>Count: 3",
          "Year: 1976<br>Count: 4",
          "Year: 1977<br>Count: 5",
          "Year: 1978<br>Count: 0",
          "Year: 1979<br>Count: 5",
          "Year: 1980<br>Count: 5",
          "Year: 1981<br>Count: 0",
          "Year: 1982<br>Count: 0",
          "Year: 1983<br>Count: 0",
          "Year: 1984<br>Count: 0",
          "Year: 1985<br>Count: 0",
          "Year: 1986<br>Count: 3",
          "Year: 1987<br>Count: 4",
          "Year: 1988<br>Count: 5",
          "Year: 1989<br>Count: 0",
          "Year: 1990<br>Count: 6",
          "Year: 1991<br>Count: 5",
          "Year: 1992<br>Count: 0",
          "Year: 1993<br>Count: 7",
          "Year: 1994<br>Count: 12",
          "Year: 1995<br>Count: 15",
          "Year: 1996<br>Count: 22",
          "Year: 1997<br>Count: 44",
          "Year: 1998<br>Count: 57",
          "Year: 1999<br>Count: 79",
          "Year: 2000<br>Count: 104",
          "Year: 2001<br>Count: 124",
          "Year: 2002<br>Count: 126",
          "Year: 2003<br>Count: 138",
          "Year: 2004<br>Count: 128",
          "Year: 2005<br>Count: 118",
          "Year: 2006<br>Count: 125",
          "Year: 2007<br>Count: 167",
          "Year: 2008<br>Count: 307",
          "Year: 2009<br>Count: 396",
          "Year: 2010<br>Count: 519",
          "Year: 2011<br>Count: 628",
          "Year: 2012<br>Count: 761",
          "Year: 2013<br>Count: 978",
          "Year: 2014<br>Count: 1561",
          "Year: 2015<br>Count: 2244",
          "Year: 2016<br>Count: 2914",
          "Year: 2017<br>Count: 3452",
          "Year: 2018<br>Count: 3652",
          "Year: 2019<br>Count: 4067",
          "Year: 2020<br>Count: 4021",
          "Year: 2021<br>Count: 3883",
          "Year: 2022<br>Count: 3564",
          "Year: 2023<br>Count: 3024",
          "Year: 2024<br>Count: 1921"
         ],
         "type": "scatter",
         "x": [
          1665,
          1666,
          1667,
          1668,
          1669,
          1670,
          1671,
          1672,
          1673,
          1674,
          1675,
          1676,
          1677,
          1678,
          1679,
          1680,
          1681,
          1682,
          1683,
          1684,
          1685,
          1686,
          1687,
          1688,
          1689,
          1690,
          1691,
          1692,
          1693,
          1694,
          1695,
          1696,
          1697,
          1698,
          1699,
          1700,
          1701,
          1702,
          1703,
          1704,
          1705,
          1706,
          1707,
          1708,
          1709,
          1710,
          1711,
          1712,
          1713,
          1714,
          1715,
          1716,
          1717,
          1718,
          1719,
          1720,
          1721,
          1722,
          1723,
          1724,
          1725,
          1726,
          1727,
          1728,
          1729,
          1730,
          1731,
          1732,
          1733,
          1734,
          1735,
          1736,
          1737,
          1738,
          1739,
          1740,
          1741,
          1742,
          1743,
          1744,
          1745,
          1746,
          1747,
          1748,
          1749,
          1750,
          1751,
          1752,
          1753,
          1754,
          1755,
          1756,
          1757,
          1758,
          1759,
          1760,
          1761,
          1762,
          1763,
          1764,
          1765,
          1766,
          1767,
          1768,
          1769,
          1770,
          1771,
          1772,
          1773,
          1774,
          1775,
          1776,
          1777,
          1778,
          1779,
          1780,
          1781,
          1782,
          1783,
          1784,
          1785,
          1786,
          1787,
          1788,
          1789,
          1790,
          1791,
          1792,
          1793,
          1794,
          1795,
          1796,
          1797,
          1798,
          1799,
          1800,
          1801,
          1802,
          1803,
          1804,
          1805,
          1806,
          1807,
          1808,
          1809,
          1810,
          1811,
          1812,
          1813,
          1814,
          1815,
          1816,
          1817,
          1818,
          1819,
          1820,
          1821,
          1822,
          1823,
          1824,
          1825,
          1826,
          1827,
          1828,
          1829,
          1830,
          1831,
          1832,
          1833,
          1834,
          1835,
          1836,
          1837,
          1838,
          1839,
          1840,
          1841,
          1842,
          1843,
          1844,
          1845,
          1846,
          1847,
          1848,
          1849,
          1850,
          1851,
          1852,
          1853,
          1854,
          1855,
          1856,
          1857,
          1858,
          1859,
          1860,
          1861,
          1862,
          1863,
          1864,
          1865,
          1866,
          1867,
          1868,
          1869,
          1870,
          1871,
          1872,
          1873,
          1874,
          1875,
          1876,
          1877,
          1878,
          1879,
          1880,
          1881,
          1882,
          1883,
          1884,
          1885,
          1886,
          1887,
          1888,
          1889,
          1890,
          1891,
          1892,
          1893,
          1894,
          1895,
          1896,
          1897,
          1898,
          1899,
          1900,
          1901,
          1902,
          1903,
          1904,
          1905,
          1906,
          1907,
          1908,
          1909,
          1910,
          1911,
          1912,
          1913,
          1914,
          1915,
          1916,
          1917,
          1918,
          1919,
          1920,
          1921,
          1922,
          1923,
          1924,
          1925,
          1926,
          1927,
          1928,
          1929,
          1930,
          1931,
          1932,
          1933,
          1934,
          1935,
          1936,
          1937,
          1938,
          1939,
          1940,
          1941,
          1942,
          1943,
          1944,
          1945,
          1946,
          1947,
          1948,
          1949,
          1950,
          1951,
          1952,
          1953,
          1954,
          1955,
          1956,
          1957,
          1958,
          1959,
          1960,
          1961,
          1962,
          1963,
          1964,
          1965,
          1966,
          1967,
          1968,
          1969,
          1970,
          1971,
          1972,
          1973,
          1974,
          1975,
          1976,
          1977,
          1978,
          1979,
          1980,
          1981,
          1982,
          1983,
          1984,
          1985,
          1986,
          1987,
          1988,
          1989,
          1990,
          1991,
          1992,
          1993,
          1994,
          1995,
          1996,
          1997,
          1998,
          1999,
          2000,
          2001,
          2002,
          2003,
          2004,
          2005,
          2006,
          2007,
          2008,
          2009,
          2010,
          2011,
          2012,
          2013,
          2014,
          2015,
          2016,
          2017,
          2018,
          2019,
          2020,
          2021,
          2022,
          2023,
          2024
         ],
         "y": [
          158,
          231,
          0,
          303,
          372,
          288,
          291,
          361,
          354,
          342,
          334,
          317,
          326,
          0,
          0,
          0,
          0,
          0,
          61,
          154,
          261,
          374,
          0,
          0,
          0,
          0,
          0,
          0,
          93,
          147,
          303,
          0,
          0,
          318,
          350,
          319,
          0,
          397,
          0,
          319,
          0,
          262,
          0,
          262,
          0,
          221,
          0,
          0,
          116,
          189,
          0,
          0,
          195,
          0,
          0,
          144,
          0,
          164,
          0,
          245,
          0,
          242,
          210,
          0,
          197,
          0,
          216,
          0,
          216,
          0,
          239,
          0,
          247,
          0,
          358,
          0,
          0,
          289,
          0,
          226,
          0,
          355,
          0,
          324,
          385,
          0,
          357,
          0,
          389,
          0,
          331,
          0,
          348,
          0,
          328,
          0,
          320,
          0,
          260,
          230,
          266,
          198,
          251,
          245,
          256,
          275,
          290,
          274,
          264,
          246,
          242,
          229,
          232,
          242,
          230,
          214,
          228,
          220,
          197,
          199,
          192,
          162,
          173,
          175,
          158,
          159,
          156,
          139,
          129,
          135,
          129,
          126,
          125,
          130,
          118,
          116,
          118,
          115,
          107,
          106,
          111,
          111,
          107,
          113,
          124,
          117,
          112,
          119,
          131,
          135,
          142,
          149,
          154,
          147,
          138,
          137,
          140,
          147,
          152,
          156,
          159,
          177,
          168,
          159,
          163,
          163,
          144,
          145,
          152,
          151,
          146,
          145,
          142,
          133,
          126,
          130,
          126,
          118,
          113,
          101,
          92,
          97,
          96,
          97,
          109,
          131,
          137,
          144,
          145,
          136,
          114,
          112,
          127,
          145,
          165,
          175,
          172,
          178,
          171,
          155,
          145,
          141,
          119,
          119,
          133,
          140,
          136,
          132,
          120,
          111,
          109,
          114,
          114,
          0,
          148,
          152,
          144,
          154,
          184,
          129,
          120,
          122,
          127,
          121,
          109,
          99,
          100,
          94,
          102,
          135,
          168,
          168,
          178,
          168,
          143,
          145,
          158,
          139,
          146,
          161,
          146,
          146,
          0,
          135,
          129,
          0,
          83,
          106,
          89,
          106,
          129,
          133,
          0,
          112,
          77,
          75,
          73,
          83,
          79,
          88,
          75,
          73,
          82,
          83,
          83,
          96,
          108,
          121,
          114,
          138,
          151,
          147,
          137,
          145,
          121,
          101,
          82,
          65,
          46,
          32,
          23,
          24,
          33,
          65,
          75,
          100,
          119,
          142,
          133,
          135,
          0,
          0,
          0,
          0,
          0,
          1,
          0,
          0,
          0,
          0,
          1,
          3,
          0,
          0,
          0,
          3,
          0,
          2,
          0,
          3,
          3,
          4,
          5,
          0,
          5,
          5,
          0,
          0,
          0,
          0,
          0,
          3,
          4,
          5,
          0,
          6,
          5,
          0,
          7,
          12,
          15,
          22,
          44,
          57,
          79,
          104,
          124,
          126,
          138,
          128,
          118,
          125,
          167,
          307,
          396,
          519,
          628,
          761,
          978,
          1561,
          2244,
          2914,
          3452,
          3652,
          4067,
          4021,
          3883,
          3564,
          3024,
          1921
         ]
        }
       ],
       "layout": {
        "template": {
         "data": {
          "bar": [
           {
            "error_x": {
             "color": "#2a3f5f"
            },
            "error_y": {
             "color": "#2a3f5f"
            },
            "marker": {
             "line": {
              "color": "white",
              "width": 0.5
             },
             "pattern": {
              "fillmode": "overlay",
              "size": 10,
              "solidity": 0.2
             }
            },
            "type": "bar"
           }
          ],
          "barpolar": [
           {
            "marker": {
             "line": {
              "color": "white",
              "width": 0.5
             },
             "pattern": {
              "fillmode": "overlay",
              "size": 10,
              "solidity": 0.2
             }
            },
            "type": "barpolar"
           }
          ],
          "carpet": [
           {
            "aaxis": {
             "endlinecolor": "#2a3f5f",
             "gridcolor": "#C8D4E3",
             "linecolor": "#C8D4E3",
             "minorgridcolor": "#C8D4E3",
             "startlinecolor": "#2a3f5f"
            },
            "baxis": {
             "endlinecolor": "#2a3f5f",
             "gridcolor": "#C8D4E3",
             "linecolor": "#C8D4E3",
             "minorgridcolor": "#C8D4E3",
             "startlinecolor": "#2a3f5f"
            },
            "type": "carpet"
           }
          ],
          "choropleth": [
           {
            "colorbar": {
             "outlinewidth": 0,
             "ticks": ""
            },
            "type": "choropleth"
           }
          ],
          "contour": [
           {
            "colorbar": {
             "outlinewidth": 0,
             "ticks": ""
            },
            "colorscale": [
             [
              0,
              "#0d0887"
             ],
             [
              0.1111111111111111,
              "#46039f"
             ],
             [
              0.2222222222222222,
              "#7201a8"
             ],
             [
              0.3333333333333333,
              "#9c179e"
             ],
             [
              0.4444444444444444,
              "#bd3786"
             ],
             [
              0.5555555555555556,
              "#d8576b"
             ],
             [
              0.6666666666666666,
              "#ed7953"
             ],
             [
              0.7777777777777778,
              "#fb9f3a"
             ],
             [
              0.8888888888888888,
              "#fdca26"
             ],
             [
              1,
              "#f0f921"
             ]
            ],
            "type": "contour"
           }
          ],
          "contourcarpet": [
           {
            "colorbar": {
             "outlinewidth": 0,
             "ticks": ""
            },
            "type": "contourcarpet"
           }
          ],
          "heatmap": [
           {
            "colorbar": {
             "outlinewidth": 0,
             "ticks": ""
            },
            "colorscale": [
             [
              0,
              "#0d0887"
             ],
             [
              0.1111111111111111,
              "#46039f"
             ],
             [
              0.2222222222222222,
              "#7201a8"
             ],
             [
              0.3333333333333333,
              "#9c179e"
             ],
             [
              0.4444444444444444,
              "#bd3786"
             ],
             [
              0.5555555555555556,
              "#d8576b"
             ],
             [
              0.6666666666666666,
              "#ed7953"
             ],
             [
              0.7777777777777778,
              "#fb9f3a"
             ],
             [
              0.8888888888888888,
              "#fdca26"
             ],
             [
              1,
              "#f0f921"
             ]
            ],
            "type": "heatmap"
           }
          ],
          "heatmapgl": [
           {
            "colorbar": {
             "outlinewidth": 0,
             "ticks": ""
            },
            "colorscale": [
             [
              0,
              "#0d0887"
             ],
             [
              0.1111111111111111,
              "#46039f"
             ],
             [
              0.2222222222222222,
              "#7201a8"
             ],
             [
              0.3333333333333333,
              "#9c179e"
             ],
             [
              0.4444444444444444,
              "#bd3786"
             ],
             [
              0.5555555555555556,
              "#d8576b"
             ],
             [
              0.6666666666666666,
              "#ed7953"
             ],
             [
              0.7777777777777778,
              "#fb9f3a"
             ],
             [
              0.8888888888888888,
              "#fdca26"
             ],
             [
              1,
              "#f0f921"
             ]
            ],
            "type": "heatmapgl"
           }
          ],
          "histogram": [
           {
            "marker": {
             "pattern": {
              "fillmode": "overlay",
              "size": 10,
              "solidity": 0.2
             }
            },
            "type": "histogram"
           }
          ],
          "histogram2d": [
           {
            "colorbar": {
             "outlinewidth": 0,
             "ticks": ""
            },
            "colorscale": [
             [
              0,
              "#0d0887"
             ],
             [
              0.1111111111111111,
              "#46039f"
             ],
             [
              0.2222222222222222,
              "#7201a8"
             ],
             [
              0.3333333333333333,
              "#9c179e"
             ],
             [
              0.4444444444444444,
              "#bd3786"
             ],
             [
              0.5555555555555556,
              "#d8576b"
             ],
             [
              0.6666666666666666,
              "#ed7953"
             ],
             [
              0.7777777777777778,
              "#fb9f3a"
             ],
             [
              0.8888888888888888,
              "#fdca26"
             ],
             [
              1,
              "#f0f921"
             ]
            ],
            "type": "histogram2d"
           }
          ],
          "histogram2dcontour": [
           {
            "colorbar": {
             "outlinewidth": 0,
             "ticks": ""
            },
            "colorscale": [
             [
              0,
              "#0d0887"
             ],
             [
              0.1111111111111111,
              "#46039f"
             ],
             [
              0.2222222222222222,
              "#7201a8"
             ],
             [
              0.3333333333333333,
              "#9c179e"
             ],
             [
              0.4444444444444444,
              "#bd3786"
             ],
             [
              0.5555555555555556,
              "#d8576b"
             ],
             [
              0.6666666666666666,
              "#ed7953"
             ],
             [
              0.7777777777777778,
              "#fb9f3a"
             ],
             [
              0.8888888888888888,
              "#fdca26"
             ],
             [
              1,
              "#f0f921"
             ]
            ],
            "type": "histogram2dcontour"
           }
          ],
          "mesh3d": [
           {
            "colorbar": {
             "outlinewidth": 0,
             "ticks": ""
            },
            "type": "mesh3d"
           }
          ],
          "parcoords": [
           {
            "line": {
             "colorbar": {
              "outlinewidth": 0,
              "ticks": ""
             }
            },
            "type": "parcoords"
           }
          ],
          "pie": [
           {
            "automargin": true,
            "type": "pie"
           }
          ],
          "scatter": [
           {
            "fillpattern": {
             "fillmode": "overlay",
             "size": 10,
             "solidity": 0.2
            },
            "type": "scatter"
           }
          ],
          "scatter3d": [
           {
            "line": {
             "colorbar": {
              "outlinewidth": 0,
              "ticks": ""
             }
            },
            "marker": {
             "colorbar": {
              "outlinewidth": 0,
              "ticks": ""
             }
            },
            "type": "scatter3d"
           }
          ],
          "scattercarpet": [
           {
            "marker": {
             "colorbar": {
              "outlinewidth": 0,
              "ticks": ""
             }
            },
            "type": "scattercarpet"
           }
          ],
          "scattergeo": [
           {
            "marker": {
             "colorbar": {
              "outlinewidth": 0,
              "ticks": ""
             }
            },
            "type": "scattergeo"
           }
          ],
          "scattergl": [
           {
            "marker": {
             "colorbar": {
              "outlinewidth": 0,
              "ticks": ""
             }
            },
            "type": "scattergl"
           }
          ],
          "scattermapbox": [
           {
            "marker": {
             "colorbar": {
              "outlinewidth": 0,
              "ticks": ""
             }
            },
            "type": "scattermapbox"
           }
          ],
          "scatterpolar": [
           {
            "marker": {
             "colorbar": {
              "outlinewidth": 0,
              "ticks": ""
             }
            },
            "type": "scatterpolar"
           }
          ],
          "scatterpolargl": [
           {
            "marker": {
             "colorbar": {
              "outlinewidth": 0,
              "ticks": ""
             }
            },
            "type": "scatterpolargl"
           }
          ],
          "scatterternary": [
           {
            "marker": {
             "colorbar": {
              "outlinewidth": 0,
              "ticks": ""
             }
            },
            "type": "scatterternary"
           }
          ],
          "surface": [
           {
            "colorbar": {
             "outlinewidth": 0,
             "ticks": ""
            },
            "colorscale": [
             [
              0,
              "#0d0887"
             ],
             [
              0.1111111111111111,
              "#46039f"
             ],
             [
              0.2222222222222222,
              "#7201a8"
             ],
             [
              0.3333333333333333,
              "#9c179e"
             ],
             [
              0.4444444444444444,
              "#bd3786"
             ],
             [
              0.5555555555555556,
              "#d8576b"
             ],
             [
              0.6666666666666666,
              "#ed7953"
             ],
             [
              0.7777777777777778,
              "#fb9f3a"
             ],
             [
              0.8888888888888888,
              "#fdca26"
             ],
             [
              1,
              "#f0f921"
             ]
            ],
            "type": "surface"
           }
          ],
          "table": [
           {
            "cells": {
             "fill": {
              "color": "#EBF0F8"
             },
             "line": {
              "color": "white"
             }
            },
            "header": {
             "fill": {
              "color": "#C8D4E3"
             },
             "line": {
              "color": "white"
             }
            },
            "type": "table"
           }
          ]
         },
         "layout": {
          "annotationdefaults": {
           "arrowcolor": "#2a3f5f",
           "arrowhead": 0,
           "arrowwidth": 1
          },
          "autotypenumbers": "strict",
          "coloraxis": {
           "colorbar": {
            "outlinewidth": 0,
            "ticks": ""
           }
          },
          "colorscale": {
           "diverging": [
            [
             0,
             "#8e0152"
            ],
            [
             0.1,
             "#c51b7d"
            ],
            [
             0.2,
             "#de77ae"
            ],
            [
             0.3,
             "#f1b6da"
            ],
            [
             0.4,
             "#fde0ef"
            ],
            [
             0.5,
             "#f7f7f7"
            ],
            [
             0.6,
             "#e6f5d0"
            ],
            [
             0.7,
             "#b8e186"
            ],
            [
             0.8,
             "#7fbc41"
            ],
            [
             0.9,
             "#4d9221"
            ],
            [
             1,
             "#276419"
            ]
           ],
           "sequential": [
            [
             0,
             "#0d0887"
            ],
            [
             0.1111111111111111,
             "#46039f"
            ],
            [
             0.2222222222222222,
             "#7201a8"
            ],
            [
             0.3333333333333333,
             "#9c179e"
            ],
            [
             0.4444444444444444,
             "#bd3786"
            ],
            [
             0.5555555555555556,
             "#d8576b"
            ],
            [
             0.6666666666666666,
             "#ed7953"
            ],
            [
             0.7777777777777778,
             "#fb9f3a"
            ],
            [
             0.8888888888888888,
             "#fdca26"
            ],
            [
             1,
             "#f0f921"
            ]
           ],
           "sequentialminus": [
            [
             0,
             "#0d0887"
            ],
            [
             0.1111111111111111,
             "#46039f"
            ],
            [
             0.2222222222222222,
             "#7201a8"
            ],
            [
             0.3333333333333333,
             "#9c179e"
            ],
            [
             0.4444444444444444,
             "#bd3786"
            ],
            [
             0.5555555555555556,
             "#d8576b"
            ],
            [
             0.6666666666666666,
             "#ed7953"
            ],
            [
             0.7777777777777778,
             "#fb9f3a"
            ],
            [
             0.8888888888888888,
             "#fdca26"
            ],
            [
             1,
             "#f0f921"
            ]
           ]
          },
          "colorway": [
           "#636efa",
           "#EF553B",
           "#00cc96",
           "#ab63fa",
           "#FFA15A",
           "#19d3f3",
           "#FF6692",
           "#B6E880",
           "#FF97FF",
           "#FECB52"
          ],
          "font": {
           "color": "#2a3f5f"
          },
          "geo": {
           "bgcolor": "white",
           "lakecolor": "white",
           "landcolor": "white",
           "showlakes": true,
           "showland": true,
           "subunitcolor": "#C8D4E3"
          },
          "hoverlabel": {
           "align": "left"
          },
          "hovermode": "closest",
          "mapbox": {
           "style": "light"
          },
          "paper_bgcolor": "white",
          "plot_bgcolor": "white",
          "polar": {
           "angularaxis": {
            "gridcolor": "#EBF0F8",
            "linecolor": "#EBF0F8",
            "ticks": ""
           },
           "bgcolor": "white",
           "radialaxis": {
            "gridcolor": "#EBF0F8",
            "linecolor": "#EBF0F8",
            "ticks": ""
           }
          },
          "scene": {
           "xaxis": {
            "backgroundcolor": "white",
            "gridcolor": "#DFE8F3",
            "gridwidth": 2,
            "linecolor": "#EBF0F8",
            "showbackground": true,
            "ticks": "",
            "zerolinecolor": "#EBF0F8"
           },
           "yaxis": {
            "backgroundcolor": "white",
            "gridcolor": "#DFE8F3",
            "gridwidth": 2,
            "linecolor": "#EBF0F8",
            "showbackground": true,
            "ticks": "",
            "zerolinecolor": "#EBF0F8"
           },
           "zaxis": {
            "backgroundcolor": "white",
            "gridcolor": "#DFE8F3",
            "gridwidth": 2,
            "linecolor": "#EBF0F8",
            "showbackground": true,
            "ticks": "",
            "zerolinecolor": "#EBF0F8"
           }
          },
          "shapedefaults": {
           "line": {
            "color": "#2a3f5f"
           }
          },
          "ternary": {
           "aaxis": {
            "gridcolor": "#DFE8F3",
            "linecolor": "#A2B1C6",
            "ticks": ""
           },
           "baxis": {
            "gridcolor": "#DFE8F3",
            "linecolor": "#A2B1C6",
            "ticks": ""
           },
           "bgcolor": "white",
           "caxis": {
            "gridcolor": "#DFE8F3",
            "linecolor": "#A2B1C6",
            "ticks": ""
           }
          },
          "title": {
           "x": 0.05
          },
          "xaxis": {
           "automargin": true,
           "gridcolor": "#EBF0F8",
           "linecolor": "#EBF0F8",
           "ticks": "",
           "title": {
            "standoff": 15
           },
           "zerolinecolor": "#EBF0F8",
           "zerolinewidth": 2
          },
          "yaxis": {
           "automargin": true,
           "gridcolor": "#EBF0F8",
           "linecolor": "#EBF0F8",
           "ticks": "",
           "title": {
            "standoff": 15
           },
           "zerolinecolor": "#EBF0F8",
           "zerolinewidth": 2
          }
         }
        },
        "title": {
         "text": "Number of Articles per Year (1665-2024) (without restricteds)"
        },
        "xaxis": {
         "dtick": 5,
         "range": [
          1665,
          2024
         ],
         "tick0": 1665,
         "tickmode": "linear",
         "title": {
          "text": "Year"
         }
        },
        "yaxis": {
         "range": [
          0,
          4567
         ],
         "title": {
          "text": "Number of Articles"
         }
        }
       }
      }
     },
     "metadata": {},
     "output_type": "display_data"
    }
   ],
   "source": [
    "import pandas as pd\n",
    "import plotly.graph_objects as go\n",
    "from collections import defaultdict\n",
    "import os\n",
    "import re\n",
    "from tqdm import tqdm\n",
    "\n",
    "def count_files_in_year_windows(text_dirs, window_size=5):\n",
    "    def extract_year_from_filename(filename):\n",
    "        match = re.search(r'rst[bla]?_?(\\d{4})', filename)\n",
    "        return int(match.group(1)) if match else None\n",
    "\n",
    "    year_counts = defaultdict(int)\n",
    "\n",
    "    print(\"Counting files in year windows...\")\n",
    "    file_paths = [os.path.join(dir, f) for dir in text_dirs for f in os.listdir(dir) if f.endswith('.txt')]\n",
    "\n",
    "    for file_path in tqdm(file_paths):\n",
    "        year = extract_year_from_filename(os.path.basename(file_path))\n",
    "        if year:\n",
    "            year_counts[year] += 1\n",
    "\n",
    "    all_years = sorted(year_counts.keys())\n",
    "    year_windows = defaultdict(int)\n",
    "\n",
    "    for year in all_years:\n",
    "        if year in year_counts:\n",
    "            for offset in range(window_size):\n",
    "                window_year = year + offset\n",
    "                year_windows[window_year] += year_counts[year] if window_year in year_counts else 0\n",
    "\n",
    "    return dict(year_windows)\n",
    "\n",
    "# Example usage\n",
    "year_counts = count_files_in_year_windows(\n",
    "    [r\"D:\\Fact_fiction_corpus\\texts\\royal society\\txt_rstb\", \n",
    "     r\"D:\\Fact_fiction_corpus\\texts\\royal society\\txt_rstl\", \n",
    "     r\"D:\\Fact_fiction_corpus\\texts\\royal society\\txt_rsta\"],\n",
    "    window_size=5\n",
    ")\n",
    "\n",
    "# Prepare the data for plotting\n",
    "years = list(range(1665, 2025))\n",
    "counts = [year_counts.get(year, 0) for year in years]\n",
    "df = pd.DataFrame({'Year': years, 'Article Count': counts})\n",
    "\n",
    "# Create the interactive plot\n",
    "fig = go.Figure()\n",
    "\n",
    "# Add scatter points for each year\n",
    "fig.add_trace(go.Scatter(\n",
    "    x=df['Year'],\n",
    "    y=df['Article Count'],\n",
    "    mode='markers+lines',\n",
    "    marker=dict(\n",
    "        size=10,\n",
    "        color=['red' if count == 0 else 'orange' if count < 100 else 'blue' for count in df['Article Count']],\n",
    "        line=dict(width=1, color='black')\n",
    "    ),\n",
    "    text=[f'Year: {year}<br>Count: {count}' for year, count in zip(df['Year'], df['Article Count'])],  # Tooltip text\n",
    "    hoverinfo='text'  # Show the text on hover\n",
    "))\n",
    "\n",
    "# Update layout\n",
    "fig.update_layout(\n",
    "    title='Number of Articles per Year (1665-2024) (without restricteds)',\n",
    "    xaxis_title='Year',\n",
    "    yaxis_title='Number of Articles',\n",
    "    xaxis=dict(\n",
    "        tickmode='linear',\n",
    "        tick0=1665,\n",
    "        dtick=5,\n",
    "        range=[1665, 2024]  # Explicitly set the range of the x-axis\n",
    "    ),\n",
    "    yaxis=dict(range=[0, df['Article Count'].max() + 500]),  # Adjust the limit as necessary\n",
    "    template='plotly_white'\n",
    ")\n",
    "\n",
    "# Show the plot\n",
    "fig.show()\n"
   ]
  },
  {
   "cell_type": "code",
   "execution_count": 11,
   "metadata": {},
   "outputs": [
    {
     "data": {
      "application/vnd.plotly.v1+json": {
       "config": {
        "plotlyServerURL": "https://plot.ly"
       },
       "data": [
        {
         "hovertemplate": "Year Range: %{x}<br>%{y}<extra></extra>",
         "marker": {
          "color": "blue"
         },
         "text": [
          1,
          1,
          1,
          1,
          1,
          1,
          1,
          1,
          1,
          0,
          1,
          1,
          1,
          1,
          1,
          1,
          1,
          1,
          1,
          1,
          1,
          0,
          0,
          0,
          0,
          0,
          0,
          0,
          1,
          1,
          0,
          0,
          0,
          0,
          1,
          1,
          1,
          1,
          1,
          1,
          1,
          1,
          1,
          1,
          0,
          0,
          0,
          0,
          1,
          1,
          0,
          0,
          0,
          0,
          0,
          0,
          0,
          0,
          0,
          0,
          0,
          0,
          0,
          0,
          0,
          0,
          0,
          0,
          0,
          0,
          0,
          0,
          0,
          0,
          0,
          1,
          1,
          1,
          0,
          0,
          0,
          0,
          0,
          0,
          0,
          1,
          1,
          0,
          0,
          0,
          0,
          0,
          0,
          0,
          1,
          1,
          1,
          1,
          1,
          0,
          0,
          0,
          0,
          0,
          0,
          0,
          1,
          2,
          1,
          1,
          0,
          0,
          0,
          0,
          0,
          0,
          0,
          0,
          0,
          1,
          1,
          1,
          2,
          6,
          7,
          9,
          8,
          14,
          14,
          19,
          20,
          20,
          23,
          22,
          27,
          28,
          31,
          29,
          31,
          27,
          26,
          26,
          27,
          22,
          13,
          19,
          18,
          18,
          15,
          14,
          14,
          14,
          19,
          21,
          22,
          25,
          25,
          25,
          33,
          43,
          43,
          43,
          46,
          47,
          55,
          63,
          78,
          79,
          74,
          68,
          60,
          55,
          48,
          48,
          44,
          45,
          52,
          61,
          64,
          74,
          76,
          68,
          73,
          81,
          105,
          121,
          101,
          102,
          114,
          101,
          111,
          117,
          128,
          122,
          107,
          101,
          98,
          93,
          73,
          78,
          77,
          84,
          91,
          104,
          88,
          94,
          126,
          121,
          144,
          149,
          135,
          127,
          128,
          121,
          135,
          123,
          96,
          118,
          110,
          128,
          163,
          178,
          199,
          201,
          213,
          221,
          254,
          253,
          237,
          235,
          221,
          199,
          216,
          178,
          193,
          201,
          144,
          145,
          156,
          145,
          154,
          152,
          122,
          122,
          117,
          103,
          123,
          133,
          120,
          129,
          100,
          97,
          79,
          95,
          85,
          99,
          91,
          86,
          128,
          112,
          144,
          142,
          147,
          150,
          161,
          161,
          154,
          131,
          90,
          83,
          62,
          42,
          42,
          34,
          35,
          34,
          42,
          65,
          75,
          90,
          98,
          97,
          91,
          71,
          53,
          37,
          19,
          12,
          5,
          0,
          0,
          0,
          0,
          0,
          0,
          0,
          0,
          0,
          0,
          0,
          0,
          0,
          0,
          0,
          0,
          0,
          0,
          0,
          0,
          0,
          0,
          0,
          0,
          0,
          0,
          0,
          0,
          0,
          0,
          0,
          0,
          0,
          0,
          0,
          0,
          0,
          0,
          1,
          1,
          1,
          1,
          1,
          1,
          1,
          3,
          4,
          12,
          22,
          42,
          77,
          194,
          328,
          453,
          584,
          662,
          828,
          940,
          1040,
          1063,
          1002,
          856
         ],
         "textposition": "auto",
         "type": "bar",
         "x": [
          "1665-1674",
          "1666-1675",
          "1667-1676",
          "1668-1677",
          "1669-1678",
          "1670-1679",
          "1671-1680",
          "1672-1681",
          "1673-1682",
          "1674-1683",
          "1675-1684",
          "1676-1685",
          "1677-1686",
          "1678-1687",
          "1679-1688",
          "1680-1689",
          "1681-1690",
          "1682-1691",
          "1683-1692",
          "1684-1693",
          "1685-1694",
          "1686-1695",
          "1687-1696",
          "1688-1697",
          "1689-1698",
          "1690-1699",
          "1691-1700",
          "1692-1701",
          "1693-1702",
          "1694-1703",
          "1695-1704",
          "1696-1705",
          "1697-1706",
          "1698-1707",
          "1699-1708",
          "1700-1709",
          "1701-1710",
          "1702-1711",
          "1703-1712",
          "1704-1713",
          "1705-1714",
          "1706-1715",
          "1707-1716",
          "1708-1717",
          "1709-1718",
          "1710-1719",
          "1711-1720",
          "1712-1721",
          "1713-1722",
          "1714-1723",
          "1715-1724",
          "1716-1725",
          "1717-1726",
          "1718-1727",
          "1719-1728",
          "1720-1729",
          "1721-1730",
          "1722-1731",
          "1723-1732",
          "1724-1733",
          "1725-1734",
          "1726-1735",
          "1727-1736",
          "1728-1737",
          "1729-1738",
          "1730-1739",
          "1731-1740",
          "1732-1741",
          "1733-1742",
          "1734-1743",
          "1735-1744",
          "1736-1745",
          "1737-1746",
          "1738-1747",
          "1739-1748",
          "1740-1749",
          "1741-1750",
          "1742-1751",
          "1743-1752",
          "1744-1753",
          "1745-1754",
          "1746-1755",
          "1747-1756",
          "1748-1757",
          "1749-1758",
          "1750-1759",
          "1751-1760",
          "1752-1761",
          "1753-1762",
          "1754-1763",
          "1755-1764",
          "1756-1765",
          "1757-1766",
          "1758-1767",
          "1759-1768",
          "1760-1769",
          "1761-1770",
          "1762-1771",
          "1763-1772",
          "1764-1773",
          "1765-1774",
          "1766-1775",
          "1767-1776",
          "1768-1777",
          "1769-1778",
          "1770-1779",
          "1771-1780",
          "1772-1781",
          "1773-1782",
          "1774-1783",
          "1775-1784",
          "1776-1785",
          "1777-1786",
          "1778-1787",
          "1779-1788",
          "1780-1789",
          "1781-1790",
          "1782-1791",
          "1783-1792",
          "1784-1793",
          "1785-1794",
          "1786-1795",
          "1787-1796",
          "1788-1797",
          "1789-1798",
          "1790-1799",
          "1791-1800",
          "1792-1801",
          "1793-1802",
          "1794-1803",
          "1795-1804",
          "1796-1805",
          "1797-1806",
          "1798-1807",
          "1799-1808",
          "1800-1809",
          "1801-1810",
          "1802-1811",
          "1803-1812",
          "1804-1813",
          "1805-1814",
          "1806-1815",
          "1807-1816",
          "1808-1817",
          "1809-1818",
          "1810-1819",
          "1811-1820",
          "1812-1821",
          "1813-1822",
          "1814-1823",
          "1815-1824",
          "1816-1825",
          "1817-1826",
          "1818-1827",
          "1819-1828",
          "1820-1829",
          "1821-1830",
          "1822-1831",
          "1823-1832",
          "1824-1833",
          "1825-1834",
          "1826-1835",
          "1827-1836",
          "1828-1837",
          "1829-1838",
          "1830-1839",
          "1831-1840",
          "1832-1841",
          "1833-1842",
          "1834-1843",
          "1835-1844",
          "1836-1845",
          "1837-1846",
          "1838-1847",
          "1839-1848",
          "1840-1849",
          "1841-1850",
          "1842-1851",
          "1843-1852",
          "1844-1853",
          "1845-1854",
          "1846-1855",
          "1847-1856",
          "1848-1857",
          "1849-1858",
          "1850-1859",
          "1851-1860",
          "1852-1861",
          "1853-1862",
          "1854-1863",
          "1855-1864",
          "1856-1865",
          "1857-1866",
          "1858-1867",
          "1859-1868",
          "1860-1869",
          "1861-1870",
          "1862-1871",
          "1863-1872",
          "1864-1873",
          "1865-1874",
          "1866-1875",
          "1867-1876",
          "1868-1877",
          "1869-1878",
          "1870-1879",
          "1871-1880",
          "1872-1881",
          "1873-1882",
          "1874-1883",
          "1875-1884",
          "1876-1885",
          "1877-1886",
          "1878-1887",
          "1879-1888",
          "1880-1889",
          "1881-1890",
          "1882-1891",
          "1883-1892",
          "1884-1893",
          "1885-1894",
          "1886-1895",
          "1887-1896",
          "1888-1897",
          "1889-1898",
          "1890-1899",
          "1891-1900",
          "1892-1901",
          "1893-1902",
          "1894-1903",
          "1895-1904",
          "1896-1905",
          "1897-1906",
          "1898-1907",
          "1899-1908",
          "1900-1909",
          "1901-1910",
          "1902-1911",
          "1903-1912",
          "1904-1913",
          "1905-1914",
          "1906-1915",
          "1907-1916",
          "1908-1917",
          "1909-1918",
          "1910-1919",
          "1911-1920",
          "1912-1921",
          "1913-1922",
          "1914-1923",
          "1915-1924",
          "1916-1925",
          "1917-1926",
          "1918-1927",
          "1919-1928",
          "1920-1929",
          "1921-1930",
          "1922-1931",
          "1923-1932",
          "1924-1933",
          "1925-1934",
          "1926-1935",
          "1927-1936",
          "1928-1937",
          "1929-1938",
          "1930-1939",
          "1931-1940",
          "1932-1941",
          "1933-1942",
          "1934-1943",
          "1935-1944",
          "1936-1945",
          "1937-1946",
          "1938-1947",
          "1939-1948",
          "1940-1949",
          "1941-1950",
          "1942-1951",
          "1943-1952",
          "1944-1953",
          "1945-1954",
          "1946-1955",
          "1947-1956",
          "1948-1957",
          "1949-1958",
          "1950-1959",
          "1951-1960",
          "1952-1961",
          "1953-1962",
          "1954-1963",
          "1955-1964",
          "1956-1965",
          "1957-1966",
          "1958-1967",
          "1959-1968",
          "1960-1969",
          "1961-1970",
          "1962-1971",
          "1963-1972",
          "1964-1973",
          "1965-1974",
          "1966-1975",
          "1967-1976",
          "1968-1977",
          "1969-1978",
          "1970-1979",
          "1971-1980",
          "1972-1981",
          "1973-1982",
          "1974-1983",
          "1975-1984",
          "1976-1985",
          "1977-1986",
          "1978-1987",
          "1979-1988",
          "1980-1989",
          "1981-1990",
          "1982-1991",
          "1983-1992",
          "1984-1993",
          "1985-1994",
          "1986-1995",
          "1987-1996",
          "1988-1997",
          "1989-1998",
          "1990-1999",
          "1991-2000",
          "1992-2001",
          "1993-2002",
          "1994-2003",
          "1995-2004",
          "1996-2005",
          "1997-2006",
          "1998-2007",
          "1999-2008",
          "2000-2009",
          "2001-2010",
          "2002-2011",
          "2003-2012",
          "2004-2013",
          "2005-2014",
          "2006-2015",
          "2007-2016",
          "2008-2017",
          "2009-2018",
          "2010-2019",
          "2011-2020",
          "2012-2021",
          "2013-2022",
          "2014-2023",
          "2015-2024"
         ],
         "y": [
          1,
          1,
          1,
          1,
          1,
          1,
          1,
          1,
          1,
          0,
          1,
          1,
          1,
          1,
          1,
          1,
          1,
          1,
          1,
          1,
          1,
          0,
          0,
          0,
          0,
          0,
          0,
          0,
          1,
          1,
          0,
          0,
          0,
          0,
          1,
          1,
          1,
          1,
          1,
          1,
          1,
          1,
          1,
          1,
          0,
          0,
          0,
          0,
          1,
          1,
          0,
          0,
          0,
          0,
          0,
          0,
          0,
          0,
          0,
          0,
          0,
          0,
          0,
          0,
          0,
          0,
          0,
          0,
          0,
          0,
          0,
          0,
          0,
          0,
          0,
          1,
          1,
          1,
          0,
          0,
          0,
          0,
          0,
          0,
          0,
          1,
          1,
          0,
          0,
          0,
          0,
          0,
          0,
          0,
          1,
          1,
          1,
          1,
          1,
          0,
          0,
          0,
          0,
          0,
          0,
          0,
          1,
          2,
          1,
          1,
          0,
          0,
          0,
          0,
          0,
          0,
          0,
          0,
          0,
          1,
          1,
          1,
          2,
          6,
          7,
          9,
          8,
          14,
          14,
          19,
          20,
          20,
          23,
          22,
          27,
          28,
          31,
          29,
          31,
          27,
          26,
          26,
          27,
          22,
          13,
          19,
          18,
          18,
          15,
          14,
          14,
          14,
          19,
          21,
          22,
          25,
          25,
          25,
          33,
          43,
          43,
          43,
          46,
          47,
          55,
          63,
          78,
          79,
          74,
          68,
          60,
          55,
          48,
          48,
          44,
          45,
          52,
          61,
          64,
          74,
          76,
          68,
          73,
          81,
          105,
          121,
          101,
          102,
          114,
          101,
          111,
          117,
          128,
          122,
          107,
          101,
          98,
          93,
          73,
          78,
          77,
          84,
          91,
          104,
          88,
          94,
          126,
          121,
          144,
          149,
          135,
          127,
          128,
          121,
          135,
          123,
          96,
          118,
          110,
          128,
          163,
          178,
          199,
          201,
          213,
          221,
          254,
          253,
          237,
          235,
          221,
          199,
          216,
          178,
          193,
          201,
          144,
          145,
          156,
          145,
          154,
          152,
          122,
          122,
          117,
          103,
          123,
          133,
          120,
          129,
          100,
          97,
          79,
          95,
          85,
          99,
          91,
          86,
          128,
          112,
          144,
          142,
          147,
          150,
          161,
          161,
          154,
          131,
          90,
          83,
          62,
          42,
          42,
          34,
          35,
          34,
          42,
          65,
          75,
          90,
          98,
          97,
          91,
          71,
          53,
          37,
          19,
          12,
          5,
          0,
          0,
          0,
          0,
          0,
          0,
          0,
          0,
          0,
          0,
          0,
          0,
          0,
          0,
          0,
          0,
          0,
          0,
          0,
          0,
          0,
          0,
          0,
          0,
          0,
          0,
          0,
          0,
          0,
          0,
          0,
          0,
          0,
          0,
          0,
          0,
          0,
          0,
          1,
          1,
          1,
          1,
          1,
          1,
          1,
          3,
          4,
          12,
          22,
          42,
          77,
          194,
          328,
          453,
          584,
          662,
          828,
          940,
          1040,
          1063,
          1002,
          856
         ]
        }
       ],
       "layout": {
        "template": {
         "data": {
          "bar": [
           {
            "error_x": {
             "color": "#2a3f5f"
            },
            "error_y": {
             "color": "#2a3f5f"
            },
            "marker": {
             "line": {
              "color": "white",
              "width": 0.5
             },
             "pattern": {
              "fillmode": "overlay",
              "size": 10,
              "solidity": 0.2
             }
            },
            "type": "bar"
           }
          ],
          "barpolar": [
           {
            "marker": {
             "line": {
              "color": "white",
              "width": 0.5
             },
             "pattern": {
              "fillmode": "overlay",
              "size": 10,
              "solidity": 0.2
             }
            },
            "type": "barpolar"
           }
          ],
          "carpet": [
           {
            "aaxis": {
             "endlinecolor": "#2a3f5f",
             "gridcolor": "#C8D4E3",
             "linecolor": "#C8D4E3",
             "minorgridcolor": "#C8D4E3",
             "startlinecolor": "#2a3f5f"
            },
            "baxis": {
             "endlinecolor": "#2a3f5f",
             "gridcolor": "#C8D4E3",
             "linecolor": "#C8D4E3",
             "minorgridcolor": "#C8D4E3",
             "startlinecolor": "#2a3f5f"
            },
            "type": "carpet"
           }
          ],
          "choropleth": [
           {
            "colorbar": {
             "outlinewidth": 0,
             "ticks": ""
            },
            "type": "choropleth"
           }
          ],
          "contour": [
           {
            "colorbar": {
             "outlinewidth": 0,
             "ticks": ""
            },
            "colorscale": [
             [
              0,
              "#0d0887"
             ],
             [
              0.1111111111111111,
              "#46039f"
             ],
             [
              0.2222222222222222,
              "#7201a8"
             ],
             [
              0.3333333333333333,
              "#9c179e"
             ],
             [
              0.4444444444444444,
              "#bd3786"
             ],
             [
              0.5555555555555556,
              "#d8576b"
             ],
             [
              0.6666666666666666,
              "#ed7953"
             ],
             [
              0.7777777777777778,
              "#fb9f3a"
             ],
             [
              0.8888888888888888,
              "#fdca26"
             ],
             [
              1,
              "#f0f921"
             ]
            ],
            "type": "contour"
           }
          ],
          "contourcarpet": [
           {
            "colorbar": {
             "outlinewidth": 0,
             "ticks": ""
            },
            "type": "contourcarpet"
           }
          ],
          "heatmap": [
           {
            "colorbar": {
             "outlinewidth": 0,
             "ticks": ""
            },
            "colorscale": [
             [
              0,
              "#0d0887"
             ],
             [
              0.1111111111111111,
              "#46039f"
             ],
             [
              0.2222222222222222,
              "#7201a8"
             ],
             [
              0.3333333333333333,
              "#9c179e"
             ],
             [
              0.4444444444444444,
              "#bd3786"
             ],
             [
              0.5555555555555556,
              "#d8576b"
             ],
             [
              0.6666666666666666,
              "#ed7953"
             ],
             [
              0.7777777777777778,
              "#fb9f3a"
             ],
             [
              0.8888888888888888,
              "#fdca26"
             ],
             [
              1,
              "#f0f921"
             ]
            ],
            "type": "heatmap"
           }
          ],
          "heatmapgl": [
           {
            "colorbar": {
             "outlinewidth": 0,
             "ticks": ""
            },
            "colorscale": [
             [
              0,
              "#0d0887"
             ],
             [
              0.1111111111111111,
              "#46039f"
             ],
             [
              0.2222222222222222,
              "#7201a8"
             ],
             [
              0.3333333333333333,
              "#9c179e"
             ],
             [
              0.4444444444444444,
              "#bd3786"
             ],
             [
              0.5555555555555556,
              "#d8576b"
             ],
             [
              0.6666666666666666,
              "#ed7953"
             ],
             [
              0.7777777777777778,
              "#fb9f3a"
             ],
             [
              0.8888888888888888,
              "#fdca26"
             ],
             [
              1,
              "#f0f921"
             ]
            ],
            "type": "heatmapgl"
           }
          ],
          "histogram": [
           {
            "marker": {
             "pattern": {
              "fillmode": "overlay",
              "size": 10,
              "solidity": 0.2
             }
            },
            "type": "histogram"
           }
          ],
          "histogram2d": [
           {
            "colorbar": {
             "outlinewidth": 0,
             "ticks": ""
            },
            "colorscale": [
             [
              0,
              "#0d0887"
             ],
             [
              0.1111111111111111,
              "#46039f"
             ],
             [
              0.2222222222222222,
              "#7201a8"
             ],
             [
              0.3333333333333333,
              "#9c179e"
             ],
             [
              0.4444444444444444,
              "#bd3786"
             ],
             [
              0.5555555555555556,
              "#d8576b"
             ],
             [
              0.6666666666666666,
              "#ed7953"
             ],
             [
              0.7777777777777778,
              "#fb9f3a"
             ],
             [
              0.8888888888888888,
              "#fdca26"
             ],
             [
              1,
              "#f0f921"
             ]
            ],
            "type": "histogram2d"
           }
          ],
          "histogram2dcontour": [
           {
            "colorbar": {
             "outlinewidth": 0,
             "ticks": ""
            },
            "colorscale": [
             [
              0,
              "#0d0887"
             ],
             [
              0.1111111111111111,
              "#46039f"
             ],
             [
              0.2222222222222222,
              "#7201a8"
             ],
             [
              0.3333333333333333,
              "#9c179e"
             ],
             [
              0.4444444444444444,
              "#bd3786"
             ],
             [
              0.5555555555555556,
              "#d8576b"
             ],
             [
              0.6666666666666666,
              "#ed7953"
             ],
             [
              0.7777777777777778,
              "#fb9f3a"
             ],
             [
              0.8888888888888888,
              "#fdca26"
             ],
             [
              1,
              "#f0f921"
             ]
            ],
            "type": "histogram2dcontour"
           }
          ],
          "mesh3d": [
           {
            "colorbar": {
             "outlinewidth": 0,
             "ticks": ""
            },
            "type": "mesh3d"
           }
          ],
          "parcoords": [
           {
            "line": {
             "colorbar": {
              "outlinewidth": 0,
              "ticks": ""
             }
            },
            "type": "parcoords"
           }
          ],
          "pie": [
           {
            "automargin": true,
            "type": "pie"
           }
          ],
          "scatter": [
           {
            "fillpattern": {
             "fillmode": "overlay",
             "size": 10,
             "solidity": 0.2
            },
            "type": "scatter"
           }
          ],
          "scatter3d": [
           {
            "line": {
             "colorbar": {
              "outlinewidth": 0,
              "ticks": ""
             }
            },
            "marker": {
             "colorbar": {
              "outlinewidth": 0,
              "ticks": ""
             }
            },
            "type": "scatter3d"
           }
          ],
          "scattercarpet": [
           {
            "marker": {
             "colorbar": {
              "outlinewidth": 0,
              "ticks": ""
             }
            },
            "type": "scattercarpet"
           }
          ],
          "scattergeo": [
           {
            "marker": {
             "colorbar": {
              "outlinewidth": 0,
              "ticks": ""
             }
            },
            "type": "scattergeo"
           }
          ],
          "scattergl": [
           {
            "marker": {
             "colorbar": {
              "outlinewidth": 0,
              "ticks": ""
             }
            },
            "type": "scattergl"
           }
          ],
          "scattermapbox": [
           {
            "marker": {
             "colorbar": {
              "outlinewidth": 0,
              "ticks": ""
             }
            },
            "type": "scattermapbox"
           }
          ],
          "scatterpolar": [
           {
            "marker": {
             "colorbar": {
              "outlinewidth": 0,
              "ticks": ""
             }
            },
            "type": "scatterpolar"
           }
          ],
          "scatterpolargl": [
           {
            "marker": {
             "colorbar": {
              "outlinewidth": 0,
              "ticks": ""
             }
            },
            "type": "scatterpolargl"
           }
          ],
          "scatterternary": [
           {
            "marker": {
             "colorbar": {
              "outlinewidth": 0,
              "ticks": ""
             }
            },
            "type": "scatterternary"
           }
          ],
          "surface": [
           {
            "colorbar": {
             "outlinewidth": 0,
             "ticks": ""
            },
            "colorscale": [
             [
              0,
              "#0d0887"
             ],
             [
              0.1111111111111111,
              "#46039f"
             ],
             [
              0.2222222222222222,
              "#7201a8"
             ],
             [
              0.3333333333333333,
              "#9c179e"
             ],
             [
              0.4444444444444444,
              "#bd3786"
             ],
             [
              0.5555555555555556,
              "#d8576b"
             ],
             [
              0.6666666666666666,
              "#ed7953"
             ],
             [
              0.7777777777777778,
              "#fb9f3a"
             ],
             [
              0.8888888888888888,
              "#fdca26"
             ],
             [
              1,
              "#f0f921"
             ]
            ],
            "type": "surface"
           }
          ],
          "table": [
           {
            "cells": {
             "fill": {
              "color": "#EBF0F8"
             },
             "line": {
              "color": "white"
             }
            },
            "header": {
             "fill": {
              "color": "#C8D4E3"
             },
             "line": {
              "color": "white"
             }
            },
            "type": "table"
           }
          ]
         },
         "layout": {
          "annotationdefaults": {
           "arrowcolor": "#2a3f5f",
           "arrowhead": 0,
           "arrowwidth": 1
          },
          "autotypenumbers": "strict",
          "coloraxis": {
           "colorbar": {
            "outlinewidth": 0,
            "ticks": ""
           }
          },
          "colorscale": {
           "diverging": [
            [
             0,
             "#8e0152"
            ],
            [
             0.1,
             "#c51b7d"
            ],
            [
             0.2,
             "#de77ae"
            ],
            [
             0.3,
             "#f1b6da"
            ],
            [
             0.4,
             "#fde0ef"
            ],
            [
             0.5,
             "#f7f7f7"
            ],
            [
             0.6,
             "#e6f5d0"
            ],
            [
             0.7,
             "#b8e186"
            ],
            [
             0.8,
             "#7fbc41"
            ],
            [
             0.9,
             "#4d9221"
            ],
            [
             1,
             "#276419"
            ]
           ],
           "sequential": [
            [
             0,
             "#0d0887"
            ],
            [
             0.1111111111111111,
             "#46039f"
            ],
            [
             0.2222222222222222,
             "#7201a8"
            ],
            [
             0.3333333333333333,
             "#9c179e"
            ],
            [
             0.4444444444444444,
             "#bd3786"
            ],
            [
             0.5555555555555556,
             "#d8576b"
            ],
            [
             0.6666666666666666,
             "#ed7953"
            ],
            [
             0.7777777777777778,
             "#fb9f3a"
            ],
            [
             0.8888888888888888,
             "#fdca26"
            ],
            [
             1,
             "#f0f921"
            ]
           ],
           "sequentialminus": [
            [
             0,
             "#0d0887"
            ],
            [
             0.1111111111111111,
             "#46039f"
            ],
            [
             0.2222222222222222,
             "#7201a8"
            ],
            [
             0.3333333333333333,
             "#9c179e"
            ],
            [
             0.4444444444444444,
             "#bd3786"
            ],
            [
             0.5555555555555556,
             "#d8576b"
            ],
            [
             0.6666666666666666,
             "#ed7953"
            ],
            [
             0.7777777777777778,
             "#fb9f3a"
            ],
            [
             0.8888888888888888,
             "#fdca26"
            ],
            [
             1,
             "#f0f921"
            ]
           ]
          },
          "colorway": [
           "#636efa",
           "#EF553B",
           "#00cc96",
           "#ab63fa",
           "#FFA15A",
           "#19d3f3",
           "#FF6692",
           "#B6E880",
           "#FF97FF",
           "#FECB52"
          ],
          "font": {
           "color": "#2a3f5f"
          },
          "geo": {
           "bgcolor": "white",
           "lakecolor": "white",
           "landcolor": "white",
           "showlakes": true,
           "showland": true,
           "subunitcolor": "#C8D4E3"
          },
          "hoverlabel": {
           "align": "left"
          },
          "hovermode": "closest",
          "mapbox": {
           "style": "light"
          },
          "paper_bgcolor": "white",
          "plot_bgcolor": "white",
          "polar": {
           "angularaxis": {
            "gridcolor": "#EBF0F8",
            "linecolor": "#EBF0F8",
            "ticks": ""
           },
           "bgcolor": "white",
           "radialaxis": {
            "gridcolor": "#EBF0F8",
            "linecolor": "#EBF0F8",
            "ticks": ""
           }
          },
          "scene": {
           "xaxis": {
            "backgroundcolor": "white",
            "gridcolor": "#DFE8F3",
            "gridwidth": 2,
            "linecolor": "#EBF0F8",
            "showbackground": true,
            "ticks": "",
            "zerolinecolor": "#EBF0F8"
           },
           "yaxis": {
            "backgroundcolor": "white",
            "gridcolor": "#DFE8F3",
            "gridwidth": 2,
            "linecolor": "#EBF0F8",
            "showbackground": true,
            "ticks": "",
            "zerolinecolor": "#EBF0F8"
           },
           "zaxis": {
            "backgroundcolor": "white",
            "gridcolor": "#DFE8F3",
            "gridwidth": 2,
            "linecolor": "#EBF0F8",
            "showbackground": true,
            "ticks": "",
            "zerolinecolor": "#EBF0F8"
           }
          },
          "shapedefaults": {
           "line": {
            "color": "#2a3f5f"
           }
          },
          "ternary": {
           "aaxis": {
            "gridcolor": "#DFE8F3",
            "linecolor": "#A2B1C6",
            "ticks": ""
           },
           "baxis": {
            "gridcolor": "#DFE8F3",
            "linecolor": "#A2B1C6",
            "ticks": ""
           },
           "bgcolor": "white",
           "caxis": {
            "gridcolor": "#DFE8F3",
            "linecolor": "#A2B1C6",
            "ticks": ""
           }
          },
          "title": {
           "x": 0.05
          },
          "xaxis": {
           "automargin": true,
           "gridcolor": "#EBF0F8",
           "linecolor": "#EBF0F8",
           "ticks": "",
           "title": {
            "standoff": 15
           },
           "zerolinecolor": "#EBF0F8",
           "zerolinewidth": 2
          },
          "yaxis": {
           "automargin": true,
           "gridcolor": "#EBF0F8",
           "linecolor": "#EBF0F8",
           "ticks": "",
           "title": {
            "standoff": 15
           },
           "zerolinecolor": "#EBF0F8",
           "zerolinewidth": 2
          }
         }
        },
        "title": {
         "text": "Amount of Collocates per Year Window"
        },
        "xaxis": {
         "tickangle": -45,
         "title": {
          "text": "Year Range"
         }
        },
        "yaxis": {
         "title": {
          "text": "Highest Number"
         }
        }
       }
      }
     },
     "metadata": {},
     "output_type": "display_data"
    }
   ],
   "source": [
    "import pandas as pd\n",
    "import plotly.graph_objects as go\n",
    "import os\n",
    "\n",
    "def find_highest_numbers_in_directory(directory_path):\n",
    "    highest_numbers = {}\n",
    "\n",
    "    for filename in os.listdir(directory_path):\n",
    "        if filename.endswith('.txt'):\n",
    "            file_path = os.path.join(directory_path, filename)\n",
    "            try:\n",
    "                with open(file_path, 'r', encoding='utf-8') as f:\n",
    "                    highest_number = 0  # Initialize highest number for the current file\n",
    "                    for line in f.readlines()[1:]:  # Skip the header line\n",
    "                        parts = line.split('\\t')\n",
    "                        if len(parts) > 0:  # Check if the line is properly formatted\n",
    "                            try:\n",
    "                                number = int(parts[0])  # Get the number from the first column\n",
    "                                highest_number = max(highest_number, number)  # Update highest number\n",
    "                            except ValueError:\n",
    "                                pass  # Ignore non-integer values\n",
    "                    \n",
    "                    # Store the highest number for the current file\n",
    "                    highest_numbers[filename] = highest_number\n",
    "\n",
    "            except PermissionError:\n",
    "                pass  # Ignore permission errors\n",
    "            except FileNotFoundError:\n",
    "                pass  # Ignore file not found errors\n",
    "            except Exception:\n",
    "                pass  # Ignore all other exceptions\n",
    "\n",
    "    return highest_numbers\n",
    "\n",
    "# Example usage\n",
    "collocate_directory_path = r\"collocate_results_combined_fact_10_window\"\n",
    "highest_numbers = find_highest_numbers_in_directory(collocate_directory_path)\n",
    "\n",
    "# Prepare the data for plotting\n",
    "df = pd.DataFrame(list(highest_numbers.items()), columns=['File', 'Highest Number'])\n",
    "\n",
    "# Modify the 'File' column to extract just the year range\n",
    "df['Year Range'] = df['File'].str.extract(r'(\\d{4}-\\d{4})')[0]  # Extract year range using regex\n",
    "df['Year Range'] = df['Year Range'].fillna(df['File'])  # In case of no match, keep the original filename\n",
    "\n",
    "# Create the interactive plot\n",
    "fig = go.Figure()\n",
    "\n",
    "# Add bars for each file's highest number\n",
    "fig.add_trace(go.Bar(\n",
    "    x=df['Year Range'],  # Use the modified Year Range for x-axis\n",
    "    y=df['Highest Number'],\n",
    "    marker=dict(color='blue'),\n",
    "    text=df['Highest Number'],  # Show counts on bars\n",
    "    textposition='auto',  # Position text on the bars\n",
    "    hovertemplate='Year Range: %{x}<br>%{y}<extra></extra>'  # Customize hover text\n",
    "))\n",
    "\n",
    "# Update layout\n",
    "fig.update_layout(\n",
    "    title='Amount of Collocates per Year Window',\n",
    "    xaxis_title='Year Range',\n",
    "    yaxis_title='Highest Number',\n",
    "    xaxis_tickangle=-45,  # Rotate x-axis labels for better visibility\n",
    "    template='plotly_white'\n",
    ")\n",
    "\n",
    "# Show the plot\n",
    "fig.show()\n"
   ]
  },
  {
   "cell_type": "code",
   "execution_count": 6,
   "metadata": {},
   "outputs": [],
   "source": [
    "#small mistake, fixing all header to line 1\n",
    "import os\n",
    "\n",
    "folder_path = 'collocate_results_combined_fact_10_window/'\n",
    "\n",
    "for filename in os.listdir(folder_path):\n",
    "    if filename.endswith('.txt'):\n",
    "        file_path = os.path.join(folder_path, filename)\n",
    "        \n",
    "        with open(file_path, 'r') as file:\n",
    "            lines = file.readlines()\n",
    "\n",
    "        if len(lines) > 1:\n",
    "            combined_first_two = lines[0].strip() + \" \" + lines[1].strip() + '\\n'\n",
    "            lines = [combined_first_two] + lines[2:]\n",
    "\n",
    "        with open(file_path, 'w') as file:\n",
    "            file.writelines(lines)\n"
   ]
  }
 ],
 "metadata": {
  "kernelspec": {
   "display_name": "Python 3",
   "language": "python",
   "name": "python3"
  },
  "language_info": {
   "codemirror_mode": {
    "name": "ipython",
    "version": 3
   },
   "file_extension": ".py",
   "mimetype": "text/x-python",
   "name": "python",
   "nbconvert_exporter": "python",
   "pygments_lexer": "ipython3",
   "version": "3.9.10"
  }
 },
 "nbformat": 4,
 "nbformat_minor": 2
}
