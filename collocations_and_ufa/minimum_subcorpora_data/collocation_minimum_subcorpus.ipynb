{
 "cells": [
  {
   "cell_type": "code",
   "execution_count": 1,
   "metadata": {},
   "outputs": [
    {
     "name": "stderr",
     "output_type": "stream",
     "text": [
      "[nltk_data] Downloading package punkt to\n",
      "[nltk_data]     C:\\Users\\Igiba\\AppData\\Roaming\\nltk_data...\n",
      "[nltk_data]   Package punkt is already up-to-date!\n"
     ]
    },
    {
     "name": "stdout",
     "output_type": "stream",
     "text": [
      "Processing files...\n"
     ]
    },
    {
     "name": "stderr",
     "output_type": "stream",
     "text": [
      "100%|██████████| 5284/5284 [01:23<00:00, 63.66it/s]\n",
      "100%|██████████| 8520/8520 [03:29<00:00, 40.73it/s] \n",
      "100%|██████████| 4390/4390 [01:36<00:00, 45.50it/s]   "
     ]
    },
    {
     "name": "stdout",
     "output_type": "stream",
     "text": [
      "\n",
      "Saving results to fact_counts_1665_1958.csv\n",
      "\n",
      "Fact Count Results:\n",
      "------------------------------------------------------------\n",
      "Period          Total Words  Fact     Facts   \n",
      "------------------------------------------------------------\n",
      "1665-1674       994663       11       3       \n",
      "1675-1684       557431       8        0       \n",
      "1685-1694       488977       12       1       \n",
      "1695-1704       983738       11       0       \n",
      "1705-1714       580926       13       1       \n",
      "1715-1724       412012       3        3       \n",
      "1725-1734       475327       4        1       \n",
      "1735-1744       779613       12       10      \n",
      "1745-1754       933817       27       32      \n",
      "1755-1764       1067910      35       48      \n",
      "1765-1774       1053412      54       24      \n",
      "1775-1784       1410531      90       79      \n",
      "1785-1794       1128687      82       52      \n",
      "1795-1804       1320660      277      198     \n",
      "1805-1814       1032616      230      297     \n",
      "1815-1824       1077752      288      189     \n",
      "1825-1834       1720757      449      352     \n",
      "1835-1844       1646897      624      424     \n",
      "1845-1854       2094649      939      397     \n",
      "1855-1864       3046668      1411     372     \n",
      "1865-1874       2796824      1131     340     \n",
      "1875-1884       3236545      1613     447     \n",
      "1885-1894       3808661      1774     527     \n",
      "1895-1904       4594577      2367     532     \n",
      "1905-1914       3346231      1808     344     \n",
      "1915-1924       2579734      1406     253     \n",
      "1925-1934       3569848      1759     356     \n",
      "1935-1944       2478767      1105     167     \n",
      "1945-1954       3202265      1426     170     \n"
     ]
    },
    {
     "name": "stderr",
     "output_type": "stream",
     "text": [
      "\n"
     ]
    }
   ],
   "source": [
    "import os\n",
    "import re\n",
    "from collections import defaultdict\n",
    "from nltk.tokenize import word_tokenize\n",
    "import nltk\n",
    "from tqdm import tqdm\n",
    "\n",
    "nltk.download('punkt')\n",
    "\n",
    "def extract_year_from_filename(filename):\n",
    "    match = re.search(r'rst[bla]?_(\\d{4})', filename)\n",
    "    return int(match.group(1)) if match else None\n",
    "\n",
    "def clean_text(text):\n",
    "    return text.replace('ſ', 's').replace('Å¿', 's').replace('obseryed', 'observed').replace('thab', 'that')\n",
    "\n",
    "def count_facts(text_dirs, start_year, end_year, window_size=10):\n",
    "    period_counts = defaultdict(lambda: {'fact': 0, 'facts': 0, 'total_words': 0})\n",
    "    \n",
    "    print(\"Processing files...\")\n",
    "    for dir_path in text_dirs:\n",
    "        for filename in tqdm(os.listdir(dir_path)):\n",
    "            if filename.endswith('.txt'):\n",
    "                year = extract_year_from_filename(filename)\n",
    "                if year and start_year <= year <= end_year:\n",
    "                    period_start = ((year - start_year) // window_size) * window_size + start_year\n",
    "                    period_end = period_start + window_size - 1\n",
    "                    period = f\"{period_start}-{period_end}\"\n",
    "                    \n",
    "                    try:\n",
    "                        file_path = os.path.join(dir_path, filename)\n",
    "                        with open(file_path, 'r', encoding='utf-8') as file:\n",
    "                            text = file.read()\n",
    "                            cleaned_text = clean_text(text)\n",
    "                            \n",
    "                            tokens = word_tokenize(cleaned_text.lower())\n",
    "                            period_counts[period]['total_words'] += len([t for t in tokens if t.isalpha()])\n",
    "                            period_counts[period]['fact'] += tokens.count('fact')\n",
    "                            period_counts[period]['facts'] += tokens.count('facts')\n",
    "                            \n",
    "                    except Exception as e:\n",
    "                        print(f\"Error processing file {filename}: {str(e)}\")\n",
    "    \n",
    "    # Print and save results\n",
    "    output_filename = f\"fact_counts_{start_year}_{end_year}.csv\"\n",
    "    print(f\"\\nSaving results to {output_filename}\")\n",
    "    \n",
    "    with open(output_filename, 'w', encoding='utf-8') as f:\n",
    "        f.write(\"Period,Total Words,Fact,Facts\\n\")\n",
    "        \n",
    "        sorted_periods = sorted(period_counts.keys())\n",
    "        \n",
    "        print(\"\\nFact Count Results:\")\n",
    "        print(\"-\" * 60)\n",
    "        print(f\"{'Period':<15} {'Total Words':<12} {'Fact':<8} {'Facts':<8}\")\n",
    "        print(\"-\" * 60)\n",
    "        \n",
    "        for period in sorted_periods:\n",
    "            counts = period_counts[period]\n",
    "            \n",
    "            # Print to console\n",
    "            print(f\"{period:<15} {counts['total_words']:<12} {counts['fact']:<8} {counts['facts']:<8}\")\n",
    "            \n",
    "            # Write to CSV\n",
    "            f.write(f\"{period},{counts['total_words']},{counts['fact']},{counts['facts']}\\n\")\n",
    "    \n",
    "    return period_counts\n",
    "\n",
    "if __name__ == \"__main__\":\n",
    "    text_directories = [r\"D:\\Fact_fiction_corpus\\texts\\royal society\\txt_rstb\", \n",
    "      r\"D:\\Fact_fiction_corpus\\texts\\royal society\\txt_rstl\", \n",
    "      r\"D:\\Fact_fiction_corpus\\texts\\royal society\\txt_rsta\"]\n",
    "    \n",
    "    start_year = 1665\n",
    "    end_year = 1958 \n",
    "    window_size = 10   \n",
    "    \n",
    "    counts = count_facts(text_directories, start_year, end_year, window_size)"
   ]
  },
  {
   "cell_type": "code",
   "execution_count": 2,
   "metadata": {},
   "outputs": [
    {
     "name": "stdout",
     "output_type": "stream",
     "text": [
      "Processing files...\n"
     ]
    },
    {
     "name": "stderr",
     "output_type": "stream",
     "text": [
      "100%|██████████| 5284/5284 [05:19<00:00, 16.56it/s] \n",
      "100%|██████████| 8520/8520 [00:00<00:00, 846892.36it/s]\n",
      "100%|██████████| 4390/4390 [02:45<00:00, 26.49it/s] "
     ]
    },
    {
     "name": "stdout",
     "output_type": "stream",
     "text": [
      "\n",
      "Saving results to fact_counts_2000_2024.csv\n",
      "\n",
      "Fact Count Results:\n",
      "------------------------------------------------------------\n",
      "Period          Total Words  Fact     Facts   \n",
      "------------------------------------------------------------\n",
      "2000-2009       1449170      363      34      \n",
      "2010-2019       38884895     8970     647     \n",
      "2020-2029       14212380     2974     158     \n"
     ]
    },
    {
     "name": "stderr",
     "output_type": "stream",
     "text": [
      "\n"
     ]
    }
   ],
   "source": [
    "start_year = 2000\n",
    "end_year = 2024 \n",
    "window_size = 10   \n",
    "    \n",
    "counts = count_facts(text_directories, start_year, end_year, window_size)"
   ]
  }
 ],
 "metadata": {
  "kernelspec": {
   "display_name": "Python 3",
   "language": "python",
   "name": "python3"
  },
  "language_info": {
   "codemirror_mode": {
    "name": "ipython",
    "version": 3
   },
   "file_extension": ".py",
   "mimetype": "text/x-python",
   "name": "python",
   "nbconvert_exporter": "python",
   "pygments_lexer": "ipython3",
   "version": "3.9.10"
  }
 },
 "nbformat": 4,
 "nbformat_minor": 2
}
