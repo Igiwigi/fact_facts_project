{
 "cells": [
  {
   "cell_type": "code",
   "execution_count": 4,
   "metadata": {},
   "outputs": [
    {
     "name": "stdout",
     "output_type": "stream",
     "text": [
      "Processing general_magazine.pdf...\n",
      "Combined text saved as general_magazine.txt\n",
      "Conversion complete.\n"
     ]
    }
   ],
   "source": [
    "#doing ocr for the royal society data etc. so its cleaner and easier to work with (in text form)\n",
    "import os\n",
    "import pytesseract\n",
    "from pdf2image import convert_from_path\n",
    "from concurrent.futures import ThreadPoolExecutor\n",
    "\n",
    "#a little sloppily done but its ok\n",
    "#pdf_dir = 'D:/Fact_fiction_corpus/texts/royal society/pdf'\n",
    "pdf_dir = 'D:/Fact_fiction_corpus/texts/General Magazine of Arts and Sciences/pdf'\n",
    "#txt_dir = 'D:/Fact_fiction_corpus/texts/royal society/txt'\n",
    "txt_dir = 'D:/Fact_fiction_corpus/texts/General Magazine of Arts and Sciences/txt'\n",
    "\n",
    "\n",
    "os.makedirs(txt_dir, exist_ok=True)\n",
    "\n",
    "# Configure Tesseract to use Old English language model 'enm'\n",
    "custom_config = r'--oem 1 --psm 4 -l enm'\n",
    "\n",
    "def process_pdf(pdf_file):\n",
    "    if pdf_file.endswith('.pdf'):\n",
    "        pdf_path = os.path.join(pdf_dir, pdf_file)\n",
    "        txt_file = os.path.splitext(pdf_file)[0] + '.txt'\n",
    "        txt_path = os.path.join(txt_dir, txt_file)\n",
    "\n",
    "        # Check if the text file already exists\n",
    "        if os.path.exists(txt_path):\n",
    "            print(f\"{txt_file} already exists, skipping OCR...\")\n",
    "            return\n",
    "\n",
    "        images = convert_from_path(pdf_path)\n",
    "        \n",
    "        print(f\"Processing {pdf_file}...\")\n",
    "\n",
    "        full_text = []\n",
    "\n",
    "        for i, image in enumerate(images):\n",
    "            image = image.convert('L')  # Convert image to grayscale\n",
    "            text = pytesseract.image_to_string(image, config=custom_config)\n",
    "            full_text.append(text)\n",
    "\n",
    "        with open(txt_path, 'w', encoding='utf-8') as f:\n",
    "            f.write('\\n\\n'.join(full_text))\n",
    "        \n",
    "        print(f\"Combined text saved as {txt_file}\")\n",
    "\n",
    "pdf_files = [f for f in os.listdir(pdf_dir) if f.endswith('.pdf')]\n",
    "\n",
    "#concurrent processing with thread pool\n",
    "with ThreadPoolExecutor(max_workers=os.cpu_count()) as executor:\n",
    "    executor.map(process_pdf, pdf_files)\n",
    "\n",
    "print(\"Conversion complete.\")\n"
   ]
  },
  {
   "cell_type": "code",
   "execution_count": null,
   "metadata": {},
   "outputs": [],
   "source": [
    "\"\"\"\n",
    "Page segmentation modes: (psm)\n",
    "    0    Orientation and script detection (OSD) only.\n",
    "    1    Automatic page segmentation with OSD.\n",
    "    2    Automatic page segmentation, but no OSD, or OCR.\n",
    "    3    Fully automatic page segmentation, but no OSD. (Default)\n",
    "    4    Assume a single column of text of variable sizes.\n",
    "    5    Assume a single uniform block of vertically aligned text.\n",
    "    6    Assume a single uniform block of text.\n",
    "    7    Treat the image as a single text line.\n",
    "    8    Treat the image as a single word.\n",
    "    9    Treat the image as a single word in a circle.\n",
    " 10    Treat the image as a single character.\n",
    " 11    Sparse text. Find as much text as possible in no particular order.\n",
    " 12    Sparse text with OSD.\n",
    " 13    Raw line. Treat the image as a single text line,\n",
    "                                                bypassing hacks that are Tesseract-specific.\n",
    "\n",
    "\n",
    "OCR Engine modes: (see https://github.com/tesseract-ocr/tesseract/wiki#linux)\n",
    "  0    Legacy engine only.\n",
    "  1    Neural nets LSTM engine only.\n",
    "  2    Legacy + LSTM engines.\n",
    "  3    Default, based on what is available.\n",
    "\"\"\"\n"
   ]
  }
 ],
 "metadata": {
  "kernelspec": {
   "display_name": "Python 3",
   "language": "python",
   "name": "python3"
  },
  "language_info": {
   "codemirror_mode": {
    "name": "ipython",
    "version": 3
   },
   "file_extension": ".py",
   "mimetype": "text/x-python",
   "name": "python",
   "nbconvert_exporter": "python",
   "pygments_lexer": "ipython3",
   "version": "3.9.10"
  }
 },
 "nbformat": 4,
 "nbformat_minor": 2
}
