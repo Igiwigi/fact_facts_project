{
 "cells": [
  {
   "cell_type": "code",
   "execution_count": 1,
   "metadata": {},
   "outputs": [
    {
     "ename": "FileNotFoundError",
     "evalue": "[WinError 3] The system cannot find the path specified: 'D:/Fact_fiction_corpus/texts/General Magazine of Arts and Sciences/pdf_rsta'",
     "output_type": "error",
     "traceback": [
      "\u001b[1;31m---------------------------------------------------------------------------\u001b[0m",
      "\u001b[1;31mFileNotFoundError\u001b[0m                         Traceback (most recent call last)",
      "Cell \u001b[1;32mIn[1], line 46\u001b[0m\n\u001b[0;32m     42\u001b[0m             f\u001b[38;5;241m.\u001b[39mwrite(\u001b[38;5;124m'\u001b[39m\u001b[38;5;130;01m\\n\u001b[39;00m\u001b[38;5;130;01m\\n\u001b[39;00m\u001b[38;5;124m'\u001b[39m\u001b[38;5;241m.\u001b[39mjoin(full_text))\n\u001b[0;32m     44\u001b[0m         \u001b[38;5;28mprint\u001b[39m(\u001b[38;5;124mf\u001b[39m\u001b[38;5;124m\"\u001b[39m\u001b[38;5;124mCombined text saved as \u001b[39m\u001b[38;5;132;01m{\u001b[39;00mtxt_file\u001b[38;5;132;01m}\u001b[39;00m\u001b[38;5;124m\"\u001b[39m)\n\u001b[1;32m---> 46\u001b[0m pdf_files \u001b[38;5;241m=\u001b[39m [f \u001b[38;5;28;01mfor\u001b[39;00m f \u001b[38;5;129;01min\u001b[39;00m \u001b[43mos\u001b[49m\u001b[38;5;241;43m.\u001b[39;49m\u001b[43mlistdir\u001b[49m\u001b[43m(\u001b[49m\u001b[43mpdf_dir\u001b[49m\u001b[43m)\u001b[49m \u001b[38;5;28;01mif\u001b[39;00m f\u001b[38;5;241m.\u001b[39mendswith(\u001b[38;5;124m'\u001b[39m\u001b[38;5;124m.pdf\u001b[39m\u001b[38;5;124m'\u001b[39m)]\n\u001b[0;32m     48\u001b[0m \u001b[38;5;66;03m#concurrent processing with thread pool\u001b[39;00m\n\u001b[0;32m     49\u001b[0m \u001b[38;5;28;01mwith\u001b[39;00m ThreadPoolExecutor(max_workers\u001b[38;5;241m=\u001b[39mos\u001b[38;5;241m.\u001b[39mcpu_count()) \u001b[38;5;28;01mas\u001b[39;00m executor:\n",
      "\u001b[1;31mFileNotFoundError\u001b[0m: [WinError 3] The system cannot find the path specified: 'D:/Fact_fiction_corpus/texts/General Magazine of Arts and Sciences/pdf_rsta'"
     ]
    }
   ],
   "source": [
    "#doing ocr for the royal society data etc. so its cleaner and easier to work with (in text form)\n",
    "import os\n",
    "import pytesseract\n",
    "from pdf2image import convert_from_path\n",
    "from concurrent.futures import ThreadPoolExecutor\n",
    "\n",
    "#a little sloppily done but its ok\n",
    "#pdf_dir = 'D:/Fact_fiction_corpus/texts/royal society/pdf'\n",
    "pdf_dir = 'D:/Fact_fiction_corpus/texts/royal society/pdf_rsta'\n",
    "#txt_dir = 'D:/Fact_fiction_corpus/texts/royal society/txt'\n",
    "txt_dir = 'D:/Fact_fiction_corpus/texts/royal society/txt_rsta'\n",
    "\n",
    "\n",
    "os.makedirs(txt_dir, exist_ok=True)\n",
    "\n",
    "# Configure Tesseract to use Old English language model 'enm'\n",
    "#custom_config = r'--oem 1 --psm 4 -l enm'\n",
    "\n",
    "custom_config = r'--oem 1 --psm 4 -l eng'\n",
    "\n",
    "def process_pdf(pdf_file):\n",
    "    if pdf_file.endswith('.pdf'):\n",
    "        pdf_path = os.path.join(pdf_dir, pdf_file)\n",
    "        txt_file = os.path.splitext(pdf_file)[0] + '.txt'\n",
    "        txt_path = os.path.join(txt_dir, txt_file)\n",
    "\n",
    "        # Check if the text file already exists\n",
    "        if os.path.exists(txt_path):\n",
    "            print(f\"{txt_file} already exists, skipping OCR...\")\n",
    "            return\n",
    "\n",
    "        images = convert_from_path(pdf_path)\n",
    "        \n",
    "        print(f\"Processing {pdf_file}...\")\n",
    "\n",
    "        full_text = []\n",
    "\n",
    "        for i, image in enumerate(images):\n",
    "            image = image.convert('L')  # Convert image to grayscale\n",
    "            text = pytesseract.image_to_string(image, config=custom_config)\n",
    "            full_text.append(text)\n",
    "\n",
    "        with open(txt_path, 'w', encoding='utf-8') as f:\n",
    "            f.write('\\n\\n'.join(full_text))\n",
    "        \n",
    "        print(f\"Combined text saved as {txt_file}\")\n",
    "\n",
    "pdf_files = [f for f in os.listdir(pdf_dir) if f.endswith('.pdf')]\n",
    "\n",
    "#concurrent processing with thread pool\n",
    "with ThreadPoolExecutor(max_workers=os.cpu_count()) as executor:\n",
    "    executor.map(process_pdf, pdf_files)\n",
    "\n",
    "print(\"Conversion complete.\")\n"
   ]
  },
  {
   "cell_type": "code",
   "execution_count": null,
   "metadata": {},
   "outputs": [],
   "source": [
    "\"\"\"\n",
    "Page segmentation modes: (psm)\n",
    "    0    Orientation and script detection (OSD) only.\n",
    "    1    Automatic page segmentation with OSD.\n",
    "    2    Automatic page segmentation, but no OSD, or OCR.\n",
    "    3    Fully automatic page segmentation, but no OSD. (Default)\n",
    "    4    Assume a single column of text of variable sizes.\n",
    "    5    Assume a single uniform block of vertically aligned text.\n",
    "    6    Assume a single uniform block of text.\n",
    "    7    Treat the image as a single text line.\n",
    "    8    Treat the image as a single word.\n",
    "    9    Treat the image as a single word in a circle.\n",
    " 10    Treat the image as a single character.\n",
    " 11    Sparse text. Find as much text as possible in no particular order.\n",
    " 12    Sparse text with OSD.\n",
    " 13    Raw line. Treat the image as a single text line,\n",
    "                                                bypassing hacks that are Tesseract-specific.\n",
    "\n",
    "\n",
    "OCR Engine modes: (see https://github.com/tesseract-ocr/tesseract/wiki#linux)\n",
    "  0    Legacy engine only.\n",
    "  1    Neural nets LSTM engine only.\n",
    "  2    Legacy + LSTM engines.\n",
    "  3    Default, based on what is available.\n",
    "\"\"\"\n"
   ]
  }
 ],
 "metadata": {
  "kernelspec": {
   "display_name": "Python 3",
   "language": "python",
   "name": "python3"
  },
  "language_info": {
   "codemirror_mode": {
    "name": "ipython",
    "version": 3
   },
   "file_extension": ".py",
   "mimetype": "text/x-python",
   "name": "python",
   "nbconvert_exporter": "python",
   "pygments_lexer": "ipython3",
   "version": "3.9.10"
  }
 },
 "nbformat": 4,
 "nbformat_minor": 2
}
