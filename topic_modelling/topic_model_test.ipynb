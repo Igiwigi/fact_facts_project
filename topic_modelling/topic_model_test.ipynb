{
 "cells": [
  {
   "cell_type": "markdown",
   "metadata": {},
   "source": [
    "Basic topic modelling for just the contexts and their topics\n",
    "\n",
    "\n",
    "- right now running it without removing non-words! (but am removing stop_words)"
   ]
  },
  {
   "cell_type": "markdown",
   "metadata": {},
   "source": [
    "Both global_tuning and evolutionary_tuning are set to True as a default, but can easily be changed. Perhaps you do not want the representations to be influenced by the global representation and merely see how they evolved over time:\n",
    "\n",
    "\n",
    "to do if i care\n",
    "- remove non-words somehow (not worth the computational effort, probably) (also no good enough word list, unless using a tensorflow etc. to detect what are \"likely\" real words)\n",
    "- maybe subset the topics for fact/fiction to be to 90s and after 90s (so it can plot them better)"
   ]
  },
  {
   "cell_type": "markdown",
   "metadata": {},
   "source": [
    "FUNCTIONS ETC"
   ]
  },
  {
   "cell_type": "code",
   "execution_count": 1,
   "metadata": {},
   "outputs": [],
   "source": [
    "import pandas as pd\n",
    "from pathlib import Path\n",
    "from bertopic import BERTopic\n",
    "from nltk.corpus import stopwords\n",
    "from nltk.tokenize import word_tokenize\n",
    "import nltk\n",
    "from concurrent.futures import ThreadPoolExecutor, as_completed\n",
    "\n",
    "stop_words = set(stopwords.words('english'))\n",
    "\n",
    "def remove_stop_words(text):\n",
    "    words = word_tokenize(text)\n",
    "    filtered_words = [word for word in words if word.lower() not in stop_words]\n",
    "    return ' '.join(filtered_words)\n",
    "\n",
    "def load_metadata(metadata_path):\n",
    "    return pd.read_csv(metadata_path)\n",
    "\n",
    "def process_file(txt_file, metadata_df):\n",
    "    filename = txt_file.name\n",
    "    file_date = metadata_df.loc[metadata_df['filename'] == filename.replace('.txt', '.pdf'), 'date'].values\n",
    "    if file_date.size > 0:\n",
    "        try:\n",
    "            period = pd.Period(pd.to_datetime(file_date[0], format='%Y/%m/%d').strftime('%Y'), freq='Y')\n",
    "            with open(txt_file, 'r', encoding='utf-8') as f:\n",
    "                text = f.read()\n",
    "            return text, period\n",
    "        except (pd.errors.OutOfBoundsDatetime, ValueError):\n",
    "            #print(f\"Invalid date for file: {filename}\")\n",
    "            return None, None #for now this is fine because our data has NO fact/fiction before 1667\n",
    "    else:\n",
    "        print(f\"Date not found for file: {filename}\")\n",
    "        return None, None\n",
    "\n",
    "def load_texts_and_dates(folder_path, metadata_df):\n",
    "    texts = []\n",
    "    periods = []\n",
    "    \n",
    "    with ThreadPoolExecutor() as executor:\n",
    "        futures = {executor.submit(process_file, txt_file, metadata_df): txt_file for txt_file in folder_path.glob('*.txt')}\n",
    "        for future in as_completed(futures):\n",
    "            text, period = future.result()\n",
    "            if text is not None and period is not None:\n",
    "                texts.append(text)\n",
    "                periods.append(period)\n",
    "    \n",
    "    return texts, periods\n",
    "\n"
   ]
  },
  {
   "cell_type": "code",
   "execution_count": 2,
   "metadata": {},
   "outputs": [],
   "source": [
    "def process_texts(folders):\n",
    "    all_texts = []\n",
    "    all_periods = []\n",
    "    \n",
    "    for key, (folder_path, metadata_path) in folders.items():\n",
    "        metadata_df = load_metadata(metadata_path)\n",
    "        texts, periods = load_texts_and_dates(folder_path, metadata_df)\n",
    "        all_texts.extend(texts)\n",
    "        all_periods.extend(periods)\n",
    "        print(f\"Processed {len(texts)} files from {folder_path}\")\n",
    "    \n",
    "    period_strings = [period.strftime('%Y-%m-%d') for period in all_periods]\n",
    "    processed_texts = [remove_stop_words(text) for text in all_texts]\n",
    "    \n",
    "    return processed_texts, period_strings\n",
    "\n",
    "b_folders = {\n",
    "    'rstb': (Path('D:/Fact_fiction_corpus/texts/royal society/txt_rstb'), 'D:/Fact_fiction_corpus/texts/royal society/royalsociety_metadata_rstb.csv'),\n",
    "}\n",
    "\n",
    "l_folders = {\n",
    "    'rstb': (Path('D:/Fact_fiction_corpus/texts/royal society/txt_rstl'), 'D:/Fact_fiction_corpus/texts/royal society/royalsociety_metadata_rstl.csv'),\n",
    "}\n",
    "\n",
    "a_folders = {\n",
    "    'rstb': (Path('D:/Fact_fiction_corpus/texts/royal society/txt_rsta'), 'D:/Fact_fiction_corpus/texts/royal society/royalsociety_metadata_rsta.csv'),\n",
    "}\n",
    "\n",
    "b_texts, b_periods = process_texts(b_folders)\n",
    "l_texts, l_periods = process_texts(l_folders)\n",
    "a_texts, a_periods = process_texts(a_folders)"
   ]
  },
  {
   "cell_type": "markdown",
   "metadata": {},
   "source": [
    "FACT/FICTION CONTEXTS"
   ]
  },
  {
   "cell_type": "code",
   "execution_count": 3,
   "metadata": {},
   "outputs": [],
   "source": [
    "import pandas as pd\n",
    "from pathlib import Path\n",
    "from bertopic import BERTopic\n",
    "\n",
    "#contexts-only (kind of long though)\n",
    "rs_data = pd.concat([pd.read_excel(\"../data_for_viewing/extracted_raw/ff_royal_society_words_found_full_RSTB.xlsx\"), pd.read_excel(\"../data_for_viewing/extracted_raw/ff_royal_society_words_found_full_RSTL.xlsx\"), pd.read_excel(\"../data_for_viewing/extracted_raw/ff_royal_society_words_found_full_RSTA.xlsx\")], ignore_index=True)\n",
    "rs_data['Date'] = pd.to_datetime(rs_data['Date'], errors='coerce')\n",
    "rs_data = rs_data.dropna(subset=['Date'])\n",
    "\n",
    "# Fact\n",
    "fact_data = rs_data[rs_data['Keyword'].str.contains('act', case=False, na=False)]\n",
    "date_fact = fact_data['Date'].tolist()\n",
    "contexts_fact = fact_data['Context'].to_list()\n",
    "\n",
    "# Fiction\n",
    "fiction_data = rs_data[rs_data['Keyword'].str.contains('ict', case=False, na=False)]\n",
    "date_fict = fiction_data['Date'].tolist()\n",
    "contexts_fict = fiction_data['Context'].to_list()\n",
    "\n",
    "fict_data_clean = [remove_stop_words(text) for text in contexts_fict]\n",
    "fact_data_clean = [remove_stop_words(text) for text in contexts_fact]"
   ]
  },
  {
   "cell_type": "code",
   "execution_count": 7,
   "metadata": {},
   "outputs": [
    {
     "data": {
      "application/vnd.plotly.v1+json": {
       "config": {
        "plotlyServerURL": "https://plot.ly"
       },
       "data": [
        {
         "hoverinfo": "text",
         "hovertext": [
          "<b>Topic 0</b><br>Words: spheria, perithecia, sporidia, fruit, stroma",
          "<b>Topic 0</b><br>Words: rotulz, spicula, spiculum, shaft, xxvi",
          "<b>Topic 0</b><br>Words: gonophores, stems, asterophyllites, calamites, sphenophyllum",
          "<b>Topic 0</b><br>Words: sporangium, exosporium, sporangia, macrospores, endosporium",
          "<b>Topic 0</b><br>Words: verticil, sporangia, verticils, sporangium, sporangiophores",
          "<b>Topic 0</b><br>Words: sporangia, sporangium, sorus, sporogenous, ferns",
          "<b>Topic 0</b><br>Words: sporangia, sporangium, sporogenous, sporophyte, ferns",
          "<b>Topic 0</b><br>Words: miadesmia, velum, sporangia, sporangium, sporange",
          "<b>Topic 0</b><br>Words: nath, williamsonia, sporophylls, synangia, whitbiensis",
          "<b>Topic 0</b><br>Words: sporangia, epimatium, vieillardi, spores, acmopyle",
          "<b>Topic 0</b><br>Words: lycopodiales, equisetales, sporangia, psilophyton, pteridosperms",
          "<b>Topic 0</b><br>Words: spores, sporangia, mm, sporangium, associatedtube",
          "<b>Topic 0</b><br>Words: stalks, beania, colonies, cone, cycads",
          "<b>Topic 0</b><br>Words: stauropteris, burntislandica, sporangium, spores, sporangia",
          "<b>Topic 0</b><br>Words: sporophytes, icss, sporophyte, sporangia, funaria"
         ],
         "marker": {
          "color": "#E69F00"
         },
         "mode": "lines",
         "name": "0_sporangia_sporangium_sporogenous_sorus",
         "type": "scatter",
         "x": [
          "1851-08-27T12:00:00",
          "1858-07-31T06:43:12",
          "1872-06-06T20:09:36",
          "1879-05-11T14:52:48",
          "1886-04-14T09:36:00",
          "1893-03-18T04:19:12",
          "1900-02-19T23:02:24",
          "1907-01-24T17:45:36",
          "1913-12-28T12:28:48",
          "1920-12-01T07:12:00",
          "1927-11-05T01:55:12",
          "1934-10-08T20:38:24",
          "1941-09-11T15:21:36",
          "1948-08-15T10:04:48",
          "2017-11-19T05:16:48"
         ],
         "y": [
          9,
          2,
          3,
          3,
          5,
          251,
          109,
          7,
          3,
          10,
          8,
          3,
          2,
          10,
          6
         ]
        },
        {
         "hoverinfo": "text",
         "hovertext": [
          "<b>Topic 1</b><br>Words: legitimate, probability, definition, postulates, theories",
          "<b>Topic 1</b><br>Words: quantum, superpositions, hat, einstein, schrdinger",
          "<b>Topic 1</b><br>Words: smpec, stewart, programming, parrixsson, patriksson",
          "<b>Topic 1</b><br>Words: quantum, classical, mechanics, bohr, physics",
          "<b>Topic 1</b><br>Words: quantum, measurement, classical, contextuality, qm"
         ],
         "marker": {
          "color": "#56B4E9"
         },
         "mode": "lines",
         "name": "1_quantum_classical_measurement_physics",
         "type": "scatter",
         "x": [
          "1934-10-08T20:38:24",
          "1997-02-07T21:07:12",
          "2004-01-12T15:50:24",
          "2010-12-16T10:33:36",
          "2017-11-19T05:16:48"
         ],
         "y": [
          2,
          1,
          1,
          150,
          164
         ]
        },
        {
         "hoverinfo": "text",
         "hovertext": [
          "<b>Topic 2</b><br>Words: aircanals, flowerstalks, stem, bundles, scars",
          "<b>Topic 2</b><br>Words: bundles, dicotyledonous, monocotyledons, monocotyledonous, stem",
          "<b>Topic 2</b><br>Words: woody, bark, stem, pith, node",
          "<b>Topic 2</b><br>Words: medullary, bundles, bark, vascular, bundle",
          "<b>Topic 2</b><br>Words: lepidodendroid, medullary, vascular, bundle, bundles",
          "<b>Topic 2</b><br>Words: bundle, vascular, bundles, lyginodendron, aspera",
          "<b>Topic 2</b><br>Words: bundles, stem, bundle, xylem, wood",
          "<b>Topic 2</b><br>Words: bundles, strands, phloem, stem, xylem",
          "<b>Topic 2</b><br>Words: xylem, bundles, lignified, phelloderm, lepidophloios",
          "<b>Topic 2</b><br>Words: wood, strands, xylem, pith, pitys",
          "<b>Topic 2</b><br>Words: xylem, vieillardi, medullary, phloem, strands",
          "<b>Topic 2</b><br>Words: petioles, roots, xylem, cortex, stem",
          "<b>Topic 2</b><br>Words: initials, storeys, elevations, fusiform, storey",
          "<b>Topic 2</b><br>Words: frond, branches, jointtracebar, daughter, stele"
         ],
         "marker": {
          "color": "#009E73"
         },
         "mode": "lines",
         "name": "2_bundles_medullary_stem_xylem",
         "type": "scatter",
         "x": [
          "1851-08-27T12:00:00",
          "1858-07-31T06:43:12",
          "1865-07-04T01:26:24",
          "1872-06-06T20:09:36",
          "1879-05-11T14:52:48",
          "1886-04-14T09:36:00",
          "1893-03-18T04:19:12",
          "1900-02-19T23:02:24",
          "1907-01-24T17:45:36",
          "1913-12-28T12:28:48",
          "1920-12-01T07:12:00",
          "1927-11-05T01:55:12",
          "1934-10-08T20:38:24",
          "1948-08-15T10:04:48"
         ],
         "y": [
          2,
          4,
          8,
          64,
          22,
          9,
          92,
          16,
          12,
          11,
          20,
          16,
          2,
          3
         ]
        },
        {
         "hoverinfo": "text",
         "hovertext": [
          "<b>Topic 3</b><br>Words: increae, periodical, ea, tide, catara",
          "<b>Topic 3</b><br>Words: bay, biscay, winds, channel, gales",
          "<b>Topic 3</b><br>Words: goodwin, dover, strait, tides, ship",
          "<b>Topic 3</b><br>Words: scilly, cape, finisterre, channel, tide",
          "<b>Topic 3</b><br>Words: tide, tides, dungeness, sleeve, ebb",
          "<b>Topic 3</b><br>Words: tide, tides, moon, coast, inequality",
          "<b>Topic 3</b><br>Words: diurnal, tides, tide, inequality, moon",
          "<b>Topic 3</b><br>Words: tide, tides, diurnal, moon, cotidal",
          "<b>Topic 3</b><br>Words: wave, dover, moon, longitude, channel",
          "<b>Topic 3</b><br>Words: tide, tides, diurnal, solstice, 185051",
          "<b>Topic 3</b><br>Words: tide, moon, semidiurnal, earth, tides",
          "<b>Topic 3</b><br>Words: cove, tide, refuge, diurnal, tides",
          "<b>Topic 3</b><br>Words: tides, tidal, tide, obliquity, moon",
          "<b>Topic 3</b><br>Words: tide, tidal, harmonic, decimal, tides",
          "<b>Topic 3</b><br>Words: tides, tide, equator, ocean, hough",
          "<b>Topic 3</b><br>Words: planet, planets, instability, satellite, momentum",
          "<b>Topic 3</b><br>Words: tidal, cotidal, hw, channel, 6h",
          "<b>Topic 3</b><br>Words: tide, tides, knots, currents, tidal",
          "<b>Topic 3</b><br>Words: hourly, bed, multipliers, microseisms, sums",
          "<b>Topic 3</b><br>Words: amphidromic, goldsbrough, tides, ocean, cotidal",
          "<b>Topic 3</b><br>Words: surge, north, winds, sea, straits",
          "<b>Topic 3</b><br>Words: pegh2, pgh2, timescale, contraction, pc",
          "<b>Topic 3</b><br>Words: alderney, downstream, tidal, mab, hague"
         ],
         "marker": {
          "color": "#F0E442"
         },
         "mode": "lines",
         "name": "3_tide_tides_moon_tidal",
         "type": "scatter",
         "x": [
          "1775-06-18T22:04:48",
          "1789-04-25T11:31:12",
          "1803-03-04T00:57:36",
          "1810-02-04T19:40:48",
          "1817-01-08T14:24:00",
          "1830-11-16T03:50:24",
          "1837-10-19T22:33:36",
          "1844-09-22T17:16:48",
          "1851-08-27T12:00:00",
          "1858-07-31T06:43:12",
          "1865-07-04T01:26:24",
          "1872-06-06T20:09:36",
          "1879-05-11T14:52:48",
          "1886-04-14T09:36:00",
          "1893-03-18T04:19:12",
          "1900-02-19T23:02:24",
          "1913-12-28T12:28:48",
          "1920-12-01T07:12:00",
          "1927-11-05T01:55:12",
          "1934-10-08T20:38:24",
          "1948-08-15T10:04:48",
          "2010-12-16T10:33:36",
          "2017-11-19T05:16:48"
         ],
         "y": [
          1,
          3,
          3,
          15,
          8,
          65,
          23,
          26,
          4,
          3,
          2,
          1,
          36,
          3,
          18,
          5,
          13,
          15,
          2,
          4,
          11,
          1,
          4
         ]
        },
        {
         "hoverinfo": "text",
         "hovertext": [
          "<b>Topic 4</b><br>Words: hyperbolas, parabolas, porism, hyperbola, prop",
          "<b>Topic 4</b><br>Words: vfipvd, c0, c41, equation, vvpa",
          "<b>Topic 4</b><br>Words: cubic, curve, coordinates, pippian, conic",
          "<b>Topic 4</b><br>Words: scroll, line, points, conic, curve",
          "<b>Topic 4</b><br>Words: curve, tangent, conic, cubic, intersection",
          "<b>Topic 4</b><br>Words: contact, tangent, curve, v0, spottiswoode",
          "<b>Topic 4</b><br>Words: coordinates, eliminations, fortyeight, conic, curve",
          "<b>Topic 4</b><br>Words: coinciding, wu, dfda, loous, dbdx",
          "<b>Topic 4</b><br>Words: cubic, lines, curve, cubics, tangents",
          "<b>Topic 4</b><br>Words: curve, points, plane, quartic, tangent",
          "<b>Topic 4</b><br>Words: san, 00103, 0440, 00020, culmination",
          "<b>Topic 4</b><br>Words: coeflicients, invariant, refracting, 4dadm, xpression",
          "<b>Topic 4</b><br>Words: quadrics, planes, quadric, cubic, meets",
          "<b>Topic 4</b><br>Words: coordinates, lemniscate, zc, bernoulli, lorentz",
          "<b>Topic 4</b><br>Words: osculating, scroll, directrix, line, meets",
          "<b>Topic 4</b><br>Words: kasner, taub, sync, uvalues, midpoints"
         ],
         "marker": {
          "color": "#D55E00"
         },
         "mode": "lines",
         "name": "4_curve_cubic_line_conic",
         "type": "scatter",
         "x": [
          "1796-03-29T06:14:24",
          "1810-02-04T19:40:48",
          "1851-08-27T12:00:00",
          "1858-07-31T06:43:12",
          "1865-07-04T01:26:24",
          "1872-06-06T20:09:36",
          "1879-05-11T14:52:48",
          "1886-04-14T09:36:00",
          "1893-03-18T04:19:12",
          "1900-02-19T23:02:24",
          "1913-12-28T12:28:48",
          "1920-12-01T07:12:00",
          "1927-11-05T01:55:12",
          "1934-10-08T20:38:24",
          "1941-09-11T15:21:36",
          "2017-11-19T05:16:48"
         ],
         "y": [
          1,
          3,
          24,
          59,
          81,
          25,
          2,
          2,
          8,
          6,
          1,
          1,
          34,
          2,
          6,
          1
         ]
        },
        {
         "hoverinfo": "text",
         "hovertext": [
          "<b>Topic 5</b><br>Words: ship, industry, fascinating, industries, glamour",
          "<b>Topic 5</b><br>Words: lba, climate, convention, scientists, 2007",
          "<b>Topic 5</b><br>Words: climate, geoengineering, uncertainty, emissions, mitigation",
          "<b>Topic 5</b><br>Words: emissions, climate, 15c, warming, risk"
         ],
         "marker": {
          "color": "#0072B2"
         },
         "mode": "lines",
         "name": "5_climate_emissions_geoengineering_uncer...",
         "type": "scatter",
         "x": [
          "1969-05-26T18:14:24",
          "2004-01-12T15:50:24",
          "2010-12-16T10:33:36",
          "2017-11-19T05:16:48"
         ],
         "y": [
          1,
          13,
          128,
          98
         ]
        },
        {
         "hoverinfo": "text",
         "hovertext": [
          "<b>Topic 6</b><br>Words: viral, andersongill, viruses, vaccine, hiv",
          "<b>Topic 6</b><br>Words: malaria, disease, health, transmission, vaccine",
          "<b>Topic 6</b><br>Words: epidemic, disease, transmission, malaria, infection"
         ],
         "marker": {
          "color": "#CC79A7"
         },
         "mode": "lines",
         "name": "6_malaria_disease_epidemic_health",
         "type": "scatter",
         "x": [
          "2004-01-12T15:50:24",
          "2010-12-16T10:33:36",
          "2017-11-19T05:16:48"
         ],
         "y": [
          3,
          119,
          104
         ]
        },
        {
         "hoverinfo": "text",
         "hovertext": [
          "<b>Topic 7</b><br>Words: galvanic, electricity, gavanic, pile, fluids",
          "<b>Topic 7</b><br>Words: zinc, electricity, metals, chemical, acid",
          "<b>Topic 7</b><br>Words: voltaic, chlorine, fumes, shewn, electricity",
          "<b>Topic 7</b><br>Words: electrical, thevidea, incontact, byits, substancesin",
          "<b>Topic 7</b><br>Words: voltaic, mercury, contact, zinc, electricity",
          "<b>Topic 7</b><br>Words: electricity, voltaic, zinc, electrochemical, poles",
          "<b>Topic 7</b><br>Words: voltaic, contact, battery, electricity, chemical",
          "<b>Topic 7</b><br>Words: battery, voltaic, chemical, contact, action",
          "<b>Topic 7</b><br>Words: voltaic, terminals, battery, dielectric, bile",
          "<b>Topic 7</b><br>Words: micrometer, battery, disk, attraction, bichro",
          "<b>Topic 7</b><br>Words: farad, 27tn, muirheaad, taylos, 8tandard",
          "<b>Topic 7</b><br>Words: contac, sbetween, sutting, 8ition, em1",
          "<b>Topic 7</b><br>Words: millivolts, nitric, acid, zine, mgvement",
          "<b>Topic 7</b><br>Words: volts, charge, residual, creeping, sulphur",
          "<b>Topic 7</b><br>Words: ag, mincuin, plates, agagcl, inconstant"
         ],
         "marker": {
          "color": "#E69F00"
         },
         "mode": "lines",
         "name": "7_voltaic_electricity_battery_zinc",
         "type": "scatter",
         "x": [
          "1796-03-29T06:14:24",
          "1803-03-04T00:57:36",
          "1810-02-04T19:40:48",
          "1817-01-08T14:24:00",
          "1823-12-13T09:07:12",
          "1830-11-16T03:50:24",
          "1837-10-19T22:33:36",
          "1844-09-22T17:16:48",
          "1851-08-27T12:00:00",
          "1865-07-04T01:26:24",
          "1872-06-06T20:09:36",
          "1879-05-11T14:52:48",
          "1886-04-14T09:36:00",
          "1893-03-18T04:19:12",
          "1900-02-19T23:02:24"
         ],
         "y": [
          3,
          14,
          2,
          1,
          18,
          84,
          70,
          19,
          3,
          1,
          1,
          1,
          2,
          2,
          4
         ]
        },
        {
         "hoverinfo": "text",
         "hovertext": [
          "<b>Topic 8</b><br>Words: filk, ilk, expoed, ome, ubtepid",
          "<b>Topic 8</b><br>Words: eye, humour, cornea, vision, lens",
          "<b>Topic 8</b><br>Words: eye, lens, vision, lecture, retina",
          "<b>Topic 8</b><br>Words: cataracts, selden, warz, curserlonx, cyz",
          "<b>Topic 8</b><br>Words: vision, eye, pupil, shortsighted, belladonna",
          "<b>Topic 8</b><br>Words: eye, blind, vision, eyes, recti",
          "<b>Topic 8</b><br>Words: lighthouses, trinity, captain, hazvy, corpy",
          "<b>Topic 8</b><br>Words: eye, vision, horopter, objects, object",
          "<b>Topic 8</b><br>Words: magnitude, vision, retina, object, perceived",
          "<b>Topic 8</b><br>Words: colourblind, normaleyed, colours, yellow, red",
          "<b>Topic 8</b><br>Words: macula, foyea, segment, retina, cones",
          "<b>Topic 8</b><br>Words: sensation, red, green, luminosity, blind",
          "<b>Topic 8</b><br>Words: violet, retina, colours, eye, colour",
          "<b>Topic 8</b><br>Words: white, ssn, sensation, sensations, green",
          "<b>Topic 8</b><br>Words: sensations, sensation, colour, violet, red",
          "<b>Topic 8</b><br>Words: threshold, rods, fovea, sensation, vision",
          "<b>Topic 8</b><br>Words: yellow, macula, colour, transmitting, eye",
          "<b>Topic 8</b><br>Words: colorimetric, eye, primaries, trichromatic, investigations",
          "<b>Topic 8</b><br>Words: vision, yellow, eye, red, fixation",
          "<b>Topic 8</b><br>Words: rods, vision, eye, colour, cz",
          "<b>Topic 8</b><br>Words: colour, photoreceptor, receptorbased, vision, sensitivities"
         ],
         "marker": {
          "color": "#56B4E9"
         },
         "mode": "lines",
         "name": "8_eye_vision_colour_red",
         "type": "scatter",
         "x": [
          "1782-05-22T16:48:00",
          "1789-04-25T11:31:12",
          "1796-03-29T06:14:24",
          "1803-03-04T00:57:36",
          "1810-02-04T19:40:48",
          "1823-12-13T09:07:12",
          "1830-11-16T03:50:24",
          "1837-10-19T22:33:36",
          "1851-08-27T12:00:00",
          "1858-07-31T06:43:12",
          "1865-07-04T01:26:24",
          "1886-04-14T09:36:00",
          "1893-03-18T04:19:12",
          "1900-02-19T23:02:24",
          "1907-01-24T17:45:36",
          "1913-12-28T12:28:48",
          "1920-12-01T07:12:00",
          "1927-11-05T01:55:12",
          "1941-09-11T15:21:36",
          "2010-12-16T10:33:36",
          "2017-11-19T05:16:48"
         ],
         "y": [
          1,
          19,
          17,
          1,
          7,
          7,
          1,
          18,
          3,
          21,
          1,
          7,
          10,
          7,
          7,
          2,
          1,
          6,
          74,
          11,
          4
         ]
        },
        {
         "hoverinfo": "text",
         "hovertext": [
          "<b>Topic 9</b><br>Words: cubic, roots, surd, gz, equation",
          "<b>Topic 9</b><br>Words: hall, cessive, relative, simul, taneous",
          "<b>Topic 9</b><br>Words: n1, azn, dyopl, nagpn, ajnag",
          "<b>Topic 9</b><br>Words: roots, coefficients, equation, equations, functions",
          "<b>Topic 9</b><br>Words: equation, roots, quintic, coefficients, equations",
          "<b>Topic 9</b><br>Words: equation, coefficients, roots, cayley, 2b",
          "<b>Topic 9</b><br>Words: equation, writing, equations, transformation, curye",
          "<b>Topic 9</b><br>Words: ab, functions, equations, vab, factors",
          "<b>Topic 9</b><br>Words: gey, acy, ay, shere, vet",
          "<b>Topic 9</b><br>Words: periodequation, roots, determinant, minors, equations",
          "<b>Topic 9</b><br>Words: roots, equation, subnormal, satisfied, equations",
          "<b>Topic 9</b><br>Words: firstl, gts, dasod, ghiveaos1c, ilade",
          "<b>Topic 9</b><br>Words: sha, 2sh, 4h, 2h, hh",
          "<b>Topic 9</b><br>Words: auxiliaries, 1001av, ypc, 1542, 1e",
          "<b>Topic 9</b><br>Words: determinant, 2u, xa, gaunt, x0",
          "<b>Topic 9</b><br>Words: kr, formulae, binomial, fyus, maal",
          "<b>Topic 9</b><br>Words: xr, collineations, sz1, hr, 1z",
          "<b>Topic 9</b><br>Words: zeros, polynomials, polynomial, cancellation, roots",
          "<b>Topic 9</b><br>Words: 2mm, m0, nz, nj, mtm",
          "<b>Topic 9</b><br>Words: vxa, kd, aa, qk, agby"
         ],
         "marker": {
          "color": "#009E73"
         },
         "mode": "lines",
         "name": "9_equation_roots_equations_coefficients",
         "type": "scatter",
         "x": [
          "1796-03-29T06:14:24",
          "1810-02-04T19:40:48",
          "1837-10-19T22:33:36",
          "1851-08-27T12:00:00",
          "1858-07-31T06:43:12",
          "1865-07-04T01:26:24",
          "1872-06-06T20:09:36",
          "1879-05-11T14:52:48",
          "1886-04-14T09:36:00",
          "1893-03-18T04:19:12",
          "1900-02-19T23:02:24",
          "1907-01-24T17:45:36",
          "1913-12-28T12:28:48",
          "1920-12-01T07:12:00",
          "1927-11-05T01:55:12",
          "1934-10-08T20:38:24",
          "1941-09-11T15:21:36",
          "1948-08-15T10:04:48",
          "2010-12-16T10:33:36",
          "2017-11-19T05:16:48"
         ],
         "y": [
          3,
          1,
          1,
          29,
          72,
          19,
          20,
          19,
          3,
          7,
          17,
          1,
          3,
          4,
          3,
          2,
          2,
          8,
          1,
          8
         ]
        },
        {
         "hoverinfo": "text",
         "hovertext": [
          "<b>Topic 10</b><br>Words: uch, rained, ome, houes, ometimes",
          "<b>Topic 10</b><br>Words: themelves, lough, reaon, digged, thoe",
          "<b>Topic 10</b><br>Words: uch, firt, thoe, mall, thee",
          "<b>Topic 10</b><br>Words: canterbury, hitory, whoe, profit, ome",
          "<b>Topic 10</b><br>Words: ommondthick, dicontinued, plowing, unaccep, deliring",
          "<b>Topic 10</b><br>Words: fiherman, aged, town, william, tetifie",
          "<b>Topic 10</b><br>Words: ditemper, thoe, cattle, he, ome",
          "<b>Topic 10</b><br>Words: queries, thoe, acmird, believd, jaac",
          "<b>Topic 10</b><br>Words: hould, 1732, intead, thoe, uch",
          "<b>Topic 10</b><br>Words: thee, ome, monieur, trembley, uch",
          "<b>Topic 10</b><br>Words: thee, thoe, ame, ome, firt",
          "<b>Topic 10</b><br>Words: thee, thoe, ome, firt, uch",
          "<b>Topic 10</b><br>Words: ome, mot, uch, preent, thoe",
          "<b>Topic 10</b><br>Words: uch, thoe, thee, ome, firt",
          "<b>Topic 10</b><br>Words: thee, ome, thoe, mot, firt",
          "<b>Topic 10</b><br>Words: thoe, fih, myelf, ome, firt",
          "<b>Topic 10</b><br>Words: ants, etate, canes, fickly, limetree",
          "<b>Topic 10</b><br>Words: emperor, jehangire, persian, kirkpatrick, recollect",
          "<b>Topic 10</b><br>Words: chinese, expurgata, vanity, halde, arabians",
          "<b>Topic 10</b><br>Words: twins, huwtes, philanthropist, corrin, harz"
         ],
         "marker": {
          "color": "#F0E442"
         },
         "mode": "lines",
         "name": "10_thee_ome_thoe_uch",
         "type": "scatter",
         "x": [
          "1678-02-23T12:15:50.400000",
          "1685-06-02T18:43:12",
          "1692-05-06T13:26:24",
          "1699-04-10T08:09:36",
          "1706-03-15T02:52:48",
          "1713-02-15T21:36:00",
          "1720-01-20T16:19:12",
          "1726-12-24T11:02:24",
          "1733-11-27T05:45:36",
          "1740-10-31T00:28:48",
          "1747-10-04T19:12:00",
          "1754-09-07T13:55:12",
          "1761-08-11T08:38:24",
          "1768-07-15T03:21:36",
          "1775-06-18T22:04:48",
          "1782-05-22T16:48:00",
          "1789-04-25T11:31:12",
          "1803-03-04T00:57:36",
          "1823-12-13T09:07:12",
          "1830-11-16T03:50:24"
         ],
         "y": [
          3,
          4,
          6,
          2,
          1,
          4,
          2,
          1,
          2,
          13,
          36,
          26,
          17,
          25,
          53,
          12,
          1,
          1,
          1,
          1
         ]
        },
        {
         "hoverinfo": "text",
         "hovertext": [
          "<b>Topic 11</b><br>Words: rupturing, intercepted, df, shell, cohesive",
          "<b>Topic 11</b><br>Words: vibrations, shell, elastic, incompressible, owdz0",
          "<b>Topic 11</b><br>Words: keyway, torsional, rigidity, keyways, shear",
          "<b>Topic 11</b><br>Words: elastic, stability, struts, elasticity, distortion",
          "<b>Topic 11</b><br>Words: stress, stresses, elastic, shear, stressstrain",
          "<b>Topic 11</b><br>Words: crosssection, flexure, torsion, load, saintvenant",
          "<b>Topic 11</b><br>Words: stress, specified, elastic, undeformed, stresses",
          "<b>Topic 11</b><br>Words: stress, elastic, strain, bending, deformation",
          "<b>Topic 11</b><br>Words: koiter, elastic, buckling, stress, strain",
          "<b>Topic 11</b><br>Words: strain, stress, ogden, elastic, deformation"
         ],
         "marker": {
          "color": "#D55E00"
         },
         "mode": "lines",
         "name": "11_stress_elastic_strain_deformation",
         "type": "scatter",
         "x": [
          "1851-08-27T12:00:00",
          "1893-03-18T04:19:12",
          "1900-02-19T23:02:24",
          "1913-12-28T12:28:48",
          "1927-11-05T01:55:12",
          "1934-10-08T20:38:24",
          "1941-09-11T15:21:36",
          "1948-08-15T10:04:48",
          "2010-12-16T10:33:36",
          "2017-11-19T05:16:48"
         ],
         "y": [
          1,
          2,
          19,
          6,
          30,
          11,
          17,
          23,
          41,
          49
         ]
        },
        {
         "hoverinfo": "text",
         "hovertext": [
          "<b>Topic 12</b><br>Words: ligament, vertebre, fittingit, factsand, interver",
          "<b>Topic 12</b><br>Words: tympani, membrana, ossicula, malleus, whale",
          "<b>Topic 12</b><br>Words: rib, carapace, dermal, costal, vertebra",
          "<b>Topic 12</b><br>Words: vertebra, metapophyses, apophyse, anapophysis, articular",
          "<b>Topic 12</b><br>Words: fin, sturgeon, fins, anal, scapulocoracoid",
          "<b>Topic 12</b><br>Words: vertebra, vertebral, articular, pinnules, bone",
          "<b>Topic 12</b><br>Words: arches, skull, cartilage, plate, vertebral",
          "<b>Topic 12</b><br>Words: arches, vertebral, cartilage, fin, hemal",
          "<b>Topic 12</b><br>Words: vertebrae, caudal, vertebral, vertebra, lumbosacral",
          "<b>Topic 12</b><br>Words: vertebral, vertebra, centra, chorda, centrum",
          "<b>Topic 12</b><br>Words: vertebral, millims, ampyx, 396, palasxospondylus",
          "<b>Topic 12</b><br>Words: ambulacral, adambulacrals, adambulacral, tentacle, sollas",
          "<b>Topic 12</b><br>Words: ribs, surangular, capitulum, vertebra, vertebral",
          "<b>Topic 12</b><br>Words: caudal, vertebral, calcified, vertebra, cartilage",
          "<b>Topic 12</b><br>Words: vertebral, vertebra, notochord, arches, arch",
          "<b>Topic 12</b><br>Words: fin, fins, arch, dorsal, gill",
          "<b>Topic 12</b><br>Words: clasper, jungersen, 1899, 1878, td2",
          "<b>Topic 12</b><br>Words: telencephalon, pallium, subpallial, pallial, actinopterygians"
         ],
         "marker": {
          "color": "#0072B2"
         },
         "mode": "lines",
         "name": "12_vertebral_vertebra_arches_caudal",
         "type": "scatter",
         "x": [
          "1803-03-04T00:57:36",
          "1810-02-04T19:40:48",
          "1844-09-22T17:16:48",
          "1851-08-27T12:00:00",
          "1858-07-31T06:43:12",
          "1865-07-04T01:26:24",
          "1872-06-06T20:09:36",
          "1879-05-11T14:52:48",
          "1886-04-14T09:36:00",
          "1893-03-18T04:19:12",
          "1900-02-19T23:02:24",
          "1907-01-24T17:45:36",
          "1913-12-28T12:28:48",
          "1920-12-01T07:12:00",
          "1927-11-05T01:55:12",
          "1934-10-08T20:38:24",
          "1948-08-15T10:04:48",
          "2010-12-16T10:33:36"
         ],
         "y": [
          2,
          1,
          9,
          9,
          4,
          9,
          7,
          22,
          7,
          22,
          1,
          3,
          5,
          41,
          28,
          22,
          1,
          1
         ]
        },
        {
         "hoverinfo": "text",
         "hovertext": [
          "<b>Topic 13</b><br>Words: folding, meeting, protein, misfolding, 1994",
          "<b>Topic 13</b><br>Words: hdctem, cyanobacterial, tem, tboa, kaneko",
          "<b>Topic 13</b><br>Words: protein, proteins, lps, membrane, folding",
          "<b>Topic 13</b><br>Words: proteins, protein, binding, trna, membrane"
         ],
         "marker": {
          "color": "#CC79A7"
         },
         "mode": "lines",
         "name": "13_proteins_protein_lps_binding",
         "type": "scatter",
         "x": [
          "1997-02-07T21:07:12",
          "2004-01-12T15:50:24",
          "2010-12-16T10:33:36",
          "2017-11-19T05:16:48"
         ],
         "y": [
          5,
          8,
          104,
          66
         ]
        },
        {
         "hoverinfo": "text",
         "hovertext": [
          "<b>Topic 14</b><br>Words: ethmoid, vomer, bones, sphenoidal, yomer",
          "<b>Topic 14</b><br>Words: cartilage, bone, arches, skull, pterygoid",
          "<b>Topic 14</b><br>Words: cartilage, nasal, periotic, ampulla, bone",
          "<b>Topic 14</b><br>Words: cartilage, nasal, skull, bone, pterygoid",
          "<b>Topic 14</b><br>Words: quadrate, cartilage, tympanic, skull, bone",
          "<b>Topic 14</b><br>Words: gammation, nasal, ineonsiderable, specimenthe, smallestan",
          "<b>Topic 14</b><br>Words: subcommissural, ependymal, epithelium, 20transverse, nicwonrs",
          "<b>Topic 14</b><br>Words: pterygoid, vomer, bone, cartilage, skull",
          "<b>Topic 14</b><br>Words: foramen, vomer, parasphenoid, skull, condyles",
          "<b>Topic 14</b><br>Words: cartilage, pterygoid, cartilages, palatine, ala",
          "<b>Topic 14</b><br>Words: vomer, parasphenoid, nasal, bone, prevomers",
          "<b>Topic 14</b><br>Words: capsule, dentary, orbitocapsular, auditory, commissure",
          "<b>Topic 14</b><br>Words: tympanic, ear, stapes, ossicle, mammals",
          "<b>Topic 14</b><br>Words: therian, premaxilla, palatine, medial, septomaxilla"
         ],
         "marker": {
          "color": "#E69F00"
         },
         "mode": "lines",
         "name": "14_cartilage_pterygoid_bone_vomer",
         "type": "scatter",
         "x": [
          "1858-07-31T06:43:12",
          "1865-07-04T01:26:24",
          "1872-06-06T20:09:36",
          "1879-05-11T14:52:48",
          "1886-04-14T09:36:00",
          "1900-02-19T23:02:24",
          "1907-01-24T17:45:36",
          "1913-12-28T12:28:48",
          "1920-12-01T07:12:00",
          "1927-11-05T01:55:12",
          "1934-10-08T20:38:24",
          "1948-08-15T10:04:48",
          "2010-12-16T10:33:36",
          "2017-11-19T05:16:48"
         ],
         "y": [
          4,
          7,
          7,
          24,
          13,
          1,
          1,
          41,
          9,
          41,
          20,
          1,
          2,
          3
         ]
        },
        {
         "hoverinfo": "text",
         "hovertext": [
          "<b>Topic 15</b><br>Words: tz, svch, probability, polation, boole",
          "<b>Topic 15</b><br>Words: frequency, curve, error, antl, sampling",
          "<b>Topic 15</b><br>Words: ungrouped, odds, acreage, acre, error",
          "<b>Topic 15</b><br>Words: biometrika, gaussian, curves, probable, statistical",
          "<b>Topic 15</b><br>Words: sample, probability, hypothetical, distribution, random",
          "<b>Topic 15</b><br>Words: critical, sample, hypotheses, efficient, region",
          "<b>Topic 15</b><br>Words: probability, law, random, sample, confidence",
          "<b>Topic 15</b><br>Words: sampling, grids, variance, surveys, sample",
          "<b>Topic 15</b><br>Words: sampling, block, random, systematic, variance",
          "<b>Topic 15</b><br>Words: titterington, amiliar, 4238, imited, 4237",
          "<b>Topic 15</b><br>Words: fisher, likelihood, statistics, 1922, bayes",
          "<b>Topic 15</b><br>Words: sampling, locations, random, regulated, spatially"
         ],
         "marker": {
          "color": "#56B4E9"
         },
         "mode": "lines",
         "name": "15_sampling_sample_random_probability",
         "type": "scatter",
         "x": [
          "1858-07-31T06:43:12",
          "1893-03-18T04:19:12",
          "1900-02-19T23:02:24",
          "1913-12-28T12:28:48",
          "1920-12-01T07:12:00",
          "1927-11-05T01:55:12",
          "1934-10-08T20:38:24",
          "1941-09-11T15:21:36",
          "1948-08-15T10:04:48",
          "2004-01-12T15:50:24",
          "2010-12-16T10:33:36",
          "2017-11-19T05:16:48"
         ],
         "y": [
          1,
          35,
          5,
          2,
          21,
          19,
          31,
          29,
          9,
          1,
          10,
          5
         ]
        },
        {
         "hoverinfo": "text",
         "hovertext": [
          "<b>Topic 16</b><br>Words: semen, impregnation, ovaries, uterus, vagina",
          "<b>Topic 16</b><br>Words: ovaria, uterus, rty, gge, racters",
          "<b>Topic 16</b><br>Words: ovarium, ovum, ova, uterus, fallopian",
          "<b>Topic 16</b><br>Words: ova, ovarium, impregnated, nacre, molecricket",
          "<b>Topic 16</b><br>Words: oviparous, foetus, mammary, ovum, ovoviviparous",
          "<b>Topic 16</b><br>Words: germinal, vesicle, ova, ovum, oyum",
          "<b>Topic 16</b><br>Words: vesicle, yelk, germinal, spot, egg",
          "<b>Topic 16</b><br>Words: ova, ovary, vesicle, germinal, yelk",
          "<b>Topic 16</b><br>Words: yelk, germinal, yelksac, vesicle, ova",
          "<b>Topic 16</b><br>Words: loligo, sepia, eggs, egg, ovarian",
          "<b>Topic 16</b><br>Words: excretory, ovarian, genital, sac, openings",
          "<b>Topic 16</b><br>Words: ovum, millepora, ova, shell, vitelline",
          "<b>Topic 16</b><br>Words: fertilization, ova, oviduct, endochite, membrane",
          "<b>Topic 16</b><br>Words: hamann, oogonia, oocytes, jen, naturwiss",
          "<b>Topic 16</b><br>Words: carpels, ovary, ovules, ya, foliar",
          "<b>Topic 16</b><br>Words: winged, eggcells, dissected, gonads, workerlike",
          "<b>Topic 16</b><br>Words: oocytes, chick, weeks, germcells, precocious",
          "<b>Topic 16</b><br>Words: uterus, sperms, rabbit, egg, hen",
          "<b>Topic 16</b><br>Words: gonads, egg, ovarial, uterine, shellmatrix",
          "<b>Topic 16</b><br>Words: ostium, ovary, ova, oviducts, oviduct",
          "<b>Topic 16</b><br>Words: seb3, nlp49, egglaying, tm1848, hsn"
         ],
         "marker": {
          "color": "#009E73"
         },
         "mode": "lines",
         "name": "16_germinal_vesicle_ova_yelk",
         "type": "scatter",
         "x": [
          "1796-03-29T06:14:24",
          "1803-03-04T00:57:36",
          "1817-01-08T14:24:00",
          "1823-12-13T09:07:12",
          "1830-11-16T03:50:24",
          "1837-10-19T22:33:36",
          "1851-08-27T12:00:00",
          "1858-07-31T06:43:12",
          "1865-07-04T01:26:24",
          "1872-06-06T20:09:36",
          "1879-05-11T14:52:48",
          "1886-04-14T09:36:00",
          "1893-03-18T04:19:12",
          "1900-02-19T23:02:24",
          "1907-01-24T17:45:36",
          "1913-12-28T12:28:48",
          "1920-12-01T07:12:00",
          "1927-11-05T01:55:12",
          "1934-10-08T20:38:24",
          "1948-08-15T10:04:48",
          "2017-11-19T05:16:48"
         ],
         "y": [
          20,
          1,
          4,
          3,
          4,
          43,
          20,
          11,
          13,
          3,
          1,
          3,
          3,
          1,
          6,
          1,
          5,
          13,
          3,
          6,
          1
         ]
        },
        {
         "hoverinfo": "text",
         "hovertext": [
          "<b>Topic 17</b><br>Words: electromagnetic, electric, bodies, magnetic, medium",
          "<b>Topic 17</b><br>Words: displacement, conductor, energy, electric, conduetor",
          "<b>Topic 17</b><br>Words: electric, magnetic, electromagnetic, stress, energy",
          "<b>Topic 17</b><br>Words: electric, medium, forcive, electrons, magnetic",
          "<b>Topic 17</b><br>Words: dq, charges, dydp, herz, mised",
          "<b>Topic 17</b><br>Words: electrons, insulator, electric, field, velocity",
          "<b>Topic 17</b><br>Words: curl, magnetic, electric, forcive, electromagnetic",
          "<b>Topic 17</b><br>Words: curl, grad, nondivergent, brackets, electrostatic",
          "<b>Topic 17</b><br>Words: dipole, canonical, broglie, momentum, electric",
          "<b>Topic 17</b><br>Words: electromagnetic, maxwell, gregory, leibniz, electromagnetism",
          "<b>Topic 17</b><br>Words: electric, antenna, electromagnetic, maxwell, symmetry"
         ],
         "marker": {
          "color": "#F0E442"
         },
         "mode": "lines",
         "name": "17_electric_medium_magnetic_electromagne...",
         "type": "scatter",
         "x": [
          "1865-07-04T01:26:24",
          "1879-05-11T14:52:48",
          "1886-04-14T09:36:00",
          "1893-03-18T04:19:12",
          "1900-02-19T23:02:24",
          "1907-01-24T17:45:36",
          "1913-12-28T12:28:48",
          "1934-10-08T20:38:24",
          "2004-01-12T15:50:24",
          "2010-12-16T10:33:36",
          "2017-11-19T05:16:48"
         ],
         "y": [
          4,
          4,
          33,
          61,
          1,
          3,
          27,
          4,
          2,
          4,
          17
         ]
        },
        {
         "hoverinfo": "text",
         "hovertext": [
          "<b>Topic 18</b><br>Words: corallines, pallas, meee, sertulariz, theit",
          "<b>Topic 18</b><br>Words: gorgonie, xlviil, compoed, tranactions, coral",
          "<b>Topic 18</b><br>Words: corallidz, tribe, fleshy, eyery, zetlandica",
          "<b>Topic 18</b><br>Words: lignes, forment, dans, la, qui",
          "<b>Topic 18</b><br>Words: septa, corals, rugosa, corallum, stylaster",
          "<b>Topic 18</b><br>Words: polyps, dimorphic, colony, genera, septa",
          "<b>Topic 18</b><br>Words: septa, septal, corals, septum, polyp",
          "<b>Topic 18</b><br>Words: polyp, mesenteries, intratentacular, colony, buds",
          "<b>Topic 18</b><br>Words: girdle, hyposalenia, wrighti, arbaciide, desor",
          "<b>Topic 18</b><br>Words: septa, lamellae, rhabdacanths, invaginations, corals",
          "<b>Topic 18</b><br>Words: septal, lamellar, trabecula, corals, fascicles",
          "<b>Topic 18</b><br>Words: paraphyletic, whitecircle, hennig, blackcircle, polyphyletic",
          "<b>Topic 18</b><br>Words: coral, symbiodiniaceae, symbionts, victoria, aequorea"
         ],
         "marker": {
          "color": "#D55E00"
         },
         "mode": "lines",
         "name": "18_septa_septal_corals_septum",
         "type": "scatter",
         "x": [
          "1761-08-11T08:38:24",
          "1775-06-18T22:04:48",
          "1837-10-19T22:33:36",
          "1851-08-27T12:00:00",
          "1872-06-06T20:09:36",
          "1879-05-11T14:52:48",
          "1893-03-18T04:19:12",
          "1920-12-01T07:12:00",
          "1927-11-05T01:55:12",
          "1934-10-08T20:38:24",
          "1948-08-15T10:04:48",
          "2004-01-12T15:50:24",
          "2017-11-19T05:16:48"
         ],
         "y": [
          1,
          1,
          1,
          2,
          21,
          14,
          102,
          2,
          1,
          6,
          6,
          1,
          2
         ]
        },
        {
         "hoverinfo": "text",
         "hovertext": [
          "<b>Topic 19</b><br>Words: 44, 45, herscnrl, cnire, thermometer",
          "<b>Topic 19</b><br>Words: elgyation, mercury, thermometer, bulb, agitating",
          "<b>Topic 19</b><br>Words: cistern, spitzbergen, risons, toge, newman",
          "<b>Topic 19</b><br>Words: thermometers, thermometer, cube, bent, 5227",
          "<b>Topic 19</b><br>Words: calorimeter, thermometer, grs, wood, temperature",
          "<b>Topic 19</b><br>Words: calorimeter, thermometers, temperature, immersed, thermometer",
          "<b>Topic 19</b><br>Words: 002, 8c, thermometers, temperature, thermometer",
          "<b>Topic 19</b><br>Words: thermometer, thermometers, wire, temperature, platinum",
          "<b>Topic 19</b><br>Words: thermometer, calorimeter, thermometers, temperature, correction",
          "<b>Topic 19</b><br>Words: calorimeter, thermometer, temperature, flowtube, correction",
          "<b>Topic 19</b><br>Words: obturator, correction, thermometer, temperature, calorimeter",
          "<b>Topic 19</b><br>Words: temperature, thermometer, katathermometer, thermometers, cooling",
          "<b>Topic 19</b><br>Words: valve, arm, screw, circuit, breaker",
          "<b>Topic 19</b><br>Words: thermometers, thermometer, readings, distillation, correction",
          "<b>Topic 19</b><br>Words: mould, ingot, radiative, saunders, sivities",
          "<b>Topic 19</b><br>Words: thermometry, thermometer, thermometers, temperature, noise",
          "<b>Topic 19</b><br>Words: slave, sipm, muraves, master, slaves"
         ],
         "marker": {
          "color": "#0072B2"
         },
         "mode": "lines",
         "name": "19_thermometer_thermometers_temperature_...",
         "type": "scatter",
         "x": [
          "1796-03-29T06:14:24",
          "1803-03-04T00:57:36",
          "1823-12-13T09:07:12",
          "1851-08-27T12:00:00",
          "1858-07-31T06:43:12",
          "1865-07-04T01:26:24",
          "1879-05-11T14:52:48",
          "1886-04-14T09:36:00",
          "1893-03-18T04:19:12",
          "1900-02-19T23:02:24",
          "1907-01-24T17:45:36",
          "1913-12-28T12:28:48",
          "1920-12-01T07:12:00",
          "1927-11-05T01:55:12",
          "1941-09-11T15:21:36",
          "2010-12-16T10:33:36",
          "2017-11-19T05:16:48"
         ],
         "y": [
          1,
          1,
          1,
          4,
          3,
          8,
          7,
          10,
          32,
          16,
          23,
          22,
          1,
          15,
          1,
          7,
          1
         ]
        },
        {
         "hoverinfo": "text",
         "hovertext": [
          "<b>Topic 20</b><br>Words: prop, reflexibility, reflefted, refrangjbility, decrib",
          "<b>Topic 20</b><br>Words: corundum, fringes, faces, rhomboid, crystal",
          "<b>Topic 20</b><br>Words: huygexs, newtox, rings, seducing, hzrscnrl",
          "<b>Topic 20</b><br>Words: spar, pencils, refraction, light, pearl",
          "<b>Topic 20</b><br>Words: axes, crystals, tints, refraction, polarisation",
          "<b>Topic 20</b><br>Words: faces, refractive, quadrangular, rhomboid, prism",
          "<b>Topic 20</b><br>Words: polarized, refraction, azimuths, axis, axes",
          "<b>Topic 20</b><br>Words: polarizing, polarization, polarized, crystals, acicular",
          "<b>Topic 20</b><br>Words: fringes, edges, flexion, inflexion, rays",
          "<b>Topic 20</b><br>Words: faces, angles, symbols, crystals, 111",
          "<b>Topic 20</b><br>Words: 010, faces, axes, violetred, polychroism",
          "<b>Topic 20</b><br>Words: faces, harmotome, octaid, rhombic, lustre",
          "<b>Topic 20</b><br>Words: axes, bisector, montebrasite, optic, amblygonite",
          "<b>Topic 20</b><br>Words: brightness, plane, refraction, light, polarised",
          "<b>Topic 20</b><br>Words: kunpr, prolate, ann, chim, egystal",
          "<b>Topic 20</b><br>Words: crystal, crystals, parallel, diaspore, plane",
          "<b>Topic 20</b><br>Words: faces, vicinal, octahedron, crystal, alum",
          "<b>Topic 20</b><br>Words: slabs, axes, retardation, linesource, pointsource",
          "<b>Topic 20</b><br>Words: faces, crystals, striation, 001, angles",
          "<b>Topic 20</b><br>Words: lmn0, octahedronwe, 41v3, wpyr, buta",
          "<b>Topic 20</b><br>Words: 44cholestene7ol, ergotetraene, 211, essenti, thirtysix",
          "<b>Topic 20</b><br>Words: divergentbeam, extinction, reflexion, crystals, crystal",
          "<b>Topic 20</b><br>Words: needles, rungs, acicular, competition, spacing",
          "<b>Topic 20</b><br>Words: 4rings, octagons, 7rings, mixedsystem, bbeo"
         ],
         "marker": {
          "color": "#CC79A7"
         },
         "mode": "lines",
         "name": "20_faces_crystals_axes_crystal",
         "type": "scatter",
         "x": [
          "1747-10-04T19:12:00",
          "1796-03-29T06:14:24",
          "1803-03-04T00:57:36",
          "1810-02-04T19:40:48",
          "1817-01-08T14:24:00",
          "1823-12-13T09:07:12",
          "1830-11-16T03:50:24",
          "1837-10-19T22:33:36",
          "1844-09-22T17:16:48",
          "1851-08-27T12:00:00",
          "1858-07-31T06:43:12",
          "1865-07-04T01:26:24",
          "1872-06-06T20:09:36",
          "1879-05-11T14:52:48",
          "1886-04-14T09:36:00",
          "1893-03-18T04:19:12",
          "1900-02-19T23:02:24",
          "1907-01-24T17:45:36",
          "1913-12-28T12:28:48",
          "1927-11-05T01:55:12",
          "1934-10-08T20:38:24",
          "1941-09-11T15:21:36",
          "1948-08-15T10:04:48",
          "2017-11-19T05:16:48"
         ],
         "y": [
          1,
          14,
          3,
          30,
          25,
          2,
          7,
          4,
          13,
          6,
          2,
          2,
          4,
          2,
          1,
          5,
          17,
          1,
          2,
          1,
          1,
          2,
          1,
          1
         ]
        },
        {
         "hoverinfo": "text",
         "hovertext": [
          "<b>Topic 21</b><br>Words: glacial, refrigerating, allwise, vicissitudes, quitting",
          "<b>Topic 21</b><br>Words: lcl, convection, broadleaf, precipitation, forcing",
          "<b>Topic 21</b><br>Words: ice, sea, climate, arctic, ocean",
          "<b>Topic 21</b><br>Words: ice, precipitation, climate, ocean, sea"
         ],
         "marker": {
          "color": "#E69F00"
         },
         "mode": "lines",
         "name": "21_ice_sea_climate_ocean",
         "type": "scatter",
         "x": [
          "1858-07-31T06:43:12",
          "2004-01-12T15:50:24",
          "2010-12-16T10:33:36",
          "2017-11-19T05:16:48"
         ],
         "y": [
          1,
          8,
          89,
          47
         ]
        },
        {
         "hoverinfo": "text",
         "hovertext": [
          "<b>Topic 22</b><br>Words: killed, nerve, garvanrs, dyctor, whenevera",
          "<b>Topic 22</b><br>Words: battery, volta1c, voltarc, davys, nerves",
          "<b>Topic 22</b><br>Words: electrical, torpedo, fish, muscular, ramifies",
          "<b>Topic 22</b><br>Words: prevost, electricity, intermittingly, 1664, 1731",
          "<b>Topic 22</b><br>Words: current, frog, contraction, pile, contractions",
          "<b>Topic 22</b><br>Words: frog, muscular, current, pile, muscle",
          "<b>Topic 22</b><br>Words: electromotor, nerve, electrophysiological, nerye, traversed",
          "<b>Topic 22</b><br>Words: excitability, current, electrode, galvanic, nerve",
          "<b>Topic 22</b><br>Words: organ, current, nerve, torpedo, response",
          "<b>Topic 22</b><br>Words: electrotonus, nerve, current, organ, katelectrotonus",
          "<b>Topic 22</b><br>Words: polarisation, current, muscle, organ, blaze",
          "<b>Topic 22</b><br>Words: excitation, block, transmitted, current, 23records"
         ],
         "marker": {
          "color": "#56B4E9"
         },
         "mode": "lines",
         "name": "22_current_frog_nerve_contraction",
         "type": "scatter",
         "x": [
          "1789-04-25T11:31:12",
          "1803-03-04T00:57:36",
          "1830-11-16T03:50:24",
          "1837-10-19T22:33:36",
          "1844-09-22T17:16:48",
          "1851-08-27T12:00:00",
          "1858-07-31T06:43:12",
          "1879-05-11T14:52:48",
          "1886-04-14T09:36:00",
          "1893-03-18T04:19:12",
          "1900-02-19T23:02:24",
          "1913-12-28T12:28:48"
         ],
         "y": [
          1,
          1,
          3,
          1,
          80,
          11,
          4,
          2,
          22,
          12,
          2,
          1
         ]
        },
        {
         "hoverinfo": "text",
         "hovertext": [
          "<b>Topic 23</b><br>Words: cilia, ciliary, seconds, recovery, trough",
          "<b>Topic 23</b><br>Words: rhythm, stimulation, sarsia, staircase, contractile",
          "<b>Topic 23</b><br>Words: rhythm, stimulation, artificial, rhythmic, ganglia",
          "<b>Topic 23</b><br>Words: executed, coffee, wessberg, valbo, bicycle"
         ],
         "marker": {
          "color": "#009E73"
         },
         "mode": "lines",
         "name": "23_rhythm_stimulation_sarsia_artificial",
         "type": "scatter",
         "x": [
          "1858-07-31T06:43:12",
          "1872-06-06T20:09:36",
          "1879-05-11T14:52:48",
          "2004-01-12T15:50:24"
         ],
         "y": [
          1,
          65,
          66,
          1
         ]
        },
        {
         "hoverinfo": "text",
         "hovertext": [
          "<b>Topic 24</b><br>Words: nerves, globules, ganglions, ganglia, fibres",
          "<b>Topic 24</b><br>Words: cords, ganglia, nerves, sphinx, ganglion",
          "<b>Topic 24</b><br>Words: cord, ganglia, nerves, ganglion, fibres",
          "<b>Topic 24</b><br>Words: gelatinous, ganglia, fibres, nerves, tubular",
          "<b>Topic 24</b><br>Words: ganglia, mollusks, nervous, mollusca, nerves",
          "<b>Topic 24</b><br>Words: fibres, fibre, darkbordered, nervefibres, ganglioncells",
          "<b>Topic 24</b><br>Words: papilla, fibres, darkbordered, nervefibres, nerves",
          "<b>Topic 24</b><br>Words: leptoplana, ganglia, trematodes, yascular, sinus",
          "<b>Topic 24</b><br>Words: ganglia, sympathetic, fibres, gangliated, spinal",
          "<b>Topic 24</b><br>Words: fibres, ganglion, nerve, plexus, nerves",
          "<b>Topic 24</b><br>Words: sheath, neurilemmal, puiate, oegaae, medullary",
          "<b>Topic 24</b><br>Words: ganglia, nerves, axon, nerve, ganglion",
          "<b>Topic 24</b><br>Words: plexus, fibres, myenteric, neurones, enteric",
          "<b>Topic 24</b><br>Words: ganglion, cord, thaliacea, budding, differentiated",
          "<b>Topic 24</b><br>Words: fibres, supraoptic, rasmussen, sewell, ganglia",
          "<b>Topic 24</b><br>Words: hess, apical, tornaria, proboscis, horsti",
          "<b>Topic 24</b><br>Words: sponges, nervous, ganglia, vertebrate, carnivorous"
         ],
         "marker": {
          "color": "#F0E442"
         },
         "mode": "lines",
         "name": "24_fibres_ganglia_nerves_ganglion",
         "type": "scatter",
         "x": [
          "1823-12-13T09:07:12",
          "1830-11-16T03:50:24",
          "1837-10-19T22:33:36",
          "1844-09-22T17:16:48",
          "1851-08-27T12:00:00",
          "1858-07-31T06:43:12",
          "1865-07-04T01:26:24",
          "1872-06-06T20:09:36",
          "1886-04-14T09:36:00",
          "1893-03-18T04:19:12",
          "1900-02-19T23:02:24",
          "1913-12-28T12:28:48",
          "1920-12-01T07:12:00",
          "1934-10-08T20:38:24",
          "1941-09-11T15:21:36",
          "1948-08-15T10:04:48",
          "2017-11-19T05:16:48"
         ],
         "y": [
          2,
          11,
          11,
          3,
          8,
          31,
          11,
          1,
          5,
          22,
          1,
          3,
          12,
          4,
          3,
          1,
          1
         ]
        },
        {
         "hoverinfo": "text",
         "hovertext": [
          "<b>Topic 25</b><br>Words: leveille, chalaze, chalazz, incubation, quirers",
          "<b>Topic 25</b><br>Words: spermatozoa, ovary, coitum, vesicle, penetrates",
          "<b>Topic 25</b><br>Words: albumen, spermatozoa, sacs, freezing, viscidity",
          "<b>Topic 25</b><br>Words: spermatozoa, spermatozoon, impregnation, egg, yelk",
          "<b>Topic 25</b><br>Words: spermatozoa, filiform, testis, chelifer, spermatheca",
          "<b>Topic 25</b><br>Words: spermatozoa, impregnation, cleft, contracting, ova",
          "<b>Topic 25</b><br>Words: spermatozoa, plasmodium, claspers, clasper, seizure",
          "<b>Topic 25</b><br>Words: buds, spawning, leptogorgia, polyps, spermatozoa",
          "<b>Topic 25</b><br>Words: sperms, spermatozoa, vasa, deferentia, epididymes",
          "<b>Topic 25</b><br>Words: egg, spermatozoa, sperm, ova, entrance",
          "<b>Topic 25</b><br>Words: spermatozoa, spermatophore, spermatophores, tubules, testes",
          "<b>Topic 25</b><br>Words: sertoli, ampullae, spermatozoa, sabatier, hermaphroditic",
          "<b>Topic 25</b><br>Words: sperm, rotational, flagellar, curvature, spermatozoa"
         ],
         "marker": {
          "color": "#D55E00"
         },
         "mode": "lines",
         "name": "25_spermatozoa_spermatozoon_impregnation...",
         "type": "scatter",
         "x": [
          "1817-01-08T14:24:00",
          "1837-10-19T22:33:36",
          "1844-09-22T17:16:48",
          "1851-08-27T12:00:00",
          "1858-07-31T06:43:12",
          "1865-07-04T01:26:24",
          "1872-06-06T20:09:36",
          "1879-05-11T14:52:48",
          "1900-02-19T23:02:24",
          "1913-12-28T12:28:48",
          "1934-10-08T20:38:24",
          "1948-08-15T10:04:48",
          "2017-11-19T05:16:48"
         ],
         "y": [
          1,
          2,
          2,
          101,
          4,
          2,
          3,
          2,
          2,
          3,
          4,
          1,
          2
         ]
        },
        {
         "hoverinfo": "text",
         "hovertext": [
          "<b>Topic 26</b><br>Words: discharge, spark, glow, ball, brushes",
          "<b>Topic 26</b><br>Words: rings, gaseons, bare, oxidation, oxygenfive",
          "<b>Topic 26</b><br>Words: discharge, discharges, terminal, robin80n, jardischarge",
          "<b>Topic 26</b><br>Words: inductioncoil, vacuum, sprengel, pithball, runmkorey",
          "<b>Topic 26</b><br>Words: discharge, tube, terminal, discharges, tinfoil",
          "<b>Topic 26</b><br>Words: shadow, wire, reversing, battery, vintant",
          "<b>Topic 26</b><br>Words: spark, discharge, discharges, glow, potential",
          "<b>Topic 26</b><br>Words: spark, streamers, discharge, gap, pole",
          "<b>Topic 26</b><br>Words: discharge, grating, uncondensed, spark, vacuo",
          "<b>Topic 26</b><br>Words: feedpoint, discharge, torus, joules, ionization",
          "<b>Topic 26</b><br>Words: discharge, streamer, counterion, aph, airflow"
         ],
         "marker": {
          "color": "#0072B2"
         },
         "mode": "lines",
         "name": "26_discharge_tube_discharges_terminal",
         "type": "scatter",
         "x": [
          "1837-10-19T22:33:36",
          "1851-08-27T12:00:00",
          "1858-07-31T06:43:12",
          "1872-06-06T20:09:36",
          "1879-05-11T14:52:48",
          "1893-03-18T04:19:12",
          "1900-02-19T23:02:24",
          "1907-01-24T17:45:36",
          "1920-12-01T07:12:00",
          "1948-08-15T10:04:48",
          "2010-12-16T10:33:36"
         ],
         "y": [
          8,
          1,
          3,
          1,
          95,
          1,
          5,
          4,
          3,
          2,
          3
         ]
        },
        {
         "hoverinfo": "text",
         "hovertext": [
          "<b>Topic 27</b><br>Words: failpoints, larlacr, pwda, bousstnesq, dwdy",
          "<b>Topic 27</b><br>Words: 2ayaok, dsae, nro, vsy, stsb",
          "<b>Topic 27</b><br>Words: displacements, diffr, edge, hanson, aay",
          "<b>Topic 27</b><br>Words: uniformly, xdo, dpomta, frends, 211",
          "<b>Topic 27</b><br>Words: boundary, xo, problem, subsolution, monotonicity",
          "<b>Topic 27</b><br>Words: theorem, boundary, lim, dx, proof"
         ],
         "marker": {
          "color": "#CC79A7"
         },
         "mode": "lines",
         "name": "27_boundary_theorem_xo_proof",
         "type": "scatter",
         "x": [
          "1900-02-19T23:02:24",
          "1907-01-24T17:45:36",
          "1934-10-08T20:38:24",
          "1948-08-15T10:04:48",
          "2010-12-16T10:33:36",
          "2017-11-19T05:16:48"
         ],
         "y": [
          1,
          1,
          1,
          1,
          49,
          68
         ]
        },
        {
         "hoverinfo": "text",
         "hovertext": [
          "<b>Topic 28</b><br>Words: professional, profession, judgement, actuarial, actuaries",
          "<b>Topic 28</b><br>Words: forensic, criminal, expert, science, adversarial",
          "<b>Topic 28</b><br>Words: forensic, court, expert, judgments, criminal"
         ],
         "marker": {
          "color": "#E69F00"
         },
         "mode": "lines",
         "name": "28_forensic_criminal_expert_science",
         "type": "scatter",
         "x": [
          "1997-02-07T21:07:12",
          "2010-12-16T10:33:36",
          "2017-11-19T05:16:48"
         ],
         "y": [
          2,
          109,
          8
         ]
        },
        {
         "hoverinfo": "text",
         "hovertext": [
          "<b>Topic 29</b><br>Words: proteosaurus, skeleton, bones, cl1et, bixcn",
          "<b>Topic 29</b><br>Words: iguanodon, wealden, dermal, bones, cetiosaurus",
          "<b>Topic 29</b><br>Words: megatherium, armour, skeleton, gigantic, bony",
          "<b>Topic 29</b><br>Words: megatherium, sloths, mylodon, proccelian, fibula",
          "<b>Topic 29</b><br>Words: bones, glyptodon, clavipes, megatherium, bone",
          "<b>Topic 29</b><br>Words: digits, diplopus, cuboid, bones, hyopotamus",
          "<b>Topic 29</b><br>Words: scutes, teeth, bones, palatal, microsauria",
          "<b>Topic 29</b><br>Words: bones, bone, anomodontia, digits, reptilia",
          "<b>Topic 29</b><br>Words: amniota, atlas, bones, carpus, amphibia",
          "<b>Topic 29</b><br>Words: marsipobranch, alliance, bashrorpdraan, dichotomise, amorig",
          "<b>Topic 29</b><br>Words: eryops, amphibia, permian, clavicles, capitosaurus",
          "<b>Topic 29</b><br>Words: labyrinthodonts, quadrate, bones, skull, permian",
          "<b>Topic 29</b><br>Words: proatlas, atlas, gapow, amniota, proatlantic",
          "<b>Topic 29</b><br>Words: parasphenoid, vomer, dinocephalians, mammallike, basisphenoid",
          "<b>Topic 29</b><br>Words: dinosaur, archosaur, dino, dinosaurs, argentina",
          "<b>Topic 29</b><br>Words: archosaurs, varanus, endothermy, endothermic, systemic"
         ],
         "marker": {
          "color": "#56B4E9"
         },
         "mode": "lines",
         "name": "29_bones_bone_megatherium_skeleton",
         "type": "scatter",
         "x": [
          "1817-01-08T14:24:00",
          "1844-09-22T17:16:48",
          "1851-08-27T12:00:00",
          "1858-07-31T06:43:12",
          "1865-07-04T01:26:24",
          "1872-06-06T20:09:36",
          "1879-05-11T14:52:48",
          "1886-04-14T09:36:00",
          "1893-03-18T04:19:12",
          "1900-02-19T23:02:24",
          "1913-12-28T12:28:48",
          "1920-12-01T07:12:00",
          "1927-11-05T01:55:12",
          "1934-10-08T20:38:24",
          "2004-01-12T15:50:24",
          "2017-11-19T05:16:48"
         ],
         "y": [
          5,
          8,
          6,
          5,
          5,
          17,
          4,
          16,
          9,
          1,
          28,
          4,
          1,
          1,
          1,
          4
         ]
        }
       ],
       "layout": {
        "height": 450,
        "hoverlabel": {
         "bgcolor": "white",
         "font": {
          "family": "Rockwell",
          "size": 16
         }
        },
        "legend": {
         "title": {
          "text": "<b>Global Topic Representation"
         }
        },
        "template": {
         "data": {
          "bar": [
           {
            "error_x": {
             "color": "rgb(36,36,36)"
            },
            "error_y": {
             "color": "rgb(36,36,36)"
            },
            "marker": {
             "line": {
              "color": "white",
              "width": 0.5
             },
             "pattern": {
              "fillmode": "overlay",
              "size": 10,
              "solidity": 0.2
             }
            },
            "type": "bar"
           }
          ],
          "barpolar": [
           {
            "marker": {
             "line": {
              "color": "white",
              "width": 0.5
             },
             "pattern": {
              "fillmode": "overlay",
              "size": 10,
              "solidity": 0.2
             }
            },
            "type": "barpolar"
           }
          ],
          "carpet": [
           {
            "aaxis": {
             "endlinecolor": "rgb(36,36,36)",
             "gridcolor": "white",
             "linecolor": "white",
             "minorgridcolor": "white",
             "startlinecolor": "rgb(36,36,36)"
            },
            "baxis": {
             "endlinecolor": "rgb(36,36,36)",
             "gridcolor": "white",
             "linecolor": "white",
             "minorgridcolor": "white",
             "startlinecolor": "rgb(36,36,36)"
            },
            "type": "carpet"
           }
          ],
          "choropleth": [
           {
            "colorbar": {
             "outlinewidth": 1,
             "tickcolor": "rgb(36,36,36)",
             "ticks": "outside"
            },
            "type": "choropleth"
           }
          ],
          "contour": [
           {
            "colorbar": {
             "outlinewidth": 1,
             "tickcolor": "rgb(36,36,36)",
             "ticks": "outside"
            },
            "colorscale": [
             [
              0,
              "#440154"
             ],
             [
              0.1111111111111111,
              "#482878"
             ],
             [
              0.2222222222222222,
              "#3e4989"
             ],
             [
              0.3333333333333333,
              "#31688e"
             ],
             [
              0.4444444444444444,
              "#26828e"
             ],
             [
              0.5555555555555556,
              "#1f9e89"
             ],
             [
              0.6666666666666666,
              "#35b779"
             ],
             [
              0.7777777777777778,
              "#6ece58"
             ],
             [
              0.8888888888888888,
              "#b5de2b"
             ],
             [
              1,
              "#fde725"
             ]
            ],
            "type": "contour"
           }
          ],
          "contourcarpet": [
           {
            "colorbar": {
             "outlinewidth": 1,
             "tickcolor": "rgb(36,36,36)",
             "ticks": "outside"
            },
            "type": "contourcarpet"
           }
          ],
          "heatmap": [
           {
            "colorbar": {
             "outlinewidth": 1,
             "tickcolor": "rgb(36,36,36)",
             "ticks": "outside"
            },
            "colorscale": [
             [
              0,
              "#440154"
             ],
             [
              0.1111111111111111,
              "#482878"
             ],
             [
              0.2222222222222222,
              "#3e4989"
             ],
             [
              0.3333333333333333,
              "#31688e"
             ],
             [
              0.4444444444444444,
              "#26828e"
             ],
             [
              0.5555555555555556,
              "#1f9e89"
             ],
             [
              0.6666666666666666,
              "#35b779"
             ],
             [
              0.7777777777777778,
              "#6ece58"
             ],
             [
              0.8888888888888888,
              "#b5de2b"
             ],
             [
              1,
              "#fde725"
             ]
            ],
            "type": "heatmap"
           }
          ],
          "heatmapgl": [
           {
            "colorbar": {
             "outlinewidth": 1,
             "tickcolor": "rgb(36,36,36)",
             "ticks": "outside"
            },
            "colorscale": [
             [
              0,
              "#440154"
             ],
             [
              0.1111111111111111,
              "#482878"
             ],
             [
              0.2222222222222222,
              "#3e4989"
             ],
             [
              0.3333333333333333,
              "#31688e"
             ],
             [
              0.4444444444444444,
              "#26828e"
             ],
             [
              0.5555555555555556,
              "#1f9e89"
             ],
             [
              0.6666666666666666,
              "#35b779"
             ],
             [
              0.7777777777777778,
              "#6ece58"
             ],
             [
              0.8888888888888888,
              "#b5de2b"
             ],
             [
              1,
              "#fde725"
             ]
            ],
            "type": "heatmapgl"
           }
          ],
          "histogram": [
           {
            "marker": {
             "line": {
              "color": "white",
              "width": 0.6
             }
            },
            "type": "histogram"
           }
          ],
          "histogram2d": [
           {
            "colorbar": {
             "outlinewidth": 1,
             "tickcolor": "rgb(36,36,36)",
             "ticks": "outside"
            },
            "colorscale": [
             [
              0,
              "#440154"
             ],
             [
              0.1111111111111111,
              "#482878"
             ],
             [
              0.2222222222222222,
              "#3e4989"
             ],
             [
              0.3333333333333333,
              "#31688e"
             ],
             [
              0.4444444444444444,
              "#26828e"
             ],
             [
              0.5555555555555556,
              "#1f9e89"
             ],
             [
              0.6666666666666666,
              "#35b779"
             ],
             [
              0.7777777777777778,
              "#6ece58"
             ],
             [
              0.8888888888888888,
              "#b5de2b"
             ],
             [
              1,
              "#fde725"
             ]
            ],
            "type": "histogram2d"
           }
          ],
          "histogram2dcontour": [
           {
            "colorbar": {
             "outlinewidth": 1,
             "tickcolor": "rgb(36,36,36)",
             "ticks": "outside"
            },
            "colorscale": [
             [
              0,
              "#440154"
             ],
             [
              0.1111111111111111,
              "#482878"
             ],
             [
              0.2222222222222222,
              "#3e4989"
             ],
             [
              0.3333333333333333,
              "#31688e"
             ],
             [
              0.4444444444444444,
              "#26828e"
             ],
             [
              0.5555555555555556,
              "#1f9e89"
             ],
             [
              0.6666666666666666,
              "#35b779"
             ],
             [
              0.7777777777777778,
              "#6ece58"
             ],
             [
              0.8888888888888888,
              "#b5de2b"
             ],
             [
              1,
              "#fde725"
             ]
            ],
            "type": "histogram2dcontour"
           }
          ],
          "mesh3d": [
           {
            "colorbar": {
             "outlinewidth": 1,
             "tickcolor": "rgb(36,36,36)",
             "ticks": "outside"
            },
            "type": "mesh3d"
           }
          ],
          "parcoords": [
           {
            "line": {
             "colorbar": {
              "outlinewidth": 1,
              "tickcolor": "rgb(36,36,36)",
              "ticks": "outside"
             }
            },
            "type": "parcoords"
           }
          ],
          "pie": [
           {
            "automargin": true,
            "type": "pie"
           }
          ],
          "scatter": [
           {
            "fillpattern": {
             "fillmode": "overlay",
             "size": 10,
             "solidity": 0.2
            },
            "type": "scatter"
           }
          ],
          "scatter3d": [
           {
            "line": {
             "colorbar": {
              "outlinewidth": 1,
              "tickcolor": "rgb(36,36,36)",
              "ticks": "outside"
             }
            },
            "marker": {
             "colorbar": {
              "outlinewidth": 1,
              "tickcolor": "rgb(36,36,36)",
              "ticks": "outside"
             }
            },
            "type": "scatter3d"
           }
          ],
          "scattercarpet": [
           {
            "marker": {
             "colorbar": {
              "outlinewidth": 1,
              "tickcolor": "rgb(36,36,36)",
              "ticks": "outside"
             }
            },
            "type": "scattercarpet"
           }
          ],
          "scattergeo": [
           {
            "marker": {
             "colorbar": {
              "outlinewidth": 1,
              "tickcolor": "rgb(36,36,36)",
              "ticks": "outside"
             }
            },
            "type": "scattergeo"
           }
          ],
          "scattergl": [
           {
            "marker": {
             "colorbar": {
              "outlinewidth": 1,
              "tickcolor": "rgb(36,36,36)",
              "ticks": "outside"
             }
            },
            "type": "scattergl"
           }
          ],
          "scattermapbox": [
           {
            "marker": {
             "colorbar": {
              "outlinewidth": 1,
              "tickcolor": "rgb(36,36,36)",
              "ticks": "outside"
             }
            },
            "type": "scattermapbox"
           }
          ],
          "scatterpolar": [
           {
            "marker": {
             "colorbar": {
              "outlinewidth": 1,
              "tickcolor": "rgb(36,36,36)",
              "ticks": "outside"
             }
            },
            "type": "scatterpolar"
           }
          ],
          "scatterpolargl": [
           {
            "marker": {
             "colorbar": {
              "outlinewidth": 1,
              "tickcolor": "rgb(36,36,36)",
              "ticks": "outside"
             }
            },
            "type": "scatterpolargl"
           }
          ],
          "scatterternary": [
           {
            "marker": {
             "colorbar": {
              "outlinewidth": 1,
              "tickcolor": "rgb(36,36,36)",
              "ticks": "outside"
             }
            },
            "type": "scatterternary"
           }
          ],
          "surface": [
           {
            "colorbar": {
             "outlinewidth": 1,
             "tickcolor": "rgb(36,36,36)",
             "ticks": "outside"
            },
            "colorscale": [
             [
              0,
              "#440154"
             ],
             [
              0.1111111111111111,
              "#482878"
             ],
             [
              0.2222222222222222,
              "#3e4989"
             ],
             [
              0.3333333333333333,
              "#31688e"
             ],
             [
              0.4444444444444444,
              "#26828e"
             ],
             [
              0.5555555555555556,
              "#1f9e89"
             ],
             [
              0.6666666666666666,
              "#35b779"
             ],
             [
              0.7777777777777778,
              "#6ece58"
             ],
             [
              0.8888888888888888,
              "#b5de2b"
             ],
             [
              1,
              "#fde725"
             ]
            ],
            "type": "surface"
           }
          ],
          "table": [
           {
            "cells": {
             "fill": {
              "color": "rgb(237,237,237)"
             },
             "line": {
              "color": "white"
             }
            },
            "header": {
             "fill": {
              "color": "rgb(217,217,217)"
             },
             "line": {
              "color": "white"
             }
            },
            "type": "table"
           }
          ]
         },
         "layout": {
          "annotationdefaults": {
           "arrowhead": 0,
           "arrowwidth": 1
          },
          "autotypenumbers": "strict",
          "coloraxis": {
           "colorbar": {
            "outlinewidth": 1,
            "tickcolor": "rgb(36,36,36)",
            "ticks": "outside"
           }
          },
          "colorscale": {
           "diverging": [
            [
             0,
             "rgb(103,0,31)"
            ],
            [
             0.1,
             "rgb(178,24,43)"
            ],
            [
             0.2,
             "rgb(214,96,77)"
            ],
            [
             0.3,
             "rgb(244,165,130)"
            ],
            [
             0.4,
             "rgb(253,219,199)"
            ],
            [
             0.5,
             "rgb(247,247,247)"
            ],
            [
             0.6,
             "rgb(209,229,240)"
            ],
            [
             0.7,
             "rgb(146,197,222)"
            ],
            [
             0.8,
             "rgb(67,147,195)"
            ],
            [
             0.9,
             "rgb(33,102,172)"
            ],
            [
             1,
             "rgb(5,48,97)"
            ]
           ],
           "sequential": [
            [
             0,
             "#440154"
            ],
            [
             0.1111111111111111,
             "#482878"
            ],
            [
             0.2222222222222222,
             "#3e4989"
            ],
            [
             0.3333333333333333,
             "#31688e"
            ],
            [
             0.4444444444444444,
             "#26828e"
            ],
            [
             0.5555555555555556,
             "#1f9e89"
            ],
            [
             0.6666666666666666,
             "#35b779"
            ],
            [
             0.7777777777777778,
             "#6ece58"
            ],
            [
             0.8888888888888888,
             "#b5de2b"
            ],
            [
             1,
             "#fde725"
            ]
           ],
           "sequentialminus": [
            [
             0,
             "#440154"
            ],
            [
             0.1111111111111111,
             "#482878"
            ],
            [
             0.2222222222222222,
             "#3e4989"
            ],
            [
             0.3333333333333333,
             "#31688e"
            ],
            [
             0.4444444444444444,
             "#26828e"
            ],
            [
             0.5555555555555556,
             "#1f9e89"
            ],
            [
             0.6666666666666666,
             "#35b779"
            ],
            [
             0.7777777777777778,
             "#6ece58"
            ],
            [
             0.8888888888888888,
             "#b5de2b"
            ],
            [
             1,
             "#fde725"
            ]
           ]
          },
          "colorway": [
           "#1F77B4",
           "#FF7F0E",
           "#2CA02C",
           "#D62728",
           "#9467BD",
           "#8C564B",
           "#E377C2",
           "#7F7F7F",
           "#BCBD22",
           "#17BECF"
          ],
          "font": {
           "color": "rgb(36,36,36)"
          },
          "geo": {
           "bgcolor": "white",
           "lakecolor": "white",
           "landcolor": "white",
           "showlakes": true,
           "showland": true,
           "subunitcolor": "white"
          },
          "hoverlabel": {
           "align": "left"
          },
          "hovermode": "closest",
          "mapbox": {
           "style": "light"
          },
          "paper_bgcolor": "white",
          "plot_bgcolor": "white",
          "polar": {
           "angularaxis": {
            "gridcolor": "rgb(232,232,232)",
            "linecolor": "rgb(36,36,36)",
            "showgrid": false,
            "showline": true,
            "ticks": "outside"
           },
           "bgcolor": "white",
           "radialaxis": {
            "gridcolor": "rgb(232,232,232)",
            "linecolor": "rgb(36,36,36)",
            "showgrid": false,
            "showline": true,
            "ticks": "outside"
           }
          },
          "scene": {
           "xaxis": {
            "backgroundcolor": "white",
            "gridcolor": "rgb(232,232,232)",
            "gridwidth": 2,
            "linecolor": "rgb(36,36,36)",
            "showbackground": true,
            "showgrid": false,
            "showline": true,
            "ticks": "outside",
            "zeroline": false,
            "zerolinecolor": "rgb(36,36,36)"
           },
           "yaxis": {
            "backgroundcolor": "white",
            "gridcolor": "rgb(232,232,232)",
            "gridwidth": 2,
            "linecolor": "rgb(36,36,36)",
            "showbackground": true,
            "showgrid": false,
            "showline": true,
            "ticks": "outside",
            "zeroline": false,
            "zerolinecolor": "rgb(36,36,36)"
           },
           "zaxis": {
            "backgroundcolor": "white",
            "gridcolor": "rgb(232,232,232)",
            "gridwidth": 2,
            "linecolor": "rgb(36,36,36)",
            "showbackground": true,
            "showgrid": false,
            "showline": true,
            "ticks": "outside",
            "zeroline": false,
            "zerolinecolor": "rgb(36,36,36)"
           }
          },
          "shapedefaults": {
           "fillcolor": "black",
           "line": {
            "width": 0
           },
           "opacity": 0.3
          },
          "ternary": {
           "aaxis": {
            "gridcolor": "rgb(232,232,232)",
            "linecolor": "rgb(36,36,36)",
            "showgrid": false,
            "showline": true,
            "ticks": "outside"
           },
           "baxis": {
            "gridcolor": "rgb(232,232,232)",
            "linecolor": "rgb(36,36,36)",
            "showgrid": false,
            "showline": true,
            "ticks": "outside"
           },
           "bgcolor": "white",
           "caxis": {
            "gridcolor": "rgb(232,232,232)",
            "linecolor": "rgb(36,36,36)",
            "showgrid": false,
            "showline": true,
            "ticks": "outside"
           }
          },
          "title": {
           "x": 0.05
          },
          "xaxis": {
           "automargin": true,
           "gridcolor": "rgb(232,232,232)",
           "linecolor": "rgb(36,36,36)",
           "showgrid": false,
           "showline": true,
           "ticks": "outside",
           "title": {
            "standoff": 15
           },
           "zeroline": false,
           "zerolinecolor": "rgb(36,36,36)"
          },
          "yaxis": {
           "automargin": true,
           "gridcolor": "rgb(232,232,232)",
           "linecolor": "rgb(36,36,36)",
           "showgrid": false,
           "showline": true,
           "ticks": "outside",
           "title": {
            "standoff": 15
           },
           "zeroline": false,
           "zerolinecolor": "rgb(36,36,36)"
          }
         }
        },
        "title": {
         "font": {
          "color": "Black",
          "size": 22
         },
         "text": "Topics over time in Fact words found in Royal Society Transactions (RSTL, RSTB, RSTA)",
         "x": 0.4,
         "xanchor": "center",
         "y": 0.95,
         "yanchor": "top"
        },
        "width": 1250,
        "xaxis": {
         "showgrid": true
        },
        "yaxis": {
         "showgrid": true,
         "title": {
          "text": "Frequency"
         }
        }
       }
      }
     },
     "metadata": {},
     "output_type": "display_data"
    },
    {
     "data": {
      "application/vnd.plotly.v1+json": {
       "config": {
        "plotlyServerURL": "https://plot.ly"
       },
       "data": [
        {
         "hoverinfo": "text",
         "hovertext": [
          "<b>Topic 0</b><br>Words: fishes, thornback, microscopical, testes, spermatic",
          "<b>Topic 0</b><br>Words: specimens, section, doubtless, contractile, requiring",
          "<b>Topic 0</b><br>Words: ambulacral, vagus, branches, diminish, action",
          "<b>Topic 0</b><br>Words: flexed, fibres, pyramidal, knee, tract",
          "<b>Topic 0</b><br>Words: fecundity, fictitious, correlation, values, fertility",
          "<b>Topic 0</b><br>Words: may, homotyposis, organs, individual, one",
          "<b>Topic 0</b><br>Words: medullary, plate, whites, cuba, deathrate",
          "<b>Topic 0</b><br>Words: number, meteorological, correlation, even, records",
          "<b>Topic 0</b><br>Words: plates, arranged, plate, must, could",
          "<b>Topic 0</b><br>Words: segmentation, development, species, capensis, germlayer",
          "<b>Topic 0</b><br>Words: species, taxonomy, barcode, janzen, traditional",
          "<b>Topic 0</b><br>Words: al, words, et, new, social",
          "<b>Topic 0</b><br>Words: science, fiction, imagination, states, map",
          "<b>Topic 0</b><br>Words: science, fiction, one, fictional, participants"
         ],
         "marker": {
          "color": "#E69F00"
         },
         "mode": "lines",
         "name": "0_science_fiction_one_fictional",
         "type": "scatter",
         "x": [
          "1834-10-09T23:31:12",
          "1874-02-02T06:14:24",
          "1880-08-22T15:21:36",
          "1887-03-13T00:28:48",
          "1893-09-30T09:36:00",
          "1900-04-20T18:43:12",
          "1906-11-09T03:50:24",
          "1919-12-17T22:04:48",
          "1933-01-24T16:19:12",
          "1946-03-04T10:33:36",
          "1998-08-05T11:31:12",
          "2005-02-22T20:38:24",
          "2011-09-13T05:45:36",
          "2018-04-02T14:52:48"
         ],
         "y": [
          1,
          1,
          2,
          2,
          32,
          2,
          2,
          1,
          1,
          1,
          1,
          24,
          65,
          164
         ]
        },
        {
         "hoverinfo": "text",
         "hovertext": [
          "<b>Topic 1</b><br>Words: ter, fa, promnendict, wheel, candy",
          "<b>Topic 1</b><br>Words: iron, fumes, 3ij, vitriol, great",
          "<b>Topic 1</b><br>Words: gold, copper, grains, weight, tin",
          "<b>Topic 1</b><br>Words: elastic, force, temperature, geometrical, daltox",
          "<b>Topic 1</b><br>Words: plane, spectrum, conceive, ring, oval",
          "<b>Topic 1</b><br>Words: quantity, weight, functions, coefficients, terms",
          "<b>Topic 1</b><br>Words: guncotton, weight, manufacture, chemistry, weights",
          "<b>Topic 1</b><br>Words: de, acid, la, contained, que",
          "<b>Topic 1</b><br>Words: chemistry, deviation, traces, coefficient, 1880",
          "<b>Topic 1</b><br>Words: elasticity, air, sliderule, peu, avoids",
          "<b>Topic 1</b><br>Words: inches, values, correction, pressure, dynes",
          "<b>Topic 1</b><br>Words: annual, year, values, change, inequality",
          "<b>Topic 1</b><br>Words: spectrum, lens, comparison, slit, photographs",
          "<b>Topic 1</b><br>Words: 3444, 2092, 7340, 1701, 272",
          "<b>Topic 1</b><br>Words: platelets, samples, sin, round, sample",
          "<b>Topic 1</b><br>Words: luminosity, spectrum, colours, primary, visibility",
          "<b>Topic 1</b><br>Words: receiver, ground, transmitter, solute, gain",
          "<b>Topic 1</b><br>Words: pendulum, sec, period, observations, phase",
          "<b>Topic 1</b><br>Words: field, geometrical, diffraction, optics, earth",
          "<b>Topic 1</b><br>Words: phase, grid, potential, rocking, trace",
          "<b>Topic 1</b><br>Words: run, supercell, simulations, timestep, licl"
         ],
         "marker": {
          "color": "#56B4E9"
         },
         "mode": "lines",
         "name": "1_fictitious_used_run_phase",
         "type": "scatter",
         "x": [
          "1729-12-04T21:36:00",
          "1736-06-24T06:43:12",
          "1802-01-04T01:55:12",
          "1815-02-11T20:09:36",
          "1834-10-09T23:31:12",
          "1847-11-17T17:45:36",
          "1860-12-25T12:00:00",
          "1867-07-15T21:07:12",
          "1880-08-22T15:21:36",
          "1887-03-13T00:28:48",
          "1893-09-30T09:36:00",
          "1900-04-20T18:43:12",
          "1906-11-09T03:50:24",
          "1913-05-29T12:57:36",
          "1919-12-17T22:04:48",
          "1926-07-07T07:12:00",
          "1933-01-24T16:19:12",
          "1946-03-04T10:33:36",
          "1952-09-21T19:40:48",
          "2011-09-13T05:45:36",
          "2018-04-02T14:52:48"
         ],
         "y": [
          1,
          1,
          1,
          1,
          1,
          1,
          2,
          2,
          2,
          1,
          3,
          7,
          5,
          1,
          2,
          2,
          6,
          6,
          1,
          7,
          8
         ]
        },
        {
         "hoverinfo": "text",
         "hovertext": [
          "<b>Topic 2</b><br>Words: brackets, denoted, operators, thus, dig",
          "<b>Topic 2</b><br>Words: range, denominator, singularities, points, obtained",
          "<b>Topic 2</b><br>Words: points, boundary, equation, fictitious, internal",
          "<b>Topic 2</b><br>Words: points, boundary, equation, internal, equations",
          "<b>Topic 2</b><br>Words: algorithm, scheme, nodes, inversion, points"
         ],
         "marker": {
          "color": "#009E73"
         },
         "mode": "lines",
         "name": "2_points_boundary_equation_internal",
         "type": "scatter",
         "x": [
          "1906-11-09T03:50:24",
          "1919-12-17T22:04:48",
          "1939-08-15T01:26:24",
          "1946-03-04T10:33:36",
          "2018-04-02T14:52:48"
         ],
         "y": [
          2,
          1,
          8,
          29,
          1
         ]
        },
        {
         "hoverinfo": "text",
         "hovertext": [
          "<b>Topic 3</b><br>Words: angle, tangent, arch, orbit, focus",
          "<b>Topic 3</b><br>Words: mean, un, meridian, motion, time",
          "<b>Topic 3</b><br>Words: body, stars, bodies, centre, fig",
          "<b>Topic 3</b><br>Words: nebulous, stars, appearance, matter, orion",
          "<b>Topic 3</b><br>Words: collimator, star, floating, index, corrections",
          "<b>Topic 3</b><br>Words: problem, equations, integrations, bodies, integrals",
          "<b>Topic 3</b><br>Words: transit, moon, time, fictitious, mean",
          "<b>Topic 3</b><br>Words: interrupted, xp, xo, arm, 11",
          "<b>Topic 3</b><br>Words: gravitational, lensing, eines, astron, von"
         ],
         "marker": {
          "color": "#F0E442"
         },
         "mode": "lines",
         "name": "3_moon_transit_mean_time",
         "type": "scatter",
         "x": [
          "1736-06-24T06:43:12",
          "1762-09-09T19:12:00",
          "1802-01-04T01:55:12",
          "1808-07-24T11:02:24",
          "1821-09-01T05:16:48",
          "1854-06-07T02:52:48",
          "1887-03-13T00:28:48",
          "1939-08-15T01:26:24",
          "2005-02-22T20:38:24"
         ],
         "y": [
          2,
          3,
          3,
          3,
          1,
          1,
          15,
          1,
          1
         ]
        },
        {
         "hoverinfo": "text",
         "hovertext": [
          "<b>Topic 4</b><br>Words: glass, soc, 373, nematic, biaxial",
          "<b>Topic 4</b><br>Words: glass, transition, carbonate, temperature, water"
         ],
         "marker": {
          "color": "#D55E00"
         },
         "mode": "lines",
         "name": "4_glass_transition_carbonate_temperature",
         "type": "scatter",
         "x": [
          "2011-09-13T05:45:36",
          "2018-04-02T14:52:48"
         ],
         "y": [
          2,
          24
         ]
        },
        {
         "hoverinfo": "text",
         "hovertext": [
          "<b>Topic 5</b><br>Words: forces, body, energy, crack, applied",
          "<b>Topic 5</b><br>Words: crack, modulus, figure, diameter, elements",
          "<b>Topic 5</b><br>Words: crack, stress, ice, tractionfree, fracture"
         ],
         "marker": {
          "color": "#0072B2"
         },
         "mode": "lines",
         "name": "5_crack_stress_ice_tractionfree",
         "type": "scatter",
         "x": [
          "1946-03-04T10:33:36",
          "2011-09-13T05:45:36",
          "2018-04-02T14:52:48"
         ],
         "y": [
          2,
          2,
          19
         ]
        },
        {
         "hoverinfo": "text",
         "hovertext": [
          "<b>Topic 6</b><br>Words: current, force, magnetic, electric, medium",
          "<b>Topic 6</b><br>Words: current, electric, magnetic, force, medium",
          "<b>Topic 6</b><br>Words: magnetic, electric, poles, field, forces"
         ],
         "marker": {
          "color": "#CC79A7"
         },
         "mode": "lines",
         "name": "6_current_force_magnetic_electric",
         "type": "scatter",
         "x": [
          "1887-03-13T00:28:48",
          "1893-09-30T09:36:00",
          "1919-12-17T22:04:48"
         ],
         "y": [
          17,
          4,
          1
         ]
        },
        {
         "hoverinfo": "text",
         "hovertext": [
          "<b>Topic 7</b><br>Words: firt, parts, tarantola, thee, ancient",
          "<b>Topic 7</b><br>Words: philoophy, names, ome, fables, mut",
          "<b>Topic 7</b><br>Words: like, formnls, tfvficivs, caua, dona",
          "<b>Topic 7</b><br>Words: ome, fire, chinee, ancient, exiting",
          "<b>Topic 7</b><br>Words: sir, mot, propoitions, theearth, preent",
          "<b>Topic 7</b><br>Words: incription, econd, firt, vabbe, reaon",
          "<b>Topic 7</b><br>Words: of, little, ad, days, 00y",
          "<b>Topic 7</b><br>Words: lord, fix, yet, whole, born",
          "<b>Topic 7</b><br>Words: poison, plants, tree, lemmahkapiting, ipoh"
         ],
         "marker": {
          "color": "#E69F00"
         },
         "mode": "lines",
         "name": "7_ome_firt_mut_mot",
         "type": "scatter",
         "x": [
          "1696-10-31T07:56:38.400000",
          "1703-09-19T09:07:12",
          "1736-06-24T06:43:12",
          "1743-01-12T15:50:24",
          "1749-08-02T00:57:36",
          "1762-09-09T19:12:00",
          "1775-10-18T13:26:24",
          "1782-05-07T22:33:36",
          "1834-10-09T23:31:12"
         ],
         "y": [
          4,
          3,
          1,
          2,
          2,
          1,
          1,
          1,
          1
         ]
        },
        {
         "hoverinfo": "text",
         "hovertext": [
          "<b>Topic 8</b><br>Words: deflection, solution, beam, knifeedge, cantilever",
          "<b>Topic 8</b><br>Words: pressure, centre, tooth, wire, membrane",
          "<b>Topic 8</b><br>Words: pressure, cylinder, thread, shell, radius"
         ],
         "marker": {
          "color": "#56B4E9"
         },
         "mode": "lines",
         "name": "8_pressure_centre_tooth_wire",
         "type": "scatter",
         "x": [
          "1900-04-20T18:43:12",
          "1933-01-24T16:19:12",
          "2011-09-13T05:45:36"
         ],
         "y": [
          1,
          9,
          2
         ]
        }
       ],
       "layout": {
        "height": 450,
        "hoverlabel": {
         "bgcolor": "white",
         "font": {
          "family": "Rockwell",
          "size": 16
         }
        },
        "legend": {
         "title": {
          "text": "<b>Global Topic Representation"
         }
        },
        "template": {
         "data": {
          "bar": [
           {
            "error_x": {
             "color": "rgb(36,36,36)"
            },
            "error_y": {
             "color": "rgb(36,36,36)"
            },
            "marker": {
             "line": {
              "color": "white",
              "width": 0.5
             },
             "pattern": {
              "fillmode": "overlay",
              "size": 10,
              "solidity": 0.2
             }
            },
            "type": "bar"
           }
          ],
          "barpolar": [
           {
            "marker": {
             "line": {
              "color": "white",
              "width": 0.5
             },
             "pattern": {
              "fillmode": "overlay",
              "size": 10,
              "solidity": 0.2
             }
            },
            "type": "barpolar"
           }
          ],
          "carpet": [
           {
            "aaxis": {
             "endlinecolor": "rgb(36,36,36)",
             "gridcolor": "white",
             "linecolor": "white",
             "minorgridcolor": "white",
             "startlinecolor": "rgb(36,36,36)"
            },
            "baxis": {
             "endlinecolor": "rgb(36,36,36)",
             "gridcolor": "white",
             "linecolor": "white",
             "minorgridcolor": "white",
             "startlinecolor": "rgb(36,36,36)"
            },
            "type": "carpet"
           }
          ],
          "choropleth": [
           {
            "colorbar": {
             "outlinewidth": 1,
             "tickcolor": "rgb(36,36,36)",
             "ticks": "outside"
            },
            "type": "choropleth"
           }
          ],
          "contour": [
           {
            "colorbar": {
             "outlinewidth": 1,
             "tickcolor": "rgb(36,36,36)",
             "ticks": "outside"
            },
            "colorscale": [
             [
              0,
              "#440154"
             ],
             [
              0.1111111111111111,
              "#482878"
             ],
             [
              0.2222222222222222,
              "#3e4989"
             ],
             [
              0.3333333333333333,
              "#31688e"
             ],
             [
              0.4444444444444444,
              "#26828e"
             ],
             [
              0.5555555555555556,
              "#1f9e89"
             ],
             [
              0.6666666666666666,
              "#35b779"
             ],
             [
              0.7777777777777778,
              "#6ece58"
             ],
             [
              0.8888888888888888,
              "#b5de2b"
             ],
             [
              1,
              "#fde725"
             ]
            ],
            "type": "contour"
           }
          ],
          "contourcarpet": [
           {
            "colorbar": {
             "outlinewidth": 1,
             "tickcolor": "rgb(36,36,36)",
             "ticks": "outside"
            },
            "type": "contourcarpet"
           }
          ],
          "heatmap": [
           {
            "colorbar": {
             "outlinewidth": 1,
             "tickcolor": "rgb(36,36,36)",
             "ticks": "outside"
            },
            "colorscale": [
             [
              0,
              "#440154"
             ],
             [
              0.1111111111111111,
              "#482878"
             ],
             [
              0.2222222222222222,
              "#3e4989"
             ],
             [
              0.3333333333333333,
              "#31688e"
             ],
             [
              0.4444444444444444,
              "#26828e"
             ],
             [
              0.5555555555555556,
              "#1f9e89"
             ],
             [
              0.6666666666666666,
              "#35b779"
             ],
             [
              0.7777777777777778,
              "#6ece58"
             ],
             [
              0.8888888888888888,
              "#b5de2b"
             ],
             [
              1,
              "#fde725"
             ]
            ],
            "type": "heatmap"
           }
          ],
          "heatmapgl": [
           {
            "colorbar": {
             "outlinewidth": 1,
             "tickcolor": "rgb(36,36,36)",
             "ticks": "outside"
            },
            "colorscale": [
             [
              0,
              "#440154"
             ],
             [
              0.1111111111111111,
              "#482878"
             ],
             [
              0.2222222222222222,
              "#3e4989"
             ],
             [
              0.3333333333333333,
              "#31688e"
             ],
             [
              0.4444444444444444,
              "#26828e"
             ],
             [
              0.5555555555555556,
              "#1f9e89"
             ],
             [
              0.6666666666666666,
              "#35b779"
             ],
             [
              0.7777777777777778,
              "#6ece58"
             ],
             [
              0.8888888888888888,
              "#b5de2b"
             ],
             [
              1,
              "#fde725"
             ]
            ],
            "type": "heatmapgl"
           }
          ],
          "histogram": [
           {
            "marker": {
             "line": {
              "color": "white",
              "width": 0.6
             }
            },
            "type": "histogram"
           }
          ],
          "histogram2d": [
           {
            "colorbar": {
             "outlinewidth": 1,
             "tickcolor": "rgb(36,36,36)",
             "ticks": "outside"
            },
            "colorscale": [
             [
              0,
              "#440154"
             ],
             [
              0.1111111111111111,
              "#482878"
             ],
             [
              0.2222222222222222,
              "#3e4989"
             ],
             [
              0.3333333333333333,
              "#31688e"
             ],
             [
              0.4444444444444444,
              "#26828e"
             ],
             [
              0.5555555555555556,
              "#1f9e89"
             ],
             [
              0.6666666666666666,
              "#35b779"
             ],
             [
              0.7777777777777778,
              "#6ece58"
             ],
             [
              0.8888888888888888,
              "#b5de2b"
             ],
             [
              1,
              "#fde725"
             ]
            ],
            "type": "histogram2d"
           }
          ],
          "histogram2dcontour": [
           {
            "colorbar": {
             "outlinewidth": 1,
             "tickcolor": "rgb(36,36,36)",
             "ticks": "outside"
            },
            "colorscale": [
             [
              0,
              "#440154"
             ],
             [
              0.1111111111111111,
              "#482878"
             ],
             [
              0.2222222222222222,
              "#3e4989"
             ],
             [
              0.3333333333333333,
              "#31688e"
             ],
             [
              0.4444444444444444,
              "#26828e"
             ],
             [
              0.5555555555555556,
              "#1f9e89"
             ],
             [
              0.6666666666666666,
              "#35b779"
             ],
             [
              0.7777777777777778,
              "#6ece58"
             ],
             [
              0.8888888888888888,
              "#b5de2b"
             ],
             [
              1,
              "#fde725"
             ]
            ],
            "type": "histogram2dcontour"
           }
          ],
          "mesh3d": [
           {
            "colorbar": {
             "outlinewidth": 1,
             "tickcolor": "rgb(36,36,36)",
             "ticks": "outside"
            },
            "type": "mesh3d"
           }
          ],
          "parcoords": [
           {
            "line": {
             "colorbar": {
              "outlinewidth": 1,
              "tickcolor": "rgb(36,36,36)",
              "ticks": "outside"
             }
            },
            "type": "parcoords"
           }
          ],
          "pie": [
           {
            "automargin": true,
            "type": "pie"
           }
          ],
          "scatter": [
           {
            "fillpattern": {
             "fillmode": "overlay",
             "size": 10,
             "solidity": 0.2
            },
            "type": "scatter"
           }
          ],
          "scatter3d": [
           {
            "line": {
             "colorbar": {
              "outlinewidth": 1,
              "tickcolor": "rgb(36,36,36)",
              "ticks": "outside"
             }
            },
            "marker": {
             "colorbar": {
              "outlinewidth": 1,
              "tickcolor": "rgb(36,36,36)",
              "ticks": "outside"
             }
            },
            "type": "scatter3d"
           }
          ],
          "scattercarpet": [
           {
            "marker": {
             "colorbar": {
              "outlinewidth": 1,
              "tickcolor": "rgb(36,36,36)",
              "ticks": "outside"
             }
            },
            "type": "scattercarpet"
           }
          ],
          "scattergeo": [
           {
            "marker": {
             "colorbar": {
              "outlinewidth": 1,
              "tickcolor": "rgb(36,36,36)",
              "ticks": "outside"
             }
            },
            "type": "scattergeo"
           }
          ],
          "scattergl": [
           {
            "marker": {
             "colorbar": {
              "outlinewidth": 1,
              "tickcolor": "rgb(36,36,36)",
              "ticks": "outside"
             }
            },
            "type": "scattergl"
           }
          ],
          "scattermapbox": [
           {
            "marker": {
             "colorbar": {
              "outlinewidth": 1,
              "tickcolor": "rgb(36,36,36)",
              "ticks": "outside"
             }
            },
            "type": "scattermapbox"
           }
          ],
          "scatterpolar": [
           {
            "marker": {
             "colorbar": {
              "outlinewidth": 1,
              "tickcolor": "rgb(36,36,36)",
              "ticks": "outside"
             }
            },
            "type": "scatterpolar"
           }
          ],
          "scatterpolargl": [
           {
            "marker": {
             "colorbar": {
              "outlinewidth": 1,
              "tickcolor": "rgb(36,36,36)",
              "ticks": "outside"
             }
            },
            "type": "scatterpolargl"
           }
          ],
          "scatterternary": [
           {
            "marker": {
             "colorbar": {
              "outlinewidth": 1,
              "tickcolor": "rgb(36,36,36)",
              "ticks": "outside"
             }
            },
            "type": "scatterternary"
           }
          ],
          "surface": [
           {
            "colorbar": {
             "outlinewidth": 1,
             "tickcolor": "rgb(36,36,36)",
             "ticks": "outside"
            },
            "colorscale": [
             [
              0,
              "#440154"
             ],
             [
              0.1111111111111111,
              "#482878"
             ],
             [
              0.2222222222222222,
              "#3e4989"
             ],
             [
              0.3333333333333333,
              "#31688e"
             ],
             [
              0.4444444444444444,
              "#26828e"
             ],
             [
              0.5555555555555556,
              "#1f9e89"
             ],
             [
              0.6666666666666666,
              "#35b779"
             ],
             [
              0.7777777777777778,
              "#6ece58"
             ],
             [
              0.8888888888888888,
              "#b5de2b"
             ],
             [
              1,
              "#fde725"
             ]
            ],
            "type": "surface"
           }
          ],
          "table": [
           {
            "cells": {
             "fill": {
              "color": "rgb(237,237,237)"
             },
             "line": {
              "color": "white"
             }
            },
            "header": {
             "fill": {
              "color": "rgb(217,217,217)"
             },
             "line": {
              "color": "white"
             }
            },
            "type": "table"
           }
          ]
         },
         "layout": {
          "annotationdefaults": {
           "arrowhead": 0,
           "arrowwidth": 1
          },
          "autotypenumbers": "strict",
          "coloraxis": {
           "colorbar": {
            "outlinewidth": 1,
            "tickcolor": "rgb(36,36,36)",
            "ticks": "outside"
           }
          },
          "colorscale": {
           "diverging": [
            [
             0,
             "rgb(103,0,31)"
            ],
            [
             0.1,
             "rgb(178,24,43)"
            ],
            [
             0.2,
             "rgb(214,96,77)"
            ],
            [
             0.3,
             "rgb(244,165,130)"
            ],
            [
             0.4,
             "rgb(253,219,199)"
            ],
            [
             0.5,
             "rgb(247,247,247)"
            ],
            [
             0.6,
             "rgb(209,229,240)"
            ],
            [
             0.7,
             "rgb(146,197,222)"
            ],
            [
             0.8,
             "rgb(67,147,195)"
            ],
            [
             0.9,
             "rgb(33,102,172)"
            ],
            [
             1,
             "rgb(5,48,97)"
            ]
           ],
           "sequential": [
            [
             0,
             "#440154"
            ],
            [
             0.1111111111111111,
             "#482878"
            ],
            [
             0.2222222222222222,
             "#3e4989"
            ],
            [
             0.3333333333333333,
             "#31688e"
            ],
            [
             0.4444444444444444,
             "#26828e"
            ],
            [
             0.5555555555555556,
             "#1f9e89"
            ],
            [
             0.6666666666666666,
             "#35b779"
            ],
            [
             0.7777777777777778,
             "#6ece58"
            ],
            [
             0.8888888888888888,
             "#b5de2b"
            ],
            [
             1,
             "#fde725"
            ]
           ],
           "sequentialminus": [
            [
             0,
             "#440154"
            ],
            [
             0.1111111111111111,
             "#482878"
            ],
            [
             0.2222222222222222,
             "#3e4989"
            ],
            [
             0.3333333333333333,
             "#31688e"
            ],
            [
             0.4444444444444444,
             "#26828e"
            ],
            [
             0.5555555555555556,
             "#1f9e89"
            ],
            [
             0.6666666666666666,
             "#35b779"
            ],
            [
             0.7777777777777778,
             "#6ece58"
            ],
            [
             0.8888888888888888,
             "#b5de2b"
            ],
            [
             1,
             "#fde725"
            ]
           ]
          },
          "colorway": [
           "#1F77B4",
           "#FF7F0E",
           "#2CA02C",
           "#D62728",
           "#9467BD",
           "#8C564B",
           "#E377C2",
           "#7F7F7F",
           "#BCBD22",
           "#17BECF"
          ],
          "font": {
           "color": "rgb(36,36,36)"
          },
          "geo": {
           "bgcolor": "white",
           "lakecolor": "white",
           "landcolor": "white",
           "showlakes": true,
           "showland": true,
           "subunitcolor": "white"
          },
          "hoverlabel": {
           "align": "left"
          },
          "hovermode": "closest",
          "mapbox": {
           "style": "light"
          },
          "paper_bgcolor": "white",
          "plot_bgcolor": "white",
          "polar": {
           "angularaxis": {
            "gridcolor": "rgb(232,232,232)",
            "linecolor": "rgb(36,36,36)",
            "showgrid": false,
            "showline": true,
            "ticks": "outside"
           },
           "bgcolor": "white",
           "radialaxis": {
            "gridcolor": "rgb(232,232,232)",
            "linecolor": "rgb(36,36,36)",
            "showgrid": false,
            "showline": true,
            "ticks": "outside"
           }
          },
          "scene": {
           "xaxis": {
            "backgroundcolor": "white",
            "gridcolor": "rgb(232,232,232)",
            "gridwidth": 2,
            "linecolor": "rgb(36,36,36)",
            "showbackground": true,
            "showgrid": false,
            "showline": true,
            "ticks": "outside",
            "zeroline": false,
            "zerolinecolor": "rgb(36,36,36)"
           },
           "yaxis": {
            "backgroundcolor": "white",
            "gridcolor": "rgb(232,232,232)",
            "gridwidth": 2,
            "linecolor": "rgb(36,36,36)",
            "showbackground": true,
            "showgrid": false,
            "showline": true,
            "ticks": "outside",
            "zeroline": false,
            "zerolinecolor": "rgb(36,36,36)"
           },
           "zaxis": {
            "backgroundcolor": "white",
            "gridcolor": "rgb(232,232,232)",
            "gridwidth": 2,
            "linecolor": "rgb(36,36,36)",
            "showbackground": true,
            "showgrid": false,
            "showline": true,
            "ticks": "outside",
            "zeroline": false,
            "zerolinecolor": "rgb(36,36,36)"
           }
          },
          "shapedefaults": {
           "fillcolor": "black",
           "line": {
            "width": 0
           },
           "opacity": 0.3
          },
          "ternary": {
           "aaxis": {
            "gridcolor": "rgb(232,232,232)",
            "linecolor": "rgb(36,36,36)",
            "showgrid": false,
            "showline": true,
            "ticks": "outside"
           },
           "baxis": {
            "gridcolor": "rgb(232,232,232)",
            "linecolor": "rgb(36,36,36)",
            "showgrid": false,
            "showline": true,
            "ticks": "outside"
           },
           "bgcolor": "white",
           "caxis": {
            "gridcolor": "rgb(232,232,232)",
            "linecolor": "rgb(36,36,36)",
            "showgrid": false,
            "showline": true,
            "ticks": "outside"
           }
          },
          "title": {
           "x": 0.05
          },
          "xaxis": {
           "automargin": true,
           "gridcolor": "rgb(232,232,232)",
           "linecolor": "rgb(36,36,36)",
           "showgrid": false,
           "showline": true,
           "ticks": "outside",
           "title": {
            "standoff": 15
           },
           "zeroline": false,
           "zerolinecolor": "rgb(36,36,36)"
          },
          "yaxis": {
           "automargin": true,
           "gridcolor": "rgb(232,232,232)",
           "linecolor": "rgb(36,36,36)",
           "showgrid": false,
           "showline": true,
           "ticks": "outside",
           "title": {
            "standoff": 15
           },
           "zeroline": false,
           "zerolinecolor": "rgb(36,36,36)"
          }
         }
        },
        "title": {
         "font": {
          "color": "Black",
          "size": 22
         },
         "text": "Topics over time in Fiction words found in Royal Society Transactions (RSTL, RSTB, RSTA)",
         "x": 0.4,
         "xanchor": "center",
         "y": 0.95,
         "yanchor": "top"
        },
        "width": 1250,
        "xaxis": {
         "showgrid": true
        },
        "yaxis": {
         "showgrid": true,
         "title": {
          "text": "Frequency"
         }
        }
       }
      }
     },
     "metadata": {},
     "output_type": "display_data"
    }
   ],
   "source": [
    "#fact/fict with no stop words\n",
    "\n",
    "topic_model = BERTopic(verbose=False)\n",
    "topics, probs = topic_model.fit_transform(fact_data_clean)\n",
    "topics_over_time1 = topic_model.topics_over_time(fact_data_clean, date_fact, datetime_format=\"%Y-%m-%d\", nr_bins=50)\n",
    "fig1 = topic_model.visualize_topics_over_time(topics_over_time1, top_n_topics=30, title= \"Topics over time in Fact words found in Royal Society Transactions (RSTL, RSTB, RSTA)\")\n",
    "fig1.write_html('fact_topics_over_time_50_30.html')\n",
    "\n",
    "fig1.show()\n",
    "\n",
    "topic_model = BERTopic(verbose=False)\n",
    "topics, probs = topic_model.fit_transform(fict_data_clean)\n",
    "topics_over_time2 = topic_model.topics_over_time(fict_data_clean, date_fict, datetime_format=\"%Y-%m-%d\", nr_bins=50)\n",
    "fig2 = topic_model.visualize_topics_over_time(topics_over_time2, top_n_topics=30, title= \"Topics over time in Fiction words found in Royal Society Transactions (RSTL, RSTB, RSTA)\")\n",
    "fig2.write_html('fiction_topics_over_time_50_30.html')\n",
    "\n",
    "fig2.show()"
   ]
  },
  {
   "cell_type": "markdown",
   "metadata": {},
   "source": [
    "THE TOPIC OF ALL FULL THE ROYAL SOCIETY ARTICLES?"
   ]
  },
  {
   "cell_type": "code",
   "execution_count": 33,
   "metadata": {},
   "outputs": [
    {
     "data": {
      "application/vnd.plotly.v1+json": {
       "config": {
        "plotlyServerURL": "https://plot.ly"
       },
       "data": [
        {
         "hoverinfo": "text",
         "hovertext": [
          "<b>Topic 0</b><br>Words: ut, cum, ad, non, ex",
          "<b>Topic 0</b><br>Words: ad, cum, ex, ut, vero",
          "<b>Topic 0</b><br>Words: ad, cum, ut, ex, quod",
          "<b>Topic 0</b><br>Words: ad, ut, ex, cum, quod",
          "<b>Topic 0</b><br>Words: ad, ut, ex, cum, vel",
          "<b>Topic 0</b><br>Words: ad, ut, ex, cum, vel",
          "<b>Topic 0</b><br>Words: ad, ut, cum, ex, quod",
          "<b>Topic 0</b><br>Words: ad, ut, ex, cum, non",
          "<b>Topic 0</b><br>Words: quod, cum, ad, ex, ut",
          "<b>Topic 0</b><br>Words: ad, ut, cum, quod, ex",
          "<b>Topic 0</b><br>Words: ad, cum, ex, ut, non",
          "<b>Topic 0</b><br>Words: ad, ut, cum, ex, et",
          "<b>Topic 0</b><br>Words: ut, ex, ad, cum, quod",
          "<b>Topic 0</b><br>Words: ad, cum, ex, quod, ut",
          "<b>Topic 0</b><br>Words: veleno, che, vel, poion, non",
          "<b>Topic 0</b><br>Words: che, di, de, la, non",
          "<b>Topic 0</b><br>Words: les, de, que, dans, la",
          "<b>Topic 0</b><br>Words: la, chaleur, de, que, les",
          "<b>Topic 0</b><br>Words: la, de, les, des, que",
          "<b>Topic 0</b><br>Words: turacin, copper, band, pigment, ash",
          "<b>Topic 0</b><br>Words: ist, der, wir, die, eine",
          "<b>Topic 0</b><br>Words: curvefactor, curvefactors, real, transformation, zeros",
          "<b>Topic 0</b><br>Words: periodic, solutions, solution, ye, family"
         ],
         "marker": {
          "color": "#E69F00"
         },
         "mode": "lines",
         "name": "0_ad_ut_cum_ex",
         "type": "scatter",
         "x": [
          "1678-08-26T15:01:26.400000",
          "1685-12-01T11:31:12",
          "1692-11-01T23:02:24",
          "1699-10-04T10:33:36",
          "1706-09-05T22:04:48",
          "1713-08-07T09:36:00",
          "1720-07-08T21:07:12",
          "1727-06-10T08:38:24",
          "1734-05-11T20:09:36",
          "1741-04-12T07:40:48",
          "1748-03-13T19:12:00",
          "1755-02-13T06:43:12",
          "1762-01-14T18:14:24",
          "1768-12-16T05:45:36",
          "1775-11-17T17:16:48",
          "1782-10-19T04:48:00",
          "1789-09-19T16:19:12",
          "1796-08-21T03:50:24",
          "1817-05-26T14:24:00",
          "1886-08-07T09:36:00",
          "1900-06-10T08:38:24",
          "1914-04-13T07:40:48",
          "1928-02-14T06:43:12"
         ],
         "y": [
          18,
          36,
          41,
          51,
          22,
          50,
          62,
          48,
          39,
          42,
          22,
          25,
          16,
          14,
          9,
          12,
          1,
          2,
          1,
          1,
          1,
          1,
          1
         ]
        },
        {
         "hoverinfo": "text",
         "hovertext": [
          "<b>Topic 1</b><br>Words: roots, zquation, cubick, reolvend, root",
          "<b>Topic 1</b><br>Words: root, series, powers, letter, cube",
          "<b>Topic 1</b><br>Words: logarithms, root, equation, unite, numbers",
          "<b>Topic 1</b><br>Words: aquation, poitive, roots, term, econd",
          "<b>Topic 1</b><br>Words: roots, mut, equation, cx, term",
          "<b>Topic 1</b><br>Words: oc, fluent, corol, eries, expreion",
          "<b>Topic 1</b><br>Words: hyp, log, eries, fluent, um",
          "<b>Topic 1</b><br>Words: rulers, roots, equation, crewed, equal",
          "<b>Topic 1</b><br>Words: eries, roots, equation, root, cae",
          "<b>Topic 1</b><br>Words: eries, um, roots, equation, quantities",
          "<b>Topic 1</b><br>Words: eries, term, hyp, quantities, equation",
          "<b>Topic 1</b><br>Words: roots, equation, equations, quantities, resolution",
          "<b>Topic 1</b><br>Words: sine, cos, series, 1e, theorem",
          "<b>Topic 1</b><br>Words: surds, equation, functions, multinomials, terms",
          "<b>Topic 1</b><br>Words: series, cos, equation, equations, functions",
          "<b>Topic 1</b><br>Words: roots, quantities, negative, neperian, equation",
          "<b>Topic 1</b><br>Words: roots, operation, cos, operations, series",
          "<b>Topic 1</b><br>Words: equation, positive, ferential, correcting, ivory",
          "<b>Topic 1</b><br>Words: equation, equations, solution, series, form",
          "<b>Topic 1</b><br>Words: roots, equation, functions, coefficients, function",
          "<b>Topic 1</b><br>Words: equation, roots, equations, matrix, form",
          "<b>Topic 1</b><br>Words: mod, roots, def, equation, 000",
          "<b>Topic 1</b><br>Words: equation, unit, integral, viz, event",
          "<b>Topic 1</b><br>Words: equation, functions, equations, integral, theorem",
          "<b>Topic 1</b><br>Words: numbers, hypothenusal, terms, order, equation",
          "<b>Topic 1</b><br>Words: mod, numbers, exponent, equations, equation",
          "<b>Topic 1</b><br>Words: log, integral, function, gamma, equations",
          "<b>Topic 1</b><br>Words: function, series, integral, functions, numbers",
          "<b>Topic 1</b><br>Words: multipartite, partitions, partition, 3m, numbers",
          "<b>Topic 1</b><br>Words: arg, ee, bipartitional, theorem, partitions",
          "<b>Topic 1</b><br>Words: concomitants, tensor, tensors, invariant, concomitant",
          "<b>Topic 1</b><br>Words: theorem, forms, reducible, zeros, form",
          "<b>Topic 1</b><br>Words: fractal, theorem, zeta, let, function",
          "<b>Topic 1</b><br>Words: factorial, lists, multiples, mod, integral"
         ],
         "marker": {
          "color": "#56B4E9"
         },
         "mode": "lines",
         "name": "1_equation_roots_equations_integral",
         "type": "scatter",
         "x": [
          "1678-08-26T15:01:26.400000",
          "1692-11-01T23:02:24",
          "1713-08-07T09:36:00",
          "1720-07-08T21:07:12",
          "1727-06-10T08:38:24",
          "1748-03-13T19:12:00",
          "1755-02-13T06:43:12",
          "1768-12-16T05:45:36",
          "1775-11-17T17:16:48",
          "1782-10-19T04:48:00",
          "1789-09-19T16:19:12",
          "1796-08-21T03:50:24",
          "1803-07-24T15:21:36",
          "1810-06-25T02:52:48",
          "1817-05-26T14:24:00",
          "1824-04-27T01:55:12",
          "1831-03-29T13:26:24",
          "1838-02-28T00:57:36",
          "1845-01-29T12:28:48",
          "1852-01-01T00:00:00",
          "1858-12-02T11:31:12",
          "1865-11-02T23:02:24",
          "1872-10-04T10:33:36",
          "1879-09-05T22:04:48",
          "1886-08-07T09:36:00",
          "1893-07-08T21:07:12",
          "1900-06-10T08:38:24",
          "1907-05-12T20:09:36",
          "1914-04-13T07:40:48",
          "1935-01-15T18:14:24",
          "1941-12-17T05:45:36",
          "1948-11-17T17:16:48",
          "2011-02-28T00:57:36",
          "2018-01-29T12:28:48"
         ],
         "y": [
          2,
          3,
          1,
          1,
          2,
          2,
          2,
          1,
          9,
          7,
          4,
          3,
          4,
          7,
          7,
          2,
          4,
          1,
          4,
          15,
          29,
          10,
          4,
          7,
          2,
          9,
          8,
          10,
          1,
          2,
          5,
          8,
          9,
          2
         ]
        },
        {
         "hoverinfo": "text",
         "hovertext": [
          "<b>Topic 2</b><br>Words: sulphur, volatile, vitriol, spirit, acid",
          "<b>Topic 2</b><br>Words: acid, liquor, nitrous, air, alkali",
          "<b>Topic 2</b><br>Words: kali, calx, puri, weight, acid",
          "<b>Topic 2</b><br>Words: acid, muriatic, gas, hyperoxygenized, grains",
          "<b>Topic 2</b><br>Words: acid, gas, grains, substance, ammonia",
          "<b>Topic 2</b><br>Words: acid, gas, oxygene, chlorine, muriatic",
          "<b>Topic 2</b><br>Words: chlorine, acid, gas, platinum, hydrogen",
          "<b>Topic 2</b><br>Words: acid, chromium, grains, oxide, chromic",
          "<b>Topic 2</b><br>Words: acid, salt, water, oxide, potash",
          "<b>Topic 2</b><br>Words: resin, acid, resins, gave, hydrogen",
          "<b>Topic 2</b><br>Words: acid, grm, grs, gave, salt",
          "<b>Topic 2</b><br>Words: acid, grm, equiv, equivs, solution",
          "<b>Topic 2</b><br>Words: grm, acid, alcohol, compound, gave",
          "<b>Topic 2</b><br>Words: acid, grm, ethylic, grains, symbol",
          "<b>Topic 2</b><br>Words: ammonia, nitrate, acid, liquid, alcohol",
          "<b>Topic 2</b><br>Words: aluminum, acid, weight, atomic, chloride",
          "<b>Topic 2</b><br>Words: bottle, nitrifying, nitrification, inoculated, bottles",
          "<b>Topic 2</b><br>Words: nitrite, nitrites, acid, action, butyl",
          "<b>Topic 2</b><br>Words: chlorine, selenate, acid, magnesium, bulb",
          "<b>Topic 2</b><br>Words: chlorine, hydrogen, chloride, combustion, bulb",
          "<b>Topic 2</b><br>Words: salt, rubidium, ammonium, 110, acid",
          "<b>Topic 2</b><br>Words: meo, resorcinol, acid, dihydric, dimethyl",
          "<b>Topic 2</b><br>Words: burette, gas, stopcock, mercury, compensator",
          "<b>Topic 2</b><br>Words: manometer, balance, beam, nitrogen, gas",
          "<b>Topic 2</b><br>Words: priestley, bf4, jcp, acid, hz",
          "<b>Topic 2</b><br>Words: jet, stoves, flame, flames, stove"
         ],
         "marker": {
          "color": "#009E73"
         },
         "mode": "lines",
         "name": "2_acid_grm_gas_salt",
         "type": "scatter",
         "x": [
          "1741-04-12T07:40:48",
          "1782-10-19T04:48:00",
          "1789-09-19T16:19:12",
          "1796-08-21T03:50:24",
          "1803-07-24T15:21:36",
          "1810-06-25T02:52:48",
          "1817-05-26T14:24:00",
          "1824-04-27T01:55:12",
          "1831-03-29T13:26:24",
          "1838-02-28T00:57:36",
          "1845-01-29T12:28:48",
          "1852-01-01T00:00:00",
          "1858-12-02T11:31:12",
          "1865-11-02T23:02:24",
          "1872-10-04T10:33:36",
          "1879-09-05T22:04:48",
          "1886-08-07T09:36:00",
          "1893-07-08T21:07:12",
          "1900-06-10T08:38:24",
          "1907-05-12T20:09:36",
          "1914-04-13T07:40:48",
          "1928-02-14T06:43:12",
          "1935-01-15T18:14:24",
          "1948-11-17T17:16:48",
          "2011-02-28T00:57:36",
          "2018-01-29T12:28:48"
         ],
         "y": [
          1,
          1,
          1,
          7,
          23,
          22,
          13,
          9,
          3,
          11,
          15,
          16,
          17,
          13,
          3,
          4,
          1,
          4,
          2,
          1,
          4,
          1,
          1,
          1,
          2,
          1
         ]
        },
        {
         "hoverinfo": "text",
         "hovertext": [
          "<b>Topic 3</b><br>Words: leaves, tab, mal, malab, foliis",
          "<b>Topic 3</b><br>Words: malab, tab, folio, leaves, foliis",
          "<b>Topic 3</b><br>Words: folio, ray, leaves, fig, flowers",
          "<b>Topic 3</b><br>Words: ray, folio, fig, flowers, leaves",
          "<b>Topic 3</b><br>Words: folio, flore, foliis, cb, floribus",
          "<b>Topic 3</b><br>Words: folio, foliis, flore, tab, leaves",
          "<b>Topic 3</b><br>Words: folio, flore, foliis, camphora, thymi",
          "<b>Topic 3</b><br>Words: flore, folio, foliis, tourn, oenanthe",
          "<b>Topic 3</b><br>Words: foliis, folio, flore, hort, flowers",
          "<b>Topic 3</b><br>Words: foliis, folio, wheel, hort, flore",
          "<b>Topic 3</b><br>Words: foliis, sp, lin, pl, floribus",
          "<b>Topic 3</b><br>Words: lin, spec, foliis, bauh, plant",
          "<b>Topic 3</b><br>Words: plant, volva, feetida, decription, germen",
          "<b>Topic 3</b><br>Words: wax, grav, alcohol, spec, oil",
          "<b>Topic 3</b><br>Words: datiscine, grm, rostellum, datiscetine, stearopten",
          "<b>Topic 3</b><br>Words: plot, herbage, manure, plots, ammoniasalts",
          "<b>Topic 3</b><br>Words: starch, inulin, balanus, lepas, nauplius",
          "<b>Topic 3</b><br>Words: intumescences, outgrowths, leaves, hibiscus, plant",
          "<b>Topic 3</b><br>Words: leaves, juliania, leaf, ovule, tissue",
          "<b>Topic 3</b><br>Words: ceylon, endemic, rarity, species, commonness",
          "<b>Topic 3</b><br>Words: parenchyma, sterculia, sterculiaceae, ray, initials",
          "<b>Topic 3</b><br>Words: shoot, bud, vascular, meristem, wardlaw",
          "<b>Topic 3</b><br>Words: phyllotaxis, apical, primordia, apex, leaf"
         ],
         "marker": {
          "color": "#F0E442"
         },
         "mode": "lines",
         "name": "3_foliis_leaves_folio_plot",
         "type": "scatter",
         "x": [
          "1692-11-01T23:02:24",
          "1699-10-04T10:33:36",
          "1706-09-05T22:04:48",
          "1713-08-07T09:36:00",
          "1720-07-08T21:07:12",
          "1727-06-10T08:38:24",
          "1734-05-11T20:09:36",
          "1741-04-12T07:40:48",
          "1748-03-13T19:12:00",
          "1755-02-13T06:43:12",
          "1762-01-14T18:14:24",
          "1768-12-16T05:45:36",
          "1782-10-19T04:48:00",
          "1810-06-25T02:52:48",
          "1852-01-01T00:00:00",
          "1879-09-05T22:04:48",
          "1893-07-08T21:07:12",
          "1900-06-10T08:38:24",
          "1907-05-12T20:09:36",
          "1914-04-13T07:40:48",
          "1935-01-15T18:14:24",
          "1941-12-17T05:45:36",
          "1948-11-17T17:16:48"
         ],
         "y": [
          12,
          17,
          4,
          6,
          5,
          12,
          14,
          12,
          13,
          15,
          8,
          11,
          3,
          1,
          2,
          7,
          3,
          4,
          2,
          1,
          1,
          1,
          3
         ]
        },
        {
         "hoverinfo": "text",
         "hovertext": [
          "<b>Topic 4</b><br>Words: north, mapnerical, eavegay, gottand, baktick",
          "<b>Topic 4</b><br>Words: loadtones, poles, magnetical, loadtone, socicty",
          "<b>Topic 4</b><br>Words: needle, thread, spider, magnetic, filings",
          "<b>Topic 4</b><br>Words: sunshine, ditto, needle, diurnal, variation",
          "<b>Topic 4</b><br>Words: 23, needle, 21, 19, variation",
          "<b>Topic 4</b><br>Words: needle, magnets, compass, directive, rhombus",
          "<b>Topic 4</b><br>Words: needle, 17, 18, magnetic, mean",
          "<b>Topic 4</b><br>Words: needle, magnetic, dip, observations, needles",
          "<b>Topic 4</b><br>Words: def, mag, direct, erebus, terror",
          "<b>Topic 4</b><br>Words: def, needle, magnetic, 1844, 1843",
          "<b>Topic 4</b><br>Words: disturbances, toronto, easterly, westerly, div",
          "<b>Topic 4</b><br>Words: magnetic, force, compass, needle, disturbances",
          "<b>Topic 4</b><br>Words: erebus, terror, 62, 63, ship",
          "<b>Topic 4</b><br>Words: sabine, observations, magnetic, 00, 1840",
          "<b>Topic 4</b><br>Words: magnetic, ships, compass, force, december",
          "<b>Topic 4</b><br>Words: 000001, 000002, 000000, 000003, 000004",
          "<b>Topic 4</b><br>Words: ship, penguin, magnetic, ee, dip",
          "<b>Topic 4</b><br>Words: kew, sunspot, diurnal, mean, values",
          "<b>Topic 4</b><br>Words: days, sunspot, disturbed, quiet, diurnal",
          "<b>Topic 4</b><br>Words: magnetic, diurnal, lunar, days, mean",
          "<b>Topic 4</b><br>Words: sunspot, lunar, magnetic, coils, disturbances",
          "<b>Topic 4</b><br>Words: days, pulses, pulse, years, secondary",
          "<b>Topic 4</b><br>Words: montserrat, shocks, wiechert, shock, emu",
          "<b>Topic 4</b><br>Words: od, oo, stations, 193050, 1d",
          "<b>Topic 4</b><br>Words: magnetometer, field, magnetic, dipole, magnet",
          "<b>Topic 4</b><br>Words: dynamo, geomagnetic, palacomagnetism, secular, glatzmaier"
         ],
         "marker": {
          "color": "#D55E00"
         },
         "mode": "lines",
         "name": "4_needle_magnetic_erebus_terror",
         "type": "scatter",
         "x": [
          "1720-07-08T21:07:12",
          "1734-05-11T20:09:36",
          "1789-09-19T16:19:12",
          "1796-08-21T03:50:24",
          "1803-07-24T15:21:36",
          "1817-05-26T14:24:00",
          "1824-04-27T01:55:12",
          "1831-03-29T13:26:24",
          "1838-02-28T00:57:36",
          "1845-01-29T12:28:48",
          "1852-01-01T00:00:00",
          "1858-12-02T11:31:12",
          "1865-11-02T23:02:24",
          "1872-10-04T10:33:36",
          "1879-09-05T22:04:48",
          "1886-08-07T09:36:00",
          "1893-07-08T21:07:12",
          "1900-06-10T08:38:24",
          "1907-05-12T20:09:36",
          "1914-04-13T07:40:48",
          "1921-03-14T19:12:00",
          "1928-02-14T06:43:12",
          "1935-01-15T18:14:24",
          "1941-12-17T05:45:36",
          "1948-11-17T17:16:48",
          "1997-04-27T01:55:12"
         ],
         "y": [
          1,
          2,
          1,
          2,
          3,
          10,
          21,
          10,
          8,
          10,
          8,
          13,
          13,
          9,
          3,
          2,
          2,
          5,
          5,
          9,
          3,
          1,
          2,
          1,
          4,
          1
         ]
        },
        {
         "hoverinfo": "text",
         "hovertext": [
          "<b>Topic 5</b><br>Words: bones, caves, incrusted, animals, sea",
          "<b>Topic 5</b><br>Words: wombat, kanguroo, uterus, opossum, fibula",
          "<b>Topic 5</b><br>Words: bones, fossil, skull, ribs, guadaloupe",
          "<b>Topic 5</b><br>Words: bones, cave, teeth, kirkdale, jaw",
          "<b>Topic 5</b><br>Words: marl, teeth, shells, bones, fossil",
          "<b>Topic 5</b><br>Words: belemnite, iguanodon, bone, bones, fig",
          "<b>Topic 5</b><br>Words: vertebra, iguanodon, fig, bone, lumbar",
          "<b>Topic 5</b><br>Words: megatherium, nesodon, bone, plate, fig",
          "<b>Topic 5</b><br>Words: bone, bones, gravel, skull, fig",
          "<b>Topic 5</b><br>Words: plate, fig, bone, skull, bones",
          "<b>Topic 5</b><br>Words: fig, plate, skull, bone, molar",
          "<b>Topic 5</b><br>Words: skull, bone, plate, cartilage, front",
          "<b>Topic 5</b><br>Words: bone, bones, skull, centims, plate",
          "<b>Topic 5</b><br>Words: bone, bones, skull, teeth, inch",
          "<b>Topic 5</b><br>Words: skull, teeth, molars, proboscidea, mandible",
          "<b>Topic 5</b><br>Words: skull, bone, crag, implements, neandertal",
          "<b>Topic 5</b><br>Words: bone, skull, bones, pterygoid, posterior",
          "<b>Topic 5</b><br>Words: baluchitherium, paraceratherium, skull, bone, rhinoceros",
          "<b>Topic 5</b><br>Words: maxilla, maxillule, branchiopoda, sete, cannon",
          "<b>Topic 5</b><br>Words: parasphenoid, pterygoid, vomer, mammalian, broom",
          "<b>Topic 5</b><br>Words: ammonites, limestone, branson, nsp, buckman",
          "<b>Topic 5</b><br>Words: ear, tympanic, middle, jaw, mammals",
          "<b>Topic 5</b><br>Words: bone, skull, bones, jaw, varanus"
         ],
         "marker": {
          "color": "#0072B2"
         },
         "mode": "lines",
         "name": "5_bone_skull_bones_plate",
         "type": "scatter",
         "x": [
          "1789-09-19T16:19:12",
          "1803-07-24T15:21:36",
          "1810-06-25T02:52:48",
          "1817-05-26T14:24:00",
          "1824-04-27T01:55:12",
          "1838-02-28T00:57:36",
          "1845-01-29T12:28:48",
          "1852-01-01T00:00:00",
          "1858-12-02T11:31:12",
          "1865-11-02T23:02:24",
          "1872-10-04T10:33:36",
          "1879-09-05T22:04:48",
          "1886-08-07T09:36:00",
          "1893-07-08T21:07:12",
          "1900-06-10T08:38:24",
          "1907-05-12T20:09:36",
          "1914-04-13T07:40:48",
          "1921-03-14T19:12:00",
          "1928-02-14T06:43:12",
          "1935-01-15T18:14:24",
          "1948-11-17T17:16:48",
          "2011-02-28T00:57:36",
          "2018-01-29T12:28:48"
         ],
         "y": [
          1,
          1,
          3,
          10,
          3,
          3,
          9,
          4,
          11,
          12,
          10,
          16,
          12,
          10,
          5,
          4,
          6,
          3,
          1,
          1,
          4,
          1,
          15
         ]
        },
        {
         "hoverinfo": "text",
         "hovertext": [
          "<b>Topic 6</b><br>Words: quantum, computation, meeting, 2217, atoms",
          "<b>Topic 6</b><br>Words: 2010, 368, quantum, phil, 350th",
          "<b>Topic 6</b><br>Words: quantum, classical, phys, state, states",
          "<b>Topic 6</b><br>Words: quantum, classical, contextuality, phys, state"
         ],
         "marker": {
          "color": "#CC79A7"
         },
         "mode": "lines",
         "name": "6_quantum_classical_phys_state",
         "type": "scatter",
         "x": [
          "1997-04-27T01:55:12",
          "2004-03-28T13:26:24",
          "2011-02-28T00:57:36",
          "2018-01-29T12:28:48"
         ],
         "y": [
          2,
          1,
          80,
          60
         ]
        },
        {
         "hoverinfo": "text",
         "hovertext": [
          "<b>Topic 7</b><br>Words: ome, trees, hath, thee, uch",
          "<b>Topic 7</b><br>Words: increaed, bark, joynt, bignes, pruned",
          "<b>Topic 7</b><br>Words: juice, ome, thee, plant, juices",
          "<b>Topic 7</b><br>Words: bark, ome, malab, thee, veels",
          "<b>Topic 7</b><br>Words: bark, brandy, particles, ome, china",
          "<b>Topic 7</b><br>Words: tartars, plant, ome, thee, chinee",
          "<b>Topic 7</b><br>Words: ome, turff, tree, everal, thee",
          "<b>Topic 7</b><br>Words: cinnamon, bark, saffron, tree, ome",
          "<b>Topic 7</b><br>Words: bark, thee, tree, loxa, lacertus",
          "<b>Topic 7</b><br>Words: muhrooms, seeds, ome, sceds, thee",
          "<b>Topic 7</b><br>Words: thee, ome, plant, thoe, bark",
          "<b>Topic 7</b><br>Words: plant, syn, foliis, helv, thee",
          "<b>Topic 7</b><br>Words: bark, eeds, ome, thee, agues",
          "<b>Topic 7</b><br>Words: chenut, tree, trees, ome, thee",
          "<b>Topic 7</b><br>Words: de, canes, que, la, cannes",
          "<b>Topic 7</b><br>Words: bark, tamina, tigma, ome, flowers",
          "<b>Topic 7</b><br>Words: boutan, thibet, ants, dieae, canes",
          "<b>Topic 7</b><br>Words: lime, magnesia, planted, magnesian, limestone",
          "<b>Topic 7</b><br>Words: poison, malldye, upas, ipoh, arrow",
          "<b>Topic 7</b><br>Words: casca, injection, bloodpressure, irritation, action",
          "<b>Topic 7</b><br>Words: mascarene, rodriguez, island, species, plants"
         ],
         "marker": {
          "color": "#E69F00"
         },
         "mode": "lines",
         "name": "7_ome_thee_bark_plant",
         "type": "scatter",
         "x": [
          "1678-08-26T15:01:26.400000",
          "1685-12-01T11:31:12",
          "1692-11-01T23:02:24",
          "1699-10-04T10:33:36",
          "1706-09-05T22:04:48",
          "1713-08-07T09:36:00",
          "1720-07-08T21:07:12",
          "1727-06-10T08:38:24",
          "1734-05-11T20:09:36",
          "1741-04-12T07:40:48",
          "1748-03-13T19:12:00",
          "1755-02-13T06:43:12",
          "1762-01-14T18:14:24",
          "1768-12-16T05:45:36",
          "1775-11-17T17:16:48",
          "1782-10-19T04:48:00",
          "1789-09-19T16:19:12",
          "1796-08-21T03:50:24",
          "1831-03-29T13:26:24",
          "1872-10-04T10:33:36",
          "1879-09-05T22:04:48"
         ],
         "y": [
          5,
          3,
          12,
          22,
          3,
          3,
          10,
          8,
          3,
          10,
          11,
          11,
          3,
          15,
          8,
          5,
          2,
          2,
          1,
          1,
          1
         ]
        },
        {
         "hoverinfo": "text",
         "hovertext": [
          "<b>Topic 8</b><br>Words: jqj, ofumb, dljq, jicy, philojoph",
          "<b>Topic 8</b><br>Words: 64123r, phalefefpt, cranact, higz, w0ngay",
          "<b>Topic 8</b><br>Words: philos, vyww, firfty, feepttezeeeftep, qhyyyn35y",
          "<b>Topic 8</b><br>Words: philos, wy, sramgactl, phiboa, famadh",
          "<b>Topic 8</b><br>Words: philos, tramnracdt, ceress, diqy, dcdclg",
          "<b>Topic 8</b><br>Words: setetereeere, fedeeteealdy, avgprebntemavrlsl, leheseeueeny, klofoph",
          "<b>Topic 8</b><br>Words: philos, zorker, w107, shrteudp, sipmared",
          "<b>Topic 8</b><br>Words: delun, wiiviarrmaaenhnrtl, treveact, fpenee, gbhilo",
          "<b>Topic 8</b><br>Words: tab, lhlogoyh, sframoact, lhinrofh, lihuto",
          "<b>Topic 8</b><br>Words: philos, trans, tab, tab1, philoa",
          "<b>Topic 8</b><br>Words: philos, tabt, trang, tab, trans",
          "<b>Topic 8</b><br>Words: philos, mmmmmmemmnon, nemeton, toveetio, tab1wl",
          "<b>Topic 8</b><br>Words: p195, lvl, philos, tab, vol",
          "<b>Topic 8</b><br>Words: 1848191, sai8, jt845, 1ixl, philev",
          "<b>Topic 8</b><br>Words: read, lxxv, 74ad, lxxn1, zhiloe"
         ],
         "marker": {
          "color": "#56B4E9"
         },
         "mode": "lines",
         "name": "8_philos_trans_tab_tabt",
         "type": "scatter",
         "x": [
          "1678-08-26T15:01:26.400000",
          "1685-12-01T11:31:12",
          "1692-11-01T23:02:24",
          "1699-10-04T10:33:36",
          "1706-09-05T22:04:48",
          "1713-08-07T09:36:00",
          "1720-07-08T21:07:12",
          "1727-06-10T08:38:24",
          "1734-05-11T20:09:36",
          "1741-04-12T07:40:48",
          "1748-03-13T19:12:00",
          "1755-02-13T06:43:12",
          "1762-01-14T18:14:24",
          "1768-12-16T05:45:36",
          "1782-10-19T04:48:00"
         ],
         "y": [
          2,
          7,
          9,
          20,
          6,
          4,
          11,
          11,
          14,
          23,
          11,
          3,
          1,
          5,
          3
         ]
        },
        {
         "hoverinfo": "text",
         "hovertext": [
          "<b>Topic 9</b><br>Words: earanractions, plebrophical, lphutaropttcal, toanractions, ulm",
          "<b>Topic 9</b><br>Words: prim, red, colours, thro, light",
          "<b>Topic 9</b><br>Words: prim, rays, colours, light, ray",
          "<b>Topic 9</b><br>Words: glas, divergency, light, refrangibility, colours",
          "<b>Topic 9</b><br>Words: glas, rays, red, colour, colours",
          "<b>Topic 9</b><br>Words: colours, teel, rings, exploions, pace",
          "<b>Topic 9</b><br>Words: light, shadows, lamp, candle, glass",
          "<b>Topic 9</b><br>Words: light, colours, rays, violet, fringes",
          "<b>Topic 9</b><br>Words: rings, bow, glass, rays, light",
          "<b>Topic 9</b><br>Words: light, polarised, glass, fringes, colours",
          "<b>Topic 9</b><br>Words: axes, polarisation, tints, crystals, light",
          "<b>Topic 9</b><br>Words: light, glass, polarized, reflexion, polarization",
          "<b>Topic 9</b><br>Words: light, colours, rays, tints, spectrum",
          "<b>Topic 9</b><br>Words: light, rays, spectrum, paper, rings",
          "<b>Topic 9</b><br>Words: rays, light, bands, spectrum, red",
          "<b>Topic 9</b><br>Words: light, refrangibility, dispersed, rays, dispersion",
          "<b>Topic 9</b><br>Words: coeff, colours, refraction, light, reflexion",
          "<b>Topic 9</b><br>Words: blood, nitrites, light, nitrite, cub",
          "<b>Topic 9</b><br>Words: light, prism, cos, plane, angle",
          "<b>Topic 9</b><br>Words: rings, quartz, wavesurface, plane, light",
          "<b>Topic 9</b><br>Words: light, cos, sin, glass, prism",
          "<b>Topic 9</b><br>Words: light, glass, gold, silver, metal",
          "<b>Topic 9</b><br>Words: light, rotatory, dispersion, quartz, glass",
          "<b>Topic 9</b><br>Words: glass, rays, refractivity, light, ultraviolet",
          "<b>Topic 9</b><br>Words: rotatory, light, colours, dispersion, rotations",
          "<b>Topic 9</b><br>Words: refractivity, air, talon, refractive, values",
          "<b>Topic 9</b><br>Words: telluride, photoconductivity, lead, film, films",
          "<b>Topic 9</b><br>Words: scattering, objects, fabelinskii, serigs, cohentannoudji",
          "<b>Topic 9</b><br>Words: interference, emmanuel, young, ffowcs, mollon",
          "<b>Topic 9</b><br>Words: momentum, minkowski, zeta, electrophoretic, abraham",
          "<b>Topic 9</b><br>Words: newton, britt, light, colours, brit"
         ],
         "marker": {
          "color": "#009E73"
         },
         "mode": "lines",
         "name": "9_light_glass_rays_colours",
         "type": "scatter",
         "x": [
          "1692-11-01T23:02:24",
          "1713-08-07T09:36:00",
          "1727-06-10T08:38:24",
          "1755-02-13T06:43:12",
          "1762-01-14T18:14:24",
          "1768-12-16T05:45:36",
          "1789-09-19T16:19:12",
          "1796-08-21T03:50:24",
          "1803-07-24T15:21:36",
          "1810-06-25T02:52:48",
          "1817-05-26T14:24:00",
          "1824-04-27T01:55:12",
          "1831-03-29T13:26:24",
          "1838-02-28T00:57:36",
          "1845-01-29T12:28:48",
          "1852-01-01T00:00:00",
          "1858-12-02T11:31:12",
          "1865-11-02T23:02:24",
          "1879-09-05T22:04:48",
          "1886-08-07T09:36:00",
          "1893-07-08T21:07:12",
          "1900-06-10T08:38:24",
          "1907-05-12T20:09:36",
          "1914-04-13T07:40:48",
          "1921-03-14T19:12:00",
          "1935-01-15T18:14:24",
          "1948-11-17T17:16:48",
          "1976-07-23T15:21:36",
          "1997-04-27T01:55:12",
          "2004-03-28T13:26:24",
          "2011-02-28T00:57:36"
         ],
         "y": [
          2,
          1,
          2,
          1,
          2,
          1,
          4,
          9,
          4,
          16,
          6,
          9,
          7,
          11,
          7,
          3,
          3,
          3,
          5,
          1,
          6,
          7,
          2,
          2,
          3,
          1,
          1,
          1,
          1,
          3,
          2
         ]
        },
        {
         "hoverinfo": "text",
         "hovertext": [
          "<b>Topic 10</b><br>Words: horizon, ditance, etimate, ditances, een",
          "<b>Topic 10</b><br>Words: arch, ris, sun, iris, afhgc",
          "<b>Topic 10</b><br>Words: sun, een, aw, zenith, suns",
          "<b>Topic 10</b><br>Words: sun, eclipe, 1706, een, moon",
          "<b>Topic 10</b><br>Words: meteor, aurora, een, horizon, miles",
          "<b>Topic 10</b><br>Words: horizon, arch, aurora, zenith, degrees",
          "<b>Topic 10</b><br>Words: aurora, meteor, horizon, zenith, borealis",
          "<b>Topic 10</b><br>Words: aurora, sun, arch, horizon, stones",
          "<b>Topic 10</b><br>Words: aurora, 17389, autralis, zenith, horizon",
          "<b>Topic 10</b><br>Words: aurora, borealis, meteor, arch, locuts",
          "<b>Topic 10</b><br>Words: meteor, een, aurora, anthelion, pringle",
          "<b>Topic 10</b><br>Words: meteor, een, arch, meteors, noie",
          "<b>Topic 10</b><br>Words: aurora, borealis, meteor, horizon, 1769",
          "<b>Topic 10</b><br>Words: luminous, arch, ecliped, aurora, dene",
          "<b>Topic 10</b><br>Words: meteor, meteors, miles, horizon, aurora",
          "<b>Topic 10</b><br>Words: arch, aurora, arches, borealis, outh",
          "<b>Topic 10</b><br>Words: eclipse, moon, sun, eclipsed, semidiameter",
          "<b>Topic 10</b><br>Words: aurora, arch, zenith, streamers, borealis",
          "<b>Topic 10</b><br>Words: arch, cloud, aurora, pencils, light",
          "<b>Topic 10</b><br>Words: aurora, meteor, streamers, arch, bokkeveld",
          "<b>Topic 10</b><br>Words: disturbance, september, force, magnetic, declination"
         ],
         "marker": {
          "color": "#F0E442"
         },
         "mode": "lines",
         "name": "10_aurora_meteor_arch_horizon",
         "type": "scatter",
         "x": [
          "1685-12-01T11:31:12",
          "1692-11-01T23:02:24",
          "1699-10-04T10:33:36",
          "1706-09-05T22:04:48",
          "1713-08-07T09:36:00",
          "1720-07-08T21:07:12",
          "1727-06-10T08:38:24",
          "1734-05-11T20:09:36",
          "1741-04-12T07:40:48",
          "1748-03-13T19:12:00",
          "1755-02-13T06:43:12",
          "1762-01-14T18:14:24",
          "1768-12-16T05:45:36",
          "1775-11-17T17:16:48",
          "1782-10-19T04:48:00",
          "1789-09-19T16:19:12",
          "1810-06-25T02:52:48",
          "1824-04-27T01:55:12",
          "1831-03-29T13:26:24",
          "1838-02-28T00:57:36",
          "1858-12-02T11:31:12"
         ],
         "y": [
          1,
          1,
          4,
          4,
          14,
          16,
          11,
          10,
          6,
          8,
          6,
          6,
          4,
          1,
          8,
          7,
          1,
          2,
          1,
          5,
          1
         ]
        },
        {
         "hoverinfo": "text",
         "hovertext": [
          "<b>Topic 11</b><br>Words: sterilized, germs, plugged, bacteria, bulbs",
          "<b>Topic 11</b><br>Words: gelatine, broth, sewage, organism, days",
          "<b>Topic 11</b><br>Words: rods, cultures, gelatine, spores, saccharosegelatine",
          "<b>Topic 11</b><br>Words: vivo, bacterial, virulence, host, pathogenicity",
          "<b>Topic 11</b><br>Words: bacterial, strains, clusters, bacteria, trojan",
          "<b>Topic 11</b><br>Words: bacterial, bacteria, gut, microbiota, microbial",
          "<b>Topic 11</b><br>Words: microbial, bacterial, plasmid, microbiome, plasmids"
         ],
         "marker": {
          "color": "#D55E00"
         },
         "mode": "lines",
         "name": "11_microbial_bacterial_bacteria_plasmid",
         "type": "scatter",
         "x": [
          "1872-10-04T10:33:36",
          "1886-08-07T09:36:00",
          "1893-07-08T21:07:12",
          "1997-04-27T01:55:12",
          "2004-03-28T13:26:24",
          "2011-02-28T00:57:36",
          "2018-01-29T12:28:48"
         ],
         "y": [
          1,
          1,
          1,
          1,
          6,
          30,
          67
         ]
        },
        {
         "hoverinfo": "text",
         "hovertext": [
          "<b>Topic 12</b><br>Words: earthquake, ome, felt, uch, earthquakes",
          "<b>Topic 12</b><br>Words: earthquake, felt, houes, ome, heard",
          "<b>Topic 12</b><br>Words: earthquake, felt, ome, concerning, thoe",
          "<b>Topic 12</b><br>Words: rumbles, felt, earthquake, shock, shake",
          "<b>Topic 12</b><br>Words: earthquake, felt, ome, noie, shock",
          "<b>Topic 12</b><br>Words: loud, noie, roaring, shock, houes",
          "<b>Topic 12</b><br>Words: felt, earthquake, noie, shock, ome",
          "<b>Topic 12</b><br>Words: earthquake, felt, ome, hock, earthquakes",
          "<b>Topic 12</b><br>Words: earthquake, felt, cubits, houe, houes",
          "<b>Topic 12</b><br>Words: vime, hock, earthquake, felt, macao",
          "<b>Topic 12</b><br>Words: earthquake, felt, hock, noie, houe",
          "<b>Topic 12</b><br>Words: felt, cartmeal, earthquake, hock, rumbling",
          "<b>Topic 12</b><br>Words: felt, turnor, earthquake, heard, lincolnshire",
          "<b>Topic 12</b><br>Words: earthquake, felt, shock, earthquakes, heard",
          "<b>Topic 12</b><br>Words: earthquake, concepcion, caldcleugh, chile, shock"
         ],
         "marker": {
          "color": "#0072B2"
         },
         "mode": "lines",
         "name": "12_earthquake_felt_ome_noie",
         "type": "scatter",
         "x": [
          "1678-08-26T15:01:26.400000",
          "1692-11-01T23:02:24",
          "1699-10-04T10:33:36",
          "1727-06-10T08:38:24",
          "1734-05-11T20:09:36",
          "1741-04-12T07:40:48",
          "1748-03-13T19:12:00",
          "1755-02-13T06:43:12",
          "1762-01-14T18:14:24",
          "1768-12-16T05:45:36",
          "1775-11-17T17:16:48",
          "1782-10-19T04:48:00",
          "1789-09-19T16:19:12",
          "1796-08-21T03:50:24",
          "1831-03-29T13:26:24"
         ],
         "y": [
          1,
          3,
          2,
          1,
          4,
          1,
          55,
          24,
          5,
          1,
          2,
          2,
          1,
          1,
          1
         ]
        },
        {
         "hoverinfo": "text",
         "hovertext": [
          "<b>Topic 13</b><br>Words: brain, cortex, cortical, scannell, spatial",
          "<b>Topic 13</b><br>Words: network, brain, neurons, neuronal, networks",
          "<b>Topic 13</b><br>Words: brain, network, networks, fmri, connectivity",
          "<b>Topic 13</b><br>Words: brain, fmri, bold, network, activity"
         ],
         "marker": {
          "color": "#CC79A7"
         },
         "mode": "lines",
         "name": "13_brain_network_fmri_networks",
         "type": "scatter",
         "x": [
          "1997-04-27T01:55:12",
          "2004-03-28T13:26:24",
          "2011-02-28T00:57:36",
          "2018-01-29T12:28:48"
         ],
         "y": [
          6,
          7,
          59,
          30
         ]
        },
        {
         "hoverinfo": "text",
         "hovertext": [
          "<b>Topic 14</b><br>Words: thee, ome, thoe, mall, firt",
          "<b>Topic 14</b><br>Words: ome, thee, animals, semen, tho",
          "<b>Topic 14</b><br>Words: thee, ome, muick, horns, thoe",
          "<b>Topic 14</b><br>Words: thee, spider, spiders, thoe, ome",
          "<b>Topic 14</b><br>Words: teticles, ram, thee, shell, ome",
          "<b>Topic 14</b><br>Words: sheath, aid, ome, thoe, duckweed",
          "<b>Topic 14</b><br>Words: mooe, deer, forth, thee, indians",
          "<b>Topic 14</b><br>Words: oxen, horns, agatharchides, lib, thee",
          "<b>Topic 14</b><br>Words: mooe, ome, horns, deer, beetle",
          "<b>Topic 14</b><br>Words: thee, ome, thoe, cluter, ame",
          "<b>Topic 14</b><br>Words: thee, pecies, ome, fih, thoe",
          "<b>Topic 14</b><br>Words: tourmalin, thee, minus, glas, plus",
          "<b>Topic 14</b><br>Words: belemnite, ponge, thee, animal, hell",
          "<b>Topic 14</b><br>Words: thoe, thee, hare, fih, veels",
          "<b>Topic 14</b><br>Words: organ, thoe, animal, thee, mall",
          "<b>Topic 14</b><br>Words: whale, ome, thee, animal, pecies",
          "<b>Topic 14</b><br>Words: wolf, puppies, symmons, dog, puppy",
          "<b>Topic 14</b><br>Words: sheep, ancon, breeds, breed, ram",
          "<b>Topic 14</b><br>Words: quagga, colt, filly, breed, boar"
         ],
         "marker": {
          "color": "#E69F00"
         },
         "mode": "lines",
         "name": "14_thee_ome_thoe_ame",
         "type": "scatter",
         "x": [
          "1678-08-26T15:01:26.400000",
          "1685-12-01T11:31:12",
          "1692-11-01T23:02:24",
          "1699-10-04T10:33:36",
          "1706-09-05T22:04:48",
          "1713-08-07T09:36:00",
          "1720-07-08T21:07:12",
          "1727-06-10T08:38:24",
          "1734-05-11T20:09:36",
          "1741-04-12T07:40:48",
          "1748-03-13T19:12:00",
          "1755-02-13T06:43:12",
          "1762-01-14T18:14:24",
          "1768-12-16T05:45:36",
          "1775-11-17T17:16:48",
          "1782-10-19T04:48:00",
          "1789-09-19T16:19:12",
          "1810-06-25T02:52:48",
          "1817-05-26T14:24:00"
         ],
         "y": [
          7,
          3,
          10,
          10,
          3,
          1,
          1,
          1,
          2,
          10,
          12,
          10,
          6,
          6,
          3,
          6,
          1,
          1,
          2
         ]
        },
        {
         "hoverinfo": "text",
         "hovertext": [
          "<b>Topic 15</b><br>Words: nerves, elaticity, twine, spirits, exitence",
          "<b>Topic 15</b><br>Words: ganglions, nerves, mucular, ditributed, lancifi",
          "<b>Topic 15</b><br>Words: pinal, nerves, marrow, heart, ganglions",
          "<b>Topic 15</b><br>Words: nerves, nerve, spinal, divided, dog",
          "<b>Topic 15</b><br>Words: nerve, spasms, thumb, nerves, spasm",
          "<b>Topic 15</b><br>Words: marrow, spinal, sewell, canal, medulla",
          "<b>Topic 15</b><br>Words: ventricles, brain, mater, pia, dura",
          "<b>Topic 15</b><br>Words: nerves, nerve, muscles, respiratory, spinal",
          "<b>Topic 15</b><br>Words: nerves, nerve, muscles, fifth, plexus",
          "<b>Topic 15</b><br>Words: spinal, medulla, reflex, columns, nerves",
          "<b>Topic 15</b><br>Words: nerves, uterus, hypogastric, ganglion, nerve",
          "<b>Topic 15</b><br>Words: nerves, fibres, plexus, branches, nerve",
          "<b>Topic 15</b><br>Words: chord, columns, grey, fibres, roots",
          "<b>Topic 15</b><br>Words: fibres, cord, posterior, nerves, nerve",
          "<b>Topic 15</b><br>Words: fibres, nucleus, nerve, medulla, grey",
          "<b>Topic 15</b><br>Words: animal, left, fibres, right, contractile",
          "<b>Topic 15</b><br>Words: fibres, limbic, right, cortex, lobe",
          "<b>Topic 15</b><br>Words: cord, fibres, nerve, spinal, side",
          "<b>Topic 15</b><br>Words: fibres, nerve, spinal, nerves, side",
          "<b>Topic 15</b><br>Words: nerve, nerves, fibres, cerebral, fissure",
          "<b>Topic 15</b><br>Words: giant, nerve, fibres, facial, cord",
          "<b>Topic 15</b><br>Words: des, la, de, les, dans",
          "<b>Topic 15</b><br>Words: plexus, fibres, myenteric, plexuses, enteric",
          "<b>Topic 15</b><br>Words: giant, fibres, axons, nerve, ganglion",
          "<b>Topic 15</b><br>Words: fibres, nerve, ampulla, giant, axon",
          "<b>Topic 15</b><br>Words: nerve, fibres, proboscis, cord, motor",
          "<b>Topic 15</b><br>Words: hemisphere, right, calculation, stimulation, nerve"
         ],
         "marker": {
          "color": "#56B4E9"
         },
         "mode": "lines",
         "name": "15_fibres_nerve_cord_nerves",
         "type": "scatter",
         "x": [
          "1727-06-10T08:38:24",
          "1762-01-14T18:14:24",
          "1768-12-16T05:45:36",
          "1789-09-19T16:19:12",
          "1796-08-21T03:50:24",
          "1803-07-24T15:21:36",
          "1810-06-25T02:52:48",
          "1817-05-26T14:24:00",
          "1824-04-27T01:55:12",
          "1831-03-29T13:26:24",
          "1838-02-28T00:57:36",
          "1845-01-29T12:28:48",
          "1852-01-01T00:00:00",
          "1858-12-02T11:31:12",
          "1865-11-02T23:02:24",
          "1872-10-04T10:33:36",
          "1879-09-05T22:04:48",
          "1886-08-07T09:36:00",
          "1893-07-08T21:07:12",
          "1900-06-10T08:38:24",
          "1907-05-12T20:09:36",
          "1914-04-13T07:40:48",
          "1921-03-14T19:12:00",
          "1935-01-15T18:14:24",
          "1941-12-17T05:45:36",
          "1948-11-17T17:16:48",
          "2018-01-29T12:28:48"
         ],
         "y": [
          1,
          1,
          1,
          2,
          1,
          1,
          2,
          3,
          3,
          5,
          3,
          5,
          1,
          8,
          3,
          2,
          4,
          13,
          17,
          4,
          4,
          3,
          1,
          1,
          2,
          2,
          2
         ]
        },
        {
         "hoverinfo": "text",
         "hovertext": [
          "<b>Topic 16</b><br>Words: fowls, hirta, boat, ome, thee",
          "<b>Topic 16</b><br>Words: lake, bogs, ome, thee, bog",
          "<b>Topic 16</b><br>Words: ome, everal, thee, river, great",
          "<b>Topic 16</b><br>Words: ome, river, thee, great, trees",
          "<b>Topic 16</b><br>Words: iland, ome, smoak, fire, noie",
          "<b>Topic 16</b><br>Words: ome, lough, thee, urns, everal",
          "<b>Topic 16</b><br>Words: river, foot, marle, falls, uch",
          "<b>Topic 16</b><br>Words: ground, unk, doorcaes, kent, raied",
          "<b>Topic 16</b><br>Words: incruted, petrified, limetone, ome, stone",
          "<b>Topic 16</b><br>Words: ome, thee, wood, stone, stones",
          "<b>Topic 16</b><br>Words: poion, ticunas, thee, ome, caueway",
          "<b>Topic 16</b><br>Words: water, ome, agitation, feet, letter",
          "<b>Topic 16</b><br>Words: eden, decreae, lordhip, trouts, lampreys",
          "<b>Topic 16</b><br>Words: wine, tokay, limb, aupruch, volga",
          "<b>Topic 16</b><br>Words: ganges, river, ome, thee, rivers",
          "<b>Topic 16</b><br>Words: trinidad, iland, urface, mountains, bituminous",
          "<b>Topic 16</b><br>Words: lignite, cray, beds, bovey, clay"
         ],
         "marker": {
          "color": "#009E73"
         },
         "mode": "lines",
         "name": "16_ome_thee_river_great",
         "type": "scatter",
         "x": [
          "1678-08-26T15:01:26.400000",
          "1685-12-01T11:31:12",
          "1692-11-01T23:02:24",
          "1699-10-04T10:33:36",
          "1706-09-05T22:04:48",
          "1713-08-07T09:36:00",
          "1720-07-08T21:07:12",
          "1727-06-10T08:38:24",
          "1734-05-11T20:09:36",
          "1741-04-12T07:40:48",
          "1748-03-13T19:12:00",
          "1755-02-13T06:43:12",
          "1762-01-14T18:14:24",
          "1768-12-16T05:45:36",
          "1775-11-17T17:16:48",
          "1789-09-19T16:19:12",
          "1858-12-02T11:31:12"
         ],
         "y": [
          2,
          7,
          14,
          12,
          7,
          6,
          5,
          1,
          1,
          7,
          6,
          12,
          1,
          4,
          5,
          1,
          1
         ]
        },
        {
         "hoverinfo": "text",
         "hovertext": [
          "<b>Topic 17</b><br>Words: gales, cloudy, weather, fair, mall",
          "<b>Topic 17</b><br>Words: cloudy, fair, rain, fine, winds",
          "<b>Topic 17</b><br>Words: cloudy, fair, fine, rain, upale",
          "<b>Topic 17</b><br>Words: cy, 29, rn, cloudy, cd",
          "<b>Topic 17</b><br>Words: ditto, cloudy, wind, hazy, brik",
          "<b>Topic 17</b><br>Words: fair, cloudy, fine, sw, rain",
          "<b>Topic 17</b><br>Words: cloudy, fine, sw, wsw, nw",
          "<b>Topic 17</b><br>Words: cloudy, fair, fine, sw, wnw",
          "<b>Topic 17</b><br>Words: cloudy, fair, therm, fine, rain",
          "<b>Topic 17</b><br>Words: cloudy, fair, therm, fine, rain",
          "<b>Topic 17</b><br>Words: cloudy, fine, fair, therm, rain",
          "<b>Topic 17</b><br>Words: cloudy, fine, therm, hazy, rain",
          "<b>Topic 17</b><br>Words: cloudy, fine, rain, fair, therm",
          "<b>Topic 17</b><br>Words: cloudy, fine, rain, pm, fair",
          "<b>Topic 17</b><br>Words: cloudy, fine, fair, winds, rain"
         ],
         "marker": {
          "color": "#F0E442"
         },
         "mode": "lines",
         "name": "17_cloudy_fine_fair_rain",
         "type": "scatter",
         "x": [
          "1699-10-04T10:33:36",
          "1727-06-10T08:38:24",
          "1734-05-11T20:09:36",
          "1755-02-13T06:43:12",
          "1768-12-16T05:45:36",
          "1775-11-17T17:16:48",
          "1782-10-19T04:48:00",
          "1789-09-19T16:19:12",
          "1796-08-21T03:50:24",
          "1803-07-24T15:21:36",
          "1810-06-25T02:52:48",
          "1817-05-26T14:24:00",
          "1824-04-27T01:55:12",
          "1831-03-29T13:26:24",
          "1872-10-04T10:33:36"
         ],
         "y": [
          4,
          5,
          2,
          2,
          3,
          11,
          2,
          8,
          7,
          7,
          7,
          7,
          9,
          6,
          2
         ]
        },
        {
         "hoverinfo": "text",
         "hovertext": [
          "<b>Topic 18</b><br>Words: breath, repiration, lungs, pulmonaris, warm",
          "<b>Topic 18</b><br>Words: frot, cold, ome, thermometer, aith",
          "<b>Topic 18</b><br>Words: intrument, barometer, liquor, bottle, contriv",
          "<b>Topic 18</b><br>Words: spar, limefone, ore, thoe, bathing",
          "<b>Topic 18</b><br>Words: thermometers, thoe, mercury, expanion, tables",
          "<b>Topic 18</b><br>Words: heat, degrees, cold, thermometer, ame",
          "<b>Topic 18</b><br>Words: thermometer, heat, degrees, ame, intrument",
          "<b>Topic 18</b><br>Words: thermometer, gold, platina, degrees, cold",
          "<b>Topic 18</b><br>Words: camphire, thermometer, aroe, heat, ome",
          "<b>Topic 18</b><br>Words: thermometer, cale, hygrometer, barometer, ame",
          "<b>Topic 18</b><br>Words: de, les, dans, des, que",
          "<b>Topic 18</b><br>Words: thermometer, heat, ame, degrees, cold",
          "<b>Topic 18</b><br>Words: moiture, hygrometer, drynes, firt, hygrocopic",
          "<b>Topic 18</b><br>Words: 1795, frost, january, cold, 1796",
          "<b>Topic 18</b><br>Words: springs, spring, granite, thermometer, hot",
          "<b>Topic 18</b><br>Words: happy, feeling, temperate, davr, erase",
          "<b>Topic 18</b><br>Words: viva, vis, cerveau, temprature, dans",
          "<b>Topic 18</b><br>Words: thread, lever, sextant, sydney, instrument",
          "<b>Topic 18</b><br>Words: constantan, temperature, recorder, registration, thermometer"
         ],
         "marker": {
          "color": "#D55E00"
         },
         "mode": "lines",
         "name": "18_thermometer_de_heat_les",
         "type": "scatter",
         "x": [
          "1692-11-01T23:02:24",
          "1706-09-05T22:04:48",
          "1720-07-08T21:07:12",
          "1727-06-10T08:38:24",
          "1734-05-11T20:09:36",
          "1741-04-12T07:40:48",
          "1748-03-13T19:12:00",
          "1755-02-13T06:43:12",
          "1762-01-14T18:14:24",
          "1768-12-16T05:45:36",
          "1775-11-17T17:16:48",
          "1782-10-19T04:48:00",
          "1789-09-19T16:19:12",
          "1796-08-21T03:50:24",
          "1831-03-29T13:26:24",
          "1845-01-29T12:28:48",
          "1886-08-07T09:36:00",
          "1900-06-10T08:38:24",
          "1907-05-12T20:09:36"
         ],
         "y": [
          1,
          1,
          1,
          1,
          1,
          6,
          12,
          9,
          7,
          13,
          10,
          10,
          2,
          1,
          1,
          1,
          2,
          1,
          1
         ]
        },
        {
         "hoverinfo": "text",
         "hovertext": [
          "<b>Topic 19</b><br>Words: thunder, lightning, mather, compaes, lad",
          "<b>Topic 19</b><br>Words: barocope, vapours, air, pecifical, lightning",
          "<b>Topic 19</b><br>Words: lightning, ome, hail, thunder, 1697",
          "<b>Topic 19</b><br>Words: lightning, ome, burnt, thunder, pewter",
          "<b>Topic 19</b><br>Words: lightning, thunder, houe, ome, he",
          "<b>Topic 19</b><br>Words: lady, lightning, he, thunder, ome",
          "<b>Topic 19</b><br>Words: smallpox, houe, lightning, inoculated, meales",
          "<b>Topic 19</b><br>Words: lightning, thunder, houe, ome, heard",
          "<b>Topic 19</b><br>Words: lightning, thunder, houe, blown, ome",
          "<b>Topic 19</b><br>Words: lightning, houe, thunder, ome, ame",
          "<b>Topic 19</b><br>Words: lightning, houe, ome, melted, truck",
          "<b>Topic 19</b><br>Words: hip, mat, thunder, lightning, lightening",
          "<b>Topic 19</b><br>Words: lightning, houe, thunder, church, ome",
          "<b>Topic 19</b><br>Words: lightning, purfleet, accident, ditance, cylinder",
          "<b>Topic 19</b><br>Words: cart, returning, lightning, troke, hores",
          "<b>Topic 19</b><br>Words: lightning, quartzoe, tree, fuion, fire"
         ],
         "marker": {
          "color": "#0072B2"
         },
         "mode": "lines",
         "name": "19_lightning_houe_thunder_ome",
         "type": "scatter",
         "x": [
          "1678-08-26T15:01:26.400000",
          "1685-12-01T11:31:12",
          "1692-11-01T23:02:24",
          "1699-10-04T10:33:36",
          "1706-09-05T22:04:48",
          "1720-07-08T21:07:12",
          "1727-06-10T08:38:24",
          "1734-05-11T20:09:36",
          "1741-04-12T07:40:48",
          "1748-03-13T19:12:00",
          "1755-02-13T06:43:12",
          "1762-01-14T18:14:24",
          "1768-12-16T05:45:36",
          "1775-11-17T17:16:48",
          "1782-10-19T04:48:00",
          "1789-09-19T16:19:12"
         ],
         "y": [
          2,
          2,
          13,
          4,
          6,
          1,
          2,
          4,
          8,
          11,
          9,
          7,
          4,
          4,
          2,
          1
         ]
        },
        {
         "hoverinfo": "text",
         "hovertext": [
          "<b>Topic 20</b><br>Words: wire, ditto, iron, magnetic, magnet",
          "<b>Topic 20</b><br>Words: wire, magnet, wires, magnetic, helix",
          "<b>Topic 20</b><br>Words: magnetic, magnet, force, diamagnetic, magnetism",
          "<b>Topic 20</b><br>Words: magnet, diamagnetic, magnetic, force, wire",
          "<b>Topic 20</b><br>Words: magnetic, ellipsoid, axis, axes, induction",
          "<b>Topic 20</b><br>Words: electromagnet, machine, armature, magnetoelectric, electricity",
          "<b>Topic 20</b><br>Words: torsions, axial, wire, coil, currents",
          "<b>Topic 20</b><br>Words: wire, magnetic, magnetism, magnetising, magnetisation",
          "<b>Topic 20</b><br>Words: magnetic, wire, force, current, currents",
          "<b>Topic 20</b><br>Words: magnetic, iron, wire, current, force",
          "<b>Topic 20</b><br>Words: magnetic, wire, force, iron, hysteresis",
          "<b>Topic 20</b><br>Words: diamagnetic, magnetic, crystalline, molecular, field",
          "<b>Topic 20</b><br>Words: magnetic, cable, field, coil, wire",
          "<b>Topic 20</b><br>Words: coil, sin, cos, magnetic, field",
          "<b>Topic 20</b><br>Words: alphen, haasvan, shoenberg, magnetic, amplitude",
          "<b>Topic 20</b><br>Words: magnetocaloric, magnetic, hysteresis, mce, transition",
          "<b>Topic 20</b><br>Words: magnetoelectric, multipoles, magnetic, magnetization, afma"
         ],
         "marker": {
          "color": "#CC79A7"
         },
         "mode": "lines",
         "name": "20_magnetic_wire_force_magnet",
         "type": "scatter",
         "x": [
          "1817-05-26T14:24:00",
          "1831-03-29T13:26:24",
          "1845-01-29T12:28:48",
          "1852-01-01T00:00:00",
          "1858-12-02T11:31:12",
          "1865-11-02T23:02:24",
          "1872-10-04T10:33:36",
          "1879-09-05T22:04:48",
          "1886-08-07T09:36:00",
          "1893-07-08T21:07:12",
          "1900-06-10T08:38:24",
          "1914-04-13T07:40:48",
          "1921-03-14T19:12:00",
          "1928-02-14T06:43:12",
          "1948-11-17T17:16:48",
          "2011-02-28T00:57:36",
          "2018-01-29T12:28:48"
         ],
         "y": [
          4,
          4,
          11,
          7,
          3,
          1,
          4,
          8,
          8,
          10,
          5,
          4,
          4,
          2,
          1,
          2,
          1
         ]
        },
        {
         "hoverinfo": "text",
         "hovertext": [
          "<b>Topic 21</b><br>Words: sequence, meeting, mathematical, problems, information",
          "<b>Topic 21</b><br>Words: life, biology, cell, biological, systems",
          "<b>Topic 21</b><br>Words: information, life, code, amino, biological",
          "<b>Topic 21</b><br>Words: life, information, networks, network, biological"
         ],
         "marker": {
          "color": "#E69F00"
         },
         "mode": "lines",
         "name": "21_life_information_code_biological",
         "type": "scatter",
         "x": [
          "1990-05-26T14:24:00",
          "2004-03-28T13:26:24",
          "2011-02-28T00:57:36",
          "2018-01-29T12:28:48"
         ],
         "y": [
          1,
          10,
          46,
          19
         ]
        },
        {
         "hoverinfo": "text",
         "hovertext": [
          "<b>Topic 22</b><br>Words: climate, biodiversity, conservation, markets, economic",
          "<b>Topic 22</b><br>Words: climate, change, emissions, 2007, uncertainty",
          "<b>Topic 22</b><br>Words: climate, change, emissions, uncertainty, geoengineering",
          "<b>Topic 22</b><br>Words: climate, risk, change, 15c, emissions"
         ],
         "marker": {
          "color": "#56B4E9"
         },
         "mode": "lines",
         "name": "22_climate_change_emissions_risk",
         "type": "scatter",
         "x": [
          "1997-04-27T01:55:12",
          "2004-03-28T13:26:24",
          "2011-02-28T00:57:36",
          "2018-01-29T12:28:48"
         ],
         "y": [
          1,
          6,
          36,
          33
         ]
        },
        {
         "hoverinfo": "text",
         "hovertext": [
          "<b>Topic 23</b><br>Words: instrument, circle, microscopes, telescope, stars",
          "<b>Topic 23</b><br>Words: stars, star, catalogue, flamsteed, lustre",
          "<b>Topic 23</b><br>Words: stars, star, motion, distance, obs",
          "<b>Topic 23</b><br>Words: stars, satellite, star, nebulous, nebula",
          "<b>Topic 23</b><br>Words: stars, star, parallax, observations, telescope",
          "<b>Topic 23</b><br>Words: obs, diff, passy, stars, equatorial",
          "<b>Topic 23</b><br>Words: stars, vf, nova, pb, gbm",
          "<b>Topic 23</b><br>Words: stars, nebula, nebulz, nebulosity, star",
          "<b>Topic 23</b><br>Words: stars, star, proper, motions, motion",
          "<b>Topic 23</b><br>Words: vf, stars, obs, pb, pl",
          "<b>Topic 23</b><br>Words: nebula, stars, nebulosity, drawing, star",
          "<b>Topic 23</b><br>Words: stars, star, flamsteed, lustre, catalogue"
         ],
         "marker": {
          "color": "#009E73"
         },
         "mode": "lines",
         "name": "23_stars_obs_star_diff",
         "type": "scatter",
         "x": [
          "1789-09-19T16:19:12",
          "1796-08-21T03:50:24",
          "1803-07-24T15:21:36",
          "1810-06-25T02:52:48",
          "1817-05-26T14:24:00",
          "1824-04-27T01:55:12",
          "1831-03-29T13:26:24",
          "1838-02-28T00:57:36",
          "1845-01-29T12:28:48",
          "1858-12-02T11:31:12",
          "1865-11-02T23:02:24",
          "1900-06-10T08:38:24"
         ],
         "y": [
          2,
          8,
          13,
          9,
          15,
          16,
          4,
          1,
          2,
          3,
          1,
          1
         ]
        },
        {
         "hoverinfo": "text",
         "hovertext": [
          "<b>Topic 24</b><br>Words: doubler, electricity, effluvium, air, electrified",
          "<b>Topic 24</b><br>Words: ou, gaz, de, la, dans",
          "<b>Topic 24</b><br>Words: electricity, acid, electrical, battery, water",
          "<b>Topic 24</b><br>Words: battery, platina, ignited, flame, positive",
          "<b>Topic 24</b><br>Words: vacuum, mercury, electricity, electrical, vapour",
          "<b>Topic 24</b><br>Words: mercury, electric, electricity, pole, contact",
          "<b>Topic 24</b><br>Words: electricity, current, battery, platina, voltaic",
          "<b>Topic 24</b><br>Words: battery, voltaic, current, discharge, electricity",
          "<b>Topic 24</b><br>Words: voltaic, platinum, wire, battery, hydrogen",
          "<b>Topic 24</b><br>Words: current, conductor, iron, copper, metals",
          "<b>Topic 24</b><br>Words: stratifications, discharge, tube, wire, mercury",
          "<b>Topic 24</b><br>Words: condenser, 1870, paraffine, disk, capacity",
          "<b>Topic 24</b><br>Words: gas, titre, oxygen, ozone, cub",
          "<b>Topic 24</b><br>Words: discharge, tube, terminal, electricity, battery",
          "<b>Topic 24</b><br>Words: sulphur, film, resistance, galvanometer, brearley",
          "<b>Topic 24</b><br>Words: carbons, spark, current, resistance, cored",
          "<b>Topic 24</b><br>Words: photoelectric, volts, coci, mfd, volt",
          "<b>Topic 24</b><br>Words: discharge, electrons, gas, current, ions",
          "<b>Topic 24</b><br>Words: grove, platinum, oxygen, hydrogen, electrochemistry"
         ],
         "marker": {
          "color": "#F0E442"
         },
         "mode": "lines",
         "name": "24_discharge_current_electricity_battery",
         "type": "scatter",
         "x": [
          "1789-09-19T16:19:12",
          "1796-08-21T03:50:24",
          "1803-07-24T15:21:36",
          "1810-06-25T02:52:48",
          "1817-05-26T14:24:00",
          "1824-04-27T01:55:12",
          "1831-03-29T13:26:24",
          "1838-02-28T00:57:36",
          "1845-01-29T12:28:48",
          "1852-01-01T00:00:00",
          "1858-12-02T11:31:12",
          "1865-11-02T23:02:24",
          "1872-10-04T10:33:36",
          "1879-09-05T22:04:48",
          "1893-07-08T21:07:12",
          "1900-06-10T08:38:24",
          "1921-03-14T19:12:00",
          "1948-11-17T17:16:48",
          "2004-03-28T13:26:24"
         ],
         "y": [
          1,
          4,
          2,
          2,
          1,
          3,
          13,
          15,
          5,
          2,
          3,
          3,
          4,
          6,
          1,
          6,
          1,
          2,
          1
         ]
        },
        {
         "hoverinfo": "text",
         "hovertext": [
          "<b>Topic 25</b><br>Words: sun, limb, eclipe, heathcot, suns",
          "<b>Topic 25</b><br>Words: eclipe, zoec, limb, obervation, moon",
          "<b>Topic 25</b><br>Words: sun, spot, limb, spots, econds",
          "<b>Topic 25</b><br>Words: eclipe, moons, moon, clapers, penumbra",
          "<b>Topic 25</b><br>Words: eclipe, sun, moon, beginning, adamantem",
          "<b>Topic 25</b><br>Words: sun, immerged, eclipe, quadrant, obervations",
          "<b>Topic 25</b><br>Words: eclipe, sun, moon, annular, limb",
          "<b>Topic 25</b><br>Words: sun, eclipe, mercury, limb, moon",
          "<b>Topic 25</b><br>Words: eclipe, moons, moon, golden, sun",
          "<b>Topic 25</b><br>Words: clock, eclipe, moon, 1762, limb",
          "<b>Topic 25</b><br>Words: eclipe, sun, moon, limb, 11",
          "<b>Topic 25</b><br>Words: sun, limb, eclipe, clock, obervations",
          "<b>Topic 25</b><br>Words: caffiopea, sun, immerion, 13, obervations",
          "<b>Topic 25</b><br>Words: declination, mercury, obervation, tauri, acenion",
          "<b>Topic 25</b><br>Words: ghannam, witkinson, w5a3, ghannon, rsta20061849"
         ],
         "marker": {
          "color": "#D55E00"
         },
         "mode": "lines",
         "name": "25_eclipe_sun_limb_moon",
         "type": "scatter",
         "x": [
          "1678-08-26T15:01:26.400000",
          "1685-12-01T11:31:12",
          "1699-10-04T10:33:36",
          "1706-09-05T22:04:48",
          "1720-07-08T21:07:12",
          "1727-06-10T08:38:24",
          "1734-05-11T20:09:36",
          "1741-04-12T07:40:48",
          "1748-03-13T19:12:00",
          "1755-02-13T06:43:12",
          "1762-01-14T18:14:24",
          "1768-12-16T05:45:36",
          "1775-11-17T17:16:48",
          "1782-10-19T04:48:00",
          "2004-03-28T13:26:24"
         ],
         "y": [
          2,
          3,
          3,
          1,
          5,
          4,
          9,
          6,
          10,
          5,
          8,
          10,
          2,
          5,
          1
         ]
        },
        {
         "hoverinfo": "text",
         "hovertext": [
          "<b>Topic 26</b><br>Words: beak, duck, quadrupeds, animal, nostrils",
          "<b>Topic 26</b><br>Words: teredo, squalus, navalis, gigantea, stomach",
          "<b>Topic 26</b><br>Words: squalus, organs, fishes, oviduct, maximus",
          "<b>Topic 26</b><br>Words: magnified, shell, ova, fig, conger",
          "<b>Topic 26</b><br>Words: molecricket, anterior, animal, shell, boring",
          "<b>Topic 26</b><br>Words: shells, shell, operculum, opercula, animal",
          "<b>Topic 26</b><br>Words: animalcules, tongue, thornback, organs, fishes",
          "<b>Topic 26</b><br>Words: salpa, pyrosoma, cavity, inner, organs",
          "<b>Topic 26</b><br>Words: ganglia, doris, buccal, branchial, anterior",
          "<b>Topic 26</b><br>Words: purkinjean, vesicle, eggs, egg, yelk",
          "<b>Topic 26</b><br>Words: yelk, germinal, eggs, anterior, yelksac",
          "<b>Topic 26</b><br>Words: fig, bipalium, plate, muscular, anterior",
          "<b>Topic 26</b><br>Words: renilla, fig, plate, cartilage, section",
          "<b>Topic 26</b><br>Words: organ, myriapods, tubes, scutigera, spiders",
          "<b>Topic 26</b><br>Words: airbladder, anterior, vertebra, dorsal, lateral",
          "<b>Topic 26</b><br>Words: nephridia, larva, polygordius, larval, headkidneys",
          "<b>Topic 26</b><br>Words: rubens, starfish, canal, asterias, sac",
          "<b>Topic 26</b><br>Words: cartilage, anguilla, anterior, eel, fishes",
          "<b>Topic 26</b><br>Words: airchamber, airbreathing, fish, anabas, clarias",
          "<b>Topic 26</b><br>Words: fin, anterior, acanthodian, hydatids, dorsal",
          "<b>Topic 26</b><br>Words: mantle, cavity, ctenidium, ctenidia, pallial",
          "<b>Topic 26</b><br>Words: siphons, anterior, posterior, ficure, dorsal",
          "<b>Topic 26</b><br>Words: 4049, shark, in0025, doi101098rstb20000653, ocellatum"
         ],
         "marker": {
          "color": "#0072B2"
         },
         "mode": "lines",
         "name": "26_anterior_dorsal_posterior_fig",
         "type": "scatter",
         "x": [
          "1796-08-21T03:50:24",
          "1803-07-24T15:21:36",
          "1810-06-25T02:52:48",
          "1817-05-26T14:24:00",
          "1824-04-27T01:55:12",
          "1831-03-29T13:26:24",
          "1838-02-28T00:57:36",
          "1845-01-29T12:28:48",
          "1852-01-01T00:00:00",
          "1858-12-02T11:31:12",
          "1865-11-02T23:02:24",
          "1872-10-04T10:33:36",
          "1879-09-05T22:04:48",
          "1886-08-07T09:36:00",
          "1893-07-08T21:07:12",
          "1907-05-12T20:09:36",
          "1914-04-13T07:40:48",
          "1921-03-14T19:12:00",
          "1928-02-14T06:43:12",
          "1935-01-15T18:14:24",
          "1941-12-17T05:45:36",
          "1948-11-17T17:16:48",
          "2004-03-28T13:26:24"
         ],
         "y": [
          1,
          2,
          5,
          5,
          4,
          4,
          2,
          3,
          6,
          3,
          3,
          7,
          5,
          1,
          3,
          1,
          1,
          5,
          1,
          3,
          2,
          4,
          1
         ]
        },
        {
         "hoverinfo": "text",
         "hovertext": [
          "<b>Topic 27</b><br>Words: tvland, boadt, atroitidis, boet, c188",
          "<b>Topic 27</b><br>Words: shell, padang, battoo, shells, sumatra",
          "<b>Topic 27</b><br>Words: orbitolites, disk, foraminifera, chambers, orbiculina",
          "<b>Topic 27</b><br>Words: chambers, septal, foraminifera, spire, septa",
          "<b>Topic 27</b><br>Words: didus, septa, spicules, specimens, plate",
          "<b>Topic 27</b><br>Words: corallum, septa, zooids, corals, plate",
          "<b>Topic 27</b><br>Words: kerguelen, island, specimens, septa, 1876",
          "<b>Topic 27</b><br>Words: ovum, millepora, endoderm, spermospore, ova",
          "<b>Topic 27</b><br>Words: septa, septal, septum, corals, madreporarian",
          "<b>Topic 27</b><br>Words: foraminifera, mesenteries, fig, shell, adamsia",
          "<b>Topic 27</b><br>Words: mesenteries, polyp, polyps, couples, motherpolyp",
          "<b>Topic 27</b><br>Words: terquem, lias, plate, bornemann, foraminifera",
          "<b>Topic 27</b><br>Words: septa, corals, amoebae, trabeculae, calicinal",
          "<b>Topic 27</b><br>Words: expedition, hebrides, chairman, southern, islands"
         ],
         "marker": {
          "color": "#CC79A7"
         },
         "mode": "lines",
         "name": "27_septa_septal_corals_plate",
         "type": "scatter",
         "x": [
          "1699-10-04T10:33:36",
          "1803-07-24T15:21:36",
          "1852-01-01T00:00:00",
          "1858-12-02T11:31:12",
          "1865-11-02T23:02:24",
          "1872-10-04T10:33:36",
          "1879-09-05T22:04:48",
          "1886-08-07T09:36:00",
          "1893-07-08T21:07:12",
          "1914-04-13T07:40:48",
          "1921-03-14T19:12:00",
          "1941-12-17T05:45:36",
          "1948-11-17T17:16:48",
          "1969-08-22T03:50:24"
         ],
         "y": [
          1,
          1,
          2,
          2,
          4,
          4,
          43,
          1,
          2,
          2,
          2,
          1,
          6,
          1
         ]
        },
        {
         "hoverinfo": "text",
         "hovertext": [
          "<b>Topic 28</b><br>Words: coynes, roman, coyn, foot, coyne",
          "<b>Topic 28</b><br>Words: emperor, emperour, tadia, ome, province",
          "<b>Topic 28</b><br>Words: arabs, us, ome, roman, thee",
          "<b>Topic 28</b><br>Words: roman, catacombs, ome, incription, thee",
          "<b>Topic 28</b><br>Words: roman, ome, monuments, barn, name",
          "<b>Topic 28</b><br>Words: carteia, calpe, ruins, roman, thee",
          "<b>Topic 28</b><br>Words: skins, writing, ome, greeks, thee",
          "<b>Topic 28</b><br>Words: foot, roman, thee, stamp, ome",
          "<b>Topic 28</b><br>Words: roman, thee, ome, gruter, miles",
          "<b>Topic 28</b><br>Words: roman, grotto, ome, thee, road",
          "<b>Topic 28</b><br>Words: meaure, foot, roman, feet, thee",
          "<b>Topic 28</b><br>Words: pevets, friftion, pound, leaver, wheel",
          "<b>Topic 28</b><br>Words: chinee, arabs, inoculation, thee, ome",
          "<b>Topic 28</b><br>Words: vulcanic, hills, velay, columns, monte"
         ],
         "marker": {
          "color": "#E69F00"
         },
         "mode": "lines",
         "name": "28_roman_thee_ome_foot",
         "type": "scatter",
         "x": [
          "1678-08-26T15:01:26.400000",
          "1685-12-01T11:31:12",
          "1692-11-01T23:02:24",
          "1699-10-04T10:33:36",
          "1706-09-05T22:04:48",
          "1713-08-07T09:36:00",
          "1727-06-10T08:38:24",
          "1734-05-11T20:09:36",
          "1741-04-12T07:40:48",
          "1748-03-13T19:12:00",
          "1755-02-13T06:43:12",
          "1762-01-14T18:14:24",
          "1768-12-16T05:45:36",
          "1775-11-17T17:16:48"
         ],
         "y": [
          4,
          2,
          4,
          8,
          2,
          5,
          1,
          5,
          7,
          8,
          13,
          3,
          4,
          2
         ]
        },
        {
         "hoverinfo": "text",
         "hovertext": [
          "<b>Topic 29</b><br>Words: sars, 2004, doi, 359, lond",
          "<b>Topic 29</b><br>Words: modelling, covid19, disease, optimal, corticosteroids",
          "<b>Topic 29</b><br>Words: covid19, 2020, epidemic, transmission, sarscov2"
         ],
         "marker": {
          "color": "#56B4E9"
         },
         "mode": "lines",
         "name": "29_covid19_2020_epidemic_transmission",
         "type": "scatter",
         "x": [
          "2004-03-28T13:26:24",
          "2011-02-28T00:57:36",
          "2018-01-29T12:28:48"
         ],
         "y": [
          1,
          3,
          64
         ]
        }
       ],
       "layout": {
        "height": 450,
        "hoverlabel": {
         "bgcolor": "white",
         "font": {
          "family": "Rockwell",
          "size": 16
         }
        },
        "legend": {
         "title": {
          "text": "<b>Global Topic Representation"
         }
        },
        "template": {
         "data": {
          "bar": [
           {
            "error_x": {
             "color": "rgb(36,36,36)"
            },
            "error_y": {
             "color": "rgb(36,36,36)"
            },
            "marker": {
             "line": {
              "color": "white",
              "width": 0.5
             },
             "pattern": {
              "fillmode": "overlay",
              "size": 10,
              "solidity": 0.2
             }
            },
            "type": "bar"
           }
          ],
          "barpolar": [
           {
            "marker": {
             "line": {
              "color": "white",
              "width": 0.5
             },
             "pattern": {
              "fillmode": "overlay",
              "size": 10,
              "solidity": 0.2
             }
            },
            "type": "barpolar"
           }
          ],
          "carpet": [
           {
            "aaxis": {
             "endlinecolor": "rgb(36,36,36)",
             "gridcolor": "white",
             "linecolor": "white",
             "minorgridcolor": "white",
             "startlinecolor": "rgb(36,36,36)"
            },
            "baxis": {
             "endlinecolor": "rgb(36,36,36)",
             "gridcolor": "white",
             "linecolor": "white",
             "minorgridcolor": "white",
             "startlinecolor": "rgb(36,36,36)"
            },
            "type": "carpet"
           }
          ],
          "choropleth": [
           {
            "colorbar": {
             "outlinewidth": 1,
             "tickcolor": "rgb(36,36,36)",
             "ticks": "outside"
            },
            "type": "choropleth"
           }
          ],
          "contour": [
           {
            "colorbar": {
             "outlinewidth": 1,
             "tickcolor": "rgb(36,36,36)",
             "ticks": "outside"
            },
            "colorscale": [
             [
              0,
              "#440154"
             ],
             [
              0.1111111111111111,
              "#482878"
             ],
             [
              0.2222222222222222,
              "#3e4989"
             ],
             [
              0.3333333333333333,
              "#31688e"
             ],
             [
              0.4444444444444444,
              "#26828e"
             ],
             [
              0.5555555555555556,
              "#1f9e89"
             ],
             [
              0.6666666666666666,
              "#35b779"
             ],
             [
              0.7777777777777778,
              "#6ece58"
             ],
             [
              0.8888888888888888,
              "#b5de2b"
             ],
             [
              1,
              "#fde725"
             ]
            ],
            "type": "contour"
           }
          ],
          "contourcarpet": [
           {
            "colorbar": {
             "outlinewidth": 1,
             "tickcolor": "rgb(36,36,36)",
             "ticks": "outside"
            },
            "type": "contourcarpet"
           }
          ],
          "heatmap": [
           {
            "colorbar": {
             "outlinewidth": 1,
             "tickcolor": "rgb(36,36,36)",
             "ticks": "outside"
            },
            "colorscale": [
             [
              0,
              "#440154"
             ],
             [
              0.1111111111111111,
              "#482878"
             ],
             [
              0.2222222222222222,
              "#3e4989"
             ],
             [
              0.3333333333333333,
              "#31688e"
             ],
             [
              0.4444444444444444,
              "#26828e"
             ],
             [
              0.5555555555555556,
              "#1f9e89"
             ],
             [
              0.6666666666666666,
              "#35b779"
             ],
             [
              0.7777777777777778,
              "#6ece58"
             ],
             [
              0.8888888888888888,
              "#b5de2b"
             ],
             [
              1,
              "#fde725"
             ]
            ],
            "type": "heatmap"
           }
          ],
          "heatmapgl": [
           {
            "colorbar": {
             "outlinewidth": 1,
             "tickcolor": "rgb(36,36,36)",
             "ticks": "outside"
            },
            "colorscale": [
             [
              0,
              "#440154"
             ],
             [
              0.1111111111111111,
              "#482878"
             ],
             [
              0.2222222222222222,
              "#3e4989"
             ],
             [
              0.3333333333333333,
              "#31688e"
             ],
             [
              0.4444444444444444,
              "#26828e"
             ],
             [
              0.5555555555555556,
              "#1f9e89"
             ],
             [
              0.6666666666666666,
              "#35b779"
             ],
             [
              0.7777777777777778,
              "#6ece58"
             ],
             [
              0.8888888888888888,
              "#b5de2b"
             ],
             [
              1,
              "#fde725"
             ]
            ],
            "type": "heatmapgl"
           }
          ],
          "histogram": [
           {
            "marker": {
             "line": {
              "color": "white",
              "width": 0.6
             }
            },
            "type": "histogram"
           }
          ],
          "histogram2d": [
           {
            "colorbar": {
             "outlinewidth": 1,
             "tickcolor": "rgb(36,36,36)",
             "ticks": "outside"
            },
            "colorscale": [
             [
              0,
              "#440154"
             ],
             [
              0.1111111111111111,
              "#482878"
             ],
             [
              0.2222222222222222,
              "#3e4989"
             ],
             [
              0.3333333333333333,
              "#31688e"
             ],
             [
              0.4444444444444444,
              "#26828e"
             ],
             [
              0.5555555555555556,
              "#1f9e89"
             ],
             [
              0.6666666666666666,
              "#35b779"
             ],
             [
              0.7777777777777778,
              "#6ece58"
             ],
             [
              0.8888888888888888,
              "#b5de2b"
             ],
             [
              1,
              "#fde725"
             ]
            ],
            "type": "histogram2d"
           }
          ],
          "histogram2dcontour": [
           {
            "colorbar": {
             "outlinewidth": 1,
             "tickcolor": "rgb(36,36,36)",
             "ticks": "outside"
            },
            "colorscale": [
             [
              0,
              "#440154"
             ],
             [
              0.1111111111111111,
              "#482878"
             ],
             [
              0.2222222222222222,
              "#3e4989"
             ],
             [
              0.3333333333333333,
              "#31688e"
             ],
             [
              0.4444444444444444,
              "#26828e"
             ],
             [
              0.5555555555555556,
              "#1f9e89"
             ],
             [
              0.6666666666666666,
              "#35b779"
             ],
             [
              0.7777777777777778,
              "#6ece58"
             ],
             [
              0.8888888888888888,
              "#b5de2b"
             ],
             [
              1,
              "#fde725"
             ]
            ],
            "type": "histogram2dcontour"
           }
          ],
          "mesh3d": [
           {
            "colorbar": {
             "outlinewidth": 1,
             "tickcolor": "rgb(36,36,36)",
             "ticks": "outside"
            },
            "type": "mesh3d"
           }
          ],
          "parcoords": [
           {
            "line": {
             "colorbar": {
              "outlinewidth": 1,
              "tickcolor": "rgb(36,36,36)",
              "ticks": "outside"
             }
            },
            "type": "parcoords"
           }
          ],
          "pie": [
           {
            "automargin": true,
            "type": "pie"
           }
          ],
          "scatter": [
           {
            "fillpattern": {
             "fillmode": "overlay",
             "size": 10,
             "solidity": 0.2
            },
            "type": "scatter"
           }
          ],
          "scatter3d": [
           {
            "line": {
             "colorbar": {
              "outlinewidth": 1,
              "tickcolor": "rgb(36,36,36)",
              "ticks": "outside"
             }
            },
            "marker": {
             "colorbar": {
              "outlinewidth": 1,
              "tickcolor": "rgb(36,36,36)",
              "ticks": "outside"
             }
            },
            "type": "scatter3d"
           }
          ],
          "scattercarpet": [
           {
            "marker": {
             "colorbar": {
              "outlinewidth": 1,
              "tickcolor": "rgb(36,36,36)",
              "ticks": "outside"
             }
            },
            "type": "scattercarpet"
           }
          ],
          "scattergeo": [
           {
            "marker": {
             "colorbar": {
              "outlinewidth": 1,
              "tickcolor": "rgb(36,36,36)",
              "ticks": "outside"
             }
            },
            "type": "scattergeo"
           }
          ],
          "scattergl": [
           {
            "marker": {
             "colorbar": {
              "outlinewidth": 1,
              "tickcolor": "rgb(36,36,36)",
              "ticks": "outside"
             }
            },
            "type": "scattergl"
           }
          ],
          "scattermapbox": [
           {
            "marker": {
             "colorbar": {
              "outlinewidth": 1,
              "tickcolor": "rgb(36,36,36)",
              "ticks": "outside"
             }
            },
            "type": "scattermapbox"
           }
          ],
          "scatterpolar": [
           {
            "marker": {
             "colorbar": {
              "outlinewidth": 1,
              "tickcolor": "rgb(36,36,36)",
              "ticks": "outside"
             }
            },
            "type": "scatterpolar"
           }
          ],
          "scatterpolargl": [
           {
            "marker": {
             "colorbar": {
              "outlinewidth": 1,
              "tickcolor": "rgb(36,36,36)",
              "ticks": "outside"
             }
            },
            "type": "scatterpolargl"
           }
          ],
          "scatterternary": [
           {
            "marker": {
             "colorbar": {
              "outlinewidth": 1,
              "tickcolor": "rgb(36,36,36)",
              "ticks": "outside"
             }
            },
            "type": "scatterternary"
           }
          ],
          "surface": [
           {
            "colorbar": {
             "outlinewidth": 1,
             "tickcolor": "rgb(36,36,36)",
             "ticks": "outside"
            },
            "colorscale": [
             [
              0,
              "#440154"
             ],
             [
              0.1111111111111111,
              "#482878"
             ],
             [
              0.2222222222222222,
              "#3e4989"
             ],
             [
              0.3333333333333333,
              "#31688e"
             ],
             [
              0.4444444444444444,
              "#26828e"
             ],
             [
              0.5555555555555556,
              "#1f9e89"
             ],
             [
              0.6666666666666666,
              "#35b779"
             ],
             [
              0.7777777777777778,
              "#6ece58"
             ],
             [
              0.8888888888888888,
              "#b5de2b"
             ],
             [
              1,
              "#fde725"
             ]
            ],
            "type": "surface"
           }
          ],
          "table": [
           {
            "cells": {
             "fill": {
              "color": "rgb(237,237,237)"
             },
             "line": {
              "color": "white"
             }
            },
            "header": {
             "fill": {
              "color": "rgb(217,217,217)"
             },
             "line": {
              "color": "white"
             }
            },
            "type": "table"
           }
          ]
         },
         "layout": {
          "annotationdefaults": {
           "arrowhead": 0,
           "arrowwidth": 1
          },
          "autotypenumbers": "strict",
          "coloraxis": {
           "colorbar": {
            "outlinewidth": 1,
            "tickcolor": "rgb(36,36,36)",
            "ticks": "outside"
           }
          },
          "colorscale": {
           "diverging": [
            [
             0,
             "rgb(103,0,31)"
            ],
            [
             0.1,
             "rgb(178,24,43)"
            ],
            [
             0.2,
             "rgb(214,96,77)"
            ],
            [
             0.3,
             "rgb(244,165,130)"
            ],
            [
             0.4,
             "rgb(253,219,199)"
            ],
            [
             0.5,
             "rgb(247,247,247)"
            ],
            [
             0.6,
             "rgb(209,229,240)"
            ],
            [
             0.7,
             "rgb(146,197,222)"
            ],
            [
             0.8,
             "rgb(67,147,195)"
            ],
            [
             0.9,
             "rgb(33,102,172)"
            ],
            [
             1,
             "rgb(5,48,97)"
            ]
           ],
           "sequential": [
            [
             0,
             "#440154"
            ],
            [
             0.1111111111111111,
             "#482878"
            ],
            [
             0.2222222222222222,
             "#3e4989"
            ],
            [
             0.3333333333333333,
             "#31688e"
            ],
            [
             0.4444444444444444,
             "#26828e"
            ],
            [
             0.5555555555555556,
             "#1f9e89"
            ],
            [
             0.6666666666666666,
             "#35b779"
            ],
            [
             0.7777777777777778,
             "#6ece58"
            ],
            [
             0.8888888888888888,
             "#b5de2b"
            ],
            [
             1,
             "#fde725"
            ]
           ],
           "sequentialminus": [
            [
             0,
             "#440154"
            ],
            [
             0.1111111111111111,
             "#482878"
            ],
            [
             0.2222222222222222,
             "#3e4989"
            ],
            [
             0.3333333333333333,
             "#31688e"
            ],
            [
             0.4444444444444444,
             "#26828e"
            ],
            [
             0.5555555555555556,
             "#1f9e89"
            ],
            [
             0.6666666666666666,
             "#35b779"
            ],
            [
             0.7777777777777778,
             "#6ece58"
            ],
            [
             0.8888888888888888,
             "#b5de2b"
            ],
            [
             1,
             "#fde725"
            ]
           ]
          },
          "colorway": [
           "#1F77B4",
           "#FF7F0E",
           "#2CA02C",
           "#D62728",
           "#9467BD",
           "#8C564B",
           "#E377C2",
           "#7F7F7F",
           "#BCBD22",
           "#17BECF"
          ],
          "font": {
           "color": "rgb(36,36,36)"
          },
          "geo": {
           "bgcolor": "white",
           "lakecolor": "white",
           "landcolor": "white",
           "showlakes": true,
           "showland": true,
           "subunitcolor": "white"
          },
          "hoverlabel": {
           "align": "left"
          },
          "hovermode": "closest",
          "mapbox": {
           "style": "light"
          },
          "paper_bgcolor": "white",
          "plot_bgcolor": "white",
          "polar": {
           "angularaxis": {
            "gridcolor": "rgb(232,232,232)",
            "linecolor": "rgb(36,36,36)",
            "showgrid": false,
            "showline": true,
            "ticks": "outside"
           },
           "bgcolor": "white",
           "radialaxis": {
            "gridcolor": "rgb(232,232,232)",
            "linecolor": "rgb(36,36,36)",
            "showgrid": false,
            "showline": true,
            "ticks": "outside"
           }
          },
          "scene": {
           "xaxis": {
            "backgroundcolor": "white",
            "gridcolor": "rgb(232,232,232)",
            "gridwidth": 2,
            "linecolor": "rgb(36,36,36)",
            "showbackground": true,
            "showgrid": false,
            "showline": true,
            "ticks": "outside",
            "zeroline": false,
            "zerolinecolor": "rgb(36,36,36)"
           },
           "yaxis": {
            "backgroundcolor": "white",
            "gridcolor": "rgb(232,232,232)",
            "gridwidth": 2,
            "linecolor": "rgb(36,36,36)",
            "showbackground": true,
            "showgrid": false,
            "showline": true,
            "ticks": "outside",
            "zeroline": false,
            "zerolinecolor": "rgb(36,36,36)"
           },
           "zaxis": {
            "backgroundcolor": "white",
            "gridcolor": "rgb(232,232,232)",
            "gridwidth": 2,
            "linecolor": "rgb(36,36,36)",
            "showbackground": true,
            "showgrid": false,
            "showline": true,
            "ticks": "outside",
            "zeroline": false,
            "zerolinecolor": "rgb(36,36,36)"
           }
          },
          "shapedefaults": {
           "fillcolor": "black",
           "line": {
            "width": 0
           },
           "opacity": 0.3
          },
          "ternary": {
           "aaxis": {
            "gridcolor": "rgb(232,232,232)",
            "linecolor": "rgb(36,36,36)",
            "showgrid": false,
            "showline": true,
            "ticks": "outside"
           },
           "baxis": {
            "gridcolor": "rgb(232,232,232)",
            "linecolor": "rgb(36,36,36)",
            "showgrid": false,
            "showline": true,
            "ticks": "outside"
           },
           "bgcolor": "white",
           "caxis": {
            "gridcolor": "rgb(232,232,232)",
            "linecolor": "rgb(36,36,36)",
            "showgrid": false,
            "showline": true,
            "ticks": "outside"
           }
          },
          "title": {
           "x": 0.05
          },
          "xaxis": {
           "automargin": true,
           "gridcolor": "rgb(232,232,232)",
           "linecolor": "rgb(36,36,36)",
           "showgrid": false,
           "showline": true,
           "ticks": "outside",
           "title": {
            "standoff": 15
           },
           "zeroline": false,
           "zerolinecolor": "rgb(36,36,36)"
          },
          "yaxis": {
           "automargin": true,
           "gridcolor": "rgb(232,232,232)",
           "linecolor": "rgb(36,36,36)",
           "showgrid": false,
           "showline": true,
           "ticks": "outside",
           "title": {
            "standoff": 15
           },
           "zeroline": false,
           "zerolinecolor": "rgb(36,36,36)"
          }
         }
        },
        "title": {
         "font": {
          "color": "Black",
          "size": 22
         },
         "text": "Topics over time in Fact and Fiction texts (RSTL, RSTB, RSTA)",
         "x": 0.4,
         "xanchor": "center",
         "y": 0.95,
         "yanchor": "top"
        },
        "width": 1250,
        "xaxis": {
         "showgrid": true
        },
        "yaxis": {
         "showgrid": true,
         "title": {
          "text": "Frequency"
         }
        }
       }
      }
     },
     "metadata": {},
     "output_type": "display_data"
    }
   ],
   "source": [
    "#all rs combined\n",
    "all_texts_combined = b_texts + l_texts + a_texts\n",
    "all_periods_combined = b_periods + l_periods + a_periods\n",
    "period_strings_combined = [period for period in all_periods_combined]\n",
    "\n",
    "topic_model = BERTopic(verbose=False)\n",
    "topics, probs = topic_model.fit_transform(all_texts_combined)\n",
    "\n",
    "topics_over_time = topic_model.topics_over_time(all_texts_combined, period_strings_combined, datetime_format=\"%Y-%m-%d\", nr_bins=50)\n",
    "fig4 = topic_model.visualize_topics_over_time(topics_over_time, top_n_topics=30, title=\"Topics over time in Fact and Fiction texts (RSTL, RSTB, RSTA)\")\n",
    "\n",
    "fig4.write_html('full_rs_topics_over_time_periods_50_30.html')\n",
    "fig4.show()"
   ]
  },
  {
   "cell_type": "code",
   "execution_count": 32,
   "metadata": {},
   "outputs": [
    {
     "data": {
      "application/vnd.plotly.v1+json": {
       "config": {
        "plotlyServerURL": "https://plot.ly"
       },
       "data": [
        {
         "hoverinfo": "text",
         "hovertext": [
          "<b>Topic 0</b><br>Words: ut, ad, non, cum, ex",
          "<b>Topic 0</b><br>Words: ad, ex, cum, ut, vero",
          "<b>Topic 0</b><br>Words: ad, cum, ex, ut, quod",
          "<b>Topic 0</b><br>Words: ad, ut, ex, non, cum",
          "<b>Topic 0</b><br>Words: ad, ut, ex, cum, vel",
          "<b>Topic 0</b><br>Words: ad, ut, ex, cum, vel",
          "<b>Topic 0</b><br>Words: ad, ut, cum, ex, quod",
          "<b>Topic 0</b><br>Words: ad, ut, ex, cum, non",
          "<b>Topic 0</b><br>Words: ad, quod, cum, ex, ut",
          "<b>Topic 0</b><br>Words: ad, ut, cum, quod, ex",
          "<b>Topic 0</b><br>Words: ad, cum, et, ut, ex",
          "<b>Topic 0</b><br>Words: ad, et, ut, ex, cum",
          "<b>Topic 0</b><br>Words: ut, ad, ex, et, cum",
          "<b>Topic 0</b><br>Words: ad, cum, ex, ut, quod",
          "<b>Topic 0</b><br>Words: che, veleno, vel, et, poion",
          "<b>Topic 0</b><br>Words: che, di, de, la, que",
          "<b>Topic 0</b><br>Words: les, de, la, que, dans",
          "<b>Topic 0</b><br>Words: la, de, que, les, le",
          "<b>Topic 0</b><br>Words: que, est, de, la, le",
          "<b>Topic 0</b><br>Words: la, de, le, les, des",
          "<b>Topic 0</b><br>Words: density, farapay, vapours, root, temperature",
          "<b>Topic 0</b><br>Words: thallium, weight, atomic, crookes, apparatus",
          "<b>Topic 0</b><br>Words: map, lines, spectrum, photograph, corxu",
          "<b>Topic 0</b><br>Words: larvee, pupa, pupated, gilt, roof",
          "<b>Topic 0</b><br>Words: bipolar, knapping, splintered, cores, quartz"
         ],
         "marker": {
          "color": "#E69F00"
         },
         "mode": "lines",
         "name": "0_ad_ut_ex_cum",
         "type": "scatter",
         "x": [
          "1678-08-26T15:01:26.400000",
          "1685-12-01T11:31:12",
          "1692-11-01T23:02:24",
          "1699-10-04T10:33:36",
          "1706-09-05T22:04:48",
          "1713-08-07T09:36:00",
          "1720-07-08T21:07:12",
          "1727-06-10T08:38:24",
          "1734-05-11T20:09:36",
          "1741-04-12T07:40:48",
          "1748-03-13T19:12:00",
          "1755-02-13T06:43:12",
          "1762-01-14T18:14:24",
          "1768-12-16T05:45:36",
          "1775-11-17T17:16:48",
          "1782-10-19T04:48:00",
          "1789-09-19T16:19:12",
          "1796-08-21T03:50:24",
          "1803-07-24T15:21:36",
          "1817-05-26T14:24:00",
          "1852-01-01T00:00:00",
          "1872-10-04T10:33:36",
          "1879-09-05T22:04:48",
          "1886-08-07T09:36:00",
          "2011-02-28T00:57:36"
         ],
         "y": [
          18,
          34,
          44,
          51,
          23,
          49,
          62,
          46,
          39,
          40,
          24,
          25,
          16,
          14,
          9,
          13,
          1,
          3,
          1,
          1,
          1,
          1,
          1,
          1,
          1
         ]
        },
        {
         "hoverinfo": "text",
         "hovertext": [
          "<b>Topic 1</b><br>Words: he, ome, thee, de, les",
          "<b>Topic 1</b><br>Words: he, ome, bled, blood, lungs",
          "<b>Topic 1</b><br>Words: he, ome, blood, thee, child",
          "<b>Topic 1</b><br>Words: he, ome, blood, lungs, thee",
          "<b>Topic 1</b><br>Words: he, ome, woman, does, blood",
          "<b>Topic 1</b><br>Words: solis, he, child, autem, ad",
          "<b>Topic 1</b><br>Words: he, pox, ome, putules, upon",
          "<b>Topic 1</b><br>Words: he, guts, ome, blood, velp",
          "<b>Topic 1</b><br>Words: he, ome, patient, dicharge, gut",
          "<b>Topic 1</b><br>Words: he, ome, bone, upon, cae",
          "<b>Topic 1</b><br>Words: he, ome, thee, cae, upon",
          "<b>Topic 1</b><br>Words: he, ome, cae, thee, pule",
          "<b>Topic 1</b><br>Words: he, ome, thee, cae, les",
          "<b>Topic 1</b><br>Words: he, cae, ome, bone, head",
          "<b>Topic 1</b><br>Words: he, de, les, des, child",
          "<b>Topic 1</b><br>Words: pints, he, colon, igmoid, flexure",
          "<b>Topic 1</b><br>Words: air, hepatic, cancerous, pure, animal",
          "<b>Topic 1</b><br>Words: quainting, conception, count, assuring, uterus",
          "<b>Topic 1</b><br>Words: ovaria, uterus, menstruated, attended, 7iz",
          "<b>Topic 1</b><br>Words: pleura, air, azote, gas, chest",
          "<b>Topic 1</b><br>Words: calculi, calculous, norwich, lithate, ammonia",
          "<b>Topic 1</b><br>Words: chyle, duct, extractive, thoracic, contents",
          "<b>Topic 1</b><br>Words: bronze, standard, bar, bars, sheepshanks",
          "<b>Topic 1</b><br>Words: blood, corpuscles, mustard, web, inflammation",
          "<b>Topic 1</b><br>Words: des, la, de, les, dans",
          "<b>Topic 1</b><br>Words: defence, military, medical, services, care"
         ],
         "marker": {
          "color": "#56B4E9"
         },
         "mode": "lines",
         "name": "1_he_de_des_les",
         "type": "scatter",
         "x": [
          "1678-08-26T15:01:26.400000",
          "1685-12-01T11:31:12",
          "1692-11-01T23:02:24",
          "1699-10-04T10:33:36",
          "1706-09-05T22:04:48",
          "1713-08-07T09:36:00",
          "1720-07-08T21:07:12",
          "1727-06-10T08:38:24",
          "1734-05-11T20:09:36",
          "1741-04-12T07:40:48",
          "1748-03-13T19:12:00",
          "1755-02-13T06:43:12",
          "1762-01-14T18:14:24",
          "1768-12-16T05:45:36",
          "1775-11-17T17:16:48",
          "1782-10-19T04:48:00",
          "1789-09-19T16:19:12",
          "1796-08-21T03:50:24",
          "1803-07-24T15:21:36",
          "1817-05-26T14:24:00",
          "1824-04-27T01:55:12",
          "1838-02-28T00:57:36",
          "1852-01-01T00:00:00",
          "1858-12-02T11:31:12",
          "1914-04-13T07:40:48",
          "2011-02-28T00:57:36"
         ],
         "y": [
          11,
          8,
          29,
          33,
          19,
          8,
          22,
          13,
          18,
          45,
          38,
          39,
          20,
          10,
          19,
          3,
          2,
          1,
          1,
          3,
          4,
          1,
          1,
          1,
          1,
          1
         ]
        },
        {
         "hoverinfo": "text",
         "hovertext": [
          "<b>Topic 2</b><br>Words: invasions, scope, programme, british, 1986",
          "<b>Topic 2</b><br>Words: biodiversity, species, diversity, norse, hawksworth",
          "<b>Topic 2</b><br>Words: ecosystems, regularities, extinction, physics, systems",
          "<b>Topic 2</b><br>Words: species, ecosystem, climate, biodiversity, al",
          "<b>Topic 2</b><br>Words: species, ecosystem, biodiversity, conservation, climate",
          "<b>Topic 2</b><br>Words: species, climate, change, biodiversity, marine"
         ],
         "marker": {
          "color": "#009E73"
         },
         "mode": "lines",
         "name": "2_species_climate_biodiversity_change",
         "type": "scatter",
         "x": [
          "1983-06-25T02:52:48",
          "1990-05-26T14:24:00",
          "1997-04-27T01:55:12",
          "2004-03-28T13:26:24",
          "2011-02-28T00:57:36",
          "2018-01-29T12:28:48"
         ],
         "y": [
          1,
          1,
          1,
          22,
          85,
          103
         ]
        },
        {
         "hoverinfo": "text",
         "hovertext": [
          "<b>Topic 3</b><br>Words: fanractions, lphlerophical, hio6, toanractions, ots38t",
          "<b>Topic 3</b><br>Words: prim, red, colours, light, rays",
          "<b>Topic 3</b><br>Words: prim, rays, light, colours, ray",
          "<b>Topic 3</b><br>Words: divergency, glas, light, refrangibility, refractions",
          "<b>Topic 3</b><br>Words: glas, rays, colour, red, light",
          "<b>Topic 3</b><br>Words: colours, rings, teel, exploions, pace",
          "<b>Topic 3</b><br>Words: light, shadows, lamp, candle, glass",
          "<b>Topic 3</b><br>Words: rays, light, heat, glass, colours",
          "<b>Topic 3</b><br>Words: rings, rays, bow, glass, light",
          "<b>Topic 3</b><br>Words: light, glass, fringes, polarised, colours",
          "<b>Topic 3</b><br>Words: axes, polarisation, light, refraction, crystals",
          "<b>Topic 3</b><br>Words: light, polarization, polarized, reflexion, reflexions",
          "<b>Topic 3</b><br>Words: light, spectrum, rays, colours, wool",
          "<b>Topic 3</b><br>Words: spectrum, light, rays, paper, atmosphere",
          "<b>Topic 3</b><br>Words: rays, light, fringes, spectrum, bands",
          "<b>Topic 3</b><br>Words: light, rays, refrangibility, spectrum, dispersion",
          "<b>Topic 3</b><br>Words: spectrum, light, lines, rays, colours",
          "<b>Topic 3</b><br>Words: spectrum, light, lines, rays, bright",
          "<b>Topic 3</b><br>Words: spectrum, light, selenium, lines, glass",
          "<b>Topic 3</b><br>Words: spectrum, faint, light, lines, rays",
          "<b>Topic 3</b><br>Words: spectrum, light, rings, rays, candle",
          "<b>Topic 3</b><br>Words: diastase, rays, light, spectrum, glass",
          "<b>Topic 3</b><br>Words: wood, picture, active, photographic, dark",
          "<b>Topic 3</b><br>Words: iridescent, chitin, scales, colours, colour"
         ],
         "marker": {
          "color": "#F0E442"
         },
         "mode": "lines",
         "name": "3_light_rays_spectrum_glass",
         "type": "scatter",
         "x": [
          "1692-11-01T23:02:24",
          "1713-08-07T09:36:00",
          "1727-06-10T08:38:24",
          "1755-02-13T06:43:12",
          "1762-01-14T18:14:24",
          "1768-12-16T05:45:36",
          "1789-09-19T16:19:12",
          "1796-08-21T03:50:24",
          "1803-07-24T15:21:36",
          "1810-06-25T02:52:48",
          "1817-05-26T14:24:00",
          "1824-04-27T01:55:12",
          "1831-03-29T13:26:24",
          "1838-02-28T00:57:36",
          "1845-01-29T12:28:48",
          "1852-01-01T00:00:00",
          "1858-12-02T11:31:12",
          "1865-11-02T23:02:24",
          "1872-10-04T10:33:36",
          "1879-09-05T22:04:48",
          "1886-08-07T09:36:00",
          "1893-07-08T21:07:12",
          "1900-06-10T08:38:24",
          "1921-03-14T19:12:00"
         ],
         "y": [
          3,
          1,
          2,
          1,
          2,
          1,
          4,
          15,
          5,
          21,
          8,
          13,
          9,
          15,
          8,
          5,
          12,
          13,
          13,
          13,
          3,
          2,
          1,
          1
         ]
        },
        {
         "hoverinfo": "text",
         "hovertext": [
          "<b>Topic 4</b><br>Words: philooph, oinbe, ofumb, jqj, dljq",
          "<b>Topic 4</b><br>Words: fyihs, jsvyumb, phalefefpt, 5905445, w0ngay",
          "<b>Topic 4</b><br>Words: witen, perepolis, wh, fl, gwither",
          "<b>Topic 4</b><br>Words: philos, wy, franract, wh, po",
          "<b>Topic 4</b><br>Words: ceress, tramnracdt, diqy, dcdclg, jqy",
          "<b>Topic 4</b><br>Words: klofoph, setetereeere, leheseeueeny, philetph, fedeeteealdy",
          "<b>Topic 4</b><br>Words: philos, zorker, ippojing, hlozonte, anpranb",
          "<b>Topic 4</b><br>Words: epoque, chinee, year, thee, cycle",
          "<b>Topic 4</b><br>Words: vo, famprae, lhinrofh, osstbsn, lihuto",
          "<b>Topic 4</b><br>Words: trans, philos, philoa, tabt, tab1",
          "<b>Topic 4</b><br>Words: tabt, philos, trans, trang, fg",
          "<b>Topic 4</b><br>Words: fih, tail, fins, aleppo, fin",
          "<b>Topic 4</b><br>Words: p195, lvl, philos, tab, vol",
          "<b>Topic 4</b><br>Words: vo, aeaesgs, 21c03, plodds, 0129g123",
          "<b>Topic 4</b><br>Words: read, lxxv, 74ad, lxxn1, transvollxxvi"
         ],
         "marker": {
          "color": "#D55E00"
         },
         "mode": "lines",
         "name": "4_epoque_chinee_year_philos",
         "type": "scatter",
         "x": [
          "1678-08-26T15:01:26.400000",
          "1685-12-01T11:31:12",
          "1692-11-01T23:02:24",
          "1699-10-04T10:33:36",
          "1706-09-05T22:04:48",
          "1713-08-07T09:36:00",
          "1720-07-08T21:07:12",
          "1727-06-10T08:38:24",
          "1734-05-11T20:09:36",
          "1741-04-12T07:40:48",
          "1748-03-13T19:12:00",
          "1755-02-13T06:43:12",
          "1762-01-14T18:14:24",
          "1768-12-16T05:45:36",
          "1782-10-19T04:48:00"
         ],
         "y": [
          7,
          9,
          13,
          23,
          5,
          5,
          13,
          12,
          15,
          24,
          15,
          5,
          1,
          8,
          3
         ]
        },
        {
         "hoverinfo": "text",
         "hovertext": [
          "<b>Topic 5</b><br>Words: sulphur, volatile, acid, spirit, vitriol",
          "<b>Topic 5</b><br>Words: acid, muriatic, gas, hyperoxygenized, mercury",
          "<b>Topic 5</b><br>Words: acid, gas, platina, substance, grains",
          "<b>Topic 5</b><br>Words: acid, gas, oxygene, chlorine, muriatic",
          "<b>Topic 5</b><br>Words: gas, chlorine, acid, platinum, hydrogen",
          "<b>Topic 5</b><br>Words: acid, oxide, chromium, grains, hydrogen",
          "<b>Topic 5</b><br>Words: acid, oxide, chlorine, platinum, chloride",
          "<b>Topic 5</b><br>Words: resin, acid, hydrogen, gave, resins",
          "<b>Topic 5</b><br>Words: acid, grm, grs, gave, solution",
          "<b>Topic 5</b><br>Words: acid, grm, solution, water, gas",
          "<b>Topic 5</b><br>Words: acid, grm, solution, alcohol, gave",
          "<b>Topic 5</b><br>Words: acid, grm, hydrogen, vanadium, platinum",
          "<b>Topic 5</b><br>Words: ammonia, liquid, acid, nitrate, water",
          "<b>Topic 5</b><br>Words: acid, aluminum, action, chloride, solution",
          "<b>Topic 5</b><br>Words: bottle, nitrification, nitrifying, inoculated, bottles",
          "<b>Topic 5</b><br>Words: nitrite, nitrites, butyl, inhalation, amyl",
          "<b>Topic 5</b><br>Words: methylbenzaconine, pyraconitine, kilogramme, benzaconine, reflex",
          "<b>Topic 5</b><br>Words: meo, acid, resorcinol, dimethyl, dihydric",
          "<b>Topic 5</b><br>Words: sulphur, aerosol, dioxide, elizabethan, atmospheric"
         ],
         "marker": {
          "color": "#0072B2"
         },
         "mode": "lines",
         "name": "5_acid_grm_gas_solution",
         "type": "scatter",
         "x": [
          "1741-04-12T07:40:48",
          "1796-08-21T03:50:24",
          "1803-07-24T15:21:36",
          "1810-06-25T02:52:48",
          "1817-05-26T14:24:00",
          "1824-04-27T01:55:12",
          "1831-03-29T13:26:24",
          "1838-02-28T00:57:36",
          "1845-01-29T12:28:48",
          "1852-01-01T00:00:00",
          "1858-12-02T11:31:12",
          "1865-11-02T23:02:24",
          "1872-10-04T10:33:36",
          "1879-09-05T22:04:48",
          "1886-08-07T09:36:00",
          "1893-07-08T21:07:12",
          "1900-06-10T08:38:24",
          "1928-02-14T06:43:12",
          "1997-04-27T01:55:12"
         ],
         "y": [
          1,
          6,
          17,
          23,
          10,
          8,
          2,
          11,
          15,
          17,
          19,
          16,
          3,
          4,
          1,
          1,
          1,
          1,
          1
         ]
        },
        {
         "hoverinfo": "text",
         "hovertext": [
          "<b>Topic 6</b><br>Words: fl, plants, foliis, ome, vulg",
          "<b>Topic 6</b><br>Words: malab, tab, folio, madrapat, leaves",
          "<b>Topic 6</b><br>Words: folio, ray, fig, flowers, leaves",
          "<b>Topic 6</b><br>Words: ray, folio, fig, flowers, ic",
          "<b>Topic 6</b><br>Words: folio, flore, foliis, cb, floribus",
          "<b>Topic 6</b><br>Words: folio, foliis, flore, tab, reg",
          "<b>Topic 6</b><br>Words: folio, foliis, flore, camphora, thymi",
          "<b>Topic 6</b><br>Words: flore, folio, foliis, plant, tourn",
          "<b>Topic 6</b><br>Words: foliis, folio, flore, hort, flowers",
          "<b>Topic 6</b><br>Words: foliis, folio, wheel, flore, hort",
          "<b>Topic 6</b><br>Words: foliis, sp, lin, pl, floribus",
          "<b>Topic 6</b><br>Words: lin, spec, foliis, bauh, plant",
          "<b>Topic 6</b><br>Words: de, canes, la, que, cannes",
          "<b>Topic 6</b><br>Words: feetida, decription, plant, germen, bacca",
          "<b>Topic 6</b><br>Words: fairyrings, fungi, grass, spawn, ring",
          "<b>Topic 6</b><br>Words: wax, grav, alcohol, oil, spec",
          "<b>Topic 6</b><br>Words: motherofpearl, substance, iridescent, films, spar",
          "<b>Topic 6</b><br>Words: appendicularia, doliolum, salpa, appendage, testis",
          "<b>Topic 6</b><br>Words: datiscine, grm, rostellum, datiscetine, stearopten",
          "<b>Topic 6</b><br>Words: plot, herbage, plots, manure, mineral",
          "<b>Topic 6</b><br>Words: starch, inulin, leaves, galanthus, leaf",
          "<b>Topic 6</b><br>Words: outgrowths, lotoflavin, leaves, intumescences, lotusin",
          "<b>Topic 6</b><br>Words: juliania, ovule, adstringens, flowers, hemsley",
          "<b>Topic 6</b><br>Words: ceylon, endemic, rarity, species, vr"
         ],
         "marker": {
          "color": "#CC79A7"
         },
         "mode": "lines",
         "name": "6_foliis_folio_plot_plant",
         "type": "scatter",
         "x": [
          "1692-11-01T23:02:24",
          "1699-10-04T10:33:36",
          "1706-09-05T22:04:48",
          "1713-08-07T09:36:00",
          "1720-07-08T21:07:12",
          "1727-06-10T08:38:24",
          "1734-05-11T20:09:36",
          "1741-04-12T07:40:48",
          "1748-03-13T19:12:00",
          "1755-02-13T06:43:12",
          "1762-01-14T18:14:24",
          "1768-12-16T05:45:36",
          "1775-11-17T17:16:48",
          "1782-10-19T04:48:00",
          "1803-07-24T15:21:36",
          "1810-06-25T02:52:48",
          "1831-03-29T13:26:24",
          "1845-01-29T12:28:48",
          "1852-01-01T00:00:00",
          "1879-09-05T22:04:48",
          "1893-07-08T21:07:12",
          "1900-06-10T08:38:24",
          "1907-05-12T20:09:36",
          "1914-04-13T07:40:48"
         ],
         "y": [
          9,
          11,
          3,
          8,
          5,
          9,
          12,
          14,
          15,
          15,
          9,
          11,
          1,
          2,
          1,
          1,
          1,
          1,
          2,
          5,
          1,
          2,
          1,
          1
         ]
        },
        {
         "hoverinfo": "text",
         "hovertext": [
          "<b>Topic 7</b><br>Words: roots, v4, fanv4, 4fv412, lyed",
          "<b>Topic 7</b><br>Words: root, equation, series, roots, powers",
          "<b>Topic 7</b><br>Words: equation, logarithms, root, unite, logarithm",
          "<b>Topic 7</b><br>Words: term, aquation, roots, poitive, greater",
          "<b>Topic 7</b><br>Words: roots, equation, mut, term, cx",
          "<b>Topic 7</b><br>Words: oc, fluent, equation, eries, corol",
          "<b>Topic 7</b><br>Words: hyp, log, eries, equation, fluent",
          "<b>Topic 7</b><br>Words: equation, roots, rulers, crewed, equal",
          "<b>Topic 7</b><br>Words: eries, equation, roots, root, terms",
          "<b>Topic 7</b><br>Words: eries, equation, roots, um, equations",
          "<b>Topic 7</b><br>Words: eries, term, equation, terms, quantities",
          "<b>Topic 7</b><br>Words: equation, roots, equations, quantities, analytical",
          "<b>Topic 7</b><br>Words: sine, cos, series, equation, theorem",
          "<b>Topic 7</b><br>Words: equation, surds, functions, equations, terms",
          "<b>Topic 7</b><br>Words: equation, series, cos, equations, functions",
          "<b>Topic 7</b><br>Words: roots, quantities, equation, negative, neperian",
          "<b>Topic 7</b><br>Words: equation, roots, equations, integral, theorem",
          "<b>Topic 7</b><br>Words: equation, boole, equations, d1, u0",
          "<b>Topic 7</b><br>Words: equation, equations, solution, series, terms",
          "<b>Topic 7</b><br>Words: equation, roots, coefficients, functions, equations",
          "<b>Topic 7</b><br>Words: equation, roots, equations, coefficients, quantics",
          "<b>Topic 7</b><br>Words: equation, roots, mod, 000, df",
          "<b>Topic 7</b><br>Words: equation, unit, event, chemical, units",
          "<b>Topic 7</b><br>Words: equation, equations, functions, theorem, cos"
         ],
         "marker": {
          "color": "#E69F00"
         },
         "mode": "lines",
         "name": "7_equation_roots_equations_terms",
         "type": "scatter",
         "x": [
          "1678-08-26T15:01:26.400000",
          "1692-11-01T23:02:24",
          "1713-08-07T09:36:00",
          "1720-07-08T21:07:12",
          "1727-06-10T08:38:24",
          "1748-03-13T19:12:00",
          "1755-02-13T06:43:12",
          "1768-12-16T05:45:36",
          "1775-11-17T17:16:48",
          "1782-10-19T04:48:00",
          "1789-09-19T16:19:12",
          "1796-08-21T03:50:24",
          "1803-07-24T15:21:36",
          "1810-06-25T02:52:48",
          "1817-05-26T14:24:00",
          "1824-04-27T01:55:12",
          "1831-03-29T13:26:24",
          "1838-02-28T00:57:36",
          "1845-01-29T12:28:48",
          "1852-01-01T00:00:00",
          "1858-12-02T11:31:12",
          "1865-11-02T23:02:24",
          "1872-10-04T10:33:36",
          "1879-09-05T22:04:48"
         ],
         "y": [
          1,
          3,
          1,
          1,
          2,
          2,
          2,
          1,
          9,
          7,
          4,
          4,
          4,
          7,
          6,
          2,
          8,
          2,
          5,
          16,
          31,
          9,
          3,
          6
         ]
        },
        {
         "hoverinfo": "text",
         "hovertext": [
          "<b>Topic 8</b><br>Words: telescope, sun, stars, ladders, inches",
          "<b>Topic 8</b><br>Words: stars, star, catalogue, brightness, flamsteed",
          "<b>Topic 8</b><br>Words: stars, star, motion, motions, distance",
          "<b>Topic 8</b><br>Words: stars, satellite, distance, star, nebulous",
          "<b>Topic 8</b><br>Words: stars, star, telescope, observations, parallax",
          "<b>Topic 8</b><br>Words: obs, diff, stars, equatorial, distance",
          "<b>Topic 8</b><br>Words: stars, vf, nova, pb, gbm",
          "<b>Topic 8</b><br>Words: speculum, polisher, telescope, metal, polishing",
          "<b>Topic 8</b><br>Words: stars, star, motion, motions, proper",
          "<b>Topic 8</b><br>Words: eclipse, longitude, moon, agathocles, shadow",
          "<b>Topic 8</b><br>Words: vf, stars, pb, obs, pl",
          "<b>Topic 8</b><br>Words: stars, 14, 12, 18, 17",
          "<b>Topic 8</b><br>Words: polisher, speculum, pitch, polishing, shaft",
          "<b>Topic 8</b><br>Words: corona, totality, eclipse, solar, lines"
         ],
         "marker": {
          "color": "#56B4E9"
         },
         "mode": "lines",
         "name": "8_stars_obs_star_diff",
         "type": "scatter",
         "x": [
          "1789-09-19T16:19:12",
          "1796-08-21T03:50:24",
          "1803-07-24T15:21:36",
          "1810-06-25T02:52:48",
          "1817-05-26T14:24:00",
          "1824-04-27T01:55:12",
          "1831-03-29T13:26:24",
          "1838-02-28T00:57:36",
          "1845-01-29T12:28:48",
          "1852-01-01T00:00:00",
          "1858-12-02T11:31:12",
          "1865-11-02T23:02:24",
          "1872-10-04T10:33:36",
          "1879-09-05T22:04:48"
         ],
         "y": [
          5,
          11,
          14,
          17,
          18,
          30,
          9,
          2,
          3,
          1,
          4,
          5,
          1,
          2
         ]
        },
        {
         "hoverinfo": "text",
         "hovertext": [
          "<b>Topic 9</b><br>Words: brain, cortex, spatial, data, hippocampus",
          "<b>Topic 9</b><br>Words: network, neurons, brain, functional, neuronal",
          "<b>Topic 9</b><br>Words: brain, activity, grid, neurons, network",
          "<b>Topic 9</b><br>Words: sleep, brain, memory, activity, fmri"
         ],
         "marker": {
          "color": "#009E73"
         },
         "mode": "lines",
         "name": "9_brain_activity_neurons_cortex",
         "type": "scatter",
         "x": [
          "1997-04-27T01:55:12",
          "2004-03-28T13:26:24",
          "2011-02-28T00:57:36",
          "2018-01-29T12:28:48"
         ],
         "y": [
          6,
          7,
          63,
          40
         ]
        },
        {
         "hoverinfo": "text",
         "hovertext": [
          "<b>Topic 10</b><br>Words: horizon, ditance, etimate, imagination, ditances",
          "<b>Topic 10</b><br>Words: arch, ris, sun, iris, afhgc",
          "<b>Topic 10</b><br>Words: sun, een, aw, zenith, suns",
          "<b>Topic 10</b><br>Words: sun, eclipe, 1706, een, moon",
          "<b>Topic 10</b><br>Words: meteor, aurora, horizon, een, sun",
          "<b>Topic 10</b><br>Words: horizon, arch, aurora, zenith, degrees",
          "<b>Topic 10</b><br>Words: aurora, horizon, meteor, zenith, deg",
          "<b>Topic 10</b><br>Words: sun, aurora, arch, horizon, stones",
          "<b>Topic 10</b><br>Words: aurora, 17389, autralis, horizon, zenith",
          "<b>Topic 10</b><br>Words: aurora, borealis, arch, ome, sun",
          "<b>Topic 10</b><br>Words: meteor, aurora, een, anthelion, pringle",
          "<b>Topic 10</b><br>Words: meteor, arch, een, john, aurora",
          "<b>Topic 10</b><br>Words: aurora, borealis, meteor, horizon, 1769",
          "<b>Topic 10</b><br>Words: luminous, arch, ecliped, aurora, dene",
          "<b>Topic 10</b><br>Words: meteor, horizon, meteors, aurora, luminous",
          "<b>Topic 10</b><br>Words: arch, aurora, arches, borealis, luminous",
          "<b>Topic 10</b><br>Words: eclipse, sun, moon, eclipsed, semidiameter",
          "<b>Topic 10</b><br>Words: aurora, arch, zenith, streamers, borealis",
          "<b>Topic 10</b><br>Words: arch, cloud, aurora, light, pencils",
          "<b>Topic 10</b><br>Words: aurora, streamers, meteor, arch, bokkeveld",
          "<b>Topic 10</b><br>Words: disturbance, magnetic, force, september, declination"
         ],
         "marker": {
          "color": "#F0E442"
         },
         "mode": "lines",
         "name": "10_aurora_arch_meteor_horizon",
         "type": "scatter",
         "x": [
          "1685-12-01T11:31:12",
          "1692-11-01T23:02:24",
          "1699-10-04T10:33:36",
          "1706-09-05T22:04:48",
          "1713-08-07T09:36:00",
          "1720-07-08T21:07:12",
          "1727-06-10T08:38:24",
          "1734-05-11T20:09:36",
          "1741-04-12T07:40:48",
          "1748-03-13T19:12:00",
          "1755-02-13T06:43:12",
          "1762-01-14T18:14:24",
          "1768-12-16T05:45:36",
          "1775-11-17T17:16:48",
          "1782-10-19T04:48:00",
          "1789-09-19T16:19:12",
          "1810-06-25T02:52:48",
          "1824-04-27T01:55:12",
          "1831-03-29T13:26:24",
          "1838-02-28T00:57:36",
          "1858-12-02T11:31:12"
         ],
         "y": [
          1,
          1,
          4,
          4,
          14,
          16,
          11,
          10,
          5,
          9,
          6,
          6,
          4,
          1,
          7,
          6,
          1,
          2,
          1,
          5,
          1
         ]
        },
        {
         "hoverinfo": "text",
         "hovertext": [
          "<b>Topic 11</b><br>Words: malt, hath, tree, saffron, ome",
          "<b>Topic 11</b><br>Words: bark, increaed, joynt, tree, bignes",
          "<b>Topic 11</b><br>Words: juice, ome, thee, seeds, plant",
          "<b>Topic 11</b><br>Words: bark, seed, veels, ome, tree",
          "<b>Topic 11</b><br>Words: bark, particles, brandy, china, ome",
          "<b>Topic 11</b><br>Words: plant, ome, thee, tartars, root",
          "<b>Topic 11</b><br>Words: folio, ome, everal, foliis, feather",
          "<b>Topic 11</b><br>Words: cinnamon, bark, tree, sort, trees",
          "<b>Topic 11</b><br>Words: bark, tree, thee, loxa, lacertus",
          "<b>Topic 11</b><br>Words: seeds, muhrooms, seed, ome, pod",
          "<b>Topic 11</b><br>Words: ome, thee, bark, cinnamon, mot",
          "<b>Topic 11</b><br>Words: plant, syn, helv, foliis, gen",
          "<b>Topic 11</b><br>Words: bark, eeds, ome, tree, thee",
          "<b>Topic 11</b><br>Words: chenut, tree, trees, ome, woods",
          "<b>Topic 11</b><br>Words: iland, trees, ome, tree, thee",
          "<b>Topic 11</b><br>Words: bark, petiolus, hemp, leaves, leaf",
          "<b>Topic 11</b><br>Words: boutan, thibet, ants, dieae, lac",
          "<b>Topic 11</b><br>Words: magnesia, lime, magnesian, limestone, grains",
          "<b>Topic 11</b><br>Words: corn, taint, grain, musty, tainted",
          "<b>Topic 11</b><br>Words: poison, malldye, upas, ipoh, arrow",
          "<b>Topic 11</b><br>Words: casca, injection, experiment, action, bloodpressure",
          "<b>Topic 11</b><br>Words: mascarene, rodriguez, island, species, plants"
         ],
         "marker": {
          "color": "#D55E00"
         },
         "mode": "lines",
         "name": "11_bark_ome_plant_tree",
         "type": "scatter",
         "x": [
          "1678-08-26T15:01:26.400000",
          "1685-12-01T11:31:12",
          "1692-11-01T23:02:24",
          "1699-10-04T10:33:36",
          "1706-09-05T22:04:48",
          "1713-08-07T09:36:00",
          "1720-07-08T21:07:12",
          "1727-06-10T08:38:24",
          "1734-05-11T20:09:36",
          "1741-04-12T07:40:48",
          "1748-03-13T19:12:00",
          "1755-02-13T06:43:12",
          "1762-01-14T18:14:24",
          "1768-12-16T05:45:36",
          "1775-11-17T17:16:48",
          "1782-10-19T04:48:00",
          "1789-09-19T16:19:12",
          "1796-08-21T03:50:24",
          "1817-05-26T14:24:00",
          "1831-03-29T13:26:24",
          "1872-10-04T10:33:36",
          "1879-09-05T22:04:48"
         ],
         "y": [
          3,
          3,
          11,
          18,
          3,
          4,
          6,
          5,
          3,
          8,
          7,
          8,
          3,
          15,
          5,
          4,
          2,
          1,
          1,
          1,
          1,
          1
         ]
        },
        {
         "hoverinfo": "text",
         "hovertext": [
          "<b>Topic 12</b><br>Words: ome, thee, thoe, animals, mall",
          "<b>Topic 12</b><br>Words: ome, thee, bernacle, worm, neer",
          "<b>Topic 12</b><br>Words: thee, ome, thoe, muick, mall",
          "<b>Topic 12</b><br>Words: thee, ome, thoe, spider, spiders",
          "<b>Topic 12</b><br>Words: teticles, ram, thee, shell, ome",
          "<b>Topic 12</b><br>Words: sheath, aid, ome, motion, thoe",
          "<b>Topic 12</b><br>Words: mooe, deer, forth, thee, indians",
          "<b>Topic 12</b><br>Words: mooe, ome, deer, horns, beetle",
          "<b>Topic 12</b><br>Words: ome, thee, thoe, ame, like",
          "<b>Topic 12</b><br>Words: thee, ome, thoe, pecies, mall",
          "<b>Topic 12</b><br>Words: thee, ome, pecies, animal, feelers",
          "<b>Topic 12</b><br>Words: belemnite, thee, ponge, animal, ome",
          "<b>Topic 12</b><br>Words: thee, thoe, ome, pecies, fih",
          "<b>Topic 12</b><br>Words: exes, pheaant, thoe, pecies, econdary",
          "<b>Topic 12</b><br>Words: ome, whale, thee, thoe, animal",
          "<b>Topic 12</b><br>Words: venomous, serpents, pecies, fangs, clas",
          "<b>Topic 12</b><br>Words: quagga, colt, filly, breed, boar"
         ],
         "marker": {
          "color": "#0072B2"
         },
         "mode": "lines",
         "name": "12_thee_ome_thoe_mall",
         "type": "scatter",
         "x": [
          "1678-08-26T15:01:26.400000",
          "1685-12-01T11:31:12",
          "1692-11-01T23:02:24",
          "1699-10-04T10:33:36",
          "1706-09-05T22:04:48",
          "1713-08-07T09:36:00",
          "1720-07-08T21:07:12",
          "1734-05-11T20:09:36",
          "1741-04-12T07:40:48",
          "1748-03-13T19:12:00",
          "1755-02-13T06:43:12",
          "1762-01-14T18:14:24",
          "1768-12-16T05:45:36",
          "1775-11-17T17:16:48",
          "1782-10-19T04:48:00",
          "1789-09-19T16:19:12",
          "1817-05-26T14:24:00"
         ],
         "y": [
          8,
          3,
          13,
          14,
          3,
          1,
          1,
          2,
          12,
          14,
          8,
          6,
          8,
          2,
          6,
          2,
          2
         ]
        },
        {
         "hoverinfo": "text",
         "hovertext": [
          "<b>Topic 13</b><br>Words: earthquake, ome, earthquakes, felt, uch",
          "<b>Topic 13</b><br>Words: earthquake, felt, houes, ome, heard",
          "<b>Topic 13</b><br>Words: earthquake, felt, ome, concerning, account",
          "<b>Topic 13</b><br>Words: earthquake, smallpox, felt, inoculated, meales",
          "<b>Topic 13</b><br>Words: earthquake, felt, ome, shock, earth",
          "<b>Topic 13</b><br>Words: earthquake, shock, loud, noie, houes",
          "<b>Topic 13</b><br>Words: earthquake, felt, shock, noie, ome",
          "<b>Topic 13</b><br>Words: earthquake, felt, earthquakes, ome, hock",
          "<b>Topic 13</b><br>Words: earthquake, felt, cubits, houe, houes",
          "<b>Topic 13</b><br>Words: vime, hock, earthquake, felt, macao",
          "<b>Topic 13</b><br>Words: earthquake, felt, hock, noie, houe",
          "<b>Topic 13</b><br>Words: felt, earthquake, cartmeal, hock, rumbling",
          "<b>Topic 13</b><br>Words: felt, earthquake, turnor, heard, shock",
          "<b>Topic 13</b><br>Words: earthquake, felt, earthquakes, shock, heard",
          "<b>Topic 13</b><br>Words: earthquake, concepcion, shock, chile, caldcleugh"
         ],
         "marker": {
          "color": "#CC79A7"
         },
         "mode": "lines",
         "name": "13_earthquake_felt_ome_earthquakes",
         "type": "scatter",
         "x": [
          "1678-08-26T15:01:26.400000",
          "1692-11-01T23:02:24",
          "1699-10-04T10:33:36",
          "1727-06-10T08:38:24",
          "1734-05-11T20:09:36",
          "1741-04-12T07:40:48",
          "1748-03-13T19:12:00",
          "1755-02-13T06:43:12",
          "1762-01-14T18:14:24",
          "1768-12-16T05:45:36",
          "1775-11-17T17:16:48",
          "1782-10-19T04:48:00",
          "1789-09-19T16:19:12",
          "1796-08-21T03:50:24",
          "1831-03-29T13:26:24"
         ],
         "y": [
          1,
          3,
          2,
          2,
          4,
          2,
          55,
          23,
          5,
          1,
          2,
          2,
          1,
          1,
          1
         ]
        },
        {
         "hoverinfo": "text",
         "hovertext": [
          "<b>Topic 14</b><br>Words: sterilized, germs, plugged, bacteria, bulbs",
          "<b>Topic 14</b><br>Words: gelatine, broth, sewage, days, organism",
          "<b>Topic 14</b><br>Words: rods, cultures, gelatine, spores, growth",
          "<b>Topic 14</b><br>Words: vivo, bacterial, virulence, host, pathogenicity",
          "<b>Topic 14</b><br>Words: clusters, bacterial, strains, trojan, bacteria",
          "<b>Topic 14</b><br>Words: gut, microbiota, bacterial, bacteria, microbial",
          "<b>Topic 14</b><br>Words: microbial, bacterial, plasmid, microbiome, plasmids"
         ],
         "marker": {
          "color": "#E69F00"
         },
         "mode": "lines",
         "name": "14_microbial_bacterial_gut_plasmid",
         "type": "scatter",
         "x": [
          "1872-10-04T10:33:36",
          "1886-08-07T09:36:00",
          "1893-07-08T21:07:12",
          "1997-04-27T01:55:12",
          "2004-03-28T13:26:24",
          "2011-02-28T00:57:36",
          "2018-01-29T12:28:48"
         ],
         "y": [
          1,
          1,
          1,
          1,
          6,
          24,
          71
         ]
        },
        {
         "hoverinfo": "text",
         "hovertext": [
          "<b>Topic 15</b><br>Words: mather, thunder, lightning, lad, compaes",
          "<b>Topic 15</b><br>Words: winds, air, lightning, ome, vapours",
          "<b>Topic 15</b><br>Words: lightning, ome, hail, thunder, storm",
          "<b>Topic 15</b><br>Words: lightning, ome, great, storm, thunder",
          "<b>Topic 15</b><br>Words: lightning, thunder, ome, houe, storm",
          "<b>Topic 15</b><br>Words: lady, he, lightning, thunder, ome",
          "<b>Topic 15</b><br>Words: houe, wounds, terrible, lightning, he",
          "<b>Topic 15</b><br>Words: mercury, rain, weather, thunder, ome",
          "<b>Topic 15</b><br>Words: lightning, thunder, houe, storm, upon",
          "<b>Topic 15</b><br>Words: lightning, thunder, houe, ome, ame",
          "<b>Topic 15</b><br>Words: lightning, mut, ome, houe, fire",
          "<b>Topic 15</b><br>Words: hip, mat, thunder, lightning, lightening",
          "<b>Topic 15</b><br>Words: lightning, houe, thunder, church, ome",
          "<b>Topic 15</b><br>Words: lightning, purfleet, cylinder, accident, wire",
          "<b>Topic 15</b><br>Words: lightning, cart, troke, returning, drain",
          "<b>Topic 15</b><br>Words: lightning, tree, quartzoe, fuion, hollow"
         ],
         "marker": {
          "color": "#56B4E9"
         },
         "mode": "lines",
         "name": "15_lightning_thunder_ome_houe",
         "type": "scatter",
         "x": [
          "1678-08-26T15:01:26.400000",
          "1685-12-01T11:31:12",
          "1692-11-01T23:02:24",
          "1699-10-04T10:33:36",
          "1706-09-05T22:04:48",
          "1720-07-08T21:07:12",
          "1727-06-10T08:38:24",
          "1734-05-11T20:09:36",
          "1741-04-12T07:40:48",
          "1748-03-13T19:12:00",
          "1755-02-13T06:43:12",
          "1762-01-14T18:14:24",
          "1768-12-16T05:45:36",
          "1775-11-17T17:16:48",
          "1782-10-19T04:48:00",
          "1789-09-19T16:19:12"
         ],
         "y": [
          2,
          4,
          14,
          6,
          8,
          1,
          1,
          7,
          9,
          14,
          10,
          7,
          4,
          3,
          3,
          1
         ]
        },
        {
         "hoverinfo": "text",
         "hovertext": [
          "<b>Topic 16</b><br>Words: gales, weather, cloudy, fair, mall",
          "<b>Topic 16</b><br>Words: cloudy, fair, rain, fine, winds",
          "<b>Topic 16</b><br>Words: cloudy, fine, fair, rain, upale",
          "<b>Topic 16</b><br>Words: cloudy, tourn, park, fine, fair",
          "<b>Topic 16</b><br>Words: cy, 29, rn, cloudy, cd",
          "<b>Topic 16</b><br>Words: day, wind, ditto, sunhiny, overcat",
          "<b>Topic 16</b><br>Words: ditto, wind, cloudy, brik, hazy",
          "<b>Topic 16</b><br>Words: fair, cloudy, fine, sw, rain",
          "<b>Topic 16</b><br>Words: cloudy, fine, sw, wsw, nw",
          "<b>Topic 16</b><br>Words: cloudy, fair, fine, sw, wnw",
          "<b>Topic 16</b><br>Words: cloudy, fair, therm, fine, rain",
          "<b>Topic 16</b><br>Words: cloudy, fair, therm, fine, rain",
          "<b>Topic 16</b><br>Words: cloudy, fine, fair, therm, rain",
          "<b>Topic 16</b><br>Words: cloudy, fine, therm, rain, hazy",
          "<b>Topic 16</b><br>Words: cloudy, fine, rain, fair, wind",
          "<b>Topic 16</b><br>Words: cloudy, fine, rain, pm, wind",
          "<b>Topic 16</b><br>Words: cloudy, fine, winds, fair, rain"
         ],
         "marker": {
          "color": "#009E73"
         },
         "mode": "lines",
         "name": "16_cloudy_fine_fair_rain",
         "type": "scatter",
         "x": [
          "1699-10-04T10:33:36",
          "1727-06-10T08:38:24",
          "1734-05-11T20:09:36",
          "1741-04-12T07:40:48",
          "1755-02-13T06:43:12",
          "1762-01-14T18:14:24",
          "1768-12-16T05:45:36",
          "1775-11-17T17:16:48",
          "1782-10-19T04:48:00",
          "1789-09-19T16:19:12",
          "1796-08-21T03:50:24",
          "1803-07-24T15:21:36",
          "1810-06-25T02:52:48",
          "1817-05-26T14:24:00",
          "1824-04-27T01:55:12",
          "1831-03-29T13:26:24",
          "1872-10-04T10:33:36"
         ],
         "y": [
          4,
          5,
          2,
          1,
          2,
          1,
          2,
          11,
          2,
          7,
          7,
          7,
          7,
          7,
          10,
          6,
          2
         ]
        },
        {
         "hoverinfo": "text",
         "hovertext": [
          "<b>Topic 17</b><br>Words: language, acquisition, dissolution, grammatical, impairments",
          "<b>Topic 17</b><br>Words: 2003, imitation, doi, 358, mentalizing",
          "<b>Topic 17</b><br>Words: words, word, learning, language, semantic",
          "<b>Topic 17</b><br>Words: language, learning, word, words, speech",
          "<b>Topic 17</b><br>Words: language, concepts, abstract, words, word"
         ],
         "marker": {
          "color": "#F0E442"
         },
         "mode": "lines",
         "name": "17_language_words_word_concepts",
         "type": "scatter",
         "x": [
          "1990-05-26T14:24:00",
          "1997-04-27T01:55:12",
          "2004-03-28T13:26:24",
          "2011-02-28T00:57:36",
          "2018-01-29T12:28:48"
         ],
         "y": [
          1,
          2,
          4,
          30,
          40
         ]
        },
        {
         "hoverinfo": "text",
         "hovertext": [
          "<b>Topic 18</b><br>Words: fins, malays, fish, bonna, chetodon",
          "<b>Topic 18</b><br>Words: paradoxus, rectum, animal, inch, penis",
          "<b>Topic 18</b><br>Words: teredo, squalus, navalis, gigantea, shell",
          "<b>Topic 18</b><br>Words: squalus, fishes, oviduct, maximus, ova",
          "<b>Topic 18</b><br>Words: shell, argonauta, nidus, ocythoe, sepia",
          "<b>Topic 18</b><br>Words: molecricket, kipp, fig, ova, extremity",
          "<b>Topic 18</b><br>Words: shells, shell, operculum, tongue, genus",
          "<b>Topic 18</b><br>Words: tongue, animalcules, thornback, organs, fluid",
          "<b>Topic 18</b><br>Words: salpa, pyrosoma, cavity, inner, tentacles",
          "<b>Topic 18</b><br>Words: cephalous, ganglia, eggs, mollusca, mantle",
          "<b>Topic 18</b><br>Words: sturgeon, fin, plate, carapax, anterior",
          "<b>Topic 18</b><br>Words: plate, antedon, fig, anterior, yelk",
          "<b>Topic 18</b><br>Words: bipalium, fig, muscular, plate, cavity",
          "<b>Topic 18</b><br>Words: cartilage, plate, fig, section, front",
          "<b>Topic 18</b><br>Words: hyomandibula, quadrate, hyoid, cartilage, mandible",
          "<b>Topic 18</b><br>Words: airbladder, anterior, vertebra, dorsal, lateral",
          "<b>Topic 18</b><br>Words: rubens, starfish, axial, canal, asterias",
          "<b>Topic 18</b><br>Words: cartilage, skull, anterior, fig, fishes",
          "<b>Topic 18</b><br>Words: airchamber, airbreathing, fish, anabas, clarias",
          "<b>Topic 18</b><br>Words: fin, acanthodian, anterior, dorsal, bone",
          "<b>Topic 18</b><br>Words: mantle, cavity, ctenidium, ctenidia, pallial",
          "<b>Topic 18</b><br>Words: siphons, anterior, coranguinum, micraster, posterior",
          "<b>Topic 18</b><br>Words: platypus, platypuses, obdurodon, woodburne, newcastleupontyne",
          "<b>Topic 18</b><br>Words: 4049, shark, doi101098rstb20000653, in0025, hemiscyllium",
          "<b>Topic 18</b><br>Words: manton, embryology, crustacean, sidnie, crustaceans"
         ],
         "marker": {
          "color": "#D55E00"
         },
         "mode": "lines",
         "name": "18_anterior_fig_plate_dorsal",
         "type": "scatter",
         "x": [
          "1789-09-19T16:19:12",
          "1796-08-21T03:50:24",
          "1803-07-24T15:21:36",
          "1810-06-25T02:52:48",
          "1817-05-26T14:24:00",
          "1824-04-27T01:55:12",
          "1831-03-29T13:26:24",
          "1838-02-28T00:57:36",
          "1845-01-29T12:28:48",
          "1852-01-01T00:00:00",
          "1858-12-02T11:31:12",
          "1865-11-02T23:02:24",
          "1872-10-04T10:33:36",
          "1879-09-05T22:04:48",
          "1886-08-07T09:36:00",
          "1893-07-08T21:07:12",
          "1914-04-13T07:40:48",
          "1921-03-14T19:12:00",
          "1928-02-14T06:43:12",
          "1935-01-15T18:14:24",
          "1941-12-17T05:45:36",
          "1948-11-17T17:16:48",
          "1997-04-27T01:55:12",
          "2004-03-28T13:26:24",
          "2011-02-28T00:57:36"
         ],
         "y": [
          1,
          5,
          2,
          4,
          3,
          4,
          7,
          2,
          3,
          5,
          2,
          5,
          5,
          7,
          2,
          2,
          1,
          5,
          1,
          2,
          2,
          4,
          1,
          1,
          1
         ]
        },
        {
         "hoverinfo": "text",
         "hovertext": [
          "<b>Topic 19</b><br>Words: sun, limb, eclipe, heathcot, suns",
          "<b>Topic 19</b><br>Words: eclipe, moon, sun, limb, obervation",
          "<b>Topic 19</b><br>Words: sun, spot, limb, econds, polestar",
          "<b>Topic 19</b><br>Words: eclipe, moons, moon, clapers, penumbra",
          "<b>Topic 19</b><br>Words: sun, mercury, eclipe, limb, obervation",
          "<b>Topic 19</b><br>Words: sun, immerged, eclipe, quadrant, altitude",
          "<b>Topic 19</b><br>Words: eclipe, sun, moon, annular, limb",
          "<b>Topic 19</b><br>Words: sun, mercury, eclipe, tranit, limb",
          "<b>Topic 19</b><br>Words: moons, golden, eclipe, moon, sun",
          "<b>Topic 19</b><br>Words: limb, moon, eclipe, clock, 1762",
          "<b>Topic 19</b><br>Words: eclipe, sun, moon, limb, hade",
          "<b>Topic 19</b><br>Words: sun, limb, eclipe, clock, econds",
          "<b>Topic 19</b><br>Words: eclipe, sun, leiceter, caffiopea, immerion",
          "<b>Topic 19</b><br>Words: declination, mercury, obervation, tauri, sun"
         ],
         "marker": {
          "color": "#0072B2"
         },
         "mode": "lines",
         "name": "19_sun_eclipe_limb_moon",
         "type": "scatter",
         "x": [
          "1678-08-26T15:01:26.400000",
          "1685-12-01T11:31:12",
          "1699-10-04T10:33:36",
          "1706-09-05T22:04:48",
          "1720-07-08T21:07:12",
          "1727-06-10T08:38:24",
          "1734-05-11T20:09:36",
          "1741-04-12T07:40:48",
          "1748-03-13T19:12:00",
          "1755-02-13T06:43:12",
          "1762-01-14T18:14:24",
          "1768-12-16T05:45:36",
          "1775-11-17T17:16:48",
          "1782-10-19T04:48:00"
         ],
         "y": [
          2,
          5,
          3,
          1,
          5,
          4,
          8,
          6,
          8,
          3,
          8,
          11,
          3,
          5
         ]
        },
        {
         "hoverinfo": "text",
         "hovertext": [
          "<b>Topic 20</b><br>Words: doubler, electricity, air, effluvium, electrified",
          "<b>Topic 20</b><br>Words: ou, de, gaz, la, les",
          "<b>Topic 20</b><br>Words: battery, plates, wire, conductors, voltaic",
          "<b>Topic 20</b><br>Words: battery, platina, flame, ignited, positive",
          "<b>Topic 20</b><br>Words: electricity, wire, platinum, electrical, vacuum",
          "<b>Topic 20</b><br>Words: mercury, electric, wire, electricity, copper",
          "<b>Topic 20</b><br>Words: electricity, battery, current, platina, zinc",
          "<b>Topic 20</b><br>Words: electricity, current, battery, discharge, voltaic",
          "<b>Topic 20</b><br>Words: voltaic, platinum, wire, battery, hydrogen",
          "<b>Topic 20</b><br>Words: current, copper, conductor, iron, metals",
          "<b>Topic 20</b><br>Words: conductingpower, conducting, wire, ditto, copper",
          "<b>Topic 20</b><br>Words: disk, electromagnetic, current, force, electric",
          "<b>Topic 20</b><br>Words: coil, coils, battery, charge, charged",
          "<b>Topic 20</b><br>Words: battery, current, wire, resistance, discharge"
         ],
         "marker": {
          "color": "#CC79A7"
         },
         "mode": "lines",
         "name": "20_electricity_current_battery_wire",
         "type": "scatter",
         "x": [
          "1789-09-19T16:19:12",
          "1796-08-21T03:50:24",
          "1803-07-24T15:21:36",
          "1810-06-25T02:52:48",
          "1817-05-26T14:24:00",
          "1824-04-27T01:55:12",
          "1831-03-29T13:26:24",
          "1838-02-28T00:57:36",
          "1845-01-29T12:28:48",
          "1852-01-01T00:00:00",
          "1858-12-02T11:31:12",
          "1865-11-02T23:02:24",
          "1872-10-04T10:33:36",
          "1879-09-05T22:04:48"
         ],
         "y": [
          1,
          4,
          1,
          2,
          2,
          4,
          13,
          17,
          5,
          2,
          4,
          1,
          3,
          11
         ]
        },
        {
         "hoverinfo": "text",
         "hovertext": [
          "<b>Topic 21</b><br>Words: stone, bladder, urine, ome, salt",
          "<b>Topic 21</b><br>Words: sights, stone, bladder, obervations, himelf",
          "<b>Topic 21</b><br>Words: stone, ad, bladder, margo, obliquum",
          "<b>Topic 21</b><br>Words: bladder, stone, stones, urine, ome",
          "<b>Topic 21</b><br>Words: stones, bladder, kidney, indurate, stone",
          "<b>Topic 21</b><br>Words: bullace, stones, bur, ro, stomach",
          "<b>Topic 21</b><br>Words: stone, bladder, wound, penis, catheter",
          "<b>Topic 21</b><br>Words: stone, bladder, fitula, operation, he",
          "<b>Topic 21</b><br>Words: bladder, stone, bile, cytis, gallbladder",
          "<b>Topic 21</b><br>Words: stone, bladder, stones, urine, ome",
          "<b>Topic 21</b><br>Words: stone, bladder, forceps, inciion, operation",
          "<b>Topic 21</b><br>Words: bladder, tones, urethra, urine, thee",
          "<b>Topic 21</b><br>Words: urine, wound, ymptoms, nephritic, dicharge",
          "<b>Topic 21</b><br>Words: bladder, stone, calculus, urine, earle",
          "<b>Topic 21</b><br>Words: urethra, catheter, bladder, urine, stone"
         ],
         "marker": {
          "color": "#E69F00"
         },
         "mode": "lines",
         "name": "21_stone_bladder_stones_urine",
         "type": "scatter",
         "x": [
          "1678-08-26T15:01:26.400000",
          "1685-12-01T11:31:12",
          "1692-11-01T23:02:24",
          "1699-10-04T10:33:36",
          "1706-09-05T22:04:48",
          "1713-08-07T09:36:00",
          "1720-07-08T21:07:12",
          "1727-06-10T08:38:24",
          "1734-05-11T20:09:36",
          "1741-04-12T07:40:48",
          "1748-03-13T19:12:00",
          "1755-02-13T06:43:12",
          "1768-12-16T05:45:36",
          "1803-07-24T15:21:36",
          "1817-05-26T14:24:00"
         ],
         "y": [
          2,
          6,
          7,
          9,
          2,
          1,
          2,
          6,
          4,
          19,
          4,
          3,
          1,
          1,
          2
         ]
        },
        {
         "hoverinfo": "text",
         "hovertext": [
          "<b>Topic 22</b><br>Words: roman, ome, foot, upon, uch",
          "<b>Topic 22</b><br>Words: saxon, ome, mony, thee, coyns",
          "<b>Topic 22</b><br>Words: roman, incription, old, ome, thee",
          "<b>Topic 22</b><br>Words: roman, thee, catacombs, ome, ame",
          "<b>Topic 22</b><br>Words: roman, ome, monuments, name, barn",
          "<b>Topic 22</b><br>Words: carteia, calpe, ruins, roman, livy",
          "<b>Topic 22</b><br>Words: roman, ome, foot, thee, upon",
          "<b>Topic 22</b><br>Words: foot, roman, thee, ome, greek",
          "<b>Topic 22</b><br>Words: roman, thee, ome, weighton, miles",
          "<b>Topic 22</b><br>Words: thee, ome, roman, everal, feet",
          "<b>Topic 22</b><br>Words: meaure, foot, roman, feet, thee",
          "<b>Topic 22</b><br>Words: pevets, friftion, pound, leaver, power",
          "<b>Topic 22</b><br>Words: roman, thee, appian, prenomen, ome",
          "<b>Topic 22</b><br>Words: vulcanic, hills, columns, monte, velay"
         ],
         "marker": {
          "color": "#56B4E9"
         },
         "mode": "lines",
         "name": "22_roman_thee_foot_ome",
         "type": "scatter",
         "x": [
          "1678-08-26T15:01:26.400000",
          "1685-12-01T11:31:12",
          "1692-11-01T23:02:24",
          "1699-10-04T10:33:36",
          "1706-09-05T22:04:48",
          "1713-08-07T09:36:00",
          "1727-06-10T08:38:24",
          "1734-05-11T20:09:36",
          "1741-04-12T07:40:48",
          "1748-03-13T19:12:00",
          "1755-02-13T06:43:12",
          "1762-01-14T18:14:24",
          "1768-12-16T05:45:36",
          "1775-11-17T17:16:48"
         ],
         "y": [
          6,
          3,
          4,
          8,
          2,
          3,
          3,
          5,
          7,
          10,
          12,
          1,
          3,
          2
         ]
        },
        {
         "hoverinfo": "text",
         "hovertext": [
          "<b>Topic 23</b><br>Words: marl, tones, ome, marle, hellike",
          "<b>Topic 23</b><br>Words: lake, bogs, ome, thee, bog",
          "<b>Topic 23</b><br>Words: ome, river, thee, pillars, everal",
          "<b>Topic 23</b><br>Words: ome, river, thee, trees, great",
          "<b>Topic 23</b><br>Words: ome, trees, shells, miles, acres",
          "<b>Topic 23</b><br>Words: ome, lough, urns, ground, thee",
          "<b>Topic 23</b><br>Words: river, foot, falls, thee, marle",
          "<b>Topic 23</b><br>Words: ground, unk, doorcaes, kent, raied",
          "<b>Topic 23</b><br>Words: sect, thee, ome, hemicrania, wood",
          "<b>Topic 23</b><br>Words: ome, thee, wood, stone, lake",
          "<b>Topic 23</b><br>Words: caueway, pillars, thee, ome, cliff",
          "<b>Topic 23</b><br>Words: chanel, fall, river, furze, pillars",
          "<b>Topic 23</b><br>Words: eden, decreae, lordhip, trouts, river",
          "<b>Topic 23</b><br>Words: tokay, wine, limb, aupruch, volga",
          "<b>Topic 23</b><br>Words: ganges, river, coure, rivers, burrampooter",
          "<b>Topic 23</b><br>Words: trinidad, urface, mountains, iland, ome"
         ],
         "marker": {
          "color": "#009E73"
         },
         "mode": "lines",
         "name": "23_ome_river_thee_lake",
         "type": "scatter",
         "x": [
          "1678-08-26T15:01:26.400000",
          "1685-12-01T11:31:12",
          "1692-11-01T23:02:24",
          "1699-10-04T10:33:36",
          "1706-09-05T22:04:48",
          "1713-08-07T09:36:00",
          "1720-07-08T21:07:12",
          "1727-06-10T08:38:24",
          "1734-05-11T20:09:36",
          "1741-04-12T07:40:48",
          "1748-03-13T19:12:00",
          "1755-02-13T06:43:12",
          "1762-01-14T18:14:24",
          "1768-12-16T05:45:36",
          "1775-11-17T17:16:48",
          "1789-09-19T16:19:12"
         ],
         "y": [
          1,
          6,
          9,
          11,
          4,
          5,
          5,
          1,
          2,
          8,
          3,
          5,
          1,
          4,
          2,
          1
         ]
        },
        {
         "hoverinfo": "text",
         "hovertext": [
          "<b>Topic 24</b><br>Words: pigment, pigmentary, concentration, dark, frog",
          "<b>Topic 24</b><br>Words: turacin, pigment, copper, feathers, ash",
          "<b>Topic 24</b><br>Words: spectrum, tentacles, band, chart, pigment",
          "<b>Topic 24</b><br>Words: bands, spectrum, band, chlorophyll, chart",
          "<b>Topic 24</b><br>Words: pigment, chromatophores, yellow, skin, iridocytes",
          "<b>Topic 24</b><br>Words: chromatophores, hippolyte, pigment, pigments, macromysis",
          "<b>Topic 24</b><br>Words: melanophores, spots, nicotin, erythrophores, fish",
          "<b>Topic 24</b><br>Words: pigment, metridium, carotenoids, carotenoid, esters",
          "<b>Topic 24</b><br>Words: melanocytes, epidermis, skin, cells, branched",
          "<b>Topic 24</b><br>Words: aquatic, sensory, conference, underwater, tavolga",
          "<b>Topic 24</b><br>Words: phototaxis, photoreceptors, photoreceptor, opsins, light",
          "<b>Topic 24</b><br>Words: vision, colour, visual, light, photoreceptors",
          "<b>Topic 24</b><br>Words: colour, vision, visual, opsin, opsins"
         ],
         "marker": {
          "color": "#F0E442"
         },
         "mode": "lines",
         "name": "24_colour_vision_pigment_visual",
         "type": "scatter",
         "x": [
          "1858-12-02T11:31:12",
          "1865-11-02T23:02:24",
          "1879-09-05T22:04:48",
          "1886-08-07T09:36:00",
          "1893-07-08T21:07:12",
          "1900-06-10T08:38:24",
          "1921-03-14T19:12:00",
          "1941-12-17T05:45:36",
          "1948-11-17T17:16:48",
          "1997-04-27T01:55:12",
          "2004-03-28T13:26:24",
          "2011-02-28T00:57:36",
          "2018-01-29T12:28:48"
         ],
         "y": [
          1,
          1,
          1,
          2,
          2,
          2,
          1,
          1,
          1,
          1,
          5,
          35,
          15
         ]
        },
        {
         "hoverinfo": "text",
         "hovertext": [
          "<b>Topic 25</b><br>Words: orbitolites, disk, chambers, foraminifera, zones",
          "<b>Topic 25</b><br>Words: chambers, foraminifera, septal, spire, fig",
          "<b>Topic 25</b><br>Words: spicules, septa, labyrinthic, sarcode, arenaceous",
          "<b>Topic 25</b><br>Words: corallum, zooids, septa, corals, calicle",
          "<b>Topic 25</b><br>Words: kerguelen, island, specimens, 1876, species",
          "<b>Topic 25</b><br>Words: septa, septal, septum, corals, madreporarian",
          "<b>Topic 25</b><br>Words: ossicles, lapworthura, ambulacral, actinal, abactinal",
          "<b>Topic 25</b><br>Words: foraminifera, fig, shell, mesenteries, specimens",
          "<b>Topic 25</b><br>Words: terquem, lias, plate, bornemann, foraminifera",
          "<b>Topic 25</b><br>Words: amoebae, amoeba, leptostrobus, division, nuclear",
          "<b>Topic 25</b><br>Words: expedition, hebrides, chairman, southern, islands"
         ],
         "marker": {
          "color": "#D55E00"
         },
         "mode": "lines",
         "name": "25_septa_chambers_septal_specimens",
         "type": "scatter",
         "x": [
          "1852-01-01T00:00:00",
          "1858-12-02T11:31:12",
          "1865-11-02T23:02:24",
          "1872-10-04T10:33:36",
          "1879-09-05T22:04:48",
          "1893-07-08T21:07:12",
          "1907-05-12T20:09:36",
          "1914-04-13T07:40:48",
          "1941-12-17T05:45:36",
          "1948-11-17T17:16:48",
          "1969-08-22T03:50:24"
         ],
         "y": [
          2,
          2,
          3,
          3,
          43,
          2,
          1,
          2,
          1,
          3,
          1
         ]
        },
        {
         "hoverinfo": "text",
         "hovertext": [
          "<b>Topic 26</b><br>Words: society, public, appointed, meetings, transactions",
          "<b>Topic 26</b><br>Words: society, public, transactions, appointed, meetings",
          "<b>Topic 26</b><br>Words: society, public, appointed, meetings, papers",
          "<b>Topic 26</b><br>Words: society, public, secretaries, publication, papers",
          "<b>Topic 26</b><br>Words: society, public, secretaries, publication, appointed",
          "<b>Topic 26</b><br>Words: society, public, secretaries, publication, appointed",
          "<b>Topic 26</b><br>Words: society, public, secretaries, transactions, publication",
          "<b>Topic 26</b><br>Words: society, public, secretaries, transactions, publication",
          "<b>Topic 26</b><br>Words: society, public, transactions, secretaries, publication",
          "<b>Topic 26</b><br>Words: society, public, transactions, secretaries, publication",
          "<b>Topic 26</b><br>Words: society, public, transactions, secretaries, publication",
          "<b>Topic 26</b><br>Words: society, public, secretaries, transactions, publication",
          "<b>Topic 26</b><br>Words: society, public, secretaries, publication, transactions",
          "<b>Topic 26</b><br>Words: society, public, appointed, publication, transactions",
          "<b>Topic 26</b><br>Words: society, appointed, publication, public, secretaries"
         ],
         "marker": {
          "color": "#0072B2"
         },
         "mode": "lines",
         "name": "26_society_public_secretaries_transactio...",
         "type": "scatter",
         "x": [
          "1789-09-19T16:19:12",
          "1796-08-21T03:50:24",
          "1803-07-24T15:21:36",
          "1810-06-25T02:52:48",
          "1817-05-26T14:24:00",
          "1824-04-27T01:55:12",
          "1831-03-29T13:26:24",
          "1838-02-28T00:57:36",
          "1845-01-29T12:28:48",
          "1852-01-01T00:00:00",
          "1858-12-02T11:31:12",
          "1865-11-02T23:02:24",
          "1872-10-04T10:33:36",
          "1879-09-05T22:04:48",
          "1886-08-07T09:36:00"
         ],
         "y": [
          2,
          3,
          5,
          3,
          6,
          6,
          2,
          7,
          4,
          2,
          5,
          5,
          4,
          5,
          2
         ]
        },
        {
         "hoverinfo": "text",
         "hovertext": [
          "<b>Topic 27</b><br>Words: cultural, evolution, transmission, mesoudi, whiten",
          "<b>Topic 27</b><br>Words: cultural, innovation, innovations, culture, evolution",
          "<b>Topic 27</b><br>Words: cultural, culture, innovation, evolution, learning"
         ],
         "marker": {
          "color": "#CC79A7"
         },
         "mode": "lines",
         "name": "27_cultural_innovation_culture_evolution",
         "type": "scatter",
         "x": [
          "2004-03-28T13:26:24",
          "2011-02-28T00:57:36",
          "2018-01-29T12:28:48"
         ],
         "y": [
          2,
          22,
          33
         ]
        },
        {
         "hoverinfo": "text",
         "hovertext": [
          "<b>Topic 28</b><br>Words: virus, strain, strains, tobacco, potato",
          "<b>Topic 28</b><br>Words: 354, virus, ebv, harrison, 1999",
          "<b>Topic 28</b><br>Words: mutation, lethal, virus, mutagenesis, mutations",
          "<b>Topic 28</b><br>Words: virus, viral, infection, viruses, ebv",
          "<b>Topic 28</b><br>Words: virus, viral, hpv, cancer, infection"
         ],
         "marker": {
          "color": "#E69F00"
         },
         "mode": "lines",
         "name": "28_virus_viral_infection_viruses",
         "type": "scatter",
         "x": [
          "1935-01-15T18:14:24",
          "1997-04-27T01:55:12",
          "2004-03-28T13:26:24",
          "2011-02-28T00:57:36",
          "2018-01-29T12:28:48"
         ],
         "y": [
          1,
          5,
          2,
          26,
          22
         ]
        },
        {
         "hoverinfo": "text",
         "hovertext": [
          "<b>Topic 29</b><br>Words: paris, hopitals, eays, bills, city",
          "<b>Topic 29</b><br>Words: forreigners, chritned, lives, citizens, years",
          "<b>Topic 29</b><br>Words: dice, chances, lot, males, females",
          "<b>Topic 29</b><br>Words: buried, married, chritened, boys, born",
          "<b>Topic 29</b><br>Words: married, buried, boys, girls, chriftened",
          "<b>Topic 29</b><br>Words: chritenings, inhabitants, burials, number, years",
          "<b>Topic 29</b><br>Words: annuity, life, lives, value, years",
          "<b>Topic 29</b><br>Words: bills, years, burials, year, lives",
          "<b>Topic 29</b><br>Words: year, years, people, increae, burials",
          "<b>Topic 29</b><br>Words: ratio, probability, event, chance, greater",
          "<b>Topic 29</b><br>Words: burials, births, inhabitants, years, lives",
          "<b>Topic 29</b><br>Words: payable, annuity, yearly, year, value",
          "<b>Topic 29</b><br>Words: lives, value, years, year, ages",
          "<b>Topic 29</b><br>Words: lives, year, value, years, annuity",
          "<b>Topic 29</b><br>Words: lives, value, reversion, years, sum",
          "<b>Topic 29</b><br>Words: fluent, lives, value, contingency, contingencies",
          "<b>Topic 29</b><br>Words: lives, value, years, life, annuity"
         ],
         "marker": {
          "color": "#56B4E9"
         },
         "mode": "lines",
         "name": "29_lives_value_years_year",
         "type": "scatter",
         "x": [
          "1685-12-01T11:31:12",
          "1692-11-01T23:02:24",
          "1706-09-05T22:04:48",
          "1720-07-08T21:07:12",
          "1727-06-10T08:38:24",
          "1734-05-11T20:09:36",
          "1741-04-12T07:40:48",
          "1748-03-13T19:12:00",
          "1755-02-13T06:43:12",
          "1762-01-14T18:14:24",
          "1768-12-16T05:45:36",
          "1775-11-17T17:16:48",
          "1782-10-19T04:48:00",
          "1789-09-19T16:19:12",
          "1796-08-21T03:50:24",
          "1817-05-26T14:24:00",
          "1824-04-27T01:55:12"
         ],
         "y": [
          1,
          2,
          1,
          3,
          5,
          3,
          3,
          6,
          8,
          3,
          7,
          3,
          3,
          3,
          1,
          1,
          2
         ]
        }
       ],
       "layout": {
        "height": 450,
        "hoverlabel": {
         "bgcolor": "white",
         "font": {
          "family": "Rockwell",
          "size": 16
         }
        },
        "legend": {
         "title": {
          "text": "<b>Global Topic Representation"
         }
        },
        "template": {
         "data": {
          "bar": [
           {
            "error_x": {
             "color": "rgb(36,36,36)"
            },
            "error_y": {
             "color": "rgb(36,36,36)"
            },
            "marker": {
             "line": {
              "color": "white",
              "width": 0.5
             },
             "pattern": {
              "fillmode": "overlay",
              "size": 10,
              "solidity": 0.2
             }
            },
            "type": "bar"
           }
          ],
          "barpolar": [
           {
            "marker": {
             "line": {
              "color": "white",
              "width": 0.5
             },
             "pattern": {
              "fillmode": "overlay",
              "size": 10,
              "solidity": 0.2
             }
            },
            "type": "barpolar"
           }
          ],
          "carpet": [
           {
            "aaxis": {
             "endlinecolor": "rgb(36,36,36)",
             "gridcolor": "white",
             "linecolor": "white",
             "minorgridcolor": "white",
             "startlinecolor": "rgb(36,36,36)"
            },
            "baxis": {
             "endlinecolor": "rgb(36,36,36)",
             "gridcolor": "white",
             "linecolor": "white",
             "minorgridcolor": "white",
             "startlinecolor": "rgb(36,36,36)"
            },
            "type": "carpet"
           }
          ],
          "choropleth": [
           {
            "colorbar": {
             "outlinewidth": 1,
             "tickcolor": "rgb(36,36,36)",
             "ticks": "outside"
            },
            "type": "choropleth"
           }
          ],
          "contour": [
           {
            "colorbar": {
             "outlinewidth": 1,
             "tickcolor": "rgb(36,36,36)",
             "ticks": "outside"
            },
            "colorscale": [
             [
              0,
              "#440154"
             ],
             [
              0.1111111111111111,
              "#482878"
             ],
             [
              0.2222222222222222,
              "#3e4989"
             ],
             [
              0.3333333333333333,
              "#31688e"
             ],
             [
              0.4444444444444444,
              "#26828e"
             ],
             [
              0.5555555555555556,
              "#1f9e89"
             ],
             [
              0.6666666666666666,
              "#35b779"
             ],
             [
              0.7777777777777778,
              "#6ece58"
             ],
             [
              0.8888888888888888,
              "#b5de2b"
             ],
             [
              1,
              "#fde725"
             ]
            ],
            "type": "contour"
           }
          ],
          "contourcarpet": [
           {
            "colorbar": {
             "outlinewidth": 1,
             "tickcolor": "rgb(36,36,36)",
             "ticks": "outside"
            },
            "type": "contourcarpet"
           }
          ],
          "heatmap": [
           {
            "colorbar": {
             "outlinewidth": 1,
             "tickcolor": "rgb(36,36,36)",
             "ticks": "outside"
            },
            "colorscale": [
             [
              0,
              "#440154"
             ],
             [
              0.1111111111111111,
              "#482878"
             ],
             [
              0.2222222222222222,
              "#3e4989"
             ],
             [
              0.3333333333333333,
              "#31688e"
             ],
             [
              0.4444444444444444,
              "#26828e"
             ],
             [
              0.5555555555555556,
              "#1f9e89"
             ],
             [
              0.6666666666666666,
              "#35b779"
             ],
             [
              0.7777777777777778,
              "#6ece58"
             ],
             [
              0.8888888888888888,
              "#b5de2b"
             ],
             [
              1,
              "#fde725"
             ]
            ],
            "type": "heatmap"
           }
          ],
          "heatmapgl": [
           {
            "colorbar": {
             "outlinewidth": 1,
             "tickcolor": "rgb(36,36,36)",
             "ticks": "outside"
            },
            "colorscale": [
             [
              0,
              "#440154"
             ],
             [
              0.1111111111111111,
              "#482878"
             ],
             [
              0.2222222222222222,
              "#3e4989"
             ],
             [
              0.3333333333333333,
              "#31688e"
             ],
             [
              0.4444444444444444,
              "#26828e"
             ],
             [
              0.5555555555555556,
              "#1f9e89"
             ],
             [
              0.6666666666666666,
              "#35b779"
             ],
             [
              0.7777777777777778,
              "#6ece58"
             ],
             [
              0.8888888888888888,
              "#b5de2b"
             ],
             [
              1,
              "#fde725"
             ]
            ],
            "type": "heatmapgl"
           }
          ],
          "histogram": [
           {
            "marker": {
             "line": {
              "color": "white",
              "width": 0.6
             }
            },
            "type": "histogram"
           }
          ],
          "histogram2d": [
           {
            "colorbar": {
             "outlinewidth": 1,
             "tickcolor": "rgb(36,36,36)",
             "ticks": "outside"
            },
            "colorscale": [
             [
              0,
              "#440154"
             ],
             [
              0.1111111111111111,
              "#482878"
             ],
             [
              0.2222222222222222,
              "#3e4989"
             ],
             [
              0.3333333333333333,
              "#31688e"
             ],
             [
              0.4444444444444444,
              "#26828e"
             ],
             [
              0.5555555555555556,
              "#1f9e89"
             ],
             [
              0.6666666666666666,
              "#35b779"
             ],
             [
              0.7777777777777778,
              "#6ece58"
             ],
             [
              0.8888888888888888,
              "#b5de2b"
             ],
             [
              1,
              "#fde725"
             ]
            ],
            "type": "histogram2d"
           }
          ],
          "histogram2dcontour": [
           {
            "colorbar": {
             "outlinewidth": 1,
             "tickcolor": "rgb(36,36,36)",
             "ticks": "outside"
            },
            "colorscale": [
             [
              0,
              "#440154"
             ],
             [
              0.1111111111111111,
              "#482878"
             ],
             [
              0.2222222222222222,
              "#3e4989"
             ],
             [
              0.3333333333333333,
              "#31688e"
             ],
             [
              0.4444444444444444,
              "#26828e"
             ],
             [
              0.5555555555555556,
              "#1f9e89"
             ],
             [
              0.6666666666666666,
              "#35b779"
             ],
             [
              0.7777777777777778,
              "#6ece58"
             ],
             [
              0.8888888888888888,
              "#b5de2b"
             ],
             [
              1,
              "#fde725"
             ]
            ],
            "type": "histogram2dcontour"
           }
          ],
          "mesh3d": [
           {
            "colorbar": {
             "outlinewidth": 1,
             "tickcolor": "rgb(36,36,36)",
             "ticks": "outside"
            },
            "type": "mesh3d"
           }
          ],
          "parcoords": [
           {
            "line": {
             "colorbar": {
              "outlinewidth": 1,
              "tickcolor": "rgb(36,36,36)",
              "ticks": "outside"
             }
            },
            "type": "parcoords"
           }
          ],
          "pie": [
           {
            "automargin": true,
            "type": "pie"
           }
          ],
          "scatter": [
           {
            "fillpattern": {
             "fillmode": "overlay",
             "size": 10,
             "solidity": 0.2
            },
            "type": "scatter"
           }
          ],
          "scatter3d": [
           {
            "line": {
             "colorbar": {
              "outlinewidth": 1,
              "tickcolor": "rgb(36,36,36)",
              "ticks": "outside"
             }
            },
            "marker": {
             "colorbar": {
              "outlinewidth": 1,
              "tickcolor": "rgb(36,36,36)",
              "ticks": "outside"
             }
            },
            "type": "scatter3d"
           }
          ],
          "scattercarpet": [
           {
            "marker": {
             "colorbar": {
              "outlinewidth": 1,
              "tickcolor": "rgb(36,36,36)",
              "ticks": "outside"
             }
            },
            "type": "scattercarpet"
           }
          ],
          "scattergeo": [
           {
            "marker": {
             "colorbar": {
              "outlinewidth": 1,
              "tickcolor": "rgb(36,36,36)",
              "ticks": "outside"
             }
            },
            "type": "scattergeo"
           }
          ],
          "scattergl": [
           {
            "marker": {
             "colorbar": {
              "outlinewidth": 1,
              "tickcolor": "rgb(36,36,36)",
              "ticks": "outside"
             }
            },
            "type": "scattergl"
           }
          ],
          "scattermapbox": [
           {
            "marker": {
             "colorbar": {
              "outlinewidth": 1,
              "tickcolor": "rgb(36,36,36)",
              "ticks": "outside"
             }
            },
            "type": "scattermapbox"
           }
          ],
          "scatterpolar": [
           {
            "marker": {
             "colorbar": {
              "outlinewidth": 1,
              "tickcolor": "rgb(36,36,36)",
              "ticks": "outside"
             }
            },
            "type": "scatterpolar"
           }
          ],
          "scatterpolargl": [
           {
            "marker": {
             "colorbar": {
              "outlinewidth": 1,
              "tickcolor": "rgb(36,36,36)",
              "ticks": "outside"
             }
            },
            "type": "scatterpolargl"
           }
          ],
          "scatterternary": [
           {
            "marker": {
             "colorbar": {
              "outlinewidth": 1,
              "tickcolor": "rgb(36,36,36)",
              "ticks": "outside"
             }
            },
            "type": "scatterternary"
           }
          ],
          "surface": [
           {
            "colorbar": {
             "outlinewidth": 1,
             "tickcolor": "rgb(36,36,36)",
             "ticks": "outside"
            },
            "colorscale": [
             [
              0,
              "#440154"
             ],
             [
              0.1111111111111111,
              "#482878"
             ],
             [
              0.2222222222222222,
              "#3e4989"
             ],
             [
              0.3333333333333333,
              "#31688e"
             ],
             [
              0.4444444444444444,
              "#26828e"
             ],
             [
              0.5555555555555556,
              "#1f9e89"
             ],
             [
              0.6666666666666666,
              "#35b779"
             ],
             [
              0.7777777777777778,
              "#6ece58"
             ],
             [
              0.8888888888888888,
              "#b5de2b"
             ],
             [
              1,
              "#fde725"
             ]
            ],
            "type": "surface"
           }
          ],
          "table": [
           {
            "cells": {
             "fill": {
              "color": "rgb(237,237,237)"
             },
             "line": {
              "color": "white"
             }
            },
            "header": {
             "fill": {
              "color": "rgb(217,217,217)"
             },
             "line": {
              "color": "white"
             }
            },
            "type": "table"
           }
          ]
         },
         "layout": {
          "annotationdefaults": {
           "arrowhead": 0,
           "arrowwidth": 1
          },
          "autotypenumbers": "strict",
          "coloraxis": {
           "colorbar": {
            "outlinewidth": 1,
            "tickcolor": "rgb(36,36,36)",
            "ticks": "outside"
           }
          },
          "colorscale": {
           "diverging": [
            [
             0,
             "rgb(103,0,31)"
            ],
            [
             0.1,
             "rgb(178,24,43)"
            ],
            [
             0.2,
             "rgb(214,96,77)"
            ],
            [
             0.3,
             "rgb(244,165,130)"
            ],
            [
             0.4,
             "rgb(253,219,199)"
            ],
            [
             0.5,
             "rgb(247,247,247)"
            ],
            [
             0.6,
             "rgb(209,229,240)"
            ],
            [
             0.7,
             "rgb(146,197,222)"
            ],
            [
             0.8,
             "rgb(67,147,195)"
            ],
            [
             0.9,
             "rgb(33,102,172)"
            ],
            [
             1,
             "rgb(5,48,97)"
            ]
           ],
           "sequential": [
            [
             0,
             "#440154"
            ],
            [
             0.1111111111111111,
             "#482878"
            ],
            [
             0.2222222222222222,
             "#3e4989"
            ],
            [
             0.3333333333333333,
             "#31688e"
            ],
            [
             0.4444444444444444,
             "#26828e"
            ],
            [
             0.5555555555555556,
             "#1f9e89"
            ],
            [
             0.6666666666666666,
             "#35b779"
            ],
            [
             0.7777777777777778,
             "#6ece58"
            ],
            [
             0.8888888888888888,
             "#b5de2b"
            ],
            [
             1,
             "#fde725"
            ]
           ],
           "sequentialminus": [
            [
             0,
             "#440154"
            ],
            [
             0.1111111111111111,
             "#482878"
            ],
            [
             0.2222222222222222,
             "#3e4989"
            ],
            [
             0.3333333333333333,
             "#31688e"
            ],
            [
             0.4444444444444444,
             "#26828e"
            ],
            [
             0.5555555555555556,
             "#1f9e89"
            ],
            [
             0.6666666666666666,
             "#35b779"
            ],
            [
             0.7777777777777778,
             "#6ece58"
            ],
            [
             0.8888888888888888,
             "#b5de2b"
            ],
            [
             1,
             "#fde725"
            ]
           ]
          },
          "colorway": [
           "#1F77B4",
           "#FF7F0E",
           "#2CA02C",
           "#D62728",
           "#9467BD",
           "#8C564B",
           "#E377C2",
           "#7F7F7F",
           "#BCBD22",
           "#17BECF"
          ],
          "font": {
           "color": "rgb(36,36,36)"
          },
          "geo": {
           "bgcolor": "white",
           "lakecolor": "white",
           "landcolor": "white",
           "showlakes": true,
           "showland": true,
           "subunitcolor": "white"
          },
          "hoverlabel": {
           "align": "left"
          },
          "hovermode": "closest",
          "mapbox": {
           "style": "light"
          },
          "paper_bgcolor": "white",
          "plot_bgcolor": "white",
          "polar": {
           "angularaxis": {
            "gridcolor": "rgb(232,232,232)",
            "linecolor": "rgb(36,36,36)",
            "showgrid": false,
            "showline": true,
            "ticks": "outside"
           },
           "bgcolor": "white",
           "radialaxis": {
            "gridcolor": "rgb(232,232,232)",
            "linecolor": "rgb(36,36,36)",
            "showgrid": false,
            "showline": true,
            "ticks": "outside"
           }
          },
          "scene": {
           "xaxis": {
            "backgroundcolor": "white",
            "gridcolor": "rgb(232,232,232)",
            "gridwidth": 2,
            "linecolor": "rgb(36,36,36)",
            "showbackground": true,
            "showgrid": false,
            "showline": true,
            "ticks": "outside",
            "zeroline": false,
            "zerolinecolor": "rgb(36,36,36)"
           },
           "yaxis": {
            "backgroundcolor": "white",
            "gridcolor": "rgb(232,232,232)",
            "gridwidth": 2,
            "linecolor": "rgb(36,36,36)",
            "showbackground": true,
            "showgrid": false,
            "showline": true,
            "ticks": "outside",
            "zeroline": false,
            "zerolinecolor": "rgb(36,36,36)"
           },
           "zaxis": {
            "backgroundcolor": "white",
            "gridcolor": "rgb(232,232,232)",
            "gridwidth": 2,
            "linecolor": "rgb(36,36,36)",
            "showbackground": true,
            "showgrid": false,
            "showline": true,
            "ticks": "outside",
            "zeroline": false,
            "zerolinecolor": "rgb(36,36,36)"
           }
          },
          "shapedefaults": {
           "fillcolor": "black",
           "line": {
            "width": 0
           },
           "opacity": 0.3
          },
          "ternary": {
           "aaxis": {
            "gridcolor": "rgb(232,232,232)",
            "linecolor": "rgb(36,36,36)",
            "showgrid": false,
            "showline": true,
            "ticks": "outside"
           },
           "baxis": {
            "gridcolor": "rgb(232,232,232)",
            "linecolor": "rgb(36,36,36)",
            "showgrid": false,
            "showline": true,
            "ticks": "outside"
           },
           "bgcolor": "white",
           "caxis": {
            "gridcolor": "rgb(232,232,232)",
            "linecolor": "rgb(36,36,36)",
            "showgrid": false,
            "showline": true,
            "ticks": "outside"
           }
          },
          "title": {
           "x": 0.05
          },
          "xaxis": {
           "automargin": true,
           "gridcolor": "rgb(232,232,232)",
           "linecolor": "rgb(36,36,36)",
           "showgrid": false,
           "showline": true,
           "ticks": "outside",
           "title": {
            "standoff": 15
           },
           "zeroline": false,
           "zerolinecolor": "rgb(36,36,36)"
          },
          "yaxis": {
           "automargin": true,
           "gridcolor": "rgb(232,232,232)",
           "linecolor": "rgb(36,36,36)",
           "showgrid": false,
           "showline": true,
           "ticks": "outside",
           "title": {
            "standoff": 15
           },
           "zeroline": false,
           "zerolinecolor": "rgb(36,36,36)"
          }
         }
        },
        "title": {
         "font": {
          "color": "Black",
          "size": 22
         },
         "text": "Topics over time in Fact and Fiction texts (RSTL, RSTB)",
         "x": 0.4,
         "xanchor": "center",
         "y": 0.95,
         "yanchor": "top"
        },
        "width": 1250,
        "xaxis": {
         "showgrid": true
        },
        "yaxis": {
         "showgrid": true,
         "title": {
          "text": "Frequency"
         }
        }
       }
      }
     },
     "metadata": {},
     "output_type": "display_data"
    }
   ],
   "source": [
    "#periods rstl rstb\n",
    "import pandas as pd\n",
    "from pathlib import Path\n",
    "from bertopic import BERTopic\n",
    "\n",
    "texts_combined = b_texts + l_texts \n",
    "periods_combined = b_periods + l_periods\n",
    "period_strings_combined = [period for period in all_periods_combined]\n",
    "\n",
    "topic_model = BERTopic(verbose=False)\n",
    "topics, probs = topic_model.fit_transform(texts_combined)\n",
    "\n",
    "topics_over_time = topic_model.topics_over_time(texts_combined, periods_combined, datetime_format=\"%Y-%m-%d\", nr_bins=50)\n",
    "fig5 = topic_model.visualize_topics_over_time(topics_over_time, top_n_topics=30, title=\"Topics over time in Fact and Fiction texts (RSTL, RSTB)\")\n",
    "fig5.write_html('rstbl_topics_over_time_periods_50_30.html')\n",
    "\n",
    "fig5.show()"
   ]
  },
  {
   "cell_type": "code",
   "execution_count": 31,
   "metadata": {},
   "outputs": [
    {
     "data": {
      "application/vnd.plotly.v1+json": {
       "config": {
        "plotlyServerURL": "https://plot.ly"
       },
       "data": [
        {
         "hoverinfo": "text",
         "hovertext": [
          "<b>Topic 0</b><br>Words: temperature, pressure, wire, platinum, tube",
          "<b>Topic 0</b><br>Words: acid, temperature, platinum, wire, experiments",
          "<b>Topic 0</b><br>Words: temperature, tube, heat, experiments, ee",
          "<b>Topic 0</b><br>Words: sulphur, temperature, brake, heat, water",
          "<b>Topic 0</b><br>Words: temperature, ions, tube, gas, platinum",
          "<b>Topic 0</b><br>Words: temperature, tube, heat, gas, pressure",
          "<b>Topic 0</b><br>Words: temperature, tube, hydrogen, sn, platinum",
          "<b>Topic 0</b><br>Words: leak, pressure, temperature, platinum, wire",
          "<b>Topic 0</b><br>Words: lines, temperature, per, 00, cent",
          "<b>Topic 0</b><br>Words: temperature, heat, coils, pressure, resistance",
          "<b>Topic 0</b><br>Words: temperature, pressure, heat, gas, lines",
          "<b>Topic 0</b><br>Words: ee, lines, temperature, ae, series",
          "<b>Topic 0</b><br>Words: series, lines, helium, spectrum, pressure",
          "<b>Topic 0</b><br>Words: na, spark, nacl, lines, nahco",
          "<b>Topic 0</b><br>Words: lines, series, spectrum, 2p, swan",
          "<b>Topic 0</b><br>Words: 6s, 4f, ss, se, gas",
          "<b>Topic 0</b><br>Words: temperature, heat, ingot, surface, diffusivity",
          "<b>Topic 0</b><br>Words: ibu, kcal, mercury, zinc, pressure",
          "<b>Topic 0</b><br>Words: pressure, piston, mercury, column, gauge",
          "<b>Topic 0</b><br>Words: aqueous, 1513, professor, solvation, waghorne",
          "<b>Topic 0</b><br>Words: temperature, thermometry, uncertainty, thermodynamic, temperatures",
          "<b>Topic 0</b><br>Words: xanes, xray, copper, laser, warm"
         ],
         "marker": {
          "color": "#E69F00"
         },
         "mode": "lines",
         "name": "0_temperature_pressure_tube_heat",
         "type": "scatter",
         "x": [
          "1887-11-10T23:03:50.400000",
          "1890-09-26T18:43:12",
          "1893-06-23T13:26:24",
          "1896-03-20T08:09:36",
          "1898-12-16T02:52:48",
          "1901-09-12T21:36:00",
          "1904-06-09T16:19:12",
          "1907-03-07T11:02:24",
          "1909-12-02T05:45:36",
          "1912-08-29T00:28:48",
          "1915-05-26T19:12:00",
          "1918-02-20T13:55:12",
          "1920-11-17T08:38:24",
          "1923-08-15T03:21:36",
          "1926-05-11T22:04:48",
          "1937-04-27T00:57:36",
          "1945-07-16T09:07:12",
          "1948-04-12T03:50:24",
          "1953-10-04T17:16:48",
          "2000-05-03T23:31:12",
          "2016-10-11T15:50:24",
          "2022-04-05T05:16:48"
         ],
         "y": [
          6,
          12,
          25,
          8,
          18,
          16,
          15,
          11,
          12,
          16,
          8,
          7,
          5,
          5,
          4,
          3,
          1,
          3,
          1,
          1,
          17,
          1
         ]
        },
        {
         "hoverinfo": "text",
         "hovertext": [
          "<b>Topic 1</b><br>Words: quantum, computation, meeting, 2217, 1715",
          "<b>Topic 1</b><br>Words: 2010, 368, quantum, phil, trans",
          "<b>Topic 1</b><br>Words: quantum, system, state, classical, control",
          "<b>Topic 1</b><br>Words: quantum, theory, state, algebra, space",
          "<b>Topic 1</b><br>Words: quantum, state, classical, probability, states",
          "<b>Topic 1</b><br>Words: quantum, contextuality, probability, variables, measurement",
          "<b>Topic 1</b><br>Words: quantum, classical, state, phys, physics"
         ],
         "marker": {
          "color": "#56B4E9"
         },
         "mode": "lines",
         "name": "1_quantum_state_classical_probability",
         "type": "scatter",
         "x": [
          "1997-08-07T04:48:00",
          "2008-07-23T07:40:48",
          "2011-04-20T02:24:00",
          "2014-01-14T21:07:12",
          "2016-10-11T15:50:24",
          "2019-07-09T10:33:36",
          "2022-04-05T05:16:48"
         ],
         "y": [
          2,
          1,
          10,
          7,
          86,
          19,
          19
         ]
        },
        {
         "hoverinfo": "text",
         "hovertext": [
          "<b>Topic 2</b><br>Words: iups, cardiac, heart, 1047, integrative",
          "<b>Topic 2</b><br>Words: gavaghan, 2006, garny, 1331, maini",
          "<b>Topic 2</b><br>Words: heart, cardiac, coronary, et, al",
          "<b>Topic 2</b><br>Words: brain, heart, sleep, model, cardiac",
          "<b>Topic 2</b><br>Words: symbolic, heart, sleep, patients, brain",
          "<b>Topic 2</b><br>Words: brain, heart, cardiac, autonomic, coupling",
          "<b>Topic 2</b><br>Words: heart, cardiac, model, ecg, cardiovascular",
          "<b>Topic 2</b><br>Words: brain, blood, stenting, coronary, heart"
         ],
         "marker": {
          "color": "#009E73"
         },
         "mode": "lines",
         "name": "2_heart_cardiac_brain_model",
         "type": "scatter",
         "x": [
          "2000-05-03T23:31:12",
          "2005-10-26T12:57:36",
          "2008-07-23T07:40:48",
          "2011-04-20T02:24:00",
          "2014-01-14T21:07:12",
          "2016-10-11T15:50:24",
          "2019-07-09T10:33:36",
          "2022-04-05T05:16:48"
         ],
         "y": [
          1,
          1,
          14,
          7,
          13,
          27,
          36,
          4
         ]
        },
        {
         "hoverinfo": "text",
         "hovertext": [
          "<b>Topic 3</b><br>Words: fluxions, 8y, sy, numbers, order",
          "<b>Topic 3</b><br>Words: locus, hence, intersections, conic, discriminant",
          "<b>Topic 3</b><br>Words: mod, numbers, exponent, number, therefore",
          "<b>Topic 3</b><br>Words: partitions, cos, real, cosh, partition",
          "<b>Topic 3</b><br>Words: equations, dy, functions, function, differential",
          "<b>Topic 3</b><br>Words: log, function, points, gamma, functions",
          "<b>Topic 3</b><br>Words: integral, function, set, upper, points",
          "<b>Topic 3</b><br>Words: numbers, art, compositions, macmahon, abe",
          "<b>Topic 3</b><br>Words: positive, function, functions, type, interval",
          "<b>Topic 3</b><br>Words: function, coincidence, functions, integral, orders",
          "<b>Topic 3</b><br>Words: multipartite, partitions, parts, numbers, number",
          "<b>Topic 3</b><br>Words: quadrics, points, planes, quadric, meets",
          "<b>Topic 3</b><br>Words: ee, functions, bipartitional, partitions, ae",
          "<b>Topic 3</b><br>Words: arg, lemma, theorem, expansion, asymptotic",
          "<b>Topic 3</b><br>Words: concomitants, tensor, concomitant, invariant, tensors",
          "<b>Topic 3</b><br>Words: integrally, ideal, prime, theorem, ideals",
          "<b>Topic 3</b><br>Words: forms, reducible, form, latent, hence",
          "<b>Topic 3</b><br>Words: points, point, theorem, lemma, zeros",
          "<b>Topic 3</b><br>Words: theorem, ay, set, m1, hence",
          "<b>Topic 3</b><br>Words: theorem, function, fractal, let, zeta",
          "<b>Topic 3</b><br>Words: 20140308, barysoroker, titchmarsh, rudnick, divisor",
          "<b>Topic 3</b><br>Words: ramanujan, modular, mock, forms, theta",
          "<b>Topic 3</b><br>Words: logic, proof, arithmetic, theorem, intuitionistic"
         ],
         "marker": {
          "color": "#F0E442"
         },
         "mode": "lines",
         "name": "3_function_points_theorem_functions",
         "type": "scatter",
         "x": [
          "1887-11-10T23:03:50.400000",
          "1890-09-26T18:43:12",
          "1893-06-23T13:26:24",
          "1896-03-20T08:09:36",
          "1898-12-16T02:52:48",
          "1901-09-12T21:36:00",
          "1904-06-09T16:19:12",
          "1907-03-07T11:02:24",
          "1909-12-02T05:45:36",
          "1912-08-29T00:28:48",
          "1918-02-20T13:55:12",
          "1929-02-05T16:48:00",
          "1937-04-27T00:57:36",
          "1940-01-22T19:40:48",
          "1942-10-19T14:24:00",
          "1945-07-16T09:07:12",
          "1948-04-12T03:50:24",
          "1951-01-07T22:33:36",
          "1953-10-04T17:16:48",
          "2014-01-14T21:07:12",
          "2016-10-11T15:50:24",
          "2019-07-09T10:33:36",
          "2022-04-05T05:16:48"
         ],
         "y": [
          3,
          1,
          7,
          2,
          5,
          4,
          6,
          1,
          2,
          6,
          1,
          1,
          2,
          2,
          3,
          1,
          3,
          6,
          4,
          10,
          1,
          14,
          1
         ]
        },
        {
         "hoverinfo": "text",
         "hovertext": [
          "<b>Topic 4</b><br>Words: biodiversity, climate, conservation, change, markets",
          "<b>Topic 4</b><br>Words: climate, change, 2007, cities, emissions",
          "<b>Topic 4</b><br>Words: buildings, climate, cent, change, per",
          "<b>Topic 4</b><br>Words: climate, change, emissions, global, warming",
          "<b>Topic 4</b><br>Words: climate, change, uncertainty, geoengineering, warming",
          "<b>Topic 4</b><br>Words: climate, change, risk, 15c, warming",
          "<b>Topic 4</b><br>Words: climate, lca, change, assessment, impacts",
          "<b>Topic 4</b><br>Words: climate, malawi, shire, lake, hydropower"
         ],
         "marker": {
          "color": "#D55E00"
         },
         "mode": "lines",
         "name": "4_climate_change_risk_warming",
         "type": "scatter",
         "x": [
          "2000-05-03T23:31:12",
          "2005-10-26T12:57:36",
          "2008-07-23T07:40:48",
          "2011-04-20T02:24:00",
          "2014-01-14T21:07:12",
          "2016-10-11T15:50:24",
          "2019-07-09T10:33:36",
          "2022-04-05T05:16:48"
         ],
         "y": [
          1,
          3,
          2,
          20,
          27,
          27,
          2,
          2
         ]
        },
        {
         "hoverinfo": "text",
         "hovertext": [
          "<b>Topic 5</b><br>Words: growth, step, crystal, kinks, dislocations",
          "<b>Topic 5</b><br>Words: crystallization, polymer, terephthalate, growth, nucleation",
          "<b>Topic 5</b><br>Words: nucleation, 2003, a361, lond, meeting",
          "<b>Topic 5</b><br>Words: ghannam, 2006, 364, clock, crossland",
          "<b>Topic 5</b><br>Words: blend, blends, miscibility, polymer, pvt",
          "<b>Topic 5</b><br>Words: nematic, active, growth, liquid, crystals",
          "<b>Topic 5</b><br>Words: growth, solidification, dendritic, dendrite, interface",
          "<b>Topic 5</b><br>Words: growth, alexandrov, crystals, crystal, solidification",
          "<b>Topic 5</b><br>Words: growth, phys, crystal, phase, dendrite"
         ],
         "marker": {
          "color": "#0072B2"
         },
         "mode": "lines",
         "name": "5_growth_crystal_solidification_dendriti...",
         "type": "scatter",
         "x": [
          "1951-01-07T22:33:36",
          "1953-10-04T17:16:48",
          "2003-01-29T18:14:24",
          "2005-10-26T12:57:36",
          "2008-07-23T07:40:48",
          "2014-01-14T21:07:12",
          "2016-10-11T15:50:24",
          "2019-07-09T10:33:36",
          "2022-04-05T05:16:48"
         ],
         "y": [
          1,
          3,
          3,
          2,
          1,
          7,
          17,
          30,
          14
         ]
        },
        {
         "hoverinfo": "text",
         "hovertext": [
          "<b>Topic 6</b><br>Words: solar, power, energy, meeting, dalian",
          "<b>Topic 6</b><br>Words: supercritical, catalysts, catalyst, chem, co",
          "<b>Topic 6</b><br>Words: catalysts, catalyst, chem, catalytic, reaction",
          "<b>Topic 6</b><br>Words: catalysts, catalyst, reaction, chem, plastics",
          "<b>Topic 6</b><br>Words: malaysia, roadmap, energy, acf, netzero"
         ],
         "marker": {
          "color": "#CC79A7"
         },
         "mode": "lines",
         "name": "6_catalysts_catalyst_reaction_chem",
         "type": "scatter",
         "x": [
          "2011-04-20T02:24:00",
          "2014-01-14T21:07:12",
          "2016-10-11T15:50:24",
          "2019-07-09T10:33:36",
          "2022-04-05T05:16:48"
         ],
         "y": [
          1,
          14,
          27,
          26,
          2
         ]
        },
        {
         "hoverinfo": "text",
         "hovertext": [
          "<b>Topic 7</b><br>Words: secondary, radiation, primary, beam, electroscope",
          "<b>Topic 7</b><br>Words: diamond, radium, film, radioactivity, hours",
          "<b>Topic 7</b><br>Words: planes, crystal, xrays, atoms, atom",
          "<b>Topic 7</b><br>Words: halved, 2a, odd, intersecting, 001",
          "<b>Topic 7</b><br>Words: xray, sterol, band, ergosterol, crystal",
          "<b>Topic 7</b><br>Words: diamond, cu, ka, crystal, xray",
          "<b>Topic 7</b><br>Words: diamond, lattice, raman, spectrum, 251",
          "<b>Topic 7</b><br>Words: xray, laser, topography, andrew, ultrafast",
          "<b>Topic 7</b><br>Words: xray, astronomy, chandra, xmm, 2002",
          "<b>Topic 7</b><br>Words: terahertz, meeting, presentations, speakers, gap",
          "<b>Topic 7</b><br>Words: diamond, xray, beamline, diffraction, synchrotron",
          "<b>Topic 7</b><br>Words: ch3, photodissociation, methyl, v2, laser",
          "<b>Topic 7</b><br>Words: xray, synchrotron, electron, pulses, diamond",
          "<b>Topic 7</b><br>Words: diamond, xray, nv, stacking, defect"
         ],
         "marker": {
          "color": "#E69F00"
         },
         "mode": "lines",
         "name": "7_xray_diamond_synchrotron_diffraction",
         "type": "scatter",
         "x": [
          "1904-06-09T16:19:12",
          "1912-08-29T00:28:48",
          "1915-05-26T19:12:00",
          "1923-08-15T03:21:36",
          "1940-01-22T19:40:48",
          "1945-07-16T09:07:12",
          "1948-04-12T03:50:24",
          "1997-08-07T04:48:00",
          "2000-05-03T23:31:12",
          "2003-01-29T18:14:24",
          "2014-01-14T21:07:12",
          "2016-10-11T15:50:24",
          "2019-07-09T10:33:36",
          "2022-04-05T05:16:48"
         ],
         "y": [
          1,
          1,
          1,
          1,
          2,
          1,
          1,
          2,
          1,
          1,
          13,
          2,
          26,
          8
         ]
        },
        {
         "hoverinfo": "text",
         "hovertext": [
          "<b>Topic 8</b><br>Words: stars, lustre, star, flamsteed, catalogue",
          "<b>Topic 8</b><br>Words: price, vol, cloth, microseisms, ee",
          "<b>Topic 8</b><br>Words: price, vol, cloth, net, society",
          "<b>Topic 8</b><br>Words: price, vol, alloys, acetone, clay",
          "<b>Topic 8</b><br>Words: group, free, subgroup, groups, product",
          "<b>Topic 8</b><br>Words: janet, watterson, unhurried, meeting, watson",
          "<b>Topic 8</b><br>Words: nonsmooth, huyghens, unilateral, mechanics, nonconvex",
          "<b>Topic 8</b><br>Words: transactions, philosophical, journal, scientific, oldenburg"
         ],
         "marker": {
          "color": "#56B4E9"
         },
         "mode": "lines",
         "name": "8_price_vol_cloth_net",
         "type": "scatter",
         "x": [
          "1904-06-09T16:19:12",
          "1929-02-05T16:48:00",
          "1931-11-03T11:31:12",
          "1934-07-31T06:14:24",
          "1953-10-04T17:16:48",
          "1986-08-22T01:55:12",
          "2000-05-03T23:31:12",
          "2014-01-14T21:07:12"
         ],
         "y": [
          1,
          10,
          36,
          9,
          1,
          1,
          1,
          1
         ]
        },
        {
         "hoverinfo": "text",
         "hovertext": [
          "<b>Topic 9</b><br>Words: knotted, 1341, 101098rsta20010851, pelzz, insti",
          "<b>Topic 9</b><br>Words: lensing, gravitational, dark, galaxies, universe",
          "<b>Topic 9</b><br>Words: cosmology, universe, facilities, gravitational, gravity",
          "<b>Topic 9</b><br>Words: spacetime, relativity, quantum, einstein, ferrofluid",
          "<b>Topic 9</b><br>Words: gravitational, noise, ligo, universe, cosmological",
          "<b>Topic 9</b><br>Words: hawking, analogue, cosmological, black, radiation",
          "<b>Topic 9</b><br>Words: cosmological, universe, cosmology, gravitational, spacetime"
         ],
         "marker": {
          "color": "#009E73"
         },
         "mode": "lines",
         "name": "9_cosmological_universe_gravitational_co...",
         "type": "scatter",
         "x": [
          "2000-05-03T23:31:12",
          "2008-07-23T07:40:48",
          "2011-04-20T02:24:00",
          "2014-01-14T21:07:12",
          "2016-10-11T15:50:24",
          "2019-07-09T10:33:36",
          "2022-04-05T05:16:48"
         ],
         "y": [
          1,
          4,
          2,
          6,
          12,
          11,
          23
         ]
        },
        {
         "hoverinfo": "text",
         "hovertext": [
          "<b>Topic 10</b><br>Words: eddy, motion, velocity, wind, metres",
          "<b>Topic 10</b><br>Words: smoke, height, turbulence, diffusivity, eddystresses",
          "<b>Topic 10</b><br>Words: axisymmetric, solenoidal, tensors, tensor, scalars",
          "<b>Topic 10</b><br>Words: turbulence, reynolds, eddies, equation, turbulent",
          "<b>Topic 10</b><br>Words: humidity, eddy, observations, wind, diffusivities",
          "<b>Topic 10</b><br>Words: reynolds, 2007, turbulent, turbulence, scaling",
          "<b>Topic 10</b><br>Words: turbulent, mixing, 2010, turbulence, instability",
          "<b>Topic 10</b><br>Words: mixing, turbulent, turbulence, flows, flow",
          "<b>Topic 10</b><br>Words: reynolds, extensile, contractile, turbulent, turbulence",
          "<b>Topic 10</b><br>Words: reynolds, turbulent, turbulence, streamwise, flow",
          "<b>Topic 10</b><br>Words: chain, intrusion, turbulence, turbulent, wig",
          "<b>Topic 10</b><br>Words: turbulence, turbulent, reynolds, flow, scaling"
         ],
         "marker": {
          "color": "#F0E442"
         },
         "mode": "lines",
         "name": "10_turbulence_turbulent_reynolds_flow",
         "type": "scatter",
         "x": [
          "1915-05-26T19:12:00",
          "1920-11-17T08:38:24",
          "1948-04-12T03:50:24",
          "1951-01-07T22:33:36",
          "1953-10-04T17:16:48",
          "2005-10-26T12:57:36",
          "2008-07-23T07:40:48",
          "2011-04-20T02:24:00",
          "2014-01-14T21:07:12",
          "2016-10-11T15:50:24",
          "2019-07-09T10:33:36",
          "2022-04-05T05:16:48"
         ],
         "y": [
          1,
          1,
          1,
          2,
          1,
          3,
          1,
          3,
          2,
          13,
          2,
          28
         ]
        },
        {
         "hoverinfo": "text",
         "hovertext": [
          "<b>Topic 11</b><br>Words: ice, arctic, dowdeswell, rapid, warming",
          "<b>Topic 11</b><br>Words: icing, accretion, wetsnow, ice, superstructure",
          "<b>Topic 11</b><br>Words: ice, sea, arctic, melt, ocean",
          "<b>Topic 11</b><br>Words: ice, sea, arctic, deformation, floe",
          "<b>Topic 11</b><br>Words: ice, snow, sea, growth, dislocation",
          "<b>Topic 11</b><br>Words: ice, floe, sea, floes, miz"
         ],
         "marker": {
          "color": "#D55E00"
         },
         "mode": "lines",
         "name": "11_ice_sea_arctic_floe",
         "type": "scatter",
         "x": [
          "1994-11-10T10:04:48",
          "2000-05-03T23:31:12",
          "2014-01-14T21:07:12",
          "2016-10-11T15:50:24",
          "2019-07-09T10:33:36",
          "2022-04-05T05:16:48"
         ],
         "y": [
          1,
          1,
          12,
          22,
          8,
          9
         ]
        },
        {
         "hoverinfo": "text",
         "hovertext": [
          "<b>Topic 12</b><br>Words: wood, beam, elastic, moduli, bending",
          "<b>Topic 12</b><br>Words: strain, aw, elastic, material, rivlin",
          "<b>Topic 12</b><br>Words: elastic, sheet, rivlin, rubber, singularity",
          "<b>Topic 12</b><br>Words: 2e5, e4, 2e3, 2e4, 4es",
          "<b>Topic 12</b><br>Words: micromechanics, austin, symposium, papers, mechanics",
          "<b>Topic 12</b><br>Words: strain, buckling, elastic, instability, deformation",
          "<b>Topic 12</b><br>Words: elastic, strain, deformation, material, stress",
          "<b>Topic 12</b><br>Words: buckling, ogden, deformation, shell, shells"
         ],
         "marker": {
          "color": "#0072B2"
         },
         "mode": "lines",
         "name": "12_elastic_strain_buckling_deformation",
         "type": "scatter",
         "x": [
          "1929-02-05T16:48:00",
          "1948-04-12T03:50:24",
          "1951-01-07T22:33:36",
          "1997-08-07T04:48:00",
          "2003-01-29T18:14:24",
          "2016-10-11T15:50:24",
          "2019-07-09T10:33:36",
          "2022-04-05T05:16:48"
         ],
         "y": [
          1,
          6,
          4,
          1,
          1,
          15,
          11,
          12
         ]
        },
        {
         "hoverinfo": "text",
         "hovertext": [
          "<b>Topic 13</b><br>Words: 10551072, 101098rsta20000821, bassingthwaighte, lond, a359",
          "<b>Topic 13</b><br>Words: dna, 1263, biologists, effort, molecule",
          "<b>Topic 13</b><br>Words: life, regulatory, dynamics, genetic, networks",
          "<b>Topic 13</b><br>Words: life, transcription, gene, promoter, dna",
          "<b>Topic 13</b><br>Words: usher, pilus, mrna, codon, amino",
          "<b>Topic 13</b><br>Words: life, information, code, genetic, amino",
          "<b>Topic 13</b><br>Words: fd, ph, fds, methanogens, bifurcating",
          "<b>Topic 13</b><br>Words: life, information, sequences, rna, networks"
         ],
         "marker": {
          "color": "#CC79A7"
         },
         "mode": "lines",
         "name": "13_life_information_genetic_amino",
         "type": "scatter",
         "x": [
          "2000-05-03T23:31:12",
          "2003-01-29T18:14:24",
          "2008-07-23T07:40:48",
          "2011-04-20T02:24:00",
          "2014-01-14T21:07:12",
          "2016-10-11T15:50:24",
          "2019-07-09T10:33:36",
          "2022-04-05T05:16:48"
         ],
         "y": [
          1,
          1,
          2,
          2,
          3,
          35,
          1,
          5
         ]
        },
        {
         "hoverinfo": "text",
         "hovertext": [
          "<b>Topic 14</b><br>Words: hiv, vaccine, exposure, malaria, infection",
          "<b>Topic 14</b><br>Words: mple, nonlocal, housing, density, burglary",
          "<b>Topic 14</b><br>Words: env3, covid19, treatment, model, modelling",
          "<b>Topic 14</b><br>Words: covid19, 2021, transmission, 2020, sarscov2"
         ],
         "marker": {
          "color": "#E69F00"
         },
         "mode": "lines",
         "name": "14_covid19_2021_transmission_infection",
         "type": "scatter",
         "x": [
          "2008-07-23T07:40:48",
          "2014-01-14T21:07:12",
          "2016-10-11T15:50:24",
          "2022-04-05T05:16:48"
         ],
         "y": [
          2,
          1,
          5,
          41
         ]
        },
        {
         "hoverinfo": "text",
         "hovertext": [
          "<b>Topic 15</b><br>Words: 000001, 000002, 000000, 000003, 000004",
          "<b>Topic 15</b><br>Words: observatories, instruments, magnetic, disturbances, disturbance",
          "<b>Topic 15</b><br>Words: ee, geodesy, india, stations, mean",
          "<b>Topic 15</b><br>Words: stations, barometric, height, ee, frequency",
          "<b>Topic 15</b><br>Words: coils, totality, silver, eclipse, coil",
          "<b>Topic 15</b><br>Words: kew, days, years, sunspot, mean",
          "<b>Topic 15</b><br>Words: days, sunspot, diurnal, quiet, years",
          "<b>Topic 15</b><br>Words: days, disturbed, quiet, diurnal, kew",
          "<b>Topic 15</b><br>Words: days, day, character, sunspot, lunar",
          "<b>Topic 15</b><br>Words: days, diurnal, years, sunspot, months",
          "<b>Topic 15</b><br>Words: diurnal, magnetic, 66, 15, 67",
          "<b>Topic 15</b><br>Words: cable, coils, field, coil, current",
          "<b>Topic 15</b><br>Words: days, years, sunspot, day, lunar",
          "<b>Topic 15</b><br>Words: emu, induced, conductivity, variations, field",
          "<b>Topic 15</b><br>Words: od, oo, stations, 19, 1d",
          "<b>Topic 15</b><br>Words: westward, drift, nondipole, field, core",
          "<b>Topic 15</b><br>Words: magnetometer, field, magnetic, days, dipole",
          "<b>Topic 15</b><br>Words: cos, conductivity, sin, tan, hall",
          "<b>Topic 15</b><br>Words: dynamo, geomagnetic, field, secular, polarity"
         ],
         "marker": {
          "color": "#56B4E9"
         },
         "mode": "lines",
         "name": "15_days_diurnal_years_mean",
         "type": "scatter",
         "x": [
          "1887-11-10T23:03:50.400000",
          "1890-09-26T18:43:12",
          "1893-06-23T13:26:24",
          "1896-03-20T08:09:36",
          "1901-09-12T21:36:00",
          "1904-06-09T16:19:12",
          "1907-03-07T11:02:24",
          "1909-12-02T05:45:36",
          "1912-08-29T00:28:48",
          "1915-05-26T19:12:00",
          "1918-02-20T13:55:12",
          "1923-08-15T03:21:36",
          "1926-05-11T22:04:48",
          "1937-04-27T00:57:36",
          "1945-07-16T09:07:12",
          "1948-04-12T03:50:24",
          "1951-01-07T22:33:36",
          "1953-10-04T17:16:48",
          "2000-05-03T23:31:12"
         ],
         "y": [
          2,
          1,
          2,
          4,
          2,
          6,
          2,
          2,
          5,
          3,
          3,
          2,
          4,
          1,
          1,
          1,
          4,
          1,
          1
         ]
        },
        {
         "hoverinfo": "text",
         "hovertext": [
          "<b>Topic 16</b><br>Words: investment, 1297, environmental, perfor, performance",
          "<b>Topic 16</b><br>Words: water, jordan, 2010, flood, management",
          "<b>Topic 16</b><br>Words: water, flood, risk, security, sanitation",
          "<b>Topic 16</b><br>Words: protection, coastal, community, socialcultural, resilience",
          "<b>Topic 16</b><br>Words: flood, risk, protection, mexico, coastal",
          "<b>Topic 16</b><br>Words: flood, rainfall, urban, water, risk",
          "<b>Topic 16</b><br>Words: water, drought, flood, river, deficit"
         ],
         "marker": {
          "color": "#009E73"
         },
         "mode": "lines",
         "name": "16_flood_water_risk_rainfall",
         "type": "scatter",
         "x": [
          "1997-08-07T04:48:00",
          "2008-07-23T07:40:48",
          "2011-04-20T02:24:00",
          "2014-01-14T21:07:12",
          "2016-10-11T15:50:24",
          "2019-07-09T10:33:36",
          "2022-04-05T05:16:48"
         ],
         "y": [
          1,
          3,
          7,
          1,
          1,
          25,
          8
         ]
        },
        {
         "hoverinfo": "text",
         "hovertext": [
          "<b>Topic 17</b><br>Words: rater, segmentations, segmentation, image, tomography",
          "<b>Topic 17</b><br>Words: reconstruction, xray, image, imaging, tomography",
          "<b>Topic 17</b><br>Words: imaging, contrast, crack, xray, image",
          "<b>Topic 17</b><br>Words: reconstruction, image, imaging, med, mri",
          "<b>Topic 17</b><br>Words: tomography, xray, xrdct, reconstruction, imaging"
         ],
         "marker": {
          "color": "#F0E442"
         },
         "mode": "lines",
         "name": "17_reconstruction_image_imaging_xray",
         "type": "scatter",
         "x": [
          "2008-07-23T07:40:48",
          "2014-01-14T21:07:12",
          "2016-10-11T15:50:24",
          "2019-07-09T10:33:36",
          "2022-04-05T05:16:48"
         ],
         "y": [
          4,
          17,
          3,
          18,
          1
         ]
        },
        {
         "hoverinfo": "text",
         "hovertext": [
          "<b>Topic 18</b><br>Words: cm, ch, modes, infrared, rocking",
          "<b>Topic 18</b><br>Words: escience, dove, eminerals, grid, tools",
          "<b>Topic 18</b><br>Words: dft, bxd, dynamics, chem, phys",
          "<b>Topic 18</b><br>Words: chem, energy, phys, dynamics, dissociation",
          "<b>Topic 18</b><br>Words: fluorides, chem, phys, vibrational, energy",
          "<b>Topic 18</b><br>Words: chem, dynamics, nonadiabatic, phys, energy"
         ],
         "marker": {
          "color": "#D55E00"
         },
         "mode": "lines",
         "name": "18_chem_energy_dynamics_phys",
         "type": "scatter",
         "x": [
          "1953-10-04T17:16:48",
          "2008-07-23T07:40:48",
          "2014-01-14T21:07:12",
          "2016-10-11T15:50:24",
          "2019-07-09T10:33:36",
          "2022-04-05T05:16:48"
         ],
         "y": [
          2,
          1,
          3,
          21,
          5,
          11
         ]
        },
        {
         "hoverinfo": "text",
         "hovertext": [
          "<b>Topic 19</b><br>Words: halo, haloes, ring, ionisation, uranium",
          "<b>Topic 19</b><br>Words: fission, tracks, particles, recoils, fragments",
          "<b>Topic 19</b><br>Words: ulsi, microscopies, device, analytical, techniques",
          "<b>Topic 19</b><br>Words: elements, chemistry, element, periodic, metal",
          "<b>Topic 19</b><br>Words: electrocaloric, ec, ece, ferroelectric, pblzst",
          "<b>Topic 19</b><br>Words: elements, thermoelectric, chem, periodic, element",
          "<b>Topic 19</b><br>Words: ionic, interfaces, solid, solidstate, chem"
         ],
         "marker": {
          "color": "#0072B2"
         },
         "mode": "lines",
         "name": "19_elements_chem_element_periodic",
         "type": "scatter",
         "x": [
          "1918-02-20T13:55:12",
          "1948-04-12T03:50:24",
          "1994-11-10T10:04:48",
          "2014-01-14T21:07:12",
          "2016-10-11T15:50:24",
          "2019-07-09T10:33:36",
          "2022-04-05T05:16:48"
         ],
         "y": [
          1,
          1,
          1,
          11,
          4,
          21,
          3
         ]
        },
        {
         "hoverinfo": "text",
         "hovertext": [
          "<b>Topic 20</b><br>Words: vol, society, cloth, ee, vg",
          "<b>Topic 20</b><br>Words: vol, region, 00, ee, society",
          "<b>Topic 20</b><br>Words: polyhedra, vertex, polyhedron, triangles, coxeter",
          "<b>Topic 20</b><br>Words: fba, astronomy, society, ancient, secretary",
          "<b>Topic 20</b><br>Words: grove, royal, platinum, tubes, voltaic"
         ],
         "marker": {
          "color": "#CC79A7"
         },
         "mode": "lines",
         "name": "20_vol_society_ee_cloth",
         "type": "scatter",
         "x": [
          "1934-07-31T06:14:24",
          "1937-04-27T00:57:36",
          "1953-10-04T17:16:48",
          "1972-12-09T04:19:12",
          "2003-01-29T18:14:24"
         ],
         "y": [
          30,
          9,
          1,
          1,
          1
         ]
        },
        {
         "hoverinfo": "text",
         "hovertext": [
          "<b>Topic 21</b><br>Words: symposium, academy, society, royal, british",
          "<b>Topic 21</b><br>Words: industry, marine, ship, mr, meeting",
          "<b>Topic 21</b><br>Words: objects, scattering, fabelinskii, unable, serigs",
          "<b>Topic 21</b><br>Words: millennium, quantum, penrose, ii, physics",
          "<b>Topic 21</b><br>Words: interference, young, emmanuel, mollon, john",
          "<b>Topic 21</b><br>Words: symposium, selforganization, skar, speakers, hartzell",
          "<b>Topic 21</b><br>Words: lcs, lc, new, society, journal",
          "<b>Topic 21</b><br>Words: 2009, environmental, phil, scientists, escience",
          "<b>Topic 21</b><br>Words: michael, research, society, engineering, university",
          "<b>Topic 21</b><br>Words: fisher, journal, statistics, society, royal",
          "<b>Topic 21</b><br>Words: journal, editorial, society, royal, scientific",
          "<b>Topic 21</b><br>Words: exascale, ecp, applications, application, challenge",
          "<b>Topic 21</b><br>Words: international, editorial, newton, fellowship, royal"
         ],
         "marker": {
          "color": "#E69F00"
         },
         "mode": "lines",
         "name": "21_exascale_journal_society_royal",
         "type": "scatter",
         "x": [
          "1970-03-14T09:36:00",
          "1972-12-09T04:19:12",
          "1978-06-02T17:45:36",
          "1997-08-07T04:48:00",
          "2000-05-03T23:31:12",
          "2003-01-29T18:14:24",
          "2005-10-26T12:57:36",
          "2008-07-23T07:40:48",
          "2011-04-20T02:24:00",
          "2014-01-14T21:07:12",
          "2016-10-11T15:50:24",
          "2019-07-09T10:33:36",
          "2022-04-05T05:16:48"
         ],
         "y": [
          1,
          1,
          1,
          1,
          1,
          1,
          2,
          5,
          14,
          3,
          5,
          2,
          3
         ]
        },
        {
         "hoverinfo": "text",
         "hovertext": [
          "<b>Topic 22</b><br>Words: nonlinear, 2008, experimental, dynamics, 366",
          "<b>Topic 22</b><br>Words: nonlinear, damping, resonance, response, vibration",
          "<b>Topic 22</b><br>Words: nonlinear, resonance, frequency, system, energy",
          "<b>Topic 22</b><br>Words: resonance, noise, nonlinear, stochastic, signal",
          "<b>Topic 22</b><br>Words: roms, balanced, fom, impulse, era"
         ],
         "marker": {
          "color": "#56B4E9"
         },
         "mode": "lines",
         "name": "22_nonlinear_resonance_noise_system",
         "type": "scatter",
         "x": [
          "2005-10-26T12:57:36",
          "2014-01-14T21:07:12",
          "2016-10-11T15:50:24",
          "2019-07-09T10:33:36",
          "2022-04-05T05:16:48"
         ],
         "y": [
          2,
          6,
          12,
          19,
          1
         ]
        },
        {
         "hoverinfo": "text",
         "hovertext": [
          "<b>Topic 23</b><br>Words: learning, age, bullinaria, plasticity, systems",
          "<b>Topic 23</b><br>Words: nondeterminism, system, embedded, programming, deterministic",
          "<b>Topic 23</b><br>Words: sensor, 370, network, turing, 2012",
          "<b>Topic 23</b><br>Words: shelf, quality, food, mould, life",
          "<b>Topic 23</b><br>Words: acl2, verification, program, code, formal",
          "<b>Topic 23</b><br>Words: systems, digital, human, control, humans",
          "<b>Topic 23</b><br>Words: learning, pavement, human, language, control"
         ],
         "marker": {
          "color": "#009E73"
         },
         "mode": "lines",
         "name": "23_systems_human_acl2_control",
         "type": "scatter",
         "x": [
          "2003-01-29T18:14:24",
          "2008-07-23T07:40:48",
          "2011-04-20T02:24:00",
          "2014-01-14T21:07:12",
          "2016-10-11T15:50:24",
          "2019-07-09T10:33:36",
          "2022-04-05T05:16:48"
         ],
         "y": [
          1,
          1,
          2,
          4,
          7,
          15,
          9
         ]
        },
        {
         "hoverinfo": "text",
         "hovertext": [
          "<b>Topic 24</b><br>Words: viva, vis, medium, molecules, velocity",
          "<b>Topic 24</b><br>Words: curve, balls, pearson, normal, ee",
          "<b>Topic 24</b><br>Words: selection, correlation, regression, offspring, inheritance",
          "<b>Topic 24</b><br>Words: correlation, stature, ee, probable, fertility",
          "<b>Topic 24</b><br>Words: correlation, ee, log, ist, organs",
          "<b>Topic 24</b><br>Words: couplets, offspring, allogenic, gamete, inheritance",
          "<b>Topic 24</b><br>Words: expansion, mercury, observations, tubes, coefficient",
          "<b>Topic 24</b><br>Words: curvefactor, range, curve, type, real",
          "<b>Topic 24</b><br>Words: moments, mpe, value, error, statistics",
          "<b>Topic 24</b><br>Words: discs, integral, sin, tanh, sinh",
          "<b>Topic 24</b><br>Words: ee, 2pq, let, differences, linfoot",
          "<b>Topic 24</b><br>Words: discrepant, formula, discrepancies, sheppard, values",
          "<b>Topic 24</b><br>Words: region, hypothesis, critical, hypotheses, regard",
          "<b>Topic 24</b><br>Words: law, probability, normal, confidence, error",
          "<b>Topic 24</b><br>Words: sampling, systematic, random, block, samples",
          "<b>Topic 24</b><br>Words: worbdeen, 297298, farrar, errata, 3100"
         ],
         "marker": {
          "color": "#F0E442"
         },
         "mode": "lines",
         "name": "24_ee_correlation_pearson_mean",
         "type": "scatter",
         "x": [
          "1890-09-26T18:43:12",
          "1893-06-23T13:26:24",
          "1896-03-20T08:09:36",
          "1898-12-16T02:52:48",
          "1901-09-12T21:36:00",
          "1904-06-09T16:19:12",
          "1912-08-29T00:28:48",
          "1915-05-26T19:12:00",
          "1920-11-17T08:38:24",
          "1923-08-15T03:21:36",
          "1926-05-11T22:04:48",
          "1929-02-05T16:48:00",
          "1931-11-03T11:31:12",
          "1937-04-27T00:57:36",
          "1948-04-12T03:50:24",
          "2005-10-26T12:57:36"
         ],
         "y": [
          1,
          4,
          2,
          7,
          6,
          1,
          2,
          4,
          2,
          1,
          2,
          1,
          1,
          2,
          1,
          1
         ]
        },
        {
         "hoverinfo": "text",
         "hovertext": [
          "<b>Topic 25</b><br>Words: nucleon, quarks, 101098rsta20000722, gabathuler, luminosity",
          "<b>Topic 25</b><br>Words: lhc, collider, cern, physics, higgs",
          "<b>Topic 25</b><br>Words: higgs, boson, lhc, cms, atlas",
          "<b>Topic 25</b><br>Words: higgs, boson, electroweak, lhc, mass",
          "<b>Topic 25</b><br>Words: monopole, higgs, lhc, electroweak, monopoles",
          "<b>Topic 25</b><br>Words: gauge, higgs, quantum, emergent, physics"
         ],
         "marker": {
          "color": "#D55E00"
         },
         "mode": "lines",
         "name": "25_higgs_lhc_boson_monopole",
         "type": "scatter",
         "x": [
          "2000-05-03T23:31:12",
          "2011-04-20T02:24:00",
          "2014-01-14T21:07:12",
          "2016-10-11T15:50:24",
          "2019-07-09T10:33:36",
          "2022-04-05T05:16:48"
         ],
         "y": [
          1,
          3,
          12,
          9,
          9,
          3
         ]
        },
        {
         "hoverinfo": "text",
         "hovertext": [
          "<b>Topic 26</b><br>Words: cable, current, waves, field, water",
          "<b>Topic 26</b><br>Words: waves, breakwater, wave, crest, cos",
          "<b>Topic 26</b><br>Words: waves, masstransport, velocity, boundary, wave",
          "<b>Topic 26</b><br>Words: waves, 2002, a360, lond, solitary",
          "<b>Topic 26</b><br>Words: waves, constantin, water, wave, 2007",
          "<b>Topic 26</b><br>Words: waves, constantin, water, vorticity, 370",
          "<b>Topic 26</b><br>Words: wave, waves, heave, elevation, incident",
          "<b>Topic 26</b><br>Words: waves, wave, water, fluid, surface"
         ],
         "marker": {
          "color": "#0072B2"
         },
         "mode": "lines",
         "name": "26_waves_wave_water_surface",
         "type": "scatter",
         "x": [
          "1923-08-15T03:21:36",
          "1951-01-07T22:33:36",
          "1953-10-04T17:16:48",
          "2000-05-03T23:31:12",
          "2005-10-26T12:57:36",
          "2011-04-20T02:24:00",
          "2014-01-14T21:07:12",
          "2016-10-11T15:50:24"
         ],
         "y": [
          1,
          3,
          1,
          1,
          1,
          1,
          5,
          23
         ]
        },
        {
         "hoverinfo": "text",
         "hovertext": [
          "<b>Topic 27</b><br>Words: water, surfaces, surface, superhydrophobic, droplets",
          "<b>Topic 27</b><br>Words: water, droplet, droplets, surfaces, surface"
         ],
         "marker": {
          "color": "#CC79A7"
         },
         "mode": "lines",
         "name": "27_water_surfaces_droplets_droplet",
         "type": "scatter",
         "x": [
          "2016-10-11T15:50:24",
          "2019-07-09T10:33:36"
         ],
         "y": [
          10,
          26
         ]
        },
        {
         "hoverinfo": "text",
         "hovertext": [
          "<b>Topic 28</b><br>Words: retardation, creep, specimen, load, loading",
          "<b>Topic 28</b><br>Words: crack, enamel, fracture, damage, glass",
          "<b>Topic 28</b><br>Words: damage, failure, fibre, composite, loading",
          "<b>Topic 28</b><br>Words: fibre, corrosion, concrete, failure, joints",
          "<b>Topic 28</b><br>Words: composite, damage, crush, compos, fracture"
         ],
         "marker": {
          "color": "#E69F00"
         },
         "mode": "lines",
         "name": "28_damage_failure_fibre_composite",
         "type": "scatter",
         "x": [
          "1923-08-15T03:21:36",
          "2014-01-14T21:07:12",
          "2016-10-11T15:50:24",
          "2019-07-09T10:33:36",
          "2022-04-05T05:16:48"
         ],
         "y": [
          1,
          5,
          24,
          3,
          2
         ]
        },
        {
         "hoverinfo": "text",
         "hovertext": [
          "<b>Topic 29</b><br>Words: preparative, krtschmer, kresge, compassing, chemnical",
          "<b>Topic 29</b><br>Words: nanotubes, carbon, 2004, lond, terrones",
          "<b>Topic 29</b><br>Words: graphene, cnts, nanotubes, 2008, diamond",
          "<b>Topic 29</b><br>Words: graphene, nanoribbons, gumbs, iqhe, bilayer",
          "<b>Topic 29</b><br>Words: murata, endohedral, komatsu, fullerene, endofullerenes",
          "<b>Topic 29</b><br>Words: graphene, membranes, fullerene, membrane, mos",
          "<b>Topic 29</b><br>Words: graphene, gf, exfoliation, v2o5, cr2hs",
          "<b>Topic 29</b><br>Words: graphene, composites, rubber, platelets, ceram"
         ],
         "marker": {
          "color": "#56B4E9"
         },
         "mode": "lines",
         "name": "29_graphene_membranes_fullerene_membrane",
         "type": "scatter",
         "x": [
          "1994-11-10T10:04:48",
          "2003-01-29T18:14:24",
          "2005-10-26T12:57:36",
          "2008-07-23T07:40:48",
          "2011-04-20T02:24:00",
          "2016-10-11T15:50:24",
          "2019-07-09T10:33:36",
          "2022-04-05T05:16:48"
         ],
         "y": [
          1,
          3,
          1,
          1,
          2,
          22,
          2,
          3
         ]
        }
       ],
       "layout": {
        "height": 450,
        "hoverlabel": {
         "bgcolor": "white",
         "font": {
          "family": "Rockwell",
          "size": 16
         }
        },
        "legend": {
         "title": {
          "text": "<b>Global Topic Representation"
         }
        },
        "template": {
         "data": {
          "bar": [
           {
            "error_x": {
             "color": "rgb(36,36,36)"
            },
            "error_y": {
             "color": "rgb(36,36,36)"
            },
            "marker": {
             "line": {
              "color": "white",
              "width": 0.5
             },
             "pattern": {
              "fillmode": "overlay",
              "size": 10,
              "solidity": 0.2
             }
            },
            "type": "bar"
           }
          ],
          "barpolar": [
           {
            "marker": {
             "line": {
              "color": "white",
              "width": 0.5
             },
             "pattern": {
              "fillmode": "overlay",
              "size": 10,
              "solidity": 0.2
             }
            },
            "type": "barpolar"
           }
          ],
          "carpet": [
           {
            "aaxis": {
             "endlinecolor": "rgb(36,36,36)",
             "gridcolor": "white",
             "linecolor": "white",
             "minorgridcolor": "white",
             "startlinecolor": "rgb(36,36,36)"
            },
            "baxis": {
             "endlinecolor": "rgb(36,36,36)",
             "gridcolor": "white",
             "linecolor": "white",
             "minorgridcolor": "white",
             "startlinecolor": "rgb(36,36,36)"
            },
            "type": "carpet"
           }
          ],
          "choropleth": [
           {
            "colorbar": {
             "outlinewidth": 1,
             "tickcolor": "rgb(36,36,36)",
             "ticks": "outside"
            },
            "type": "choropleth"
           }
          ],
          "contour": [
           {
            "colorbar": {
             "outlinewidth": 1,
             "tickcolor": "rgb(36,36,36)",
             "ticks": "outside"
            },
            "colorscale": [
             [
              0,
              "#440154"
             ],
             [
              0.1111111111111111,
              "#482878"
             ],
             [
              0.2222222222222222,
              "#3e4989"
             ],
             [
              0.3333333333333333,
              "#31688e"
             ],
             [
              0.4444444444444444,
              "#26828e"
             ],
             [
              0.5555555555555556,
              "#1f9e89"
             ],
             [
              0.6666666666666666,
              "#35b779"
             ],
             [
              0.7777777777777778,
              "#6ece58"
             ],
             [
              0.8888888888888888,
              "#b5de2b"
             ],
             [
              1,
              "#fde725"
             ]
            ],
            "type": "contour"
           }
          ],
          "contourcarpet": [
           {
            "colorbar": {
             "outlinewidth": 1,
             "tickcolor": "rgb(36,36,36)",
             "ticks": "outside"
            },
            "type": "contourcarpet"
           }
          ],
          "heatmap": [
           {
            "colorbar": {
             "outlinewidth": 1,
             "tickcolor": "rgb(36,36,36)",
             "ticks": "outside"
            },
            "colorscale": [
             [
              0,
              "#440154"
             ],
             [
              0.1111111111111111,
              "#482878"
             ],
             [
              0.2222222222222222,
              "#3e4989"
             ],
             [
              0.3333333333333333,
              "#31688e"
             ],
             [
              0.4444444444444444,
              "#26828e"
             ],
             [
              0.5555555555555556,
              "#1f9e89"
             ],
             [
              0.6666666666666666,
              "#35b779"
             ],
             [
              0.7777777777777778,
              "#6ece58"
             ],
             [
              0.8888888888888888,
              "#b5de2b"
             ],
             [
              1,
              "#fde725"
             ]
            ],
            "type": "heatmap"
           }
          ],
          "heatmapgl": [
           {
            "colorbar": {
             "outlinewidth": 1,
             "tickcolor": "rgb(36,36,36)",
             "ticks": "outside"
            },
            "colorscale": [
             [
              0,
              "#440154"
             ],
             [
              0.1111111111111111,
              "#482878"
             ],
             [
              0.2222222222222222,
              "#3e4989"
             ],
             [
              0.3333333333333333,
              "#31688e"
             ],
             [
              0.4444444444444444,
              "#26828e"
             ],
             [
              0.5555555555555556,
              "#1f9e89"
             ],
             [
              0.6666666666666666,
              "#35b779"
             ],
             [
              0.7777777777777778,
              "#6ece58"
             ],
             [
              0.8888888888888888,
              "#b5de2b"
             ],
             [
              1,
              "#fde725"
             ]
            ],
            "type": "heatmapgl"
           }
          ],
          "histogram": [
           {
            "marker": {
             "line": {
              "color": "white",
              "width": 0.6
             }
            },
            "type": "histogram"
           }
          ],
          "histogram2d": [
           {
            "colorbar": {
             "outlinewidth": 1,
             "tickcolor": "rgb(36,36,36)",
             "ticks": "outside"
            },
            "colorscale": [
             [
              0,
              "#440154"
             ],
             [
              0.1111111111111111,
              "#482878"
             ],
             [
              0.2222222222222222,
              "#3e4989"
             ],
             [
              0.3333333333333333,
              "#31688e"
             ],
             [
              0.4444444444444444,
              "#26828e"
             ],
             [
              0.5555555555555556,
              "#1f9e89"
             ],
             [
              0.6666666666666666,
              "#35b779"
             ],
             [
              0.7777777777777778,
              "#6ece58"
             ],
             [
              0.8888888888888888,
              "#b5de2b"
             ],
             [
              1,
              "#fde725"
             ]
            ],
            "type": "histogram2d"
           }
          ],
          "histogram2dcontour": [
           {
            "colorbar": {
             "outlinewidth": 1,
             "tickcolor": "rgb(36,36,36)",
             "ticks": "outside"
            },
            "colorscale": [
             [
              0,
              "#440154"
             ],
             [
              0.1111111111111111,
              "#482878"
             ],
             [
              0.2222222222222222,
              "#3e4989"
             ],
             [
              0.3333333333333333,
              "#31688e"
             ],
             [
              0.4444444444444444,
              "#26828e"
             ],
             [
              0.5555555555555556,
              "#1f9e89"
             ],
             [
              0.6666666666666666,
              "#35b779"
             ],
             [
              0.7777777777777778,
              "#6ece58"
             ],
             [
              0.8888888888888888,
              "#b5de2b"
             ],
             [
              1,
              "#fde725"
             ]
            ],
            "type": "histogram2dcontour"
           }
          ],
          "mesh3d": [
           {
            "colorbar": {
             "outlinewidth": 1,
             "tickcolor": "rgb(36,36,36)",
             "ticks": "outside"
            },
            "type": "mesh3d"
           }
          ],
          "parcoords": [
           {
            "line": {
             "colorbar": {
              "outlinewidth": 1,
              "tickcolor": "rgb(36,36,36)",
              "ticks": "outside"
             }
            },
            "type": "parcoords"
           }
          ],
          "pie": [
           {
            "automargin": true,
            "type": "pie"
           }
          ],
          "scatter": [
           {
            "fillpattern": {
             "fillmode": "overlay",
             "size": 10,
             "solidity": 0.2
            },
            "type": "scatter"
           }
          ],
          "scatter3d": [
           {
            "line": {
             "colorbar": {
              "outlinewidth": 1,
              "tickcolor": "rgb(36,36,36)",
              "ticks": "outside"
             }
            },
            "marker": {
             "colorbar": {
              "outlinewidth": 1,
              "tickcolor": "rgb(36,36,36)",
              "ticks": "outside"
             }
            },
            "type": "scatter3d"
           }
          ],
          "scattercarpet": [
           {
            "marker": {
             "colorbar": {
              "outlinewidth": 1,
              "tickcolor": "rgb(36,36,36)",
              "ticks": "outside"
             }
            },
            "type": "scattercarpet"
           }
          ],
          "scattergeo": [
           {
            "marker": {
             "colorbar": {
              "outlinewidth": 1,
              "tickcolor": "rgb(36,36,36)",
              "ticks": "outside"
             }
            },
            "type": "scattergeo"
           }
          ],
          "scattergl": [
           {
            "marker": {
             "colorbar": {
              "outlinewidth": 1,
              "tickcolor": "rgb(36,36,36)",
              "ticks": "outside"
             }
            },
            "type": "scattergl"
           }
          ],
          "scattermapbox": [
           {
            "marker": {
             "colorbar": {
              "outlinewidth": 1,
              "tickcolor": "rgb(36,36,36)",
              "ticks": "outside"
             }
            },
            "type": "scattermapbox"
           }
          ],
          "scatterpolar": [
           {
            "marker": {
             "colorbar": {
              "outlinewidth": 1,
              "tickcolor": "rgb(36,36,36)",
              "ticks": "outside"
             }
            },
            "type": "scatterpolar"
           }
          ],
          "scatterpolargl": [
           {
            "marker": {
             "colorbar": {
              "outlinewidth": 1,
              "tickcolor": "rgb(36,36,36)",
              "ticks": "outside"
             }
            },
            "type": "scatterpolargl"
           }
          ],
          "scatterternary": [
           {
            "marker": {
             "colorbar": {
              "outlinewidth": 1,
              "tickcolor": "rgb(36,36,36)",
              "ticks": "outside"
             }
            },
            "type": "scatterternary"
           }
          ],
          "surface": [
           {
            "colorbar": {
             "outlinewidth": 1,
             "tickcolor": "rgb(36,36,36)",
             "ticks": "outside"
            },
            "colorscale": [
             [
              0,
              "#440154"
             ],
             [
              0.1111111111111111,
              "#482878"
             ],
             [
              0.2222222222222222,
              "#3e4989"
             ],
             [
              0.3333333333333333,
              "#31688e"
             ],
             [
              0.4444444444444444,
              "#26828e"
             ],
             [
              0.5555555555555556,
              "#1f9e89"
             ],
             [
              0.6666666666666666,
              "#35b779"
             ],
             [
              0.7777777777777778,
              "#6ece58"
             ],
             [
              0.8888888888888888,
              "#b5de2b"
             ],
             [
              1,
              "#fde725"
             ]
            ],
            "type": "surface"
           }
          ],
          "table": [
           {
            "cells": {
             "fill": {
              "color": "rgb(237,237,237)"
             },
             "line": {
              "color": "white"
             }
            },
            "header": {
             "fill": {
              "color": "rgb(217,217,217)"
             },
             "line": {
              "color": "white"
             }
            },
            "type": "table"
           }
          ]
         },
         "layout": {
          "annotationdefaults": {
           "arrowhead": 0,
           "arrowwidth": 1
          },
          "autotypenumbers": "strict",
          "coloraxis": {
           "colorbar": {
            "outlinewidth": 1,
            "tickcolor": "rgb(36,36,36)",
            "ticks": "outside"
           }
          },
          "colorscale": {
           "diverging": [
            [
             0,
             "rgb(103,0,31)"
            ],
            [
             0.1,
             "rgb(178,24,43)"
            ],
            [
             0.2,
             "rgb(214,96,77)"
            ],
            [
             0.3,
             "rgb(244,165,130)"
            ],
            [
             0.4,
             "rgb(253,219,199)"
            ],
            [
             0.5,
             "rgb(247,247,247)"
            ],
            [
             0.6,
             "rgb(209,229,240)"
            ],
            [
             0.7,
             "rgb(146,197,222)"
            ],
            [
             0.8,
             "rgb(67,147,195)"
            ],
            [
             0.9,
             "rgb(33,102,172)"
            ],
            [
             1,
             "rgb(5,48,97)"
            ]
           ],
           "sequential": [
            [
             0,
             "#440154"
            ],
            [
             0.1111111111111111,
             "#482878"
            ],
            [
             0.2222222222222222,
             "#3e4989"
            ],
            [
             0.3333333333333333,
             "#31688e"
            ],
            [
             0.4444444444444444,
             "#26828e"
            ],
            [
             0.5555555555555556,
             "#1f9e89"
            ],
            [
             0.6666666666666666,
             "#35b779"
            ],
            [
             0.7777777777777778,
             "#6ece58"
            ],
            [
             0.8888888888888888,
             "#b5de2b"
            ],
            [
             1,
             "#fde725"
            ]
           ],
           "sequentialminus": [
            [
             0,
             "#440154"
            ],
            [
             0.1111111111111111,
             "#482878"
            ],
            [
             0.2222222222222222,
             "#3e4989"
            ],
            [
             0.3333333333333333,
             "#31688e"
            ],
            [
             0.4444444444444444,
             "#26828e"
            ],
            [
             0.5555555555555556,
             "#1f9e89"
            ],
            [
             0.6666666666666666,
             "#35b779"
            ],
            [
             0.7777777777777778,
             "#6ece58"
            ],
            [
             0.8888888888888888,
             "#b5de2b"
            ],
            [
             1,
             "#fde725"
            ]
           ]
          },
          "colorway": [
           "#1F77B4",
           "#FF7F0E",
           "#2CA02C",
           "#D62728",
           "#9467BD",
           "#8C564B",
           "#E377C2",
           "#7F7F7F",
           "#BCBD22",
           "#17BECF"
          ],
          "font": {
           "color": "rgb(36,36,36)"
          },
          "geo": {
           "bgcolor": "white",
           "lakecolor": "white",
           "landcolor": "white",
           "showlakes": true,
           "showland": true,
           "subunitcolor": "white"
          },
          "hoverlabel": {
           "align": "left"
          },
          "hovermode": "closest",
          "mapbox": {
           "style": "light"
          },
          "paper_bgcolor": "white",
          "plot_bgcolor": "white",
          "polar": {
           "angularaxis": {
            "gridcolor": "rgb(232,232,232)",
            "linecolor": "rgb(36,36,36)",
            "showgrid": false,
            "showline": true,
            "ticks": "outside"
           },
           "bgcolor": "white",
           "radialaxis": {
            "gridcolor": "rgb(232,232,232)",
            "linecolor": "rgb(36,36,36)",
            "showgrid": false,
            "showline": true,
            "ticks": "outside"
           }
          },
          "scene": {
           "xaxis": {
            "backgroundcolor": "white",
            "gridcolor": "rgb(232,232,232)",
            "gridwidth": 2,
            "linecolor": "rgb(36,36,36)",
            "showbackground": true,
            "showgrid": false,
            "showline": true,
            "ticks": "outside",
            "zeroline": false,
            "zerolinecolor": "rgb(36,36,36)"
           },
           "yaxis": {
            "backgroundcolor": "white",
            "gridcolor": "rgb(232,232,232)",
            "gridwidth": 2,
            "linecolor": "rgb(36,36,36)",
            "showbackground": true,
            "showgrid": false,
            "showline": true,
            "ticks": "outside",
            "zeroline": false,
            "zerolinecolor": "rgb(36,36,36)"
           },
           "zaxis": {
            "backgroundcolor": "white",
            "gridcolor": "rgb(232,232,232)",
            "gridwidth": 2,
            "linecolor": "rgb(36,36,36)",
            "showbackground": true,
            "showgrid": false,
            "showline": true,
            "ticks": "outside",
            "zeroline": false,
            "zerolinecolor": "rgb(36,36,36)"
           }
          },
          "shapedefaults": {
           "fillcolor": "black",
           "line": {
            "width": 0
           },
           "opacity": 0.3
          },
          "ternary": {
           "aaxis": {
            "gridcolor": "rgb(232,232,232)",
            "linecolor": "rgb(36,36,36)",
            "showgrid": false,
            "showline": true,
            "ticks": "outside"
           },
           "baxis": {
            "gridcolor": "rgb(232,232,232)",
            "linecolor": "rgb(36,36,36)",
            "showgrid": false,
            "showline": true,
            "ticks": "outside"
           },
           "bgcolor": "white",
           "caxis": {
            "gridcolor": "rgb(232,232,232)",
            "linecolor": "rgb(36,36,36)",
            "showgrid": false,
            "showline": true,
            "ticks": "outside"
           }
          },
          "title": {
           "x": 0.05
          },
          "xaxis": {
           "automargin": true,
           "gridcolor": "rgb(232,232,232)",
           "linecolor": "rgb(36,36,36)",
           "showgrid": false,
           "showline": true,
           "ticks": "outside",
           "title": {
            "standoff": 15
           },
           "zeroline": false,
           "zerolinecolor": "rgb(36,36,36)"
          },
          "yaxis": {
           "automargin": true,
           "gridcolor": "rgb(232,232,232)",
           "linecolor": "rgb(36,36,36)",
           "showgrid": false,
           "showline": true,
           "ticks": "outside",
           "title": {
            "standoff": 15
           },
           "zeroline": false,
           "zerolinecolor": "rgb(36,36,36)"
          }
         }
        },
        "title": {
         "font": {
          "color": "Black",
          "size": 22
         },
         "text": "Topics over time in Fact and Fiction texts (RSTA)",
         "x": 0.4,
         "xanchor": "center",
         "y": 0.95,
         "yanchor": "top"
        },
        "width": 1250,
        "xaxis": {
         "showgrid": true
        },
        "yaxis": {
         "showgrid": true,
         "title": {
          "text": "Frequency"
         }
        }
       }
      }
     },
     "metadata": {},
     "output_type": "display_data"
    }
   ],
   "source": [
    "#periods rsta\n",
    "import pandas as pd\n",
    "from pathlib import Path\n",
    "from bertopic import BERTopic\n",
    "\n",
    "topic_model = BERTopic(verbose=False)\n",
    "topics, probs = topic_model.fit_transform(a_texts)\n",
    "\n",
    "topics_over_time = topic_model.topics_over_time(a_texts, a_periods, datetime_format=\"%Y-%m-%d\", nr_bins=50)\n",
    "fig6 = topic_model.visualize_topics_over_time(topics_over_time, top_n_topics=30, title=\"Topics over time in Fact and Fiction texts (RSTA)\")\n",
    "fig6.write_html('rsta_topics_over_time_periods_50_30.html')\n",
    "\n",
    "fig6.show()"
   ]
  }
 ],
 "metadata": {
  "kernelspec": {
   "display_name": "Python 3",
   "language": "python",
   "name": "python3"
  },
  "language_info": {
   "codemirror_mode": {
    "name": "ipython",
    "version": 3
   },
   "file_extension": ".py",
   "mimetype": "text/x-python",
   "name": "python",
   "nbconvert_exporter": "python",
   "pygments_lexer": "ipython3",
   "version": "3.9.10"
  }
 },
 "nbformat": 4,
 "nbformat_minor": 2
}
